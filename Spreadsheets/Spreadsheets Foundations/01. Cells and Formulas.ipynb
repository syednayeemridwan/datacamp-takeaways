{
 "cells": [
  {
   "cell_type": "markdown",
   "metadata": {},
   "source": [
    "# Spreadsheets\n"
   ]
  },
  {
   "cell_type": "markdown",
   "metadata": {},
   "source": [
    "- Store tabular data\n",
    "- Data is stored in cell\n",
    "- cell can contain data or calculation method\n",
    "- Cell addresses combine the column and row label\n",
    "- Cell group with range : `A1:A5` will group cells from A1 to Z5"
   ]
  },
  {
   "cell_type": "markdown",
   "metadata": {},
   "source": [
    "# Formulas"
   ]
  },
  {
   "cell_type": "markdown",
   "metadata": {},
   "source": [
    "- Calculate results from other values\n",
    "- Common arithmatic operations: *, /, + and -\n",
    "- formula in a cell: `= formula`. eg: `= A1 * 2`\n",
    "- cannot be: `= A1 / 0`\n",
    "- power: `= 2 ^ 3`\n",
    "- parenthesis can also be used to specify order of operation\n",
    "- Order of operations:\n",
    "    - parenthesis `()`\n",
    "    - power `^`\n",
    "    - multiplication `*` and division `/`\n",
    "- calculate percentage: `= 10 * 19.2%`\n",
    "\n"
   ]
  },
  {
   "cell_type": "markdown",
   "metadata": {},
   "source": [
    "# Cell Data-type"
   ]
  },
  {
   "cell_type": "markdown",
   "metadata": {},
   "source": [
    "- Automatically assigned\n",
    "- Can also be assigned manually\n",
    "- Data types:\n",
    "    - Number : numerical operations\n",
    "    - Plain text : \n",
    "        - Assigned of no other data type is detected  = `Format > Number > Plain Text`\n",
    "        - can also be done with single quote: `' = 1 + 3`\n",
    "    - Currency: \n",
    "        - numeric types\n",
    "        - right aligned\n",
    "    - Logical:\n",
    "        - Case sensitive\n",
    "        - TRUE or FALSE\n",
    "        - Center-aligned\n",
    "        - returned from comparison operators: =, >, <, <> (not equals) etc. eg: `= 1+2 > 5` will return `FALSE`\n"
   ]
  },
  {
   "cell_type": "markdown",
   "metadata": {},
   "source": [
    "# Adding decimal places"
   ]
  },
  {
   "cell_type": "markdown",
   "metadata": {},
   "source": [
    "<center><img src=\"images/01.jpg\"  style=\"width: 400px, height: 300px;\"/></center>"
   ]
  }
 ],
 "metadata": {
  "kernelspec": {
   "display_name": "Python 3.8.11 ('env_py')",
   "language": "python",
   "name": "python3"
  },
  "language_info": {
   "name": "python",
   "version": "3.8.11"
  },
  "orig_nbformat": 4,
  "vscode": {
   "interpreter": {
    "hash": "1e949e87132dd83f1a7623eb88007e3532b03b66b77111be347aa4a383049722"
   }
  }
 },
 "nbformat": 4,
 "nbformat_minor": 2
}
