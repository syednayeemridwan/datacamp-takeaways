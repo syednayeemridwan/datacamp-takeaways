{
 "cells": [
  {
   "cell_type": "markdown",
   "metadata": {},
   "source": [
    "# Cell Reference"
   ]
  },
  {
   "cell_type": "markdown",
   "metadata": {},
   "source": [
    "- Referencing the value in other cells: `= A4`\n",
    "- updates in real time\n",
    "- Cannot refer to itself (Circular dependency): `# Ref` with no value returned= Circular reference\n",
    "- Can be copied vertically or horizontally\n",
    "- Use with calculations: `= A3*100 + B3`\n"
   ]
  },
  {
   "cell_type": "markdown",
   "metadata": {},
   "source": [
    "# Absolute Reference"
   ]
  },
  {
   "cell_type": "markdown",
   "metadata": {},
   "source": [
    "- Does not change when extended / copied\n",
    "- Range remains constant in any way used\n",
    "- used with `$` when used in address\n",
    "- keep everything in address constant: `= $A$3 + $B$3`\n",
    "- keep only Rows constant in address constant: `= A$3 + B$3` (Lock only rows)\n",
    "- keep only Columns constant in address constant: `= $A3 + $B3` (Lock only columns)"
   ]
  }
 ],
 "metadata": {
  "kernelspec": {
   "display_name": "Python 3.8.11 ('env_py')",
   "language": "python",
   "name": "python3"
  },
  "language_info": {
   "name": "python",
   "version": "3.8.11"
  },
  "orig_nbformat": 4,
  "vscode": {
   "interpreter": {
    "hash": "1e949e87132dd83f1a7623eb88007e3532b03b66b77111be347aa4a383049722"
   }
  }
 },
 "nbformat": 4,
 "nbformat_minor": 2
}
