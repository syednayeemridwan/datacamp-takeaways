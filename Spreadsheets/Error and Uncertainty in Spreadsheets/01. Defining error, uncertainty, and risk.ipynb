{
 "cells": [
  {
   "cell_type": "markdown",
   "metadata": {},
   "source": [
    "# Errors in statistics"
   ]
  },
  {
   "cell_type": "markdown",
   "metadata": {},
   "source": [
    "- Measures of variation or uncertainty to assess the amount of error\n",
    "- Incorrect conclusion about the data\n",
    "- Why variation:\n",
    "    - Due to chance\n",
    "    - \"Statistical significance\" = unlikely due to random chance\n",
    "- Sampling:\n",
    "    - A group does not always represent the population\n",
    "- Types of errors:\n",
    "    - Type 1:\n",
    "        - False Positive\n",
    "        - A difference appears to be significant, but in reality it isnt\n",
    "        - Due to :\n",
    "            1. Improper sampling, \n",
    "            2. Low data quality, \n",
    "            3. poor experimental design,\n",
    "    - Type 2:\n",
    "        - False Negative\n",
    "        - A difference appears not to be significant, but in reality it is\n",
    "        - Due to :\n",
    "            1. Small sample size\n",
    "            2. Large variation in data\n",
    "            3. Poor Data collection / measurement"
   ]
  },
  {
   "cell_type": "markdown",
   "metadata": {},
   "source": [
    "# Measures of central tendency"
   ]
  },
  {
   "cell_type": "markdown",
   "metadata": {},
   "source": [
    "- Mean  : \n",
    "    - `=AVERAGE()`\n",
    "    - average\n",
    "- Median : \n",
    "    - `=MEDIAN()`\n",
    "    - midpoint\n",
    "- Mode : \n",
    "    - `=MODE()`\n",
    "    - most frequent value\n",
    "- Standard Deviation:\n",
    "    - `=STDEV()`\n",
    "    - average distance from the average value\n",
    "    - gives us the idea how much the data vary"
   ]
  },
  {
   "cell_type": "markdown",
   "metadata": {},
   "source": [
    "# Grouping Functions"
   ]
  },
  {
   "cell_type": "markdown",
   "metadata": {},
   "source": [
    "- `UNIQUE()`:\n",
    "    - Returns distinct values in the column\n",
    "    - `=UNIQUE(C:C)`\n",
    "- `COUNTIF()`\n",
    "    - Returns the count of unique values in a column\n",
    "    - `=COUNTIF(C:C, G2)`\n",
    "    - `=COUNTIF(C:C, \">2000\")`\n",
    "- Groupwise summary functions:\n",
    "    - `AVERAGEIF` , `SUMIF`\n",
    "    - `=FUNCIF(C:C, A3, D:D)` [Do the average or sum on D column only for those rows matching A3 values in C column]\n",
    "- `COUNTIFS()`\n",
    "    - Returns the count of all the happennings\n",
    "    - `=COUNTIFS(C:C, G2,B:B,\">2000\")`\n",
    "    - AND condition\n",
    "- `AVERAGEIFS()`\n",
    "    - Returns the count of all the happennings\n",
    "    - `=AND(A:A, C:C, G2,B:B,\">2000\")`\n",
    "    - AND condition, then average the final corresponding rows"
   ]
  },
  {
   "cell_type": "markdown",
   "metadata": {},
   "source": [
    "# Correlation"
   ]
  },
  {
   "cell_type": "markdown",
   "metadata": {},
   "source": [
    "- Relation between 2 groups / variables\n",
    "- quantified by r (-1 to +1)\n",
    "- Positive : Increase / decrease together\n",
    "- Negative : Opposite Increase / decrease\n",
    "- Zero : No relationship\n",
    "- `=CORREL(G:G,H:H)`\n",
    "- Correlation types:\n",
    "    1. Weak : -0.3 to +0.3\n",
    "    2. Moderate : -0.3 to -0.7 or +0.3 to +0.7\n",
    "    3. Strong: -0.7 to -1 or +0.7 to +1\n",
    "- Problems : Correlation does not refer causation\n",
    "- Correlation indicates some relationship between 2 variables. But does not mean one variable cause the change of other variable "
   ]
  }
 ],
 "metadata": {
  "kernelspec": {
   "display_name": "Python 3.8.11 ('env_py')",
   "language": "python",
   "name": "python3"
  },
  "language_info": {
   "name": "python",
   "version": "3.8.11"
  },
  "orig_nbformat": 4,
  "vscode": {
   "interpreter": {
    "hash": "1e949e87132dd83f1a7623eb88007e3532b03b66b77111be347aa4a383049722"
   }
  }
 },
 "nbformat": 4,
 "nbformat_minor": 2
}
