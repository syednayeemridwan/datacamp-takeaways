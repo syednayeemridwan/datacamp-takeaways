{
 "cells": [
  {
   "cell_type": "markdown",
   "metadata": {},
   "source": [
    "# SUMIF"
   ]
  },
  {
   "cell_type": "markdown",
   "metadata": {},
   "source": [
    "- `=SUMIF(DATA_RANGE, COL_RANGE > VAL, SUM_COL)`\n",
    "- `=SUMIF($B$2:$B$848,H8,$F$2:$F$848)`"
   ]
  },
  {
   "cell_type": "markdown",
   "metadata": {},
   "source": [
    "# Spreadsheet time"
   ]
  },
  {
   "cell_type": "markdown",
   "metadata": {},
   "source": [
    "- 0 corresponds to midnight\n",
    "- 1 corresponds to last second of day (11:59:59)\n",
    "- each time can be represented in decimal: \n",
    "    - 11:04:06 AM = 0.4611805\n",
    "    - noon = 0.5\n",
    "- calculating percentages: amount/ total\n",
    "\n"
   ]
  },
  {
   "cell_type": "markdown",
   "metadata": {},
   "source": [
    "# DATE"
   ]
  },
  {
   "cell_type": "markdown",
   "metadata": {},
   "source": [
    "- `=DATE(A2)`"
   ]
  },
  {
   "cell_type": "markdown",
   "metadata": {},
   "source": [
    "# Filter"
   ]
  },
  {
   "cell_type": "markdown",
   "metadata": {},
   "source": [
    "- `= FILTER(A2:B10, A2:A10 > 10)`"
   ]
  },
  {
   "cell_type": "markdown",
   "metadata": {},
   "source": [
    "# T.TEST()"
   ]
  },
  {
   "cell_type": "markdown",
   "metadata": {},
   "source": [
    "- Checks if the difference between the mean of 2 groups is significant\n",
    "- group-1 = before range\n",
    "- group-2 = after range\n",
    "- tail-1 = mean of one group is only greater or less than the other\n",
    "- tail-2 = mean of one group is either greater or less than the other\n",
    "- type-1 = same samples/ pair test (pre and post test)\n",
    "- type-2 = differet samples same variance\n",
    "- type-3 = differet samples different variance"
   ]
  },
  {
   "cell_type": "markdown",
   "metadata": {},
   "source": [
    "# MAXIFS"
   ]
  },
  {
   "cell_type": "markdown",
   "metadata": {},
   "source": [
    "- You can perform t-test with max instead of mean as well\n"
   ]
  },
  {
   "cell_type": "markdown",
   "metadata": {},
   "source": [
    "# CORREL"
   ]
  },
  {
   "cell_type": "markdown",
   "metadata": {},
   "source": [
    "- `=CORREL(A:A,B:B)`\n",
    "- Relationships:\n",
    "    - Negative\n",
    "    - Positive\n",
    "- Strength:\n",
    "    - Weak\n",
    "    - Moderate\n",
    "    - Strong"
   ]
  },
  {
   "cell_type": "markdown",
   "metadata": {},
   "source": [
    "# RANDBETWEEN"
   ]
  },
  {
   "cell_type": "markdown",
   "metadata": {},
   "source": [
    "- `=RANDBETWEEN(-2,2)`\n",
    "- generates only integers between -2 and 2"
   ]
  },
  {
   "cell_type": "markdown",
   "metadata": {},
   "source": [
    "# SPARKLINES"
   ]
  },
  {
   "cell_type": "markdown",
   "metadata": {},
   "source": [
    "- Graphical representation of data in a single cell\n",
    "- charttype option = what type of plots to create\n",
    "- max option = upper limit of scale to use in plot\n",
    "- multiple options are separated by ;\n",
    "- options are provided inside {}"
   ]
  }
 ],
 "metadata": {
  "kernelspec": {
   "display_name": "Python 3.8.11 ('env_py')",
   "language": "python",
   "name": "python3"
  },
  "language_info": {
   "name": "python",
   "version": "3.8.11"
  },
  "orig_nbformat": 4,
  "vscode": {
   "interpreter": {
    "hash": "1e949e87132dd83f1a7623eb88007e3532b03b66b77111be347aa4a383049722"
   }
  }
 },
 "nbformat": 4,
 "nbformat_minor": 2
}
