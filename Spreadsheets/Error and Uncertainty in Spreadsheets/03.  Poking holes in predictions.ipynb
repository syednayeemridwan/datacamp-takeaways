{
 "cells": [
  {
   "cell_type": "markdown",
   "metadata": {},
   "source": [
    "# Outliers"
   ]
  },
  {
   "cell_type": "markdown",
   "metadata": {},
   "source": [
    "- Risk : \n",
    "    - likelihood  : How frequent the event occurs. eg: Earthquake occurs frequently\n",
    "    - consequences : Severity of the event occuriring. eg: Earthquake has disastrous consequences\n",
    "- outliers: \n",
    "    - outside of normal range\n",
    "    - low likelihood\n",
    "    - significant impact\n",
    "    - skew the data\n",
    "    - use `SORT()` to detect values outside range:\n",
    "        - `=SORT(table_range, sort_by_column_range, is_ascending)`\n",
    "    - use `FILTER()` to remove outliers: \n",
    "        - `=FILTER(table_range, column_range > 500)`\n",
    "        - `=FILTER(A2:E460,E2:E460<6)`"
   ]
  },
  {
   "cell_type": "markdown",
   "metadata": {},
   "source": [
    "# Sparklines"
   ]
  },
  {
   "cell_type": "markdown",
   "metadata": {},
   "source": [
    "- line graphs within a single cell\n",
    "- for quick plot\n",
    "- to assess risk\n",
    "- `=SPARKLINE(cell, options {\"charttype\" : (\"bar\", \"line\", \"column\"); \"max\" : (upper_limit)})`\n",
    "- example: `=SPARKLINE(J7,{\"charttype\",\"bar\";\"max\",1})`"
   ]
  },
  {
   "cell_type": "markdown",
   "metadata": {},
   "source": [
    "# What are the odds?"
   ]
  },
  {
   "cell_type": "markdown",
   "metadata": {},
   "source": [
    "- The chance to win a powerball or lottery: 1/11000000\n",
    "- the chance to get stuck by lightning: 1/3000\n",
    "- it is easier to get stuck by lightning than winning a powerball\n",
    "- consequence = actual incidents (forecasting / prediction)\n",
    "- likelihood = crash frequency (probability: x/total)\n",
    "- risk = likelihood * consequence"
   ]
  },
  {
   "cell_type": "markdown",
   "metadata": {},
   "source": [
    "# Noise"
   ]
  },
  {
   "cell_type": "markdown",
   "metadata": {},
   "source": [
    "- unexpected variation in data\n",
    "- How good is the prediction? \n",
    "    - introduce noise to the dataset\n",
    "    - multiply data with small randomized number `RANDBETWEEN(-100,100)/50` is a small and good choice \n",
    "    - challenge : results change with refresh since random number also changes\n",
    "    - solution : keep the value from formula and paste it to other cell to use that solid value\n",
    "    - Formula of adjusted risk data: `=MAX((random_val_multiplier * risk) + risk)`\n",
    "    - MAX is used to avoid skewing the data\n"
   ]
  },
  {
   "cell_type": "markdown",
   "metadata": {},
   "source": [
    "# Framing Effect"
   ]
  },
  {
   "cell_type": "markdown",
   "metadata": {},
   "source": [
    "- Noise created by our psychological evaluation\n",
    "- Perceived risk differently when facing same odds presented in different ways\n",
    "    - choice is in play"
   ]
  },
  {
   "cell_type": "markdown",
   "metadata": {},
   "source": [
    "<center><img src=\"images/01.jpg\"  style=\"width: 400px, height: 300px;\"/></center>\n",
    "<center><img src=\"images/02.jpg\"  style=\"width: 400px, height: 300px;\"/></center>"
   ]
  },
  {
   "cell_type": "markdown",
   "metadata": {},
   "source": [
    "- Result : Both show same risk probability\n",
    "- Suggest: \n",
    "    - We are loss averse with money or resource of any kind\n",
    "    - psychologically how we act on risk\n"
   ]
  }
 ],
 "metadata": {
  "kernelspec": {
   "display_name": "Python 3.8.11 ('env_py')",
   "language": "python",
   "name": "python3"
  },
  "language_info": {
   "name": "python",
   "version": "3.8.11"
  },
  "orig_nbformat": 4,
  "vscode": {
   "interpreter": {
    "hash": "1e949e87132dd83f1a7623eb88007e3532b03b66b77111be347aa4a383049722"
   }
  }
 },
 "nbformat": 4,
 "nbformat_minor": 2
}
