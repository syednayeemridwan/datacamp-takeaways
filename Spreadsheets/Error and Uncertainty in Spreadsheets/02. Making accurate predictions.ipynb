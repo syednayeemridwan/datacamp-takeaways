{
 "cells": [
  {
   "cell_type": "markdown",
   "metadata": {},
   "source": [
    "# Making prediction"
   ]
  },
  {
   "cell_type": "markdown",
   "metadata": {},
   "source": [
    "- Best prediction when data from future closely remebles the past\n",
    "- Weighted averages:\n",
    "    - used when we have interim measures that lead to final summary statistics\n",
    "    - weights are adjustable\n",
    "    - put weights to put more emphasis on a measure of a variable (increase relative importance on one factor / variable)\n",
    "    - Simple to compute\n",
    "    - We need linked measures (eg: grade calculation using Student term exam results )\n",
    "    - Bad at generalizing unrelated data (eg: final grade cannot be measured by looking at absence count )\n",
    "    - Formula: `= AVERAGE.WEIGHTED(RANGE, WEIGHTS_THAT_MAKE_100)`\n",
    "        - eg: `= AVERAGE.WEIGHTED(B2:C2, $F$2:$G$2)`\n",
    "- Linear models:\n",
    "    - Lines of best fit\n",
    "    - goal : find algebric relationships between variables\n",
    "    - Reasonable predictions from novel data\n",
    "    - Oversimplify relationships (parents education may affect the student's result, this is a complex relationship that cannot be realised with a simple line)\n",
    "    - Simple to generalize\n",
    "    - predict un-observed values using other measures\n",
    "    - Dependent Variable : Outcome (Y)\n",
    "    - Independent Variable : Cause changes (X)\n",
    "    - Formula: `FORECAST()` function\n",
    "        - eg: `= FORECAST(B2, Y_RANGE, X_RANGE)`\n",
    "\n"
   ]
  },
  {
   "cell_type": "markdown",
   "metadata": {},
   "source": [
    "# Comparing Predictions"
   ]
  },
  {
   "cell_type": "markdown",
   "metadata": {},
   "source": [
    "- Difference between prediction and real outcome\n",
    "- deviation : `prediction - observation`\n",
    "- Absolute deviation : `=ABS(prediction - observation)`\n",
    "- Mean absolute deviation : `=AVERAGE(ABS(prediction - observation))`\n",
    "- lower deviation = better prediction"
   ]
  },
  {
   "cell_type": "markdown",
   "metadata": {},
   "source": [
    "# Statistical Significant"
   ]
  },
  {
   "cell_type": "markdown",
   "metadata": {},
   "source": [
    "- Measure confidence level (probability due to chance)\n",
    "- Whether the differences in 2 groups is not due to random chance\n",
    "- The chance of producing the difference is 5% or less (<5%)\n",
    "- `T.TEST()`:\n",
    "    - computes that the difference is significant\n",
    "    - `=T.TEST(Group_1_range,Group_2_range,tails, type_of_test)`\n",
    "    - 1 tail t-test: 1 group is higher or lower than the other (1 direction)\n",
    "    - 2 tail t-test: 1 group is either higher or lower than the other (2 direction)\n",
    "    - type-1 : paired samples (pre and pro test. same samples after some dosage)\n",
    "    - type-2 : two sample (equal variance)\n",
    "    - type-3 : two sample (unequal variance)\n",
    "    - result <= 0.05 is significant"
   ]
  }
 ],
 "metadata": {
  "kernelspec": {
   "display_name": "Python 3.8.11 ('env_py')",
   "language": "python",
   "name": "python3"
  },
  "language_info": {
   "name": "python",
   "version": "3.8.11"
  },
  "orig_nbformat": 4,
  "vscode": {
   "interpreter": {
    "hash": "1e949e87132dd83f1a7623eb88007e3532b03b66b77111be347aa4a383049722"
   }
  }
 },
 "nbformat": 4,
 "nbformat_minor": 2
}
