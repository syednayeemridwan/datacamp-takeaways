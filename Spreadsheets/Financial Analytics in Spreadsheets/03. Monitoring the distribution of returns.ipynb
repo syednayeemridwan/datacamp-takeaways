{
 "cells": [
  {
   "cell_type": "markdown",
   "metadata": {},
   "source": [
    "# Empirical Distribution"
   ]
  },
  {
   "cell_type": "markdown",
   "metadata": {},
   "source": [
    "- frequency of past returns within specific intervals\n",
    "- example : how many times were returns > 5%\n",
    "- best way to visualize this : Histogram\n",
    "- Bins : \n",
    "    - Divide the time interval into smaller parts. \n",
    "    - Each part is a bin. Each bin holds a percentage of distribution\n",
    "- Range formula : `=MAX(return_range) - MIN(return_range)`\n",
    "- Width of each bin, `bin_width`: `=(MAX(return_range) - MIN(return_range))/(bin_size - 1)`\n",
    "- 1st bin lower bound = min_val\n",
    "- 1st bin upper bound = min_val + bin_width\n",
    "- 2nd bin lower bound = 1st bin upper bound\n",
    "- 2nd bin upper bound = 2nd bin lower bound + bin_width\n",
    "-\n",
    "-\n",
    "-\n",
    "-\n",
    "- Frequency of each bin = height of bar for that bin : How many counts for each bin interval\n",
    "- frequency calculation formula : \n",
    "    - `=COUNTIFS(return_range, \">=\"&lower_bound_cell , return_range,\"<=\"&upper_bound_cell)`\n",
    "    - create a column with this formula\n",
    "    - `Insert` > `Chart` > `Chart Type` > `Column`\n"
   ]
  },
  {
   "cell_type": "markdown",
   "metadata": {},
   "source": [
    "# Relative Frequency"
   ]
  },
  {
   "cell_type": "markdown",
   "metadata": {},
   "source": [
    "- formula : `frequency / total_no_of_returns`\n",
    "- can be interpreted as probability\n",
    "- while frequency is an absolute number, the retive frequency is a percentage\n",
    "- can be compared with a theoretical model\n",
    "- does not change shape of histogram"
   ]
  },
  {
   "cell_type": "markdown",
   "metadata": {},
   "source": [
    "# Gaussian Model"
   ]
  },
  {
   "cell_type": "markdown",
   "metadata": {},
   "source": [
    "- Simulation of reality to forecast based on past data\n",
    "- Gaussian model = normal model (based on normal distribution)\n",
    "- visualized in bar plot\n",
    "- each bar is a bin\n",
    "- bar height = probability of return in a bin\n",
    "- Always use lower bound on x-axis label\n",
    "<center><img src=\"images/02.jpg\"  style=\"width: 400px, height: 300px;\"/></center>\n",
    "- when barplot is replaced by a continuous line, it is called density curve.\n",
    "<center><img src=\"images/03.jpg\"  style=\"width: 400px, height: 300px;\"/></center>\n",
    "\n",
    "- bar height in this case is replaced with density value (but it is not a probability)\n",
    "    - probability is area under the curve from `- infinity` to the `density vertical line`\n",
    "- formula: \n",
    "    - point's density value : `=NORMDIST(some_val_on_x_axis, mean, std, FALSE)`\n",
    "    - point's probability : `=NORMDIST(some_val_on_x_axis, mean, std, TRUE)`\n",
    "    - bin's probability : `=NORMDIST(upper_bound, mean, std, TRUE) - NORMDIST(lower_bound, mean, std, TRUE)`\n",
    "    - changing `mean` = shifting the model\n",
    "    - changing `std` = making the model tall or flat"
   ]
  },
  {
   "cell_type": "markdown",
   "metadata": {},
   "source": [
    "# Calibration of gaussian model"
   ]
  },
  {
   "cell_type": "markdown",
   "metadata": {},
   "source": [
    "- use mean as average return\n",
    "- use std as volatility\n",
    "- this is called ad-hoc calibration\n",
    "- use:\n",
    "    - forecast positive and negative returns\n",
    "    - see full distribution of returns compared to ideal distribution\n",
    "    - compute 5% value at risk (Formula: `=NORMINV(0.05, average_return, volatility)`)\n",
    "        - means 5% of the curve (`NORMINV`) is below the probability (`NORMDIST`)\n",
    "<center><img src=\"images/05.jpg\"  style=\"width: 400px, height: 300px;\"/></center>\n",
    "\n",
    "    \n",
    "- Creation:\n",
    "    - `Insert`\n",
    "    - `Chart`\n",
    "    - `Chart Editor` > `Setup` Tab\n",
    "    - `Chart Type` > `Column` chart\n",
    "    - Add new `series` with header "
   ]
  },
  {
   "cell_type": "markdown",
   "metadata": {},
   "source": [
    "# Limitation of gaussian model"
   ]
  },
  {
   "cell_type": "markdown",
   "metadata": {},
   "source": [
    "- returns are not symmetric\n",
    "    - solution: measure asymmetry with skewness co-efficient\n",
    "    - formula: `=SKEW(col_range)`\n",
    "    - skewness = 0 : symmetric\n",
    "    - skewness < 0 : left-skewed\n",
    "    - skewness > 0 : right-skewed\n",
    "- extreme values are not captured (positive or negative large values)\n",
    "    - solution: measure extremes with kurtosis co-efficient\n",
    "    - formula: `=KURT(col_range)` [It computes excess kurtosis]\n",
    "    - kurtosis = 3 : normal\n",
    "    - kurtosis > 3 : more extreme values present\n",
    "    - kurtosis < 3 : less extreme values present\n",
    "    - Excess kurtosis = kurtosis - 3 = positive = fatter tails (more outliers)\n",
    "    "
   ]
  }
 ],
 "metadata": {
  "kernelspec": {
   "display_name": "Python 3.8.11 ('env_py')",
   "language": "python",
   "name": "python3"
  },
  "language_info": {
   "name": "python",
   "version": "3.8.11"
  },
  "orig_nbformat": 4,
  "vscode": {
   "interpreter": {
    "hash": "1e949e87132dd83f1a7623eb88007e3532b03b66b77111be347aa4a383049722"
   }
  }
 },
 "nbformat": 4,
 "nbformat_minor": 2
}
