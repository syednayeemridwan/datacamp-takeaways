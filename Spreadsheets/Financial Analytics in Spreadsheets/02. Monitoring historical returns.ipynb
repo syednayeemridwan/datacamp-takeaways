{
 "cells": [
  {
   "cell_type": "markdown",
   "metadata": {},
   "source": [
    "# Return"
   ]
  },
  {
   "cell_type": "markdown",
   "metadata": {},
   "source": [
    "- Amount of money you make on an investment\n",
    "- 2 types:\n",
    "    1. Dollar return: `Final value + Dividend - Initial Value`\n",
    "    2. Percentage return: `Dollar return / Initial Value` (use `=TO_PERCENT(A1)`)\n",
    "- Calculated in frequency : Yearly, monthly etc\n",
    "- Commonly calculation frequency : Yearly\n",
    "- `Monthly return = yearly return / 12`"
   ]
  },
  {
   "cell_type": "markdown",
   "metadata": {},
   "source": [
    "# Effective rate of return"
   ]
  },
  {
   "cell_type": "markdown",
   "metadata": {},
   "source": [
    "- Overall return on an investment after any period of time\n",
    "- Effective Return Formula: `=[(1+return_1) ... (1+return_n)]^(1/n) - 1 `\n",
    "- return is in percentage\n",
    "- Example:\n",
    "    - first month investment $100, final amount $150 = return 50% (profit $50)\n",
    "    - second month investment $150, final amount $75 = return -50% (loss $75)\n",
    "    - You have $75 left\n",
    "    - effective rate of return = formula applied = -13.4%\n",
    "- Formula : \n",
    "    1. Create a column with formula: `=(1+percent_return)`\n",
    "    2. Inside a ne cell at the end: `=PRODUCT(new_col_range)^(1/COUNT(new_col_range)) - 1`\n",
    "- FORMULA 2:\n",
    "    - DIRECTLY USE: `=ARRAYFORMULA(PRODUCT(1+D3:D62)^(1/COUNT(D3:D62))-1)`\n",
    "- FORMULA 3:\n",
    "    - DIRECTLY USE: `=ARRAYFORMULA(GEOMEAN(1+D3:D62)-1)`\n"
   ]
  },
  {
   "cell_type": "markdown",
   "metadata": {},
   "source": [
    "# Expected return"
   ]
  },
  {
   "cell_type": "markdown",
   "metadata": {},
   "source": [
    "- Average return on an investment\n",
    "- Does not take compounding into account\n",
    "- Formula: `(return_1 + return_2 + ... + return_n)/n`\n",
    "- Example:\n",
    "    - first month investment $100, final amount $150 = return 50% (profit $50)\n",
    "    - second month investment $150, final amount $75 = return -50% (loss $75)\n",
    "    - You have $75 left\n",
    "    - expected return = formula applied = 0%\n",
    "    - why is it not same as effective return?\n",
    "    - why is the $25 loss not calculated in the expected return? Answer : Does not take compounding into account\n",
    "- In order to realise this, never compound your investment. Keep the investment constant in each month.\n",
    "- Formula: `=AVERAGE(A2:A10)`\n"
   ]
  },
  {
   "cell_type": "markdown",
   "metadata": {},
   "source": [
    "# Risk Metric : Volatility"
   ]
  },
  {
   "cell_type": "markdown",
   "metadata": {},
   "source": [
    "- Standard deviation of return\n",
    "- higher volatility = higher risk\n",
    "\n",
    "- Formula : `root[{(return_1 - average_return)^2 + (return_2 - average_return)^2+ ...+ (return_n - average_return)^2} / (n-1) ]`\n",
    "    - normally `average_return` value is 0\n",
    "- Quick calculation: `=STDEV(range_of_percent_return_column)`\n",
    "- Another formula:\n",
    "    - `=SQRT(ARRAYFORMULA(SUM((D3:D62-G2)^2)/(COUNT(D3:D62)-1)))`\n"
   ]
  },
  {
   "cell_type": "markdown",
   "metadata": {},
   "source": [
    "# Risk Metric : value-at-risk (VaR)\n"
   ]
  },
  {
   "cell_type": "markdown",
   "metadata": {},
   "source": [
    "- Indicator of major historical losses\n",
    "- Obtained as a low-level percentile of past return\n",
    "- Used to detect n-th percent worse case scenario\n",
    "- formula: `=PERCENTILE(range_of_percent_return_column,0.05)`\n",
    "<center><img src=\"images/01.jpg\"  style=\"width: 400px, height: 300px;\"/></center>"
   ]
  },
  {
   "cell_type": "markdown",
   "metadata": {},
   "source": [
    "# Risk adjusted metric : Sharpe Ratio"
   ]
  },
  {
   "cell_type": "markdown",
   "metadata": {},
   "source": [
    "- Excess reward divided by volatility\n",
    "- Formula : `(effective_rate_of_return - risk_free_rate) / volatility`\n",
    "    - `risk_free_rate` = Interest rate of US treasury bill\n",
    "- the larger the ratio = the better the investment\n",
    "- It is penalized by high volatility\n"
   ]
  },
  {
   "cell_type": "markdown",
   "metadata": {},
   "source": [
    "# Below Average Return Metric : Semi-deviation"
   ]
  },
  {
   "cell_type": "markdown",
   "metadata": {},
   "source": [
    "- Measurement of dispersion (deviation) of below average return\n",
    "- calculation is quite similar to volatility\n",
    "- Consider counting the return periods where return < average return\n",
    "- formula : `root[{(return_1 - average_return)^2 + (return_2 - average_return)^2+ ...+ (return_n - average_return)^2} / (n-1) ]`\n",
    "    - `return_1` etc are historical returns below average return\n",
    "- Sortino ratio : \n",
    "    - we replace volatility in sharpe ratio with semi-deviation. \n",
    "    - formula : `(effective_rate_of_return - risk_free_rate) / semi-deviation`"
   ]
  },
  {
   "cell_type": "markdown",
   "metadata": {},
   "source": [
    "# TIPS"
   ]
  },
  {
   "cell_type": "markdown",
   "metadata": {},
   "source": [
    "- Using `ARRAYFORMULA` helps to reduce creating a new column for calculations\n",
    "- In condition, while writing `\"<E3\"` do it like this: `\"<\"&E3`"
   ]
  }
 ],
 "metadata": {
  "kernelspec": {
   "display_name": "Python 3.8.11 ('env_py')",
   "language": "python",
   "name": "python3"
  },
  "language_info": {
   "name": "python",
   "version": "3.8.11"
  },
  "orig_nbformat": 4,
  "vscode": {
   "interpreter": {
    "hash": "1e949e87132dd83f1a7623eb88007e3532b03b66b77111be347aa4a383049722"
   }
  }
 },
 "nbformat": 4,
 "nbformat_minor": 2
}
