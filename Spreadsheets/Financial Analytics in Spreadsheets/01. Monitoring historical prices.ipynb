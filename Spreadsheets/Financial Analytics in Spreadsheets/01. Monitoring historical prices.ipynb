{
 "cells": [
  {
   "cell_type": "markdown",
   "metadata": {},
   "source": [
    "# Financial Analytics"
   ]
  },
  {
   "cell_type": "markdown",
   "metadata": {},
   "source": [
    "- People Manage funds in stocks\n",
    "- Stock price changes based on supply and demand\n",
    "- Shareholders sometimes get dividends\n",
    "- works with time-series data\n",
    "- more data = more accurate result\n",
    "- price variation indicators: minimum and maximum\n",
    "- 4 panels in stock analytics\n",
    "    1. Price Panel\n",
    "    2. Return Panel (Reward and Risk Indicator)\n",
    "    3. Distribution Panel (Probability Distribution)\n",
    "    4. Benchmarking Panel (Compare the stock with a benchmark)\n",
    "- Commonly used functions:\n",
    "    - `COUNT(numeric_col_range_only)`\n",
    "    - `MIN(numeric_col_range_only)`\n",
    "    - `MAX(numeric_col_range_only)`\n",
    "    - `COUNTIFS(some_numeric_col,condition_on_some_col)`\n",
    "    - `MINIFS(numeric_col_range_only,some_numeric_col,condition_on_some_col)`\n",
    "    - `MAXIFS(numeric_col_range_only,some_numeric_col,condition_on_some_col)`\n",
    "\n"
   ]
  },
  {
   "cell_type": "markdown",
   "metadata": {},
   "source": [
    "# Looking up a dataset for a specific key"
   ]
  },
  {
   "cell_type": "markdown",
   "metadata": {},
   "source": [
    "- Look for consequences\n",
    "- VLOOKUP \n",
    "    - `=VLOOKUP(key_to_search, dataset_range, col_no, is_approximate_or_exact)`\n",
    "    - Search key in a dataset\n",
    "    - If a match is found, take the row\n",
    "    - Return the row's cell value at specified column number\n",
    "    - TRUE if approximate value is ok, FALSE otherwise"
   ]
  },
  {
   "cell_type": "markdown",
   "metadata": {},
   "source": [
    "# Visualize Movement"
   ]
  },
  {
   "cell_type": "markdown",
   "metadata": {},
   "source": [
    "- Line Chart\n",
    "- Creation:\n",
    "    - `Insert`\n",
    "    - `Chart`\n",
    "    - `Chart Editor` > `Setup`\n",
    "    - `Chart Type` : `Line Chart`\n",
    "    - `X-axis` : Time column\n",
    "    - `Series` : Other numeric column\n",
    "    -  `Chart Editor` > `Customize` the customize chart settings"
   ]
  }
 ],
 "metadata": {
  "kernelspec": {
   "display_name": "Python 3.8.11 ('env_py')",
   "language": "python",
   "name": "python3"
  },
  "language_info": {
   "name": "python",
   "version": "3.8.11"
  },
  "orig_nbformat": 4,
  "vscode": {
   "interpreter": {
    "hash": "1e949e87132dd83f1a7623eb88007e3532b03b66b77111be347aa4a383049722"
   }
  }
 },
 "nbformat": 4,
 "nbformat_minor": 2
}
