{
 "cells": [
  {
   "cell_type": "markdown",
   "metadata": {},
   "source": [
    "# Benchmarking"
   ]
  },
  {
   "cell_type": "markdown",
   "metadata": {},
   "source": [
    "- Comparing performance with a point of reference\n",
    "- Any investment that has return-risk nature\n",
    "- Must be compared with a same type of basis\n",
    "- example:\n",
    "    - stock A comparing with stock B\n",
    "    - NOT stock A comparing with Bank\n",
    "    - Bank A comparing with Bank B is acceptable\n",
    "\n",
    "- Tells whether the investment is good or bad\n",
    "- Creation:\n",
    "    - create 2 columns (1 column for stock A, 1 column for stock B/Benchmark)\n",
    "    - Put 100$ on both of them as initial investment\n",
    "    - For first row output , compute: `initial_investment*(1+percent_return)` \n",
    "    - For seond row output, compute: `first_row_output*(1+percent_return)` \n",
    "    -\n",
    "    -\n",
    "    - Create a line chart for these 2 columns to visualize their performance\n",
    "\n",
    "- Compute sharpe and sortino ratio for both stocks (you want both to be higher than benchmarks)\n",
    "- maximum drawdown:\n",
    "    - metric of capital preservation\n",
    "    - peak-to-trough decline of value of investment\n",
    "    - also referred as percentage of peak value\n",
    "    - largest of difference between price and peak value measured in percentages in last period\n",
    "    - formula : \n",
    "        1. Create a column of drawdowns :\n",
    "            - `=current_investment/MAX(initial_investment:current_investment)-1`\n",
    "        2. Find the largest negative value of this column : \n",
    "            - `= -MIN(new_col_range)`\n",
    "    - dangerous for capital preservation\n",
    "    - capital preservation : the effort to preserve the capital in constant amount\n",
    "<center><img src=\"images/06.jpg\"  style=\"width: 400px, height: 300px;\"/></center>\n",
    "\n",
    "\n",
    "\n"
   ]
  },
  {
   "cell_type": "markdown",
   "metadata": {},
   "source": [
    "# Correlation Analysis"
   ]
  },
  {
   "cell_type": "markdown",
   "metadata": {},
   "source": [
    "- typically observed during crisis period:\n",
    "    - people sell their assets of stocks\n",
    "    - Increase of supply\n",
    "    - Price go down\n",
    "    - correlation between financial returns go up\n",
    "    - mainly used 1-year rolling window\n",
    "- Relation between co-movements of 2 similar stocks\n",
    "- Quantifies the degree to which 2 variables move together\n",
    "- value within range -1 to 1\n",
    "- positive = move in same direction\n",
    "- negative = move in opposite direction\n",
    "- formula : `=CORREL(col1_range, col2_range)`\n",
    "- formula : `=PEARSON(col1_range, col2_range)`\n",
    "- windowed correlation = same as normal correlation . Just expand the range. the reference will automatically shift."
   ]
  }
 ],
 "metadata": {
  "kernelspec": {
   "display_name": "Python 3.8.11 ('env_py')",
   "language": "python",
   "name": "python3"
  },
  "language_info": {
   "name": "python",
   "version": "3.8.11"
  },
  "orig_nbformat": 4,
  "vscode": {
   "interpreter": {
    "hash": "1e949e87132dd83f1a7623eb88007e3532b03b66b77111be347aa4a383049722"
   }
  }
 },
 "nbformat": 4,
 "nbformat_minor": 2
}
