{
 "cells": [
  {
   "cell_type": "markdown",
   "metadata": {},
   "source": [
    "# Digital Marketing"
   ]
  },
  {
   "cell_type": "markdown",
   "metadata": {},
   "source": [
    "- CTR increase = Good\n",
    "- Cost increase = Good/Bad (Depends on other factors)\n",
    "- Solution : Reference Cost with CTR\n",
    "    = Increase in Cost and Increase in CTR = Good\n",
    "    = Increase in Cost and Decrease in CTR = Bad\n",
    "- Goal Completion : Measured interaction on websites (completing a particular goal)\n",
    "    - submitting an online form\n",
    "    - Purchasing a subscription"
   ]
  },
  {
   "cell_type": "markdown",
   "metadata": {},
   "source": [
    "# Chart Analysis"
   ]
  },
  {
   "cell_type": "markdown",
   "metadata": {},
   "source": [
    "- Line Chart\n",
    "    - Show basic trend for each line\n",
    "    - Great for any number of trends\n",
    "- Area Chart\n",
    "    - Shaded under the curve\n",
    "    - Great for showing relative difference between trends\n",
    "    - Too many trends = Too messy\n",
    "- Stacked Area Chart\n",
    "    - shows aggregate of all trends\n",
    "    - each horizontal line beneath the trend-line shows amount contributed by each trend-line \n",
    "    - Do not use CTR for this chart (Because CTR is average value). It will provide misleading information\n",
    "- Column Chart\n",
    "    - Label on X-axis\n",
    "    - Shows count\n",
    "- Bar Chart\n",
    "    - Label on Y-axis\n",
    "    - Shows count\n",
    "- Stacked Column Chart\n",
    "    - Label on X-axis\n",
    "    - Shows count\n",
    "    - Great for 2 or more metrics\n",
    "- 100% Stacked Bar Chart\n",
    "    - Label on Y-axis\n",
    "    - Shows relative make up of total metrics (percent makeup)\n",
    "    - `Switch rows / Columns` option can be used to see different constructs\n",
    "- Pie Chart\n",
    "    - Beakdown of category of total metric\n",
    "    - percent share of total metric\n",
    "- Donut Chart\n",
    "    - Same as pie chart\n",
    "    - There is a hole in middle\n",
    "    - looks neater in a report\n",
    "- Scatter Chart\n",
    "    - Show relationship between 2 metrics\n",
    "    - each datapoint represent a row/ pair of 2 variables\n",
    "- Bubble Chart\n",
    "    - Scatter chart with a third metric or dimension as weight\n",
    "    - each datapoint represent a row/ tuple of 3 variables\n",
    "- Creation:\n",
    "    - `Insert`\n",
    "    - `Chart` \n",
    "    - `Chart Editor` > `Setup`\n",
    "    - `Chart Type` : Choose the right chart\n",
    "- Add Series : Add new column range with header in series for chart\n",
    "    - Reformat dataset so that a column can be easily added to the chart\n",
    "    <center><img src=\"images/01.jpg\"  style=\"width: 400px, height: 300px;\"/></center>"
   ]
  },
  {
   "cell_type": "markdown",
   "metadata": {},
   "source": [
    "# Dashboard"
   ]
  },
  {
   "cell_type": "markdown",
   "metadata": {},
   "source": [
    "- Used to relay information in timely manner\n",
    "- Relays Basic, easy to understand information\n",
    "- Made up with charts\n",
    "- May contain data-tables\n",
    "- Used for decision making\n"
   ]
  }
 ],
 "metadata": {
  "kernelspec": {
   "display_name": "Python 3.8.11 ('env_py')",
   "language": "python",
   "name": "python3"
  },
  "language_info": {
   "name": "python",
   "version": "3.8.11"
  },
  "orig_nbformat": 4,
  "vscode": {
   "interpreter": {
    "hash": "1e949e87132dd83f1a7623eb88007e3532b03b66b77111be347aa4a383049722"
   }
  }
 },
 "nbformat": 4,
 "nbformat_minor": 2
}
