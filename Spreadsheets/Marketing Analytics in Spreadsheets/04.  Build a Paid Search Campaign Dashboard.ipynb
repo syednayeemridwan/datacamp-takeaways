{
 "cells": [
  {
   "cell_type": "markdown",
   "metadata": {},
   "source": [
    "# Making a Dashboard"
   ]
  },
  {
   "cell_type": "markdown",
   "metadata": {},
   "source": [
    "1. Dropdown with validation\n",
    "    - List from items : Small list (manual entry)\n",
    "    - List from range : Big list (From selected range)\n",
    "2. Filter table with IF from dropdown\n",
    "    - Use REGEXMATCH if necessary\n",
    "3. Aggregate on filtered dataset if necessary\n",
    "4. Add filtered Dataset in the dashboard if necessary\n",
    "5. Make sure to provide cell for user input for more interactivity\n",
    "6. Goal:\n",
    "    - Relay most informative metric (Contains key metric)\n",
    "    - Easy to understand\n",
    "    - Get to the most imoprtant point of key metric\n",
    "7. Too much information in a chart?\n",
    "    - Create dynamic dashboards (Add dropdown validation)\n",
    "    - Create multiple chart if necessary\n",
    "    - Create specified / more focused chart (multiple dropdowns to narrow down dataset)\n"
   ]
  }
 ],
 "metadata": {
  "kernelspec": {
   "display_name": "Python 3.8.11 ('env_py')",
   "language": "python",
   "name": "python3"
  },
  "language_info": {
   "name": "python",
   "version": "3.8.11"
  },
  "orig_nbformat": 4,
  "vscode": {
   "interpreter": {
    "hash": "1e949e87132dd83f1a7623eb88007e3532b03b66b77111be347aa4a383049722"
   }
  }
 },
 "nbformat": 4,
 "nbformat_minor": 2
}
