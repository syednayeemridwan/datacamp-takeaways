{
 "cells": [
  {
   "cell_type": "markdown",
   "metadata": {},
   "source": [
    "# Campaign performance spreadsheet"
   ]
  },
  {
   "cell_type": "markdown",
   "metadata": {},
   "source": [
    "- You want to create spreadsheet for both google and facebook ad campaign performance metric\n",
    "- Common elements to consider\n",
    "    - Entry Date (Date)\n",
    "    - Source of campaign (String)\n",
    "    - Campaign Name (String)\n",
    "    - Impressions (Integer) : Number of times campaign ads were viewed\n",
    "    - Clicks (Integer) : Number of times the ads were clicked\n",
    "    - Click-through rate (Percentage) : percent of impression that result in clicks\n",
    "- Data problem when combining multiple source:\n",
    "    - unclean data entry\n",
    "    - inconsistent names (US vs USA)\n",
    "    - inconsistent date format\n",
    "    - misplacing entries\n",
    "    - Solution : Data Validation \n",
    "        - A set of rules in cells. \n",
    "        - A flag will appear on incorrect entries or that do not meet criteria.\n",
    "        - Validation message for valid cells (optional)\n",
    "        - Invalid message for invalid / Flagged cells\n",
    "        - Explains why the cell is not flagged  "
   ]
  },
  {
   "cell_type": "markdown",
   "metadata": {},
   "source": [
    "# Data Validations"
   ]
  },
  {
   "cell_type": "markdown",
   "metadata": {},
   "source": [
    "- Dropdown\n",
    "    - limit entries\n",
    "    - provide options from a list\n",
    "    - provide options with less way to error\n",
    "    - larger list that is modified too little\n",
    "    - 2 types:\n",
    "        1. List from a range\n",
    "            - option generated automatically from range\n",
    "            - Better for large list\n",
    "        2. List of items\n",
    "            - option generated from manual entries\n",
    "            - Better for short list\n",
    "    - Creation: \n",
    "        - `Data Validation`\n",
    "        - Select desired cell where dropdown should be placed\n",
    "        - Criteria: `List from a range` > Select range of list [List from a range]\n",
    "        - Criteria: `List of items` > Insert manually eg: `item1, item2, item3` [List of items]\n",
    "        - check box `Show dropdown list in cell`\n",
    "        - On invalid data: `Show warning` tick radio\n",
    "        - `Save`\n",
    "\n",
    "- Checkbox:\n",
    "    - for binary validation\n",
    "    - Cell value is based on checkbox status (Selected = True, False otherwise)\n",
    "    - Adds interactivity\n",
    "    - Good for filtering\n",
    "    - Creation:\n",
    "        - `Data Validation`\n",
    "        - Cell Range : selected column range \n",
    "        - Criteria: `Checkbox` \n",
    "        - Tick `Use custom cell values`\n",
    "        - Choose what to show when TRUE or FALSE\n"
   ]
  },
  {
   "cell_type": "markdown",
   "metadata": {},
   "source": [
    "- URL Validation: \n",
    "    - `Data Validation`\n",
    "    - Cell Range : selected column range \n",
    "    - Criteria: `Text` > `is valid url`\n",
    "- Email Validation: \n",
    "    - `Data Validation`\n",
    "    - Cell Range : selected column range \n",
    "    - Criteria: `Text` > `is valid email`\n"
   ]
  }
 ],
 "metadata": {
  "kernelspec": {
   "display_name": "Python 3.8.11 ('env_py')",
   "language": "python",
   "name": "python3"
  },
  "language_info": {
   "name": "python",
   "version": "3.8.11"
  },
  "orig_nbformat": 4,
  "vscode": {
   "interpreter": {
    "hash": "1e949e87132dd83f1a7623eb88007e3532b03b66b77111be347aa4a383049722"
   }
  }
 },
 "nbformat": 4,
 "nbformat_minor": 2
}
