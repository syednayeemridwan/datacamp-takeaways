{
 "cells": [
  {
   "cell_type": "markdown",
   "metadata": {},
   "source": [
    "# Regular Expressions"
   ]
  },
  {
   "cell_type": "markdown",
   "metadata": {},
   "source": [
    "- A special search pattern\n",
    "- Made up of sequence of characters\n",
    "- known as \"regex\"\n",
    "- used for searching in strings\n",
    "- `.*[u|U]sers`\n",
    "    - match any number of characters before the word 'users'\n",
    "    - next is u , which may be either upper or lowercase\n",
    "    - u must occur only once\n",
    "    - finish the word with sers\n",
    "- Wildcards:\n",
    "    - `.` = match any character. eg: `d.g` matches dog and dig\n",
    "    - `*` = matches 0 or more time occurence of previous character. eg: `.*` matces dog, dogs, togs\n",
    "    - `?` = matches 0 or one time occurence of previous character. eg: `dogs?` matches dogs, dog\n",
    "    - `+` = matches 1 or more time occurence of previous character. eg: `dog+` matches dogs, doggy\n",
    "    - `|` = matches either..or operation. eg: `dog|cat` matches either dog or cat\n",
    "    - `\\` = matches escape from regex character meaning. eg: `who\\?` matches who?\n",
    "- Anchors:\n",
    "    - `^x` = matches first character in a string. eg: `^T` matches The dog\n",
    "    - `x$` = matches last character in a string. eg: `d$` matches The end\n",
    "- Groups:\n",
    "    - `[x|X]` = matches x or X. eg: `[u|U]sers` matches users or Users\n",
    "    - `{x}` = matches x number of times. eg: `.{2}` matches first 2 characters Do in Dog\n",
    "    "
   ]
  },
  {
   "cell_type": "markdown",
   "metadata": {},
   "source": [
    "# REGEXMATCH"
   ]
  },
  {
   "cell_type": "markdown",
   "metadata": {},
   "source": [
    "- `=REGEXMATCH(string_to_test, \"regular_expression\")`\n",
    "- returns true or false\n",
    "- used for filtering (with FILTER)\n",
    "- used for aggregating with\n",
    "    - SUM\n",
    "    - AVERAGE\n",
    "- example usage:\n",
    "    - `=FILTER(A2:B20, REGEXMATCH(B2:B20, \".*g$\"))`\n",
    "    - `=AVERAGE (FILTER(A2:A20, REGEXMATCH(B2:B20, \".*g$\")))`\n",
    "    - `=SUM (FILTER(A2:A20, REGEXMATCH(B2:B20, \".*g$\")))`\n",
    "- Tip: Write regex pattern in a separate cell and use that cell's reference"
   ]
  },
  {
   "cell_type": "markdown",
   "metadata": {},
   "source": [
    "# REGEXREPLACE"
   ]
  },
  {
   "cell_type": "markdown",
   "metadata": {},
   "source": [
    "- returns:\n",
    "    - original string\n",
    "    - replacement string\n",
    "    - excludes string that matched regular expression\n",
    "- Used to clean up categorical data\n",
    "- eg: `=REGEXREPLACE(A2, \".[U|u]sers\" ,\"\")` : Replace the word users or Users with empty characters\n",
    "- Use with IF: `=IF(REGEXMATCH, REGEXREPLACE, A2)`"
   ]
  },
  {
   "cell_type": "markdown",
   "metadata": {},
   "source": [
    "# REGEXEXTRACT"
   ]
  },
  {
   "cell_type": "markdown",
   "metadata": {},
   "source": [
    "- Returns:\n",
    "    - string that matched regular expression\n",
    "- Used for extracting specific portion from strings\n",
    "- `()` used to specify group of characters to extract \n",
    "- eg: `=REGEXEXTRACT(A2,\"(.*).[U|u]sers\")` will extract Python from Python Users\n",
    "- Use with IF: `=IF(REGEXMATCH, REGEXEXTRACT, A2)`"
   ]
  },
  {
   "cell_type": "markdown",
   "metadata": {},
   "source": [
    "# Concatenating"
   ]
  },
  {
   "cell_type": "markdown",
   "metadata": {},
   "source": [
    "- Use `concatenate()`. eg: `=CONCATENATE(A1,A2,A3)`\n",
    "- Use `&`. eg: `=REGEXEXTRACT(A3,$I$2)&\"_\"&B3`"
   ]
  }
 ],
 "metadata": {
  "kernelspec": {
   "display_name": "Python 3.8.11 ('env_py')",
   "language": "python",
   "name": "python3"
  },
  "language_info": {
   "name": "python",
   "version": "3.8.11"
  },
  "orig_nbformat": 4,
  "vscode": {
   "interpreter": {
    "hash": "1e949e87132dd83f1a7623eb88007e3532b03b66b77111be347aa4a383049722"
   }
  }
 },
 "nbformat": 4,
 "nbformat_minor": 2
}
