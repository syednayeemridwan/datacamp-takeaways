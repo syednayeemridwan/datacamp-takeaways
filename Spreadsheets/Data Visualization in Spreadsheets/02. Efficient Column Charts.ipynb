{
 "cells": [
  {
   "cell_type": "markdown",
   "metadata": {},
   "source": [
    "# Information and Tips"
   ]
  },
  {
   "cell_type": "markdown",
   "metadata": {},
   "source": [
    "- Tables : Related data stored in columns and rows\n",
    "- List : Smaller set of independent data \n",
    "- Non-contiguous data : Selecting separate data from a table.\n",
    "    - `A1:B10 + Ctrl + D1:E10` \n",
    "    - Any Desired Range can be selected\n",
    "- Named Range : \n",
    "    - 1 cell \n",
    "    - range of cells\n",
    "    - constant value\n",
    "    - Formula with a given name\n",
    "    - Makes formulas easy to understand from other sheets\n",
    "    - User-friendly names (Meaningful)\n",
    "    - No spaces\n",
    "    - Create : `A3:Z100 > Toolbar` > `Data` > `Named Range` > Meaningful name with no spaces > `Done`\n",
    "    - Edit : `Sheet` > `Data` > `Named Range` > See the available named ranges > Edit > `Done`\n",
    "    - Change Cell Range: `Sheet` > `Data` > `Named Range` > Select from the available named ranges > Click the grid to the right\n"
   ]
  },
  {
   "cell_type": "markdown",
   "metadata": {},
   "source": [
    "# Changing Chart type and Format"
   ]
  },
  {
   "cell_type": "markdown",
   "metadata": {},
   "source": [
    "- Double click the chart\n",
    "- `Chart Editor` > `Setup` Tab > `Chart Type:` > `Stacked Column Chart` (Default)\n",
    "- `Chart Editor` > `Customize` Tab > `Chart Style:` > Format as you see fit\n",
    "- Always Label axis and title\n",
    "- In bar chart:\n",
    "    - Double click on title and Edit title\n",
    "    - Click on bars to change color of bars\n"
   ]
  },
  {
   "cell_type": "markdown",
   "metadata": {},
   "source": [
    "# Axis Values and Gridlines"
   ]
  },
  {
   "cell_type": "markdown",
   "metadata": {},
   "source": [
    "- Set maximum values (Different perspective is illustrated)\n",
    "- Careful of gridlines (sometimes make a chart too busy)\n",
    "    - Minor gridlines are enough\n",
    "\n"
   ]
  },
  {
   "cell_type": "markdown",
   "metadata": {},
   "source": [
    "# Changing Chart Range"
   ]
  },
  {
   "cell_type": "markdown",
   "metadata": {},
   "source": [
    "- `Chart Editor` > `Setup` Tab > `Data Range:` > Edit the range\n",
    "- `Chart Editor` > `Setup` Tab > `Series` > Add / Remove"
   ]
  }
 ],
 "metadata": {
  "kernelspec": {
   "display_name": "Python 3.8.11 ('env_py')",
   "language": "python",
   "name": "python3"
  },
  "language_info": {
   "name": "python",
   "version": "3.8.11"
  },
  "orig_nbformat": 4,
  "vscode": {
   "interpreter": {
    "hash": "1e949e87132dd83f1a7623eb88007e3532b03b66b77111be347aa4a383049722"
   }
  }
 },
 "nbformat": 4,
 "nbformat_minor": 2
}
