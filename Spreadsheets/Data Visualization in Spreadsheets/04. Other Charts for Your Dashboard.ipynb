{
 "cells": [
  {
   "cell_type": "markdown",
   "metadata": {},
   "source": [
    "# Histogram"
   ]
  },
  {
   "cell_type": "markdown",
   "metadata": {},
   "source": [
    "- Distribution of quantitative data\n",
    "- Only column chart shows distribution of categorical data\n",
    "- Data is grouped into bins (intervals)\n",
    "- No gaps between bins, so no data is lost\n",
    "- `A1:A10` > `Insert` > `Chart` > `Type`: > `Histogram`\n",
    "- `Chart Editor` > `Customize` > Format as you wish : Axis / Series / Legend etc.\n",
    "- Enable  `Chart Editor` > `Customize` > `Show item dividers`\n",
    "- Too many or too few bins make no sense of data\n",
    "\n"
   ]
  },
  {
   "cell_type": "markdown",
   "metadata": {},
   "source": [
    "# CandleStick"
   ]
  },
  {
   "cell_type": "markdown",
   "metadata": {},
   "source": [
    "- Shows action movements of : currencies, derivatives, bonds, commodities etc.\n",
    "- Display price information\n",
    "- Show trends\n",
    "- Predict future behavior\n",
    "- Day-to-day market movement\n",
    "- Before creating candlestick:\n",
    "    - Named range the dataset\n",
    "    - Do validations with named ranges\n",
    "    - Use VLOOKUP to pull other data from validated data\n",
    "    - Convert date to text data-type (`FORMAT > DATA > PLAIN TEXT`)\n",
    "    - Do not change in original dataset. Instead create new column: `= TEXT(A3, \"mm-dd-yy\")`\n",
    "- Create candlestick:\n",
    "    - `Range` > `Insert` > `Chart` > `Candlestick`\n",
    "    - Make consistent fontsize\n",
    "    - Change slant to 30\n",
    "    - Minor gridline = 2 is helpful\n",
    "    - Use useful titles / labels\n"
   ]
  },
  {
   "cell_type": "markdown",
   "metadata": {},
   "source": [
    "# Scatter Chart"
   ]
  },
  {
   "cell_type": "markdown",
   "metadata": {},
   "source": [
    "- Shows individual values\n",
    "- Shows mathematical relationship between 2 columns visually\n",
    "- Similar to line charts to some extent (except line connecting the points)\n",
    "- Better not to use more than 2 variables\n",
    "- Label axis and titles to clearly identify the variables\n",
    "- Trendlines can show patterns (linear by default)\n",
    "- You can customize : `Chart Editor` > `Customize` Tab > `Series` > Change here\n",
    "- Different trendlines : `Chart Editor` > `Customize` Tab > `Series` > `TrendLine` Tick + `Type` > Select type\n"
   ]
  },
  {
   "cell_type": "markdown",
   "metadata": {},
   "source": [
    "# Sparklines Chart"
   ]
  },
  {
   "cell_type": "markdown",
   "metadata": {},
   "source": [
    "- Quick visualize with other charts (quick snapshot)\n",
    "- Works better in a single cell\n",
    "- Show trends\n",
    "- Do not have axis\n",
    "- Perfect for dashboards\n",
    "- 4 types:\n",
    "    - line : `=SPARKLINE(A1:A10, {\"color\",\"red\";\"linewidth\",3})`\n",
    "    - column : `=SPARKLINE(A1:A10, {\"charttype\",\"column\"})`\n",
    "    - bar : `=SPARKLINE(A1:A10, {\"charttype\",\"bar\"})`\n",
    "    - winloss : `=SPARKLINE(A1:A10, {\"charttype\",\"winloss\"})`"
   ]
  }
 ],
 "metadata": {
  "kernelspec": {
   "display_name": "Python 3.8.11 ('env_py')",
   "language": "python",
   "name": "python3"
  },
  "language_info": {
   "name": "python",
   "version": "3.8.11"
  },
  "orig_nbformat": 4,
  "vscode": {
   "interpreter": {
    "hash": "1e949e87132dd83f1a7623eb88007e3532b03b66b77111be347aa4a383049722"
   }
  }
 },
 "nbformat": 4,
 "nbformat_minor": 2
}
