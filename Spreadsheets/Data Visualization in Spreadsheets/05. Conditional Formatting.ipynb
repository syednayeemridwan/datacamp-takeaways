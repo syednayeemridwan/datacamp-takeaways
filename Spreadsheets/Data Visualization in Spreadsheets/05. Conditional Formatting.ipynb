{
 "cells": [
  {
   "cell_type": "markdown",
   "metadata": {},
   "source": [
    "# Conditional Formatting"
   ]
  },
  {
   "cell_type": "markdown",
   "metadata": {},
   "source": [
    "- Highlight range\n",
    "- `Format` > `Conditional Formatting`\n",
    "- `Conditional Format Rules` Window\n",
    "    - `Single Color` Tab > `Format Cells if...` multiple options available (Default is \"Cell is not empty\")\n",
    "    - `Colour Scale` Tab > Specify color palette preview\n",
    "    - `Done`\n",
    "- Rule conflict : If 2 rules clash, higher rule reigns supreme (You can move rules up or down)\n",
    "- See all rules : Highlight `Ctrl + A` > `Format` > `Conditional Formatting`\n"
   ]
  },
  {
   "cell_type": "markdown",
   "metadata": {},
   "source": [
    "# Other uses"
   ]
  },
  {
   "cell_type": "markdown",
   "metadata": {},
   "source": [
    "- Highlight rows that meet certain conditions\n",
    "- Comparing lists / values\n",
    "- Highlight duplicates\n",
    "- Highlight specific entries (number / text)\n",
    "- Highlight alternate rows\n",
    "- Enable dynamic named page\n",
    "- Find errors and blanks"
   ]
  },
  {
   "cell_type": "markdown",
   "metadata": {},
   "source": [
    "# Custom formula"
   ]
  },
  {
   "cell_type": "markdown",
   "metadata": {},
   "source": [
    "- Highlight range\n",
    "- `Format` > `Conditional Formatting`\n",
    "- `Conditional Format Rules` Window\n",
    "    - `Single Color` Tab > `Format Cells if...` > `Custom Formula is`\n",
    "    - Enter formula: `= A1 < 5000`\n",
    "    - `Colour Scale` Tab > Specify color palette preview\n",
    "    - `Done`\n",
    "- Highlight duplicates: `=COUNTIF($S:$S,S3) > 1`\n",
    "- Highlight row: `= $A1 < 5000`\n",
    "- Wildcards:\n",
    "    - `?` is single character\n",
    "    - `*` zero or more characters\n",
    "    - Example: `Text Contains` : `M?2`"
   ]
  },
  {
   "cell_type": "markdown",
   "metadata": {},
   "source": [
    "# Some good tips to tidy the dashboard"
   ]
  },
  {
   "cell_type": "markdown",
   "metadata": {},
   "source": [
    "- Use borders\n",
    "- Hide irrelevant shades: `Right Click` > `Hide Shade`\n",
    "- Use ticks to turn of gridlines when not needed: `View` > `Gridlines` untick\n",
    "- Hide toolbar: `View` > `Formula bar`\n",
    "- Fullscreen : `View` > `FullScreen` (`Esc` to exit)"
   ]
  }
 ],
 "metadata": {
  "kernelspec": {
   "display_name": "Python 3.8.11 ('env_py')",
   "language": "python",
   "name": "python3"
  },
  "language_info": {
   "name": "python",
   "version": "3.8.11"
  },
  "orig_nbformat": 4,
  "vscode": {
   "interpreter": {
    "hash": "1e949e87132dd83f1a7623eb88007e3532b03b66b77111be347aa4a383049722"
   }
  }
 },
 "nbformat": 4,
 "nbformat_minor": 2
}
