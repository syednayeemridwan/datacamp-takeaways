{
 "cells": [
  {
   "cell_type": "markdown",
   "metadata": {},
   "source": [
    "# Data Validation"
   ]
  },
  {
   "cell_type": "markdown",
   "metadata": {},
   "source": [
    "- Allows only intended type of data\n",
    "- Prevents users from entering data outside the set criteria\n",
    "- Dropdowns\n",
    "- Specific range of entries\n",
    "- Before Creating:\n",
    "    - Delete Empty rows/ columns\n",
    "    - Format required data types\n",
    "    - Make decimal places consistent\n",
    "    - Use headings to identify correctly\n",
    "    - Use meaningful named ranges\n",
    "- Creating:\n",
    "    - `Dates Heading` > `Data` > `Data Validation` > :\n",
    "        - `Criteria : ` > `List from a range ` > Use Named Range (`= Range_Name`)\n",
    "        - Tick `Show dropdown`\n",
    "        - `On invalid Data :` > `Show Warning`\n",
    "        - `Appearance :` > `Show Validation Help Text` (Hint)\n",
    "        - `Done`\n"
   ]
  },
  {
   "cell_type": "markdown",
   "metadata": {},
   "source": [
    "# VLOOKUP"
   ]
  },
  {
   "cell_type": "markdown",
   "metadata": {},
   "source": [
    "- Look up (find) data from a dataset\n",
    "- Table must be sorted in ascending order by the first column\n",
    "- `VLOOKUP(value_to_look_for, range_of_dataset, column_number_to_retrieve_value_from, is_approximate_value_or_strict)`\n",
    "    - Use absolute reference for Column\n",
    "    - Can be copied to other cells, just change  `column_number_to_retrieve_value_from` as needed"
   ]
  },
  {
   "cell_type": "markdown",
   "metadata": {},
   "source": [
    "# Creating Plot from VLOOKUP"
   ]
  },
  {
   "cell_type": "markdown",
   "metadata": {},
   "source": [
    "- Highlight range of VLOOKUP table to plot\n",
    "- `Insert > Line Chart`"
   ]
  },
  {
   "cell_type": "markdown",
   "metadata": {},
   "source": [
    "# Line Chart"
   ]
  },
  {
   "cell_type": "markdown",
   "metadata": {},
   "source": [
    "- Provide title : `Chart Editor` > `Customize` Tab > `Type:` > `Chart Title` > Provide Title\n",
    "- Provide X-label : `Chart Editor` > `Customize` Tab > `Type:` > `X axis Title` > X axis Title\n",
    "- Provide Y-label : `Chart Editor` > `Customize` Tab > `Type:` > `Y axis Title` > Y axis Title\n",
    "- Use gridlines as you see  fit\n",
    "- Clear font and font-size with styling\n",
    "- Legend: `Chart Editor` > `Customize` Tab > `Legend:` > Specify legend positioning\n",
    "- Line styling: `Chart Editor` > `Customize` Tab > `Series:` > Customize line style for each series\n",
    "    - Error bars: Uncertainty\n",
    "    - Trendline : Direction of data\n",
    "- Additional Feature Line:  `Chart Editor` > `DATA` Tab > `Series:` : Add/Remove additional feature line in the plot"
   ]
  },
  {
   "cell_type": "markdown",
   "metadata": {},
   "source": [
    "# Custom Data Format"
   ]
  },
  {
   "cell_type": "markdown",
   "metadata": {},
   "source": [
    "- `Format` > `Number` > `Custom Date and Time` > customize in box left to apply button > `Apply` \n",
    "- `Format` > `Number` > `Custom Number` > customize in box left to apply button > `Apply` \n",
    "- `Format` > `Number` > `Custom Currency` > customize in box left to apply button > `Apply` "
   ]
  }
 ],
 "metadata": {
  "kernelspec": {
   "display_name": "Python 3.8.11 ('env_py')",
   "language": "python",
   "name": "python3"
  },
  "language_info": {
   "name": "python",
   "version": "3.8.11"
  },
  "orig_nbformat": 4,
  "vscode": {
   "interpreter": {
    "hash": "1e949e87132dd83f1a7623eb88007e3532b03b66b77111be347aa4a383049722"
   }
  }
 },
 "nbformat": 4,
 "nbformat_minor": 2
}
