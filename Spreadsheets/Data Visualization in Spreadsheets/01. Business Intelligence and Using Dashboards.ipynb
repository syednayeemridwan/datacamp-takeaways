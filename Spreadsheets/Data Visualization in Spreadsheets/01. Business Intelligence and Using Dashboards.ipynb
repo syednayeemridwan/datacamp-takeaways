{
 "cells": [
  {
   "cell_type": "markdown",
   "metadata": {},
   "source": [
    "# BI"
   ]
  },
  {
   "cell_type": "markdown",
   "metadata": {},
   "source": [
    "- Strategies, methods and technologies a business uses to derive meaningful information from data\n",
    "- To enhance decision making\n",
    "- Through analyzing and combining data\n",
    "- Used in:\n",
    "    - Decision making\n",
    "    - Measuring goals\n",
    "    - Operational efficiency\n",
    "    - Optimizing Processes\n",
    "    - Pinpointing opportunities through identifying:\n",
    "        - problems, \n",
    "        - market trends, \n",
    "        - new market\n",
    "- Commonly used data:\n",
    "    - Sales\n",
    "    - Profits\n",
    "    - Target customers\n",
    "    - Marketing opportunities"
   ]
  },
  {
   "cell_type": "markdown",
   "metadata": {},
   "source": [
    "# Things to consider during making visualizations"
   ]
  },
  {
   "cell_type": "markdown",
   "metadata": {},
   "source": [
    "- Right information\n",
    "- Target audience\n",
    "- Which device (Phone/ Tablet/ PC)\n",
    "- Logos\n",
    "- Colors (Printing / Viewing)\n",
    "- 3D objects\n",
    "- Right Charts\n",
    "- How much is not too much\n"
   ]
  },
  {
   "cell_type": "markdown",
   "metadata": {},
   "source": [
    "# Types of charts"
   ]
  },
  {
   "cell_type": "markdown",
   "metadata": {},
   "source": [
    "- For Comparison:\n",
    "    - Column Chart\n",
    "    - Line Chart\n",
    "- For frequency:\n",
    "    - Histogram\n",
    "- For price movements:\n",
    "    - Candlestick\n",
    "- Show relationships:\n",
    "    - Scatterplot\n",
    "- Single trend within a cell:\n",
    "    - Sparklines"
   ]
  },
  {
   "cell_type": "markdown",
   "metadata": {},
   "source": [
    "# Conditional Formatting"
   ]
  },
  {
   "cell_type": "markdown",
   "metadata": {},
   "source": [
    "- `A1:B10 > Format > Conditional formatting`."
   ]
  },
  {
   "cell_type": "markdown",
   "metadata": {},
   "source": [
    "# Smart Dashboard"
   ]
  },
  {
   "cell_type": "markdown",
   "metadata": {},
   "source": [
    "- Not entire dataset\n",
    "- Only the data you want to see\n",
    "- Keep the data in separate sheet\n",
    "- Pull data as needed when you need to display\n",
    "- Use formula of reference : Show value from one cell to other cell, or even other sheets\n",
    "    - `= Sheet2!A1` : A1 cell in Sheet2\n",
    "    - Another way: Use `=` and click to the specified cell"
   ]
  },
  {
   "cell_type": "markdown",
   "metadata": {},
   "source": [
    "# Column chart"
   ]
  },
  {
   "cell_type": "markdown",
   "metadata": {},
   "source": [
    "- Used to display data in vertical bar\n",
    "- Bar length signifies data amount\n",
    "- Used for comparing data across different categories\n",
    "- `A3:B10 > Insert > Chart > Chart Type : Column Chart`"
   ]
  },
  {
   "cell_type": "markdown",
   "metadata": {},
   "source": [
    "# Formatting Data"
   ]
  },
  {
   "cell_type": "markdown",
   "metadata": {},
   "source": [
    "- You data must be structured\n",
    "- Headings must be bold or italicized\n",
    "- Format only what you need to\n",
    "- Click `Format` menu to see all options for formatting\n",
    "- Remove blank rows or columns\n",
    "- Sort your data (for VLOOKUP)\n",
    "- If you need color to print:\n",
    "    - Use grays\n",
    "    - Use white font on black background\n",
    "    - Less is more\n"
   ]
  }
 ],
 "metadata": {
  "kernelspec": {
   "display_name": "Python 3.8.11 ('env_py')",
   "language": "python",
   "name": "python3"
  },
  "language_info": {
   "name": "python",
   "version": "3.8.11"
  },
  "orig_nbformat": 4,
  "vscode": {
   "interpreter": {
    "hash": "1e949e87132dd83f1a7623eb88007e3532b03b66b77111be347aa4a383049722"
   }
  }
 },
 "nbformat": 4,
 "nbformat_minor": 2
}
