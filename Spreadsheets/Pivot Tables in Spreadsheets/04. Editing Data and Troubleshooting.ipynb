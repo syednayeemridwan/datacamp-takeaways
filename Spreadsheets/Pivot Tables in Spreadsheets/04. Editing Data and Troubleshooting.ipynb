{
 "cells": [
  {
   "cell_type": "markdown",
   "metadata": {},
   "source": [
    "# Adding or changing data"
   ]
  },
  {
   "cell_type": "markdown",
   "metadata": {},
   "source": [
    "- Navigate back to original dataset\n",
    "- Change in original dataset\n",
    "- Pivot table automatically update to reflect the changes\n",
    "- The source data can be found by :\n",
    "    - Click the cell in pivot table\n",
    "    - Look at the pivot table editor Address (That is the source where original value is located)\n",
    "- When new rows/columns are added in the original source, pivot table's `source address range` should also be updated"
   ]
  },
  {
   "cell_type": "markdown",
   "metadata": {},
   "source": [
    "# Optimization"
   ]
  },
  {
   "cell_type": "markdown",
   "metadata": {},
   "source": [
    "- Do not put missing rows : Creates a lot of problems\n",
    "- Identify missing data with `COUNTA`:\n",
    "    - Inside original datasheet, below each column, put: `=COUNTA(A1:A100)`\n",
    "    - If missing detected, `select the column header` > `Ctrl + Down arrow key`  to go to the cell with missing data\n",
    "- Inconsistent row labels: `Ctrl + F` in original dataset and fix it (eg: USA vs United States)\n",
    "- Judgement call : What to do with missing cells inside pivot table. Depends on situation.\n",
    "- Check if numbers are in text type. Convert them as necessary\n",
    "- Best Practices:\n",
    "    - Use descriptive fields (non-numeric categories) for rows and columns\n",
    "    - Use measurements (numeric fields) for values (to do mathematical calculations)\n",
    "- Use pivot table only for large amount of data\n",
    "- Pivot table is not good for customizing look and feel\n"
   ]
  }
 ],
 "metadata": {
  "kernelspec": {
   "display_name": "Python 3.8.11 ('env_py')",
   "language": "python",
   "name": "python3"
  },
  "language_info": {
   "name": "python",
   "version": "3.8.11"
  },
  "orig_nbformat": 4,
  "vscode": {
   "interpreter": {
    "hash": "1e949e87132dd83f1a7623eb88007e3532b03b66b77111be347aa4a383049722"
   }
  }
 },
 "nbformat": 4,
 "nbformat_minor": 2
}
