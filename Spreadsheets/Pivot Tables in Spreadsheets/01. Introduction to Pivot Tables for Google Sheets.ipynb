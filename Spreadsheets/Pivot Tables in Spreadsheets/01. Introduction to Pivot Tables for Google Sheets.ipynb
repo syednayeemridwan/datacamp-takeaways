{
 "cells": [
  {
   "cell_type": "markdown",
   "metadata": {},
   "source": [
    "# Basic Pivot Table Features"
   ]
  },
  {
   "cell_type": "markdown",
   "metadata": {},
   "source": [
    "- Filter\n",
    "- Sort\n",
    "- Subtotal \n",
    "- Analyze"
   ]
  },
  {
   "cell_type": "markdown",
   "metadata": {},
   "source": [
    "# Creating Pivot Table"
   ]
  },
  {
   "cell_type": "markdown",
   "metadata": {},
   "source": [
    "- Click on any cell of dataset / selecte all dataset (If there is missing row)\n",
    "- Go to `Data > Pivot Table` / `Insert > Pivot Table`\n",
    "- A new sheet will appear with Pivot table editor\n",
    "- Check inside editor if it has identified the whole address of the dataset"
   ]
  },
  {
   "cell_type": "markdown",
   "metadata": {},
   "source": [
    "# Pivot Editor Options"
   ]
  },
  {
   "cell_type": "markdown",
   "metadata": {},
   "source": [
    "- Categories should go in `Rows`\n",
    "- `Rows > Add > [Column headers of source data] ` : list all unique values found in source data\n",
    "- Multiple options can be selected\n",
    "- Options inside `Rows` can be re-ordered by dragging them above or below\n",
    "- Categories should go in `Columns`\n",
    "- `Columns > Add > [Column headers of source data] ` : list all unique values found in source data\n",
    "- Multiple options can be selected\n",
    "- Options inside `Columns` can be re-ordered by dragging them above or below\n",
    "- Options from `Columns` can be dragged to `Rows` and vice-versa\n",
    "- Click `X` to remove field from `Columns` or `Rows` \n",
    "- `Values` make up the body of pivot table\n",
    "- `Values > Add > [Column headers of source data] ` : Organize table with values found in source data\n",
    "- `Values : Summarize By > SUM` : Calculate data by summation (Default action)\n",
    "\n"
   ]
  }
 ],
 "metadata": {
  "kernelspec": {
   "display_name": "Python 3.8.11 ('env_py')",
   "language": "python",
   "name": "python3"
  },
  "language_info": {
   "name": "python",
   "version": "3.8.11"
  },
  "orig_nbformat": 4,
  "vscode": {
   "interpreter": {
    "hash": "1e949e87132dd83f1a7623eb88007e3532b03b66b77111be347aa4a383049722"
   }
  }
 },
 "nbformat": 4,
 "nbformat_minor": 2
}
