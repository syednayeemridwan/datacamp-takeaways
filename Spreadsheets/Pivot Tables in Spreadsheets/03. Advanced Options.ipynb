{
 "cells": [
  {
   "cell_type": "markdown",
   "metadata": {},
   "source": [
    "# Changing values Calculation "
   ]
  },
  {
   "cell_type": "markdown",
   "metadata": {},
   "source": [
    "- Specified in `VALUES` : `Summarised by`\n",
    "- Default is `SUM`\n",
    "- You can change it to other calculation options\n",
    "- Depends on data-type (eg: `COUNT` will not work on texts. Use `COUNTA` instead)\n",
    "- Operations:\n",
    "    - MIN\n",
    "    - MAX\n",
    "    - STD\n",
    "    - COUNTUNIQUE etc"
   ]
  },
  {
   "cell_type": "markdown",
   "metadata": {},
   "source": [
    "# Calculated Fields"
   ]
  },
  {
   "cell_type": "markdown",
   "metadata": {},
   "source": [
    "- Creating new fields based on existing data\n",
    "- `VALUES > ADD > CALCULATED FIELD` > `FORMULA:` > `= FIELD1 + FIELD2` (fields should be exact as original dataset)\n",
    "- You can rename the column-name of the calculated field (Double click and rename directly inside pivot table)"
   ]
  },
  {
   "cell_type": "markdown",
   "metadata": {},
   "source": [
    "# Showing Values"
   ]
  },
  {
   "cell_type": "markdown",
   "metadata": {},
   "source": [
    "- inside `VALUES`, default of `Show As` is `default`\n",
    "- `Show As:` > `Percentage of grand total` (It will show numeric values) > Format data as percentages.\n",
    "- Other options:\n",
    "    - Percentage of row\n",
    "    - Percentage of column"
   ]
  },
  {
   "cell_type": "markdown",
   "metadata": {},
   "source": [
    "# Drill Down"
   ]
  },
  {
   "cell_type": "markdown",
   "metadata": {},
   "source": [
    "- Just double click on a number in a pivot table\n",
    "- Details will appear in a new sheet "
   ]
  },
  {
   "cell_type": "markdown",
   "metadata": {},
   "source": [
    "# Grouping by a Field"
   ]
  },
  {
   "cell_type": "markdown",
   "metadata": {},
   "source": [
    "- Put field name in `ROWS`\n",
    "- Put aggreagation method in `VALUES`\n",
    "- `Right click` on any cell from pivot table ROW > `Create Pivot Group Rule` > `Interval Size:`\n"
   ]
  }
 ],
 "metadata": {
  "kernelspec": {
   "display_name": "Python 3.8.11 ('env_py')",
   "language": "python",
   "name": "python3"
  },
  "language_info": {
   "name": "python",
   "version": "3.8.11"
  },
  "orig_nbformat": 4,
  "vscode": {
   "interpreter": {
    "hash": "1e949e87132dd83f1a7623eb88007e3532b03b66b77111be347aa4a383049722"
   }
  }
 },
 "nbformat": 4,
 "nbformat_minor": 2
}
