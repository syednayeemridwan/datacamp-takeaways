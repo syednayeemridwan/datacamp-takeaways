{
 "cells": [
  {
   "cell_type": "markdown",
   "metadata": {},
   "source": [
    "# Under the hood"
   ]
  },
  {
   "cell_type": "markdown",
   "metadata": {},
   "source": [
    "- Each `field` of pivot table = one `column header` of original dataset\n",
    "- Listing of fields, pivot table will only list unique values\n",
    "- When listing multiple fields, pivot table will only list unique combinations\n",
    "- `Values` will organize the summarization of combinations in the pivot table by specified aggregation method by default `SUM`  \n"
   ]
  },
  {
   "cell_type": "markdown",
   "metadata": {},
   "source": [
    "# Filters"
   ]
  },
  {
   "cell_type": "markdown",
   "metadata": {},
   "source": [
    "- Specify which category to filter the pivot table by\n",
    "- `Filter > Add > [Column headers of source data] ` : Filter the pivot table by that category\n",
    "- `Showing all items:` You can customize the filter by item values (Only shows information about selected items). Operations:\n",
    "    - Search option enabled\n",
    "    - Clear\n",
    "    - Single / Multiple selects\n",
    "    - Select all\n",
    "\n"
   ]
  },
  {
   "cell_type": "markdown",
   "metadata": {},
   "source": [
    "# Common Guidelines"
   ]
  },
  {
   "cell_type": "markdown",
   "metadata": {},
   "source": [
    "- 1 Row Label\n",
    "- 1 Column Label\n",
    "- 1 Value Category\n",
    "- Filter by Selected Fields "
   ]
  }
 ],
 "metadata": {
  "kernelspec": {
   "display_name": "Python 3.8.11 ('env_py')",
   "language": "python",
   "name": "python3"
  },
  "language_info": {
   "name": "python",
   "version": "3.8.11"
  },
  "orig_nbformat": 4,
  "vscode": {
   "interpreter": {
    "hash": "1e949e87132dd83f1a7623eb88007e3532b03b66b77111be347aa4a383049722"
   }
  }
 },
 "nbformat": 4,
 "nbformat_minor": 2
}
