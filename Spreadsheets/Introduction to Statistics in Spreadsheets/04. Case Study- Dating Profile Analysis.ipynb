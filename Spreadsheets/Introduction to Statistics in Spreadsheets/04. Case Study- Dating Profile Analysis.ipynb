{
 "cells": [
  {
   "cell_type": "markdown",
   "metadata": {},
   "source": [
    "# Describe Numeric Variables"
   ]
  },
  {
   "cell_type": "markdown",
   "metadata": {},
   "source": [
    "- Mean : `AVERAGE(A1:A10)`\n",
    "- Max : `MAX(A1:A10)`\n",
    "- Min : `MIN(A1:A10)`\n",
    "- Count : `COUNTIF(A1:A10, <3)`\n",
    "- Quartile : `QUARTILE(A1:B10, 4)`\n",
    "- Correlation : `CORREL(A1:A10,B1:B10)`"
   ]
  },
  {
   "cell_type": "markdown",
   "metadata": {},
   "source": [
    "# Describe Distribution of variables"
   ]
  },
  {
   "cell_type": "markdown",
   "metadata": {},
   "source": [
    "- Variance\n",
    "- Standard Deviation\n",
    "- Average\n",
    "- Z-score (Distance from mean) : Where the point stands\n",
    "- Use Histogram to see variable's distribution\n",
    "    - Compare it with normal distribution\n",
    "    - Measure skewness (non-symmetrical tail) : `SKEW(A1:A10)`\n",
    "    - Measure kurtosis (peak around mean) : `KURT(A1:A10)`\n",
    "    - make sure the bins size is good enough to produce normal distribution"
   ]
  },
  {
   "cell_type": "markdown",
   "metadata": {},
   "source": [
    "# Correlation"
   ]
  },
  {
   "cell_type": "markdown",
   "metadata": {},
   "source": [
    "- value is negative : when one variable increase, another variable decrease\n",
    "    - the more the value is close to `-1` the stronger the negative correlation\n",
    "- value is zero : no relationship\n",
    "    - the more the value is close to `0` the weaker the correlation\n",
    "- value is positive : when one variable increase, another variable also increase\n",
    "    - the more the value is close to `+1` the stronger the positive correlation\n",
    "-  Correlation is not same as causal relationship:\n",
    "    - one variable is not the cause of other variable's change. (They both may be affected by something else other than themselves.)\n"
   ]
  },
  {
   "cell_type": "markdown",
   "metadata": {},
   "source": [
    "# Hypothesis Testing"
   ]
  },
  {
   "cell_type": "markdown",
   "metadata": {},
   "source": [
    "- Complex relationship between 2 variables\n",
    "- Use it to determine causal relationships\n",
    "- result variable as a function of other variables to form a linear equation: `LINEST(A1:A100, B1:Z100)`"
   ]
  }
 ],
 "metadata": {
  "kernelspec": {
   "display_name": "Python 3.8.11 ('env_py')",
   "language": "python",
   "name": "python3"
  },
  "language_info": {
   "name": "python",
   "version": "3.8.11"
  },
  "orig_nbformat": 4,
  "vscode": {
   "interpreter": {
    "hash": "1e949e87132dd83f1a7623eb88007e3532b03b66b77111be347aa4a383049722"
   }
  }
 },
 "nbformat": 4,
 "nbformat_minor": 2
}
