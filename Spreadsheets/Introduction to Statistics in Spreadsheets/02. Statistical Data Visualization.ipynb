{
 "cells": [
  {
   "cell_type": "markdown",
   "metadata": {},
   "source": [
    "# Histogram"
   ]
  },
  {
   "cell_type": "markdown",
   "metadata": {},
   "source": [
    "- Shows the frequency of a single variable in distribution\n",
    "- Most histogram reflects bell curve (normal distribution)\n",
    "- Most frequent value = Highest point in the /distribution histogram \n",
    "- In distribution:\n",
    "    - mean = median = mode => symmetric shape of normal distribution\n",
    "    - Mean > median > mode => Positive skew / skewed to the right\n",
    "    - Mean <> median <> mode => Negative skew / skewed to the left\n",
    "\n",
    "- Measure normalness of a distribution:\n",
    "    - measure skewness : `=skew(A2:100)`    \n",
    "    - measure symmetric : `=kurt(A2:100)`    \n",
    "\n",
    "Draw Histogram:\n",
    "- `Insert > Chart`\n",
    "- `Chart type > Histogram`\n",
    "- `Data Range > A2:A100`    "
   ]
  },
  {
   "cell_type": "markdown",
   "metadata": {},
   "source": [
    "# Scatter Plot"
   ]
  },
  {
   "cell_type": "markdown",
   "metadata": {},
   "source": [
    "- Visualizes relationship between 2 variables\n",
    "- Each dot represents a row in the data\n",
    "- dots are scattered , hence name scatterplot\n",
    "- Good for identifying patterns from dataset visually\n",
    "- imaginary line = trend line that shows overall trend\n",
    "- trendline is fit so that the distance between points and line are minimized\n",
    "- get slope and intercept : `=LINEST(A1:B100,B1:B100)`+\n",
    "- Correlation formula : `=CORREL(A2:A101,B2:B101)`\n",
    "\n",
    "Draw Scatterplot:\n",
    "- `Insert > Chart`\n",
    "- `Chart type > Scatter chart`\n",
    "- `Data Range > A2:B100`  \n",
    "- `X axis > A2:A100`  \n",
    "- `Series > B2:B100`  \n",
    "- `Customize > Series > Trendline`"
   ]
  },
  {
   "cell_type": "markdown",
   "metadata": {},
   "source": [
    "# Bar Chart"
   ]
  },
  {
   "cell_type": "markdown",
   "metadata": {},
   "source": [
    "- Compare frequencies inside data\n",
    "- Not distribution, because it also counts non-numeric data (categories)\n",
    "- Side-by-side barchart = used to visualize quantities by categories\n",
    "- Stacked barchart = used to visualize proportion of variables within a label\n",
    "- Instead of Stacked barchart, use proportional Stacked barchart = all bars are of same height\n",
    "\n",
    "Draw Barchart:\n",
    "- `Highlight data`\n",
    "- `Insert > Chart`\n",
    "- `Chart type > Barchart `"
   ]
  }
 ],
 "metadata": {
  "kernelspec": {
   "display_name": "Python 3.8.11 ('env_py')",
   "language": "python",
   "name": "python3"
  },
  "language_info": {
   "name": "python",
   "version": "3.8.11"
  },
  "orig_nbformat": 4,
  "vscode": {
   "interpreter": {
    "hash": "1e949e87132dd83f1a7623eb88007e3532b03b66b77111be347aa4a383049722"
   }
  }
 },
 "nbformat": 4,
 "nbformat_minor": 2
}
