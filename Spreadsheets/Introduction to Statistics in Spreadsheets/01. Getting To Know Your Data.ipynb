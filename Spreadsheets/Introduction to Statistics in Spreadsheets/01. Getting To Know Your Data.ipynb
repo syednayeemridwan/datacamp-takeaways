{
 "cells": [
  {
   "cell_type": "markdown",
   "metadata": {},
   "source": [
    "# Statistics"
   ]
  },
  {
   "cell_type": "markdown",
   "metadata": {},
   "source": [
    "- Describes data in some way"
   ]
  },
  {
   "cell_type": "markdown",
   "metadata": {},
   "source": [
    "# Average"
   ]
  },
  {
   "cell_type": "markdown",
   "metadata": {},
   "source": [
    "- Mean of a bunch of data\n",
    "- Reduce comprehensive amount to a single value to give intuition\n",
    "- Sum of all observations / no. of observation in the sample\n",
    "- Not robust to outliers\n",
    "- Formula : `=AVERAGE(B2:B11)`\n"
   ]
  },
  {
   "cell_type": "markdown",
   "metadata": {},
   "source": [
    "# Median"
   ]
  },
  {
   "cell_type": "markdown",
   "metadata": {},
   "source": [
    "- Middle number of a sorted dataset\n",
    "- Half of a dataset is less than median, the other half is greater than median\n",
    "- More robust to outliers\n",
    "- Formula : `=MEDIAN(B2:B11)`\n"
   ]
  },
  {
   "cell_type": "markdown",
   "metadata": {},
   "source": [
    "# Mode"
   ]
  },
  {
   "cell_type": "markdown",
   "metadata": {},
   "source": [
    "- A number that appears most often in the dataset\n",
    "- Formula : `=MODE(B2:B11)`\n"
   ]
  },
  {
   "cell_type": "markdown",
   "metadata": {},
   "source": [
    "# Variance"
   ]
  },
  {
   "cell_type": "markdown",
   "metadata": {},
   "source": [
    "- Distance from average / mean\n",
    "- Measures spread of data points\n",
    "- smaller variance = less spread data, bigger variance = more spread data\n",
    "- Large distance between data points = increased variance\n",
    "- Calculate variance:\n",
    "    - Calculate mean\n",
    "    - calculate each datapoints distance from mean\n",
    "    - square all the distance (to get rid of negative signs)\n",
    "    - sum the squared distance\n",
    "- Formula : `=VARP(B2:B11)`\n"
   ]
  },
  {
   "cell_type": "markdown",
   "metadata": {},
   "source": [
    "# Standard Deviation"
   ]
  },
  {
   "cell_type": "markdown",
   "metadata": {},
   "source": [
    "- Variance is scaled according to original data in order to make sense. \n",
    "    - how? `datapoint - standard deviation = mean * factor`\n",
    "    - we say this datapoint is `factor` standard deviation away from mean\n",
    "- Take square root of variance to get standard deviation\n",
    "- Formula : `=STDEVP(B2:B11)`"
   ]
  },
  {
   "cell_type": "markdown",
   "metadata": {},
   "source": [
    "# Percentile"
   ]
  },
  {
   "cell_type": "markdown",
   "metadata": {},
   "source": [
    "- Ordering a distribution and calculating a value below a specific point will tell its percentile\n",
    "- quartile = Divides datapoints into 4 equal percentiles of distributions\n",
    "- Formula : `=QUARTILE(B2:B11,1)`\n",
    "\n"
   ]
  },
  {
   "cell_type": "markdown",
   "metadata": {},
   "source": [
    "# Why Standardization"
   ]
  },
  {
   "cell_type": "markdown",
   "metadata": {},
   "source": [
    "- Different variables may have different distribution\n",
    "- May have same distribution, but on different scale\n",
    "- Makes it harder to compare\n",
    "- Interpretation is not possible between variable\n",
    "- Solution : Standardize with z-score\n",
    "- z-score for each point : `(B2 - mean) / stdevp`\n",
    "- Formula : `=STANDARDIZE(B2,MEAN_CELL,STDEV_CELL)`\n",
    "\n",
    "- it :\n",
    "    - centers a distribution around the mean of data\n",
    "    - calculates how much standard deviation away from mean each point is"
   ]
  }
 ],
 "metadata": {
  "kernelspec": {
   "display_name": "Python 3.8.11 ('env_py')",
   "language": "python",
   "name": "python3"
  },
  "language_info": {
   "name": "python",
   "version": "3.8.11"
  },
  "orig_nbformat": 4,
  "vscode": {
   "interpreter": {
    "hash": "1e949e87132dd83f1a7623eb88007e3532b03b66b77111be347aa4a383049722"
   }
  }
 },
 "nbformat": 4,
 "nbformat_minor": 2
}
