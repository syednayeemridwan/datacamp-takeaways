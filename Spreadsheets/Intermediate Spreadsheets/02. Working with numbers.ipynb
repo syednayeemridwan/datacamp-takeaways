{
 "cells": [
  {
   "cell_type": "markdown",
   "metadata": {},
   "source": [
    "# Transformation"
   ]
  },
  {
   "cell_type": "markdown",
   "metadata": {},
   "source": [
    "- log (10-based) transformation : `=LOG10(A1)`\n",
    "- power transformation : `=10^A1`\n",
    "- natural log (e-based) transformation : `=LN(A1)`\n",
    "- E power transformation : `=EXP(A1)`\n",
    "- square root transformation : `=SQRT(A1)`\n",
    "- round transformation to a floating (after decimal): `=ROUND(A1, 2)`\n",
    "- round transformation to a hundreth (before decimal): `=ROUND(A1, -2)`\n",
    "- Round numbers to positive infinity (towards hundreth): `=CEILING(A1,100)`\n",
    "- Round numbers to negative infinity (towards hundreth): `=FLOOR(A1,100)`\n"
   ]
  },
  {
   "cell_type": "markdown",
   "metadata": {},
   "source": [
    "# Generating Random Numbers"
   ]
  },
  {
   "cell_type": "markdown",
   "metadata": {},
   "source": [
    "- random numbers from 0 to 1 : `=RAND()`\n",
    "- random WHOLE number between 2 specified numbers: `=RANDBETWEEN(-10,10)`\n",
    "- produce RANDOM (produce bell shaped curve) numbers from normal distribution: `=NORMINV(RAND(),0,1)`\n",
    "- produce RANDOM numbers  from LOG distribution: `=LOGINV(RAND(),0,1)`\n",
    "- produce RANDOM numbers  from T distribution: `=TINV(RAND(),5)`\n",
    "- produce RANDOM numbers  from FISHER distribution: `=FISHERINV(RAND())`\n",
    "- produce RANDOM numbers from F distribution: `=FINV(RAND(),2,2)`\n",
    "- produce RANDOM numbers  from BETA distribution: `=BETAINV(RAND(),1,1,-10,10)`"
   ]
  },
  {
   "cell_type": "markdown",
   "metadata": {},
   "source": [
    "# Value of Constants"
   ]
  },
  {
   "cell_type": "markdown",
   "metadata": {},
   "source": [
    "- Pi : `=PI()`\n",
    "- Sin : `=SIN()`"
   ]
  },
  {
   "cell_type": "markdown",
   "metadata": {},
   "source": [
    "# Rounding with FLOOR and CEILING"
   ]
  },
  {
   "cell_type": "markdown",
   "metadata": {},
   "source": [
    "FLOOR.MATH() and CEILING.MATH(). When given one or two arguments, they behave in the same way as FLOOR() and CEILING() respectively. However, you can pass a third argument that determined the direction of the rounding: passing a positive number (for example, 1) to a third argument to make them round in the positive direction - towards zero.\n",
    "\n",
    "That is, \n",
    "- `FLOOR.MATH(-1.57, 0.1, 1)` is -1.5 \n",
    "- `CEILING.MATH(-1.57, 0.1, 1)` is -1.6.\n",
    "\n",
    "- `FLOOR.MATH(x, , 1)` is equivalent to `SIGN(x) * FLOOR(ABS(x))` \n",
    "- `CEILING.MATH(x, , 1)` is equivalent to `SIGN(x) * CEILING(ABS(x))`."
   ]
  }
 ],
 "metadata": {
  "kernelspec": {
   "display_name": "Python 3.8.11 ('env_py')",
   "language": "python",
   "name": "python3"
  },
  "language_info": {
   "name": "python",
   "version": "3.8.11"
  },
  "orig_nbformat": 4,
  "vscode": {
   "interpreter": {
    "hash": "1e949e87132dd83f1a7623eb88007e3532b03b66b77111be347aa4a383049722"
   }
  }
 },
 "nbformat": 4,
 "nbformat_minor": 2
}
