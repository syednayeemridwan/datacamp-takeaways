{
 "cells": [
  {
   "cell_type": "markdown",
   "metadata": {},
   "source": [
    "# Data types"
   ]
  },
  {
   "cell_type": "markdown",
   "metadata": {},
   "source": [
    "- 4 Common data types:\n",
    "    1. Number: `123`\n",
    "    2. Text: `\"1das`\n",
    "    3. Dates : `2022-02-02`\n",
    "    4. Logical: `TRUE`\n",
    "- Confirming data types:\n",
    "    1. Checking number: `=ISNUMBER(A1)`\n",
    "    2. Checking Text: `\"=ISTEXT(A1)`\n",
    "    3. Checking Dates : `=ISDATE(A1)`\n",
    "    4. Checking Logical: `=ISLOGICAL(A1)`\n",
    "- Other checks:\n",
    "    1. Checking URL: `=ISURL(A1)`\n",
    "    2. Checking Formula:  `=ISFORMULA(A1)`\n",
    "- Copying formulas:\n",
    "    1. copy right = `Ctrl + R`\n",
    "    2. copy down = `Ctrl + D`"
   ]
  },
  {
   "cell_type": "markdown",
   "metadata": {},
   "source": [
    "# Formatting Numbers"
   ]
  },
  {
   "cell_type": "markdown",
   "metadata": {},
   "source": [
    "- convert to dollars : `=TO_DOLLARS(A1)`\n",
    "- convert to percent : `=TO_PERCENT(A1)`\n",
    "- convert to number : `=N(A1)`\n",
    "- convert to another unit : `=CONVERT(A1,\"ft^2\",\"m^2\")`\n",
    "- convert logical to number : `=IF(A1,1,0)`\n",
    "- To make the text into a clickable hyperlink: `=HYPERLINK(A1,B1)`\n",
    "    - Show content of B1 but it is a link that contains A1 hyperlink"
   ]
  },
  {
   "cell_type": "markdown",
   "metadata": {},
   "source": [
    "# Filter"
   ]
  },
  {
   "cell_type": "markdown",
   "metadata": {},
   "source": [
    "- `=FILTER(A2:H20,H2:H20=TRUE)`\n",
    "    - Take a dataset in range `A2:H20`\n",
    "    - Check for condition of a column : `H2:H20=TRUE`\n",
    "    - Return all values that meet the condition"
   ]
  }
 ],
 "metadata": {
  "kernelspec": {
   "display_name": "Python 3.8.3 ('base')",
   "language": "python",
   "name": "python3"
  },
  "language_info": {
   "name": "python",
   "version": "3.8.3"
  },
  "orig_nbformat": 4,
  "vscode": {
   "interpreter": {
    "hash": "dc575bfddb5c8ca4bb6a4f4dcdd32abc104b5fa4177361381c432fff36ce3e46"
   }
  }
 },
 "nbformat": 4,
 "nbformat_minor": 2
}
