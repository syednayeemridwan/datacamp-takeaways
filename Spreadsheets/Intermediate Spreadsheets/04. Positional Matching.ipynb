{
 "cells": [
  {
   "cell_type": "markdown",
   "metadata": {},
   "source": [
    "# Address reference"
   ]
  },
  {
   "cell_type": "markdown",
   "metadata": {},
   "source": [
    "- See row value in integer : `=ROW(A5)`\n",
    "- See column value in integer : `=COLUMN(A5)`\n",
    "- Create Absolute Address from row cell and column cell :  `=ADDRESS(A1,A2)`\n",
    "- Create Relative Address from row cell and column cell :  `=ADDRESS(A1,A2,4)`\n",
    "- Create pointer to redirect cell address: `= INDIRECT(A1)`\n",
    "    - go to A1, take the value of A1 as the address of target cell, go to that cell and fetch the value\n",
    "- Find value of a cell relative to specified cell A1: `=OFFSET(A3,3,1)`\n",
    "    - Go to cell A3\n",
    "    - go down 3 cells\n",
    "    - go right 1 cell\n",
    "    - take that cell's value\n",
    "- Find value of a cell in a matrix / dataset: `=INDEX($A$1:$B$6,3,1)`\n",
    "    - Go to cell $A$1, as the starting point of dataset / matrix\n",
    "    - go to row no 3 of dataset \n",
    "    - go to column no 1 of dataset \n",
    "    - take that cell's value\n"
   ]
  },
  {
   "cell_type": "markdown",
   "metadata": {},
   "source": [
    "# Lookup a value in a dataset"
   ]
  },
  {
   "cell_type": "markdown",
   "metadata": {},
   "source": [
    "- `=VLOOKUP(A1, $A$5:$B$10, 2, FALSE)`\n",
    "    - Take value in A1,\n",
    "    - Find where that value matches in whole dataset `$A$5:$B$10`\n",
    "    - Take the row of the match in dataset\n",
    "    - return the value from second column\n",
    "    - `FALSE` means strict match, `TRUE` means any close match to nearest number"
   ]
  },
  {
   "cell_type": "markdown",
   "metadata": {},
   "source": [
    "# Sorting Data"
   ]
  },
  {
   "cell_type": "markdown",
   "metadata": {},
   "source": [
    "- `=SORT($A$5:$B$10, 2, FALSE)`\n",
    "    - Sort the whole table / dataset by second column\n",
    "    - `FALSE` means descending order, `TRUE` means ascending order"
   ]
  },
  {
   "cell_type": "markdown",
   "metadata": {},
   "source": [
    "# Find value in sorted dataset"
   ]
  },
  {
   "cell_type": "markdown",
   "metadata": {},
   "source": [
    "- `=MATCH(10000, $A$5:$B$10, -1)`\n",
    "    - Find 10000 in the whole table / dataset\n",
    "    - The dataset is in descending order (-1) or ascending order (1)\n",
    "    - returns the position of the value in the sorted order"
   ]
  }
 ],
 "metadata": {
  "kernelspec": {
   "display_name": "Python 3.8.11 ('env_py')",
   "language": "python",
   "name": "python3"
  },
  "language_info": {
   "name": "python",
   "version": "3.8.11"
  },
  "orig_nbformat": 4,
  "vscode": {
   "interpreter": {
    "hash": "1e949e87132dd83f1a7623eb88007e3532b03b66b77111be347aa4a383049722"
   }
  }
 },
 "nbformat": 4,
 "nbformat_minor": 2
}
