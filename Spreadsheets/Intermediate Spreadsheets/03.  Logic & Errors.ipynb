{
 "cells": [
  {
   "cell_type": "markdown",
   "metadata": {},
   "source": [
    "# Logical Operations"
   ]
  },
  {
   "cell_type": "markdown",
   "metadata": {},
   "source": [
    "- inverse logical : `=NOT(A1)`\n",
    "- logical AND (false when any input is false, true otherwise): `=AND(A1,A2)`\n",
    "- logical OR (True when any input is true, false otherwise): `=OR(A1,A2)`"
   ]
  },
  {
   "cell_type": "markdown",
   "metadata": {},
   "source": [
    "# Flow Control"
   ]
  },
  {
   "cell_type": "markdown",
   "metadata": {},
   "source": [
    "- Uses Logical value to identify which flow to operate\n",
    "- Single condition (if and else): `= IF(A3>3, \"if_true_then_this\",\"if_false_then_this\")`\n",
    "- Multiple condition (multiple if, no else, `#N/A` if no condition met): `= IFS(A1, \"if_A1_then_this\",A2,\"if_A2_then_this\")`\n",
    "- Switch transformation (transform categorical variables into numerical, `#N/A` if no match is found): `=SWITCH(A1,\"JAN\",1,\"FEB\",2)`"
   ]
  },
  {
   "cell_type": "markdown",
   "metadata": {},
   "source": [
    "# Dealing with Blanks or Errors"
   ]
  },
  {
   "cell_type": "markdown",
   "metadata": {},
   "source": [
    "- Check Blank : `=ISBLANK(A1)`\n",
    "- Check Error (all errors produced by functions + missing values): `=ISERROR(A1)`\n",
    "- Check Error (all errors produced by functions , Blanks and missing are not errors): `=ISERR(A1)`\n",
    "- Create N/A : `=NA()`\n",
    "- Count total blank cells in the range: `=COUNTBLANK(A1:A10)`\n",
    "- Correct way to compute with blank (if blank, then `#N/A` ERROR, else OK): `=IF(ISBLANK(A2),NA(),A2)`\n",
    "- Other errors:\n",
    "    - `#DIV/0!` : Dividing by zero\n",
    "    - `#VALUE!` : Nonsense value in calculation\n",
    "    - `#REF!` : Reference error\n",
    "    - `#NAME?` : Forgetting quote in string\n",
    "    - `#NUM!` : Numbers out of range\n",
    "    - `#N/A` : Missing value\n",
    "    - `#ERROR!` : Syntax in formula"
   ]
  },
  {
   "cell_type": "markdown",
   "metadata": {},
   "source": [
    "# FILTER"
   ]
  },
  {
   "cell_type": "markdown",
   "metadata": {},
   "source": [
    "- `=FILTER(A2:E10, E2:E10>5)`\n",
    "    - Takes the dataset `A2:E10`\n",
    "    - Returns the rows where `E` column values are `>5`"
   ]
  }
 ],
 "metadata": {
  "kernelspec": {
   "display_name": "Python 3.8.11 ('env_py')",
   "language": "python",
   "name": "python3"
  },
  "language_info": {
   "name": "python",
   "version": "3.8.11"
  },
  "orig_nbformat": 4,
  "vscode": {
   "interpreter": {
    "hash": "1e949e87132dd83f1a7623eb88007e3532b03b66b77111be347aa4a383049722"
   }
  }
 },
 "nbformat": 4,
 "nbformat_minor": 2
}
