{
 "cells": [
  {
   "cell_type": "markdown",
   "metadata": {},
   "source": [
    "# Conditional Formatting"
   ]
  },
  {
   "cell_type": "markdown",
   "metadata": {},
   "source": [
    "- For medium size data\n",
    "- Remains when underlying data changes\n",
    "- `Single Color` (Most of the time) or `Color Scale`\n",
    "- Creating : `A1:A10` > `Format` > `Conditional Formatting` > `Add another rule`\n",
    "- Inside `Single Color` Tab:\n",
    "    - `Apply to range` : Address you need to type or select with mouse\n",
    "    - `Format Rules` > `Format Cells if` : Rules to choose from (`Custom formula is` will allow customization)\n",
    "    - Multiple rule possible\n",
    "    - You can change font / style / background in each rule\n",
    "- Common `Format Cells if` rules:\n",
    "    - `Text contains`\n",
    "    - `Greater than`\n",
    "    - `Between`\n",
    "- `Color Scale` Tab: \n",
    "    - Allows to measure the difference in degree of variance\n",
    "    - multiple color grading : divergence / gradual increase etc"
   ]
  },
  {
   "cell_type": "markdown",
   "metadata": {},
   "source": [
    "# Change Date Settings"
   ]
  },
  {
   "cell_type": "markdown",
   "metadata": {},
   "source": [
    "- `File` > `Spreadsheet Settings...` > `General` > Adjust time zone and date settings\n",
    "- Dates are stored as numbers\n",
    "- Times are stored as numbers with"
   ]
  }
 ],
 "metadata": {
  "kernelspec": {
   "display_name": "Python 3.8.11 ('env_py')",
   "language": "python",
   "name": "python3"
  },
  "language_info": {
   "name": "python",
   "version": "3.8.11"
  },
  "orig_nbformat": 4,
  "vscode": {
   "interpreter": {
    "hash": "1e949e87132dd83f1a7623eb88007e3532b03b66b77111be347aa4a383049722"
   }
  }
 },
 "nbformat": 4,
 "nbformat_minor": 2
}
