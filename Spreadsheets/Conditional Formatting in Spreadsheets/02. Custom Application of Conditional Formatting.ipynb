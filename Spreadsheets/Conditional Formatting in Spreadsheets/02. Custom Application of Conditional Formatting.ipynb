{
 "cells": [
  {
   "cell_type": "markdown",
   "metadata": {},
   "source": [
    "# Custom conditional formatting"
   ]
  },
  {
   "cell_type": "markdown",
   "metadata": {},
   "source": [
    "- Similar to if statement\n",
    "- `Conditional Formatting` > `Single color` tab > `Format cells if :` > `Custom formula is` > `= A2 = \"Abir\"`\n",
    "- Always write custom formula for the first cell in the range that meets the criteria (It will be by default dynamic- no need to worry about other cells below it)\n",
    "- You can use multiple conditions\n",
    "- You can create custom conditions with `AND` and `OR`\n",
    "    - `...` > `Custom formula is` > `= OR(C2<6,ISTEXT(D2))`\n",
    "    - `...` > `Custom formula is` > `= AND(C2<6,ISTEXT(D2))`\n",
    "- Highlight rows:\n",
    "    - Highlight all dataset \n",
    "    - Left to right\n",
    "    - Top to below\n",
    "    - Fix column (since row is changing)\n",
    "    - > `...` > `Custom formula is` > `= $B2 = 8`"
   ]
  }
 ],
 "metadata": {
  "kernelspec": {
   "display_name": "Python 3.8.11 ('env_py')",
   "language": "python",
   "name": "python3"
  },
  "language_info": {
   "name": "python",
   "version": "3.8.11"
  },
  "orig_nbformat": 4,
  "vscode": {
   "interpreter": {
    "hash": "1e949e87132dd83f1a7623eb88007e3532b03b66b77111be347aa4a383049722"
   }
  }
 },
 "nbformat": 4,
 "nbformat_minor": 2
}
