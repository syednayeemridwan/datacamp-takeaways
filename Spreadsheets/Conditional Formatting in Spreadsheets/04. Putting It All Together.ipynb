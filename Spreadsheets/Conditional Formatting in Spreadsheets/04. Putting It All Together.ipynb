{
 "cells": [
  {
   "cell_type": "markdown",
   "metadata": {},
   "source": [
    "# Some Useful Functions"
   ]
  },
  {
   "cell_type": "markdown",
   "metadata": {},
   "source": [
    "- `=ISDATE(A1)` : Checks if A1 holds a valid date, boolean data-type\n",
    "- `=COUNTIF(A:A,A2)` : Checks the count of an entry in entire column\n",
    "- `=AND(A1,B1)` : True if both are True\n",
    "- `=OR(A1,B1)` : True if Any one is True\n",
    "- When using built in conditional text formatting option: Do not use quote, use TEXT directly (`SAT`) instead of (`= \"SAT\"`)\n",
    "- For ascending / descending values, use one way color pallette\n",
    "- For 2 directional values, use divergence pallette\n",
    "- To combine rules, use `AND` and `OR` or combination of them\n"
   ]
  }
 ],
 "metadata": {
  "kernelspec": {
   "display_name": "Python 3.8.11 ('env_py')",
   "language": "python",
   "name": "python3"
  },
  "language_info": {
   "name": "python",
   "version": "3.8.11"
  },
  "orig_nbformat": 4,
  "vscode": {
   "interpreter": {
    "hash": "1e949e87132dd83f1a7623eb88007e3532b03b66b77111be347aa4a383049722"
   }
  }
 },
 "nbformat": 4,
 "nbformat_minor": 2
}
