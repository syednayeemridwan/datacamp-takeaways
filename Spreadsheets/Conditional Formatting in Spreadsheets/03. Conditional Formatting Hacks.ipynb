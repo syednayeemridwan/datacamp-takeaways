{
 "cells": [
  {
   "cell_type": "markdown",
   "metadata": {},
   "source": [
    "# Finding Duplicate Values"
   ]
  },
  {
   "cell_type": "markdown",
   "metadata": {},
   "source": [
    "- Highlight all dataset \n",
    "    - Select a column\n",
    "    - Keep the range's row fixed (Because we are searching in a specific number of rows)\n",
    "    - Select the first duplicate cell in column: `A3`\n",
    "    - > `...` > `Custom formula is` > `= COUNTIF(A$3:A$18,A3)`"
   ]
  },
  {
   "cell_type": "markdown",
   "metadata": {},
   "source": [
    "# Search Function"
   ]
  },
  {
   "cell_type": "markdown",
   "metadata": {},
   "source": [
    "- Highlight rows with substring match\n",
    "- Works in single cell / whole range\n",
    "\n",
    "- `SEARCH` :\n",
    "    - Ignores case\n",
    "    - If found, returns a value > 0\n",
    "    - `= SEARCH(\"Ab\",\"ABIR\")`\n",
    "    - Using in custom formula : `=SEARCH(E$3,B$3:B$19)>0`\n",
    "\n",
    "- `FIND` :\n",
    "    - Case sensitive\n",
    "    - If found, returns a value > 0\n",
    "    - `= FIND(\"AB\",\"ABIR\")`\n",
    "    - Using in custom formula : `= FIND($A$1, $C2) > 0`"
   ]
  },
  {
   "cell_type": "markdown",
   "metadata": {},
   "source": [
    "# Highlight Top / Bottom values"
   ]
  },
  {
   "cell_type": "markdown",
   "metadata": {},
   "source": [
    "- Large\n",
    "    - Returns n-th largest values from a range\n",
    "    - `=LARGE(A1:A10,3)`\n",
    "    - Using in custom formula: \n",
    "        - `=C2 = LARGE(A$1:A$10, 3)` : exactly the 3rd largest number\n",
    "        - `=C2 >= LARGE(A$1:A$10, 3)` : the 3rd largest number along with the rest of the largest numbers\n",
    "\n",
    "- Small\n",
    "    - Returns n-th smallest values from a range\n",
    "    - `=SMALL(A1:A10,3)`\n",
    "    - Using in custom formula: \n",
    "        - `=C2 = SMALL(A$1:A$10, 3)` : exactly the 3rd smallest number\n",
    "        - `=C2 <= SMALL(A$1:A$10, 3)` : the 3rd smallest number along with the rest of the smallest numbers"
   ]
  },
  {
   "cell_type": "markdown",
   "metadata": {},
   "source": [
    "# Checkbox"
   ]
  },
  {
   "cell_type": "markdown",
   "metadata": {},
   "source": [
    "- `Insert` > `Checkbox`\n",
    "- A square box will appear\n",
    "- You can copy-paste this box in other cells\n",
    "- When a checkbox is `ticked` = The cell value is `TRUE`\n",
    "- Using in custom formula: `=A4 = TRUE`\n",
    "- Make fonts style : `Strikethrough` Ticked\n",
    "- Make background cell of font : `Gray`"
   ]
  }
 ],
 "metadata": {
  "kernelspec": {
   "display_name": "Python 3.8.11 ('env_py')",
   "language": "python",
   "name": "python3"
  },
  "language_info": {
   "name": "python",
   "version": "3.8.11"
  },
  "orig_nbformat": 4,
  "vscode": {
   "interpreter": {
    "hash": "1e949e87132dd83f1a7623eb88007e3532b03b66b77111be347aa4a383049722"
   }
  }
 },
 "nbformat": 4,
 "nbformat_minor": 2
}
