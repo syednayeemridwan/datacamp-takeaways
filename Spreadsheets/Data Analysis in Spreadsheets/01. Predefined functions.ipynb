{
 "cells": [
  {
   "cell_type": "markdown",
   "metadata": {},
   "source": [
    "# ROUND"
   ]
  },
  {
   "cell_type": "markdown",
   "metadata": {},
   "source": [
    "- `=ROUND(7.27)` would evaluate to 7:"
   ]
  },
  {
   "cell_type": "markdown",
   "metadata": {},
   "source": [
    "# SQRT"
   ]
  },
  {
   "cell_type": "markdown",
   "metadata": {},
   "source": [
    "- `SQRT(4)`: the square root of a value (2)"
   ]
  },
  {
   "cell_type": "markdown",
   "metadata": {},
   "source": [
    "# MIN, MAX"
   ]
  },
  {
   "cell_type": "markdown",
   "metadata": {},
   "source": [
    "- `MIN()`: searches for the minimum value in its arguments\n",
    "- `MAX()`: searches for the maximum value in its arguments\n",
    "- `MAX` and `MIN` could also be used with multiple arguments: for example `MAX(1, 5, 2)` or even `MIN(A1:A7, B7:D7)`."
   ]
  },
  {
   "cell_type": "markdown",
   "metadata": {},
   "source": [
    "# SUM, AVERAGE, MEDIAN"
   ]
  },
  {
   "cell_type": "markdown",
   "metadata": {},
   "source": [
    "- `SUM(value1, [value2, ...])`: calculates the sum of all its arguments\n",
    "- `AVERAGE(value1, [value2, ...])`: calculates the average of all its arguments\n",
    "- `MEDIAN(value1, [value2, ...])`: calculates the median of all its arguments\n",
    "\n",
    "In the function documentation, you'll see arguments between square brackets ([) sometimes. It means these are optional."
   ]
  },
  {
   "cell_type": "markdown",
   "metadata": {},
   "source": [
    "# RANK"
   ]
  },
  {
   "cell_type": "markdown",
   "metadata": {},
   "source": [
    "- if `A1:A3` contains the values: 3, 1, 2, then `=RANK(A1, $A$1:$A$3)` will evaluate to 1, since it's the highest number.\n",
    "- `RANK(value, data, [is_ascending])`: when `is_ascending` is 1, the rank is considered in an ascending order of the data. It defaults to 0, meaning the rank will be considered in a descending list of data"
   ]
  },
  {
   "cell_type": "markdown",
   "metadata": {},
   "source": [
    "# LEFT, RIGHT"
   ]
  },
  {
   "cell_type": "markdown",
   "metadata": {},
   "source": [
    "- `LEFT(A1, [number_of_characters])`: selects the leftmost part of a string. The number of characters selected is defined in the optional argument number_of_characters, and defaults to 1.\n",
    "- `RIGHT(A1, [number_of_characters])`: selects the rightmost part of a string. The number of characters selected is defined in the optional argument number_of_characters, and defaults to 1."
   ]
  },
  {
   "cell_type": "markdown",
   "metadata": {},
   "source": [
    "# LEN, SEARCH"
   ]
  },
  {
   "cell_type": "markdown",
   "metadata": {},
   "source": [
    "- `=LEN(\"Cell\")` would evaluate to 4\n",
    "- `=SEARCH(\"e\", \"test test\")` would evaluate to 2"
   ]
  },
  {
   "cell_type": "markdown",
   "metadata": {},
   "source": [
    "# CONCATENATE"
   ]
  },
  {
   "cell_type": "markdown",
   "metadata": {},
   "source": [
    "- `=CONCATENATE(\"foo\", \" \", \"bar\")` evaluates to foo bar."
   ]
  },
  {
   "cell_type": "markdown",
   "metadata": {},
   "source": [
    "# WEEKDAY"
   ]
  },
  {
   "cell_type": "markdown",
   "metadata": {},
   "source": [
    "- `=WEEKDAY(A1, 2)` (where A1 contains the date 2019-01-01) would evaluate to 2, because January 1st 2019 fell on a Tuesday and setting type to 2 sets Monday at 1.\n",
    "\n",
    "- `WEEKDAY(date, [type])`: evaluates to the day of the week of a date. type is 1, 2 or 3.\n",
    "    - `type = 1`: Sunday is day 1 and Saturday is day 7 (default)\n",
    "    - `type = 2`: Monday is day 1 and Sunday is day 7\n",
    "    - `type = 3`: Monday is day 0 and Sunday is day 6\n"
   ]
  },
  {
   "cell_type": "markdown",
   "metadata": {},
   "source": [
    "# DATEDIF, NOW"
   ]
  },
  {
   "cell_type": "markdown",
   "metadata": {},
   "source": [
    "- `NOW()`: a function without arguments, evaluates to the current time\n",
    "- `=DATEDIF(\"2018-01-01\", \"2018-01-03\", \"D\")` would evaluate to 2\n",
    "- A third argument here is the unit, this can be:\n",
    "    - `\"Y\"`: the number of years between two dates\n",
    "    - `\"M\"`: the number of months between two dates\n",
    "    - `\"D\"`: the number of days between two dates"
   ]
  },
  {
   "cell_type": "markdown",
   "metadata": {},
   "source": [
    "# SUM"
   ]
  },
  {
   "cell_type": "markdown",
   "metadata": {},
   "source": [
    "- `SUM(value1, [value2, ...])`: calculates the sum of all its arguments"
   ]
  }
 ],
 "metadata": {
  "language_info": {
   "name": "python"
  },
  "orig_nbformat": 4
 },
 "nbformat": 4,
 "nbformat_minor": 2
}
