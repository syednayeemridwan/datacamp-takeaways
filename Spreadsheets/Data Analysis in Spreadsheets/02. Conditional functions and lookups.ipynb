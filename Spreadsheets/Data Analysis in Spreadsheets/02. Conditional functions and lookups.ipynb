{
 "cells": [
  {
   "cell_type": "markdown",
   "metadata": {},
   "source": [
    "# IF"
   ]
  },
  {
   "cell_type": "markdown",
   "metadata": {},
   "source": [
    "- `= IF(TRUE, 2, -2)` would evaluate to 2"
   ]
  },
  {
   "cell_type": "markdown",
   "metadata": {},
   "source": [
    "# OR, WEEKDAY"
   ]
  },
  {
   "cell_type": "markdown",
   "metadata": {},
   "source": [
    "- `=OR(A2 = 21, A2 = 22)` would evaluate to TRUE if A2 cell contains either 21 or 22\n",
    "- `WEEKDAY(date, [type])`: evaluates to the day of the week of a date. type is 1, 2 or 3.\n",
    "\n",
    "    - type = 1: Sunday is day 1 and Saturday is day 7 (default)\n",
    "    - type = 2: Monday is day 1 and Sunday is day 7\n",
    "    - type = 3: Monday is day 0 and Sunday is day 6"
   ]
  },
  {
   "cell_type": "markdown",
   "metadata": {},
   "source": [
    "# COUNTIF"
   ]
  },
  {
   "cell_type": "markdown",
   "metadata": {},
   "source": [
    "- if `A1:A3` contains \"good\", \"bad\", \"bad\", then `= COUNTIF(A1:A3, \"bad\")` evaluates to 2."
   ]
  },
  {
   "cell_type": "markdown",
   "metadata": {},
   "source": [
    "# SUMIF"
   ]
  },
  {
   "cell_type": "markdown",
   "metadata": {},
   "source": [
    "- if `A1:A3` holds \"Arun\", \"Dylan\", \"Dylan\" and `B1:B3` has 3, 4, 8, then `= SUMIF(A1:A3, \"Dylan\", B1:B3)` evaluates to 12."
   ]
  },
  {
   "cell_type": "markdown",
   "metadata": {},
   "source": [
    "# AVERAGEIF"
   ]
  },
  {
   "cell_type": "markdown",
   "metadata": {},
   "source": [
    "- if `A1:A3` holds \"Arun\", \"Dylan\", \"Dylan\" and `B1:B3` has 3, 4, 8, then `= AVERAGEIF(A1:A3, \"Dylan\", B1:B3)` evaluates to 6."
   ]
  },
  {
   "cell_type": "markdown",
   "metadata": {},
   "source": [
    "# Advanced Criterion For AVERAGEIF"
   ]
  },
  {
   "cell_type": "markdown",
   "metadata": {},
   "source": [
    "As specified in the documentation (https://support.google.com/docs/answer/3256529), the criterion argument can be a bit more advanced:\n",
    "\n",
    "- Equals: 1 or \"= 1\"\n",
    "- Greater than: \"> 1\"\n",
    "- Greater than or equal to: \">= 1\"\n",
    "- Less than: \"< 1\"\n",
    "- Less than or equal to: \"<= 1\"\n",
    "- Not equal to: \"<> 1\""
   ]
  },
  {
   "cell_type": "markdown",
   "metadata": {},
   "source": [
    "# FILTER, DATEVALUE, MEDIAN"
   ]
  },
  {
   "cell_type": "markdown",
   "metadata": {},
   "source": [
    "- `DATEVALUE(date_string)`: evaluates to the date object of a date_string\n",
    "- `=AVERAGE(FILTER(D3:D26, E3:E26 = \"Dinner\"))`. Here, we filter the range of amount spent `(D3:D26)` based on whether the range `E3:E26` contains the word `\"Dinner\"`. We then take the average of this filtered range.\n",
    "- `FILTER` keeps the subset of range from given range where it/ it's paired column meets the condition `criteria`"
   ]
  },
  {
   "cell_type": "markdown",
   "metadata": {},
   "source": [
    "# Condition for FILTER"
   ]
  },
  {
   "cell_type": "markdown",
   "metadata": {},
   "source": [
    "- Not a string\n",
    "- It is a range of logical values, for example `A1:A5 > 5`"
   ]
  },
  {
   "cell_type": "markdown",
   "metadata": {},
   "source": [
    "# VLOOKUP"
   ]
  },
  {
   "cell_type": "markdown",
   "metadata": {},
   "source": [
    "- `=VLOOKUP(C3,$B$15:$D$26,2,0)` searches inside a tablee `B15:D26` for a row that matches the value in `C3` and returns that row's `Second` column's entry, `Without` sorting (Exact match)\n",
    "- `A` has: `\"ML101\", \"CP101\"` and `B` has: `3, 6`. Then `=VLOOKUP(\"CP101\", $A$1:$B$2, 2, FALSE)` evaluates to 6. \n",
    "- `FALSE`or `0` means exact match\n",
    "- `TRUE` or `1` means close match is okay"
   ]
  },
  {
   "cell_type": "markdown",
   "metadata": {},
   "source": [
    "# HLOOKUP"
   ]
  },
  {
   "cell_type": "markdown",
   "metadata": {},
   "source": [
    "-  `=HLOOKUP(E3,$B$29:$H$30,2,1)` searches inside a table `$B$29:$H$30` for a column that matches the value in `E3` and returns that column's `Second` row's entry `With` sorting (Close match).\n",
    "- `FALSE`or `0` means exact match\n",
    "- `TRUE` or `1` means close match is okay"
   ]
  },
  {
   "cell_type": "markdown",
   "metadata": {},
   "source": [
    "# SUMPRODUCT"
   ]
  },
  {
   "cell_type": "markdown",
   "metadata": {},
   "source": [
    "- `SUMPRODUCT(A1:A3, B1:B3)` evaluates to the result of `(A1 * B1) + (A2 * B2 )+ (A3 * B3)`"
   ]
  }
 ],
 "metadata": {
  "kernelspec": {
   "display_name": "Python 3.8.11 ('env_py')",
   "language": "python",
   "name": "python3"
  },
  "language_info": {
   "name": "python",
   "version": "3.8.11"
  },
  "orig_nbformat": 4,
  "vscode": {
   "interpreter": {
    "hash": "1e949e87132dd83f1a7623eb88007e3532b03b66b77111be347aa4a383049722"
   }
  }
 },
 "nbformat": 4,
 "nbformat_minor": 2
}
