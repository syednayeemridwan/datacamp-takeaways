{
 "cells": [
  {
   "cell_type": "markdown",
   "metadata": {},
   "source": [
    "# Compounding"
   ]
  },
  {
   "cell_type": "markdown",
   "metadata": {},
   "source": [
    "- When you invest money, you get profit \n",
    "- $100 investment 10% profit = $10 profit\n",
    "- You invest that amount again\n",
    "- $110 investment 10% profit = $11 profit\n",
    "- Compounding frequency : Number of times the interest is added back to original investment\n",
    "    - Annual rate = once a year\n",
    "    - Weekly rate = 52 times a year\n",
    "- nominal interest rate : Not compound interest\n",
    "- Effective interest rate :\n",
    "    - Accounts for compound interest\n",
    "    - Formula: `[(1 + nominal_rate/compound_frequency)^compound_frequency - 1 ]`\n",
    "    - `compound_frequency` :\n",
    "    1. Annual = 1,\n",
    "    2. Monthly = 12,\n",
    "    3. Weekly = 52\n",
    "- Future value:\n",
    "    - How much money you can make in the future\n",
    "    - `=fv(effective_interest_rate, number_of_payment_periods, extra_payment_amount_in_each_period, -present_value)`"
   ]
  },
  {
   "cell_type": "markdown",
   "metadata": {},
   "source": [
    "# Sample"
   ]
  },
  {
   "cell_type": "markdown",
   "metadata": {},
   "source": [
    "<center><img src=\"images/07.jpg\"  style=\"width: 400px, height: 300px;\"/></center>"
   ]
  },
  {
   "cell_type": "markdown",
   "metadata": {},
   "source": [
    "# Other Terms"
   ]
  },
  {
   "cell_type": "markdown",
   "metadata": {},
   "source": [
    "- Problem Statement: How much do you need to save in each payment over 18 years to make it $60000 for your child's university cost?\n",
    "- Annuity:\n",
    "    - A series of payments (insurance, pension, investments)\n",
    "    - Formula: `=PMT(interest_rate, number_of_periods, -present_value, future_value)`"
   ]
  },
  {
   "cell_type": "markdown",
   "metadata": {},
   "source": [
    "# Sample"
   ]
  },
  {
   "cell_type": "markdown",
   "metadata": {},
   "source": [
    "<center><img src=\"images/08.jpg\"  style=\"width: 400px, height: 300px;\"/></center>\n"
   ]
  },
  {
   "cell_type": "markdown",
   "metadata": {},
   "source": [
    "- Problem Statement : How much can you withdraw yearly over the period of your child's university life?\n",
    "- calculate the number of withdrawals you can make on the present value of the annuity you paid\n",
    "- Formula: `=nper(interest_rate, payment_amount, -present_value_starting_balance, future_value_ending_balance)`"
   ]
  },
  {
   "cell_type": "markdown",
   "metadata": {},
   "source": [
    "# Sample"
   ]
  },
  {
   "cell_type": "markdown",
   "metadata": {},
   "source": [
    "<center><img src=\"images/09.jpg\"  style=\"width: 400px, height: 300px;\"/></center>\n"
   ]
  },
  {
   "cell_type": "markdown",
   "metadata": {},
   "source": [
    "# Loan amortization table"
   ]
  },
  {
   "cell_type": "markdown",
   "metadata": {},
   "source": [
    "- A loan is a borrowed money that is paid back with interest over time\n",
    "- Each payment is split into interest and payment\n",
    "- Interest portion starts high, decreases over time\n",
    "- Principal portion starts low, increases over time\n",
    "- Amount owed decreases over time\n",
    "- Each payment is fixed amount/ `annual_payment`\n",
    "    - formula: `=PMT(interest_rate, number_of_payments, -present_value_starting_balance)`\n",
    "- Each years `Beginning_balance` = previous year's `Year-end_Balance` ELSE `Initial_loan_amount`\n",
    "- Each years `interest_component` = previous years `Beginning_balance * interest_rate`\n",
    "- Each years `principal_paid` = `annual_payment - interest_component`\n",
    "- `Year-end_Balance` = `Beginning_balance - principal_paid`"
   ]
  },
  {
   "cell_type": "markdown",
   "metadata": {},
   "source": [
    "# Sample"
   ]
  },
  {
   "cell_type": "markdown",
   "metadata": {},
   "source": [
    "<center><img src=\"images/10.jpg\"  style=\"width: 400px, height: 300px;\"/></center>\n"
   ]
  }
 ],
 "metadata": {
  "kernelspec": {
   "display_name": "Python 3.8.11 ('env_py')",
   "language": "python",
   "name": "python3"
  },
  "language_info": {
   "name": "python",
   "version": "3.8.11"
  },
  "orig_nbformat": 4,
  "vscode": {
   "interpreter": {
    "hash": "1e949e87132dd83f1a7623eb88007e3532b03b66b77111be347aa4a383049722"
   }
  }
 },
 "nbformat": 4,
 "nbformat_minor": 2
}
