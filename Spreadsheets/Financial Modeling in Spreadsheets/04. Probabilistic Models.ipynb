{
 "cells": [
  {
   "cell_type": "markdown",
   "metadata": {},
   "source": [
    "# Uncertainty"
   ]
  },
  {
   "cell_type": "markdown",
   "metadata": {},
   "source": [
    "- Stocks : Share in a company\n",
    "- Modeling stock is difficult\n",
    "    - because of its volatility (prices change rapidly)\n",
    "- No of days data : `= COUNT(date_col_range)`\n",
    "- Volatility : Measure of variability of a stock over time\n",
    "    - More volatile stock = More risky\n",
    "    - formula : `= std_daily_return * SQRT(No_of_days_or_time_for_365_days)`\n",
    "    - after calculation, it is converted to yearly rate\n",
    "- Relative price:  Current days stock price compared to previous day\n",
    "    - formula: `=some_day / previous_day`\n",
    "    - Remove any row with `#DIV/0`\n",
    "- Daily return: represents proportion change across days\n",
    "    - formula: `ln(relative_price)`\n",
    "- Mean daily return : `=AVERGE(daily_return_col_range)`\n",
    "- std daily return : `=STDEV(daily_return_col_range)`"
   ]
  },
  {
   "cell_type": "markdown",
   "metadata": {},
   "source": [
    "# Sample"
   ]
  },
  {
   "cell_type": "markdown",
   "metadata": {},
   "source": [
    "- See 04.04"
   ]
  },
  {
   "cell_type": "markdown",
   "metadata": {},
   "source": [
    "# Simulating stock price"
   ]
  },
  {
   "cell_type": "markdown",
   "metadata": {},
   "source": [
    "- Expected return (meu) :\n",
    "    - the expected return if we had all the data across time (entire population of data)\n",
    "- Expected return (k) :\n",
    "    - the compounded rate of return of available data (sample of data)\n",
    "    - formula : `= Expected return meu - (volatility)^2 / 2 `\n",
    "- Simulate random normal data:\n",
    "    - formula : `= NORMSINV(RAND())`\n",
    "    - `NORMSINV` takes a probability and returns a z-score\n",
    "    - `RAND` generates a random number from 0 to 1\n",
    "- Simulation:\n",
    "    - 1st day entry : \n",
    "        - `random`=x , \n",
    "        - `stock_price` = real_price, \n",
    "        - `certainty` = real_price\n",
    "    - 2nd day entry : \n",
    "        - `random` = random normal data,  \n",
    "        - stock_price = our prediction\n",
    "        - `stock_price` = `1st day stock_price * exp(expected_return_k * 1 / 252 + volatility * random_normal_val * SQRT (1/252))`, \n",
    "        - why 252 ? 252 days are stock days in a year = annualization \n",
    "        - certainty = how much a stock should be over time.\n",
    "        - `certainty` = `1st day certainty * exp(expected_return_k * 1 / 252)` \n",
    "    - the more data, the better the simulation (at least 100)\n",
    "    - Visualize: Select the stock_price and certainty column > `Insert` > `Chart` > `Line Chart`\n",
    "    - Since this is a simulation based on random number, each simulation would be different\n"
   ]
  },
  {
   "cell_type": "markdown",
   "metadata": {},
   "source": [
    "# Sample"
   ]
  },
  {
   "cell_type": "markdown",
   "metadata": {},
   "source": [
    "- See 04.08"
   ]
  },
  {
   "cell_type": "markdown",
   "metadata": {},
   "source": [
    "# Stock Probabilities"
   ]
  },
  {
   "cell_type": "markdown",
   "metadata": {},
   "source": [
    "- Stock prices are log normal (If you take log of values and visualize it, it will be normal distribution)\n",
    "- stock price change is normally distributed (we saw when we tried to forecast with normal random variable)\n",
    "- Expected return K\n",
    "    - formula : `= meu - (volatility^2)/2`\n",
    "- time return / time horizon : number of years to estimate holding the stock over\n",
    "- `minimum stock price` :\n",
    "    - 4 standard deviation below the mean\n",
    "    - formula : `=EXP(ln(strock_price)+k * time_horizon) - 4 * volatility *SQRT(time_horizon))`\n",
    "- `maximum stock price` :\n",
    "    - 4 standard deviation above the mean\n",
    "    - formula : `=EXP(ln(strock_price)+k * time_horizon) + 4 * volatility *SQRT(time_horizon))`\n",
    "- Stock price of n steps:\n",
    "    - generate  n number of stock prices and their probabilities\n",
    "    - formula: = `stock_step = (maximum stock price - minimum stock price) / n`\n",
    "    - larger n gives a better distribution scenario\n",
    "        1. Step 1 formula: `= minimum stock price`\n",
    "        2. Step 2 and later formula: `= previous_value + stock_step`\n",
    "        3. do this for the n rows until you reach `maximum stock price`"
   ]
  },
  {
   "cell_type": "markdown",
   "metadata": {},
   "source": [
    "# Sample"
   ]
  },
  {
   "cell_type": "markdown",
   "metadata": {},
   "source": [
    "- See 04.11"
   ]
  },
  {
   "cell_type": "markdown",
   "metadata": {},
   "source": [
    "# Different probabilities"
   ]
  },
  {
   "cell_type": "markdown",
   "metadata": {},
   "source": [
    "- Cumulative probability :\n",
    "    - the probability of that value and all the values below it together\n",
    "    - formula : \n",
    "        - `=NORMDIST(ln(stock_price_step), ln(stock_price_now) + time_horizon * expected_return_k, volatility * SQRT(time_horizon), TRUE)`\n",
    "- Density probability :\n",
    "    - the probability of only that value \n",
    "    - formula : `=next_row_cumulative_probability - this_row_cumulative_probability`\n",
    "        - the last row's probability cannot be counted this way\n",
    "- Visualize : Select ranges > `Insert` > `Chart` > `Line Chart`"
   ]
  },
  {
   "cell_type": "markdown",
   "metadata": {},
   "source": [
    "# Sample"
   ]
  },
  {
   "cell_type": "markdown",
   "metadata": {},
   "source": [
    "- See 04.15"
   ]
  }
 ],
 "metadata": {
  "kernelspec": {
   "display_name": "Python 3.8.11 ('env_py')",
   "language": "python",
   "name": "python3"
  },
  "language_info": {
   "name": "python",
   "version": "3.8.11"
  },
  "orig_nbformat": 4,
  "vscode": {
   "interpreter": {
    "hash": "1e949e87132dd83f1a7623eb88007e3532b03b66b77111be347aa4a383049722"
   }
  }
 },
 "nbformat": 4,
 "nbformat_minor": 2
}
