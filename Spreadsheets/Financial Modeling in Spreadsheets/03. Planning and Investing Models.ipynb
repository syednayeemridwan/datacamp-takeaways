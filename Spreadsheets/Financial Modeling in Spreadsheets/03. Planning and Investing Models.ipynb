{
 "cells": [
  {
   "cell_type": "markdown",
   "metadata": {},
   "source": [
    "# Saving Retirement Money in Real Dollars"
   ]
  },
  {
   "cell_type": "markdown",
   "metadata": {},
   "source": [
    "- Real Dollars = Assumes uniform stock returns\n",
    "- Estimated annual return on your saved money after retiring \n",
    "- how much money do you wish to withdraw each year?\n",
    "- What is the fixed interest rate on your saved money?\n",
    "- Your target capital = `withdrawal / return`\n",
    "- How many years till retirement?\n",
    "- `interest_rate = (1 + annual_savings_rate)^(1/12) - 1)` [remember compounding effect of interest on your already saved monthly amount]\n",
    "- formula : `=PMT(interest_rate, number_of_periods, present_value_as_zero , - future_value_to_target)`\n",
    "- Visualization: `Insert` > `Chart` > Chart Editor : `Line`\n",
    "\n"
   ]
  },
  {
   "cell_type": "markdown",
   "metadata": {},
   "source": [
    "# Sample"
   ]
  },
  {
   "cell_type": "markdown",
   "metadata": {},
   "source": [
    "- Attached 03.04"
   ]
  },
  {
   "cell_type": "markdown",
   "metadata": {},
   "source": [
    "# Saving Retirement Money in Nominal Dollars"
   ]
  },
  {
   "cell_type": "markdown",
   "metadata": {},
   "source": [
    "- Nominal Dollars = \n",
    "    - The amount of money you have now\n",
    "    - Inflation involved\n",
    "    - Volatility of stock involved\n",
    "    - Incorporate security horizon (years)\n",
    "    - Model will sell enough stock to maintain expenses through security horizon\n",
    "- First speify the fixed rate\n",
    "- Beginning year balance:\n",
    "    1. Year 1 Beginning = `initial_balance`\n",
    "    1. Year 2 Beginning = `fixed income beginning + stock holding beginning + annual withdrawal`\n",
    "- `fixed income holding balance beginning of year`:\n",
    "    - portion of total balance that you keep as income, while separating a portion of stock holding\n",
    "    - `interest_rate = [1 + return_on_income * (1 - ordinary_tax_rate)] / (1 + inflation_rate) - 1`\n",
    "    - `number_of_periods =  security_horizon_years - 1`\n",
    "    - `payment_amount = annual_withdrawal`\n",
    "    - formula : `=PV(interest_rate, number_of_periods, - payment_amount)`\n",
    "- Stock sales after taxes :\n",
    "    - You sale stock to make profit\n",
    "    - You pay tax on gain\n",
    "    - formula : `end_of_year_fixed_income_from_previous_year - beginning_of_year_fixed_income - withdrawal_amount`\n",
    "- Stock holdings:\n",
    "    - You keep holding your stock without selling\n",
    "    - formula : `total_beginning_balance - fixed income holding balance beginning of year - withdrawal_amount`\n",
    "    - for year 2 and later:\n",
    "        - formula : `year_end_stock_holding + stock_sales_after_tax / (1 - capital_gain_tax + capital_gain_tax * last_year_tax_basis / last_year_end_of_stock_holding)`\n",
    "        - `last_year_tax_basis` \n",
    "            1. For year 1 : `= stock_holding_beginning`\n",
    "            2. For year 2 and later : `= previous_year_tax_basis * stock_holding_year_beginning / previous_year_stock_holding_year_end`\n",
    "- Annual Withdrawal:\n",
    "    1. For year 1: `=initial_withdrawal`\n",
    "    2. for year 2 and later : `=initial_withdrawal * (1+ inflation) ^ (year - 1)`\n",
    "- Return on fixed income:\n",
    "    - `=fixed_income_beginning * return_on_fixed_income * (1 - ordinary_tax_rate)`\n",
    "- `Return on stocks`:\n",
    "    - `=stock_holding_year_beginning * return_on_stocks_rate_fixed`\n",
    "- `year end stock holding`:\n",
    "    - `= stock_holding_year_beginning + Return on stocks`\n",
    "- `year end fixed income holding`:\n",
    "    - `= fixed_income_beginning + Income_after_tax`\n",
    "- Total year end balance:\n",
    "    - `= year end stock holding +  year end fixed income holding`\n"
   ]
  },
  {
   "cell_type": "markdown",
   "metadata": {},
   "source": [
    "# Sample"
   ]
  },
  {
   "cell_type": "markdown",
   "metadata": {},
   "source": [
    "- Attached 03.08\n"
   ]
  },
  {
   "cell_type": "markdown",
   "metadata": {},
   "source": [
    "# Adjust model parameters\n"
   ]
  },
  {
   "cell_type": "markdown",
   "metadata": {},
   "source": [
    "- There might be times when `stock_holding` value turns negative\n",
    "- solution : Increase the initial balance until the value becomes positive"
   ]
  },
  {
   "cell_type": "markdown",
   "metadata": {},
   "source": [
    "# Sample\n"
   ]
  },
  {
   "cell_type": "markdown",
   "metadata": {},
   "source": [
    "- Attached 03.12"
   ]
  }
 ],
 "metadata": {
  "kernelspec": {
   "display_name": "Python 3.8.11 ('env_py')",
   "language": "python",
   "name": "python3"
  },
  "language_info": {
   "name": "python",
   "version": "3.8.11"
  },
  "orig_nbformat": 4,
  "vscode": {
   "interpreter": {
    "hash": "1e949e87132dd83f1a7623eb88007e3532b03b66b77111be347aa4a383049722"
   }
  }
 },
 "nbformat": 4,
 "nbformat_minor": 2
}
