{
 "cells": [
  {
   "cell_type": "markdown",
   "metadata": {},
   "source": [
    "# Financial Model"
   ]
  },
  {
   "cell_type": "markdown",
   "metadata": {},
   "source": [
    "- Representation of real world\n",
    "- Might include:\n",
    "    - Income statements (price movement):\n",
    "        - Sales : Money made from business\n",
    "        - Costs : Money spent in business\n",
    "        - EBIT : Earning before interest and taxes (Decrease of value of asset over time, administrative costs, cost behind people)\n",
    "        - Taxes : Taxes or other expenses\n",
    "        - Net Income : Money made after adjusting expenses\n",
    "        - Dividends : Money paid to shareholders after net income\n",
    "    - Cash flows ()\n",
    "    - Stock values\n",
    "- Convert Data type: \n",
    "    - Select whole data sheet\n",
    "    - `Format` > `Number` > `Financial`\n",
    "    - expenses are formatted as negative numbers automatically"
   ]
  },
  {
   "cell_type": "markdown",
   "metadata": {},
   "source": [
    "# Income Statement Formulas"
   ]
  },
  {
   "cell_type": "markdown",
   "metadata": {},
   "source": [
    "- `Gross operating income = Sales + (- Cost of Sales)`\n",
    "-  `EBIT = Gross operating income + Other income/expenses + (- Depreciation) + (- Administrative cost)`\n",
    "- `Pre-TAX income = EBIT + Interest Income + (- Interest Expense)`\n",
    "- `Net income = Pre-TAX income + (- Income Taxes)`\n",
    "- `Additional Earning = Net income + Dividends`"
   ]
  },
  {
   "cell_type": "markdown",
   "metadata": {},
   "source": [
    "# Sample"
   ]
  },
  {
   "cell_type": "markdown",
   "metadata": {},
   "source": [
    "<center><img src=\"images/01.jpg\"  style=\"width: 400px, height: 300px;\"/></center>"
   ]
  },
  {
   "cell_type": "markdown",
   "metadata": {},
   "source": [
    "# Balance Statement"
   ]
  },
  {
   "cell_type": "markdown",
   "metadata": {},
   "source": [
    "- Assets: Money owed to the company\n",
    "    - Inventory\n",
    "    - Equipment\n",
    "    - Depreciation (counted in negative value)\n",
    "    - Accounts receivable\n",
    "- Liabilities: Money owed to others\n",
    "    - Accounts payable\n",
    "    - Debt\n",
    "    - Other deferred income tax\n",
    "- Equity: Money Paid to shareholders\n",
    "    - Retained earnings\n",
    "- Convert Data type: \n",
    "    - Select whole data sheet\n",
    "    - `Format` > `Number` > `Financial`\n",
    "    - expenses are formatted as negative numbers automatically\n",
    "- Formula:\n",
    "    - `Assets = Equity + Liabilities`\n",
    "    - There is sum for each of these section which satisfy the above formula"
   ]
  },
  {
   "cell_type": "markdown",
   "metadata": {},
   "source": [
    "# Sample"
   ]
  },
  {
   "cell_type": "markdown",
   "metadata": {},
   "source": [
    "<center><img src=\"images/02.jpg\"  style=\"width: 400px, height: 300px;\"/></center>\n"
   ]
  },
  {
   "cell_type": "markdown",
   "metadata": {},
   "source": [
    "# Common Size Statements"
   ]
  },
  {
   "cell_type": "markdown",
   "metadata": {},
   "source": [
    "- Convert Statements into percentages\n",
    "- See where money is allocated\n",
    "- Convert income statements to a percentage based on sales\n",
    "- Convert balance statements to a percentage based on total assets and total (equity + liability)"
   ]
  },
  {
   "cell_type": "markdown",
   "metadata": {},
   "source": [
    "# Sample"
   ]
  },
  {
   "cell_type": "markdown",
   "metadata": {},
   "source": [
    "<center><img src=\"images/03.jpg\"  style=\"width: 400px, height: 300px;\"/></center>\n"
   ]
  },
  {
   "cell_type": "markdown",
   "metadata": {},
   "source": [
    "# Cash Flow Statement"
   ]
  },
  {
   "cell_type": "markdown",
   "metadata": {},
   "source": [
    "- Operating Expenses : Day to day expenses\n",
    "    - Inventory\n",
    "    - Product\n",
    "- Investing Expenses : Things business owns\n",
    "    - Property\n",
    "    - Equipment\n",
    "    - Security\n",
    "- Financing : Paid and borrowed amount from different sources\n",
    "- Formula:\n",
    "    - Get `Net Income` and `Cash Dividends of the year` from INCOME STATEMENT SHEET\n",
    "    - Get others from BALANCE STATEMENT SHEET by subtracting each with previous year\n",
    "    - Change values are : `= this year value - previous year value`"
   ]
  },
  {
   "cell_type": "markdown",
   "metadata": {},
   "source": [
    "# Sample"
   ]
  },
  {
   "cell_type": "markdown",
   "metadata": {},
   "source": [
    "<center><img src=\"images/04.jpg\"  style=\"width: 400px, height: 300px;\"/></center>\n"
   ]
  },
  {
   "cell_type": "markdown",
   "metadata": {},
   "source": [
    "# Forecast Next Year"
   ]
  },
  {
   "cell_type": "markdown",
   "metadata": {},
   "source": [
    "- Formula : `= 2018 cell * ( 1 + percent change)`\n"
   ]
  },
  {
   "cell_type": "markdown",
   "metadata": {},
   "source": [
    "# Sample 1"
   ]
  },
  {
   "cell_type": "markdown",
   "metadata": {},
   "source": [
    "<center><img src=\"images/05.jpg\"  style=\"width: 400px, height: 300px;\"/></center>\n"
   ]
  },
  {
   "cell_type": "markdown",
   "metadata": {},
   "source": [
    "# Sample 2"
   ]
  },
  {
   "cell_type": "markdown",
   "metadata": {},
   "source": [
    "<center><img src=\"images/06.jpg\"  style=\"width: 400px, height: 300px;\"/></center>\n"
   ]
  }
 ],
 "metadata": {
  "kernelspec": {
   "display_name": "Python 3.8.11 ('env_py')",
   "language": "python",
   "name": "python3"
  },
  "language_info": {
   "name": "python",
   "version": "3.8.11"
  },
  "orig_nbformat": 4,
  "vscode": {
   "interpreter": {
    "hash": "1e949e87132dd83f1a7623eb88007e3532b03b66b77111be347aa4a383049722"
   }
  }
 },
 "nbformat": 4,
 "nbformat_minor": 2
}
