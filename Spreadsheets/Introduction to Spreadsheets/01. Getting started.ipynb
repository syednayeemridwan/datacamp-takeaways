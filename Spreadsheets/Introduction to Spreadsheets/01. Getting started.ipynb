{
 "cells": [
  {
   "cell_type": "markdown",
   "metadata": {},
   "source": [
    "# Rows and Column"
   ]
  },
  {
   "cell_type": "markdown",
   "metadata": {},
   "source": [
    "- The column is the vertical position of a value.\n",
    "- columns are defined with letters, starting with A\n",
    "- The row is the horizontal position of a value\n",
    "- rows are defined with numbers, starting with 1"
   ]
  },
  {
   "cell_type": "markdown",
   "metadata": {},
   "source": [
    "# Cell"
   ]
  },
  {
   "cell_type": "markdown",
   "metadata": {},
   "source": [
    "- Each indivisible rectangle you see in the spreadsheet is called a cell. \n",
    "- The address of a cell is defined by the column letter, followed by the row number. \n",
    "- For example, the cell with address B3: column B and row 3"
   ]
  },
  {
   "cell_type": "markdown",
   "metadata": {},
   "source": [
    "# Ranges"
   ]
  },
  {
   "cell_type": "markdown",
   "metadata": {},
   "source": [
    "- Group of cells\n",
    "- example: `A1:B4`"
   ]
  },
  {
   "cell_type": "markdown",
   "metadata": {},
   "source": [
    "# Formulas"
   ]
  },
  {
   "cell_type": "markdown",
   "metadata": {},
   "source": [
    "- For using calculations and other operations in a cell\n",
    "- example: `= 2 + 5`\n",
    "- Percentages : `= A1 * 10.4%`"
   ]
  },
  {
   "cell_type": "markdown",
   "metadata": {},
   "source": [
    "# Order of operations"
   ]
  },
  {
   "cell_type": "markdown",
   "metadata": {},
   "source": [
    "\n",
    "- parentheses: `= (A1 + A2)`\n",
    "- exponents: `= A1 ^ A2`\n",
    "- multiplication and division: `= (A1 * A2) / A3`\n",
    "- addition and subtraction: `= (A1 + A2) / A1 - A3`"
   ]
  },
  {
   "cell_type": "markdown",
   "metadata": {},
   "source": [
    "# Comparison Operators"
   ]
  },
  {
   "cell_type": "markdown",
   "metadata": {},
   "source": [
    "- <, >: smaller/greater than\n",
    "- <=, >=: smaller/greater than or equal to\n",
    "- =, <>: equal/not equal to\n",
    "\n",
    "- Watch out, = has two meanings: For example in `= 3 = 4`,  it starts a formula first, and compares 3 to 4 the second time."
   ]
  },
  {
   "cell_type": "markdown",
   "metadata": {},
   "source": [
    "# Data Types"
   ]
  },
  {
   "cell_type": "markdown",
   "metadata": {},
   "source": [
    "\n",
    "- text: \n",
    "    - plain text, \n",
    "    - will be used if there's no other type recognized. \n",
    "    - You can force this with ', e.g.: `'=text`, or '2. \n",
    "    - Aligned to the left by default.\n",
    "- numbers: \n",
    "    - if you enter numbers (without using '), they will automatically have this type. \n",
    "    - Aligned to the right by default.\n",
    "- date: \n",
    "    - a value that stands for a period in time \n",
    "    - e.g. 2018-01-18 (Year-Month-Day format)\n",
    "    - Change format : `Format > Number > Customize Date`\n",
    "- currency: \n",
    "    - all values that reflect a price or amount of money. Starts with the currency sign (e.g. $, £, €)\n",
    "- Logical:\n",
    "    - TRUE or FALSE\n",
    "    - Boolean \n",
    "    - when we evaluate logical expressions: `= A2 > 5`"
   ]
  }
 ],
 "metadata": {
  "kernelspec": {
   "display_name": "Python 3.8.11 ('env_py')",
   "language": "python",
   "name": "python3"
  },
  "language_info": {
   "name": "python",
   "version": "3.8.11"
  },
  "orig_nbformat": 4,
  "vscode": {
   "interpreter": {
    "hash": "1e949e87132dd83f1a7623eb88007e3532b03b66b77111be347aa4a383049722"
   }
  }
 },
 "nbformat": 4,
 "nbformat_minor": 2
}
