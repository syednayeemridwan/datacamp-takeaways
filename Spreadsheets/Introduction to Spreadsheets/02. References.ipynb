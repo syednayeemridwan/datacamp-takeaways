{
 "cells": [
  {
   "cell_type": "markdown",
   "metadata": {},
   "source": [
    "# Reference"
   ]
  },
  {
   "cell_type": "markdown",
   "metadata": {},
   "source": [
    "- A reference lets you refer to another cell value in your workbook. \n",
    "- For example, you could make a reference to cell A1 in another cell: `= A1`. \n",
    "- If original cell's value change, reference cell's content also change in real-time\n",
    "- Circular reference : if a cell references itself. Will produce `#REF!` error\n",
    "- You can copy reference by dragging the cell\n",
    "- Can also be used for calculations with percentage: `= A3 - B3 * 1.2%`\n",
    "- Can also be used for comparison: `= B2 > 5`\n",
    "- Use absolute reference when you don't want references to change when you copy them: `= $A$1`\n",
    "- A reference can be partially absolute by only locking rows: `A$1`\n",
    "- A reference can be partially absolute by only locking columns: `$A1`\n"
   ]
  }
 ],
 "metadata": {
  "kernelspec": {
   "display_name": "Python 3.8.11 ('env_py')",
   "language": "python",
   "name": "python3"
  },
  "language_info": {
   "name": "python",
   "version": "3.8.11"
  },
  "orig_nbformat": 4,
  "vscode": {
   "interpreter": {
    "hash": "1e949e87132dd83f1a7623eb88007e3532b03b66b77111be347aa4a383049722"
   }
  }
 },
 "nbformat": 4,
 "nbformat_minor": 2
}
