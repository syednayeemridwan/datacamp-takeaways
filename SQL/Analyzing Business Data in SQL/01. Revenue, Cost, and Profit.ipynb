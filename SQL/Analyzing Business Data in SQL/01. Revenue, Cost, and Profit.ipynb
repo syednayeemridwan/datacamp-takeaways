{
 "cells": [
  {
   "cell_type": "markdown",
   "metadata": {},
   "source": [
    "# Business Terms"
   ]
  },
  {
   "cell_type": "markdown",
   "metadata": {},
   "source": [
    "- Profit : The money a company makes minus the money it spends\n",
    "- Revenue: The money a company makes\n",
    "    - Multiply each meal's price times its ordered quantity, then sum the results\n",
    "- Cost: The money a company spends\n",
    "    - Multiply each meal's cost times its stocked quantity, then sum the results\n",
    "- Profit = Revenue - Cost"
   ]
  },
  {
   "cell_type": "markdown",
   "metadata": {},
   "source": [
    "# DATE_TRUNC"
   ]
  },
  {
   "cell_type": "markdown",
   "metadata": {},
   "source": [
    "- `DATE_TRUNC(date_part, date)`\n",
    "- DATE_TRUNC on date values = flooring on numeric values\n",
    "- examples:\n",
    "    - `DATE_TRUNC('week', '2018-06-12') :: DATE` → `'2018-06-11'`\n",
    "    - `DATE_TRUNC('month', '2018-06-12') :: DATE` → `'2018-06-01'`\n",
    "    - `DATE_TRUNC('quarter', '2018-06-12') :: DATE` → `'2018-04-01'`\n",
    "    - `DATE_TRUNC('year', '2018-06-12') :: DATE` → `'2018-01-01'`"
   ]
  },
  {
   "cell_type": "markdown",
   "metadata": {},
   "source": [
    "# Common Table Expressions (CTEs)"
   ]
  },
  {
   "cell_type": "markdown",
   "metadata": {},
   "source": [
    "- Store a query's results in a temporary table\n",
    "- Reference the temporary table in a following query\n",
    "- example:\n",
    "    ```\n",
    "    WITH table_1 AS\n",
    "        (SELECT ...\n",
    "        FROM ...),\n",
    "    table_2 AS\n",
    "        (SELECT ...\n",
    "        FROM ...)\n",
    "    SELECT ...\n",
    "    FROM table_1\n",
    "    JOIN table_2 ON ...\n",
    "    ...\n",
    "    ```"
   ]
  },
  {
   "cell_type": "markdown",
   "metadata": {},
   "source": [
    "# Key Performance Indicator (KPI)"
   ]
  },
  {
   "cell_type": "markdown",
   "metadata": {},
   "source": [
    "- A metric with some value that a company use to measure its performance (profit)\n",
    "- profit per user: Identify the \"best\" users\n",
    "- profit per meal: Identify the most profitable meals\n",
    "- profit per month: Tracks profit over time"
   ]
  }
 ],
 "metadata": {
  "kernelspec": {
   "display_name": "Python 3.8.11 ('env_py')",
   "language": "python",
   "name": "python3"
  },
  "language_info": {
   "name": "python",
   "version": "3.8.11"
  },
  "orig_nbformat": 4,
  "vscode": {
   "interpreter": {
    "hash": "1e949e87132dd83f1a7623eb88007e3532b03b66b77111be347aa4a383049722"
   }
  }
 },
 "nbformat": 4,
 "nbformat_minor": 2
}
