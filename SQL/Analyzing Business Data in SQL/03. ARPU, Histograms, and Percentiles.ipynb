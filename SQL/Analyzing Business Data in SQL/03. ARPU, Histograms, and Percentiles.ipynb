{
 "cells": [
  {
   "cell_type": "markdown",
   "metadata": {},
   "source": [
    "# Unit economics"
   ]
  },
  {
   "cell_type": "markdown",
   "metadata": {},
   "source": [
    "- Measures performance per unit, as opposed to overall performance\n",
    "- Example: Average Revenue Per User (ARPU)\n",
    "    - formula : `revenue / cost_of_users`\n",
    "    - Use: Measures a company's success in scaling its business model\n"
   ]
  },
  {
   "cell_type": "markdown",
   "metadata": {},
   "source": [
    "# Histogram"
   ]
  },
  {
   "cell_type": "markdown",
   "metadata": {},
   "source": [
    "- Used for visualizing distribution\n",
    "- Visualizes the frequencies of each value in a dataset\n",
    "<center><img src=\"images/03.05.jpg\"  style=\"width: 400px, height: 300px;\"/></center>"
   ]
  },
  {
   "cell_type": "markdown",
   "metadata": {},
   "source": [
    "# Ways of preparing dataset for histogram\n"
   ]
  },
  {
   "cell_type": "markdown",
   "metadata": {},
   "source": [
    "- Step-1:\n",
    "    - You need the result to be in 2 columns\n",
    "    - One column will store numeric value\n",
    "    - One column will store the categorical value\n",
    "    - You need `GROUP BY` to group the numeric values by categorical value\n",
    "    - Put this query in a CTE\n",
    "\n",
    "\n",
    "- Step-2:\n",
    "    - You need to work with the above CTE\n",
    "    - You need to count the categorical column of the CTE\n",
    "    - You need to  `GROUP BY` the numeric column ( Use Rounding for the numeric column to create specific range of bins)\n",
    "    - You need to `ORDER BY` the numeric column\n",
    "<center><img src=\"images/03.061.jpg\"  style=\"width: 400px, height: 300px;\"/></center>\n",
    "<center><img src=\"images/03.062.jpg\"  style=\"width: 400px, height: 300px;\"/></center>\n"
   ]
  },
  {
   "cell_type": "markdown",
   "metadata": {},
   "source": [
    "# Bucketing"
   ]
  },
  {
   "cell_type": "markdown",
   "metadata": {},
   "source": [
    "- Customizing the Distribution process\n",
    "- Good for creating Bar chart"
   ]
  },
  {
   "cell_type": "markdown",
   "metadata": {},
   "source": [
    "# Ways of preparing dataset with Bucketing\n"
   ]
  },
  {
   "cell_type": "markdown",
   "metadata": {},
   "source": [
    "- Step-1:\n",
    "    - You need the result to be in 2 columns\n",
    "    - One column will store numeric value\n",
    "    - One column will store the categorical value\n",
    "    - You need `GROUP BY` to group the numeric values by categorical value\n",
    "    - Put this query in a CTE\n",
    "\n",
    "\n",
    "- Step-2:\n",
    "    - You need to work with the above CTE\n",
    "    - You need to count the categorical column of the CTE\n",
    "    - You need to  `CASE` the numeric column ( to create Custom bins)\n",
    "    - You need to `ORDER BY` the numeric Custom bins (If any)\n",
    "<center><img src=\"images/03.061.jpg\"  style=\"width: 400px, height: 300px;\"/></center>\n",
    "<center><img src=\"images/03.09.jpg\"  style=\"width: 400px, height: 300px;\"/></center>\n"
   ]
  },
  {
   "cell_type": "markdown",
   "metadata": {},
   "source": [
    "# Percentiles"
   ]
  },
  {
   "cell_type": "markdown",
   "metadata": {},
   "source": [
    "- Lets us know what percentages of a dataset's values are beneath this value\n",
    "    - Lowest value is the 0th percentile\n",
    "    - Highest value is the 99th percentile\n",
    "- First quartile: 25th percentile\n",
    "- Second quartile: 50th percentile, median\n",
    "- Third quartile: 75th percentile\n",
    "- Interquartile range (IQR): All data between the first and third quartiles\n",
    "- example:\n",
    "`SELECT PERCENTILE_CONT(0.5) WITHIN GROUP (ORDER BY col ASC) :: NUMERIC FROM table_name`\n",
    "\n",
    "<center><img src=\"images/03.11.jpg\"  style=\"width: 400px, height: 300px;\"/></center>\n"
   ]
  },
  {
   "cell_type": "markdown",
   "metadata": {},
   "source": []
  }
 ],
 "metadata": {
  "kernelspec": {
   "display_name": "Python 3.8.11 ('env_py')",
   "language": "python",
   "name": "python3"
  },
  "language_info": {
   "name": "python",
   "version": "3.8.11"
  },
  "orig_nbformat": 4,
  "vscode": {
   "interpreter": {
    "hash": "1e949e87132dd83f1a7623eb88007e3532b03b66b77111be347aa4a383049722"
   }
  }
 },
 "nbformat": 4,
 "nbformat_minor": 2
}
