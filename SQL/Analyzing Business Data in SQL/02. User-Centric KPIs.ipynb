{
 "cells": [
  {
   "cell_type": "markdown",
   "metadata": {},
   "source": [
    "# User-centric KPIs"
   ]
  },
  {
   "cell_type": "markdown",
   "metadata": {},
   "source": [
    "- Registrations\n",
    "    - When a user first signs up for an account on Delivr through its app\n",
    "    - Counts registrations over time, usually per month \n",
    "    - Good at measuring a company's success in attracting new users\n",
    "- Active users\n",
    "    - Counts the active users of a company's app over a time period (Stickiness)\n",
    "        - by day (daily active users, or DAU)\n",
    "        - by month (monthly active users, or MAU)\n",
    "    - Stickiness (DAU / MAU), measures how often users engage with an app on average\n",
    "- Growth\n",
    "- Retention\n",
    "- Benefits\n",
    "    - Measure performance well in B2Cs\n",
    "    - Used by investors to assess pre-revenue and -profit startups"
   ]
  },
  {
   "cell_type": "markdown",
   "metadata": {},
   "source": [
    "# Window functions"
   ]
  },
  {
   "cell_type": "markdown",
   "metadata": {},
   "source": [
    "- Perform an operation across a set of rows related to the current row\n",
    "- Examples\n",
    "    - Calculate a running total (cumulative sum)\n",
    "    - Fetch the value of a previous or following row\n",
    "- Example:\n",
    "    ```\n",
    "    SELECT\n",
    "    ...\n",
    "    SUM(col) OVER (ORDER BY date_col ASC) AS cum_sum,\n",
    "    COALESCE(LAG(push_down_row) OVER (ORDER BY date_col ASC), 0)\n",
    "    FROM some_table\n",
    "    ```\n"
   ]
  },
  {
   "cell_type": "markdown",
   "metadata": {},
   "source": [
    "# Deltas"
   ]
  },
  {
   "cell_type": "markdown",
   "metadata": {},
   "source": [
    "- Difference between 2 values\n",
    "- Only shows one of three things about a variable\n",
    "    - Decreasing if `δ < 0`\n",
    "    - Stable if `δ = 0`\n",
    "    - Increasing if `δ > 0`\n",
    "- Example : Growth rate"
   ]
  },
  {
   "cell_type": "markdown",
   "metadata": {},
   "source": [
    "# Growth rate"
   ]
  },
  {
   "cell_type": "markdown",
   "metadata": {},
   "source": [
    "- A percentage that show the change in a variable over time relative to that variable's initial value\n",
    "- example: month on month growth rate of active users (MAU)\n",
    "- Formula : `(current_val-prev_val)/prev_val`\n",
    "- Doesn't show the breakdown of active users by tenure\n",
    "- Doesn't distinguish between different patterns of user activity\n",
    "    - Case 1: 100 users register every month, and are active for one month only\n",
    "    - Case 2: Only 100 users register in the ,rst month, and no one ever registers a/er, but\n",
    "    - these 100 users are active every single month\n",
    "    - Both cases' MAUs will be 100!\n"
   ]
  },
  {
   "cell_type": "markdown",
   "metadata": {},
   "source": [
    "# Retention rate"
   ]
  },
  {
   "cell_type": "markdown",
   "metadata": {},
   "source": [
    "- A percentage measuring how many users who were active in a previous month are still active in the current month\n",
    "- tracks user loyalty to the service\n",
    "- EXAMPLE: \n",
    "    - `active_users_on_current_and_previous_month / active_users_on_previous_month`"
   ]
  },
  {
   "cell_type": "markdown",
   "metadata": {},
   "source": [
    "# GREATEST"
   ]
  },
  {
   "cell_type": "markdown",
   "metadata": {},
   "source": [
    "- `GREATEST(0, 1)` will return `1`\n",
    "- Takes the greatest value from a list"
   ]
  }
 ],
 "metadata": {
  "kernelspec": {
   "display_name": "Python 3.8.11 ('env_py')",
   "language": "python",
   "name": "python3"
  },
  "language_info": {
   "name": "python",
   "version": "3.8.11"
  },
  "orig_nbformat": 4,
  "vscode": {
   "interpreter": {
    "hash": "1e949e87132dd83f1a7623eb88007e3532b03b66b77111be347aa4a383049722"
   }
  }
 },
 "nbformat": 4,
 "nbformat_minor": 2
}
