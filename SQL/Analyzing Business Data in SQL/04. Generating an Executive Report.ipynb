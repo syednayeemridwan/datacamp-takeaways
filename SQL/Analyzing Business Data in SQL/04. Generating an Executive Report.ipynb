{
 "cells": [
  {
   "cell_type": "markdown",
   "metadata": {},
   "source": [
    "# TO_CHAR()"
   ]
  },
  {
   "cell_type": "markdown",
   "metadata": {},
   "source": [
    "- Makes dates into human-readable formats\n",
    "- Patterns in the format string will be replaced by what they represent in the date\n",
    "- other characters remain as-is\n",
    "- See documentation for patterns : https://www.postgresqltutorial.com/postgresql-string-functions/postgresql-to_char/\n",
    "\n"
   ]
  },
  {
   "cell_type": "markdown",
   "metadata": {},
   "source": [
    "# Window functions"
   ]
  },
  {
   "cell_type": "markdown",
   "metadata": {},
   "source": [
    "- Calculates on specified window\n",
    "- `func_name() OVER ( <PARTITION BY some_col> ORDER BY col DESC)`\n",
    "- `PARTITION BY` resets a track after some time (like the inside loop in a double for loop)\n",
    "- `func_name` can be replaced by\n",
    "    - `SUM`\n",
    "    - `LAG`\n",
    "    - `RANK` etc"
   ]
  },
  {
   "cell_type": "markdown",
   "metadata": {},
   "source": [
    "# Pivoting"
   ]
  },
  {
   "cell_type": "markdown",
   "metadata": {},
   "source": [
    "- Rotating a table around a pivot column; transposing a column's values into columns\n",
    "    - Converts a \"long\" table into a \"wide\" one\n",
    "- `CROSSTAB()` Extension : takes source table and pivot it by one of its columns\n",
    "    - use double quote when defining the final table strcture\n",
    "    - See last examples of reporting in slides\n",
    "<center><img src=\"images/04.041.jpg\"  style=\"width: 400px, height: 300px;\"/></center>\n",
    "<center><img src=\"images/04.042.jpg\"  style=\"width: 400px, height: 300px;\"/></center>\n"
   ]
  },
  {
   "cell_type": "markdown",
   "metadata": {},
   "source": [
    "- Example:\n",
    "```\n",
    "CREATE EXTENSION IF NOT EXISTS tablefunc;\n",
    "\n",
    "SELECT * FROM CROSSTAB($$ \n",
    "    Source_Query_To_Pivot\n",
    "$$) AS ct (\n",
    "    column_to_keep TYPE,\n",
    "    \"new_col_name_from_original_column_value_1_in_same_format\" TYPE,\n",
    "    \"new_col_name_from_original_column_value_2_in_same_format\" TYPE\n",
    ")\n",
    "```\n"
   ]
  },
  {
   "cell_type": "markdown",
   "metadata": {},
   "source": [
    "# Readability"
   ]
  },
  {
   "cell_type": "markdown",
   "metadata": {},
   "source": [
    "- Dates: Use readable date formats ( August 2018 , not 2018-08-01 )\n",
    "- Numbers: Round numbers to the second decimal at most ( 98.76 , not 98.761234 )\n",
    "- Table shape: Reshape long tables into wide ones, pivoting by date when possible\n",
    "- Order: Don't forget to sort!\n"
   ]
  }
 ],
 "metadata": {
  "kernelspec": {
   "display_name": "Python 3.8.11 ('env_py')",
   "language": "python",
   "name": "python3"
  },
  "language_info": {
   "name": "python",
   "version": "3.8.11"
  },
  "orig_nbformat": 4,
  "vscode": {
   "interpreter": {
    "hash": "1e949e87132dd83f1a7623eb88007e3532b03b66b77111be347aa4a383049722"
   }
  }
 },
 "nbformat": 4,
 "nbformat_minor": 2
}
