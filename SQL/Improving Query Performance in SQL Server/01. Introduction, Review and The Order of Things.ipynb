{
 "cells": [
  {
   "cell_type": "markdown",
   "metadata": {},
   "source": [
    "# Best Practices"
   ]
  },
  {
   "cell_type": "markdown",
   "metadata": {},
   "source": [
    "- Be consistent\n",
    "- Use UPPER CASE for all SQL syntax\n",
    "- Create a new line for each major processing syntax: `SELECT` , `FROM` , `WHERE` , etc.\n",
    "- Indent code\n",
    "- Sub-queries\n",
    "- `ON` statements\n",
    "- `AND` / `OR` conditions\n",
    "- To avoid long single lines of code, for example, several column names\n",
    "- Complete the query with a semi-colon (`;`)\n",
    "- Alias where required, using `AS`\n",
    "- Use commenting for good documentation\n",
    "    - Comment out code with `--`\n",
    "    - Comment your documentation with `/* */`\n",
    "<center><img src=\"images/01.01.jpg\"  style=\"width: 400px, height: 300px;\"/></center>"
   ]
  },
  {
   "cell_type": "markdown",
   "metadata": {},
   "source": [
    "# Aliasing"
   ]
  },
  {
   "cell_type": "markdown",
   "metadata": {},
   "source": [
    "- Used in queries to identify:\n",
    "    - Tables\n",
    "    - Columns\n",
    "    - Sub-queries\n",
    "- Temporary, only applied when the query is run (they do not alter table or column names)\n",
    "- Makes the query easier to read\n",
    "- May be required\n",
    "- Avoid repetitive use of long table or column names\n",
    "- Easily identify joined tables and associated columns\n",
    "- Identify new columns\n",
    "- Identify sub-queries\n",
    "- Avoid ambiguity when columns from joined tables share the same name\n",
    "- Rename columns\n",
    "- See examples in slides"
   ]
  },
  {
   "cell_type": "markdown",
   "metadata": {},
   "source": [
    "# How datapase process an SQL statement"
   ]
  },
  {
   "cell_type": "markdown",
   "metadata": {},
   "source": [
    "<center><img src=\"images/01.08.jpg\"  style=\"width: 400px, height: 300px;\"/></center>\n"
   ]
  }
 ],
 "metadata": {
  "kernelspec": {
   "display_name": "Python 3.8.11 ('env_py')",
   "language": "python",
   "name": "python3"
  },
  "language_info": {
   "name": "python",
   "version": "3.8.11"
  },
  "orig_nbformat": 4,
  "vscode": {
   "interpreter": {
    "hash": "1e949e87132dd83f1a7623eb88007e3532b03b66b77111be347aa4a383049722"
   }
  }
 },
 "nbformat": 4,
 "nbformat_minor": 2
}
