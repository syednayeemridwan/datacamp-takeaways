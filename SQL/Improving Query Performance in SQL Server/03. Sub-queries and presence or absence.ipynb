{
 "cells": [
  {
   "cell_type": "markdown",
   "metadata": {},
   "source": [
    "# Sub-queries"
   ]
  },
  {
   "cell_type": "markdown",
   "metadata": {},
   "source": [
    "- Query inside a query\n",
    "- Results from sub-query is returned to the outer query\n",
    "- 3 ways to create:\n",
    "    - Sub-query with FROM : Along with source table\n",
    "    - Sub-query with WHERE : To filter out information\n",
    "    - Sub-query with SELECT : To derive new column\n",
    "- 2 types:\n",
    "    - Correlated : Sub-query executes for each row in the outer query (Performance issue)\n",
    "        - `INNER JOIN` when possible\n",
    "    - Un-correlated : Sub-query executes only once and returns the results to the outer query\n",
    "<center><img src=\"images/03.01.jpg\"  style=\"width: 400px, height: 300px;\"/></center>\n"
   ]
  },
  {
   "cell_type": "markdown",
   "metadata": {},
   "source": [
    "# Presence OR absence of data"
   ]
  },
  {
   "cell_type": "markdown",
   "metadata": {},
   "source": [
    "- Can be done with Venn diagram\n",
    "- INTERSECT = PRESENCE\n",
    "    - `SELECT some_col FROM table_1 INTERSECT SELECT Custosome_colmerID FROM table_2;`\n",
    "- EXCEPT = ABSENCE\n",
    "    - `SELECT some_col FROM table_1 EXCEPT SELECT Custosome_colmerID FROM table_2;`\n",
    "- Advantages\n",
    "    - Great for data interrogation\n",
    "    - Remove duplicates from the returned results\n",
    "- Disadvantages\n",
    "    - The number and order of columns in the SELECT statement must be the same between queries\n",
    "<center><img src=\"images/03.06.jpg\"  style=\"width: 400px, height: 300px;\"/></center>\n",
    "<center><img src=\"images/03.07.jpg\"  style=\"width: 400px, height: 300px;\"/></center>\n"
   ]
  },
  {
   "cell_type": "markdown",
   "metadata": {},
   "source": [
    "# EXISTS and IN"
   ]
  },
  {
   "cell_type": "markdown",
   "metadata": {},
   "source": [
    "- `EXISTS`\n",
    "    - Filters the outer query when there is a match of data between outer query and inner subquery\n",
    "    - Only returns TRUE or FALSE in a match\n",
    "- `IN`\n",
    "    - Filters a query based on a LIST\n",
    "- `EXISTS` will stop searching the sub-query when the condition is TRUE (short circuit)\n",
    "- `IN` collects all the results from a sub-query before passing to the outer query\n",
    "- Consider using `EXISTS` instead of `IN` with a sub-query\n",
    "- Use `NOT EXISTS` instead of `NOT IN` inside a subquery\n",
    "- `NOT EXISTS` : Inverts `EXISTS` result (Checks for absence)\n",
    "- `NOT IN`: Inverts `IN` result (Checks for absence)\n",
    "- `IN` Advantages\n",
    "    - Results can contain any column from the outer query, and in any order\n",
    "- `IN` Disadvantages\n",
    "    - Results can only contain columns from the outer query\n",
    "    - The way `NOT IN` handles `NULL` values in the sub-query (If subquery contains any `NULL` value in a result column, No values are returned)\n",
    "    - Use `IS NOT NULL` filter with subquery to handle this issue\n",
    "- `EXISTS` Advantages\n",
    "    - Results can contain any column from the outer query, and in any order\n",
    "    - The sub-query will stop searching as soon as it evaluates to TRUE\n",
    "- `EXISTS` Disadvantages\n",
    "    - Results can only contain columns from the outer query\n",
    "- SEE GREAT EXAMPLES IN SLIDES WITH CORRELATED QUERIES"
   ]
  },
  {
   "cell_type": "markdown",
   "metadata": {},
   "source": [
    "### Ways of writing such queries"
   ]
  },
  {
   "cell_type": "markdown",
   "metadata": {},
   "source": [
    "1. Write outer query: `SELECT col1, col2 FROM outer_table AS outer`\n",
    "2. Write inner query / subquery : `SELECT 1 FROM inner_table AS inner`\n",
    "3. Add correlated condition in subquery: `WHERE outer.some_col = inner.some_col` (just like join but use `WHERE` instead of `ON`)\n",
    "4. Patch them up with `WHERE EXISTS`:\n",
    "```\n",
    "SELECT col1, col2 FROM outer_table AS outer\n",
    "WHERE EXISTS\n",
    "    (SELECT 1 FROM inner_table AS inner \n",
    "    WHERE outer.some_col = inner.some_col)\n",
    "```"
   ]
  },
  {
   "cell_type": "markdown",
   "metadata": {},
   "source": [
    "# JOINS"
   ]
  },
  {
   "cell_type": "markdown",
   "metadata": {},
   "source": [
    "- `INNDER JOIN`\n",
    "- `LEFT OUTER JOIN`\n",
    "    - INCLUSIVE (default)\n",
    "        - Checks for presence\n",
    "    - EXCLUSIVE \n",
    "        - Checks for absence\n",
    "        - Use `WHERE right_table.matching_col IS NULL` as filter condition to restrict it to rows that do not match\n",
    "- `RIGHT OUTER JOIN` (Can be used interchangably with `LEFT OUTER JOIN`)\n",
    "- Advantage\n",
    "    - Results can contain any column, from all joined queries, in any order\n",
    "- Disadvantage\n",
    "    - Requirement to add the `IS NULL` of `WHERE` filter condition with the exclusive `LEFT OUTER JOIN`\n",
    "<center><img src=\"images/03.13.jpg\"  style=\"width: 400px, height: 300px;\"/></center>\n",
    "\n"
   ]
  }
 ],
 "metadata": {
  "kernelspec": {
   "display_name": "Python 3.8.11 ('env_py')",
   "language": "python",
   "name": "python3"
  },
  "language_info": {
   "name": "python",
   "version": "3.8.11"
  },
  "orig_nbformat": 4,
  "vscode": {
   "interpreter": {
    "hash": "1e949e87132dd83f1a7623eb88007e3532b03b66b77111be347aa4a383049722"
   }
  }
 },
 "nbformat": 4,
 "nbformat_minor": 2
}
