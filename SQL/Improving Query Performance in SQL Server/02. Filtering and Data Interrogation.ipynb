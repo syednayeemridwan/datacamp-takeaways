{
 "cells": [
  {
   "cell_type": "markdown",
   "metadata": {},
   "source": [
    "# WHERE processing order"
   ]
  },
  {
   "cell_type": "markdown",
   "metadata": {},
   "source": [
    "- Works on INDIVIDUAL rows\n",
    "- Processed after `FROM`\n",
    "- Processed before `SELECT`\n",
    "- Calculations on columns in the WHERE filter condition could increase query times\n",
    "    - Not recommended"
   ]
  },
  {
   "cell_type": "markdown",
   "metadata": {},
   "source": [
    "# HAVING processing order\n"
   ]
  },
  {
   "cell_type": "markdown",
   "metadata": {},
   "source": [
    "- Works on GROUP OF ROWS rows\n",
    "    - Don't use `HAVING` to filter individual or ungrouped rows (Pssible but not recommended)\n",
    "- Used in aggregation along with aggregation function\n",
    "- Processed after `WHERE`\n",
    "- Processed before `SELECT`\n"
   ]
  },
  {
   "cell_type": "markdown",
   "metadata": {},
   "source": [
    "# SELECT processing"
   ]
  },
  {
   "cell_type": "markdown",
   "metadata": {},
   "source": [
    "- `SELECT * `is great for data interrogation \n",
    "    - but potentially bad for performance\n",
    "    - Only select the columns required\n",
    "    - `SELECT *` in joins returns duplicates of joining columns\n",
    "    - Explicitly state the columns to be returned and from what tables\n",
    "- Use `SELECT TOP 1 PERCENT col FROM table_name` for investigation\n",
    "- Use `ORDER BY` in a query:\n",
    "    - To interrogate the data in sorted order only when necessary\n",
    "    - When there is a good reason for the final returned results to be sorted\n",
    "    - Slows down performance"
   ]
  },
  {
   "cell_type": "markdown",
   "metadata": {},
   "source": [
    "<center><img src=\"images/02.09.jpg\"  style=\"width: 400px, height: 300px;\"/></center>\n"
   ]
  },
  {
   "cell_type": "markdown",
   "metadata": {},
   "source": [
    "# Removing Duplicates"
   ]
  },
  {
   "cell_type": "markdown",
   "metadata": {},
   "source": [
    "- Remove duplicates with `DISTINCT()`\n",
    "- `GROUP BY` instead of `DISTINCT()`\n",
    "    - Use when aggregating\n",
    "- Remove duplicates with `UNION`\n",
    "- Use `UNION ALL` for retaining duplicates\n",
    "- `DISTINCT()` and `UNION` Potentially increase the time it takes for a query to run\n",
    "    - Use alternative methods (like unique key ID) if available\n",
    "    - group with `GROUP BY` if aggregation exists"
   ]
  }
 ],
 "metadata": {
  "kernelspec": {
   "display_name": "Python 3.8.11 ('env_py')",
   "language": "python",
   "name": "python3"
  },
  "language_info": {
   "name": "python",
   "version": "3.8.11"
  },
  "orig_nbformat": 4,
  "vscode": {
   "interpreter": {
    "hash": "1e949e87132dd83f1a7623eb88007e3532b03b66b77111be347aa4a383049722"
   }
  }
 },
 "nbformat": 4,
 "nbformat_minor": 2
}
