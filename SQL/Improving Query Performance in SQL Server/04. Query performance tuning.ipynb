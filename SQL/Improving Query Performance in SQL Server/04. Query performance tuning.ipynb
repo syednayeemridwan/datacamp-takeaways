{
 "cells": [
  {
   "cell_type": "markdown",
   "metadata": {},
   "source": [
    "# Command Statistics"
   ]
  },
  {
   "cell_type": "markdown",
   "metadata": {},
   "source": [
    "- `STATISTICS TIME` \n",
    "    - command reports number of milliseconds, required to parse, compile, and execute a query.\n",
    "    - Turn it `ON` before executing a query to see the report analysis\n",
    "- `CPU time` : time taken by server processors to process the query\n",
    "- `Elapsed time` : total duration of the query from execution to reporting back to us\n",
    "- Best way to measure : Take average of multiple measurement\n",
    "- example:\n",
    "```\n",
    "SET STATISTICS TIME ON;\n",
    "\n",
    "...query....\n",
    "SET STATISTICS TIME OFF;\n",
    "\n",
    "```\n",
    "<center><img src=\"images/04.01.jpg\"  style=\"width: 400px, height: 300px;\"/></center>\n"
   ]
  },
  {
   "cell_type": "markdown",
   "metadata": {},
   "source": [
    "# Table data pages\n"
   ]
  },
  {
   "cell_type": "markdown",
   "metadata": {},
   "source": [
    "- All data, in either memory or on the disk, is stored in 8 kilobyte size \"pages\"\n",
    "- One page can store many rows or one value could span multiple pages\n",
    "- A page can only belong to one table\n",
    "- SQL Server works with pages cached in memory\n",
    "- If a page is not cached in memory it is read from disk and cached in memory\n",
    "- Turn on with `SET STATISTICS IO ON`\n",
    "- logical reads: number of 8 kilobyte pages read per table\n",
    "- Example:\n",
    "\n",
    "```\n",
    "SET STATISTICS IO ON\n",
    "\n",
    "...query...\n",
    "\n",
    "SET STATISTICS IO OFF\n",
    "```"
   ]
  },
  {
   "cell_type": "markdown",
   "metadata": {},
   "source": [
    "# INDEX"
   ]
  },
  {
   "cell_type": "markdown",
   "metadata": {},
   "source": [
    "- Structure to improve speed of accessing data from a table\n",
    "- Used to locate data quickly without having to scan the entire table\n",
    "- Useful for improving performance of queries with filter conditions\n",
    "- Applied to table columns\n",
    "- Typically added by a database administrator\n",
    "- 2 Types:\n",
    "    - Clustered Index\n",
    "    - Non-clustered Index\n",
    "- Clustered Index\n",
    "    - Analogy : dictionary (Ordered alphabetically)\n",
    "    - Data pages are ordered by the index column(s)  with ordered pointers.\n",
    "    - 1 table = 1 clustered index\n",
    "    - Reduce number of data page reads by a query = Speeds up search operations\n",
    "- Non-clustered Index\n",
    "    - Analogy: text book with an index at the back\n",
    "    - Data pages are not ordered. Rather index pointers are ordered that points to data pages\n",
    "    - 1 table = 1+ Non-clustered index\n",
    "    - Improves insert and update operations"
   ]
  },
  {
   "cell_type": "markdown",
   "metadata": {},
   "source": [
    "# Clustered index: B-tree structure"
   ]
  },
  {
   "cell_type": "markdown",
   "metadata": {},
   "source": [
    "- Root node points to ordered branch nodes\n",
    "- Ordered branch nodes point to ordered page nodes\n",
    "- Page nodes point to ordered data pages\n",
    "    - Data is physically ordered by columns\n",
    "    - Cluster index guarantees this ordering\n",
    "- This is how it knows exactly where a specific index is located and searches accordingly\n",
    "<center><img src=\"images/04.08.jpg\"  style=\"width: 400px, height: 300px;\"/></center>\n"
   ]
  },
  {
   "cell_type": "markdown",
   "metadata": {},
   "source": [
    "# Execution Plan"
   ]
  },
  {
   "cell_type": "markdown",
   "metadata": {},
   "source": [
    "- Provide information on:\n",
    "    - Whether indexes were used\n",
    "    - Types of joins used\n",
    "    - Location and relative costs of:\n",
    "        - filter conditions\n",
    "        - sorting\n",
    "        - aggregations\n",
    "- 2 Step process\n",
    "1. Optimization Phase :\n",
    "    - Evaluates multiple execution plan\n",
    "    - Select the one plan with the lowest cost\n",
    "    - Cost parameters evaluated include\n",
    "        - Processor usage\n",
    "        - Memory usage\n",
    "        - Data page reads\n",
    "2. Execution Engine:\n",
    "    - Executes the query based on the best eecution plan"
   ]
  },
  {
   "cell_type": "markdown",
   "metadata": {},
   "source": [
    "# Visualizing Execution Plans"
   ]
  },
  {
   "cell_type": "markdown",
   "metadata": {},
   "source": [
    "<center><img src=\"images/04.112.jpg\"  style=\"width: 400px, height: 300px;\"/></center>\n",
    "<center><img src=\"images/04.113.jpg\"  style=\"width: 400px, height: 300px;\"/></center>\n",
    "<center><img src=\"images/04.114.jpg\"  style=\"width: 400px, height: 300px;\"/></center>\n",
    "<center><img src=\"images/04.115.jpg\"  style=\"width: 400px, height: 300px;\"/></center>\n",
    "<center><img src=\"images/04.116.jpg\"  style=\"width: 400px, height: 300px;\"/></center>\n",
    "<center><img src=\"images/04.117.jpg\"  style=\"width: 400px, height: 300px;\"/></center>\n"
   ]
  }
 ],
 "metadata": {
  "kernelspec": {
   "display_name": "Python 3.8.11 ('env_py')",
   "language": "python",
   "name": "python3"
  },
  "language_info": {
   "name": "python",
   "version": "3.8.11"
  },
  "orig_nbformat": 4,
  "vscode": {
   "interpreter": {
    "hash": "1e949e87132dd83f1a7623eb88007e3532b03b66b77111be347aa4a383049722"
   }
  }
 },
 "nbformat": 4,
 "nbformat_minor": 2
}
