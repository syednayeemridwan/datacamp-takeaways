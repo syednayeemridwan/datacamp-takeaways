{
 "cells": [
  {
   "cell_type": "markdown",
   "metadata": {},
   "source": [
    "- ALL EXAMPLES ARE PROVIDED IN THE SLIDES\n",
    "    - LOOK AT EXERCISES FOR CLEARER PICTURE\n",
    "- NOTE : In recursion, The first element should be the anchor element of the anchor member and the second element should be the connection field of the recursive member (e.g.: for an organization hierarchy the anchor element is the supervisor ID and the connection field is the employee ID).\n",
    "- 3 EXAMPLES PROVIDED\n",
    "    1. All possible combinations with recursion (Flight destination)\n",
    "    2. Hierarchical Model in recursion (Strict ordering of parts in assembly of a car)\n",
    "    3. Network model in recursion (Specific connectivity among nodes in a grid system)"
   ]
  },
  {
   "cell_type": "markdown",
   "metadata": {},
   "source": [
    "### GENERIC EXAMPLE"
   ]
  },
  {
   "cell_type": "markdown",
   "metadata": {},
   "source": [
    "```\n",
    "WITH base_CTE (col1, col2, col3) AS (\n",
    "\tSELECT col1, 0 AS col2, col3 \n",
    "        FROM some_table WHERE col3 = '1'\n",
    "\t        UNION ALL\n",
    "\tSELECT  CHILD.col1, PARENT.col2 + 1, PARENT.col3 + CHILD.col3\n",
    "\t    FROM base_CTE PARENT, some_table CHILD\n",
    "  \tWHERE CHILD.col1 = PARENT.col3\n",
    "\t  AND PARENT.col2 < 3)\n",
    "      \n",
    "SELECT col1, COUNT(*) FROM base_CTE \n",
    "GROUP BY col1\n",
    "ORDER BY col1\n",
    "```"
   ]
  }
 ],
 "metadata": {
  "kernelspec": {
   "display_name": "Python 3.8.11 ('env_py')",
   "language": "python",
   "name": "python3"
  },
  "language_info": {
   "name": "python",
   "version": "3.8.11"
  },
  "orig_nbformat": 4,
  "vscode": {
   "interpreter": {
    "hash": "1e949e87132dd83f1a7623eb88007e3532b03b66b77111be347aa4a383049722"
   }
  }
 },
 "nbformat": 4,
 "nbformat_minor": 2
}
