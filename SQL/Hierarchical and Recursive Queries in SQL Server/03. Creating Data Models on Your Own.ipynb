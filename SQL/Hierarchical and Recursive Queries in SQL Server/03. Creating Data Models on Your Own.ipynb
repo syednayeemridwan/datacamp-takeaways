{
 "cells": [
  {
   "cell_type": "markdown",
   "metadata": {},
   "source": [
    "# Creating a table"
   ]
  },
  {
   "cell_type": "markdown",
   "metadata": {},
   "source": [
    "```\n",
    "CREATE TABLE table_name(\n",
    "    col type <NOT NULL>,\n",
    "    col type);\n",
    "```"
   ]
  },
  {
   "cell_type": "markdown",
   "metadata": {},
   "source": [
    "# Insert values in a table"
   ]
  },
  {
   "cell_type": "markdown",
   "metadata": {},
   "source": [
    "`INSERT INTO table_name VALUES ('val1', 'val2');`"
   ]
  },
  {
   "cell_type": "markdown",
   "metadata": {},
   "source": [
    "# Update values in a table\n"
   ]
  },
  {
   "cell_type": "markdown",
   "metadata": {},
   "source": [
    "```\n",
    "UPDATE table_name\n",
    "SET col1 = 'val'\n",
    "WHERE col2 = 'some_val';\n",
    "```"
   ]
  },
  {
   "cell_type": "markdown",
   "metadata": {},
   "source": [
    "# Delete rows of a table"
   ]
  },
  {
   "cell_type": "markdown",
   "metadata": {},
   "source": [
    "`DELETE FROM table_name WHERE col = 'val';`"
   ]
  },
  {
   "cell_type": "markdown",
   "metadata": {},
   "source": [
    "# Drop a table"
   ]
  },
  {
   "cell_type": "markdown",
   "metadata": {},
   "source": [
    "`DROP TABLE table_name`"
   ]
  },
  {
   "cell_type": "markdown",
   "metadata": {},
   "source": [
    "# Adding column in a table"
   ]
  },
  {
   "cell_type": "markdown",
   "metadata": {},
   "source": [
    "```\n",
    "ALTER TABLE table_name\n",
    "    ADD new_col type;\n",
    "```"
   ]
  },
  {
   "cell_type": "markdown",
   "metadata": {},
   "source": [
    "# Dropping column in a table"
   ]
  },
  {
   "cell_type": "markdown",
   "metadata": {},
   "source": [
    "```\n",
    "ALTER TABLE table_name\n",
    "    DROP COLUMN old_col\n",
    "```"
   ]
  },
  {
   "cell_type": "markdown",
   "metadata": {},
   "source": [
    "# Basics about relational data models"
   ]
  },
  {
   "cell_type": "markdown",
   "metadata": {},
   "source": [
    "- Tables : \n",
    "    - Must have a name\n",
    "    - Consists of columns that represent attributes in the table\n",
    "    - Each row consists of data\n",
    "- Attributes : \n",
    "    - Columns in a table\n",
    "    - Have specific data types\n",
    "- Relations : \n",
    "    - primary key\n",
    "        - unique\n",
    "        - each row has a primary key\n",
    "        - `col type NOT NULL PRIMARY KEY`\n",
    "    - foreign key\n",
    "        - primary key of another table\n",
    "        - `col type FOREIGN KEY REFERENCES other_table_name(pk_col)`\n",
    "- Relational algebra : \n",
    "    - a formal language for relational databases and makes it possible to form a new relation from two or more tables.\n",
    "    - `SELECT` ,`UNION`, `DIFFERENCE`, `JOIN`"
   ]
  },
  {
   "cell_type": "markdown",
   "metadata": {},
   "source": [
    "# The hierarchical data model"
   ]
  },
  {
   "cell_type": "markdown",
   "metadata": {},
   "source": [
    "- Represented as a tree structure\n",
    "- Has one root element\n",
    "- Each child record has one parent record\n",
    "- Advantages:\n",
    "    - Simple to understand\n",
    "    - Fast to select\n",
    "- Disadvantages:\n",
    "    - Rigidly constructed\n",
    "    - Complicated to change structure\n",
    "- SEE EXAMPLES IN SLIDES\n",
    "<center><img src=\"images/03.10.Jpg\"  style=\"width: 400px, height: 300px;\"/></center>\n",
    "<center><img src=\"images/03.11.Jpg\"  style=\"width: 400px, height: 300px;\"/></center>\n"
   ]
  },
  {
   "cell_type": "markdown",
   "metadata": {},
   "source": [
    "# The networked data model"
   ]
  },
  {
   "cell_type": "markdown",
   "metadata": {},
   "source": [
    "- Similar to hierarchical data models\n",
    "- many-to-many relation\n",
    "- Many search paths exists\n",
    "- Advantages:\n",
    "    - No strict hierarchy\n",
    "    - Many solution paths\n",
    "    - Many real-world examples\n",
    "- Disadvantage:\n",
    "    - Clarity decreases for large data models\n",
    "- SEE EXAMPLES IN SLIDES\n",
    "<center><img src=\"images/03.12.Jpg\"  style=\"width: 400px, height: 300px;\"/></center>\n",
    "<center><img src=\"images/03.13.Jpg\"  style=\"width: 400px, height: 300px;\"/></center>\n"
   ]
  }
 ],
 "metadata": {
  "kernelspec": {
   "display_name": "Python 3.8.11 ('env_py')",
   "language": "python",
   "name": "python3"
  },
  "language_info": {
   "name": "python",
   "version": "3.8.11"
  },
  "orig_nbformat": 4,
  "vscode": {
   "interpreter": {
    "hash": "1e949e87132dd83f1a7623eb88007e3532b03b66b77111be347aa4a383049722"
   }
  }
 },
 "nbformat": 4,
 "nbformat_minor": 2
}
