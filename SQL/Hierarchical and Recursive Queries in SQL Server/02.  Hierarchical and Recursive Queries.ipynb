{
 "cells": [
  {
   "cell_type": "markdown",
   "metadata": {},
   "source": [
    "# Guide to use recursive CTE"
   ]
  },
  {
   "cell_type": "markdown",
   "metadata": {},
   "source": [
    "- For more than 200 recursion steps, increase the number of recursion steps,\n",
    "    - set `OPTION(MAXRECURSION 32767)`\n",
    "    - example: \n",
    "    ```\n",
    "    WITH ....\n",
    "    ...\n",
    "    SELECT ...\n",
    "    OPTION(MAXRECURSION 300)\n",
    "    ```\n",
    "- The following SQL statements are not allowed: `GROUP BY` , `HAVING` , `LEFT JOIN` , `RIGHT JOIN` , `OUTER JOIN` , `SELECT DISTINCT` , `Subqueries` , `TOP`\n",
    "- The number of columns for anchor and recursive member are the same.\n",
    "- The data types of anchor and recursive member are the same"
   ]
  },
  {
   "cell_type": "markdown",
   "metadata": {},
   "source": [
    "# Hierarhy"
   ]
  },
  {
   "cell_type": "markdown",
   "metadata": {},
   "source": [
    "- Can be done with recursion\n",
    "- Ways to produce a hierarchical CTE:\n",
    "    1. Create a CTE\n",
    "    2. Provide initial condition query with `SELECT` \n",
    "    3. Use `WHERE` from Main table as limiting condition\n",
    "    4. `UNION ALL`\n",
    "    5. Select information from main table\n",
    "    6. Join the main table with the CTE\n",
    "- example:\n",
    "```\n",
    "WITH hierarchy_CTE AS (\n",
    "SELECT col1, col2, 1 AS Level FROM some_table WHERE col3 = 0 -- The root level as base\n",
    "UNION ALL\n",
    "SELECT colA, colB, Level+1 FROM some_table main_table\n",
    "    JOIN hierarchy_CTE ON main_table.matching_col = hierarchy_CTE.matching_col)\n",
    "\n",
    "SELECT * FROM hierarchy_CTE\n",
    "```"
   ]
  }
 ],
 "metadata": {
  "kernelspec": {
   "display_name": "Python 3.8.11 ('env_py')",
   "language": "python",
   "name": "python3"
  },
  "language_info": {
   "name": "python",
   "version": "3.8.11"
  },
  "orig_nbformat": 4,
  "vscode": {
   "interpreter": {
    "hash": "1e949e87132dd83f1a7623eb88007e3532b03b66b77111be347aa4a383049722"
   }
  }
 },
 "nbformat": 4,
 "nbformat_minor": 2
}
