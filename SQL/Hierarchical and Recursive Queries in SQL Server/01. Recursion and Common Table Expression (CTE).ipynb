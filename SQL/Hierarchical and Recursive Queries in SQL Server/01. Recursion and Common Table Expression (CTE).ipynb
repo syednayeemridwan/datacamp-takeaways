{
 "cells": [
  {
   "cell_type": "markdown",
   "metadata": {},
   "source": [
    "# CTE"
   ]
  },
  {
   "cell_type": "markdown",
   "metadata": {},
   "source": [
    "- common table expression\n",
    "- temporary named result set\n",
    "- This is derived from a simple query\n",
    "- defined within the execution scope of a single statement\n",
    "- Manage complicated queries\n",
    "- Can be used within `SELECT` , `INSERT` , `UPDATE` , or `DELETE` statements\n",
    "- More than one CTE can be defined in one WITH statement\n",
    "- Combine several CTEs with `UNION` or `JOIN`\n",
    "- Substitute for a view\n",
    "- Self-reference a table\n",
    "- Recursion query\n",
    "- example:\n",
    "    ```\n",
    "    WITH \n",
    "    CTE_1 (col_a, col_b, col_c) AS\n",
    "    ( ..query...)\n",
    "    CTE_2 (col_x, col_y) AS\n",
    "    ( ..query...)\n",
    "    SELECT ....\n",
    "    FROM CTE_1 INNER JOIN CTE_2\n",
    "    ON CTE_1.matching_col = CTE_2.matching_col;\n",
    "    ```"
   ]
  },
  {
   "cell_type": "markdown",
   "metadata": {},
   "source": [
    "# Recursion"
   ]
  },
  {
   "cell_type": "markdown",
   "metadata": {},
   "source": [
    "- Something that calls itself repeatedly until a specified condition is met\n",
    "- This could be a procedure, subroutine, function, or algorithm\n",
    "- There must be a termination condition (Otherwise there is an infinite loop or call)\n",
    "- Advantage:\n",
    "    - Solve problems in a recursive way\n",
    "    - Easy to read and follow\n",
    "    - Recursion could be limited by the termination condition\n",
    "- Disadvantage:\n",
    "    - Slow execution time\n",
    "- Ways to produce a Recursive CTE:\n",
    "    1. Create a CTE\n",
    "    2. Provide initial condition\n",
    "    3. `UNION ALL`\n",
    "    4. Provide calculation on initial condition\n",
    "    5. Call the CTE itself again with `FROM `\n",
    "    6. Provide limiting condition with `WHERE`\n",
    "- example:\n",
    "    ```\n",
    "    WITH recursion_CTE AS\n",
    "    ( -- Initial Query\n",
    "    SELECT 1 AS iteration, 1 AS recursive_sum\n",
    "    UNION ALL\n",
    "    -- Recursion Part\n",
    "    SELECT iteration + 1, recursive_sum + (iteration + 1) FROM recursion_CTE\n",
    "        WHERE iteration < 6\n",
    "    )\n",
    "    SELECT recursive_sum FROM recursion_CTE\n",
    "    ```"
   ]
  }
 ],
 "metadata": {
  "kernelspec": {
   "display_name": "Python 3.8.11 ('env_py')",
   "language": "python",
   "name": "python3"
  },
  "language_info": {
   "name": "python",
   "version": "3.8.11"
  },
  "orig_nbformat": 4,
  "vscode": {
   "interpreter": {
    "hash": "1e949e87132dd83f1a7623eb88007e3532b03b66b77111be347aa4a383049722"
   }
  }
 },
 "nbformat": 4,
 "nbformat_minor": 2
}
