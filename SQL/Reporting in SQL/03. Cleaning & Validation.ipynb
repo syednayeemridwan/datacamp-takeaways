{
 "cells": [
  {
   "cell_type": "markdown",
   "metadata": {},
   "source": [
    "# Messy Data"
   ]
  },
  {
   "cell_type": "markdown",
   "metadata": {},
   "source": [
    "- Date, Numbers are represented as strings (inconsistent types)\n",
    "- Categories represented in different string format (inconsistent values)\n",
    "\n",
    "<center><img src=\"images/03.05.jpg\"  style=\"width: 400px, height: 300px;\"/></center>\n"
   ]
  },
  {
   "cell_type": "markdown",
   "metadata": {},
   "source": [
    "# Converting data types"
   ]
  },
  {
   "cell_type": "markdown",
   "metadata": {},
   "source": [
    "- Numeric and Dates data types can be stored as plain text\n",
    "    - Convert them to their specific format, otherwise operations wont work on them\n",
    "    - eg: We cannot do `AVG` on `string`, So we need to convert the string to `NUMERIC` first\n",
    "- Convert with `CAST(field AS type)`\n",
    "    - `CAST(col AS int)`\n",
    "- Read error messages! They will hint that the data-type is not what you think it is\n",
    "    - SEE SLIDES FOR SUCH EXAMPLES\n",
    "- You can see information_schema to see the types of columns in a table:\n",
    "    ```\n",
    "    SELECT\n",
    "        column_name, data_type\n",
    "    FROM\n",
    "        information_schema.columns\n",
    "    WHERE table_name = 'your_table'\n",
    "    ;\n",
    "    ```"
   ]
  },
  {
   "cell_type": "markdown",
   "metadata": {},
   "source": [
    "# String functions"
   ]
  },
  {
   "cell_type": "markdown",
   "metadata": {},
   "source": [
    "- `REPLACE(col,'old_char','new_char')` : replacing characters\n",
    "- `LEFT(col,2)` : taking string from left\n",
    "- `RIGHT(col,2)` : taking string from right\n",
    "- `SUBSTRING(col,2)` : taking string from right\n",
    "- `UPPER(col)` : Change column to upper case\n",
    "- `LOWER(col)` : Change column to lower case\n",
    "- `INITCAP(col)` : Change column to title case\n",
    "- `TRIM()` : Remove spaces \n",
    "- See examples in the slide"
   ]
  },
  {
   "cell_type": "markdown",
   "metadata": {},
   "source": [
    "# What does null really mean?"
   ]
  },
  {
   "cell_type": "markdown",
   "metadata": {},
   "source": [
    "- Unclear what null represents!\n",
    "- Explore more to gain business perspective\n",
    "- may mean no value\n",
    "- may mean 0 \n",
    "- Way to handle : \n",
    "    - filter with `WHERE field IS NOT NULL`\n",
    "    - Use : `COALESCE(field, null_replacement)`\n",
    "- See ratio of `null` in a column : \n",
    "    - `SELECT SUM(CASE when col IS NULL then 1 else 0 end) / SUM(1.00) FROM orders;`"
   ]
  },
  {
   "cell_type": "markdown",
   "metadata": {},
   "source": [
    "# Fixing data duplication"
   ]
  },
  {
   "cell_type": "markdown",
   "metadata": {},
   "source": [
    "<center><img src=\"images/03.12.jpg\"  style=\"width: 400px, height: 300px;\"/></center>\n"
   ]
  },
  {
   "cell_type": "markdown",
   "metadata": {},
   "source": [
    "1. Remove aggregations (Only works when there is only 1 value for each join key)\n",
    "2. Change the `JOIN` logic by adding another field to the `ON` statement. with `AND`\n",
    "    - `table1 AS t1 JOIN table2 AS t2 ON t1.id = t2.id AND t1.another_field = t2.another_field`\n",
    "3. Rollup to same granularity before `JOIN` using subquery (Simple join between 2 tables with only 1 value for each join key)\n",
    "\n",
    "\n"
   ]
  }
 ],
 "metadata": {
  "kernelspec": {
   "display_name": "Python 3.8.11 ('env_py')",
   "language": "python",
   "name": "python3"
  },
  "language_info": {
   "name": "python",
   "version": "3.8.11"
  },
  "orig_nbformat": 4,
  "vscode": {
   "interpreter": {
    "hash": "1e949e87132dd83f1a7623eb88007e3532b03b66b77111be347aa4a383049722"
   }
  }
 },
 "nbformat": 4,
 "nbformat_minor": 2
}
