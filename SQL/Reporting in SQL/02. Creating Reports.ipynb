{
 "cells": [
  {
   "cell_type": "markdown",
   "metadata": {},
   "source": [
    "# Questions to ask\n"
   ]
  },
  {
   "cell_type": "markdown",
   "metadata": {},
   "source": [
    "- What tables do we need to pull from?\n",
    "- How should we combine the tables?\n",
    "- What fields do we need to create?\n",
    "- What filters need to be included?\n",
    "- Any ordering or limiting needed?\n",
    "- Step by step example provided in the slides"
   ]
  },
  {
   "cell_type": "markdown",
   "metadata": {},
   "source": [
    "# Simplicity for troubleshooting"
   ]
  },
  {
   "cell_type": "markdown",
   "metadata": {},
   "source": [
    "- Several ways to create the same report\n",
    "- Build a report that is easier to understand\n",
    "- Create multiple queries as needed and use `UNION ALL` over `JOIN` for such simplicity whenever possible instead of complex ones\n",
    "- Step-by-step , smaller queries = easier to troubleshoot\n",
    "- However, if performance issue is the target, take the complex approach\n",
    "- Step by step example provided in the slides\n",
    "- Investigate null aggregations with `WHERE field_name IS NULL`"
   ]
  },
  {
   "cell_type": "markdown",
   "metadata": {},
   "source": [
    "# Create custom fields"
   ]
  },
  {
   "cell_type": "markdown",
   "metadata": {},
   "source": [
    "- If there are multiple queries, work with one at a time\n",
    "- Write and explore queries and comment out other portions while doing so\n",
    "- Add new placeholders with aliasing for the queries\n",
    "- Use `CASE` for custome grouping\n",
    "    - No `ELSE` statement = easier to validate\n",
    "- Step by step example provided in the slides\n",
    "- Use `WHERE`, `HAVING` and `subquery` for creating custom fields along with filtering"
   ]
  }
 ],
 "metadata": {
  "kernelspec": {
   "display_name": "Python 3.8.11 ('env_py')",
   "language": "python",
   "name": "python3"
  },
  "language_info": {
   "name": "python",
   "version": "3.8.11"
  },
  "orig_nbformat": 4,
  "vscode": {
   "interpreter": {
    "hash": "1e949e87132dd83f1a7623eb88007e3532b03b66b77111be347aa4a383049722"
   }
  }
 },
 "nbformat": 4,
 "nbformat_minor": 2
}
