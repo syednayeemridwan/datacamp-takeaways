{
 "cells": [
  {
   "cell_type": "markdown",
   "metadata": {},
   "source": [
    "# Complex Calculations"
   ]
  },
  {
   "cell_type": "markdown",
   "metadata": {},
   "source": [
    "1. Window functions\n",
    "    - `SELECT SUM(val_col) OVER(PARTITION BY col1 ORDER BY col2)`\n",
    "    - Other functions: `LAG()`, `LEAD()`, `AVG()`, `ROW_NUMBER()`, `RANK()` etc\n",
    "2. Layered calculations\n",
    "    - Aggregate an existing aggregation\n",
    "    - Leverages a subquery"
   ]
  },
  {
   "cell_type": "markdown",
   "metadata": {},
   "source": [
    "# Window function on an aggregation"
   ]
  },
  {
   "cell_type": "markdown",
   "metadata": {},
   "source": [
    "- Similar to how we put everything regarding `aggregation` from `SELECT` into `HAVING`\n",
    "\n",
    "```\n",
    "SELECT team_id,\n",
    "    SUM (points) AS team_points, # AGGREGATED COLUMN NOTED\n",
    "    SUM (SUM(points)) OVER() AS league_points # WINDOW ON SAME COLUMN WITH SAME AGGREGATION \n",
    "FROM original_table\n",
    "GROUP BY team_id;\n",
    "```"
   ]
  },
  {
   "cell_type": "markdown",
   "metadata": {},
   "source": [
    "# Comparing groups"
   ]
  },
  {
   "cell_type": "markdown",
   "metadata": {},
   "source": [
    "- 2 types of metrics for omparing different groups\n",
    "\n",
    "- Volume metrics\n",
    "    - Scale with size\n",
    "    - eg: team X has 20 players and has 50 goals, team Y has 5 players and has 30 goals. team X has most goals. (NOT A FAIR COMPARISON = team with the most goals wins )\n",
    "    - Measures performance that is biased by size\n",
    "    - Does not take into account the normalized distribution\n",
    "    - example:\n",
    "    ```\n",
    "    SELECT player_id, team_id, SUM(points) AS points\n",
    "    SUM (points) / ( SUM (points) OVER ( PARTITION BY team_id)) AS perc_of_team\n",
    "    FROM basketball_points\n",
    "    GROUP BY player_id, team_id;\n",
    "    ```\n",
    "- Efficiency metrics\n",
    "    - Does not scale with size\n",
    "    - Typically a ratio\n",
    "    - eg: team X has 20 players and has 50 goals, team Y has 5 players and has 30 goals. team X has most goals. But Performance index shows team Y performed way better (A FAIR COMPARISON = goal per player ).\n",
    "    - Measures performance that is not biased by size\n",
    "    - Takes into account the normalized distribution\n",
    "    - Compares performance to a benchmark (Benchmark typically an average or median)\n",
    "\n",
    "    - example:\n",
    "    ```\n",
    "    SELECT team_id, points/games AS team_ppg,\n",
    "    SUM (points) OVER () / SUM (games) OVER () AS league_ppg, \n",
    "    (points/games) / ( SUM (points) OVER () / SUM (games) OVER ()) AS perf_index\n",
    "    FROM basketball_summary;\n",
    "    ```"
   ]
  },
  {
   "cell_type": "markdown",
   "metadata": {},
   "source": [
    "# Comparing dates"
   ]
  },
  {
   "cell_type": "markdown",
   "metadata": {},
   "source": [
    "- Use `LAG(value, offset)` : Push 1 row down filling first entry with `null` \n",
    "- Use `LEAD(value, offset)` : Pull 1 row up filling last entry with `null` \n",
    "- See slides for examples"
   ]
  },
  {
   "cell_type": "markdown",
   "metadata": {},
   "source": [
    "# Rolling calculations"
   ]
  },
  {
   "cell_type": "markdown",
   "metadata": {},
   "source": [
    "- Customized window that is applied on ordered rows\n",
    "- Comes after `ORDER BY ` clause\n",
    "- Specified range of rows with `ROWS BETWEEN` clause\n",
    "- `SELECT SUM(col) OVER (ORDER BY col1 ROWS BETWEEN 6 PRECEDING AND CURRENT ROW ) AS rolling`\n",
    "- See slides for examples"
   ]
  }
 ],
 "metadata": {
  "kernelspec": {
   "display_name": "Python 3.8.11 ('env_py')",
   "language": "python",
   "name": "python3"
  },
  "language_info": {
   "name": "python",
   "version": "3.8.11"
  },
  "orig_nbformat": 4,
  "vscode": {
   "interpreter": {
    "hash": "1e949e87132dd83f1a7623eb88007e3532b03b66b77111be347aa4a383049722"
   }
  }
 },
 "nbformat": 4,
 "nbformat_minor": 2
}
