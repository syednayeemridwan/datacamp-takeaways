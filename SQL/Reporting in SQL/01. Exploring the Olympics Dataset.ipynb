{
 "cells": [
  {
   "cell_type": "markdown",
   "metadata": {},
   "source": [
    "# Dashboard"
   ]
  },
  {
   "cell_type": "markdown",
   "metadata": {},
   "source": [
    "- Collection of reports or visualizations\n",
    "- Aims to answer specific questions\n",
    "- Each element of dashboard is derived from a base report\n",
    "- Base report : underlying report that sources a visualization"
   ]
  },
  {
   "cell_type": "markdown",
   "metadata": {},
   "source": [
    "<center><img src=\"images/01.01.jpg\"  style=\"width: 400px, height: 300px;\"/></center>\n",
    "<center><img src=\"images/01.02.jpg\"  style=\"width: 400px, height: 300px;\"/></center>"
   ]
  },
  {
   "cell_type": "markdown",
   "metadata": {},
   "source": [
    "# Entity-Relationship (E:R) diagram"
   ]
  },
  {
   "cell_type": "markdown",
   "metadata": {},
   "source": [
    "- Visual representation of database structure\n",
    "- Lays out tables and fields\n",
    "- Identifies relationships\n",
    "- Helps us to pull required fields from different tables as query needs\n",
    "<center><img src=\"images/01.05.jpg\"  style=\"width: 400px, height: 300px;\"/></center>\n",
    "<center><img src=\"images/01.06.jpg\"  style=\"width: 400px, height: 300px;\"/></center>\n"
   ]
  },
  {
   "cell_type": "markdown",
   "metadata": {},
   "source": [
    "# Exploring Data"
   ]
  },
  {
   "cell_type": "markdown",
   "metadata": {},
   "source": [
    "- Use preview in the console to see data (Does not always provide an accurate picture)\n",
    "- use `SELECT DISTINCT` to get more robust outlook (Identify nulls)\n",
    "- Use table level aggregation to get the number of entries in each table\n",
    "    - `SELECT COUNT(*) FROM table_name;`\n",
    "- Use Field-level aggregations to get idea about each field with `GROUP BY`\n",
    "    - See value distributions\n",
    "    - See examples in the slide\n",
    "- Use query validation to see if the output is exactly reflected on all tables\n",
    "- Beware of `JOIN`:\n",
    "    - May cause loss of information when aggreggating\n",
    "    - May cause duplication of information when aggregating\n",
    "    - See examples in the slide\n",
    "- See nulls in a field:\n",
    "    ```\n",
    "    SELECT \n",
    "    \tfield_name, \n",
    "    \tCOUNT(*) AS rows\n",
    "    FROM table_name\n",
    "    GROUP BY field_name;\n",
    "    ```\n",
    "\n",
    "<center><img src=\"images/03.12.jpg\"  style=\"width: 400px, height: 300px;\"/></center>\n",
    "    "
   ]
  }
 ],
 "metadata": {
  "kernelspec": {
   "display_name": "Python 3.8.11 ('env_py')",
   "language": "python",
   "name": "python3"
  },
  "language_info": {
   "name": "python",
   "version": "3.8.11"
  },
  "orig_nbformat": 4,
  "vscode": {
   "interpreter": {
    "hash": "1e949e87132dd83f1a7623eb88007e3532b03b66b77111be347aa4a383049722"
   }
  }
 },
 "nbformat": 4,
 "nbformat_minor": 2
}
