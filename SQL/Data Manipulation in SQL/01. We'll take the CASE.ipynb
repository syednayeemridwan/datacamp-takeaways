{
 "cells": [
  {
   "cell_type": "markdown",
   "metadata": {},
   "source": [
    "# `CASE` statements"
   ]
  },
  {
   "cell_type": "markdown",
   "metadata": {},
   "source": [
    "- Used fot if-else condition\n",
    "- No comma inside When..Then\n",
    "- Each case statement is considered a separate column"
   ]
  },
  {
   "cell_type": "markdown",
   "metadata": {},
   "source": [
    "```\n",
    "SELECT\n",
    "col_1, col_2,\n",
    "CASE\n",
    "WHEN col_1 > col_2 THEN 'Big'\n",
    "WHEN col_1 < col_2 THEN 'Small'\n",
    "ELSE 'Same' END AS new_col\n",
    "FROM some_table;\n",
    "```"
   ]
  },
  {
   "cell_type": "markdown",
   "metadata": {},
   "source": [
    "# Filtering `CASE` with `WHERE`"
   ]
  },
  {
   "cell_type": "markdown",
   "metadata": {},
   "source": [
    "```\n",
    "SELECT col1, col2, <case_stmt_col>\n",
    "FROM some_table\n",
    "WHERE <case_stmt_col> IS NOT NULL;\n",
    "```"
   ]
  },
  {
   "cell_type": "markdown",
   "metadata": {},
   "source": [
    "# CASE WHEN with aggregate functions"
   ]
  },
  {
   "cell_type": "markdown",
   "metadata": {},
   "source": [
    "- When aggregrating, wrap the whole case inside the aggregate function"
   ]
  },
  {
   "cell_type": "markdown",
   "metadata": {},
   "source": [
    "```\n",
    "SELECT\n",
    "col1,\n",
    "SUM(CASE WHEN col2 = 8650 THEN col4_numeric END) AS col4_sum,\n",
    "SUM(CASE WHEN col3 = 8650 THEN col5_numeric END) AS col5_sum\n",
    "FROM some_table\n",
    "GROUP BY col1;\n",
    "```"
   ]
  }
 ],
 "metadata": {
  "kernelspec": {
   "display_name": "Python 3.8.11 ('env_py')",
   "language": "python",
   "name": "python3"
  },
  "language_info": {
   "name": "python",
   "version": "3.8.11"
  },
  "orig_nbformat": 4,
  "vscode": {
   "interpreter": {
    "hash": "1e949e87132dd83f1a7623eb88007e3532b03b66b77111be347aa4a383049722"
   }
  }
 },
 "nbformat": 4,
 "nbformat_minor": 2
}
