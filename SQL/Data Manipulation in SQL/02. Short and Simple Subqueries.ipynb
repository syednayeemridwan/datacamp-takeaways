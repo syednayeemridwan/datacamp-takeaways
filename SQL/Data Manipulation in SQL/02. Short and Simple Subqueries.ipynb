{
 "cells": [
  {
   "cell_type": "markdown",
   "metadata": {},
   "source": [
    "# TRICKS"
   ]
  },
  {
   "cell_type": "markdown",
   "metadata": {},
   "source": [
    "- Use a average of columns containing only 0 and 1 to take perccentage of that column"
   ]
  },
  {
   "cell_type": "markdown",
   "metadata": {},
   "source": [
    "# Subquery"
   ]
  },
  {
   "cell_type": "markdown",
   "metadata": {},
   "source": [
    "- A query nested inside another query\n",
    "- Useful for intermediary transformations\n",
    "- Reduce the number of steps\n",
    "- Can be in any part of a query : `SELECT` , `FROM` , `WHERE` , `GROUP BY`\n",
    "- Can return a variety of information: Scalar value, a list, a table\n",
    "- Can be used for Reshaping data\n",
    "- Can be used for Combining data that cannot be joined\n",
    "- Can be used for Comparing groups to summarized values\n",
    "- Can be evaluated independently from the outer query\n",
    "- Inner query is evaluated first. Then result is passed to the outer query\n",
    "- processed only once in the entire statement\n"
   ]
  },
  {
   "cell_type": "markdown",
   "metadata": {},
   "source": [
    "# Subqueries in the WHERE clause"
   ]
  },
  {
   "cell_type": "markdown",
   "metadata": {},
   "source": [
    "```\n",
    "SELECT *\n",
    "FROM some_table\n",
    "WHERE col1 = 'val1'\n",
    "AND col2 > (<subquery_that_contains_aggregation>);\n",
    "```"
   ]
  },
  {
   "cell_type": "markdown",
   "metadata": {},
   "source": [
    "# Subquery filtering list with IN"
   ]
  },
  {
   "cell_type": "markdown",
   "metadata": {},
   "source": [
    "```\n",
    "SELECT *\n",
    "FROM some_table\n",
    "WHERE col1 = 'val1'\n",
    "AND col2 [NOT] IN (<subquery_that_returns_a_column_from_another_table>);\n",
    "```"
   ]
  },
  {
   "cell_type": "markdown",
   "metadata": {},
   "source": [
    "# Subqueries in the FROM statement"
   ]
  },
  {
   "cell_type": "markdown",
   "metadata": {},
   "source": [
    "- Restructure and transform data\n",
    "- Transforming data from long to wide before selecting\n",
    "- Used for pre-filtering data\n",
    "- Used for calculating aggregates of aggregates\n",
    "- You can create multiple subqueries in one FROM statement\n",
    "- Alias them!\n",
    "- Join them! (Include a joining columns in both tables!)"
   ]
  },
  {
   "cell_type": "markdown",
   "metadata": {},
   "source": [
    "```\n",
    "SELECT *\n",
    "FROM (SELECT * \n",
    "FROM some_table) AS temptable_1\n",
    "JOIN\n",
    "(SELECT * \n",
    "FROM other_table) AS temptable_2\n",
    "ON\n",
    "temptable_1.tid_1 = temptable_2.tid_2\n",
    "```"
   ]
  },
  {
   "cell_type": "markdown",
   "metadata": {},
   "source": [
    "# Subqueries in SELECT"
   ]
  },
  {
   "cell_type": "markdown",
   "metadata": {},
   "source": [
    "- Need to return a SINGLE value\n",
    "- repeatitive value\n",
    "- Acts as a column to reflect on whole table"
   ]
  },
  {
   "cell_type": "markdown",
   "metadata": {},
   "source": [
    "```\n",
    "SELECT\n",
    "col1, (col2 - (SELECT AVG(some_col) FROM other_table) ) AS new_col\n",
    "FROM some_table\n",
    "```"
   ]
  },
  {
   "cell_type": "markdown",
   "metadata": {},
   "source": [
    "# Subqueries best practices"
   ]
  },
  {
   "cell_type": "markdown",
   "metadata": {},
   "source": [
    "- Format your queries\n",
    "- Use aliasing\n",
    "- Use comments\n",
    "- Annotate queries of what it does with `/* annotations */` before starting a query\n",
    "- Inline comment in queries with `-- this is a comment` in any line\n",
    "- Use indentation\n",
    "- Subqueries require computing power: so check if you really need it.\n",
    "- Properly filter each subquery!\n",
    "- See https://www.sqlstyle.guide/ for guidelines"
   ]
  }
 ],
 "metadata": {
  "kernelspec": {
   "display_name": "Python 3.8.11 ('env_py')",
   "language": "python",
   "name": "python3"
  },
  "language_info": {
   "name": "python",
   "version": "3.8.11"
  },
  "orig_nbformat": 4,
  "vscode": {
   "interpreter": {
    "hash": "1e949e87132dd83f1a7623eb88007e3532b03b66b77111be347aa4a383049722"
   }
  }
 },
 "nbformat": 4,
 "nbformat_minor": 2
}
