{
 "cells": [
  {
   "cell_type": "markdown",
   "metadata": {},
   "source": [
    "# Correlated subqueries"
   ]
  },
  {
   "cell_type": "markdown",
   "metadata": {},
   "source": [
    "- Uses values from the outer query (to compute/compare) to generate a result\n",
    "- Dependent on the main query to execute (cannot not independently run)\n",
    "- Re-run for every row \n",
    "- Significantly slows down query runtime\n",
    "- Used for advanced joining, ,ltering, and evaluating data\n",
    "- Basically an inner query that requires outer queries table_name to evaluate result"
   ]
  },
  {
   "cell_type": "markdown",
   "metadata": {},
   "source": [
    "example:\n",
    "\n",
    "```\n",
    "..............\n",
    "FROM outer_table AS outer\n",
    "WHERE outer.outer_col > (SELECT AVG(inner_col)\n",
    "                    FROM inner_table AS inner\n",
    "                    WHERE outer.outer_col2 > inner.inner_col2);\n",
    "\n",
    "```"
   ]
  },
  {
   "cell_type": "markdown",
   "metadata": {},
   "source": [
    "# Nested subqueries"
   ]
  },
  {
   "cell_type": "markdown",
   "metadata": {},
   "source": [
    "- Subquery inside another subquery\n",
    "- Perform multiple layers of transformation\n",
    "- Nested subqueries can be correlated or uncorrelated"
   ]
  },
  {
   "cell_type": "markdown",
   "metadata": {},
   "source": [
    "```\n",
    "SELECT\n",
    "*\n",
    "FROM (  SELECT *\n",
    "        FROM (  SELECT *\n",
    "                FROM some_table) AS inner_result) AS outer_result\n",
    "```"
   ]
  },
  {
   "cell_type": "markdown",
   "metadata": {},
   "source": [
    "# Common Table Expressions (CTEs)"
   ]
  },
  {
   "cell_type": "markdown",
   "metadata": {},
   "source": [
    "- Reduces Query complexity\n",
    "- Only one `WITH`\n",
    "- Improves readability and organization\n",
    "- Executed once and then CTE is then stored in memory\n",
    "- Improves query performance\n",
    "- Referencing other CTEs\n",
    "- Can Reference itself (` SELF JOIN `)"
   ]
  },
  {
   "cell_type": "markdown",
   "metadata": {},
   "source": [
    "```\n",
    "WITH \n",
    "    cte_1 AS ( <Query1> ),\n",
    "    cte_2 AS ( <Query2> ),\n",
    "SELECT * FROM some_table AS t\n",
    "INNER JOIN cte_1\n",
    "ON t.id = cte_1.cte1_id\n",
    "INNER JOIN cte_2 \n",
    "ON cte_1.cte1_id = cte_2.cte2_id;\n",
    "```"
   ]
  },
  {
   "cell_type": "markdown",
   "metadata": {},
   "source": [
    "# Which techniques to use"
   ]
  },
  {
   "cell_type": "markdown",
   "metadata": {},
   "source": [
    "- Depends on your database/question\n",
    "- The technique that best allows to Use and reuse your queries\n",
    "- The technique that best allows to Generate clear and accurate results\n",
    "- simplify the problem\n",
    "- Improves readability\n",
    "- Improves performance\n",
    "- Less prone to error"
   ]
  },
  {
   "cell_type": "markdown",
   "metadata": {},
   "source": [
    "### Joins"
   ]
  },
  {
   "cell_type": "markdown",
   "metadata": {},
   "source": [
    "- 2+ tables\n",
    "- Simple operations\n",
    "- Already exists in database"
   ]
  },
  {
   "cell_type": "markdown",
   "metadata": {},
   "source": [
    "### Correlated Subqueries"
   ]
  },
  {
   "cell_type": "markdown",
   "metadata": {},
   "source": [
    "- Combination of a subquery with another subquery/table\n",
    "- Avoid limits of joins\n",
    "- BUT High processing time (evaluated at every iteration)\n",
    "- Slow"
   ]
  },
  {
   "cell_type": "markdown",
   "metadata": {},
   "source": [
    "### Nested Subqueries"
   ]
  },
  {
   "cell_type": "markdown",
   "metadata": {},
   "source": [
    "- Multi-step transformations\n",
    "- Improve accuracy\n",
    "- Improve reproducibility"
   ]
  },
  {
   "cell_type": "markdown",
   "metadata": {},
   "source": [
    "### Common Table Expressions"
   ]
  },
  {
   "cell_type": "markdown",
   "metadata": {},
   "source": [
    "- Organize subqueries sequentially\n",
    "- Can reference other CTEs\n",
    "- Avoid limits of nested subqueries\n"
   ]
  }
 ],
 "metadata": {
  "kernelspec": {
   "display_name": "Python 3.8.11 ('env_py')",
   "language": "python",
   "name": "python3"
  },
  "language_info": {
   "name": "python",
   "version": "3.8.11"
  },
  "orig_nbformat": 4,
  "vscode": {
   "interpreter": {
    "hash": "1e949e87132dd83f1a7623eb88007e3532b03b66b77111be347aa4a383049722"
   }
  }
 },
 "nbformat": 4,
 "nbformat_minor": 2
}
