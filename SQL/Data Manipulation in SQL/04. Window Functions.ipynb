{
 "cells": [
  {
   "cell_type": "markdown",
   "metadata": {},
   "source": [
    "# Window Functions"
   ]
  },
  {
   "cell_type": "markdown",
   "metadata": {},
   "source": [
    "- Allows to aggregate without grouping\n",
    "- Perform calculations on an already generated result set\n",
    "- Processed after every part of query except `ORDER BY` (after query result is generated)\n",
    "- Result is a column, so put it in `SELECT`\n",
    "- Similar to subqueries in `SELECT`\n",
    "- `OVER()` refers to whole resulting dataset as it is.\n",
    "- manipulation is possible inside `OVER()`'s parenthesis (eg - ordering)\n",
    "- NOT available in SQLite\n",
    "- examples: Running totals, rankings, moving averages\n",
    "- Syntax: `SELECT calculation OVER() FROM table_name`"
   ]
  },
  {
   "cell_type": "markdown",
   "metadata": {},
   "source": [
    "# Aggregation"
   ]
  },
  {
   "cell_type": "markdown",
   "metadata": {},
   "source": [
    "example:\n",
    "\n",
    "```\n",
    "SELECT\n",
    "col1,\n",
    "AVG(col2 + col3) OVER() AS over_col\n",
    "FROM some_table;\n",
    "```"
   ]
  },
  {
   "cell_type": "markdown",
   "metadata": {},
   "source": [
    "# `Rank`"
   ]
  },
  {
   "cell_type": "markdown",
   "metadata": {},
   "source": [
    "- Ranks according to certain specified order"
   ]
  },
  {
   "cell_type": "markdown",
   "metadata": {},
   "source": [
    "```\n",
    "SELECT\n",
    "RANK() OVER(ORDER BY some_col) AS col_rank\n",
    "FROM some_table\n",
    "```"
   ]
  },
  {
   "cell_type": "markdown",
   "metadata": {},
   "source": [
    "# `PARTITION BY`"
   ]
  },
  {
   "cell_type": "markdown",
   "metadata": {},
   "source": [
    "- Separate calculation for separate categories\n",
    "- Result stored in same column\n",
    "- Basically it is:\n",
    "```\n",
    "new_col = []\n",
    "for x in list(set(some_col)):\n",
    "    some_val = do some_calculation OVER() whole dataset WHERE some_col = x\n",
    "    new_col.append(some_val)\n",
    "``` "
   ]
  },
  {
   "cell_type": "markdown",
   "metadata": {},
   "source": [
    "example:\n",
    "\n",
    "```\n",
    "SELECT\n",
    "AVG(col1) OVER(PARTITION BY col2, col3) AS new_col\n",
    "FROM some_table\n",
    "```"
   ]
  },
  {
   "cell_type": "markdown",
   "metadata": {},
   "source": [
    "# Sliding windows"
   ]
  },
  {
   "cell_type": "markdown",
   "metadata": {},
   "source": [
    "- Works for changing/ dependent row values (eg- next row is dependent on previous row values)\n",
    "- Row range is specified inside `OVER()`\n",
    "- Syntax: `OVER(ORDER BY some_col ROWS BETWEEN <start> AND <end>)`\n",
    "- `<start>` or `<end>` conditions can be filled with:\n",
    "    - `x PRECEDING` [x can be replaced by a number] : previous x-th value\n",
    "    - `x FOLLOWING` [x can be replaced by a number] : next x-th value\n",
    "    - `UNBOUNDED PRECEDING` : the value of the beginning\n",
    "    - `UNBOUNDED FOLLOWING` : the value of the end\n",
    "    - `CURRENT ROW` : current value"
   ]
  },
  {
   "cell_type": "markdown",
   "metadata": {},
   "source": [
    "example:\n",
    "\n",
    "```\n",
    "SELECT some_col,\n",
    "SUM(home_goal) OVER(ORDER BY date ROWS BETWEEN UNBOUNDED PRECEDING AND CURRENT ROW) AS running_total\n",
    "FROM some_table\n",
    "```"
   ]
  }
 ],
 "metadata": {
  "kernelspec": {
   "display_name": "Python 3.8.11 ('env_py')",
   "language": "python",
   "name": "python3"
  },
  "language_info": {
   "name": "python",
   "version": "3.8.11"
  },
  "orig_nbformat": 4,
  "vscode": {
   "interpreter": {
    "hash": "1e949e87132dd83f1a7623eb88007e3532b03b66b77111be347aa4a383049722"
   }
  }
 },
 "nbformat": 4,
 "nbformat_minor": 2
}
