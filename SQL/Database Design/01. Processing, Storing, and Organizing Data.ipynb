{
 "cells": [
  {
   "cell_type": "markdown",
   "metadata": {},
   "source": [
    "# OLTP"
   ]
  },
  {
   "cell_type": "markdown",
   "metadata": {},
   "source": [
    "- Online Transaction Processing\n",
    "- Day to day operations\n",
    "- Transactional data\n",
    "- up-to-date data\n",
    "- simple operations\n",
    "- frequent updates\n",
    "- stored in operational database\n",
    "- Application oriented, intended for mass customers\n",
    "- snapshot, gigabytes of data\n",
    "- Example : Keep track of employee hours"
   ]
  },
  {
   "cell_type": "markdown",
   "metadata": {},
   "source": [
    "# OLAP"
   ]
  },
  {
   "cell_type": "markdown",
   "metadata": {},
   "source": [
    "- Online Analytical Processing\n",
    "- Business decision making\n",
    "- Analytical / Reporting data\n",
    "- consolidated / historical\n",
    "- complex operations\n",
    "- limited updates\n",
    "- stored in data warehouse\n",
    "- Subject/ focus oriented, intended for business decision making\n",
    "- archive, terabytes of data in size\n",
    "- Example : Decide employee of the month\n"
   ]
  },
  {
   "cell_type": "markdown",
   "metadata": {},
   "source": [
    "# Data structure"
   ]
  },
  {
   "cell_type": "markdown",
   "metadata": {},
   "source": [
    "1. Structured data:\n",
    "    - Follows a strict predefined schema (schema-on-write)\n",
    "    - Defined data types & relationships\n",
    "    - eg- tables in a relational database\n",
    "2. Unstructured data:\n",
    "    - Schemaless\n",
    "    - Makes up most of data in the world\n",
    "    - eg- photos, videos etc\n",
    "3. Semi-structured data:\n",
    "    - Does not follow strict schema\n",
    "    - Self-describing structure\n",
    "    - eg- NoSQL, XML, JSON"
   ]
  },
  {
   "cell_type": "markdown",
   "metadata": {},
   "source": [
    "# Data Storage"
   ]
  },
  {
   "cell_type": "markdown",
   "metadata": {},
   "source": [
    "- Traditional databases : OLTP (real-time data)\n",
    "- Data warehouses : OLAP (historic / summarized data)\n",
    "- Data lakes : data of all structures (scalable data of any type)"
   ]
  },
  {
   "cell_type": "markdown",
   "metadata": {},
   "source": [
    "# Data warehouses"
   ]
  },
  {
   "cell_type": "markdown",
   "metadata": {},
   "source": [
    "- OLAP\n",
    "- Data from multiple sources\n",
    "- Massively Parallel Processing (MPP)\n",
    "- Denormalized schema\n",
    "- Dimensional modeling"
   ]
  },
  {
   "cell_type": "markdown",
   "metadata": {},
   "source": [
    "# Data Mart"
   ]
  },
  {
   "cell_type": "markdown",
   "metadata": {},
   "source": [
    "- Subset of data warehouses\n",
    "- Dedicated to a specific topic"
   ]
  },
  {
   "cell_type": "markdown",
   "metadata": {},
   "source": [
    "# Data lakes"
   ]
  },
  {
   "cell_type": "markdown",
   "metadata": {},
   "source": [
    "- All types of data\n",
    "- Cost effective (stored as objects instead of files)\n",
    "- Retains all data (both the original and summarized version)\n",
    "- Schema-on-read : Schema created as data is read / collected\n",
    "- Need to be organized with catalogs / meta-data. Otherwise Data Swamp (a mess)\n",
    "- Analytics services used: Apache Spark and Hadoop\n",
    "- Useful for deep learning and data discovery from so much data\n",
    "- Technologies : Amazon Redshift, Azure SQL data warehouse, Google Big Query"
   ]
  },
  {
   "cell_type": "markdown",
   "metadata": {},
   "source": [
    "# Big Data Flow"
   ]
  },
  {
   "cell_type": "markdown",
   "metadata": {},
   "source": [
    "- ETL (Smaller scale analytics, data warehouse) : Extract - Transform - Load - Use\n",
    "- ELT (Larger scale, data lake) : Extract - Load - Transform - Use"
   ]
  },
  {
   "cell_type": "markdown",
   "metadata": {},
   "source": [
    "# Data modeling"
   ]
  },
  {
   "cell_type": "markdown",
   "metadata": {},
   "source": [
    "Process of creating a data model for the data to be stored. 3 types:\n",
    "1. Conceptual data model:\n",
    "    - describes concept with entities, relationships, and attributes\n",
    "    - ERD, UML diagram\n",
    "2. Logical data model:\n",
    "    - defines tables, columns, relationships\n",
    "    - relational model and star schema\n",
    "3. Physical data model:\n",
    "    - describes physical storage\n",
    "    - partitions, CPUs, indexes, backup systems and tablespaces"
   ]
  },
  {
   "cell_type": "markdown",
   "metadata": {},
   "source": [
    "# Dimensional modeling"
   ]
  },
  {
   "cell_type": "markdown",
   "metadata": {},
   "source": [
    "- Optimized for OLAP queries. eg- aggregate data.\n",
    "- The star schema\n",
    "- Easy to interpret\n",
    "- Easy to extend schema\n",
    "- Consists of Fact Tables and Dimension Tables"
   ]
  },
  {
   "cell_type": "markdown",
   "metadata": {},
   "source": [
    "# Fact tables"
   ]
  },
  {
   "cell_type": "markdown",
   "metadata": {},
   "source": [
    "- Changes regularly\n",
    "- Stores Foreign keys of Dimension Tables\n",
    "- Holds Records of a metric\n",
    "- Eg- Songs table with attributes: `Album_id` , `Artist_id`, `Label_id`, `Genre_id`"
   ]
  },
  {
   "cell_type": "markdown",
   "metadata": {},
   "source": [
    "# Fact tables"
   ]
  },
  {
   "cell_type": "markdown",
   "metadata": {},
   "source": [
    "- Does not change often\n",
    "- Each table is separate Dimension/ Attribute table\n",
    "- Holds descriptions of attributes\n",
    "- Eg- `Album` , `Artist`, `Label`, `Genre` tables"
   ]
  }
 ],
 "metadata": {
  "language_info": {
   "name": "python"
  },
  "orig_nbformat": 4
 },
 "nbformat": 4,
 "nbformat_minor": 2
}
