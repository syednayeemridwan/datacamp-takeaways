{
 "cells": [
  {
   "cell_type": "markdown",
   "metadata": {},
   "source": [
    "# Database views"
   ]
  },
  {
   "cell_type": "markdown",
   "metadata": {},
   "source": [
    "- Virtual table\n",
    "- Not part of physical schema\n",
    "- Table is not stored in memory, instead query is stored in memory\n",
    "- No need to retype common queries\n",
    "- Data is aggregated from data in tables\n",
    "- Can be queried like a regular database table\n",
    "- A form of access control to hide sensitive columns and make the views available to users as a cloned table\n",
    "- Masks complexity of queries and make it available to users"
   ]
  },
  {
   "cell_type": "markdown",
   "metadata": {},
   "source": [
    "# Creating a view"
   ]
  },
  {
   "cell_type": "markdown",
   "metadata": {},
   "source": [
    "```\n",
    "CREATE VIEW view_name AS\n",
    "\n",
    "SELECT col1, col2\n",
    "FROM table_name\n",
    "WHERE condition;\n",
    "```"
   ]
  },
  {
   "cell_type": "markdown",
   "metadata": {},
   "source": [
    "# Querying a view"
   ]
  },
  {
   "cell_type": "markdown",
   "metadata": {},
   "source": [
    "`SELECT * FROM view_name`"
   ]
  },
  {
   "cell_type": "markdown",
   "metadata": {},
   "source": [
    "same as:\n",
    "\n",
    "```\n",
    "SELECT * FROM\n",
    "(SELECT col1, col2\n",
    "FROM table_name\n",
    "WHERE condition);\n",
    "```\n"
   ]
  },
  {
   "cell_type": "markdown",
   "metadata": {},
   "source": [
    "# Viewing views in PostGreSQL"
   ]
  },
  {
   "cell_type": "markdown",
   "metadata": {},
   "source": [
    "`SELECT * FROM INFORMATION_SCHEMA.views;`"
   ]
  },
  {
   "cell_type": "markdown",
   "metadata": {},
   "source": [
    "### Excludes system views"
   ]
  },
  {
   "cell_type": "markdown",
   "metadata": {},
   "source": [
    "```\n",
    "SELECT * FROM information_schema.views\n",
    "WHERE table_schema NOT IN ('pg_catalog', 'information_schema');\n",
    "```"
   ]
  },
  {
   "cell_type": "markdown",
   "metadata": {},
   "source": [
    "# Granting permission on view "
   ]
  },
  {
   "cell_type": "markdown",
   "metadata": {},
   "source": [
    "- `PUBLIC` means all users"
   ]
  },
  {
   "cell_type": "markdown",
   "metadata": {},
   "source": [
    "`GRANT UPDATE ON view_name TO PUBLIC;`\n"
   ]
  },
  {
   "cell_type": "markdown",
   "metadata": {},
   "source": [
    "# Granting permission on view "
   ]
  },
  {
   "cell_type": "markdown",
   "metadata": {},
   "source": [
    "`REVOKE INSERT ON films FROM some_user;`\n"
   ]
  },
  {
   "cell_type": "markdown",
   "metadata": {},
   "source": [
    "# Updating / Inserting into a view"
   ]
  },
  {
   "cell_type": "markdown",
   "metadata": {},
   "source": [
    "- Not all views are updatable / insertable\n",
    "- Avoid modifying data through views\n",
    "- When View is made up of one table\n",
    "- And Doesn't use a window or aggregate function\n",
    "- Normal `UPDATE` and `INSERT INTO` commands\n",
    "- See `information_schema.views` table to see if update / insert is possible"
   ]
  },
  {
   "cell_type": "markdown",
   "metadata": {},
   "source": [
    "# Dropping a view"
   ]
  },
  {
   "cell_type": "markdown",
   "metadata": {},
   "source": [
    "`DROP VIEW view_name [ CASCADE | RESTRICT ];`"
   ]
  },
  {
   "cell_type": "markdown",
   "metadata": {},
   "source": [
    "- `CASCADE` drops view and any object that depends on that view\n",
    "- eg- dropping other views created from this view "
   ]
  },
  {
   "cell_type": "markdown",
   "metadata": {},
   "source": [
    "# Redefining a view"
   ]
  },
  {
   "cell_type": "markdown",
   "metadata": {},
   "source": [
    "`CREATE OR REPLACE VIEW view_name AS some_query`"
   ]
  },
  {
   "cell_type": "markdown",
   "metadata": {},
   "source": [
    "- It means modifying the underlying query of the view, bot the databases\n",
    "- If a view with view_name exists, it is replaced\n",
    "- new_query must generate the same column names, order, and data types as the old query\n",
    "- The column output may be different\n",
    "- New columns may be added at the end\n",
    "- If these criteria can't be met, drop the existing view and create a new one"
   ]
  },
  {
   "cell_type": "markdown",
   "metadata": {},
   "source": [
    "# Altering a view"
   ]
  },
  {
   "cell_type": "markdown",
   "metadata": {},
   "source": [
    "- `ALTER VIEW [ IF EXISTS ] view_name ALTER [ COLUMN ] column_name SET DEFAULT expression`\n",
    "- `ALTER VIEW [ IF EXISTS ] view_name ALTER [ COLUMN ] column_name DROP DEFAULT`\n",
    "- `ALTER VIEW [ IF EXISTS ] view_name OWNER TO new_owner`\n",
    "- `ALTER VIEW [ IF EXISTS ] view_name RENAME TO new_name`\n",
    "- `ALTER VIEW [ IF EXISTS ] view_name SET SCHEMA new_schema`\n",
    "- `ALTER VIEW [ IF EXISTS ] view_name SET ( view_option_name [= view_option_value] [, ... ]`\n",
    "- `ALTER VIEW [ IF EXISTS ] view_name RESET ( view_option_name [, ... ] )`"
   ]
  },
  {
   "cell_type": "markdown",
   "metadata": {},
   "source": [
    "# Materialized views"
   ]
  },
  {
   "cell_type": "markdown",
   "metadata": {},
   "source": [
    "- Physically materialized\n",
    "- Stores query results instead of the query itself\n",
    "- Refreshed when prompted or scheduled\n",
    "- Used in Long time running queries\n",
    "- Don't change often\n",
    "- Used in Data warehouses for OLAP"
   ]
  },
  {
   "cell_type": "markdown",
   "metadata": {},
   "source": [
    "# Implementing materialized views"
   ]
  },
  {
   "cell_type": "markdown",
   "metadata": {},
   "source": [
    "`CREATE MATERIALIZED VIEW view_name AS SELECT * FROM some_table;`"
   ]
  },
  {
   "cell_type": "markdown",
   "metadata": {},
   "source": [
    "# Refresh materialized views"
   ]
  },
  {
   "cell_type": "markdown",
   "metadata": {},
   "source": [
    "`REFRESH MATERIALIZED VIEW view_name;`"
   ]
  },
  {
   "cell_type": "markdown",
   "metadata": {},
   "source": [
    "# Schedule materialized views"
   ]
  },
  {
   "cell_type": "markdown",
   "metadata": {},
   "source": [
    "Through\n",
    "- Cronjob\n",
    "- Pipeline scheduler tools : Luigi, Airflow"
   ]
  },
  {
   "cell_type": "markdown",
   "metadata": {},
   "source": [
    "# Managing dependencies"
   ]
  },
  {
   "cell_type": "markdown",
   "metadata": {},
   "source": [
    "- Materialized views often depend on other materialized views\n",
    "- Not the most effcient to refresh all views at the same time\n",
    "- Creates a dependency chain when refreshing views\n",
    "- keep track of views through DAGs or Directed Acyclic Graphs \n",
    "- Tools for managing dependencies: DAGs, Pipeline scheduler tools\n"
   ]
  }
 ],
 "metadata": {
  "kernelspec": {
   "display_name": "Python 3.8.11 ('env_py')",
   "language": "python",
   "name": "python3"
  },
  "language_info": {
   "name": "python",
   "version": "3.8.11"
  },
  "orig_nbformat": 4,
  "vscode": {
   "interpreter": {
    "hash": "1e949e87132dd83f1a7623eb88007e3532b03b66b77111be347aa4a383049722"
   }
  }
 },
 "nbformat": 4,
 "nbformat_minor": 2
}
