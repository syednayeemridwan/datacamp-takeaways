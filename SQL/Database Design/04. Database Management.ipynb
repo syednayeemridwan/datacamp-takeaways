{
 "cells": [
  {
   "cell_type": "markdown",
   "metadata": {},
   "source": [
    "# Database roles"
   ]
  },
  {
   "cell_type": "markdown",
   "metadata": {},
   "source": [
    "- Manage database access permissions\n",
    "- Manage authentication system\n",
    "- Roles can be assigned to one or more users (user / group)\n",
    "- Roles are global across a database cluster\n",
    "- Roles live on after users are deleted\n",
    "- Roles can be created before user accounts\n",
    "- Save DBAs time\n",
    "- Sometimes a role gives a specific user too much access"
   ]
  },
  {
   "cell_type": "markdown",
   "metadata": {},
   "source": [
    "# Create a role"
   ]
  },
  {
   "cell_type": "markdown",
   "metadata": {},
   "source": [
    "### Empty role creation"
   ]
  },
  {
   "cell_type": "markdown",
   "metadata": {},
   "source": [
    "`CREATE ROLE role_name;`"
   ]
  },
  {
   "cell_type": "markdown",
   "metadata": {},
   "source": [
    "### Create a user role with password and validity"
   ]
  },
  {
   "cell_type": "markdown",
   "metadata": {},
   "source": [
    "`CREATE ROLE role_name WITH PASSWORD 'PasswordForIntern' VALID UNTIL '2020-01-01';`"
   ]
  },
  {
   "cell_type": "markdown",
   "metadata": {},
   "source": [
    "### Create a role that has create database attribute"
   ]
  },
  {
   "cell_type": "markdown",
   "metadata": {},
   "source": [
    "`CREATE ROLE role_name CREATEDB;`"
   ]
  },
  {
   "cell_type": "markdown",
   "metadata": {},
   "source": [
    "### Alter a role so that it has create role attribute"
   ]
  },
  {
   "cell_type": "markdown",
   "metadata": {},
   "source": [
    "`ALTER ROLE role_name CREATEROLE;`"
   ]
  },
  {
   "cell_type": "markdown",
   "metadata": {},
   "source": [
    "# GRANT privileges to roles"
   ]
  },
  {
   "cell_type": "markdown",
   "metadata": {},
   "source": [
    "`GRANT privilege_name ON object TO role_name;`"
   ]
  },
  {
   "cell_type": "markdown",
   "metadata": {},
   "source": [
    "- see privilege lists : SELECT , INSERT , UPDATE , DELETE etc\n",
    "- see object lists : Table, View etc\n",
    "- role : an individual or a group of individuals\n",
    "- See Common PostgreSQL roles"
   ]
  },
  {
   "cell_type": "markdown",
   "metadata": {},
   "source": [
    "# REVOKE privileges from roles"
   ]
  },
  {
   "cell_type": "markdown",
   "metadata": {},
   "source": [
    "`REVOKE UPDATE ON table_name FROM role_name;`"
   ]
  },
  {
   "cell_type": "markdown",
   "metadata": {},
   "source": [
    "# Users and groups"
   ]
  },
  {
   "cell_type": "markdown",
   "metadata": {},
   "source": [
    "### Group role"
   ]
  },
  {
   "cell_type": "markdown",
   "metadata": {},
   "source": [
    "`CREATE ROLE group_role WITH CREATEDB CREATEROLE;`"
   ]
  },
  {
   "cell_type": "markdown",
   "metadata": {},
   "source": [
    "### User role"
   ]
  },
  {
   "cell_type": "markdown",
   "metadata": {},
   "source": [
    "`CREATE ROLE user_role WITH PASSWORD 'PasswordForIntern' VALID UNTIL '2020-01-01' ;`"
   ]
  },
  {
   "cell_type": "markdown",
   "metadata": {},
   "source": [
    "### Alter user role"
   ]
  },
  {
   "cell_type": "markdown",
   "metadata": {},
   "source": [
    "`ALTER ROLE user_role WITH PASSWORD 's3cur3p@ssw0rd';`"
   ]
  },
  {
   "cell_type": "markdown",
   "metadata": {},
   "source": [
    "### Grant Group privilege to user"
   ]
  },
  {
   "cell_type": "markdown",
   "metadata": {},
   "source": [
    "`GRANT group_role TO user_role;`"
   ]
  },
  {
   "cell_type": "markdown",
   "metadata": {},
   "source": [
    "### Revoke Group privilege from user"
   ]
  },
  {
   "cell_type": "markdown",
   "metadata": {},
   "source": [
    "`REVOKE group_role FROM user_role;`"
   ]
  },
  {
   "cell_type": "markdown",
   "metadata": {},
   "source": [
    "# Delete a role"
   ]
  },
  {
   "cell_type": "markdown",
   "metadata": {},
   "source": [
    "`DROP ROLE role_name;`"
   ]
  },
  {
   "cell_type": "markdown",
   "metadata": {},
   "source": [
    "# Partitioning"
   ]
  },
  {
   "cell_type": "markdown",
   "metadata": {},
   "source": [
    "- Split bigger table into smaller parts\n",
    "- For faster processing / calculation on smaller parts\n",
    "- Vertical and Horizontal Partitioning"
   ]
  },
  {
   "cell_type": "markdown",
   "metadata": {},
   "source": [
    "# Vertical Partitioning"
   ]
  },
  {
   "cell_type": "markdown",
   "metadata": {},
   "source": [
    "- Columns are split to make separate tables"
   ]
  },
  {
   "cell_type": "markdown",
   "metadata": {},
   "source": [
    "# Horizontal Partitioning"
   ]
  },
  {
   "cell_type": "markdown",
   "metadata": {},
   "source": [
    "- Rows are split to make separate tables"
   ]
  },
  {
   "cell_type": "markdown",
   "metadata": {},
   "source": [
    "# Creating Horizontal Partitions"
   ]
  },
  {
   "cell_type": "markdown",
   "metadata": {},
   "source": [
    "- create a table with `PARTITION BY RANGE ()`\n",
    "- create smaller tables as `PARTITION OF` the main table `FOR VALUES FROM x TO y`\n",
    "- create `INDEX` ON main tables range attribute"
   ]
  },
  {
   "cell_type": "markdown",
   "metadata": {},
   "source": [
    "### Using Range()"
   ]
  },
  {
   "cell_type": "markdown",
   "metadata": {},
   "source": [
    "```\n",
    "CREATE TABLE table_name (\n",
    "...\n",
    "some_col DATE NOT NULL\n",
    ")\n",
    "PARTITION BY RANGE (some_col);\n",
    "\n",
    "CREATE TABLE table_name_p1 PARTITION OF table_name\n",
    "FOR VALUES FROM ('2019-01-01') TO ('2019-03-31');\n",
    "...\n",
    "CREATE TABLE table_name_p2 PARTITION OF table_name\n",
    "FOR VALUES FROM ('2019-09-01') TO ('2019-12-31');\n",
    "\n",
    "CREATE INDEX ON table_name ('some_col');\n",
    "```"
   ]
  },
  {
   "cell_type": "markdown",
   "metadata": {},
   "source": [
    "### Using List()"
   ]
  },
  {
   "cell_type": "markdown",
   "metadata": {},
   "source": [
    "```\n",
    "CREATE TABLE table_name (\n",
    "  film_id INT,\n",
    "  title TEXT NOT NULL,\n",
    "  release_year TEXT\n",
    ")\n",
    "PARTITION BY LIST (release_year);\n",
    "\n",
    "CREATE TABLE table_name_1\n",
    "\tPARTITION OF table_name FOR VALUES IN ('2019');\n",
    "\n",
    "CREATE TABLE table_name_2\n",
    "\tPARTITION OF table_name FOR VALUES IN ('2018');\n",
    "\n",
    "CREATE TABLE table_name_3\n",
    "\tPARTITION OF table_name FOR VALUES IN ('2017');\n",
    "\n",
    "INSERT INTO table_name\n",
    "SELECT film_id, title, release_year FROM film;\n",
    "\n",
    "```"
   ]
  },
  {
   "cell_type": "markdown",
   "metadata": {},
   "source": [
    "# Pros/cons"
   ]
  },
  {
   "cell_type": "markdown",
   "metadata": {},
   "source": [
    "- Indices of heavily-used partitions fit in memory\n",
    "- Move lesser used partitions to specific medium: slower vs. faster\n",
    "- Used for both OLAP as OLTP\n",
    "\n",
    "However,\n",
    "- Partitioning existing table can be a hassle\n",
    "- Some constraints can not be set"
   ]
  },
  {
   "cell_type": "markdown",
   "metadata": {},
   "source": [
    "# Sharding"
   ]
  },
  {
   "cell_type": "markdown",
   "metadata": {},
   "source": [
    "- Horizontal partitions are applied to distribute a table across several machines\n",
    "- Used for MPP (massively parallel processing)\n",
    "- Calculations can be processed on each shard"
   ]
  },
  {
   "cell_type": "markdown",
   "metadata": {},
   "source": [
    "# Unified Data Model"
   ]
  },
  {
   "cell_type": "markdown",
   "metadata": {},
   "source": [
    "- Need overview of all database that are in different system / machine / format. eg- MongoDB, csv, MySQL\n",
    "- Different update cadency for different data (1 hour, 30 minutes, 1 day)\n",
    "- Dashboards?\n",
    "- Recommendation engine?\n",
    "- Transform (or ETL like apache airflow or scriptella) the different formats into one chosen format for uniformed model \n",
    "- Unified Data Format (eg- Redshift) connects all transformed formats"
   ]
  },
  {
   "cell_type": "markdown",
   "metadata": {},
   "source": [
    "# Choosing a data integration tool"
   ]
  },
  {
   "cell_type": "markdown",
   "metadata": {},
   "source": [
    "- Flexible : Connects all data sources\n",
    "- Reliable : Can be maintained in a year\n",
    "- Scalable : Scale well with increase of volume\n",
    "- Automated testing and proactive alerts : Notification when data gets corrupted \n",
    "- Security : Restricted data from a source should remain restricted in unified data model\n",
    "- Data governance - lineage : Should be traceable - where the data originated from / source and where it is used regularly"
   ]
  },
  {
   "cell_type": "markdown",
   "metadata": {},
   "source": [
    "# DBMS"
   ]
  },
  {
   "cell_type": "markdown",
   "metadata": {},
   "source": [
    "It is an interface between database and end users that manages 3 aspects:\n",
    "- Data\n",
    "- Database schema\n",
    "- Database engine\n",
    "\n",
    "Generally of Two types:\n",
    "- SQL DBMS\n",
    "- NoSQL DBMS\n"
   ]
  },
  {
   "cell_type": "markdown",
   "metadata": {},
   "source": [
    "# RDBMS"
   ]
  },
  {
   "cell_type": "markdown",
   "metadata": {},
   "source": [
    "- Relational DataBase Management System / SQL DBMS\n",
    "- Based on the relational model of data\n",
    "- SQL as query language\n",
    "- When data is structured and unchanging\n",
    "- Data must be consistent"
   ]
  },
  {
   "cell_type": "markdown",
   "metadata": {},
   "source": [
    "# NoSQL DBMS"
   ]
  },
  {
   "cell_type": "markdown",
   "metadata": {},
   "source": [
    "- Less structured / Flexible \n",
    "- Document-centered\n",
    "- Used when No clear schema is followed / schema is varied\n",
    "- Large quantities of data\n",
    "- When data is frequently changing\n",
    "- Scalable data / rapidly growing data\n",
    "- Types: key-value store, document store, columnar database, graph database"
   ]
  },
  {
   "cell_type": "markdown",
   "metadata": {},
   "source": [
    "# key-value store"
   ]
  },
  {
   "cell_type": "markdown",
   "metadata": {},
   "source": [
    "- Combinations of keys and values\n",
    "- Key: unique identifier\n",
    "- Value: anything\n",
    "- Use case: managing the shopping cart for an on-line buyer\n",
    "- Example : Redis"
   ]
  },
  {
   "cell_type": "markdown",
   "metadata": {},
   "source": [
    "# document store"
   ]
  },
  {
   "cell_type": "markdown",
   "metadata": {},
   "source": [
    "- Key: unique identifier\n",
    "- Values : documents\n",
    "- Documents are somewhat structured\n",
    "- Use case: content management system\n",
    "- Example : MongoDB"
   ]
  },
  {
   "cell_type": "markdown",
   "metadata": {},
   "source": [
    "# columnar database"
   ]
  },
  {
   "cell_type": "markdown",
   "metadata": {},
   "source": [
    "- Store data in columns\n",
    "- Faster Scalable\n",
    "- Use case: big data analytics where speed is important\n",
    "- Example: Cassandra"
   ]
  },
  {
   "cell_type": "markdown",
   "metadata": {},
   "source": [
    "# graph database"
   ]
  },
  {
   "cell_type": "markdown",
   "metadata": {},
   "source": [
    "- Data is interconnected and best represented as a graph\n",
    "- Lots of complexity is introducd\n",
    "- Use case: social media data, recommendations\n",
    "- Example: neo4j"
   ]
  }
 ],
 "metadata": {
  "kernelspec": {
   "display_name": "Python 3.8.3 ('base')",
   "language": "python",
   "name": "python3"
  },
  "language_info": {
   "name": "python",
   "version": "3.8.3"
  },
  "orig_nbformat": 4,
  "vscode": {
   "interpreter": {
    "hash": "dc575bfddb5c8ca4bb6a4f4dcdd32abc104b5fa4177361381c432fff36ce3e46"
   }
  }
 },
 "nbformat": 4,
 "nbformat_minor": 2
}
