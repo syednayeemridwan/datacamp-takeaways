{
 "cells": [
  {
   "cell_type": "markdown",
   "metadata": {},
   "source": [
    "# Jargons"
   ]
  },
  {
   "cell_type": "markdown",
   "metadata": {},
   "source": [
    "- Schemas : How should data is logically organized\n",
    "- Normalization : minimal dependency and redundancy\n",
    "- Views : Most often done join tables in temporary read-only memory\n",
    "- Access control : Level of access to database by different types of users\n",
    "- DBMS : A system for managing data more with ease. Normally a software base."
   ]
  },
  {
   "cell_type": "markdown",
   "metadata": {},
   "source": [
    "# Star schema"
   ]
  },
  {
   "cell_type": "markdown",
   "metadata": {},
   "source": [
    "- One Fact Table\n",
    "- Multiple Dimension Tables\n",
    "- one dimension"
   ]
  },
  {
   "cell_type": "markdown",
   "metadata": {},
   "source": [
    "# Snowflake Schema"
   ]
  },
  {
   "cell_type": "markdown",
   "metadata": {},
   "source": [
    "- Star Schema\n",
    "- Tables are further normalized\n",
    "- So, more than dimension"
   ]
  },
  {
   "cell_type": "markdown",
   "metadata": {},
   "source": [
    "# Normalization"
   ]
  },
  {
   "cell_type": "markdown",
   "metadata": {},
   "source": [
    "- Divides tables into smaller tables and connects them via relationships\n",
    "- Reduce redundancy = Less records to alter = safer update, remove and insert\n",
    "- Smaller tables = Easily extendable = Increase data integrity \n",
    "- Enforce Consistency = respect naming conventions through referential integrity (eg- Bangladesh or BD only the recorded one is taken)\n",
    "- Save on storage\n",
    "- However, More complex and longer queries that requires more CPU power\n",
    "- Identify repeating groups of data and create new tables for them\n",
    "- Preferred in OLTP (because of safer insertion of write-intensive database is priority)\n",
    "- Not Preferred in OLAP (because of quicker queriesn of read-intensive database is priority)\n",
    "- Protects from 3 anomalies\n"
   ]
  },
  {
   "cell_type": "markdown",
   "metadata": {},
   "source": [
    "# Normal forms (NF)"
   ]
  },
  {
   "cell_type": "markdown",
   "metadata": {},
   "source": [
    "- 1NF\n",
    "- 2NF\n",
    "- 3NF\n",
    "- 4NF\n",
    "- 5NF\n",
    "- 6NF\n",
    "- EKNF (Elementary key normal form)\n",
    "- DKNF (Domain-key Normal Form)\n",
    "- BCNF (Boyce-Codd normal form)\n",
    "- ETNF (Essential tuple normal form)"
   ]
  },
  {
   "cell_type": "markdown",
   "metadata": {},
   "source": [
    "# 1NF"
   ]
  },
  {
   "cell_type": "markdown",
   "metadata": {},
   "source": [
    "- No duplicate row (unique)\n",
    "- 1 Cell = 1 Value (not more than 1 value in each cell)"
   ]
  },
  {
   "cell_type": "markdown",
   "metadata": {},
   "source": [
    "# 2NF"
   ]
  },
  {
   "cell_type": "markdown",
   "metadata": {},
   "source": [
    "- Must satisfy 1NF\n",
    "- If primary key is one column then 2NF is automatically satisfied\n",
    "- If there is no primary key and instead a composite key, each non-key column must be completely dependent on all the keys (not partially dependent on subset of combinations)  "
   ]
  },
  {
   "cell_type": "markdown",
   "metadata": {},
   "source": [
    "# 3NF"
   ]
  },
  {
   "cell_type": "markdown",
   "metadata": {},
   "source": [
    "- Must satisfy 2NF\n",
    "- Non-key columns cannot be dependent on other non-key columns"
   ]
  },
  {
   "cell_type": "markdown",
   "metadata": {},
   "source": [
    "# Data anomalies"
   ]
  },
  {
   "cell_type": "markdown",
   "metadata": {},
   "source": [
    "Anomalies that happen if database is not normalized properly:\n",
    "\n",
    "- Update\n",
    "- Insertion\n",
    "- Deletion"
   ]
  },
  {
   "cell_type": "markdown",
   "metadata": {},
   "source": [
    "# Update anomaly"
   ]
  },
  {
   "cell_type": "markdown",
   "metadata": {},
   "source": [
    "- There are redundancy in the database\n",
    "- When updating, update all the redundant records\n",
    "- User needs to know all the redundant records where to update"
   ]
  },
  {
   "cell_type": "markdown",
   "metadata": {},
   "source": [
    "# Insertion Anomaly"
   ]
  },
  {
   "cell_type": "markdown",
   "metadata": {},
   "source": [
    "- Unable to add a record due to restrictions / missing attributes\n",
    "- eg: A student took admission but did not enroll in any course\n",
    "- Only exception is if the table's column accept null values (this is a restriction)\n",
    "- There might be dependency of columns in the same table, so there might be restrictions on what could be inserted in the table."
   ]
  },
  {
   "cell_type": "markdown",
   "metadata": {},
   "source": [
    "# Deletion Anomaly"
   ]
  },
  {
   "cell_type": "markdown",
   "metadata": {},
   "source": [
    "- You delete a record and unintentionally delete other data"
   ]
  }
 ],
 "metadata": {
  "kernelspec": {
   "display_name": "Python 3.8.3 ('base')",
   "language": "python",
   "name": "python3"
  },
  "language_info": {
   "name": "python",
   "version": "3.8.3"
  },
  "orig_nbformat": 4,
  "vscode": {
   "interpreter": {
    "hash": "dc575bfddb5c8ca4bb6a4f4dcdd32abc104b5fa4177361381c432fff36ce3e46"
   }
  }
 },
 "nbformat": 4,
 "nbformat_minor": 2
}
