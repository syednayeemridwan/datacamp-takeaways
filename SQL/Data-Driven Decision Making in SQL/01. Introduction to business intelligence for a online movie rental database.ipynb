{
 "cells": [
  {
   "cell_type": "markdown",
   "metadata": {},
   "source": [
    "# KPI"
   ]
  },
  {
   "cell_type": "markdown",
   "metadata": {},
   "source": [
    "- Key performance indicators\n",
    "- measure the success\n",
    "- Different ways of measuring business performance\n",
    "    - Revenue : \n",
    "        - Example : The number of rentals\n",
    "    - Customer satisfaction:\n",
    "        - Example : The rating of movies\n",
    "    - Customer Engagement:\n",
    "        - Example: Number of active customers\n",
    "- Helps to make operational decisions\n",
    "    - Short term investments\n",
    "    - Where to invest\n",
    "- Helps to make strategic decisions\n",
    "    - Long term investments\n",
    "    - Market extension plan"
   ]
  },
  {
   "cell_type": "markdown",
   "metadata": {},
   "source": [
    "# WHERE"
   ]
  },
  {
   "cell_type": "markdown",
   "metadata": {},
   "source": [
    "- Used for filtering\n",
    "- Used along with different operators\n",
    "- See slides for examples\n",
    "<center><img src=\"images/01.04.jpg\"  style=\"width: 400px, height: 300px;\"/></center>\n"
   ]
  },
  {
   "cell_type": "markdown",
   "metadata": {},
   "source": [
    "# AND, OR"
   ]
  },
  {
   "cell_type": "markdown",
   "metadata": {},
   "source": [
    "- `AND` : Evaluates if all condition in `WHERE` is True\n",
    "- `OR` : Evaluates if any condition in `WHERE` is True\n",
    "- See slides for examples\n"
   ]
  },
  {
   "cell_type": "markdown",
   "metadata": {},
   "source": [
    "# Ordering"
   ]
  },
  {
   "cell_type": "markdown",
   "metadata": {},
   "source": [
    "- Used for ordering the table by a column\n",
    "- Default Ordering : Ascending\n",
    "- Use `DESC` keyword at the end to make the ordering descending\n",
    "- `SELECT * FROM table_name ORDER BY order_col DESC;`\n",
    "- When ordering, `NULL` is treated as the largest value\n"
   ]
  },
  {
   "cell_type": "markdown",
   "metadata": {},
   "source": [
    "# Aggregate Functions"
   ]
  },
  {
   "cell_type": "markdown",
   "metadata": {},
   "source": [
    "- `AVG()` :\n",
    "    - Average of a column\n",
    "    - The result is `NULL` if all of the values are `NULL`.\n",
    "- `SUM()` :\n",
    "    - Total Addition of values in a column\n",
    "- `COUNT()` :\n",
    "    - Total number of non-null entries\n",
    "- `MIN()` :\n",
    "    - Minimum value of a column\n",
    "- `MAX()` :\n",
    "    - Maximum value of a column\n",
    "\n",
    "- See slides for examples"
   ]
  },
  {
   "cell_type": "markdown",
   "metadata": {},
   "source": [
    "# Distinct"
   ]
  },
  {
   "cell_type": "markdown",
   "metadata": {},
   "source": [
    "- Shows unique values in a column\n",
    "- `SELECT DISTINCT col_name FROM table_name;`"
   ]
  },
  {
   "cell_type": "markdown",
   "metadata": {},
   "source": [
    "# Alias"
   ]
  },
  {
   "cell_type": "markdown",
   "metadata": {},
   "source": [
    "- Giving the resulting column a name\n",
    "- Used with `AS` keyword\n",
    "- `SELECT COUNT(col_name) AS count_col FROM table_name;`"
   ]
  },
  {
   "cell_type": "markdown",
   "metadata": {},
   "source": [
    "# Tips"
   ]
  },
  {
   "cell_type": "markdown",
   "metadata": {},
   "source": [
    "- Always use single quote for strings. SQL does not support double quote unless specified otherwise\n"
   ]
  }
 ],
 "metadata": {
  "kernelspec": {
   "display_name": "Python 3.8.11 ('env_py')",
   "language": "python",
   "name": "python3"
  },
  "language_info": {
   "name": "python",
   "version": "3.8.11"
  },
  "orig_nbformat": 4,
  "vscode": {
   "interpreter": {
    "hash": "1e949e87132dd83f1a7623eb88007e3532b03b66b77111be347aa4a383049722"
   }
  }
 },
 "nbformat": 4,
 "nbformat_minor": 2
}
