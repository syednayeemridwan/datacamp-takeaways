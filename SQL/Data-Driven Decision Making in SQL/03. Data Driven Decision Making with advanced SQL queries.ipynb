{
 "cells": [
  {
   "cell_type": "markdown",
   "metadata": {},
   "source": [
    "# Nested Query"
   ]
  },
  {
   "cell_type": "markdown",
   "metadata": {},
   "source": [
    "- `SELECT` block in `WHERE` or `HAVING` clauses\n",
    "- Inner query returns single or multiple values\n",
    "- Use result from the inner query to select specific rows in another query\n",
    "- When returning single value, normal comparison operators can be used\n",
    "    - `SELECT * FROM table_name HAVING MIN(col) < (SELECT MIN(other_col) FROM table_name);`\n",
    "- When returning multiple values (as an output list), `IN` can be used for comparison\n",
    "    - `SELECT * FROM table_name WHERE col IN (SELECT id FROM table_name);`\n",
    "    - `SELECT * FROM table_name WHERE col IN (1,2,3,4);`\n",
    "- See examples in slide\n"
   ]
  },
  {
   "cell_type": "markdown",
   "metadata": {},
   "source": [
    "# Correlated nested queries"
   ]
  },
  {
   "cell_type": "markdown",
   "metadata": {},
   "source": [
    "- References some column of a table in the outer query.\n",
    "- 2 Tables are compared in the `WHERE` clause of the subquery / inner query\n",
    "- Means: For each row in the outer query, loop through the inner query\n",
    "- example:\n",
    "```\n",
    "SELECT *\n",
    "FROM table1 as outer\n",
    "WHERE 5 >\n",
    "(SELECT COUNT(*)\n",
    "FROM table2 as inner\n",
    "WHERE inner.matching_col = outer.matching_col);\n",
    "```\n",
    "- Ways to construct such query:\n",
    "    1. Write inner query first: \n",
    "    ```\n",
    "    SELECT COUNT(*)\n",
    "    FROM table2 as inner\n",
    "    WHERE inner.matching_col = some_val;\n",
    "    ```\n",
    "    2. Join with inner query by replacing `some_val` with other/outer table's `matching_col` :\n",
    "    ```\n",
    "    (SELECT COUNT(*)\n",
    "    FROM table2 as inner\n",
    "    WHERE inner.matching_col = outer.matching_col);\n",
    "    ```\n",
    "    3. Provide outer query information:\n",
    "    ```\n",
    "    SELECT *\n",
    "    FROM table1 as outer\n",
    "    ```\n",
    "    4. Join step 2 and step 3 with necessary `WHERE` keyword along with `OPERATORS` / `IN` / `EXISTS` etc condition:\n",
    "    ```\n",
    "    SELECT *\n",
    "    FROM table1 as outer\n",
    "    WHERE 5 >\n",
    "    (SELECT COUNT(*)\n",
    "    FROM table2 as inner\n",
    "    WHERE inner.matching_col = outer.matching_col);\n",
    "    ```"
   ]
  },
  {
   "cell_type": "markdown",
   "metadata": {},
   "source": [
    "# EXISTS"
   ]
  },
  {
   "cell_type": "markdown",
   "metadata": {},
   "source": [
    "- Special case of a correlated nested query.\n",
    "- Tells us whether the result of a correlated nested query is empty or not.\n",
    "- It returns: TRUE or FALSE, thus returns everything that meets the criteria\n",
    "- TRUE = not empty -> row of the outer query is selected.\n",
    "- FALSE = empty\n",
    "- Always use `SELECT *` with `WHERE EXISTS`\n",
    "- example:\n",
    "    ```\n",
    "    SELECT *\n",
    "    FROM table1 as outer\n",
    "    WHERE EXISTS\n",
    "    (SELECT COUNT(*)\n",
    "    FROM table2 as inner\n",
    "    WHERE inner.matching_col = outer.matching_col);\n",
    "    ```\n",
    "- `NOT EXISTS` returns opposite of `EXISTS` from inner query"
   ]
  },
  {
   "cell_type": "markdown",
   "metadata": {},
   "source": [
    "# UNION"
   ]
  },
  {
   "cell_type": "markdown",
   "metadata": {},
   "source": [
    "- Set operation\n",
    "- Takes common + uncommon elements in both tables (no duplicates allowed)\n",
    "- example:\n",
    "    ```\n",
    "    SELECT * FROM table_1\n",
    "        UNION\n",
    "    SELECT * FROM table_2;\n",
    "    ```\n",
    "<center><img src=\"images/03.121.jpg\"  style=\"width: 400px, height: 300px;\"/></center>\n",
    "    "
   ]
  },
  {
   "cell_type": "markdown",
   "metadata": {},
   "source": [
    "# INTERSECT"
   ]
  },
  {
   "cell_type": "markdown",
   "metadata": {},
   "source": [
    "- Set operation\n",
    "- Takes common elements in both tables\n",
    "- example:\n",
    "    ```\n",
    "    SELECT * FROM table_1\n",
    "        INTERSECT\n",
    "    SELECT * FROM table_2;\n",
    "    ```\n",
    "<center><img src=\"images/03.122.jpg\"  style=\"width: 400px, height: 300px;\"/></center>\n"
   ]
  }
 ],
 "metadata": {
  "kernelspec": {
   "display_name": "Python 3.8.11 ('env_py')",
   "language": "python",
   "name": "python3"
  },
  "language_info": {
   "name": "python",
   "version": "3.8.11"
  },
  "orig_nbformat": 4,
  "vscode": {
   "interpreter": {
    "hash": "1e949e87132dd83f1a7623eb88007e3532b03b66b77111be347aa4a383049722"
   }
  }
 },
 "nbformat": 4,
 "nbformat_minor": 2
}
