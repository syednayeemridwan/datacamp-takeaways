{
 "cells": [
  {
   "cell_type": "markdown",
   "metadata": {},
   "source": [
    "# GROUP BY"
   ]
  },
  {
   "cell_type": "markdown",
   "metadata": {},
   "source": [
    "- Used with aggregate functions\n",
    "- Used to group with other columns\n",
    "- Non-aggregated columns are tied with `GROUP BY` clause\n",
    "- `SELECT non_agg_col , AVG(col) FROM table_name GROUP BY non_agg_col;`\n",
    "\n",
    "<center><img src=\"images/02.01.jpg\"  style=\"width: 400px, height: 300px;\"/></center>\n"
   ]
  },
  {
   "cell_type": "markdown",
   "metadata": {},
   "source": [
    "# HAVING"
   ]
  },
  {
   "cell_type": "markdown",
   "metadata": {},
   "source": [
    "- Used for filtering with aggregate functions\n",
    "- `WHERE` cannot be used with aggregate functions\n",
    "- If ever needed a situation like: `WHERE COUNT(*) > 2;`, use `HAVING` instead.\n",
    "    - `HAVING COUNT(*) > 2;`\n",
    "- example:\n",
    "```\n",
    "SELECT \n",
    "    non_agg_col, \n",
    "    AVG(col) avg_price \n",
    "FROM table_name \n",
    "GROUP BY non_agg_col \n",
    "HAVING COUNT(*) > 5;\n",
    "```"
   ]
  },
  {
   "cell_type": "markdown",
   "metadata": {},
   "source": [
    "# Joining"
   ]
  },
  {
   "cell_type": "markdown",
   "metadata": {},
   "source": [
    "- 3 Types\n",
    "- `LEFT JOIN` : Keep all entries from LEFT table\n",
    "- `RIGHT JOIN` : Keep all entries from RIGHT table\n",
    "- `INNER JOIN` : Keep only entries that match on both LEFT and RIGHT table\n",
    "- example syax:\n",
    "```\n",
    "SELECT *\n",
    "FROM some_table1 AS left\n",
    "INNER JOIN some_table2 AS right\n",
    "ON left.matching_col = right.matching_col\n",
    "LEFT JOIN some_table3 AS other\n",
    "ON right.some_other_matching_col = other.some_other_matching_col;\n",
    "```\n",
    "- See slides for examples"
   ]
  },
  {
   "cell_type": "markdown",
   "metadata": {},
   "source": [
    "# Subqueries"
   ]
  },
  {
   "cell_type": "markdown",
   "metadata": {},
   "source": [
    "- Subquery after `FROM`\n",
    "    - Also considered subsequent `SELECT` statements\n",
    "- Can be considered as an independent table\n",
    "```\n",
    "SELECT *\n",
    "FROM\n",
    "(SELECT * FROM table_name) AS subquery_table;\n",
    "```\n",
    "- See slides for examples\n"
   ]
  }
 ],
 "metadata": {
  "kernelspec": {
   "display_name": "Python 3.8.11 ('env_py')",
   "language": "python",
   "name": "python3"
  },
  "language_info": {
   "name": "python",
   "version": "3.8.11"
  },
  "orig_nbformat": 4,
  "vscode": {
   "interpreter": {
    "hash": "1e949e87132dd83f1a7623eb88007e3532b03b66b77111be347aa4a383049722"
   }
  }
 },
 "nbformat": 4,
 "nbformat_minor": 2
}
