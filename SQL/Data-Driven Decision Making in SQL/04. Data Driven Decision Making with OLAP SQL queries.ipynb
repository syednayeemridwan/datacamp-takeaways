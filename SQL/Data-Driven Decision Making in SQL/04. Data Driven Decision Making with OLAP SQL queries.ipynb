{
 "cells": [
  {
   "cell_type": "markdown",
   "metadata": {},
   "source": [
    "# OLAP"
   ]
  },
  {
   "cell_type": "markdown",
   "metadata": {},
   "source": [
    "- on-line analytical processing\n",
    "- Aggregate data for a better overview\n",
    "- Produce pivot tables to present aggregation results\n"
   ]
  },
  {
   "cell_type": "markdown",
   "metadata": {},
   "source": [
    "# CUBE"
   ]
  },
  {
   "cell_type": "markdown",
   "metadata": {},
   "source": [
    "- `GROUP BY CUBE` = Aggregation of Combination of possible groups\n",
    "- Any aggregation function\n",
    "- Order of column names are not important (Produce identical results)\n",
    "- example:\n",
    "```\n",
    "SELECT col1, col2, COUNT(agg_col)\n",
    "FROM table_name\n",
    "GROUP BY CUBE (col1, col2);\n",
    "```\n",
    "\n",
    "<center><img src=\"images/04.01.jpg\"  style=\"width: 400px, height: 300px;\"/></center>\n",
    "<center><img src=\"images/04.012.jpg\"  style=\"width: 400px, height: 300px;\"/></center>\n"
   ]
  },
  {
   "cell_type": "markdown",
   "metadata": {},
   "source": [
    "# ROLLUP"
   ]
  },
  {
   "cell_type": "markdown",
   "metadata": {},
   "source": [
    "- Similar to `CUBE`\n",
    "- Order of column names are important (Produce different results for different order)\n",
    "- In each step, one level of detail is dropped from the list in parenthesis\n",
    "- Levels of aggregation\n",
    "    - Aggregation of each combination of given column in parenthesis\n",
    "    - Aggregation of first column in parenthesis\n",
    "    - Total aggregation\n",
    "<center><img src=\"images/04.05.jpg\"  style=\"width: 400px, height: 300px;\"/></center>\n"
   ]
  },
  {
   "cell_type": "markdown",
   "metadata": {},
   "source": [
    "# GROUPING SETS"
   ]
  },
  {
   "cell_type": "markdown",
   "metadata": {},
   "source": [
    "- `GROUP BY GROUPING SETS`\n",
    "- Similar to `CUBE`\n",
    "- Gives results on desired level of specified combination accordingly instead of all possible combinations\n",
    "- Results of multiple `GROUP BY`\n",
    "- Total is represented as `()`\n",
    "<center><img src=\"images/04.08.jpg\"  style=\"width: 400px, height: 300px;\"/></center>\n",
    "\n",
    "- See example in slides"
   ]
  }
 ],
 "metadata": {
  "kernelspec": {
   "display_name": "Python 3.8.11 ('env_py')",
   "language": "python",
   "name": "python3"
  },
  "language_info": {
   "name": "python",
   "version": "3.8.11"
  },
  "orig_nbformat": 4,
  "vscode": {
   "interpreter": {
    "hash": "1e949e87132dd83f1a7623eb88007e3532b03b66b77111be347aa4a383049722"
   }
  }
 },
 "nbformat": 4,
 "nbformat_minor": 2
}
