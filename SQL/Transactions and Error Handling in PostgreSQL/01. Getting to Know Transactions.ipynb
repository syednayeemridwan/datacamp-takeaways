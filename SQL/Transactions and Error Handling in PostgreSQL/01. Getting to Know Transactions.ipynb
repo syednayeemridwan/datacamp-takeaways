{
 "cells": [
  {
   "cell_type": "markdown",
   "metadata": {},
   "source": [
    "# Transactions"
   ]
  },
  {
   "cell_type": "markdown",
   "metadata": {},
   "source": [
    "- Either all statements will complete or none of the statements will execute\n",
    "- Multiple statements that should succeed or fail as a group\n",
    "- Handling how statements are affected by concurrent operations\n",
    "- Enclosed the statements with `BEGIN` ... `COMMIT` : Transaction block\n",
    "- Unless explicitly mentioned, each query has `BEGIN` ... `COMMIT` individually by default\n",
    "- example:\n",
    "```\n",
    "BEGIN <TRANSACTION>;\n",
    "    <query1>;\n",
    "    <query2>;\n",
    "COMMIT;\n",
    "```"
   ]
  },
  {
   "cell_type": "markdown",
   "metadata": {},
   "source": [
    "# Best Practices"
   ]
  },
  {
   "cell_type": "markdown",
   "metadata": {},
   "source": [
    "- Keep transactions small\n",
    "    - Easier to reason about\n",
    "    - Database Performance\n",
    "    - Error domains are easily trackable"
   ]
  },
  {
   "cell_type": "markdown",
   "metadata": {},
   "source": [
    "# Concurrency"
   ]
  },
  {
   "cell_type": "markdown",
   "metadata": {},
   "source": [
    "- Handling the coordination of multiple operations at the same time.\n",
    "- Has a unique set of issues in a database.\n",
    "- Uses rules known as isolation levels to make it easier to reason about outcomes."
   ]
  },
  {
   "cell_type": "markdown",
   "metadata": {},
   "source": [
    "### Dirty Read"
   ]
  },
  {
   "cell_type": "markdown",
   "metadata": {},
   "source": [
    "- A transaction, T1 performns an operation\n",
    "- However, this operation is still not committed\n",
    "- There is another concurrent transaction , T2\n",
    "- T2 reads T1's uncommitted data \n",
    "- Consequence : What if T1's operation is rolled back?\n",
    "<center><img src=\"images/01.081.jpg\"  style=\"width: 400px, height: 300px;\"/></center>\n"
   ]
  },
  {
   "cell_type": "markdown",
   "metadata": {},
   "source": [
    "### Non-repeatable Read\n"
   ]
  },
  {
   "cell_type": "markdown",
   "metadata": {},
   "source": [
    "- A transaction, T1 performns an operation\n",
    "- This operation is committed\n",
    "- There is another concurrent transaction , T2\n",
    "- T2 reads shared data before T1's operation \n",
    "- T2 detects the data is changed by T1\n",
    "- T2 re-reads shared data after T1's operation \n",
    "- Consequence : What if some operation was already done by the time T2 re-reads T1's change?\n",
    "<center><img src=\"images/01.082.jpg\"  style=\"width: 400px, height: 300px;\"/></center>\n"
   ]
  },
  {
   "cell_type": "markdown",
   "metadata": {},
   "source": [
    "### Phantom Read"
   ]
  },
  {
   "cell_type": "markdown",
   "metadata": {},
   "source": [
    "- A transaction, T1 executes a query that satisfies a search condition\n",
    "- There is another concurrent transaction , T2\n",
    "- T2 makes some changes/add some information in the dataset that changes the search condition\n",
    "- According to T1's search condition, T2's change is also reflected into T1 \n",
    "- However, due to T2'soperation, the re-executed query shows additional information (phantom)\n",
    "- Consequence : What if some operation was done after the new row shows up?\n",
    "    - You want to operate on 1 result row, but now you are operating on multiple result rows.\n",
    "<center><img src=\"images/01.083.jpg\"  style=\"width: 400px, height: 300px;\"/></center>\n"
   ]
  },
  {
   "cell_type": "markdown",
   "metadata": {},
   "source": [
    "### Serialization Anomaly\n"
   ]
  },
  {
   "cell_type": "markdown",
   "metadata": {},
   "source": [
    "- A transaction, T1 executes multiple queries\n",
    "- There is another concurrent transaction , T2 that also executes multiple queries\n",
    "- Since T1 and T2 are concurrent, some queries in T2 may change before some queries of T1 are executed (Overlapping queries)\n",
    "- So, T1's later queries might not expect the changed data. Same goes for T2\n",
    "- Consequence : Think of a printer. You commanded to print 2 pages at the same time. What happens if some text of page 1 appears in some tet of page 2?\n",
    "<center><img src=\"images/01.084.jpg\"  style=\"width: 400px, height: 300px;\"/></center>\n"
   ]
  },
  {
   "cell_type": "markdown",
   "metadata": {},
   "source": [
    "# Setting isolation levels"
   ]
  },
  {
   "cell_type": "markdown",
   "metadata": {},
   "source": [
    "- `START TRANSACTION ISOLATION LEVEL <preferred_level>;` .... `COMMIT;`\n",
    "- Trade-off = speed\n",
    "- Requires other transactions to wait before proceeding\n",
    "<center><img src=\"images/01.085.jpg\"  style=\"width: 400px, height: 300px;\"/></center>\n"
   ]
  }
 ],
 "metadata": {
  "kernelspec": {
   "display_name": "Python 3.8.11 ('env_py')",
   "language": "python",
   "name": "python3"
  },
  "language_info": {
   "name": "python",
   "version": "3.8.11"
  },
  "orig_nbformat": 4,
  "vscode": {
   "interpreter": {
    "hash": "1e949e87132dd83f1a7623eb88007e3532b03b66b77111be347aa4a383049722"
   }
  }
 },
 "nbformat": 4,
 "nbformat_minor": 2
}
