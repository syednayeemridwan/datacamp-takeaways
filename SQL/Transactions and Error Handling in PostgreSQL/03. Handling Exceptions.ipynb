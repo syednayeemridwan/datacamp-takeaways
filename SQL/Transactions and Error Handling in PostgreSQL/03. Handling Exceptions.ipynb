{
 "cells": [
  {
   "cell_type": "markdown",
   "metadata": {},
   "source": [
    "# Exception Handling"
   ]
  },
  {
   "cell_type": "markdown",
   "metadata": {},
   "source": [
    "- Use for handling scpecial cases like (`1/0`)\n",
    "- By default, `EXCEPTION` issues a rollback\n",
    "- Using an `EXCEPTION` clause adds significant overhead\n",
    "- Python or R exception handling is more efficient\n",
    "- Don't sacrifice getting the right context to solve the exception\n",
    "- Don't optimize before you understand your exceptions.\n",
    "- NOTE : A transaction cannot be ended inside the block of an exception\n",
    "    - Solution : \n",
    "        - Use nested block to emulate savepoints with multiple `EXCEPTION`s \n",
    "        - The last `EXCEPTION` block will be considered a successful savepoint\n",
    "        - Good for up to 3/4 blocks \n",
    "- Common types of exception conditions:\n",
    "<center><img src=\"images/03.08.jpg\"  style=\"width: 400px, height: 300px;\"/></center>\n"
   ]
  },
  {
   "cell_type": "markdown",
   "metadata": {},
   "source": [
    "```\n",
    "DO $$\n",
    "<BEGIN>\n",
    "    <DECLARE some_variable var_type;>\n",
    "    BEGIN\n",
    "        <query>\n",
    "    EXCEPTION\n",
    "        WHEN <condition_name> THEN\n",
    "            <log_query>;\n",
    "            <graceful_degradation_query>\n",
    "        RAISE INFO 'Exception Caught';\n",
    "\n",
    "        WHEN <others> THEN\n",
    "            <query>;\n",
    "        RAISE INFO 'Exception Caught';\n",
    "\n",
    "    END;\n",
    "<END;>\n",
    "$$ language 'plpgsql';\n",
    "```"
   ]
  },
  {
   "cell_type": "markdown",
   "metadata": {},
   "source": [
    "- SEE EXAMPLES IN SLIDES"
   ]
  },
  {
   "cell_type": "markdown",
   "metadata": {},
   "source": [
    "# Graceful degradation"
   ]
  },
  {
   "cell_type": "markdown",
   "metadata": {},
   "source": [
    "- A process by which we adapt data to a specific value if it triggers an exception\n",
    "- When to use graceful degradation\n",
    "    - Loading data from an external system where you want to replace nulls with 0s\n",
    "    - Getting readings from an instrument that is only accurate up to a certain threshold\n",
    "    - Receiving dates that are out of bounds that you want to set to some sentinel value\n",
    "    - Writing all records that cause exceptions to another table for further processing\n",
    "    - When the new value would be hidden behind a math operation such as a `sum`, `avg`, or other aggregate.\n",
    "    - When the new value affects data in a time series.\n",
    "- example : \n",
    "    - Height cannot be negative\n",
    "    - If some negative value  is inserted, Raise exception.\n",
    "    - Handle the exception and insert 0 instead.\n",
    "    - SEE SLIDES FOR EXAMPLES\n"
   ]
  }
 ],
 "metadata": {
  "kernelspec": {
   "display_name": "Python 3.8.11 ('env_py')",
   "language": "python",
   "name": "python3"
  },
  "language_info": {
   "name": "python",
   "version": "3.8.11"
  },
  "orig_nbformat": 4,
  "vscode": {
   "interpreter": {
    "hash": "1e949e87132dd83f1a7623eb88007e3532b03b66b77111be347aa4a383049722"
   }
  }
 },
 "nbformat": 4,
 "nbformat_minor": 2
}
