{
 "cells": [
  {
   "cell_type": "markdown",
   "metadata": {},
   "source": [
    "# Rolling back"
   ]
  },
  {
   "cell_type": "markdown",
   "metadata": {},
   "source": [
    "- Undos a transaction\n",
    "- Reverts the changes \n",
    "- Example : \n",
    "```\n",
    "BEGIN TRANSACTION;\n",
    "    <query...>\n",
    "    <query...>\n",
    "ROLLBACK;\n",
    "```"
   ]
  },
  {
   "cell_type": "markdown",
   "metadata": {},
   "source": [
    "# Savepoint"
   ]
  },
  {
   "cell_type": "markdown",
   "metadata": {},
   "source": [
    "- A point where in time to be rolled back\n",
    "- Reverts the changes up to that certain point\n",
    "- There can be multiple savepoints\n",
    "    - USED AS A MEANS INTEAD OF NESTED TRANSACTIONS\n",
    "- A new `SAVEPOINT` with the same name overwrites the previous savepoint\n",
    "- Generally avoid reusing names within a transaction.\n",
    "- Example:\n",
    "```\n",
    "BEGIN TRANSACTION;\n",
    "    <query>\n",
    "SAVEPOINT savepoint1;\n",
    "    <query>\n",
    "SAVEPOINT savepoint2;\n",
    "    <query>\n",
    "ROLLBACK TO savepoint1;\n",
    "```"
   ]
  },
  {
   "cell_type": "markdown",
   "metadata": {},
   "source": [
    "### EXAMPLE"
   ]
  },
  {
   "cell_type": "markdown",
   "metadata": {},
   "source": [
    "```\n",
    "START TRANSACTION ISOLATION LEVEL REPEATABLE READ;\n",
    "\n",
    "UPDATE table_name1\n",
    "SET col1 = 'val1'\n",
    "WHERE col2 = 'val2';\n",
    "\n",
    "SAVEPOINT first;\n",
    "\n",
    "UPDATE table_name2\n",
    "SET col1 = 'val1'\n",
    "WHERE col2 = 'val2';\n",
    "\n",
    "SAVEPOINT second;\n",
    "\n",
    "\n",
    "COMMIT;\n",
    "```"
   ]
  }
 ],
 "metadata": {
  "kernelspec": {
   "display_name": "Python 3.8.11 ('env_py')",
   "language": "python",
   "name": "python3"
  },
  "language_info": {
   "name": "python",
   "version": "3.8.11"
  },
  "orig_nbformat": 4,
  "vscode": {
   "interpreter": {
    "hash": "1e949e87132dd83f1a7623eb88007e3532b03b66b77111be347aa4a383049722"
   }
  }
 },
 "nbformat": 4,
 "nbformat_minor": 2
}
