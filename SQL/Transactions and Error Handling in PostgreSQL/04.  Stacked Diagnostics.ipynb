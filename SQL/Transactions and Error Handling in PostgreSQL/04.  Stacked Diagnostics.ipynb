{
 "cells": [
  {
   "cell_type": "markdown",
   "metadata": {},
   "source": [
    "# Stacked Diagnostics"
   ]
  },
  {
   "cell_type": "markdown",
   "metadata": {},
   "source": [
    "- Gives us additional diagnostic information when exception occurs\n",
    "- Gives us access to error stacks \n",
    "- More overhead\n",
    "    - Do not use if the problem can be pinned down easily\n",
    "- example:\n",
    "```\n",
    "DO $$\n",
    "    DECLARE\n",
    "    some_var_1 type;\n",
    "    some_var_2 type;\n",
    "    some_var_3 type;\n",
    "    BEGIN\n",
    "        <query....>;\n",
    "        <query....>;\n",
    "    EXCEPTION\n",
    "        WHEN others THEN\n",
    "        GET STACKED DIAGNOSTICS \n",
    "            some_var_1 = MESSAGE_TEXT,\n",
    "            some_var_2 = PG_EXCEPTION_DETAIL\n",
    "            some_var_3 = PG_EXCEPTION_CONTEXT;\n",
    "        <query....>;\n",
    "        RAISE INFO 'Exception Messaage: % | Exception Details: %', some_var_1, some_var_2;\n",
    "END$$;\n",
    "```\n"
   ]
  },
  {
   "cell_type": "markdown",
   "metadata": {},
   "source": [
    "<center><img src=\"images/04.01.jpg\"  style=\"width: 400px, height: 300px;\"/></center>\n",
    "<center><img src=\"images/04.02.jpg\"  style=\"width: 400px, height: 300px;\"/></center>\n",
    "<center><img src=\"images/04.04.jpg\"  style=\"width: 400px, height: 300px;\"/></center>\n"
   ]
  },
  {
   "cell_type": "markdown",
   "metadata": {},
   "source": [
    "# Debugging Function"
   ]
  },
  {
   "cell_type": "markdown",
   "metadata": {},
   "source": [
    "```\n",
    "CREATE OR REPLACE FUNCTION func_name(\n",
    "    sql_stmt TEXT\n",
    ") RETURNS BOOLEAN AS \n",
    "$$\n",
    "    DECLARE\n",
    "        var1 TEXT;\n",
    "        var2 TEXT;\n",
    "        var3 TEXT;\n",
    "        var4 TEXT;\n",
    "    BEGIN\n",
    "        BEGIN\n",
    "            EXECUTE sql_stmt;\n",
    "            EXCEPTION \n",
    "                WHEN others THEN\n",
    "                GET STACKED DIAGNOSTICS\n",
    "                    var1 = RETURNED_SQLSTATE,\n",
    "                    var2 = MESSAGE_TEXT,\n",
    "                    var3 = PG_EXCEPTION_DETAIL,\n",
    "                    var4 = PG_EXCEPTION_CONTEXT;\n",
    "            INSERT into errors (msg, state, detail, context) values (var1, var2, var3, var4);\n",
    "        RETURN True; -- Exception caught\n",
    "        END;\n",
    "    RETURN False; -- No exception caught\n",
    "    END;\n",
    "$$ LANGUAGE plpgsql;\n",
    "```"
   ]
  },
  {
   "cell_type": "markdown",
   "metadata": {},
   "source": [
    "# Executing the Debugging Function"
   ]
  },
  {
   "cell_type": "markdown",
   "metadata": {},
   "source": [
    "### Way 01"
   ]
  },
  {
   "cell_type": "markdown",
   "metadata": {},
   "source": [
    "- Notice the double quote after `WHERE`\n",
    "```\n",
    "SELECT func_name(\n",
    "'UPDATE table_name SET cost = 35.0 WHERE name = ''Macaron'' '\n",
    ");\n",
    "SELECT * FROM errors;\n",
    "```"
   ]
  },
  {
   "cell_type": "markdown",
   "metadata": {},
   "source": [
    "### Way 02"
   ]
  },
  {
   "cell_type": "markdown",
   "metadata": {},
   "source": [
    "- Notice the double quote after `WHERE`\n",
    "- Most desirable way of executing Debugging Function\n",
    "```\n",
    "DO $$\n",
    "    DECLARE\n",
    "        stmt VARCHAR(100) := 'UPDATE table_name SET cost = 35.0 WHERE name = ''Macaron'' ';\n",
    "    BEGIN\n",
    "        EXECUTE stmt;\n",
    "        EXCEPTION WHEN OTHERS THEN\n",
    "        PERFORM func_name(stmt);\n",
    "END; $$ language 'plpgsql';\n",
    "```"
   ]
  }
 ],
 "metadata": {
  "kernelspec": {
   "display_name": "Python 3.8.11 ('env_py')",
   "language": "python",
   "name": "python3"
  },
  "language_info": {
   "name": "python",
   "version": "3.8.11"
  },
  "orig_nbformat": 4,
  "vscode": {
   "interpreter": {
    "hash": "1e949e87132dd83f1a7623eb88007e3532b03b66b77111be347aa4a383049722"
   }
  }
 },
 "nbformat": 4,
 "nbformat_minor": 2
}
