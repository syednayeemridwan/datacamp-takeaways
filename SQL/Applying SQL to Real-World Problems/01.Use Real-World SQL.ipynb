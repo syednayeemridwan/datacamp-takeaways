{
 "cells": [
  {
   "cell_type": "markdown",
   "metadata": {},
   "source": [
    "# `SELECT`"
   ]
  },
  {
   "cell_type": "markdown",
   "metadata": {},
   "source": [
    "- Used for specifying columns of the result to return\n",
    "- example: \n",
    "    - `SELECT *`  : Select all columns\n",
    "    - `SELECT <column_name>` : Select specified column"
   ]
  },
  {
   "cell_type": "markdown",
   "metadata": {},
   "source": [
    "# `FROM`"
   ]
  },
  {
   "cell_type": "markdown",
   "metadata": {},
   "source": [
    "- Used for specifying table name to work on\n",
    "- example : `FROM <table_name>`"
   ]
  },
  {
   "cell_type": "markdown",
   "metadata": {},
   "source": [
    "# `JOIN`"
   ]
  },
  {
   "cell_type": "markdown",
   "metadata": {},
   "source": [
    "- Used to join 2 tables `ON` specific column\n",
    "- Different types of joins: `INNER`, `LEFT`, `RIGHT`\n",
    "- example : `<table1_name> AS <alias1> INNER JOIN <table2_name> AS <alias2>`"
   ]
  },
  {
   "cell_type": "markdown",
   "metadata": {},
   "source": [
    "# `ON`"
   ]
  },
  {
   "cell_type": "markdown",
   "metadata": {},
   "source": [
    "- Used for specifying the matching column from both table while joining\n",
    "- example: `ON <table_1.matching_col> = <table_2.matching_col>`"
   ]
  },
  {
   "cell_type": "markdown",
   "metadata": {},
   "source": [
    "# `AS`"
   ]
  },
  {
   "cell_type": "markdown",
   "metadata": {},
   "source": [
    "- Used for aliasing a query / table name\n",
    "- example : \n",
    "    - `<column_name> AS <alias1>`\n",
    "    - `<table_name> AS <alias1>`\n",
    "    - `<query_result> AS <alias1>`"
   ]
  },
  {
   "cell_type": "markdown",
   "metadata": {},
   "source": [
    "# `WHERE`"
   ]
  },
  {
   "cell_type": "markdown",
   "metadata": {},
   "source": [
    "- Used for filtering condition\n",
    "- example : `WHERE <condition>`\n"
   ]
  },
  {
   "cell_type": "markdown",
   "metadata": {},
   "source": [
    "# `AND`"
   ]
  },
  {
   "cell_type": "markdown",
   "metadata": {},
   "source": [
    "- Used to combine multiple command with boolean `AND` operation\n",
    "- Returns true if all conditions are true\n",
    "- example : `<condition1> AND <condition2>`\n"
   ]
  },
  {
   "cell_type": "markdown",
   "metadata": {},
   "source": [
    "# `OR`"
   ]
  },
  {
   "cell_type": "markdown",
   "metadata": {},
   "source": [
    "- Used to combine multiple command with boolean `OR` operation\n",
    "- Returns true if any of the conditions are true\n",
    "- example : `<condition1> OR <condition2>`"
   ]
  },
  {
   "cell_type": "markdown",
   "metadata": {},
   "source": [
    "# `ORDER BY`"
   ]
  },
  {
   "cell_type": "markdown",
   "metadata": {},
   "source": [
    "- Used for ordering the result by specific column\n",
    "- Default ordering is in ascending order\n",
    "- `DESC` keyword at the end will make the ordering descending\n",
    "- example: `ORDER BY <column_name> DESC`"
   ]
  },
  {
   "cell_type": "markdown",
   "metadata": {},
   "source": [
    "# `IN`"
   ]
  },
  {
   "cell_type": "markdown",
   "metadata": {},
   "source": [
    "- Provide a list for comparison\n",
    "- example: `IN ('<item1>','<item2>', ...)`"
   ]
  },
  {
   "cell_type": "markdown",
   "metadata": {},
   "source": [
    "# EXAMPLE"
   ]
  },
  {
   "cell_type": "markdown",
   "metadata": {},
   "source": [
    "<center><img src=\"images/01.01.jpg\"  style=\"width: 400px, height: 300px;\"/></center>"
   ]
  },
  {
   "cell_type": "markdown",
   "metadata": {},
   "source": [
    "# Transforming strings"
   ]
  },
  {
   "cell_type": "markdown",
   "metadata": {},
   "source": [
    "- `SELECT UPPER(<column>)` : Make the strings upper-case\n",
    "- `SELECT LOWER(<column>)` : Make the strings lower-case\n",
    "- Operators: add ( `+ `), subtract ( `-` ), divide ( `/` ), multiply( `*`)\n",
    "- `SELECT EXTRACT(<part> FROM <date_column>)` : Extract specific field (day, month etc) from date column\n",
    "- See slides for examples"
   ]
  },
  {
   "cell_type": "markdown",
   "metadata": {},
   "source": [
    "# `GROUP BY`"
   ]
  },
  {
   "cell_type": "markdown",
   "metadata": {},
   "source": [
    "- Used for aggregating\n",
    "- Used when aggregate functions are used\n",
    "- Non-aggregated columns are tied with this keyword\n",
    "- Common functions: `COUNT()`, `AVG()`, `SUM()` etc\n",
    "- example : `GROUP BY <non_agg_column>`\n",
    "<center><img src=\"images/01.07.jpg\"  style=\"width: 400px, height: 300px;\"/></center>\n",
    "\n"
   ]
  },
  {
   "cell_type": "markdown",
   "metadata": {},
   "source": [
    "# `STRING_AGG`"
   ]
  },
  {
   "cell_type": "markdown",
   "metadata": {},
   "source": [
    "- Used for aggregating string column\n",
    "- Same as aggregate functions\n",
    "- example : `STRING_AGG(<column>, '<separator>')`"
   ]
  }
 ],
 "metadata": {
  "kernelspec": {
   "display_name": "Python 3.8.11 ('env_py')",
   "language": "python",
   "name": "python3"
  },
  "language_info": {
   "name": "python",
   "version": "3.8.11"
  },
  "orig_nbformat": 4,
  "vscode": {
   "interpreter": {
    "hash": "1e949e87132dd83f1a7623eb88007e3532b03b66b77111be347aa4a383049722"
   }
  }
 },
 "nbformat": 4,
 "nbformat_minor": 2
}
