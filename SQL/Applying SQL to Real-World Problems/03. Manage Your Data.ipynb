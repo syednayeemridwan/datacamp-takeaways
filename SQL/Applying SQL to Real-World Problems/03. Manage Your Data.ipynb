{
 "cells": [
  {
   "cell_type": "markdown",
   "metadata": {},
   "source": [
    "# Storing Data"
   ]
  },
  {
   "cell_type": "markdown",
   "metadata": {},
   "source": [
    "Three ways to store your data\n",
    "1. Create a TABLE using new data\n",
    "2. Create a TABLE using existing data\n",
    "3. Create a VIEW using existing data"
   ]
  },
  {
   "cell_type": "markdown",
   "metadata": {},
   "source": [
    "# Create a TABLE using new data"
   ]
  },
  {
   "cell_type": "markdown",
   "metadata": {},
   "source": [
    "1. Create a new table\n",
    "```\n",
    "CREATE TABLE table_name (\n",
    "col1 INT,\n",
    "col2 FLOAT\n",
    ");\n",
    "```\n",
    "\n",
    "2. Insert data into the table\n",
    "```\n",
    "INSERT INTO table_name (col1, col2)\n",
    "VALUES\n",
    "(col1_val1, col2_val1),\n",
    "(col1_val2, col2_val3),\n",
    "(col1_val3, col2_val3);\n",
    "```"
   ]
  },
  {
   "cell_type": "markdown",
   "metadata": {},
   "source": [
    "# Create a TABLE using existing data"
   ]
  },
  {
   "cell_type": "markdown",
   "metadata": {},
   "source": [
    "- Create a table from query result\n",
    "\n",
    "```\n",
    "CREATE TABLE new_table AS\n",
    "SELECT col1, col2\n",
    "FROM table_name;\n",
    "```"
   ]
  },
  {
   "cell_type": "markdown",
   "metadata": {},
   "source": [
    "# Create a VIEW using existing data"
   ]
  },
  {
   "cell_type": "markdown",
   "metadata": {},
   "source": [
    "- Create a view from query result\n",
    "\n",
    "```\n",
    "CREATE VIEW view_name AS\n",
    "SELECT col1, col2\n",
    "FROM table_name;\n",
    "```"
   ]
  },
  {
   "cell_type": "markdown",
   "metadata": {},
   "source": [
    "# Table vs View"
   ]
  },
  {
   "cell_type": "markdown",
   "metadata": {},
   "source": [
    "<center><img src=\"images/03.01.jpg\"  style=\"width: 400px, height: 300px;\"/></center>\n"
   ]
  },
  {
   "cell_type": "markdown",
   "metadata": {},
   "source": [
    "# Update a Table"
   ]
  },
  {
   "cell_type": "markdown",
   "metadata": {},
   "source": [
    "- Ensure you CAN modify the table.\n",
    "- Ensure you know how this table is used and\n",
    "- how your changes will impact those who can use it.\n",
    "- Test a modification with `SELECT`\n",
    "- ALWAYS better to use `subquery` AND `WHERE` when modifying desired result\n",
    "```\n",
    "UPDATE table_name\n",
    "SET column1 = value1, column2 = value2, ...;\n",
    "```\n",
    "<center><img src=\"images/03.05.jpg\"  style=\"width: 400px, height: 300px;\"/></center>\n"
   ]
  },
  {
   "cell_type": "markdown",
   "metadata": {},
   "source": [
    "# Deleting data"
   ]
  },
  {
   "cell_type": "markdown",
   "metadata": {},
   "source": [
    "- Remove a table\n",
    "    - Removes the whole table\n",
    "    - `DROP TABLE table_name;`\n",
    "- Clear table of ALL records\n",
    "    - Removes the whole table's record, however keeps the empty table\n",
    "    - `TRUNCATE TABLE table_name;`\n",
    "    - `DELETE FROM table_name;`\n",
    "- Clear table of SOME records\n",
    "    - Delete records that meet the condition\n",
    "    - `DELETE FROM table_name WHERE condition;`\n",
    "\n",
    "- Ensure you CAN DELETE the table.\n",
    "- Ensure you know how this table is used and\n",
    "- how your DELETION will impact those who can use it.\n",
    "- Test a DELETION with `SELECT`\n",
    "- ALWAYS better to use `subquery` AND `WHERE` before DELETING desired result"
   ]
  }
 ],
 "metadata": {
  "kernelspec": {
   "display_name": "Python 3.8.11 ('env_py')",
   "language": "python",
   "name": "python3"
  },
  "language_info": {
   "name": "python",
   "version": "3.8.11"
  },
  "orig_nbformat": 4,
  "vscode": {
   "interpreter": {
    "hash": "1e949e87132dd83f1a7623eb88007e3532b03b66b77111be347aa4a383049722"
   }
  }
 },
 "nbformat": 4,
 "nbformat_minor": 2
}
