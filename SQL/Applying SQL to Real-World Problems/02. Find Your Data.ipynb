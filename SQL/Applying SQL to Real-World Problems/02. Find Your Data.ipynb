{
 "cells": [
  {
   "cell_type": "markdown",
   "metadata": {},
   "source": [
    "# What table should I use?"
   ]
  },
  {
   "cell_type": "markdown",
   "metadata": {},
   "source": [
    "- What columns are in your tables?\n",
    "    - See column names with `SELECT * FROM table_name`\n",
    "- What is the content in these columns?\n",
    "    - See sample contents with `SELECT * FROM table_name LIMIT 5`\n"
   ]
  },
  {
   "cell_type": "markdown",
   "metadata": {},
   "source": [
    "# What tables are in my database?"
   ]
  },
  {
   "cell_type": "markdown",
   "metadata": {},
   "source": [
    "- See available database information from system table\n",
    "    - PostgreSQL: `SELECT * FROM pg_catalog.pg_tables;`\n",
    "    - SQL Server - TSQL: `SELECT * FROM INFORMATION_SCHEMA.TABLES;`\n",
    "    - MySQL: `SHOW TABLES;`"
   ]
  },
  {
   "cell_type": "markdown",
   "metadata": {},
   "source": [
    "# All tables & columns"
   ]
  },
  {
   "cell_type": "markdown",
   "metadata": {},
   "source": [
    "- `SELECT * FROM information_schema.columns;`\n",
    "    - Works in all 3 major DBMS\n",
    "- Use along with `STRING_AGG()` for easier investigation and store the result as view\n",
    "- Example:\n",
    "```\n",
    "SELECT table_name, STRING_AGG(column_name, ', ') AS columns\n",
    "FROM information_schema.columns\n",
    "WHERE table_schema = 'public'\n",
    "GROUP BY table_name;\n",
    "```\n"
   ]
  },
  {
   "cell_type": "markdown",
   "metadata": {},
   "source": [
    "# VIEW"
   ]
  },
  {
   "cell_type": "markdown",
   "metadata": {},
   "source": [
    "- a virtual table.\n",
    "- created with `CREATE VIEW name_of_view AS <query>`"
   ]
  },
  {
   "cell_type": "markdown",
   "metadata": {},
   "source": [
    "# Connecting Data"
   ]
  },
  {
   "cell_type": "markdown",
   "metadata": {},
   "source": [
    "- Sometimes you need to join multiple tables to get desired result\n",
    "- Look for end-result tables\n",
    "- Then look for necessary tables that can help you join the end-tables\n",
    "- Join other required tables in that case\n",
    "- Look at ERD for shortcuts\n",
    "\n",
    "<center><img src=\"images/02.10.jpg\"  style=\"width: 400px, height: 300px;\"/></center>\n",
    "<center><img src=\"images/02.11.jpg\"  style=\"width: 400px, height: 300px;\"/></center>\n"
   ]
  }
 ],
 "metadata": {
  "kernelspec": {
   "display_name": "Python 3.8.11 ('env_py')",
   "language": "python",
   "name": "python3"
  },
  "language_info": {
   "name": "python",
   "version": "3.8.11"
  },
  "orig_nbformat": 4,
  "vscode": {
   "interpreter": {
    "hash": "1e949e87132dd83f1a7623eb88007e3532b03b66b77111be347aa4a383049722"
   }
  }
 },
 "nbformat": 4,
 "nbformat_minor": 2
}
