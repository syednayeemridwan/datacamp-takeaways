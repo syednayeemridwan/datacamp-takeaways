{
 "cells": [
  {
   "cell_type": "markdown",
   "metadata": {},
   "source": [
    "# Best practices"
   ]
  },
  {
   "cell_type": "markdown",
   "metadata": {},
   "source": [
    "- Convey your intent clearly\n",
    "    - Always use `AS` keyword for aliasing with meaningful aliases\n",
    "    - Always specify what type of `JOIN` you are using instead of ommitting `INNER` keyword\n",
    "    - Use comments when the approach can't be conveyed with just the code.\n",
    "- Use comments:\n",
    "    - Single line : `-- single line comment`\n",
    "    - Multi line : `/* multi line comments*/`\n",
    "- Capitalize SQL commands like `SELECT` , `FROM` etc\n",
    "- Leave rest of the codes in lowercase\n",
    "- Use new lines & indentation\n",
    "- Use snake_case for long names : `expensive_long_title,` instead of `expensivelongtitle`\n",
    "- USE `IN` instead of many `OR` statements\n",
    "- Use `BETWEEN` when possible : `replacement_cost BETWEEN 15 AND 25;`\n",
    "- See examples in slides"
   ]
  },
  {
   "cell_type": "markdown",
   "metadata": {},
   "source": [
    "# Avoid Common Mistakes"
   ]
  },
  {
   "cell_type": "markdown",
   "metadata": {},
   "source": [
    "- Do not Write an essay in your comments.\n",
    "- Do not Make comments redundant with code.\n",
    "- Do Not Leave old comments in finished code\n",
    "- Don't `SELECT` everything\n",
    "- Don't use SQL for programming"
   ]
  }
 ],
 "metadata": {
  "kernelspec": {
   "display_name": "Python 3.8.11 ('env_py')",
   "language": "python",
   "name": "python3"
  },
  "language_info": {
   "name": "python",
   "version": "3.8.11"
  },
  "orig_nbformat": 4,
  "vscode": {
   "interpreter": {
    "hash": "1e949e87132dd83f1a7623eb88007e3532b03b66b77111be347aa4a383049722"
   }
  }
 },
 "nbformat": 4,
 "nbformat_minor": 2
}
