{
 "cells": [
  {
   "cell_type": "markdown",
   "metadata": {},
   "source": [
    "# Investigate Missing Values"
   ]
  },
  {
   "cell_type": "markdown",
   "metadata": {},
   "source": [
    "1. Filter with `WHERE col IS NOT NULL`\n",
    "2. Filter with `WHERE col <> ''`\n",
    "3. Replace missing values with: `ISNULL ( col , 'MISSING' )`\n",
    "4. Take the first non-null value from sequence : `COALESCE(col1, col2, 'MISSING')`\n",
    "\n",
    "- Depending on the business:\n",
    "    - Leave as it is\n",
    "    - Remove rows with missing values\n",
    "    - Fill with other value (text, average, etc.)"
   ]
  },
  {
   "cell_type": "markdown",
   "metadata": {},
   "source": [
    "# Removing Duplicate rows"
   ]
  },
  {
   "cell_type": "markdown",
   "metadata": {},
   "source": [
    "- With `ROW_NUMBER()` window function\n",
    "- Produces different row number for same combination of columns in `PARTITION BY`\n",
    "- Filter Conditions:\n",
    "    - Get duplicate rows: `row_num > 1`\n",
    "    - Exclude duplicate rows: `row_num = 1`\n",
    "```\n",
    "SELECT * , ROW_NUMBER() OVER (PARTITION BY col1, col2, col3\n",
    "ORDER BY col1, col2, col3 ) AS row_num\n",
    "FROM some_table\n",
    "```"
   ]
  },
  {
   "cell_type": "markdown",
   "metadata": {},
   "source": [
    "# Functions to modify the date formats"
   ]
  },
  {
   "cell_type": "markdown",
   "metadata": {},
   "source": [
    "- `CONVERT`\n",
    "- `FORMAT`\n",
    "    - More flexible\n",
    "    - Less efficient\n",
    "    - Not recommended\n",
    "- SEE EXAMPLES IN SLIDES"
   ]
  }
 ],
 "metadata": {
  "kernelspec": {
   "display_name": "Python 3.8.11 ('env_py')",
   "language": "python",
   "name": "python3"
  },
  "language_info": {
   "name": "python",
   "version": "3.8.11"
  },
  "orig_nbformat": 4,
  "vscode": {
   "interpreter": {
    "hash": "1e949e87132dd83f1a7623eb88007e3532b03b66b77111be347aa4a383049722"
   }
  }
 },
 "nbformat": 4,
 "nbformat_minor": 2
}
