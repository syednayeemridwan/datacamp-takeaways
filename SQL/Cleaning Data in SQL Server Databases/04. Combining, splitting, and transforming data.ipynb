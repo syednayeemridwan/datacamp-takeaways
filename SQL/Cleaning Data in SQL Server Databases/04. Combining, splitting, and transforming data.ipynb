{
 "cells": [
  {
   "cell_type": "markdown",
   "metadata": {},
   "source": [
    "# Concatenating Strings"
   ]
  },
  {
   "cell_type": "markdown",
   "metadata": {},
   "source": [
    "- `CONCAT()`\n",
    "    - `SELECT CONCAT(col1,' ', col2) FROM some_table`\n",
    "- `+` operator\n",
    "    - `SELECT col1 + ' ' + col2 FROM some_table`"
   ]
  },
  {
   "cell_type": "markdown",
   "metadata": {},
   "source": [
    "# Combining dates"
   ]
  },
  {
   "cell_type": "markdown",
   "metadata": {},
   "source": [
    "- `DATEFROMPARTS()`\n",
    "    - `SELECT DATEFROMPARTS( year_col, month_col, day_col) FROM some_table`"
   ]
  },
  {
   "cell_type": "markdown",
   "metadata": {},
   "source": [
    "# String Functions"
   ]
  },
  {
   "cell_type": "markdown",
   "metadata": {},
   "source": [
    "- `SUBSTRING` :\n",
    "    - takes substring from a string\n",
    "    - `SELECT SUBSTRING(col,start_pos,LEN(col3)) FROM some_table`\n",
    "- `CHARINDEX` :\n",
    "    - Returns the index of a charcter in a string\n",
    "    - `SELECT CHARINDEX('A',col) FROM some_table`\n",
    "- `LEFT(col, number_of_chars)`  : Creates a string from left characters in a given string\n",
    "- `RIGHT(col, number_of_chars) `: Creates a string from right characters in a given string\n",
    "- `REVERSE(col)` : Creates a string in reverse characters in a given string"
   ]
  },
  {
   "cell_type": "markdown",
   "metadata": {},
   "source": [
    "# PIVOTing"
   ]
  },
  {
   "cell_type": "markdown",
   "metadata": {},
   "source": [
    "- Allow to group data based of a specific set of columns\n",
    "- Compute statistics of other columns\n",
    "- `PIVOT` : \n",
    "    - turns the unique values from one column into multiple columns.\n",
    "    - From long table to wide table\n",
    "    - Resulting table has more columns\n",
    "    - Aggregation of a numeric column on a table\n",
    "    - example:\n",
    "    ```\n",
    "    SELECT col_keep, cat_1, cat_2, cat_3\n",
    "    FROM \n",
    "    (SELECT col_keep, cat_col, num_col FROM original_table) AS temp_table\n",
    "    PIVOT (SUM(num_col) FOR cat_col IN (cat_1, cat_2, cat_3)) AS pivotted_table\n",
    "    ```\n",
    "- `UNPIVOT` : \n",
    "    - Turns columns into rows.\n",
    "    - From wide table to long table\n",
    "    - Resulting table has more rows\n",
    "    - De-ggregation of a numeric column on a table\n",
    "    - Not actually opposite to `PIVOT`\n",
    "    - Will not produce the original table again if unpivotted on pivotted table.\n",
    "        - `Original table + PIVOT = pivotted table`\n",
    "        - But, `pivotted table + UNPIVOT <> Original table `\n",
    "    - example:\n",
    "    ```\n",
    "    SELECT * FROM pivotted_table \n",
    "    UNPIVOT (num_col FOR cat_col IN (cat_1, cat_2, cat_3) ) AS unpivotted_table\n",
    "    ```\n",
    "- Overall formula:\n",
    "    ```\n",
    "    SELECT * FROM some_table \n",
    "        PIVOT_UNPIVOT (num_col FOR cat_col IN (cat_1, cat_2, cat_3) ) \n",
    "    ```"
   ]
  }
 ],
 "metadata": {
  "kernelspec": {
   "display_name": "Python 3.8.11 ('env_py')",
   "language": "python",
   "name": "python3"
  },
  "language_info": {
   "name": "python",
   "version": "3.8.11"
  },
  "orig_nbformat": 4,
  "vscode": {
   "interpreter": {
    "hash": "1e949e87132dd83f1a7623eb88007e3532b03b66b77111be347aa4a383049722"
   }
  }
 },
 "nbformat": 4,
 "nbformat_minor": 2
}
