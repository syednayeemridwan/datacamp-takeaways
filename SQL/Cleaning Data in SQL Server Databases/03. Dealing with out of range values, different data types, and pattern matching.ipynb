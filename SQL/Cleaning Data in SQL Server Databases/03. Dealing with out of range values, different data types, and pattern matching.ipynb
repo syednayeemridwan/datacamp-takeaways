{
 "cells": [
  {
   "cell_type": "markdown",
   "metadata": {},
   "source": [
    "# Out of range values"
   ]
  },
  {
   "cell_type": "markdown",
   "metadata": {},
   "source": [
    "- Outliers\n",
    "- Filtered With : `BETWEEN val1 AND val2` (Inclusive)\n",
    "- Filtered with : `col> val1 AND col< val2` (Exclusive)\n",
    "- Make sure that it is in desirable data-type with `CAST` or `CONVERT`\n",
    "    - `CAST(col AS type)`\n",
    "    - `CONVERT(type, col)`"
   ]
  },
  {
   "cell_type": "markdown",
   "metadata": {},
   "source": [
    "# Inaccurate Data"
   ]
  },
  {
   "cell_type": "markdown",
   "metadata": {},
   "source": [
    "- SEE SLIDES FOR EXAMPLES"
   ]
  },
  {
   "cell_type": "markdown",
   "metadata": {},
   "source": [
    "# Pattern matching"
   ]
  },
  {
   "cell_type": "markdown",
   "metadata": {},
   "source": [
    "- `LIKE`\n",
    "- `ILIKE`\n",
    "- example: `SELECT * FROM some_table WHERE col NOT LIKE '555%'`\n",
    "<center><img src=\"images/03.09.jpg\"  style=\"width: 400px, height: 300px;\"/></center>\n"
   ]
  }
 ],
 "metadata": {
  "kernelspec": {
   "display_name": "Python 3.8.11 ('env_py')",
   "language": "python",
   "name": "python3"
  },
  "language_info": {
   "name": "python",
   "version": "3.8.11"
  },
  "orig_nbformat": 4,
  "vscode": {
   "interpreter": {
    "hash": "1e949e87132dd83f1a7623eb88007e3532b03b66b77111be347aa4a383049722"
   }
  }
 },
 "nbformat": 4,
 "nbformat_minor": 2
}
