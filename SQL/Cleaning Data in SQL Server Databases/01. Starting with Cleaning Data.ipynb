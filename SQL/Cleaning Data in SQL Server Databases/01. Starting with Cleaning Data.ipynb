{
 "cells": [
  {
   "cell_type": "markdown",
   "metadata": {},
   "source": [
    "# Useful Functions"
   ]
  },
  {
   "cell_type": "markdown",
   "metadata": {},
   "source": [
    "- `LEN(col)` : Find length of a string\n",
    "- `CONCAT(col1,col2)` : Concatenates multiple strings together\n",
    "- `REPLICATE(col, 3)` : Repeats a string a specified number of times.\n",
    "- `REPLACE(col, 'old text','new text')` : Replace specific characters in a string\n",
    "- `UPPER(col)` : Turns a string into upper case\n",
    "- `LOWER(col)` : Turns a string into lower case\n",
    "- `TRIM()` : Remove leading and trailing characters (spaces is default character)\n",
    "- `LTRIM()` : Remove leading and trailing characters from left (space is default character)\n",
    "- `RTRIM()` : Remove leading and trailing characters from right (space is default character)\n",
    "- `CAST(col AS type)` : Converting one type to another data type\n",
    "- `FORMAT(col, '000000000')` : Formatting value representation\n",
    "- example: Filling numbers with leading zeros\n",
    "    - `SELECT CONCAT(REPLICATE('0',9-LEN(col1)), col1) AS padded_col FROM some_table`"
   ]
  },
  {
   "cell_type": "markdown",
   "metadata": {},
   "source": [
    "# Comparing the similarity between strings"
   ]
  },
  {
   "cell_type": "markdown",
   "metadata": {},
   "source": [
    "- `SOUNDEX(col)` :\n",
    "    - Phonetic algorithm (Based on pronounciation)\n",
    "    - Returns four-character code (Returns same code if they sound similar)\n",
    "    - Based on English language, but also works with many words in other languages\n",
    "- `DIFFERENCE(val1, val2)` :\n",
    "    - Compares two `SOUNDEX` values\n",
    "    - Returns a value from 0 to 4\n",
    "        - 0 = No similarity\n",
    "        - 4 = identical match"
   ]
  }
 ],
 "metadata": {
  "kernelspec": {
   "display_name": "Python 3.8.11 ('env_py')",
   "language": "python",
   "name": "python3"
  },
  "language_info": {
   "name": "python",
   "version": "3.8.11"
  },
  "orig_nbformat": 4,
  "vscode": {
   "interpreter": {
    "hash": "1e949e87132dd83f1a7623eb88007e3532b03b66b77111be347aa4a383049722"
   }
  }
 },
 "nbformat": 4,
 "nbformat_minor": 2
}
