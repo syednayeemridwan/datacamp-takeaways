{
 "cells": [
  {
   "cell_type": "markdown",
   "metadata": {},
   "source": [
    "# User defined functions (UDFs)"
   ]
  },
  {
   "cell_type": "markdown",
   "metadata": {},
   "source": [
    "- Routines\n",
    "- Can accept input parameters\n",
    "- Perform an action\n",
    "- Return result (single scalar value or table)\n",
    "- Can reduce execution time (because it is pre-compiled)\n",
    "- Can reduce network traffic\n",
    "- Allow for Modular Programming\n",
    "    - Software design technique\n",
    "    - Separates functionality into independent, interchangeable modules\n",
    "    - Allows code reuse\n",
    "    - Improves code readability\n",
    "- Creating UDF : (Returns scalar)\n",
    "    ```\n",
    "    CREATE FUNCTION Func_name (@var1 datatype1, @var2 datatype2,...) \n",
    "    RETURNS return_datatype <WITH SCHEMABINDING> AS \n",
    "    BEGIN RETURN (\n",
    "        ....query with variables....\n",
    "    ) END;\n",
    "    ```\n",
    "- Table Valued UDFs\n",
    "    1. Inline (ITVF)\n",
    "    2. Multi statement (MSTVF)\n",
    "- Inline table valued functions (ITVF) = (put Query after `RETURN`)\n",
    "    ```\n",
    "    CREATE FUNCTION Func_name (@var1 datatype1, @var2 datatype2,...) \n",
    "    RETURNS TABLE <WITH SCHEMABINDING> AS \n",
    "    <BEGIN> RETURN\n",
    "        ....query with variables....\n",
    "    <END>    ;\n",
    "    ```\n",
    "- Multi statement table valued functions (MSTVF) = (put `INSERT` before `RETURN`)\n",
    "    ```\n",
    "    CREATE FUNCTION Func_name (@var1 datatype1, @var2 datatype2,...) \n",
    "    RETURNS @table_name TABLE(col1 datatype1, col2 datatype2..) <WITH SCHEMABINDING> AS \n",
    "    BEGIN INSERT INTO @table_name\n",
    "        ...query... RETURN\n",
    "    END;\n",
    "    ```"
   ]
  },
  {
   "cell_type": "markdown",
   "metadata": {},
   "source": [
    "<center><img src=\"images/02.05.jpg\"  style=\"width: 400px, height: 300px;\"/></center>"
   ]
  },
  {
   "cell_type": "markdown",
   "metadata": {},
   "source": [
    "# Executing UDFs"
   ]
  },
  {
   "cell_type": "markdown",
   "metadata": {},
   "source": [
    "- Execute scalar function with no parameters:\n",
    "    - `SELECT schema_name.Func_name()`\n",
    "- Executing function with parametes:\n",
    "    - `SELECT schema_name.Func_name(@some_param)`\n",
    "- Storing the executed function inside scalar variable:\n",
    "    ```\n",
    "    DECLARE @var_name AS numeric\n",
    "    EXEC @var_name = schema_name.Func_name @param_val = 'val'\n",
    "    ```\n",
    "- Storing the executed function inside table variable:\n",
    "    ```\n",
    "    DECLARE @table_name TABLE(col1 datatype1,col2 datatype2)\n",
    "    INSERT INTO @table_name\n",
    "        SELECT ....\n",
    "    ```"
   ]
  },
  {
   "cell_type": "markdown",
   "metadata": {},
   "source": [
    "# Maintaining UDFs"
   ]
  },
  {
   "cell_type": "markdown",
   "metadata": {},
   "source": [
    "- Altering a UDF : \n",
    "    - `ALTER FUNCTION` \n",
    "    - `CREATE OR ALTER` (Recommended)\n",
    "- Deleting UDF : `DROP FUNCTION schema_name.func_name`\n",
    "- You can create Inline TVF instead of MSTVF (`ALTER` cannot be used here)\n",
    "- A function is deterministic when it returns the same result given\n",
    "    - the same input parameters \n",
    "    - the same database state (No change since last execution)\n",
    "    - improves performance\n",
    "- `<WITH SCHEMABINDING>`\n",
    "    - Protection against changes\n",
    "    - Specifies the schema attributes (table, column) the function is referencing\n",
    "    - Prevents changes to the schema referenced attributes in the database\n",
    "    - Helps to keep the state of the database consistent with function's given result\n",
    "    - Changing database :\n",
    "        - Remove this keyword if you want to modify something. \n",
    "        - then again use this keywords after making modifications."
   ]
  }
 ],
 "metadata": {
  "kernelspec": {
   "display_name": "Python 3.8.11 ('env_py')",
   "language": "python",
   "name": "python3"
  },
  "language_info": {
   "name": "python",
   "version": "3.8.11"
  },
  "orig_nbformat": 4,
  "vscode": {
   "interpreter": {
    "hash": "1e949e87132dd83f1a7623eb88007e3532b03b66b77111be347aa4a383049722"
   }
  }
 },
 "nbformat": 4,
 "nbformat_minor": 2
}
