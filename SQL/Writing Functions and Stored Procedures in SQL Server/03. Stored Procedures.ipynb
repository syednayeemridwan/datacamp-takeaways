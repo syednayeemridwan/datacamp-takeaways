{
 "cells": [
  {
   "cell_type": "markdown",
   "metadata": {},
   "source": [
    "# Stored procedures "
   ]
  },
  {
   "cell_type": "markdown",
   "metadata": {},
   "source": [
    "- Routines\n",
    "- Accept input parameters\n",
    "- Perform actions ( EXECUTE SELECT , INSERT , UPDATE , DELETE , and other SP statements)\n",
    "- Return status (success or failure)\n",
    "- Return output parameters\n",
    "- Can reduce execution time (pre-compiled)\n",
    "- Can reduce network traffic (Sometimes does not need to go through query optimizer)\n",
    "- Allow for Modular Programming\n",
    "- Decouples SQL code from other application layers\n",
    "- Improved Security\n",
    "- must be unique including UDFs\n",
    "<center><img src=\"images/03.01.jpg\"  style=\"width: 400px, height: 300px;\"/></center>\n"
   ]
  },
  {
   "cell_type": "markdown",
   "metadata": {},
   "source": [
    "# Creating SP"
   ]
  },
  {
   "cell_type": "markdown",
   "metadata": {},
   "source": [
    "```\n",
    "CREATE PROCEDURE schema_name.procedure_name (\n",
    "    @input_param datatype1,\n",
    "    @output_param datatype2 OUTPUT)\n",
    "AS <SET NOCOUNT ON>\n",
    "BEGIN\n",
    "    SELECT @output_param = ....\n",
    "    ...query....\n",
    "RETURN END;\n",
    "```\n",
    "<center><img src=\"images/03.02.jpg\"  style=\"width: 400px, height: 300px;\"/></center>\n",
    "\n"
   ]
  },
  {
   "cell_type": "markdown",
   "metadata": {},
   "source": [
    "# CRUD SP"
   ]
  },
  {
   "cell_type": "markdown",
   "metadata": {},
   "source": [
    "- Create:\n",
    "    ```\n",
    "    CREATE PROCEDURE schema_name.procedure_name (\n",
    "    @input_param1 datatype1,\n",
    "    @input_param2 datatype2)\n",
    "    AS <SET NOCOUNT ON>\n",
    "    BEGIN\n",
    "        INSERT INTO schema_name.table_name(col1, col2) VALUES (@input_param1, @input_param2)\n",
    "    RETURN END;\n",
    "    ```\n",
    "- Read:\n",
    "    ```\n",
    "    CREATE PROCEDURE schema_name.procedure_name (\n",
    "        @input_param1 datatype1,\n",
    "        @input_param2 datatype2)\n",
    "    AS <SET NOCOUNT ON>\n",
    "    BEGIN\n",
    "        SELECT ... query....\n",
    "    END;\n",
    "    ```\n",
    "- Update:\n",
    "    ```\n",
    "    CREATE PROCEDURE schema_name.procedure_name (\n",
    "        @input_param1 datatype1,\n",
    "        @input_param2 datatype2)\n",
    "    AS <SET NOCOUNT ON>\n",
    "    BEGIN\n",
    "        UPDATE schema_name.table_name SET  col1=@input_param1, col2=@input_param2\n",
    "    END;\n",
    "    ```\n",
    "- Delete:\n",
    "    ```\n",
    "    CREATE PROCEDURE schema_name.procedure_name (\n",
    "        @input_param datatype1,\n",
    "        @output_param datatype2 OUTPUT)\n",
    "    AS <SET NOCOUNT ON>\n",
    "    BEGIN\n",
    "        DELETE FROM schema_name.table_name WHERE col1=@input_param1\n",
    "        SET @output_param = @@ROWCOUNT\n",
    "    END;\n",
    "    ```"
   ]
  },
  {
   "cell_type": "markdown",
   "metadata": {},
   "source": [
    "# Executing SP"
   ]
  },
  {
   "cell_type": "markdown",
   "metadata": {},
   "source": [
    "- Executing SP with no Output parameter and return value:\n",
    "    ```\n",
    "    EXEC schema_name.procedure_name\n",
    "        @input_param1 = 'val1'\n",
    "        @input_param2 = 'val2'\n",
    "    ```\n",
    "- Executing SP with Output parameter:\n",
    "    ```\n",
    "    DECLARE @output_param_var AS data_type\n",
    "\n",
    "    EXEC schema_name.procedure_name\n",
    "        @input_param = 'val1',\n",
    "        @output_param = @output_param_var OUTPUT\n",
    "\n",
    "    SELECT @output_param_var AS OutputParamVal\n",
    "    ```\n",
    "- Executing SP with return value:\n",
    "    ```\n",
    "    Declare @return_val AS data_type\n",
    "\n",
    "    EXEC @return_val = \n",
    "        schema_name.procedure_name\n",
    "        @input_param1 = 'val1'\n",
    "        @input_param2 = 'val2'\n",
    "\n",
    "    Select @return_val as ReturnValue\n",
    "    ```\n",
    "- Executing SP With return value & output parameter\n",
    "    ```\n",
    "    Declare @return_val as int\n",
    "    Declare @output_param_var as int\n",
    "    \n",
    "    EXEC @return_val =\n",
    "        schema_name.procedure_name\n",
    "        @input_param = 'val1',\n",
    "        @output_param = @output_param_var OUTPUT\n",
    "    \n",
    "    Select @return_val as ReturnValue, @output_param_var as OutputParamVal\n",
    "    ```\n",
    "- Execute and store result set inside a table variable :\n",
    "```\n",
    "DECLARE @some_table as TABLE(col1 datatype1, col2 datatype2)\n",
    "\n",
    "INSERT INTO @some_table\n",
    "EXEC schema_name.procedure_name \n",
    "    @input_param1 = 'val1'\n",
    "\n",
    "SELECT * FROM @some_table\n",
    "```"
   ]
  },
  {
   "cell_type": "markdown",
   "metadata": {},
   "source": [
    "# TRY..CATCH"
   ]
  },
  {
   "cell_type": "markdown",
   "metadata": {},
   "source": [
    "- Handle Error with `TRY..CATCH` along with SP\n",
    "    ```\n",
    "    CREATE OR ALTER PROCEDURE schema_name.procedure_name(\n",
    "        @input_param1 datatype1,\n",
    "        @input_param2 datatype2,\n",
    "        @output_param datatype3 = null OUTPUT)\n",
    "    AS <SET NOCOUNT ON>\n",
    "    BEGIN\n",
    "        BEGIN TRY\n",
    "            ...query....\n",
    "        END TRY\n",
    "        BEGIN CATCH\n",
    "            SET @output_param = CAST (ERROR_NUMBER() AS varchar) +  CAST(ERROR_SEVERITY() AS varchar) + ERROR_MESSAGE()\n",
    "        END CATCH    \n",
    "    RETURN END;\n",
    "    ```\n",
    "\n",
    "- Execute SP with `TRY..CATCH`\n",
    "    ```\n",
    "    DECLARE @ErrorMsgOut as nvarchar(max)\n",
    "    \n",
    "    EXECUTE schema_name.procedure_name\n",
    "    @input_param1 = 'val1',\n",
    "    @input_param2 = 'val2',\n",
    "    @output_param = @ErrorMsgOUT OUTPUT\n",
    "    SELECT @ErrorMsgOut as ErrorMessage\n",
    "    ```\n"
   ]
  },
  {
   "cell_type": "markdown",
   "metadata": {},
   "source": [
    "<center><img src=\"images/03.12.jpg\"  style=\"width: 400px, height: 300px;\"/></center>\n"
   ]
  }
 ],
 "metadata": {
  "kernelspec": {
   "display_name": "Python 3.8.11 ('env_py')",
   "language": "python",
   "name": "python3"
  },
  "language_info": {
   "name": "python",
   "version": "3.8.11"
  },
  "orig_nbformat": 4,
  "vscode": {
   "interpreter": {
    "hash": "1e949e87132dd83f1a7623eb88007e3532b03b66b77111be347aa4a383049722"
   }
  }
 },
 "nbformat": 4,
 "nbformat_minor": 2
}
