{
 "cells": [
  {
   "cell_type": "markdown",
   "metadata": {},
   "source": [
    "# Exploratory Data Analysis (EDA) Process\n"
   ]
  },
  {
   "cell_type": "markdown",
   "metadata": {},
   "source": [
    "- Iterative\n",
    "- No specific checklist for EDA questions\n",
    "- Get curious!\n",
    "- Reduces re-work effort"
   ]
  },
  {
   "cell_type": "markdown",
   "metadata": {},
   "source": [
    "# Useful Functions"
   ]
  },
  {
   "cell_type": "markdown",
   "metadata": {},
   "source": [
    "- `CONVERT`\n",
    "    - converts from one data-type to another\n",
    "- `CAST`\n",
    "    - converts from one data-type to another\n",
    "- `GETDATE`\n",
    "    - get current date\n",
    "- `DATEADD`\n",
    "    - returns an date data-type\n",
    "    - adding or subtracting dates\n",
    "- `DATEDIFF`\n",
    "    - returns an integer\n",
    "    - difference between dates in duration interval\n",
    "- `DATEPART`\n",
    "    - returns an integer\n",
    "    - part of a date\n",
    "- `DATENAME`\n",
    "    - returns an nvarchar data-type\n",
    "    - name of date\n",
    "\n",
    "- See slides for examples"
   ]
  },
  {
   "cell_type": "markdown",
   "metadata": {},
   "source": [
    "# Declaring Variables and Setting Values"
   ]
  },
  {
   "cell_type": "markdown",
   "metadata": {},
   "source": [
    "- Declaring and setting value:\n",
    "    - `DECLARE @some_var as time = '08:00 AM'`\n",
    "- `DECLARE` variable first  and then setting value later\n",
    "    1. `DECLARE @some_var AS time`\n",
    "    2. `SET @some_var = '08:00 AM'`\n",
    "- `DECLARE` variable then SET value from query\n",
    "    1. `DECLARE @some_var as date`\n",
    "    2. `SET @some_var = (SELECT TOP 1 col FROM some_table);`\n",
    "- Calculating values and store them inside variable:\n",
    "    1. `DECLARE @some_var as datetime`\n",
    "    2. `SET @some_var = CAST(@var1 as datetime) + CAST(@var2 as datetime)`\n",
    "- `DECLARE` table variable and insert rows (NOT RECOMMENDED for more than 100 rows)\n",
    "    1. `DECLARE @some_table TABLE( col1 date,col2 date)`\n",
    "    2. `INSERT INTO @some_table (col1, col2) SELECT colA, colB FROM some_other_table`"
   ]
  }
 ],
 "metadata": {
  "kernelspec": {
   "display_name": "Python 3.8.11 ('env_py')",
   "language": "python",
   "name": "python3"
  },
  "language_info": {
   "name": "python",
   "version": "3.8.11"
  },
  "orig_nbformat": 4,
  "vscode": {
   "interpreter": {
    "hash": "1e949e87132dd83f1a7623eb88007e3532b03b66b77111be347aa4a383049722"
   }
  }
 },
 "nbformat": 4,
 "nbformat_minor": 2
}
