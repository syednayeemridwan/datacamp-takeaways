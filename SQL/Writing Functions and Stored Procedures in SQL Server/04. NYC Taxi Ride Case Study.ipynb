{
 "cells": [
  {
   "cell_type": "markdown",
   "metadata": {},
   "source": [
    "# Another way of Aliasing"
   ]
  },
  {
   "cell_type": "markdown",
   "metadata": {},
   "source": [
    "```\n",
    "SELECT\n",
    "col,\n",
    "\"new_col\" = CASE WHEN col > 0 THEN col\n",
    "                ELSE schema_name.func_name() \n",
    "            END\n",
    "FROM some_table;\n",
    "```"
   ]
  },
  {
   "cell_type": "markdown",
   "metadata": {},
   "source": [
    "# Mean imputation"
   ]
  },
  {
   "cell_type": "markdown",
   "metadata": {},
   "source": [
    "- Replace missing value with mean\n",
    "- Doesn't change the mean value\n",
    "- Increases correlations with other columns\n",
    "- Example:\n",
    "```\n",
    "DECLARE @avg_val AS FLOAT\n",
    "\n",
    "SELECT @avg_val = AVG(col) FROM some_table\n",
    "\n",
    "UPDATE some_table SET col = @avg_val\n",
    "```"
   ]
  },
  {
   "cell_type": "markdown",
   "metadata": {},
   "source": [
    "# Hot Deck imputation"
   ]
  },
  {
   "cell_type": "markdown",
   "metadata": {},
   "source": [
    "- Missing value set to randomly selected value\n",
    "- `TABLESAMPLE` clause of `FROM` clause\n",
    "- Example:\n",
    "```\n",
    "SELECT TOP 1 col FROM some_table\n",
    "    TABLESAMPLE (1000 rows)\n",
    "\n",
    "UPDATE some_table SET col = @avg_val\n",
    "```"
   ]
  },
  {
   "cell_type": "markdown",
   "metadata": {},
   "source": [
    "# Executing UDF on a table"
   ]
  },
  {
   "cell_type": "markdown",
   "metadata": {},
   "source": [
    "```\n",
    "SELECT \n",
    "    col1,\n",
    "    schema_name.func_name1 (col1) as 'Func1_col',\n",
    "    col2,\n",
    "    schema_name.func_name2 (col2) as 'Func2_col',\n",
    "FROM schema_name.table_name\n",
    "```"
   ]
  },
  {
   "cell_type": "markdown",
   "metadata": {},
   "source": [
    "# Customized Sorting"
   ]
  },
  {
   "cell_type": "markdown",
   "metadata": {},
   "source": [
    "- Use `CASE` statement after `ORDER BY` with numeric values\n",
    "- example:\n",
    "    ```\n",
    "    SELECT DATENAME(weekday, StartDate) as 'DayOfWeek',\n",
    "    SUM(Duration) as TotalDuration\n",
    "    FROM CapitalBikeShare\n",
    "    GROUP BY DATENAME(WEEKDAY, StartDate)\n",
    "    ORDER BY\n",
    "        CASE WHEN Datename(WEEKDAY, StartDate) = 'Sunday' THEN 1\n",
    "        WHEN Datename(WEEKDAY, StartDate) = 'Monday' THEN 2\n",
    "        WHEN Datename(WEEKDAY, StartDate) = 'Tuesday' THEN 3\n",
    "        WHEN Datename(WEEKDAY, StartDate) = 'Wednesday' THEN 4\n",
    "        WHEN Datename(WEEKDAY, StartDate) = 'Thursday' THEN 5\n",
    "        WHEN Datename(WEEKDAY, StartDate) = 'Friday' THEN 6\n",
    "        WHEN Datename(WEEKDAY, StartDate) = 'Saturday' THEN 7\n",
    "        END ASC;\n",
    "    ```\n",
    "- Use `FORMAT` \n",
    "- example:\n",
    "    ```\n",
    "    SELECT TOP 5 FORMAT(CAST(StartDate as Date), 'd', 'de-de') AS 'German Date',\n",
    "    FORMAT(CAST(StartDate as Date), 'd', 'en-us') AS 'US Eng Date',\n",
    "    FORMAT(Sum(Duration), 'n', 'de-de') AS 'German Duration',\n",
    "    FORMAT(SUM(Duration), 'n', 'en-us') AS 'US Eng Duration',\n",
    "    FORMAT(SUM(Duration),'#,0.00') AS 'Custom Numeric'\n",
    "    FROM CapitalBikeShare\n",
    "    GROUP BY CAST(StartDate as Date)\n",
    "    ```"
   ]
  },
  {
   "cell_type": "markdown",
   "metadata": {},
   "source": [
    "# SPs with Best Practices"
   ]
  },
  {
   "cell_type": "markdown",
   "metadata": {},
   "source": [
    "```\n",
    "DROP PROCEDURE IF EXISTS schema_name.procedure_name\n",
    "GO\n",
    "CREATE OR ALTER PROCEDURE schema_name.procedure_name\n",
    ".......\n",
    "```"
   ]
  }
 ],
 "metadata": {
  "kernelspec": {
   "display_name": "Python 3.8.11 ('env_py')",
   "language": "python",
   "name": "python3"
  },
  "language_info": {
   "name": "python",
   "version": "3.8.11"
  },
  "orig_nbformat": 4,
  "vscode": {
   "interpreter": {
    "hash": "1e949e87132dd83f1a7623eb88007e3532b03b66b77111be347aa4a383049722"
   }
  }
 },
 "nbformat": 4,
 "nbformat_minor": 2
}
