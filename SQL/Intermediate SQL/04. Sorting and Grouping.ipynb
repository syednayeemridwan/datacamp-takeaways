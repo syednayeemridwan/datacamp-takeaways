{
 "cells": [
  {
   "cell_type": "markdown",
   "metadata": {},
   "source": [
    "# `ORDER BY`"
   ]
  },
  {
   "cell_type": "markdown",
   "metadata": {},
   "source": [
    "- For sorting\n",
    "- by default ascending order\n",
    "- `DESC` make order descending\n",
    "- Comes after `WHERE`\n",
    "- Example:\n",
    "    ```\n",
    "    SELECT col1, col2, col3\n",
    "    FROM best_movies\n",
    "    ORDER BY col1 DESC, col2 DESC;\n",
    "    ```"
   ]
  },
  {
   "cell_type": "markdown",
   "metadata": {},
   "source": [
    "# `GROUP BY`"
   ]
  },
  {
   "cell_type": "markdown",
   "metadata": {},
   "source": [
    "- For grouping data\n",
    "- Aggregating is also grouping\n",
    "- Used with `GROUP BY` clause on a non-aggregated col: `GROUP BY col`\n",
    "- Order of columns after `GROUP BY` clause matters\n",
    "- Comes before `ORDER BY`\n",
    "- example : \n",
    "    ```\n",
    "    SELECT\n",
    "    nonagg_col1, nonagg_col2\n",
    "    COUNT(agg_col) AS count_col\n",
    "    FROM some_table\n",
    "    GROUP BY nonagg_col1, nonagg_col2\n",
    "    ORDER BY nonagg_col1, count_col DESC;\n",
    "    ```\n"
   ]
  },
  {
   "cell_type": "markdown",
   "metadata": {},
   "source": [
    "# Filtering with Aggregation"
   ]
  },
  {
   "cell_type": "markdown",
   "metadata": {},
   "source": [
    "- Never put aggregation inside `WHERE`\n",
    "- Use `HAVING` for aggregation filtering after `WHERE` clause\n",
    "- example:\n",
    "    ```\n",
    "    SELECT\n",
    "    nonagg_col,\n",
    "    COUNT(agg_col) AS col_count\n",
    "    FROM some_table\n",
    "    GROUP BY nonagg_col\n",
    "    HAVING COUNT(agg_col) > 10;\n",
    "    ```"
   ]
  }
 ],
 "metadata": {
  "kernelspec": {
   "display_name": "Python 3.8.11 ('env_py')",
   "language": "python",
   "name": "python3"
  },
  "language_info": {
   "name": "python",
   "version": "3.8.11"
  },
  "orig_nbformat": 4,
  "vscode": {
   "interpreter": {
    "hash": "1e949e87132dd83f1a7623eb88007e3532b03b66b77111be347aa4a383049722"
   }
  }
 },
 "nbformat": 4,
 "nbformat_minor": 2
}
