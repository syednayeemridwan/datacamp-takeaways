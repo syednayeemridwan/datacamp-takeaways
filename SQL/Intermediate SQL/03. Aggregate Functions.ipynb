{
 "cells": [
  {
   "cell_type": "markdown",
   "metadata": {},
   "source": [
    "# Aggregate functions"
   ]
  },
  {
   "cell_type": "markdown",
   "metadata": {},
   "source": [
    "- Used for summarization\n",
    "- Applied on a column\n",
    "- examples\n",
    "    - `AVG()`  : Counts average of a column\n",
    "    - `SUM()`  : Sums average of a column\n",
    "    - `MIN()`  : Gives minimum value of a column\n",
    "    - `MAX()`  : Gives maximum value of a column\n",
    "    - `COUNT()`: gives total non-null entries of a column\n",
    "- Return a single value\n",
    "- Best used with an alias"
   ]
  },
  {
   "cell_type": "markdown",
   "metadata": {},
   "source": [
    "# `ROUND()`"
   ]
  },
  {
   "cell_type": "markdown",
   "metadata": {},
   "source": [
    "- Round a number to a speci\n",
    "- Syntax: `SELECT ROUND(number_to_round, decimal_places)`\n",
    "- `decimal_places` can be positive (rounding fractions) or negative (rounding big numerics)"
   ]
  },
  {
   "cell_type": "markdown",
   "metadata": {},
   "source": [
    "# Arithmetic"
   ]
  },
  {
   "cell_type": "markdown",
   "metadata": {},
   "source": [
    "- Used for calculation of numeric values\n",
    "- Better with parenthesis\n",
    "- Symbols : `+` , `-` , `*` , and `/`\n",
    "- Use a `.` to make a decimal into floating: `(4.0 / 3.0)`\n",
    "- While aggregation works on columns, arithmatic works on rows\n",
    "- example : `SELECT (col1 - col2)`"
   ]
  },
  {
   "cell_type": "markdown",
   "metadata": {},
   "source": [
    "# Important thing to note"
   ]
  },
  {
   "cell_type": "markdown",
   "metadata": {},
   "source": [
    "- Aliases defined in the `SELECT` clause cannot be used in the `WHERE` clause due to order of execution"
   ]
  }
 ],
 "metadata": {
  "kernelspec": {
   "display_name": "Python 3.8.11 ('env_py')",
   "language": "python",
   "name": "python3"
  },
  "language_info": {
   "name": "python",
   "version": "3.8.11"
  },
  "orig_nbformat": 4,
  "vscode": {
   "interpreter": {
    "hash": "1e949e87132dd83f1a7623eb88007e3532b03b66b77111be347aa4a383049722"
   }
  }
 },
 "nbformat": 4,
 "nbformat_minor": 2
}
