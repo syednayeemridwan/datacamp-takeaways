{
 "cells": [
  {
   "cell_type": "markdown",
   "metadata": {},
   "source": [
    "# Filtering"
   ]
  },
  {
   "cell_type": "markdown",
   "metadata": {},
   "source": [
    "- `WHERE` clause\n",
    "- used with comparison operators: \n",
    "    - `>` : Greater than or a/er\n",
    "    - `<` : Less than or before\n",
    "    - `=` : Equal to\n",
    "    - `>=` : Greater than or equal to\n",
    "    - `<=` : Less than or equal to\n",
    "    - `<>` : Not equal to\n",
    "- Example code:\n",
    "    ```\n",
    "    SELECT item\n",
    "    FROM coats\n",
    "    WHERE color = 'green'\n",
    "    LIMIT 5;\n",
    "    ```    "
   ]
  },
  {
   "cell_type": "markdown",
   "metadata": {},
   "source": [
    "# Multiple criteria"
   ]
  },
  {
   "cell_type": "markdown",
   "metadata": {},
   "source": [
    "- `OR`  : Take either condition around `WHERE`\n",
    "    - `WHERE color = 'yellow' OR length = 'short';`\n",
    "- `AND`  : Take both  condition around  `WHERE`\n",
    "    - `WHERE color = 'yellow' AND length = 'short';`\n",
    "- `BETWEEN` : Take range enclosed around `WHERE`. It is inclusive\n",
    "    - `WHERE number BETWEEN 1 AND 5;`"
   ]
  },
  {
   "cell_type": "markdown",
   "metadata": {},
   "source": [
    "# Filtering text"
   ]
  },
  {
   "cell_type": "markdown",
   "metadata": {},
   "source": [
    "- `LIKE` : \n",
    "    - Used to search for a pattern\n",
    "    - `%` match zero, one, or many characters: `WHERE col LIKE 'Ab%';`\n",
    "    - `_` match a single character: `WHERE col LIKE 'Ab_r';`\n",
    "- `NOT LIKE` : \n",
    "    - Opposite to `LIKE`\n",
    "    - `WHERE col NOT LIKE 'Ab_r'`\n",
    "- `IN` : \n",
    "    - Used to replace multiple `OR` conditions\n",
    "    -  ` WHERE release_year IN (1920, 1930, 1940); `"
   ]
  },
  {
   "cell_type": "markdown",
   "metadata": {},
   "source": [
    "# NULL values"
   ]
  },
  {
   "cell_type": "markdown",
   "metadata": {},
   "source": [
    "- Unknown or empty values\n",
    "- When comparing, use `IS NULL` or `IS NOT NULL` inside `WHERE` instead of `=` or `<>`\n",
    "- example : `WHERE col IS NOT NULL;`\n",
    "- `COUNT()` does not count `NULL` values"
   ]
  }
 ],
 "metadata": {
  "kernelspec": {
   "display_name": "Python 3.8.11 ('env_py')",
   "language": "python",
   "name": "python3"
  },
  "language_info": {
   "name": "python",
   "version": "3.8.11"
  },
  "orig_nbformat": 4,
  "vscode": {
   "interpreter": {
    "hash": "1e949e87132dd83f1a7623eb88007e3532b03b66b77111be347aa4a383049722"
   }
  }
 },
 "nbformat": 4,
 "nbformat_minor": 2
}
