{
 "cells": [
  {
   "cell_type": "markdown",
   "metadata": {},
   "source": [
    "# Raising an Error"
   ]
  },
  {
   "cell_type": "markdown",
   "metadata": {},
   "source": [
    "- Syntax:\n",
    "```\n",
    "IF NOT EXISTS (....query....) RAISERROR( 'message' , error_level ,error_state);\n",
    "```\n",
    "- example : `RAISERROR('You cannot apply a 50%% discount on %s number %d', 6, 1, 'product', 5);`\n",
    "- example:\n",
    "```\n",
    "BEGIN TRY\n",
    "    IF NOT EXISTS (SELECT * FROM staff WHERE staff_id = 15) RAISERROR('No staff member with such id.', 9, 1);\n",
    "END TRY\n",
    "BEGIN CATCH\n",
    "    SELECT 'You are in the CATCH block' AS message\n",
    "END CATCH\n",
    "```"
   ]
  },
  {
   "cell_type": "markdown",
   "metadata": {},
   "source": [
    "# Throwing an Error"
   ]
  },
  {
   "cell_type": "markdown",
   "metadata": {},
   "source": [
    "- With or without parameters (With parameter reduces ambiguity)\n",
    "- Recommended over `RAISEERROR()`\n",
    "- Allows to re-throw an error in `CATCH` block\n",
    "    - If there are valid lines before `THROW` in `CATCH` block, then the error will not be re-thrown \n",
    "- Lines below `THROW` are not executed\n",
    "- Syntax:\n",
    "```\n",
    "THROW error_number, 'message', state;\n",
    "```"
   ]
  },
  {
   "cell_type": "markdown",
   "metadata": {},
   "source": [
    "### Example of THROW without parameter"
   ]
  },
  {
   "cell_type": "markdown",
   "metadata": {},
   "source": [
    "- The `THROW` statement without parameters should be placed within a `CATCH` block.\n",
    "\n",
    "```\n",
    "BEGIN TRY\n",
    "    SELECT price/0 from orders;\n",
    "END TRY\n",
    "BEGIN CATCH\n",
    "    THROW;\n",
    "    SELECT 'This line is executed!' as message;\n",
    "END CATCH\n",
    "```"
   ]
  },
  {
   "cell_type": "markdown",
   "metadata": {},
   "source": [
    "### Example of THROW with parameter\n"
   ]
  },
  {
   "cell_type": "markdown",
   "metadata": {},
   "source": [
    "```\n",
    "BEGIN TRY \n",
    "    IF NOT EXISTS (...some_query...)\n",
    "    THROW 51000 , 'This is an example' , 1;\n",
    "END TRY\n",
    "BEGIN CATCH\n",
    "    SELECT ERROR_MESSAGE() AS message;\n",
    "END CATCH\n",
    "```"
   ]
  },
  {
   "cell_type": "markdown",
   "metadata": {},
   "source": [
    "# Raising Custom Error Messages"
   ]
  },
  {
   "cell_type": "markdown",
   "metadata": {},
   "source": [
    "- `msg_id > 50000` for custom messages\n",
    "- Ways to create custom error message: 2 ways\n",
    "1. Variable by concatenating strings with `CONCAT` function\n",
    "    ```\n",
    "    DECLARE @custom_message NVARCHAR(500) = CONCAT(....);\n",
    "    IF NOT EXISTS (...query...) THROW 50000, @custom_message, 1;\n",
    "    ```\n",
    "\n",
    "2. `FORMATMESSAGE` function\n",
    "    ```\n",
    "    DECLARE @custom_message NVARCHAR(500) = FORMATMESSAGE('id= %d, name= %s ', @id, @name.');\n",
    "    IF NOT EXISTS (...query...) THROW 50000, @custom_message, 1;\n",
    "    ```"
   ]
  },
  {
   "cell_type": "markdown",
   "metadata": {},
   "source": [
    "# See all messages in the system"
   ]
  },
  {
   "cell_type": "markdown",
   "metadata": {},
   "source": [
    "`SELECT * FROM sys.messages`"
   ]
  },
  {
   "cell_type": "markdown",
   "metadata": {},
   "source": [
    "# Adding custom error message in the system"
   ]
  },
  {
   "cell_type": "markdown",
   "metadata": {},
   "source": [
    "- use stored procedure `sp_addmessage`\n",
    "- example:\n",
    "\n",
    "    ```\n",
    "    exec sp_addmessage \n",
    "        @msgnum = 55000 , \n",
    "        @severity=16,\n",
    "        @msgtext='There is no staff member for id %d. %s',\n",
    "        @lang=N'us_english';\n",
    "    ```"
   ]
  }
 ],
 "metadata": {
  "kernelspec": {
   "display_name": "Python 3.8.11 ('env_py')",
   "language": "python",
   "name": "python3"
  },
  "language_info": {
   "name": "python",
   "version": "3.8.11"
  },
  "orig_nbformat": 4,
  "vscode": {
   "interpreter": {
    "hash": "1e949e87132dd83f1a7623eb88007e3532b03b66b77111be347aa4a383049722"
   }
  }
 },
 "nbformat": 4,
 "nbformat_minor": 2
}
