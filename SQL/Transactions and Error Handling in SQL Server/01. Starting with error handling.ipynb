{
 "cells": [
  {
   "cell_type": "markdown",
   "metadata": {},
   "source": [
    "# Error handling with `TRY...CATCH`"
   ]
  },
  {
   "cell_type": "markdown",
   "metadata": {},
   "source": [
    "Syntax:\n",
    "```\n",
    "BEGIN TRY\n",
    "    QUERY...\n",
    "END TRY\n",
    "BEGIN CATCH\n",
    "    QUERY...\n",
    "END CATCH\n",
    "```"
   ]
  },
  {
   "cell_type": "markdown",
   "metadata": {},
   "source": [
    "example:\n",
    "```\n",
    "BEGIN TRY\n",
    "    INSERT INTO products (product_name, stock, price) VALUES ('Super new Trek Powerfly', 5, 1499.99);\n",
    "    SELECT 'Product inserted correctly!' AS message;\n",
    "END TRY\n",
    "BEGIN CATCH\n",
    "    SELECT 'An error occurred! You are in the CATCH block' AS message;\n",
    "END CATCH\n",
    "```"
   ]
  },
  {
   "cell_type": "markdown",
   "metadata": {},
   "source": [
    "# Deciphering Errors"
   ]
  },
  {
   "cell_type": "markdown",
   "metadata": {},
   "source": [
    "- Error Number\n",
    "    - SQL errors: 1 to 49999\n",
    "    - Own errors: starting from 50001\n",
    "    - See the complete catalog of error numbers: `select * from sys.messages`\n",
    "    <center><img src=\"images/01.051.jpg\"  style=\"width: 400px, height: 300px;\"/></center>\n",
    "- Severity level\n",
    "    - 0-10: informational messages (Warnings)\n",
    "    - 11-16: errors that can be corrected by the user (constraint violation, etc.)\n",
    "    - 17-24: other errors (software problems, fatal errors)\n",
    "    <center><img src=\"images/01.052.jpg\"  style=\"width: 400px, height: 300px;\"/></center>\n",
    "- State\n",
    "    - 1: if SQL Server displays error\n",
    "    - 0-255: raise own errors\n",
    "    <center><img src=\"images/01.053.jpg\"  style=\"width: 400px, height: 300px;\"/></center>\n",
    "- Line\n",
    "    - Which line was the error detected\n",
    "    <center><img src=\"images/01.054.jpg\"  style=\"width: 400px, height: 300px;\"/></center>\n",
    "- Procedure\n",
    "    - Which procedure was the error in where it was triggerred\n",
    "    <center><img src=\"images/01.055.jpg\"  style=\"width: 400px, height: 300px;\"/></center>\n"
   ]
  },
  {
   "cell_type": "markdown",
   "metadata": {},
   "source": [
    "# Uncatchable Error"
   ]
  },
  {
   "cell_type": "markdown",
   "metadata": {},
   "source": [
    "- Severity lower than 11 (11-19 are catchable)\n",
    "- Severity of 20 or higher that stop the connection\n",
    "- Compilation errors: objects and columns that don't exist\n",
    "    <center><img src=\"images/01.056.jpg\"  style=\"width: 400px, height: 300px;\"/></center>\n"
   ]
  },
  {
   "cell_type": "markdown",
   "metadata": {},
   "source": [
    "# Error Functions"
   ]
  },
  {
   "cell_type": "markdown",
   "metadata": {},
   "source": [
    "- `ERROR_NUMBER()` : returns the number of the error.\n",
    "- `ERROR_SEVERITY()` : returns the error severity (11-19).\n",
    "- `ERROR_STATE()` : returns the state of the error.\n",
    "- `ERROR_LINE()` : returns the number of the line of the error.\n",
    "- `ERROR_PROCEDURE()` : returns the name of stored procedure/trigger. NULL if there is not stored procedure/trigger.\n",
    "- `ERROR_MESSAGE()` : returns the text of the error message.\n",
    "\n",
    "- example:\n",
    "```\n",
    "BEGIN TRY\n",
    "    INSERT INTO products (product_name, stock, price)\n",
    "    VALUES ('Trek Powerfly 5 - 2018', 10, 3499.99);\n",
    "END TRY\n",
    "BEGIN CATCH\n",
    "    SELECT ERROR_NUMBER() AS Error_number,\n",
    "    ERROR_SEVERITY() AS Error_severity,\n",
    "    ERROR_STATE() AS Error_state,\n",
    "    ERROR_PROCEDURE() AS Error_procedure,\n",
    "    ERROR_LINE() AS Error_line,\n",
    "    ERROR_MESSAGE() AS Error_message;\n",
    "END CATCH\n",
    "```"
   ]
  }
 ],
 "metadata": {
  "kernelspec": {
   "display_name": "Python 3.8.11 ('env_py')",
   "language": "python",
   "name": "python3"
  },
  "language_info": {
   "name": "python",
   "version": "3.8.11"
  },
  "orig_nbformat": 4,
  "vscode": {
   "interpreter": {
    "hash": "1e949e87132dd83f1a7623eb88007e3532b03b66b77111be347aa4a383049722"
   }
  }
 },
 "nbformat": 4,
 "nbformat_minor": 2
}
