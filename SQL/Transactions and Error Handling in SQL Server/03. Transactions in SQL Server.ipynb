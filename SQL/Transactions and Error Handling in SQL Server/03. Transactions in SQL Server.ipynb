{
 "cells": [
  {
   "cell_type": "markdown",
   "metadata": {},
   "source": [
    "# Transactions"
   ]
  },
  {
   "cell_type": "markdown",
   "metadata": {},
   "source": [
    "- one or more statements, \n",
    "- When executing, all or none of the statements are executed (Either all or None)\n",
    "- Example:\n",
    "    - Purpose : Transfer $100 from account A to account B\n",
    "    - Operation 1 : Subtract $100 from account A\n",
    "    - Operation 2 : Add $100 to account B\n",
    "    - Operation 2 FAILS (We could not Add $100 to account B )\n",
    "    - Then Operation 1 reverts (UNDO Subtract $100 from account A)"
   ]
  },
  {
   "cell_type": "markdown",
   "metadata": {},
   "source": [
    "# Transaction workflow"
   ]
  },
  {
   "cell_type": "markdown",
   "metadata": {},
   "source": [
    "- `BEGIN TRAN... COMMIT TRAN... ROLLBACK TRAN`\n",
    "- `BEGIN TRAN` : Begin a trnsaction\n",
    "- `COMMIT TRAN` : Transaction was successful\n",
    "- `ROLLBACK TRAN` : Revert the transaction in case of failure\n",
    "- Generally used with `TRY..CATCH`\n",
    "- example: \n",
    "```\n",
    "BEGIN TRY\n",
    "    BEGIN TRAN;\n",
    "        ....transaction query....\n",
    "    COMMIT TRAN;\n",
    "END TRY\n",
    "BEGIN CATCH\n",
    "    ROLLBACK TRAN;\n",
    "END CATCH\n",
    "```"
   ]
  },
  {
   "cell_type": "markdown",
   "metadata": {},
   "source": [
    "- SEE MORE OPTIONS IN THE SLIDES"
   ]
  },
  {
   "cell_type": "markdown",
   "metadata": {},
   "source": [
    "# `@@TRANCOUNT`"
   ]
  },
  {
   "cell_type": "markdown",
   "metadata": {},
   "source": [
    "- Returns Number of active `BEGIN TRAN` statements in your current connection\n",
    "    - greater than 0 -> open transaction\n",
    "    - 0 -> no open transaction\n",
    "- The value is modified by different `TRAN` workflow\n",
    "    - `BEGIN TRAN` -> `@@TRANCOUNT + 1`\n",
    "    - `COMMIT TRAN` -> `@@TRANCOUNT - 1`\n",
    "    - `ROLLBACK TRAN` -> `@@TRANCOUNT = 0` \n",
    "        - will not be 0 if there is a savepoint\n",
    "- example: `SELECT @@TRANCOUNT`\n",
    "\n",
    "- example:\n",
    "\n",
    "```\n",
    "BEGIN TRY\n",
    "    BEGIN TRAN;\n",
    "        ...query...\n",
    "    IF (@@TRANCOUNT > 0)\n",
    "        COMMIT TRAN;\n",
    "END TRY\n",
    "BEGIN CATCH\n",
    "    IF (@@TRANCOUNT > 0)\n",
    "        ROLLBACK TRAN;\n",
    "END CATCH\n",
    "```"
   ]
  },
  {
   "cell_type": "markdown",
   "metadata": {},
   "source": [
    "# Savepoints"
   ]
  },
  {
   "cell_type": "markdown",
   "metadata": {},
   "source": [
    "- Saving a state inside transaction\n",
    "- with `SAVE TRAN savepoint_name` keywords\n",
    "- Rollback to a savepoint : `ROLLBACK TRAN savepoint_name`\n",
    "- example:\n",
    "    ```\n",
    "    BEGIN TRAN; \n",
    "    SAVE TRAN savepoint1;\n",
    "        ...query1..; \n",
    "    SAVE TRAN savepoint2;\n",
    "        ...query2..; \n",
    "    ROLLBACK TRAN savepoint2;\n",
    "    ROLLBACK TRAN savepoint1; \n",
    "    SAVE TRAN savepoint3;\n",
    "    COMMIT TRAN;\n",
    "    ```"
   ]
  },
  {
   "cell_type": "markdown",
   "metadata": {},
   "source": [
    "# `XACT_ABORT`"
   ]
  },
  {
   "cell_type": "markdown",
   "metadata": {},
   "source": [
    "- current transaction will be automatically rolled back when an error occurs.\n",
    "- settings : `SET XACT_ABORT { ON | OFF }`\n",
    "- Default settings : `SET XACT_ABORT OFF`\n",
    "    - If there is an error: There can be open transactions\n",
    "- Turn on : `SET XACT_ABORT ON`\n",
    "    - Rollbacks the transaction and aborts the execution\n",
    "    - Using with `RAISEERROR` will still make changes to the database\n",
    "    - Using with `THROW` will `ROLLBACK` changes to the database (SAFE)"
   ]
  },
  {
   "cell_type": "markdown",
   "metadata": {},
   "source": [
    "# `XACT_STATE()`"
   ]
  },
  {
   "cell_type": "markdown",
   "metadata": {},
   "source": [
    "- With \n",
    "- 0 -> no open transaction\n",
    "- 1 -> open and committable transaction\n",
    "- -1 -> open and uncommittable transactions (Doomed transactions)\n",
    "    - can't commit\n",
    "    - can't rollback to a savepoint\n",
    "    - can rollback the full transaction\n",
    "    - can't make any changes/can read data\n",
    "    - RESOLVE : ROLLBACK FULL TRANSACTION: `ROLLBACK TRAN;`\n",
    "- example:\n",
    "    ```\n",
    "    SET XACT_ABORT ON;\n",
    "    BEGIN TRY\n",
    "        BEGIN TRAN;\n",
    "            ...query....\n",
    "        COMMIT TRAN;\n",
    "    END TRY\n",
    "    BEGIN CATCH\n",
    "        IF XACT_STATE() = -1\n",
    "            ROLLBACK TRAN;\n",
    "        IF XACT_STATE() = 1\n",
    "            COMMIT TRAN;\n",
    "        SELECT ERROR_MESSAGE() AS Error_message;\n",
    "    END CATCH\n",
    "    ```"
   ]
  },
  {
   "cell_type": "markdown",
   "metadata": {},
   "source": [
    "# TIPS"
   ]
  },
  {
   "cell_type": "markdown",
   "metadata": {},
   "source": [
    "- See affected rowcount with `@@ROWCOUNT`\n",
    "```\n",
    "IF @@ROWCOUNT > 200 \n",
    "\tBEGIN \n",
    "\t\tSELECT 'Affected rows in the query'; \n",
    "\tEND\n",
    "```"
   ]
  }
 ],
 "metadata": {
  "kernelspec": {
   "display_name": "Python 3.8.11 ('env_py')",
   "language": "python",
   "name": "python3"
  },
  "language_info": {
   "name": "python",
   "version": "3.8.11"
  },
  "orig_nbformat": 4,
  "vscode": {
   "interpreter": {
    "hash": "1e949e87132dd83f1a7623eb88007e3532b03b66b77111be347aa4a383049722"
   }
  }
 },
 "nbformat": 4,
 "nbformat_minor": 2
}
