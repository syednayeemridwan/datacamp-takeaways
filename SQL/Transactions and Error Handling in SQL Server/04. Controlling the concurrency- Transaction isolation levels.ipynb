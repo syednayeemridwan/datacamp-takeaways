{
 "cells": [
  {
   "cell_type": "markdown",
   "metadata": {},
   "source": [
    "# Concurrency"
   ]
  },
  {
   "cell_type": "markdown",
   "metadata": {},
   "source": [
    "- Concurrency Problem:\n",
    "    - multiple transactions \n",
    "    - at the same time\n",
    "    - that read/change \n",
    "    - the same shared data\n",
    "- Solution:\n",
    "    - Isolate our transaction from other transactions\n",
    "- Different level of concurrency phenomena:\n",
    "1. Dirty Reads:\n",
    "    - Original balance account 5 = $35,000\n",
    "    - After Transaction 1, the current balance = $30,000\n",
    "    - But Transaction 1 is not committed or Rolled Back yet\n",
    "    - Transaction 2 can see that the current balance = $30,000\n",
    "    - However, Transaction 1 Rolled Back and current balance = $35,000\n",
    "    - What Transaction 2 thinks is current balance = $30,000.\n",
    "    - Transaction 2 read is a dirty read. \n",
    "2. Non-repeatable Reads:\n",
    "    - Transaction 1 sees the current balance = $35,000\n",
    "    - After Transaction 2, the current balance = $30,000\n",
    "    - Transaction 2 committed the change\n",
    "    - Transaction 1 sees the current balance = $30,000\n",
    "    - Transaction 1 sees 2 different values in 2 different times\n",
    "    - Problem : What happens if we make business decision based on first result ?\n",
    "3. Pantom Reads:\n",
    "    - One person starts Transaction 1 with balance between 45000 and 50000\n",
    "    - Another person starts Transaction 2 with balance between 45000 and 50000\n",
    "    - Transaction 2 commits the change\n",
    "    - If we try to determine Transaction 1 with balance between 45000 and 50000, we also get Transaction 2\n",
    "    - Our target was to get Transaction 1\n",
    "    - But we get additional value of Transaction 2\n",
    "    - The result is different from first one with extra information\n",
    "    - Transaction 2 is Phantom Read (Extra row)\n",
    "    - Problem : What happens if we make business decision based on first result ?\n"
   ]
  },
  {
   "cell_type": "markdown",
   "metadata": {},
   "source": [
    "# Different Isolation Levels"
   ]
  },
  {
   "cell_type": "markdown",
   "metadata": {},
   "source": [
    "- `READ UNCOMMITTED`\n",
    "    - Lets to read rows modified by another transaction which hasn't been committed or rolled back yet\n",
    "    - Can be faster\n",
    "    - doesn't block other transactions\n",
    "    - Allows dirty reads\n",
    "    - Allows non-repeatable reads\n",
    "    - Allows phantom reads\n",
    "    - No blocking\n",
    "    - Use when \n",
    "        - You don't mind concurrency phenomena.\n",
    "        - You explicitly want to watch uncommitted data\n",
    "- `READ COMMITTED` \n",
    "    - default\n",
    "    - Does not Let to read rows modified by another transaction which hasn't been committed or rolled back yet (Has to wait until the first transaction is completed before starting another)\n",
    "    - Prevents dirty reads\n",
    "    - Allows non-repeatable reads\n",
    "    - Allows phantom reads\n",
    "    - No blocking\n",
    "    - Use when \n",
    "        - You want to ensure that you only read committed data\n",
    "        - You do not mind not non-repeatable and phantom reads\n",
    "- `REPEATABLE READ`\n",
    "    - Can't read uncommitted data from other transactions\n",
    "    - If some data is read, other transactions cannot modify that data until REPEATABLE READ transaction finishes\n",
    "    - Prevents dirty reads\n",
    "    - Prevents other transactions from modifying the data you are reading, non-repeatable reads\n",
    "    - Allows phantom reads\n",
    "    - You can be blocked by a `REPEATABLE READ` transaction.\n",
    "    - Use when \n",
    "        - You don't mind phantom reads.\n",
    "        - You Only want to read committed data and don't want other transactions to modify what you are reading.\n",
    "- `SERIALIZABLE`\n",
    "    - Most restrictive isolation level\n",
    "    - Prevents dirty reads\n",
    "    - Locks record if index is provided with `WHERE` clause\n",
    "    - Locks table if index is not provided.\n",
    "    - Prevents non-repeatable reads\n",
    "    - Prevents phantom reads\n",
    "    - Good data consistency\n",
    "    - You can be blocked by a `SERIALIZABLE` transaction\n",
    "    - Use it when data consistency is a must\n",
    "- `SNAPSHOT`\n",
    "- example : `SET TRANSACTION ISOLATION LEVEL level_name`\n",
    "- Know your isolation level:\n",
    "```\n",
    "SELECT \n",
    "CASE transaction_isolation_level\n",
    "    WHEN 0 THEN 'UNSPECIFIED'\n",
    "    WHEN 1 THEN 'READ UNCOMMITTED'\n",
    "    WHEN 2 THEN 'READ COMMITTED'\n",
    "    WHEN 3 THEN 'REPEATABLE READ '\n",
    "    WHEN 4 THEN 'SERIALIZABLE'\n",
    "    WHEN 5 THEN 'SNAPSHOT'\n",
    "END AS transaction_isolation_level\n",
    "FROM sys.dm_exec_sessions\n",
    "WHERE session_id = @@SPID\n",
    "```"
   ]
  },
  {
   "cell_type": "markdown",
   "metadata": {},
   "source": [
    "# SNAPSHOT"
   ]
  },
  {
   "cell_type": "markdown",
   "metadata": {},
   "source": [
    "- Every time a modification is made, previous version of row is stored in the `tempDB` database\n",
    "- Only see committed changes that occurred before the start of the SNAPSHOT transaction and own changes\n",
    "- Can't see any changes made by other transactions after the start of the SNAPSHOT transaction\n",
    "- Readings don't block writings and writings don't block readings\n",
    "- Can have update conflicts when updating same data at the same time\n",
    "- Prevents dirty reads\n",
    "- Prevents non-repeatable reads\n",
    "- Prevents phantom reads\n",
    "- Good data consistency\n",
    "- NO BLOCKING of Reading or Writing\n",
    "- `tempDB` increases\n",
    "- Use When data consistency is a must and don't want blocks\n",
    "- Enable:\n",
    "    ```\n",
    "    ALTER DATABASE myDatabaseName SET ALLOW_SNAPSHOT_ISOLATION ON;\n",
    "    SET TRANSACTION ISOLATION LEVEL SNAPSHOT\n",
    "    ```\n",
    "<center><img src=\"images/04.jpg\"  style=\"width: 400px, height: 300px;\"/></center>"
   ]
  },
  {
   "cell_type": "markdown",
   "metadata": {},
   "source": [
    "# READ COMMITTED SNAPSHOT"
   ]
  },
  {
   "cell_type": "markdown",
   "metadata": {},
   "source": [
    "- Changes the behavior of `READ COMMITTED`\n",
    "- makes every READ COMMITTED statement can only see committed changes that occurred before the START OF THE STATEMENT\n",
    "- Can't have update conflicts\n",
    "- `ALTER DATABASE myDatabaseName SET READ_COMMITTED_SNAPSHOT ON;`\n",
    "    - `OFF` by default\n",
    "-  the main difference between `READ COMMITTED SNAPSHOT` and the `SNAPSHOT` isolation level is that with the `SNAPSHOT` isolation level you can only see the committed changes that occur before the START OF A TRANSACTION and the changes made by that transaction AS OPPOSSED TO START OF THE STATEMENT\n",
    "- Enable:\n",
    "    ```\n",
    "    ALTER DATABASE myDatabaseName SET ALLOW_SNAPSHOT_ISOLATION ON \n",
    "    ALTER DATABASE myDatabaseName SET READ_COMMITTED_SNAPSHOT ON.\n",
    "    ```"
   ]
  },
  {
   "cell_type": "markdown",
   "metadata": {},
   "source": [
    "# WITH (NOLOCK)"
   ]
  },
  {
   "cell_type": "markdown",
   "metadata": {},
   "source": [
    "- Used to read uncommitted data \n",
    "- Unclock to only read\n",
    "- `READ UNCOMMITTED` applies to the entire connection BUT `WITH (NOLOCK)` applies to a specific table\n",
    "- Use under any isolation level when you just want to read uncommitted data from specific table\n",
    "- Transaction 1:\n",
    "    ```\n",
    "    BEGIN TRAN \n",
    "    UPDATE accounts\n",
    "    SET current_balance = 30000 WHERE account_id= 5;\n",
    "    ```\n",
    "- Transaction 2:\n",
    "    ```\n",
    "    SELECT current_balance FROM accounts\n",
    "    WITH (NOLOCK)\n",
    "    WHERE account_id = 5;\n",
    "    ```"
   ]
  }
 ],
 "metadata": {
  "kernelspec": {
   "display_name": "Python 3.8.11 ('env_py')",
   "language": "python",
   "name": "python3"
  },
  "language_info": {
   "name": "python",
   "version": "3.8.11"
  },
  "orig_nbformat": 4,
  "vscode": {
   "interpreter": {
    "hash": "1e949e87132dd83f1a7623eb88007e3532b03b66b77111be347aa4a383049722"
   }
  }
 },
 "nbformat": 4,
 "nbformat_minor": 2
}
