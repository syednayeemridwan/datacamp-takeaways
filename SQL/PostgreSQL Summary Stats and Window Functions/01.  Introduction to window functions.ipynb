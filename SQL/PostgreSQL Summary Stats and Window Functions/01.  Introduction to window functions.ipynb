{
 "cells": [
  {
   "cell_type": "markdown",
   "metadata": {},
   "source": [
    "# Window functions"
   ]
  },
  {
   "cell_type": "markdown",
   "metadata": {},
   "source": [
    "- Operating across a set of rows that are somehow related to the current row\n",
    "- window functions take as input the rows of the table you're querying.\n",
    "- Similar to aggregation, but `GROUP BY` is not Used\n",
    "- Fetching values from preceding or following rows (e.g. fetching the previous row's value)\n",
    "- eg - Calculating growth over time, Running totals, moving averages, ranking, row number etc\n"
   ]
  },
  {
   "cell_type": "markdown",
   "metadata": {},
   "source": [
    "# `ROW_NUMBER`"
   ]
  },
  {
   "cell_type": "markdown",
   "metadata": {},
   "source": [
    "```\n",
    "SELECT\n",
    "ROW_NUMBER() OVER () AS Row_N\n",
    "FROM some_table\n",
    "```"
   ]
  },
  {
   "cell_type": "markdown",
   "metadata": {},
   "source": [
    "# `ORDER BY` inside `OVER()`"
   ]
  },
  {
   "cell_type": "markdown",
   "metadata": {},
   "source": [
    "- Reorders everything before applying the window function\n",
    "- `ORDER BY` inside `OVER()` takes effect first\n",
    "- Then `ORDER BY` outside `OVER()` takes effect \n"
   ]
  },
  {
   "cell_type": "markdown",
   "metadata": {},
   "source": [
    "```\n",
    "SELECT\n",
    "ROW_NUMBER() OVER (ORDER BY col1 DESC, col2 ASC) AS Row_N\n",
    "FROM some_table\n",
    "```"
   ]
  },
  {
   "cell_type": "markdown",
   "metadata": {},
   "source": [
    "# `LAG`"
   ]
  },
  {
   "cell_type": "markdown",
   "metadata": {},
   "source": [
    "- A window function that shifts a column below\n",
    "- `LAG(column, 1) OVER (...)` returns the previous row's value"
   ]
  },
  {
   "cell_type": "markdown",
   "metadata": {},
   "source": [
    "```\n",
    "SELECT\n",
    "LAG(col1, 1) OVER (ORDER BY col2 ASC) AS lag_col\n",
    "FROM some_table;\n",
    "```"
   ]
  },
  {
   "cell_type": "markdown",
   "metadata": {},
   "source": [
    "# `PARTITION BY`"
   ]
  },
  {
   "cell_type": "markdown",
   "metadata": {},
   "source": [
    "- splits the table into partitions based on a column's unique values\n",
    "- Operated on separately by the window function\n",
    "- EG:\n",
    "    - `ROW_NUMBER` will reset for each partition\n",
    "    - `LAG` will only fetch a row's previous value if its previous row is in the same partition"
   ]
  },
  {
   "cell_type": "markdown",
   "metadata": {},
   "source": [
    "example :\n",
    "```\n",
    "SELECT\n",
    "LAG(col1) OVER (PARTITION BY col2 ORDER BY col2 ASC, col1 ASC) AS partition_col\n",
    "FROM some_table;\n",
    "```"
   ]
  }
 ],
 "metadata": {
  "kernelspec": {
   "display_name": "Python 3.8.11 ('env_py')",
   "language": "python",
   "name": "python3"
  },
  "language_info": {
   "name": "python",
   "version": "3.8.11"
  },
  "orig_nbformat": 4,
  "vscode": {
   "interpreter": {
    "hash": "1e949e87132dd83f1a7623eb88007e3532b03b66b77111be347aa4a383049722"
   }
  }
 },
 "nbformat": 4,
 "nbformat_minor": 2
}
