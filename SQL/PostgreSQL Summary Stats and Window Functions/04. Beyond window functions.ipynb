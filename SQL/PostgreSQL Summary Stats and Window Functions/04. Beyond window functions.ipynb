{
 "cells": [
  {
   "cell_type": "markdown",
   "metadata": {},
   "source": [
    "# Pivoting"
   ]
  },
  {
   "cell_type": "markdown",
   "metadata": {},
   "source": [
    "- can be used with `CROSSTAB` from `tablefunc`"
   ]
  },
  {
   "cell_type": "markdown",
   "metadata": {},
   "source": [
    "```\n",
    "CREATE EXTENSION IF NOT EXISTS tablefunc;\n",
    "\n",
    "SELECT * FROM CROSSTAB($$\n",
    "    original_groupby_query\n",
    "$$) AS ct   (result_col VARCHAR, \n",
    "            \"result_col_val1\" INTEGER, \n",
    "            \"result_col_val2\" INTEGER)\n",
    "\n",
    "            ORDER BY result_col ASC;\n",
    "```"
   ]
  },
  {
   "cell_type": "markdown",
   "metadata": {},
   "source": [
    "# `ROLLUP`"
   ]
  },
  {
   "cell_type": "markdown",
   "metadata": {},
   "source": [
    "- grouped subtotal of hierarchical dataset\n",
    "- `GROUP BY ROLLUP(col1, col2)`  means for each `col1` group take total of `col2` "
   ]
  },
  {
   "cell_type": "markdown",
   "metadata": {},
   "source": [
    "example:\n",
    "```\n",
    "SELECT\n",
    "col1, col2, COUNT(*) AS other_cols\n",
    "FROM some_table\n",
    "GROUP BY ROLLUP(col1, col2);\n",
    "```"
   ]
  },
  {
   "cell_type": "markdown",
   "metadata": {},
   "source": [
    "# `CUBE`"
   ]
  },
  {
   "cell_type": "markdown",
   "metadata": {},
   "source": [
    "- grouped subtotal of non-hierarchical dataset\n",
    "- `GROUP BY CUBE(col1, col2)`  means take total of data for all possible combination of `col1`,`col2` group "
   ]
  },
  {
   "cell_type": "markdown",
   "metadata": {},
   "source": [
    "example:\n",
    "```\n",
    "SELECT\n",
    "col1, col2, COUNT(*) AS other_cols\n",
    "FROM some_table\n",
    "GROUP BY ROLLUP(col1, col2);\n",
    "```"
   ]
  },
  {
   "cell_type": "markdown",
   "metadata": {},
   "source": [
    "# `COALESCE`"
   ]
  },
  {
   "cell_type": "markdown",
   "metadata": {},
   "source": [
    "- Takes a list of values and returns the first non-null value, going from left to right"
   ]
  },
  {
   "cell_type": "markdown",
   "metadata": {},
   "source": [
    "```\n",
    "SELECT\n",
    "COALESCE(col, 'Missing Value') AS new_col\n",
    "FROM table_name;\n",
    "```"
   ]
  },
  {
   "cell_type": "markdown",
   "metadata": {},
   "source": [
    "# `STRING_AGG`"
   ]
  },
  {
   "cell_type": "markdown",
   "metadata": {},
   "source": [
    "- takes all the values of a column and concatenates them with separator in between each value"
   ]
  },
  {
   "cell_type": "markdown",
   "metadata": {},
   "source": [
    "```\n",
    "SELECT STRING_AGG(col, ',') AS new_col\n",
    "FROM Country_Medals;\n",
    "```"
   ]
  },
  {
   "cell_type": "markdown",
   "metadata": {},
   "source": [
    "# `UNNEST`"
   ]
  },
  {
   "cell_type": "markdown",
   "metadata": {},
   "source": [
    "- Reverse of `STRING_AGG`\n",
    "- Still needs `STRING_AGG`\n",
    "- Makes a column out of a single value"
   ]
  },
  {
   "cell_type": "markdown",
   "metadata": {},
   "source": [
    "```\n",
    "SELECT STRING_AGG(col, ', ') AS new_col\n",
    "FROM some_table;\n",
    "```"
   ]
  }
 ],
 "metadata": {
  "kernelspec": {
   "display_name": "Python 3.8.11 ('env_py')",
   "language": "python",
   "name": "python3"
  },
  "language_info": {
   "name": "python",
   "version": "3.8.11"
  },
  "orig_nbformat": 4,
  "vscode": {
   "interpreter": {
    "hash": "1e949e87132dd83f1a7623eb88007e3532b03b66b77111be347aa4a383049722"
   }
  }
 },
 "nbformat": 4,
 "nbformat_minor": 2
}
