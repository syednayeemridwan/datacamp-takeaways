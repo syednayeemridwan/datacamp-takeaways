{
 "cells": [
  {
   "cell_type": "markdown",
   "metadata": {},
   "source": [
    "# `LEAD`"
   ]
  },
  {
   "cell_type": "markdown",
   "metadata": {},
   "source": [
    "- A window function that shifts a column above (pulls above)\n",
    "- `LEAD(column, 1) OVER (...)` returns the next row's value"
   ]
  },
  {
   "cell_type": "markdown",
   "metadata": {},
   "source": [
    "```\n",
    "SELECT\n",
    "LEAD(col1, 1) OVER (ORDER BY col2 ASC) AS lead_col\n",
    "FROM some_table;\n",
    "```"
   ]
  },
  {
   "cell_type": "markdown",
   "metadata": {},
   "source": [
    "# `FIRST_VALUE`"
   ]
  },
  {
   "cell_type": "markdown",
   "metadata": {},
   "source": [
    "- Returns Absolute position of first row value in a column\n",
    "- Be careful when Partitioning with `FIRST_VALUE`: [`FIRST_VALUE(col1)` with `PARTITION BY col2`]"
   ]
  },
  {
   "cell_type": "markdown",
   "metadata": {},
   "source": [
    "```\n",
    "SELECT\n",
    "FIRST_VALUE(col1) OVER (ORDER BY col2 ASC) AS First_val_col,\n",
    "FROM some_table;\n",
    "```"
   ]
  },
  {
   "cell_type": "markdown",
   "metadata": {},
   "source": [
    "# `LAST_VALUE`"
   ]
  },
  {
   "cell_type": "markdown",
   "metadata": {},
   "source": [
    "- Returns Absolute position of last row value in a column \n",
    "- Takes additional steps: We need to specify the range where the last value will be from\n",
    "- EG : Add inside `OVER()` : `RANGE BETWEEN UNBOUNDED PRECEDING AND UNBOUNDED FOLLOWING`"
   ]
  },
  {
   "cell_type": "markdown",
   "metadata": {},
   "source": [
    "```\n",
    "SELECT\n",
    "LAST_VALUE(col1) OVER (ORDER BY col2 ASC RANGE BETWEEN UNBOUNDED PRECEDING AND UNBOUNDED FOLLOWING) AS Last_val_col\n",
    "FROM some_table;\n",
    "```"
   ]
  },
  {
   "cell_type": "markdown",
   "metadata": {},
   "source": [
    "# `RANK`"
   ]
  },
  {
   "cell_type": "markdown",
   "metadata": {},
   "source": [
    "- Assigns the same number to rows with identical values\n",
    "- skips over the next numbers in such cases and increment non-identical values with +1 rank for each skip"
   ]
  },
  {
   "cell_type": "markdown",
   "metadata": {},
   "source": [
    "example:\n",
    "```\n",
    "SELECT \n",
    "RANK() OVER (ORDER BY col DESC) AS rank_col\n",
    "FROM some_table;\n",
    "```"
   ]
  },
  {
   "cell_type": "markdown",
   "metadata": {},
   "source": [
    "# `DENSE_RANK`"
   ]
  },
  {
   "cell_type": "markdown",
   "metadata": {},
   "source": [
    "- assigns the same number to rows with identical values\n",
    "- doesn't skip over the next numbers"
   ]
  },
  {
   "cell_type": "markdown",
   "metadata": {},
   "source": [
    "example:\n",
    "```\n",
    "SELECT \n",
    "DENSE_RANK() OVER (ORDER BY col DESC) AS dense_rank_col\n",
    "FROM some_table;\n",
    "```"
   ]
  },
  {
   "cell_type": "markdown",
   "metadata": {},
   "source": [
    "# `NTILE(n)`"
   ]
  },
  {
   "cell_type": "markdown",
   "metadata": {},
   "source": [
    "- splits the data into n approximately equal pages (equal chunks)\n",
    "- Many APIs return data in \"pages\" to reduce data being sent\n",
    "- Separate data into quartiles\n",
    "- Distribute calculation complexity across many pages"
   ]
  },
  {
   "cell_type": "markdown",
   "metadata": {},
   "source": [
    "Example :\n",
    "```\n",
    "SELECT\n",
    "NTILE(3) OVER (ORDER BY col DESC) AS page_no\n",
    "FROM some_table;\n",
    "```"
   ]
  }
 ],
 "metadata": {
  "kernelspec": {
   "display_name": "Python 3.8.11 ('env_py')",
   "language": "python",
   "name": "python3"
  },
  "language_info": {
   "name": "python",
   "version": "3.8.11"
  },
  "orig_nbformat": 4,
  "vscode": {
   "interpreter": {
    "hash": "1e949e87132dd83f1a7623eb88007e3532b03b66b77111be347aa4a383049722"
   }
  }
 },
 "nbformat": 4,
 "nbformat_minor": 2
}
