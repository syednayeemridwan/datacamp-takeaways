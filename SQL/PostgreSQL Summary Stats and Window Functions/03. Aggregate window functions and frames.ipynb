{
 "cells": [
  {
   "cell_type": "markdown",
   "metadata": {},
   "source": [
    "# Aggregate with window functions"
   ]
  },
  {
   "cell_type": "markdown",
   "metadata": {},
   "source": [
    "- very much like normal aggregation but does not use the keyword `GROUP BY`\n",
    "- Instead use `OVER` keyword"
   ]
  },
  {
   "cell_type": "markdown",
   "metadata": {},
   "source": [
    "```\n",
    "SELECT col1, SUM(col2) OVER (PARTITION BY col3)\n",
    "FROM table_name;\n",
    "```"
   ]
  },
  {
   "cell_type": "markdown",
   "metadata": {},
   "source": [
    "# Frames"
   ]
  },
  {
   "cell_type": "markdown",
   "metadata": {},
   "source": [
    "- Defines the range of window functions\n",
    "- Changes behavior by specifying input range/rows\n",
    "- By default, a frame starts at the beginning of a table or partition and ends at the current row\n",
    "- Generally 2 types:\n",
    "    - `RANGE BETWEEN`\n",
    "    - `ROWS BETWEEN`"
   ]
  },
  {
   "cell_type": "markdown",
   "metadata": {},
   "source": [
    "# `ROWS BETWEEN`"
   ]
  },
  {
   "cell_type": "markdown",
   "metadata": {},
   "source": [
    "`ROWS BETWEEN [START] AND [FINISH]`\n",
    "\n",
    "Here `[START]` or `[FINISH]` can be replaced with:\n",
    "- `n PRECEDING` : n rows before the current row\n",
    "- `CURRENT ROW `: the current row\n",
    "- `n FOLLOWING `: n rows after the current row\n",
    "- `n` can also be `UNBOUNDED`"
   ]
  },
  {
   "cell_type": "markdown",
   "metadata": {},
   "source": [
    "example:\n",
    "\n",
    "```\n",
    "SELECT\n",
    "MAX(col1) OVER (ROWS BETWEEN 1 PRECEDING AND CURRENT ROW) AS max_till_now_col\n",
    "FROM some_table;\n",
    "```"
   ]
  },
  {
   "cell_type": "markdown",
   "metadata": {},
   "source": [
    "### Moving total "
   ]
  },
  {
   "cell_type": "markdown",
   "metadata": {},
   "source": [
    "```\n",
    "SELECT\n",
    "SUM(col) OVER (ORDER BY col2 ASC ROWS BETWEEN UNBOUNDED PRECEDING AND CURRENT ROW) AS moving_total_col\n",
    "FROM some_table;\n",
    "```"
   ]
  },
  {
   "cell_type": "markdown",
   "metadata": {},
   "source": [
    "### Moving average"
   ]
  },
  {
   "cell_type": "markdown",
   "metadata": {},
   "source": [
    "```\n",
    "SELECT\n",
    "AVG(col) OVER (ORDER BY col2 ASC ROWS BETWEEN UNBOUNDED PRECEDING AND CURRENT ROW) AS moving_total_col\n",
    "FROM some_table;\n",
    "```"
   ]
  },
  {
   "cell_type": "markdown",
   "metadata": {},
   "source": [
    "# `ROWS BETWEEN` vs `RANGE BETWEEN`"
   ]
  },
  {
   "cell_type": "markdown",
   "metadata": {},
   "source": [
    "- `ROWS BETWEEN` : Treats duplicate entries as individual entry (allow duplicates). This is used mostly.\n",
    "- `RANGE BETWEEN` : Treats duplicate entries as single entry (do not allow duplicates)"
   ]
  }
 ],
 "metadata": {
  "kernelspec": {
   "display_name": "Python 3.8.11 ('env_py')",
   "language": "python",
   "name": "python3"
  },
  "language_info": {
   "name": "python",
   "version": "3.8.11"
  },
  "orig_nbformat": 4,
  "vscode": {
   "interpreter": {
    "hash": "1e949e87132dd83f1a7623eb88007e3532b03b66b77111be347aa4a383049722"
   }
  }
 },
 "nbformat": 4,
 "nbformat_minor": 2
}
