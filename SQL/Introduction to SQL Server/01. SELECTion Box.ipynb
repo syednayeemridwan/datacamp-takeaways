{
 "cells": [
  {
   "cell_type": "markdown",
   "metadata": {},
   "source": [
    "# SQL Server"
   ]
  },
  {
   "cell_type": "markdown",
   "metadata": {},
   "source": [
    "- relational database system developed by Microsoft\n",
    "- Transact-SQL (T-SQL) - Microsoft's implementation of SQL, with additional functionality\n"
   ]
  },
  {
   "cell_type": "markdown",
   "metadata": {},
   "source": [
    "# Retrieve Data"
   ]
  },
  {
   "cell_type": "markdown",
   "metadata": {},
   "source": [
    "- `SELECT column_name1,column_name2  FROM table_name` : Retrieve specified columns from table\n",
    "- `SELECT column_name AS renamed_name  FROM table_name` : Rename output column name\n",
    "- `SELECT DISTINCT column_name1,column_name2  FROM table_name` : Retrieve unique values from specified columns of table\n",
    "- `SELECT *  FROM table_name` : Select all columns\n",
    "- `SELECT TOP(5) column_name1  FROM table_name` : Select the top 5 rows\n",
    "- `SELECT TOP(5) PERCENT column_name2  FROM table_name` : Select the top 5 percent of rows"
   ]
  },
  {
   "cell_type": "markdown",
   "metadata": {},
   "source": [
    "# Ordering"
   ]
  },
  {
   "cell_type": "markdown",
   "metadata": {},
   "source": [
    "- `SELECT * FROM table_name ORDER BY col1, col2 DES` : Order by `col1` ascending and `col2` in descending order"
   ]
  },
  {
   "cell_type": "markdown",
   "metadata": {},
   "source": [
    "# Filtering with WHERE"
   ]
  },
  {
   "cell_type": "markdown",
   "metadata": {},
   "source": [
    "- `SELECT col1 FROM invoice WHERE col3 > 15 ` : Only returns rows that satisfies the condition\n",
    "- For:\n",
    "    - Range, use `BETWEEN start_val AND end_val` or `NOT BETWEEN start_val AND end_val`\n",
    "    - Null, use `IS NULL` or `IS NOT NULL`\n",
    "    - Not equal, use `<>` operator\n",
    "- `SELECT col1 FROM invoice WHERE col3 > 15 AND col4 < 15 ` : Only returns rows that satisfies all the conditions\n",
    "- `SELECT col1 FROM invoice WHERE col3 = 15 OR col3 = 16 ` : Only returns rows that satisfies any of the conditions\n",
    "- Use parenthesis `()` when using `AND` or `OR` to explicitly maintain order\n",
    "- Remove multiple `OR` on same column with `IN`\n",
    "    - `SELECT col1 FROM invoice WHERE col3 IN (15,16) `\n",
    "- Matching with strings: \n",
    "    - `SELECT col1 FROM table_name WHERE col2 LIKE 'a%'`  : Returns rows if the string starts with `'a'`"
   ]
  }
 ],
 "metadata": {
  "kernelspec": {
   "display_name": "Python 3.8.11 ('env_py')",
   "language": "python",
   "name": "python3"
  },
  "language_info": {
   "name": "python",
   "version": "3.8.11"
  },
  "orig_nbformat": 4,
  "vscode": {
   "interpreter": {
    "hash": "1e949e87132dd83f1a7623eb88007e3532b03b66b77111be347aa4a383049722"
   }
  }
 },
 "nbformat": 4,
 "nbformat_minor": 2
}
