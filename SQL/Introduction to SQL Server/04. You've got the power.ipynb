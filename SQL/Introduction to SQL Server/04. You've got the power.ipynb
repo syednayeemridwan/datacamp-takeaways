{
 "cells": [
  {
   "cell_type": "markdown",
   "metadata": {},
   "source": [
    "# CRUD"
   ]
  },
  {
   "cell_type": "markdown",
   "metadata": {},
   "source": [
    "- Create : `CREATE` , `INSERT`\n",
    "- Read : `SELECT`\n",
    "- Update : `INSERT ... SET`\n",
    "- Delete : `DELETE` , `DROP`, `TRUNCATE`"
   ]
  },
  {
   "cell_type": "markdown",
   "metadata": {},
   "source": [
    "# CREATing Table"
   ]
  },
  {
   "cell_type": "markdown",
   "metadata": {},
   "source": [
    "```\n",
    "CREATE TABLE table_name(\n",
    "col_name1 type,\n",
    "col_name2 type,\n",
    "col_name3 type\n",
    ")\n",
    "```\n",
    "- Different types:\n",
    "    - Dates: \n",
    "        - `date` ( YYYY-MM-DD ), \n",
    "        - `datetime` ( YYYY-MM-DD hh:mm:ss )\n",
    "        - `time`\n",
    "    - Numeric:\n",
    "        - `integer`, \n",
    "        - `decimal`,\n",
    "        - `float`\n",
    "    - `bit` ( 1 = TRUE , 0 = FALSE . Also accepts NULL values)\n",
    "    - Strings:\n",
    "        - `char` ,\n",
    "        - `varchar` ,\n",
    "        - `nvarchar`"
   ]
  },
  {
   "cell_type": "markdown",
   "metadata": {},
   "source": [
    "# INSERTing INTO table"
   ]
  },
  {
   "cell_type": "markdown",
   "metadata": {},
   "source": [
    "```\n",
    "INSERT INTO table_name (col1, col2, col3)\n",
    "VALUES\n",
    "('value1', 'value2', value3)\n",
    "```"
   ]
  },
  {
   "cell_type": "markdown",
   "metadata": {},
   "source": [
    "# UPDATE"
   ]
  },
  {
   "cell_type": "markdown",
   "metadata": {},
   "source": [
    "```\n",
    "UPDATE table_name\n",
    "SET\n",
    "column1 = value1,\n",
    "column2 = value2\n",
    "```"
   ]
  },
  {
   "cell_type": "markdown",
   "metadata": {},
   "source": [
    "# DELETE"
   ]
  },
  {
   "cell_type": "markdown",
   "metadata": {},
   "source": [
    "- `DELETE FROM table_name` : Clearing records from table\n",
    "- `TRUNCATE TABLE table_name` : Clears the entire table at once\n",
    "- `DROP TABLE table_name` : Dropping the whole table"
   ]
  },
  {
   "cell_type": "markdown",
   "metadata": {},
   "source": [
    "# Declaring Variables"
   ]
  },
  {
   "cell_type": "markdown",
   "metadata": {},
   "source": [
    "```\n",
    "DECLARE @var_name VAR_TYPE\n",
    "SET @var_name = var_val\n",
    "\n",
    "\n",
    "SELECT --\n",
    "FROM --\n",
    "WHERE col = @var_name;\n",
    "```\n",
    "\n",
    "- Used to avoid repeatition"
   ]
  },
  {
   "cell_type": "markdown",
   "metadata": {},
   "source": [
    "# Storing Data INTO Temporary Table"
   ]
  },
  {
   "cell_type": "markdown",
   "metadata": {},
   "source": [
    "```\n",
    "SELECT\n",
    "col1,\n",
    "col2,\n",
    "col3 INTO #temp_table\n",
    "FROM existing_table\n",
    "```\n",
    "\n",
    "- `#temp_table` exists until connection or session ends\n",
    "- Or you can manually `DROP` it"
   ]
  },
  {
   "cell_type": "markdown",
   "metadata": {},
   "source": [
    "# TIPS"
   ]
  },
  {
   "cell_type": "markdown",
   "metadata": {},
   "source": [
    "- Use `WHERE` to subset before `UPDATE` and `DELETE`\n",
    "- `SELECT` to see the data you are goind to modify before applying `UPDATE` and `DELETE`"
   ]
  }
 ],
 "metadata": {
  "kernelspec": {
   "display_name": "Python 3.8.11 ('env_py')",
   "language": "python",
   "name": "python3"
  },
  "language_info": {
   "name": "python",
   "version": "3.8.11"
  },
  "orig_nbformat": 4,
  "vscode": {
   "interpreter": {
    "hash": "1e949e87132dd83f1a7623eb88007e3532b03b66b77111be347aa4a383049722"
   }
  }
 },
 "nbformat": 4,
 "nbformat_minor": 2
}
