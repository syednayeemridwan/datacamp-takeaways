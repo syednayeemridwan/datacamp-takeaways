{
 "cells": [
  {
   "cell_type": "markdown",
   "metadata": {},
   "source": [
    "# INNER JOIN"
   ]
  },
  {
   "cell_type": "markdown",
   "metadata": {},
   "source": [
    "```\n",
    "SELECT\n",
    "table_A.columnX,\n",
    "table_A.columnY,\n",
    "table_B.columnZ\n",
    "FROM table_A\n",
    "INNER JOIN table_B \n",
    "ON table_A.foreign_key = table_B.primary_key\n",
    "INNER JOIN table_C \n",
    "ON table_B.foreign_key = table_C.primary_key;\n",
    "```\n",
    "\n",
    "- Returns only rows that are commonly matched in all tables"
   ]
  },
  {
   "cell_type": "markdown",
   "metadata": {},
   "source": [
    "# LEFT JOIN"
   ]
  },
  {
   "cell_type": "markdown",
   "metadata": {},
   "source": [
    "```\n",
    "SELECT\n",
    "table_A.columnX,\n",
    "table_A.columnY,\n",
    "table_B.columnZ\n",
    "FROM table_A\n",
    "LEFT JOIN table_B \n",
    "ON table_A.foreign_key = table_B.primary_key;\n",
    "```\n",
    "\n",
    "- Returns only rows from `table_B` that are commonly matched\n",
    "- Keeps all rows from the LEFT table : `table_A`\n",
    "- The non-matched cells from `table_B` are Nulls"
   ]
  },
  {
   "cell_type": "markdown",
   "metadata": {},
   "source": [
    "# RIGHT JOIN\n"
   ]
  },
  {
   "cell_type": "markdown",
   "metadata": {},
   "source": [
    "```\n",
    "SELECT\n",
    "table_A.columnX,\n",
    "table_A.columnY,\n",
    "table_B.columnZ\n",
    "FROM table_A\n",
    "RIGHT JOIN table_B \n",
    "ON table_A.foreign_key = table_B.primary_key;\n",
    "```\n",
    "\n",
    "- Returns only rows from `table_A` that are commonly matched\n",
    "- Keeps all rows from the RIGHT table : `table_B`\n",
    "- The non-matched cells from `table_A` are Nulls\n",
    "- Same as `LEFT JOIN`, Just what table was on the `LEFT` is now on the `RIGHT`"
   ]
  },
  {
   "cell_type": "markdown",
   "metadata": {},
   "source": [
    "<center><img src=\"images/00.jpg\"  style=\"width: 400px, height: 300px;\"/></center>\n",
    "<center><img src=\"images/01.jpg\"  style=\"width: 400px, height: 300px;\"/></center>\n"
   ]
  },
  {
   "cell_type": "markdown",
   "metadata": {},
   "source": [
    "# UNION & UNION ALL"
   ]
  },
  {
   "cell_type": "markdown",
   "metadata": {},
   "source": [
    "```\n",
    "SELECT\n",
    "    col\n",
    "FROM table_1\n",
    "UNION <ALL>\n",
    "SELECT\n",
    "    col\n",
    "FROM table_2\n",
    "```\n",
    "\n",
    "- Stacks/Combines results from 2 queries from same or different tables\n",
    "- `UNION` does not keep duplicate values in the result\n",
    "- `UNION ALL` keeps duplicate values in the result\n",
    "- If source tables have different column names:\n",
    "    - Alias the column names\n",
    "- If combining data from different tables:\n",
    "    - Select the same number of columns in the same order\n",
    "    - Columns should have the same data types\n",
    "<center><img src=\"images/02.jpg\"  style=\"width: 400px, height: 300px;\"/></center>\n",
    "<center><img src=\"images/03.jpg\"  style=\"width: 400px, height: 300px;\"/></center>"
   ]
  },
  {
   "cell_type": "markdown",
   "metadata": {},
   "source": [
    "- ALL EXAMPLES ARE PROVIDED IN THE SLIDES"
   ]
  }
 ],
 "metadata": {
  "kernelspec": {
   "display_name": "Python 3.8.11 ('env_py')",
   "language": "python",
   "name": "python3"
  },
  "language_info": {
   "name": "python",
   "version": "3.8.11"
  },
  "orig_nbformat": 4,
  "vscode": {
   "interpreter": {
    "hash": "1e949e87132dd83f1a7623eb88007e3532b03b66b77111be347aa4a383049722"
   }
  }
 },
 "nbformat": 4,
 "nbformat_minor": 2
}
