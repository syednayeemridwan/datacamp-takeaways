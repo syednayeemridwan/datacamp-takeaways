{
 "cells": [
  {
   "cell_type": "markdown",
   "metadata": {},
   "source": [
    "# Aggregations"
   ]
  },
  {
   "cell_type": "markdown",
   "metadata": {},
   "source": [
    "- Sample code:\n",
    "```\n",
    "SELECT\n",
    "AGGFUNC(col) AS agged_col, nonagg_col\n",
    "FROM table_name\n",
    "GROUP BY nonagg_col\n",
    "HAVING AGGFUNC(col2) > 19;\n",
    "```\n",
    "- Non-aggregated columns must appear after `GROUP BY`\n",
    "- Filtering on aggregation will require `HAVING` instead of `WHERE`\n",
    "- orders: `WHERE .. GROUP BY ... HAVING`\n",
    "- `AGGFUNC` functions:\n",
    "    - `SUM()`\n",
    "    - `COUNT()`\n",
    "    - `MAX()`\n",
    "    - `MIN()`\n",
    "    - `AVG()`"
   ]
  },
  {
   "cell_type": "markdown",
   "metadata": {},
   "source": [
    "# Strings"
   ]
  },
  {
   "cell_type": "markdown",
   "metadata": {},
   "source": [
    "- `SELECT LEN(col) FROM table_name` : Find the length of strings in a column\n",
    "- `SELECT LEFT(col,3) FROM table_name` : Take 3 chars from the left\n",
    "- `SELECT RIGHT(col,3) FROM table_name` : Take 3 chars from the right\n",
    "- `SELECT CHARINDEX('_' ,col) FROM table_name` : Find the index of `_` character in the string\n",
    "- `SELECT REPLACE(COL, '_' ,'-') FROM table_name` : Replace `_` character with `-` character\n",
    "- `SELECT SUBSTRING(col,1,4) FROM table_name` : Take sub-string from index 1 with next 4 characters"
   ]
  }
 ],
 "metadata": {
  "kernelspec": {
   "display_name": "Python 3.8.11 ('env_py')",
   "language": "python",
   "name": "python3"
  },
  "language_info": {
   "name": "python",
   "version": "3.8.11"
  },
  "orig_nbformat": 4,
  "vscode": {
   "interpreter": {
    "hash": "1e949e87132dd83f1a7623eb88007e3532b03b66b77111be347aa4a383049722"
   }
  }
 },
 "nbformat": 4,
 "nbformat_minor": 2
}
