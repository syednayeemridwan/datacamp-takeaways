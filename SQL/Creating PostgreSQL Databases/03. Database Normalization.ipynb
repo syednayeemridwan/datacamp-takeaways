{
 "cells": [
  {
   "cell_type": "markdown",
   "metadata": {},
   "source": [
    "# Normalize data"
   ]
  },
  {
   "cell_type": "markdown",
   "metadata": {},
   "source": [
    "- To reduce data duplication\n",
    "- To increase data consistency\n",
    "- To improve data organization"
   ]
  },
  {
   "cell_type": "markdown",
   "metadata": {},
   "source": [
    "# Satisfying 1st Normal Form"
   ]
  },
  {
   "cell_type": "markdown",
   "metadata": {},
   "source": [
    "- Table values must be atomic:\n",
    "    - 1 cell contains 1 entry\n",
    "    - Entries are smaller units that cannot be divided any more\n",
    "\n",
    "\n",
    "- Resolves:\n",
    "    - Update errors : a constraint may say that course is unique. To enforce the constraint, it needs complex mechanism to make the entries unique in a single cell.\n",
    "    - Insertion errors : a constraint may say that course name length is limited. If there are multiple courses length may exceed the constraint.\n",
    "    - Deletion errors : If record is deleted, may be multiple entries are deleted  "
   ]
  },
  {
   "cell_type": "markdown",
   "metadata": {},
   "source": [
    "# Satisfying 2nd Normal Form"
   ]
  },
  {
   "cell_type": "markdown",
   "metadata": {},
   "source": [
    "- Requirements:\n",
    "    - 1NF is satisfied\n",
    "    - All non-key columns are dependent on the table's PRIMARY KEY\n",
    "\n",
    "- Resolves:\n",
    "    - Update errors : There might be duplicate records. So to update these records, all duplicate records must be updated. Failing to update all creates errors.\n",
    "    - Insertion errors : a constraint may say that null entries are not permitted. However, if a new column value is inserted with other column being null, insertion is not possible.\n",
    "    - Deletion errors : If one column value is deleted, the whole record is deleted. That may result into multiple column values being lost.  "
   ]
  },
  {
   "cell_type": "markdown",
   "metadata": {},
   "source": [
    "# Satisfying 3rd Normal Form"
   ]
  },
  {
   "cell_type": "markdown",
   "metadata": {},
   "source": [
    "- Requirements:\n",
    "    - 2NF is satisfied\n",
    "    - No transitive dependency. (No Column_A -> Column_B -> Column_C)\n",
    "    - Put New_Column -> Column_B -> Column_C into a different table and make Column_A -> foreign_Column\n",
    "\n",
    "- Resolves:\n",
    "    - Update errors : Updating multiple Column_C.\n",
    "    - Insertion errors : Inserting new Column_B.\n",
    "    - Deletion errors : Deleting all Column_A values for a Column_B also deletes Column_B's value.  "
   ]
  }
 ],
 "metadata": {
  "kernelspec": {
   "display_name": "Python 3.8.11 ('env_py')",
   "language": "python",
   "name": "python3"
  },
  "language_info": {
   "name": "python",
   "version": "3.8.11"
  },
  "orig_nbformat": 4,
  "vscode": {
   "interpreter": {
    "hash": "1e949e87132dd83f1a7623eb88007e3532b03b66b77111be347aa4a383049722"
   }
  }
 },
 "nbformat": 4,
 "nbformat_minor": 2
}
