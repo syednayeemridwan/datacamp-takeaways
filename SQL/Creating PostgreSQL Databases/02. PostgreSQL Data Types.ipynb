{
 "cells": [
  {
   "cell_type": "markdown",
   "metadata": {},
   "source": [
    "# Data categories in PostgreSQL"
   ]
  },
  {
   "cell_type": "markdown",
   "metadata": {},
   "source": [
    "- Text\n",
    "- Numeric\n",
    "- Temporal\n",
    "- Boolean\n",
    "- Others: Geometric, Binary, Monetary"
   ]
  },
  {
   "cell_type": "markdown",
   "metadata": {},
   "source": [
    "# Why Date?"
   ]
  },
  {
   "cell_type": "markdown",
   "metadata": {},
   "source": [
    "Birthdate of Cathy: May 3rd, 2006.\n",
    "\n",
    "Possible representations:\n",
    "- \"May 3, 2006\" (text)\n",
    "- \"5/3/2006\" (text)\n",
    "- 2006-05-03 (date). Most reasonable (less errorprone / easily convertible / data integrity)"
   ]
  },
  {
   "cell_type": "markdown",
   "metadata": {},
   "source": [
    "# Why Boolean?"
   ]
  },
  {
   "cell_type": "markdown",
   "metadata": {},
   "source": [
    "Did the student enroll in the class?\n",
    "\n",
    "Possible representations:\n",
    "- \"Yes\"/\"No\" (text)\n",
    "- \"Y\"/\"N\" (text)\n",
    "- 'true'/'false' (boolean). Most reasonable (less errorprone /  data integrity)\n",
    "- Specific types provide restriction on values"
   ]
  },
  {
   "cell_type": "markdown",
   "metadata": {},
   "source": [
    "# Why Numeric"
   ]
  },
  {
   "cell_type": "markdown",
   "metadata": {},
   "source": [
    "Mark flew 326 miles for client meeting\n",
    "\n",
    "Possible representations:\n",
    "- \"326 miles\" (text)\n",
    "- \"326\" (text)\n",
    "- 326 (numeric). Most reasonable (less errorprone / easily convertible / data integrity)"
   ]
  },
  {
   "cell_type": "markdown",
   "metadata": {},
   "source": [
    "# Using text data-types in PostgreSQL"
   ]
  },
  {
   "cell_type": "markdown",
   "metadata": {},
   "source": [
    "- TEXT :\n",
    "    - Strings of variable length\n",
    "    - Strings of unlimited length\n",
    "    - Strings of unknown length\n",
    "- VARCHAR(N):\n",
    "    - VARCHAR without N specified is equivalent to TEXT\n",
    "    - Strings of variable length up to N characters\n",
    "    - Restriction is be imposed (At most N characters)\n",
    "- CHAR(N):\n",
    "    - exactly N characters\n",
    "    - Strings are right-padded with spaces\n",
    "    - CHAR equivalent to CHAR(1)"
   ]
  },
  {
   "cell_type": "markdown",
   "metadata": {},
   "source": [
    "# Using numeric data-types in PostgreSQL"
   ]
  },
  {
   "cell_type": "markdown",
   "metadata": {},
   "source": [
    "- `SMALLINT` : small-range integer\n",
    "- `INTEGER` : normal-range integer\n",
    "- `BIGINT` : large-range integer\n",
    "- `SERIAL` : autoincrementing integer\n",
    "- `BIGSERIAL` : large autoincrementing integer\n",
    "- `DECIMAL` : user-specified precision for floating\n",
    "- `NUMERIC` : user-specified precision for floating\n",
    "- `REAL` : 6 decimal digits precision for floating\n",
    "- `DOUBLE PRECISION` : 15 decimal digits precision for floating"
   ]
  },
  {
   "cell_type": "markdown",
   "metadata": {},
   "source": [
    "# Using boolean data-types in PostgreSQL"
   ]
  },
  {
   "cell_type": "markdown",
   "metadata": {},
   "source": [
    "Three possible values:\n",
    "- true\n",
    "- false\n",
    "- NULL (unknown state)\n",
    "\n",
    "eg- `in_stock BOOL DEFAULT TRUE;`"
   ]
  },
  {
   "cell_type": "markdown",
   "metadata": {},
   "source": [
    "# Using temporal data-types in PostgreSQL"
   ]
  },
  {
   "cell_type": "markdown",
   "metadata": {},
   "source": [
    "- `TIMESTAMP` : date + time\n",
    "- `DATE` :  date\n",
    "- `TIME` : time"
   ]
  }
 ],
 "metadata": {
  "kernelspec": {
   "display_name": "Python 3.8.11 ('env_py')",
   "language": "python",
   "name": "python3"
  },
  "language_info": {
   "name": "python",
   "version": "3.8.11"
  },
  "orig_nbformat": 4,
  "vscode": {
   "interpreter": {
    "hash": "1e949e87132dd83f1a7623eb88007e3532b03b66b77111be347aa4a383049722"
   }
  }
 },
 "nbformat": 4,
 "nbformat_minor": 2
}
