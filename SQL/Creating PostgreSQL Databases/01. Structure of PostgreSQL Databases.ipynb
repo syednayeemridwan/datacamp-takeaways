{
 "cells": [
  {
   "cell_type": "markdown",
   "metadata": {},
   "source": [
    "# The PostgreSQL Database Management System"
   ]
  },
  {
   "cell_type": "markdown",
   "metadata": {},
   "source": [
    "- Follows ORM (Object Relational Mapping)\n",
    "- Components are objects\n",
    "- Database is top-level object"
   ]
  },
  {
   "cell_type": "markdown",
   "metadata": {},
   "source": [
    "# Creating Database"
   ]
  },
  {
   "cell_type": "markdown",
   "metadata": {},
   "source": [
    "- Cannot start with numbers\n",
    "- Must be within 31 characters\n",
    "- start with letters or _"
   ]
  },
  {
   "cell_type": "markdown",
   "metadata": {},
   "source": [
    "`CREATE DATABASE db_name;`"
   ]
  },
  {
   "cell_type": "markdown",
   "metadata": {},
   "source": [
    "# The database table"
   ]
  },
  {
   "cell_type": "markdown",
   "metadata": {},
   "source": [
    "- Varying number of rows\n",
    "- Fixed number of columns (structure can be altered)\n",
    "- Each Column has fixed data-type\n",
    "- Each row is a record"
   ]
  },
  {
   "cell_type": "markdown",
   "metadata": {},
   "source": [
    "# The CREATE TABLE command"
   ]
  },
  {
   "cell_type": "markdown",
   "metadata": {},
   "source": [
    "```\n",
    "CREATE TABLE table_name (\n",
    "column1_name column1_datatype [col1_constraints],\n",
    "column2_name column2_datatype [col2_constraints],\n",
    "...\n",
    "columnN_name columnN_datatype [references other_table(other_table_pk)] \n",
    ");\n",
    "```"
   ]
  },
  {
   "cell_type": "markdown",
   "metadata": {},
   "source": [
    "# Schema"
   ]
  },
  {
   "cell_type": "markdown",
   "metadata": {},
   "source": [
    "- Container for tables\n",
    "- Also contains different database objects like datatypes and functions\n",
    "- Provides different database users with separate environments so that they can work without conflict\n",
    "- Organizes database objects into related groups\n",
    "- `public` schema is default schema. By default newly created tables belong to the `public` schema\n",
    "- Access a table : `schema_name.table_name`\n",
    "- Length of name less than 32\n",
    "- Name begins with letter or _\n",
    "- Schema name cannot begin with \"pg_\"\n"
   ]
  },
  {
   "cell_type": "markdown",
   "metadata": {},
   "source": [
    "# Create Schema"
   ]
  },
  {
   "cell_type": "markdown",
   "metadata": {},
   "source": [
    "```\n",
    "CREATE SCHEMA schema_name;\n",
    "\n",
    "CREATE TABLE schema_name.table_name (\n",
    "id serial PRIMARY KEY,\n",
    "name TEXT NOT NULL,\n",
    "mascot_name TEXT,\n",
    "num_scholarships INTEGER DEFAULT 0\n",
    ");\n",
    "```"
   ]
  }
 ],
 "metadata": {
  "kernelspec": {
   "display_name": "Python 3.8.3 ('base')",
   "language": "python",
   "name": "python3"
  },
  "language_info": {
   "name": "python",
   "version": "3.8.3"
  },
  "orig_nbformat": 4,
  "vscode": {
   "interpreter": {
    "hash": "dc575bfddb5c8ca4bb6a4f4dcdd32abc104b5fa4177361381c432fff36ce3e46"
   }
  }
 },
 "nbformat": 4,
 "nbformat_minor": 2
}
