{
 "cells": [
  {
   "cell_type": "markdown",
   "metadata": {},
   "source": [
    "# Building Date from Parts"
   ]
  },
  {
   "cell_type": "markdown",
   "metadata": {},
   "source": [
    "- `DATEFROMPARTS(year, month, day)` \n",
    "    - Creating date from parts\n",
    "- `TIMEFROMPARTS(hour, minute, second, fraction, precision)`\n",
    "    - Creating time from parts\n",
    "- `DATETIMEFROMPARTS(year, month, day, hour, minute, second, ms)`\n",
    "    - Creating date-time from parts\n",
    "- `DATETIME2FROMPARTS(year, month, day, hour, minute, second, fraction, precision)`\n",
    "    - Creating date-time from parts\n",
    "- `SMALLDATETIMEFROMPARTS(year, month, day, hour, minute)`\n",
    "    - Creating date-time from parts\n",
    "- `DATETIMEOFFSETFROMPARTS(year, month, day, hour, minute, second, fraction, hour_offset, minute_offset, precision)`\n",
    "    - used to specify time-zone\n",
    "    - added with UTC time\n",
    "- Any `NULL` in any part will produce `null` result alltogether\n"
   ]
  },
  {
   "cell_type": "markdown",
   "metadata": {},
   "source": [
    "# Parsing strings"
   ]
  },
  {
   "cell_type": "markdown",
   "metadata": {},
   "source": [
    "- Parsing strings from other language\n",
    "- `SELECT PARSE('25 Dezember 2014' AS DATE USING 'de-de') AS Weihnachten;`\n",
    "- Very slow"
   ]
  },
  {
   "cell_type": "markdown",
   "metadata": {},
   "source": [
    "# Setting languages"
   ]
  },
  {
   "cell_type": "markdown",
   "metadata": {},
   "source": [
    "- start setting at the beginning\n",
    "- Change lanugage at your current session\n",
    "- example:\n",
    "```\n",
    "SET LANGUAGE 'FRENCH'\n",
    "\n",
    "SELECT .....\n",
    "```"
   ]
  },
  {
   "cell_type": "markdown",
   "metadata": {},
   "source": [
    "# DATETIMEOFFSET"
   ]
  },
  {
   "cell_type": "markdown",
   "metadata": {},
   "source": [
    "- Zone aware date data type\n",
    "- `DATETIME` format that is attached with timezone information\n",
    "- Contains 3 components:\n",
    "    1. Date\n",
    "    2. Time\n",
    "    3. UTC offset (UTC+6:00 for Dhaka)\n",
    "- Making a datetime `aware` of local timezone \n",
    "    - With `TODATETIMEOFFSET()`\n",
    "    - `SELECT TODATETIMEOFFSET(some_time_offset, '-04:00') AS EDT;`\n",
    "- See one timezone time to other timezone time\n",
    "    1. With `AT TIME ZONE 'time-zone'`\n",
    "        - `SELECT some_time_offset AT TIME ZONE 'UTC' AS UTC;` \n",
    "            - Represents how much the time value differs from `UTC`\n",
    "            - Use `datetimeoffset`  with `AT TIME ZONE `\n",
    "    2. With `SWITCHOFFSET()`\n",
    "        - `SELECT SWITCHOFFSET(some_time_offset, '-07:00') AS LATime`;\n"
   ]
  },
  {
   "cell_type": "markdown",
   "metadata": {},
   "source": [
    "# Error-safe date conversion functions"
   ]
  },
  {
   "cell_type": "markdown",
   "metadata": {},
   "source": [
    "- Normally these unsafe functions will return `ERROR`\n",
    "    - These functions will fail if even 1 value is not in required format.\n",
    "    - We can try to convert other values and make the erroreneous values `NULL`\n",
    "    - Attach `TRY_` with these functions to make it work\n",
    "- `CAST()` : Unsafe\n",
    "    - `TRY_CAST()` : Safe\n",
    "- `CONVERT()` : Unsafe\n",
    "    - `TRY_CONVERT()` : Safe\n",
    "- `PARSE()` : Unsafe\n",
    "    - `TRY_PARSE()` : Safe, Very very slow, not recommended though flexible"
   ]
  },
  {
   "cell_type": "markdown",
   "metadata": {},
   "source": [
    "# Calculating time to run a query"
   ]
  },
  {
   "cell_type": "markdown",
   "metadata": {},
   "source": [
    "```\n",
    "DECLARE @StartTimeConvert DATETIME2(7) = SYSUTCDATETIME();\n",
    "SELECT .....\n",
    "DECLARE @EndTimeConvert DATETIME2(7) = SYSUTCDATETIME();\n",
    "SELECT\n",
    "    DATEDIFF(SECOND, @StartTimeConvert, @EndTimeConvert) AS ExecutionTimeConvert;\n",
    "```"
   ]
  }
 ],
 "metadata": {
  "kernelspec": {
   "display_name": "Python 3.8.11 ('env_py')",
   "language": "python",
   "name": "python3"
  },
  "language_info": {
   "name": "python",
   "version": "3.8.11"
  },
  "orig_nbformat": 4,
  "vscode": {
   "interpreter": {
    "hash": "1e949e87132dd83f1a7623eb88007e3532b03b66b77111be347aa4a383049722"
   }
  }
 },
 "nbformat": 4,
 "nbformat_minor": 2
}
