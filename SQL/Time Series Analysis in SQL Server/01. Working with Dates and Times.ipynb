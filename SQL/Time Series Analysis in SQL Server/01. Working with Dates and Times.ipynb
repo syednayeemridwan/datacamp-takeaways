{
 "cells": [
  {
   "cell_type": "markdown",
   "metadata": {},
   "source": [
    "# Date-Time Data Types"
   ]
  },
  {
   "cell_type": "markdown",
   "metadata": {},
   "source": [
    "- Get `DATETIME` data type:\n",
    "    - `GETDATE()` : Gets date\n",
    "    - `GETUTCDATE()` : Gets date in UTC time\n",
    "    - example: ``SELECT GETDATE() AS DateTime_LTz, GETUTCDATE() AS DateTime_UTC;`\n",
    "- Get `DATETIME2` data type (more precise):\n",
    "    - `SYSDATETIME()()` : Gets date\n",
    "    - `SYSUTCDATETIME()()` : Gets date in UTC time\n",
    "    - example: ``SELECT SYSDATETIME() AS DateTime2_LTz, SYSUTCDATETIME() AS DateTime2_UTC;`"
   ]
  },
  {
   "cell_type": "markdown",
   "metadata": {},
   "source": [
    "# Breaking Down date"
   ]
  },
  {
   "cell_type": "markdown",
   "metadata": {},
   "source": [
    "- `SELECT YEAR(SomeDate)` : Get year from date_val;\n",
    "- `SELECT MONTH(SomeDate)` : Get month from date_val;\n",
    "- `SELECT DAY(SomeDate)` : Get day from date_val;\n",
    "- example:\n",
    "    ```\n",
    "    DECLARE\n",
    "    @SomeDate DATETIME2(3) = '2019-03-01 08:17:19.332';\n",
    "    SELECT YEAR(@SomeDate);\n",
    "    SELECT MONTH(@SomeDate);\n",
    "    SELECT DAY(@SomeDate);\n",
    "    ```\n",
    "- With `DATEPART()`: \n",
    "    - takes a part from a date in integer value\n",
    "    - `SELECT DATEPART(YEAR, @dt) AS TheYear;`\n",
    "- With `DATENAME()`: \n",
    "    - takes a part from a date in string value\n",
    "    - `SELECT DATENAME(YEAR, @dt) AS TheYear;`\n",
    "- Common Parts\n",
    "    - Year / Month / Day\n",
    "    - Day of year\n",
    "    - Day of week\n",
    "    - Week of year\n",
    "    - ISO week of year\n",
    "    - Minute / Second\n",
    "    - Millisecond / Nanosecond\n",
    "    - See more: https://docs.microsoft.com/en-us/sql/t-sql/functions/datepart-transact-sql"
   ]
  },
  {
   "cell_type": "markdown",
   "metadata": {},
   "source": [
    "# Calculations with Dates"
   ]
  },
  {
   "cell_type": "markdown",
   "metadata": {},
   "source": [
    "- With `DATEADD()`:\n",
    "    - Adds/Subtracts dates with given date\n",
    "    - `SELECT DATEADD(DAY, 1, @SomeTime) AS NextDay, DATEADD(DAY, -1, @SomeTime) AS PriorDay;`\n",
    "- With `DATEDIFF()`:\n",
    "    - Find differences between 2 dates in given units\n",
    "    - `SELECT DATEDIFF(SECOND, @StartTime, @EndTime) AS SecondsElapsed,`\n",
    "- Rounding :\n",
    "    - There is no built-in function for rounding\n",
    "    - Combine `DATEADD()` with `DATEDIFF()`\n",
    "    - example : `DATEADD(YEAR, DATEDIFF(YEAR, 0, '1914-08-16'), 0)`"
   ]
  },
  {
   "cell_type": "markdown",
   "metadata": {},
   "source": [
    "# Converting and Formatting Dates"
   ]
  },
  {
   "cell_type": "markdown",
   "metadata": {},
   "source": [
    "- `CAST()`:\n",
    "    - Casting one data type to another data type\n",
    "    - No control over formatting from dates to strings\n",
    "    - `SELECT CAST(@SomeDate AS NVARCHAR(30)) AS DateToString,`\n",
    "    - `SELECT CAST(@SomeString AS DATETIME2(3)) AS DateToString,`\n",
    "- `CONVERT()`:\n",
    "    - Specific function only to T-SQL\n",
    "    - Converting one format to another format of string    \n",
    "    - Second argument for casting\n",
    "    - Third argument for formatting string\n",
    "\n",
    "    - example:\n",
    "        ```\n",
    "        SELECT\n",
    "        CONVERT(NVARCHAR(30), @SomeDate, 0) AS DefaultForm,\n",
    "        CONVERT(NVARCHAR(30), @SomeDate, 1) AS US_mdy,\n",
    "        CONVERT(NVARCHAR(30), @SomeDate, 101) AS US_mdyyyy,\n",
    "        CONVERT(NVARCHAR(30), @SomeDate, 120) AS ODBC_sec;\n",
    "        ```\n",
    "<center><img src=\"images/01.06.jpg\"  style=\"width: 400px, height: 300px;\"/></center>\n",
    "\n",
    "- `FORMAT()`:\n",
    "    - More flexible than than either `CAST()` or `CONVERT()`\n",
    "    - Specific function only to T-SQL\n",
    "    - Can be slower as you process more rows\n",
    "    - Second argument for date part specification\n",
    "    - Third argument for specified language\n",
    "    - Uses the .NET framework for conversion and single threaded\n",
    "    - Not recommended for scaled data\n",
    "    - example:\n",
    "        ```\n",
    "        SELECT\n",
    "        FORMAT(@SomeDate, 'd', 'en-US') AS US_d,\n",
    "        FORMAT(@SomeDate, 'd', 'de-DE') AS DE_d,\n",
    "        FORMAT(@SomeDate, 'D', 'de-DE') AS DE_D,\n",
    "        FORMAT(@SomeDate, 'yyyy-MM-dd') AS yMd;\n",
    "        ```"
   ]
  },
  {
   "cell_type": "markdown",
   "metadata": {},
   "source": [
    "# Calender Table"
   ]
  },
  {
   "cell_type": "markdown",
   "metadata": {},
   "source": [
    "- Stores date information for easy retrieval\n",
    "- Make once and never update (Like a warehouse)\n",
    "- `SELECT * FROM dbo.Calendar;`\n",
    "- No need to re-invent the wheel, look for existing tables online.\n"
   ]
  },
  {
   "cell_type": "markdown",
   "metadata": {},
   "source": [
    "# Apply"
   ]
  },
  {
   "cell_type": "markdown",
   "metadata": {},
   "source": [
    "- Executes a function in each row of a result set\n",
    "- Works like a function and reduce repeatition\n",
    "- 2 queries connecting with `CROSS APPLY (<...repeated_query...>)`\n",
    "- example:\n",
    "```\n",
    "SELECT some_func.a, new_b = some_func.b+1, new_c = some_func.c+1 FROM some_table\n",
    "CROSS APPLY\n",
    "(\n",
    " SELECT a,b,c FROM some_table\n",
    ") some_func;\n",
    "```"
   ]
  }
 ],
 "metadata": {
  "kernelspec": {
   "display_name": "Python 3.8.11 ('env_py')",
   "language": "python",
   "name": "python3"
  },
  "language_info": {
   "name": "python",
   "version": "3.8.11"
  },
  "orig_nbformat": 4,
  "vscode": {
   "interpreter": {
    "hash": "1e949e87132dd83f1a7623eb88007e3532b03b66b77111be347aa4a383049722"
   }
  }
 },
 "nbformat": 4,
 "nbformat_minor": 2
}
