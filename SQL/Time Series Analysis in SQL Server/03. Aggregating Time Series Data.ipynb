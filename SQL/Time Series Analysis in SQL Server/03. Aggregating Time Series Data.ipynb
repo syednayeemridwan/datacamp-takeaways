{
 "cells": [
  {
   "cell_type": "markdown",
   "metadata": {},
   "source": [
    "# Aggregate functions"
   ]
  },
  {
   "cell_type": "markdown",
   "metadata": {},
   "source": [
    "- `COUNT(*)` : Count All rows\n",
    "- `COUNT(col)` : Count non-null entries in a col\n",
    "- `COUNT()` : Count integer\n",
    "- `COUNT_BIG()` : Count big integer\n",
    "- `COUNT(DISTINCT col)` : Count distinct values of a column \n",
    "- `SUM()` : Sum of the column values\n",
    "- `MIN()` : Min in a column\n",
    "- `MAX()` : Max in a column\n",
    "- `COUNT(NULLIF(col, 1990))` : Count all entries in a column even if a null exists\n",
    "- `AVG()` : mean of a column\n",
    "- `STDEV()` : standard deviation of a column\n",
    "- `STDEVP()` : population standard deviation of a column\n",
    "- `VAR()` : variance of a column\n",
    "- `VARP()` : population variance of a column\n",
    "- example: `SELECT non_agg_col, AGG_FUNC(col) FROM table_name GROUP BY non_agg_col`"
   ]
  },
  {
   "cell_type": "markdown",
   "metadata": {},
   "source": [
    "# Finding Median"
   ]
  },
  {
   "cell_type": "markdown",
   "metadata": {},
   "source": [
    "- With `PERCENTILE_CONT` keyword\n",
    "- Very costly\n",
    "```\n",
    "SELECT \n",
    "TOP(1) PERCENTILE_CONT(0.5) WITHIN GROUP (ORDER BY col DESC) OVER () AS MedianIncidents\n",
    "FROM some_table;\n",
    "```"
   ]
  },
  {
   "cell_type": "markdown",
   "metadata": {},
   "source": [
    "# Sampling"
   ]
  },
  {
   "cell_type": "markdown",
   "metadata": {},
   "source": [
    "- Normally we get data as it is\n",
    "- We can make it into particular granularity to make it in specific range\n",
    "    - Downsampling : Looking from a higher perspective (More details to less details)\n",
    "        - Converting from `datetime` to `date`\n",
    "        - example : rounding+\n",
    "        - `SELECT CAST(SomeDateTime AS DATE) AS SomeDate FROM dbo.SomeTable`\n",
    "    - Upsampling : Looking from a lower perspective (Less details to more details)\n",
    "        - Adding more details with `DATEADD()`\n",
    "<center><img src=\"images/03.08.jpg\"  style=\"width: 400px, height: 300px;\"/></center>\n"
   ]
  },
  {
   "cell_type": "markdown",
   "metadata": {},
   "source": [
    "# Different Grouping"
   ]
  },
  {
   "cell_type": "markdown",
   "metadata": {},
   "source": [
    "- `GROUP BY ... WITH ROLLUP`\n",
    "    - Shows all matching combination of aggregation\n",
    "    - Great for summary with hierarchical data\n",
    "- `GROUP BY ... WITH CUBE`\n",
    "    - Similar to `ROLLUP`\n",
    "    - Less messy, shows different perspective of summary of individual value\n",
    "    - works best with non-hierarchical data \n",
    "- `GROUP BY ... GROUPING SETS ((col1, col2),())`\n",
    "    - Controlled way of aggregation\n",
    "    - Shows only customized summary\n",
    "- SEE SLIDES FOR EXAMPLES"
   ]
  }
 ],
 "metadata": {
  "kernelspec": {
   "display_name": "Python 3.8.11 ('env_py')",
   "language": "python",
   "name": "python3"
  },
  "language_info": {
   "name": "python",
   "version": "3.8.11"
  },
  "orig_nbformat": 4,
  "vscode": {
   "interpreter": {
    "hash": "1e949e87132dd83f1a7623eb88007e3532b03b66b77111be347aa4a383049722"
   }
  }
 },
 "nbformat": 4,
 "nbformat_minor": 2
}
