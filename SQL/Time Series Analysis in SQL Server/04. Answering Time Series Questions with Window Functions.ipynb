{
 "cells": [
  {
   "cell_type": "markdown",
   "metadata": {},
   "source": [
    "# Using aggregation functions over windows"
   ]
  },
  {
   "cell_type": "markdown",
   "metadata": {},
   "source": [
    "- `ROW_NUMBER()` : \n",
    "    - show row number in ascending order in specified window\n",
    "- `RANK()` : \n",
    "    - show rank in ascending order specified window \n",
    "    - duplicate value have same rank\n",
    "    - Next to duplicate values show skipped values+1\n",
    "- `DENSE_RANK()` : \n",
    "    - show rank in ascending order specified window \n",
    "    - duplicate value have same rank\n",
    "    - Next to duplicate values show next value (no skipped value)\n",
    "- `LAG()` : \n",
    "    - push value down in a column in specified window. \n",
    "    - First value becomes `NULL`.\n",
    "- `LEAD()` : \n",
    "    - push value up in a column in specified window. \n",
    "    - Last value becomes `NULL`.\n",
    "- `PARTITION BY` resets row counts for individual partition value\n",
    "- `OVER()` : Empty window means the whole dataset\n",
    "- `ROWS_or_RANGE BETWEEN UNBOUNDED PRECEDING AND CURRENT ROW` : Means sliding window with respect to current row\n",
    "    - `UNBOUNDED` = Up to one end (first or last)\n",
    "    - `PRECEDING` = Before\n",
    "    - `CURRENT ROW` = this row\n",
    "    - `FOLLOWING` = After\n",
    "    - `ROWS` = one value at a time (Similar to nth entry of a list in python)\n",
    "    - `RANGE` = Can be multiple values at a time if they are duplicate values (Similar to all values in a sorted python list that meets a certain criteria of `value < the specified value`)\n",
    "- NOTE : WINDOW FUNCTIONS DO NOT NEED `GROUP BY` CLAUSE\n",
    "- example:\n",
    "\n",
    "```\n",
    "SELECT\n",
    "col1,\n",
    "col2,\n",
    "AGG_FUNC(col3) \n",
    "OVER (\n",
    "    <PARTITION BY col1>\n",
    "    <ORDER BY col2>\n",
    "    <ROWS_or_RANGE BETWEEN UNBOUNDED PRECEDING AND CURRENT ROW>\n",
    "    ) AS running_total,\n",
    "FROM some_tab;e;\n",
    "\n",
    "```\n",
    "\n",
    "<center><img src=\"images/04.04.jpg\"  style=\"width: 400px, height: 300px;\"/></center>\n"
   ]
  },
  {
   "cell_type": "markdown",
   "metadata": {},
   "source": [
    "- SEE SLIDES FOR EXAMPLES"
   ]
  },
  {
   "cell_type": "markdown",
   "metadata": {},
   "source": [
    "# Finding maximum levels of overlap"
   ]
  },
  {
   "cell_type": "markdown",
   "metadata": {},
   "source": [
    "- SEE SLIDES\n",
    "- MORE STRATEGY:\n",
    "    1. Create running total for entry count of customers in CTE1 with `ROW_NUMBER()`\n",
    "    2. Create running total for exit count of customers in CTE2 with `ROW_NUMBER()`\n",
    "    3. Join CTE1 and CTE2 on same timeframe with `INNER JOIN` (Those who enter also exit) in CTE3\n",
    "    4. Query on CTE3.exit_count - CTE3.entry_count to calculate concurrent visitor in a given time"
   ]
  }
 ],
 "metadata": {
  "kernelspec": {
   "display_name": "Python 3.8.11 ('env_py')",
   "language": "python",
   "name": "python3"
  },
  "language_info": {
   "name": "python",
   "version": "3.8.11"
  },
  "orig_nbformat": 4,
  "vscode": {
   "interpreter": {
    "hash": "1e949e87132dd83f1a7623eb88007e3532b03b66b77111be347aa4a383049722"
   }
  }
 },
 "nbformat": 4,
 "nbformat_minor": 2
}
