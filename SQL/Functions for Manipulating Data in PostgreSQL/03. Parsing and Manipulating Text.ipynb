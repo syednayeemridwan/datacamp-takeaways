{
 "cells": [
  {
   "cell_type": "markdown",
   "metadata": {},
   "source": [
    "# Concatenating Strings"
   ]
  },
  {
   "cell_type": "markdown",
   "metadata": {},
   "source": [
    "- `SELECT col1 || ' ' || col2 AS concat_col FROM table_name`\n",
    "- `SELECT CONCAT(col1,' ', col2) AS concat_col FROM table_name;`"
   ]
  },
  {
   "cell_type": "markdown",
   "metadata": {},
   "source": [
    "# Changing Case"
   ]
  },
  {
   "cell_type": "markdown",
   "metadata": {},
   "source": [
    "- To Upper Case : `SELECT UPPER(col) FROM table_name;`\n",
    "- To Lower Case : `SELECT LOWER(col) FROM table_name;`\n",
    "- To Title Case : `SELECT INITCAP(col) FROM table_name;`\n"
   ]
  },
  {
   "cell_type": "markdown",
   "metadata": {},
   "source": [
    "# Replace Characters"
   ]
  },
  {
   "cell_type": "markdown",
   "metadata": {},
   "source": [
    "- `SELECT REPLACE(col, 'string 1', 'string 2') AS col FROM table_name;`"
   ]
  },
  {
   "cell_type": "markdown",
   "metadata": {},
   "source": [
    "# Reverse Characters"
   ]
  },
  {
   "cell_type": "markdown",
   "metadata": {},
   "source": [
    "- `SELECT REVERSE(col) AS col FROM table_name;`"
   ]
  },
  {
   "cell_type": "markdown",
   "metadata": {},
   "source": [
    "# Length of a String"
   ]
  },
  {
   "cell_type": "markdown",
   "metadata": {},
   "source": [
    "- `SELECT CHAR_LENGTH(col) FROM table_name;`\n",
    "- `SELECT LENGTH(col) FROM table_name;`\n"
   ]
  },
  {
   "cell_type": "markdown",
   "metadata": {},
   "source": [
    "# Position of a character"
   ]
  },
  {
   "cell_type": "markdown",
   "metadata": {},
   "source": [
    "- `SELECT POSITION('@' in col_name) FROM table_name;`\n",
    "- `SELECT STRPOS(col_name, '@') FROM table_name;`\n"
   ]
  },
  {
   "cell_type": "markdown",
   "metadata": {},
   "source": [
    "# Substrings"
   ]
  },
  {
   "cell_type": "markdown",
   "metadata": {},
   "source": [
    "- `SELECT LEFT(col, 10) FROM table_name;`\n",
    "- `SELECT RIGHT(col, 10) FROM table_name;`\n",
    "- `SELECT SUBSTR(col, starting_index, length_of_substring) FROM table_name;`\n",
    "- `SELECT SUBSTRING(col, starting_index, length_of_substring) FROM table_name;`\n",
    "- `SELECT SUBSTRING(col FROM starting_index FOR length_of_substring) FROM table_name;`"
   ]
  },
  {
   "cell_type": "markdown",
   "metadata": {},
   "source": [
    "# Trimming"
   ]
  },
  {
   "cell_type": "markdown",
   "metadata": {},
   "source": [
    "- `TRIM([leading | trailing | both] [characters] from string)`\n",
    "- `SELECT TRIM(' padded ');` : Trim from both end\n",
    "- `SELECT LTRIM(' padded ');` : Trim from left\n",
    "- `SELECT RTRIM(' padded ');` : Trim from right"
   ]
  },
  {
   "cell_type": "markdown",
   "metadata": {},
   "source": [
    "# Padding"
   ]
  },
  {
   "cell_type": "markdown",
   "metadata": {},
   "source": [
    "- `SELECT LPAD('padded', positions, '#');` : Add padding from left, with positions filled with #\n",
    "- `SELECT RPAD('padded', positions, '#');` : Add padding from Right with positions filled with #"
   ]
  }
 ],
 "metadata": {
  "kernelspec": {
   "display_name": "Python 3.8.11 ('env_py')",
   "language": "python",
   "name": "python3"
  },
  "language_info": {
   "name": "python",
   "version": "3.8.11"
  },
  "orig_nbformat": 4,
  "vscode": {
   "interpreter": {
    "hash": "1e949e87132dd83f1a7623eb88007e3532b03b66b77111be347aa4a383049722"
   }
  }
 },
 "nbformat": 4,
 "nbformat_minor": 2
}
