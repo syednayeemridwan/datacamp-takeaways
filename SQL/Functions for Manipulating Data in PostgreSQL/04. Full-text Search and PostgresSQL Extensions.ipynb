{
 "cells": [
  {
   "cell_type": "markdown",
   "metadata": {},
   "source": [
    "# LIKE"
   ]
  },
  {
   "cell_type": "markdown",
   "metadata": {},
   "source": [
    "- `%` wildcard: Used to match zero or more characters.\n",
    "- `_` wildcard: Used to match exactly one character.\n",
    "- example:\n",
    "    - `SELECT title FROM film WHERE title LIKE 'ELF%';`"
   ]
  },
  {
   "cell_type": "markdown",
   "metadata": {},
   "source": [
    "# full-text search"
   ]
  },
  {
   "cell_type": "markdown",
   "metadata": {},
   "source": [
    "- means for performing natural language queries\n",
    "- Stemming\n",
    "- Spelling mistakes\n",
    "- Ranking\n",
    "- example:\n",
    "\n",
    "```\n",
    "SELECT *\n",
    "FROM table_name\n",
    "WHERE to_tsvector(col_name) @@ to_tsquery('pattern');\n",
    "```"
   ]
  },
  {
   "cell_type": "markdown",
   "metadata": {},
   "source": [
    "# tsvector"
   ]
  },
  {
   "cell_type": "markdown",
   "metadata": {},
   "source": [
    "- Vectorizes the text into lexemes / words\n",
    "- `SELECT to_tsvector(column) FROM table_name;`"
   ]
  },
  {
   "cell_type": "markdown",
   "metadata": {},
   "source": [
    "# User-defined data types"
   ]
  },
  {
   "cell_type": "markdown",
   "metadata": {},
   "source": [
    "```\n",
    "CREATE TYPE custom_type_name AS ENUM (\n",
    "'Monday',\n",
    "'Tuesday',\n",
    "'Wednesday',\n",
    "'Thursday',\n",
    "'Friday',\n",
    "'Saturday',\n",
    "'Sunday'\n",
    ");\n",
    "```"
   ]
  },
  {
   "cell_type": "markdown",
   "metadata": {},
   "source": [
    "# See all data types in the database"
   ]
  },
  {
   "cell_type": "markdown",
   "metadata": {},
   "source": [
    "- Way 1:\n",
    "\n",
    "```\n",
    "SELECT typname, typcategory\n",
    "FROM pg_type\n",
    "WHERE typname='custom_type_name';\n",
    "```\n",
    "- Way 2:\n",
    "\n",
    "```\n",
    "SELECT column_name, data_type, udt_name\n",
    "FROM INFORMATION_SCHEMA.COLUMNS\n",
    "WHERE table_name ='your_table_name';\n",
    "```"
   ]
  },
  {
   "cell_type": "markdown",
   "metadata": {},
   "source": [
    "\n",
    "# User-defined functions "
   ]
  },
  {
   "cell_type": "markdown",
   "metadata": {},
   "source": [
    "- Creating UDF:\n",
    "```\n",
    "CREATE FUNCTION func_name(param_name param_type) RETURNS return_type AS $$\n",
    "    BEGIN\n",
    "        RETURN param_name * param_name;\n",
    "    END;\n",
    "$$ LANGUAGE plpgsql;\n",
    "```\n",
    "\n",
    "- Calling UDF: `SELECT squared(10);`"
   ]
  },
  {
   "cell_type": "markdown",
   "metadata": {},
   "source": [
    "# PostGreSQL Extension"
   ]
  },
  {
   "cell_type": "markdown",
   "metadata": {},
   "source": [
    "- Commonly used extensions:\n",
    "    - PostGIS : Supports for location query\n",
    "    - PostPic : Allows image processing for database\n",
    "    - fuzzystrmatch : Full text search capabilities\n",
    "    - pg_trgm : Full text search capabilities\n",
    "- See all available extensions: `SELECT name FROM pg_available_extensions;`\n",
    "- See installed / enabled extensions: `SELECT extname FROM pg_extension;`\n",
    "- Enable extension: `CREATE EXTENSION IF NOT EXISTS fuzzystrmatch;`\n",
    "- Verify if extension is enabled : `SELECT extname FROM pg_extension;`"
   ]
  },
  {
   "cell_type": "markdown",
   "metadata": {},
   "source": [
    "# fuzzystrmatch Extension"
   ]
  },
  {
   "cell_type": "markdown",
   "metadata": {},
   "source": [
    "- Using `fuzzystrmatch` or fuzzy searching\n",
    "- `SELECT levenshtein('GUMBO', 'GAMBOL');`\n",
    "- Number of edits required for the strings to be of perfect match"
   ]
  },
  {
   "cell_type": "markdown",
   "metadata": {},
   "source": [
    "# pg_trgm Extension"
   ]
  },
  {
   "cell_type": "markdown",
   "metadata": {},
   "source": [
    "- Compare two strings with `pg_trgm`\n",
    "- `SELECT similarity('GUMBO', 'GAMBOL');`\n",
    "- How similar they are based on three consecutive matching\n",
    "- 0 means no match, 1 means perfect match"
   ]
  }
 ],
 "metadata": {
  "kernelspec": {
   "display_name": "Python 3.8.11 ('env_py')",
   "language": "python",
   "name": "python3"
  },
  "language_info": {
   "name": "python",
   "version": "3.8.11"
  },
  "orig_nbformat": 4,
  "vscode": {
   "interpreter": {
    "hash": "1e949e87132dd83f1a7623eb88007e3532b03b66b77111be347aa4a383049722"
   }
  }
 },
 "nbformat": 4,
 "nbformat_minor": 2
}
