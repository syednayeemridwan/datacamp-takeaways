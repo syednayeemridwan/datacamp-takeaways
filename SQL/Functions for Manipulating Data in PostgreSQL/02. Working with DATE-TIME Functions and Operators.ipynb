{
 "cells": [
  {
   "cell_type": "markdown",
   "metadata": {},
   "source": [
    "# Adding / Subtracting Date or Time"
   ]
  },
  {
   "cell_type": "markdown",
   "metadata": {},
   "source": [
    "- Return integer only:\n",
    "    - `SELECT date '2005-09-11' - date '2005-09-10';` \n",
    "- Adding date with integer:\n",
    "    - `SELECT date '2005-09-11' + integer '3';`\n",
    "- Return duration or interval:\n",
    "    - `SELECT date '2005-09-11 00:00:00' - date '2005-09-09 12:00:00';` (When added time with date)\n",
    "    - `SELECT AGE(timestamp '2005-09-11 00:00:00', timestamp '2005-09-09 12:00:00');` (When using timestamp with AGE)\n",
    "- With `INTERVAL` keyword : \n",
    "    - `SELECT timestamp '2019-05-01' + 21 * INTERVAL '1 day';`\n",
    "    - `SELECT INTERVAL '1' day * timestamp '2019-04-10 12:34:56'`\n"
   ]
  },
  {
   "cell_type": "markdown",
   "metadata": {},
   "source": [
    "# Retrieving current date/time"
   ]
  },
  {
   "cell_type": "markdown",
   "metadata": {},
   "source": [
    "- `SELECT NOW();`\n",
    "- `SELECT CURRENT_TIMESTAMP;` : analogous with `NOW()`\n",
    "- `SELECT CURRENT_TIMESTAMP(2);`\n",
    "- `SELECT CURRENT_DATE;`\n",
    "- `SELECT CURRENT_TIME;`\n",
    "- With casting : \n",
    "    - `SELECT NOW()::timestamp;`\n",
    "    - `SELECT CAST(NOW() as timestamp);` : Without timezone"
   ]
  },
  {
   "cell_type": "markdown",
   "metadata": {},
   "source": [
    "# Extracting and transforming date and time data"
   ]
  },
  {
   "cell_type": "markdown",
   "metadata": {},
   "source": [
    "- With `EXTRACT(field FROM column)`:\n",
    "    - `SELECT EXTRACT (quarter FROM timestamp '2005-01-24 05:12:00' ) AS quarter;`\n",
    "- With `DATE_PART(field, column)`:\n",
    "    - `SELECT DATE_PART('quarter', timestamp '2005-01-24 05:12:00') AS quarter;`\n",
    "- With `DATE_TRUNC(field, column)`:\n",
    "    - `SELECT DATE_TRUNC('year', TIMESTAMP '2005-05-21 15:30:30');`"
   ]
  }
 ],
 "metadata": {
  "kernelspec": {
   "display_name": "Python 3.8.11 ('env_py')",
   "language": "python",
   "name": "python3"
  },
  "language_info": {
   "name": "python",
   "version": "3.8.11"
  },
  "orig_nbformat": 4,
  "vscode": {
   "interpreter": {
    "hash": "1e949e87132dd83f1a7623eb88007e3532b03b66b77111be347aa4a383049722"
   }
  }
 },
 "nbformat": 4,
 "nbformat_minor": 2
}
