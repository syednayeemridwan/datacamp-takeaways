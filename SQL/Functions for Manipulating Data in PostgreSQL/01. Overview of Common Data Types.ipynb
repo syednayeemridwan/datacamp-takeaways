{
 "cells": [
  {
   "cell_type": "markdown",
   "metadata": {},
   "source": [
    "# Common data types\n"
   ]
  },
  {
   "cell_type": "markdown",
   "metadata": {},
   "source": [
    "- Text data types\n",
    "    - `CHAR` : Fixed number of characters\n",
    "    - `VARCHAR` : Varying number of characters\n",
    "    - `TEXT` : Any length of string\n",
    "- Numeric data types\n",
    "    - `INT` : Integers\n",
    "    - `DECIMAL` : Floating numbers with various precisions\n",
    "- time data types\n",
    "    - `DATE` : Date\n",
    "    - `TIME` : Time\n",
    "    - `TIMESTAMP` : Date and Time with microsecond precision in `ISO 8601 format: yyyy-mm-dd`\n",
    "    - `INTERVAL` : Duration, used to do arithmatic on date and time columns\n",
    "        - `SELECT date_col + INTERVAL '3 days' as new_date FROM table_name;`\n",
    "- Arrays"
   ]
  },
  {
   "cell_type": "markdown",
   "metadata": {},
   "source": [
    "# Information_Schema"
   ]
  },
  {
   "cell_type": "markdown",
   "metadata": {},
   "source": [
    "- System database\n",
    "- Stores information about all database objects\n",
    "- Includes, database names, table names, column names and data types etc\n",
    "- Helps to look up data types of columns of different tables"
   ]
  },
  {
   "cell_type": "markdown",
   "metadata": {},
   "source": [
    "```\n",
    "SELECT\n",
    "    column_name, data_type\n",
    "FROM\n",
    "    INFORMATION_SCHEMA.COLUMNS\n",
    "WHERE\n",
    "    column_name in ('title','description','special_features')\n",
    "AND\n",
    "    table_name='film';\n",
    "```"
   ]
  },
  {
   "cell_type": "markdown",
   "metadata": {},
   "source": [
    "# Creating Table"
   ]
  },
  {
   "cell_type": "markdown",
   "metadata": {},
   "source": [
    "```\n",
    "CREATE TABLE table_name (\n",
    "    first_column text,\n",
    "    second_column integer\n",
    ");\n",
    "```"
   ]
  },
  {
   "cell_type": "markdown",
   "metadata": {},
   "source": [
    "# Inserting Into Table"
   ]
  },
  {
   "cell_type": "markdown",
   "metadata": {},
   "source": [
    "```\n",
    "INSERT INTO \n",
    "    table_name (first_column, second_column) \n",
    "    VALUES ('text value', 12);\n",
    "```"
   ]
  },
  {
   "cell_type": "markdown",
   "metadata": {},
   "source": [
    "# Creating table with array column"
   ]
  },
  {
   "cell_type": "markdown",
   "metadata": {},
   "source": [
    "- Arrays in Postgres support 1-based indexing"
   ]
  },
  {
   "cell_type": "markdown",
   "metadata": {},
   "source": [
    "```\n",
    "CREATE TABLE table_name (\n",
    "    col1 int,\n",
    "    nested_arr_col text[][],\n",
    "    arr_col int[]\n",
    ");\n",
    "```"
   ]
  },
  {
   "cell_type": "markdown",
   "metadata": {},
   "source": [
    "# Inserting Into table with array column "
   ]
  },
  {
   "cell_type": "markdown",
   "metadata": {},
   "source": [
    "```\n",
    "INSERT INTO table_name\n",
    "VALUES (1,\n",
    "'{{\"work\",\"work1@datacamp.com\"},{\"other\",\"other1@datacamp.com\"}}',\n",
    "'{92,85,96,88}' );\n",
    "```"
   ]
  },
  {
   "cell_type": "markdown",
   "metadata": {},
   "source": [
    "# Querying Array Column"
   ]
  },
  {
   "cell_type": "markdown",
   "metadata": {},
   "source": [
    "- Arrays in Postgres support 1-based indexing"
   ]
  },
  {
   "cell_type": "markdown",
   "metadata": {},
   "source": [
    "```\n",
    "SELECT\n",
    "    nested_arr_col[1][1] AS type,\n",
    "    nested_arr_col[1][2] AS address,\n",
    "    arr_col[1],\n",
    "FROM grades;\n",
    "```"
   ]
  },
  {
   "cell_type": "markdown",
   "metadata": {},
   "source": [
    "# Any of array contains an element"
   ]
  },
  {
   "cell_type": "markdown",
   "metadata": {},
   "source": [
    "1. Where the value exists in any position of the array:\n",
    "    - `SELECT * FROM grades WHERE 'some_val' = ANY(nested_arr_col);`\n",
    "2. Where the array contains the value:\n",
    "    - `SELECT * FROM grades WHERE nested_arr_col @> ARRAY['some_val'];`\n"
   ]
  }
 ],
 "metadata": {
  "kernelspec": {
   "display_name": "Python 3.8.11 ('env_py')",
   "language": "python",
   "name": "python3"
  },
  "language_info": {
   "name": "python",
   "version": "3.8.11"
  },
  "orig_nbformat": 4,
  "vscode": {
   "interpreter": {
    "hash": "1e949e87132dd83f1a7623eb88007e3532b03b66b77111be347aa4a383049722"
   }
  }
 },
 "nbformat": 4,
 "nbformat_minor": 2
}
