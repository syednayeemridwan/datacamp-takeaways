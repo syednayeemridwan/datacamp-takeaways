{
 "cells": [
  {
   "cell_type": "markdown",
   "metadata": {},
   "source": [
    "# Query planner"
   ]
  },
  {
   "cell_type": "markdown",
   "metadata": {},
   "source": [
    "- Query : SQL instructions\n",
    "- Query (execution) plan : Actual steps\n",
    "- Queries are not processed in given order"
   ]
  },
  {
   "cell_type": "markdown",
   "metadata": {},
   "source": [
    "# Joins"
   ]
  },
  {
   "cell_type": "markdown",
   "metadata": {},
   "source": [
    "- Combines multiple tables\n",
    "- Inner and Outer"
   ]
  },
  {
   "cell_type": "markdown",
   "metadata": {},
   "source": [
    "# Inner joins"
   ]
  },
  {
   "cell_type": "markdown",
   "metadata": {},
   "source": [
    "- Intersection operation\n",
    "- Joins where columns match on both table\n",
    "- 2 Ways"
   ]
  },
  {
   "cell_type": "markdown",
   "metadata": {},
   "source": [
    "### 1st Way:"
   ]
  },
  {
   "cell_type": "markdown",
   "metadata": {},
   "source": [
    "```\n",
    "SELECT *\n",
    "FROM Table_A left\n",
    "INNER JOIN Table_B right\n",
    "ON left.some_col = right.some_col\n",
    "```"
   ]
  },
  {
   "cell_type": "markdown",
   "metadata": {},
   "source": [
    "### 2nd Way"
   ]
  },
  {
   "cell_type": "markdown",
   "metadata": {},
   "source": [
    "- Only returns 1 table\n",
    "- More efficient\n",
    "- Works when column name for join is of same name in both tables"
   ]
  },
  {
   "cell_type": "markdown",
   "metadata": {},
   "source": [
    "```\n",
    "SELECT *\n",
    "FROM Table_A left\n",
    "INNER JOIN Table_B right\n",
    "USING (some_col)\n",
    "```"
   ]
  },
  {
   "cell_type": "markdown",
   "metadata": {},
   "source": [
    "# Left outer join"
   ]
  },
  {
   "cell_type": "markdown",
   "metadata": {},
   "source": [
    "- Keeps everything from left table\n",
    "- Keeps only matching values from right table\n",
    "- If right table does not have match, then takes `NULL` value"
   ]
  },
  {
   "cell_type": "markdown",
   "metadata": {},
   "source": [
    "```\n",
    "SELECT *\n",
    "FROM Table_A left\n",
    "LEFT JOIN Table_B right\n",
    "ON left.some_col = right.some_col\n",
    "```"
   ]
  },
  {
   "cell_type": "markdown",
   "metadata": {},
   "source": [
    "# Right outer join"
   ]
  },
  {
   "cell_type": "markdown",
   "metadata": {},
   "source": [
    "- Keeps everything from right table\n",
    "- Keeps only matching values from left table\n",
    "- If left table does not have match, then takes `NULL` value"
   ]
  },
  {
   "cell_type": "markdown",
   "metadata": {},
   "source": [
    "```\n",
    "SELECT *\n",
    "FROM Table_A left\n",
    "RIGHT JOIN Table_B right\n",
    "ON left.some_col = right.some_col\n",
    "```"
   ]
  },
  {
   "cell_type": "markdown",
   "metadata": {},
   "source": [
    "# Full outer join"
   ]
  },
  {
   "cell_type": "markdown",
   "metadata": {},
   "source": [
    "- Keeps all records from both table\n",
    "- Put order constrains query planner unlike other joins\n",
    "- Slow process"
   ]
  },
  {
   "cell_type": "markdown",
   "metadata": {},
   "source": [
    "```\n",
    "SELECT *\n",
    "FROM Table_A left\n",
    "FULL OUTER JOIN Table_B right\n",
    "ON left.some_col = right.some_col\n",
    "```"
   ]
  },
  {
   "cell_type": "markdown",
   "metadata": {},
   "source": [
    "# Subqueries"
   ]
  },
  {
   "cell_type": "markdown",
   "metadata": {},
   "source": [
    "- A query inside another query\n",
    "- Join alternative\n",
    "- More readable\n",
    "- Returns single result (unlike joins)\n",
    "- SQL instructions similar to joins\n",
    "- Can be put inside `SELECT` and `WHERE` = analogous to joins\n",
    "- Can be put inside `FROM` (limits optimization capacity). Best re-written as joins."
   ]
  },
  {
   "cell_type": "markdown",
   "metadata": {},
   "source": [
    "## `SELECT` subquery"
   ]
  },
  {
   "cell_type": "markdown",
   "metadata": {},
   "source": [
    "- Inreases readability\n",
    "- analogous to joins\n",
    "- Returns single result (unlike joins)"
   ]
  },
  {
   "cell_type": "markdown",
   "metadata": {},
   "source": [
    "### Syntax"
   ]
  },
  {
   "cell_type": "markdown",
   "metadata": {},
   "source": [
    "```\n",
    "SELECT col, (<Subquery_for_table2>) as col2\n",
    "FROM table1\n",
    "```"
   ]
  },
  {
   "cell_type": "markdown",
   "metadata": {},
   "source": [
    "### Example"
   ]
  },
  {
   "cell_type": "markdown",
   "metadata": {},
   "source": [
    "```\n",
    "SELECT AVG(table1_col) AS avg_table1, (SELECT AVG(table2_col) FROM TABLE_2)\n",
    "AS avg_table2\n",
    "FROM TABLE_1\n",
    "```"
   ]
  },
  {
   "cell_type": "markdown",
   "metadata": {},
   "source": [
    "## `WHERE` subquery"
   ]
  },
  {
   "cell_type": "markdown",
   "metadata": {},
   "source": [
    "- Inreases readability\n",
    "- analogous to joins\n",
    "- Returns single result (unlike joins)"
   ]
  },
  {
   "cell_type": "markdown",
   "metadata": {},
   "source": [
    "### Syntax"
   ]
  },
  {
   "cell_type": "markdown",
   "metadata": {},
   "source": [
    "```\n",
    "SELECT col, col2\n",
    "FROM table1\n",
    "WHERE col3 IN (<Subquery_for_table2>)\n",
    "```"
   ]
  },
  {
   "cell_type": "markdown",
   "metadata": {},
   "source": [
    "### Example"
   ]
  },
  {
   "cell_type": "markdown",
   "metadata": {},
   "source": [
    "```\n",
    "SELECT AVG(col) AS avg_col\n",
    "FROM table1\n",
    "WHERE col2 IN\n",
    "(SELECT DISTINCT coln FROM table2)\n",
    "```"
   ]
  },
  {
   "cell_type": "markdown",
   "metadata": {},
   "source": [
    "## `FROM` subquery"
   ]
  },
  {
   "cell_type": "markdown",
   "metadata": {},
   "source": [
    "- Decreases readability\n",
    "- Best re-written as joins.\n",
    "- Limits query plan flexibility (limits optimization capacity)"
   ]
  },
  {
   "cell_type": "markdown",
   "metadata": {},
   "source": [
    "### Syntax\n"
   ]
  },
  {
   "cell_type": "markdown",
   "metadata": {},
   "source": [
    "```\n",
    "SELECT *\n",
    "FROM (<subquery>)\n",
    "```"
   ]
  },
  {
   "cell_type": "markdown",
   "metadata": {},
   "source": [
    "### Example\n"
   ]
  },
  {
   "cell_type": "markdown",
   "metadata": {},
   "source": [
    "```\n",
    "SELECT AVG(col) AS avg_col\n",
    "FROM (SELECT * FROM table1)\n",
    "```"
   ]
  },
  {
   "cell_type": "markdown",
   "metadata": {},
   "source": [
    "# About common table expressions (CTEs)"
   ]
  },
  {
   "cell_type": "markdown",
   "metadata": {},
   "source": [
    "- Standalone query with temporary results set\n",
    "- Join alternative\n",
    "- More readable\n",
    "- Returns single result (unlike joins)\n",
    "- Creates a temporary table (unlike subqueries)\n",
    "- uses `WITH` statement"
   ]
  },
  {
   "cell_type": "markdown",
   "metadata": {},
   "source": [
    "# CTE structure"
   ]
  },
  {
   "cell_type": "markdown",
   "metadata": {},
   "source": [
    "```\n",
    "WITH some_cte AS\n",
    "(\n",
    "SELECT matching_col,col_name FROM other_table\n",
    ")\n",
    "\n",
    "SELECT some_table.matching_col, COUNT(some_table.col1) AS count_col\n",
    "FROM some_table\n",
    "INNER JOIN some_cte\n",
    "ON some_table.matching_col = some_cte.matching_col\n",
    "GROUP BY some_table.word_length, some_cte.col_name\n",
    "```"
   ]
  },
  {
   "cell_type": "markdown",
   "metadata": {},
   "source": [
    "# Temporary tables"
   ]
  },
  {
   "cell_type": "markdown",
   "metadata": {},
   "source": [
    "- Short-lived table\n",
    "- Transient storage (eg- Memory and disk caches)\n",
    "- Available during Database session (temporarily tie db resources)\n",
    "- In a db session, they are available in multiple queries (unlike CTE/subquery that is only available for 1 query)\n",
    "- Available only to creator\n",
    "- Creating temp tables on a slow table makes it possible to do faster queries\n"
   ]
  },
  {
   "cell_type": "markdown",
   "metadata": {},
   "source": [
    "### Syntax"
   ]
  },
  {
   "cell_type": "markdown",
   "metadata": {},
   "source": [
    "`CREATE TEMP TABLE temp_table_name AS (<query>)`"
   ]
  },
  {
   "cell_type": "markdown",
   "metadata": {},
   "source": [
    "# Temporary table vs View"
   ]
  },
  {
   "cell_type": "markdown",
   "metadata": {},
   "source": [
    "- Temp table : \n",
    "    - Contains data\n",
    "    - Resources allocated temporarily during db session\n",
    "    - Runs once, keep the materialized view until session ends\n",
    "    - Efficient\n",
    "- View :\n",
    "    - contains query (contain the directions to data)   \n",
    "    - Resources not allocated, only query is stored in memory \n",
    "    - Runs query during each reference\n",
    "    - Inefficient"
   ]
  },
  {
   "cell_type": "markdown",
   "metadata": {},
   "source": [
    "# Analyze"
   ]
  },
  {
   "cell_type": "markdown",
   "metadata": {},
   "source": [
    "- Calculates records returned at different query points\n",
    "- Stores information inside `pg_statistics`\n",
    "- Estimates runtime\n",
    "- Improves query planner's ability to choose optimum execution plan "
   ]
  },
  {
   "cell_type": "markdown",
   "metadata": {},
   "source": [
    "# Temp table and Analyze"
   ]
  },
  {
   "cell_type": "markdown",
   "metadata": {},
   "source": [
    "```\n",
    "CREATE TEMP TABLE temp_table_name AS\n",
    "(SELECT * FROM some_table);\n",
    "\n",
    "ANALYZE temp_table_name;\n",
    "\n",
    "SELECT * FROM usa_holidays;\n",
    "```\n"
   ]
  }
 ],
 "metadata": {
  "kernelspec": {
   "display_name": "Python 3.8.11 ('env_py')",
   "language": "python",
   "name": "python3"
  },
  "language_info": {
   "name": "python",
   "version": "3.8.11"
  },
  "orig_nbformat": 4,
  "vscode": {
   "interpreter": {
    "hash": "1e949e87132dd83f1a7623eb88007e3532b03b66b77111be347aa4a383049722"
   }
  }
 },
 "nbformat": 4,
 "nbformat_minor": 2
}
