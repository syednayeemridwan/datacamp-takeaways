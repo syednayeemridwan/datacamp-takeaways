{
 "cells": [
  {
   "cell_type": "markdown",
   "metadata": {},
   "source": [
    "# Order of operations"
   ]
  },
  {
   "cell_type": "markdown",
   "metadata": {},
   "source": [
    "- Lexical (as written):\n",
    "    - x = 2 + (8 + 4) ÷ 2 = 14 ÷ 2 = 7\n",
    "- Logical (as executed)\n",
    "    - x = 2 + (8 + 4) ÷ 2 = 8\n"
   ]
  },
  {
   "cell_type": "markdown",
   "metadata": {},
   "source": [
    "# SQL logical order of operations"
   ]
  },
  {
   "cell_type": "markdown",
   "metadata": {},
   "source": [
    "With this knowledge, you can:\n",
    "- Debug\n",
    "- Know where to write more efficient queries\n",
    "- pun : From Which Group of Scours-Selection Did Order Limit expired"
   ]
  },
  {
   "cell_type": "markdown",
   "metadata": {},
   "source": [
    "1. `FROM`\n",
    "2. `WHERE`\n",
    "3. `GROUP BY`\n",
    "4. `SUM()`, `COUNT()`, etc\n",
    "5. `SELECT`\n",
    "6. `DISTINCT`\n",
    "7. `ORDER BY`\n",
    "8. `LIMIT`"
   ]
  },
  {
   "cell_type": "markdown",
   "metadata": {},
   "source": [
    "# Explain"
   ]
  },
  {
   "cell_type": "markdown",
   "metadata": {},
   "source": [
    "- See the ordered steps of execution plan\n",
    "- Syntax: `EXPLAIN (<Query>)`"
   ]
  },
  {
   "cell_type": "markdown",
   "metadata": {},
   "source": [
    "# Where to use Explain"
   ]
  },
  {
   "cell_type": "markdown",
   "metadata": {},
   "source": [
    "This shows 2 filters :\n",
    "```\n",
    "EXPLAIN\n",
    "SELECT * FROM phones WHERE country LIKE 'Ch%' OR country LIKE 'In%'\n",
    "```"
   ]
  },
  {
   "cell_type": "markdown",
   "metadata": {},
   "source": [
    "Improvement: this shows 1 filter :\n",
    "```\n",
    "EXPLAIN\n",
    "SELECT * FROM phones WHERE country LIKE ANY (ARRAY['Ch%','In%'])\n",
    "```"
   ]
  },
  {
   "cell_type": "markdown",
   "metadata": {},
   "source": [
    "# Best WHERE filters"
   ]
  },
  {
   "cell_type": "markdown",
   "metadata": {},
   "source": [
    "- `Numeric` is better than `Text`\n",
    "- `IN`,  `ANY (ARRAY[])` are better than `OR`"
   ]
  },
  {
   "cell_type": "markdown",
   "metadata": {},
   "source": [
    "# JOINs"
   ]
  },
  {
   "cell_type": "markdown",
   "metadata": {},
   "source": [
    "- Can be used for filtering\n",
    "- Inner joins limit data with join itself\n",
    "- Outer joins limit data with extra non-linking join condition with `AND` (keeps rows with `null` values) instead of using `WHERE` (does not keep rows with `null` values)\n",
    "- Outer Join + Where = Result like Inner Join\n",
    "- Outer Join + Where = Result like Inner Join\n",
    "- Inner Join + Where / And = Inner Join"
   ]
  },
  {
   "cell_type": "markdown",
   "metadata": {},
   "source": [
    "# Data granularity"
   ]
  },
  {
   "cell_type": "markdown",
   "metadata": {},
   "source": [
    "- Level of details of data\n",
    "- Makes a unique row \n",
    "- Consists of more than 1 column in general\n",
    "- There are different levels of granularity\n",
    "- take notes of granularity with repeats or duplicates\n",
    "- Minimum needed results\n",
    "- Double counting\n",
    "- Use CTEs in this case to increase query performance"
   ]
  },
  {
   "cell_type": "markdown",
   "metadata": {},
   "source": [
    "In short:\n",
    "- there are combinations of columns in a table that happens repeatedly\n",
    "- You need to identify those repeated combinations of columns and make CTE out of them\n",
    "- You need to join the CTE with the other queries"
   ]
  },
  {
   "cell_type": "markdown",
   "metadata": {},
   "source": [
    "```\n",
    "WITH granularity_cte AS\n",
    "( SELECT COUNT(col) as totals\n",
    "FROM some_table)\n",
    "\n",
    "SELECT t.id, cte.totals\n",
    "FROM another_table t\n",
    "INNER JOIN granularity_cte cte\n",
    "ON g.id = cte.game_id\n",
    "```"
   ]
  }
 ],
 "metadata": {
  "kernelspec": {
   "display_name": "Python 3.8.11 ('env_py')",
   "language": "python",
   "name": "python3"
  },
  "language_info": {
   "name": "python",
   "version": "3.8.11"
  },
  "orig_nbformat": 4,
  "vscode": {
   "interpreter": {
    "hash": "1e949e87132dd83f1a7623eb88007e3532b03b66b77111be347aa4a383049722"
   }
  }
 },
 "nbformat": 4,
 "nbformat_minor": 2
}
