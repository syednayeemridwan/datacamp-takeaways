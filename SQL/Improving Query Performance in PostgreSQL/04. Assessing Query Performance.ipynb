{
 "cells": [
  {
   "cell_type": "markdown",
   "metadata": {},
   "source": [
    "# Basic query lifecycle"
   ]
  },
  {
   "cell_type": "markdown",
   "metadata": {},
   "source": [
    "3 main parts:\n",
    "1. Parser:\n",
    "    - Front End : Send query to database\n",
    "    - Back End : Checks syntax, Checks rules, Translates SQL into machine readable code\n",
    "2. Planner & Optimizer:\n",
    "    - Front End : Assess and optimize query tasks\n",
    "    - Back End : Use database statistics to create query plan, Calculate costs to choose best plan\n",
    "3. Executor:\n",
    "    - Front End : Return query results\n",
    "    - Back End : Follows the optimized query plan to execute the query.\n"
   ]
  },
  {
   "cell_type": "markdown",
   "metadata": {},
   "source": [
    "# Query planner and optimizer"
   ]
  },
  {
   "cell_type": "markdown",
   "metadata": {},
   "source": [
    "- Generates plan trees\n",
    "- Nodes of trees corresponding to steps\n",
    "- Can be visualized with `EXPLAIN`\n",
    "- Statistics of costs of each tree are stored in `pg_tables` schema\n",
    "- By default, Time based optimization as cost metric\n",
    "- For planning cost estimates, query planner uses `pg_class` (for table level statistics) table and `pg_stats` (column level statistics) view:\n",
    "\n",
    "```\n",
    "SELECT * FROM pg_class\n",
    "WHERE relname = 'mytable'\n",
    "\n",
    "SELECT * FROM pg_stats\n",
    "WHERE tablename = 'mytable'\n",
    "```\n",
    "- Takes into account : Column indexes, Count null values, Column width, Distinct values"
   ]
  },
  {
   "cell_type": "markdown",
   "metadata": {},
   "source": [
    "# `EXPLAIN`"
   ]
  },
  {
   "cell_type": "markdown",
   "metadata": {},
   "source": [
    "- Window into query plan\n",
    "- Shows Steps and cost estimates\n",
    "- Does not run query\n",
    "- Syntax : `EXPLAIN (<Query>)`"
   ]
  },
  {
   "cell_type": "markdown",
   "metadata": {},
   "source": [
    "# Different Query Plan Steps"
   ]
  },
  {
   "cell_type": "markdown",
   "metadata": {},
   "source": [
    "- Compare costs on queries that return same output\n",
    "- Read from bottom to top\n",
    "- `Seq Scan` = scan of all the rows in table\n",
    "- First cost no = start up time\n",
    "- Second cost no = total time\n",
    "- Runtime = Total time - start up time \n",
    "- rows = no of rows query needs to examine in order to run\n",
    "- width = byte width of total rows\n",
    "- `WHERE` clause = Decrease rows to scan and increases total cost\n",
    "- `Index Cond` = scanning was done with index\n",
    "- `HashAggregate` = Aggregation / Grouping\n",
    "- `Sort` = ordering operation\n",
    "- `Hash` = records that awere scanned are loaded into hash or temprarily memory\n",
    "- `Hash Join` = Joining operation"
   ]
  },
  {
   "cell_type": "markdown",
   "metadata": {},
   "source": [
    "# EXPLAIN optional parameters"
   ]
  },
  {
   "cell_type": "markdown",
   "metadata": {},
   "source": [
    "### VERBOSE"
   ]
  },
  {
   "cell_type": "markdown",
   "metadata": {},
   "source": [
    "- Provides descriptive names : Shows table schema and aliases\n",
    "- Shows columns available at each node\n",
    "- Syntax : `EXPLAIN VERBOSE (<Query>)`"
   ]
  },
  {
   "cell_type": "markdown",
   "metadata": {},
   "source": [
    "### ANALYZE"
   ]
  },
  {
   "cell_type": "markdown",
   "metadata": {},
   "source": [
    "- Runs the query\n",
    "- Measures runtimes in milliseconds\n",
    "- Syntax : `EXPLAIN ANALYZE (<Query>)`\n"
   ]
  },
  {
   "cell_type": "markdown",
   "metadata": {},
   "source": [
    "# Some Query plan"
   ]
  },
  {
   "cell_type": "markdown",
   "metadata": {},
   "source": [
    "- Subqueries inside `SELECT` and `WHERE` clause are considered as JOINs\n",
    "- CTE and Temporary tables as equivalent (with minor naming differences)\n",
    "- Simplest way to limit data is to add filter conditions\n",
    "- Filtering on index columns results in faster search\n",
    "- Changing granularity with CTE results in faster execution time"
   ]
  }
 ],
 "metadata": {
  "kernelspec": {
   "display_name": "Python 3.8.11 ('env_py')",
   "language": "python",
   "name": "python3"
  },
  "language_info": {
   "name": "python",
   "version": "3.8.11"
  },
  "orig_nbformat": 4,
  "vscode": {
   "interpreter": {
    "hash": "1e949e87132dd83f1a7623eb88007e3532b03b66b77111be347aa4a383049722"
   }
  }
 },
 "nbformat": 4,
 "nbformat_minor": 2
}
