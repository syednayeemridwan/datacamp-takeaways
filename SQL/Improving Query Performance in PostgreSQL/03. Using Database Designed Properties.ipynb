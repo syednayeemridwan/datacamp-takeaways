{
 "cells": [
  {
   "cell_type": "markdown",
   "metadata": {},
   "source": [
    "# Different Tables and Views"
   ]
  },
  {
   "cell_type": "markdown",
   "metadata": {},
   "source": [
    "- Base table :\n",
    "    - Organized storage\n",
    "    - Contains Data\n",
    "    - Loaded with ETL process from physical storage\n",
    "    - Sources are programs and systems\n",
    "    - Used for base storage\n",
    "\n",
    "- Temporary table :\n",
    "    - Organized storage\n",
    "    - Contains Data\n",
    "    - Loaded from QUERY process from transient memory\n",
    "    - Sources are base tables\n",
    "    - Used for speeding up query in large table\n",
    "\n",
    "- Standard View :\n",
    "    - Stored query\n",
    "    - Contains direction of Data\n",
    "    - Never Loaded ( QUERY exists in memory )\n",
    "    - Sources are base tables\n",
    "    - Used for complex calculations\n",
    "\n",
    "- Materialized view :\n",
    "    - Stored query\n",
    "    - Contains Data\n",
    "    - Loads when refreshed \n",
    "    - Sources are base tables\n",
    "    - Used for complex calculations that take too much resources and slows performance\n"
   ]
  },
  {
   "cell_type": "markdown",
   "metadata": {},
   "source": [
    "# Information schema"
   ]
  },
  {
   "cell_type": "markdown",
   "metadata": {},
   "source": [
    "Provides metadata about database.\n",
    "- `BASE TABLE` : base table\n",
    "- `LOCAL TEMPORARY` : temporary table\n",
    "- `VIEW` : view or materialized view"
   ]
  },
  {
   "cell_type": "markdown",
   "metadata": {},
   "source": [
    "# Database storage types"
   ]
  },
  {
   "cell_type": "markdown",
   "metadata": {},
   "source": [
    "- Row oriented storage:\n",
    "    - 1 record = 1 row for all columns = 1 tuple\n",
    "    - Relation between columns\n",
    "    - Relational Database like PostGreSQL\n",
    "    - Transaction focus\n",
    "    - Write Intensive\n",
    "    - eg: Student information table\n",
    "    - 1 row stored in same location\n",
    "    - Fast to append / delete whole records\n",
    "    - 1 column info return time = all column info return time \n",
    "    - Fast to perform row operations\n",
    "    - returning all rows is slow\n",
    "    - Row aggregations\n",
    "    - Reduce / Improve performance tweaking with : `WHERE` , `INNER JOIN` , `DISTINCT` , `LIMIT`\n",
    "    - Example query : `SELECT * FROM some_table WHERE col = 'val' ORDER BY col2`\n",
    "- Column-oriented storage:\n",
    "    - 1 record = all rows for 1 column \n",
    "    - Relation between rows\n",
    "    - NoSQL Database like Cassandra or Amazon Redshift\n",
    "    - Analysis focus\n",
    "    - Read Intensive\n",
    "    - eg: Table of all zoo animal names\n",
    "    - 1 column stored in same location\n",
    "    - Fast to append / delete whole columns\n",
    "    - 1 row info return time = all row info return time \n",
    "    - Fast to perform column operations / calculations\n",
    "    - returning all columns is slow\n",
    "    - Column aggregations\n",
    "    - Improve performance by : \n",
    "        - Use `SELECT *` sparingly\n",
    "        - Use the `information_schema.columns` to explore data :\n",
    "         ```\n",
    "         SELECT column_name, data_type FROM information_schema.columns\n",
    "         WHERE table_catalog = 'schama_name' AND table_name = 'some_table'\n",
    "         \n",
    "         ```\n",
    "    - Example query : `SELECT MIN(col), MAX(col) FROM some_table WHERE col2 = 'val'`"
   ]
  },
  {
   "cell_type": "markdown",
   "metadata": {},
   "source": [
    "# Database Optimization for Row-Oriented Database"
   ]
  },
  {
   "cell_type": "markdown",
   "metadata": {},
   "source": [
    "- Requires set-up and maintenance \n",
    "- Any combination of columns can form partition or indexes. Only known to database administrator or by documentation"
   ]
  },
  {
   "cell_type": "markdown",
   "metadata": {},
   "source": [
    "2 ways :\n",
    "- Partitions :\n",
    "    - Method of splitting one table into many smaller tables\n",
    "    - Storage flexibilty (stored across multiple machines)\n",
    "    - Faster queries [to use specific machine and locate then partition when using]\n",
    "    - common filter conditions / columns : Date, locations \n",
    "- Indexes : \n",
    "    - Method of creating sorted column keys to improve search\n",
    "    - Referene to Data Location. Referencing flexibility (pointers)\n",
    "    - Faster queries [on tables that are slow to query]\n",
    "    - Common filter columns : Primary Key"
   ]
  },
  {
   "cell_type": "markdown",
   "metadata": {},
   "source": [
    "# Partition structure"
   ]
  },
  {
   "cell_type": "markdown",
   "metadata": {},
   "source": [
    "- Parent table :\n",
    "    - Visible in database front end\n",
    "    - Write queries here (input records)\n",
    "\n",
    "- Children tables (centered around a partition column/s):\n",
    "    - Not visible in database front end\n",
    "    - Queries search here (read records)\n",
    "\n",
    "    "
   ]
  },
  {
   "cell_type": "markdown",
   "metadata": {},
   "source": [
    "# Partition query assessment"
   ]
  },
  {
   "cell_type": "markdown",
   "metadata": {},
   "source": [
    "```\n",
    "EXPLAIN\n",
    "SELECT some_col\n",
    "FROM partition_parent_table\n",
    "WHERE partition_col = 'Africa'\n",
    "```"
   ]
  },
  {
   "cell_type": "markdown",
   "metadata": {},
   "source": [
    "# Finding existing indexes"
   ]
  },
  {
   "cell_type": "markdown",
   "metadata": {},
   "source": [
    "- See `PG_TABLES` schema \n",
    "- See `pg_indexes` view\n",
    "- Metadata about database"
   ]
  },
  {
   "cell_type": "markdown",
   "metadata": {},
   "source": [
    "`SELECT * FROM pg_indexes`"
   ]
  },
  {
   "cell_type": "markdown",
   "metadata": {},
   "source": [
    "# Creating Indexes"
   ]
  },
  {
   "cell_type": "markdown",
   "metadata": {},
   "source": [
    "```\n",
    "CREATE INDEX index_name\n",
    "ON table_name (col_name);\n",
    "```"
   ]
  },
  {
   "cell_type": "markdown",
   "metadata": {},
   "source": [
    "- Use `CONCURRENTLY` to prevent the table being locked when index is being created"
   ]
  },
  {
   "cell_type": "markdown",
   "metadata": {},
   "source": [
    "```\n",
    "CREATE INDEX CONCURRENTLY index_name\n",
    "ON table_name (col_name1, col_name2);\n",
    "```"
   ]
  },
  {
   "cell_type": "markdown",
   "metadata": {},
   "source": [
    "# Where not to use index"
   ]
  },
  {
   "cell_type": "markdown",
   "metadata": {},
   "source": [
    "- Small tables\n",
    "- Columns with many nulls\n",
    "- Frequently updated tables:\n",
    "    - Index will be fragmented (needs re-indexing: an additional step)\n",
    "    - Write data twice : into the table, into the index"
   ]
  }
 ],
 "metadata": {
  "kernelspec": {
   "display_name": "Python 3.8.11 ('env_py')",
   "language": "python",
   "name": "python3"
  },
  "language_info": {
   "name": "python",
   "version": "3.8.11"
  },
  "orig_nbformat": 4,
  "vscode": {
   "interpreter": {
    "hash": "1e949e87132dd83f1a7623eb88007e3532b03b66b77111be347aa4a383049722"
   }
  }
 },
 "nbformat": 4,
 "nbformat_minor": 2
}
