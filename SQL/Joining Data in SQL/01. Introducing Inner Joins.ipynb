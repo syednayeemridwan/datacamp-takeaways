{
 "cells": [
  {
   "cell_type": "markdown",
   "metadata": {},
   "source": [
    "# INNER JOIN"
   ]
  },
  {
   "cell_type": "markdown",
   "metadata": {},
   "source": [
    "- Returns only data that are available in both tables\n",
    "- Like an intersection operation between 2 tables"
   ]
  },
  {
   "cell_type": "markdown",
   "metadata": {},
   "source": [
    "```\n",
    "SELECT *\n",
    "FROM left_table l\n",
    "INNER JOIN right_table r\n",
    "ON l.some_key = r.some_key;\n",
    "```"
   ]
  },
  {
   "cell_type": "markdown",
   "metadata": {},
   "source": [
    "If they are joined on a column that has same name in both table, we can use `USING`:\n",
    "\n",
    "```\n",
    "SELECT *\n",
    "FROM left_table l\n",
    "INNER JOIN right_table r\n",
    "USING(some_key);\n",
    "```"
   ]
  },
  {
   "cell_type": "markdown",
   "metadata": {},
   "source": [
    "# One-to-many relationships"
   ]
  },
  {
   "cell_type": "markdown",
   "metadata": {},
   "source": [
    "- 1 value from 1 table can map with many value with other table\n",
    "- example: 1 `author_id` from `Author` table can map to many `author_id` in `Book` tabke"
   ]
  },
  {
   "cell_type": "markdown",
   "metadata": {},
   "source": [
    "# One-to-one relationships"
   ]
  },
  {
   "cell_type": "markdown",
   "metadata": {},
   "source": [
    "- 1 value from 1 table can only map with 1 value with other table\n",
    "- example: 1 `student_id` from `Student` table can map to at most 1 `national_id` in `NID` table"
   ]
  },
  {
   "cell_type": "markdown",
   "metadata": {},
   "source": [
    "# Many-to-many relationships"
   ]
  },
  {
   "cell_type": "markdown",
   "metadata": {},
   "source": [
    "- all values from 1 table can map up to all values with other table. \n",
    "- There is an intermediate table for mapping\n",
    "- example: 1 `teacher_id` from `Teacher` table can map to many `university_id` in `University` table. Similarly, 1 university can have many teachers.\n"
   ]
  },
  {
   "cell_type": "markdown",
   "metadata": {},
   "source": [
    "# Multiple joins"
   ]
  },
  {
   "cell_type": "markdown",
   "metadata": {},
   "source": [
    "```\n",
    "SELECT *\n",
    "FROM left_table\n",
    "INNER JOIN right_table\n",
    "ON left_table.id = right_table.id\n",
    "INNER JOIN another_table\n",
    "ON left_table.id = another_table.id;\n",
    "```"
   ]
  }
 ],
 "metadata": {
  "kernelspec": {
   "display_name": "Python 3.8.11 ('env_py')",
   "language": "python",
   "name": "python3"
  },
  "language_info": {
   "name": "python",
   "version": "3.8.11"
  },
  "orig_nbformat": 4,
  "vscode": {
   "interpreter": {
    "hash": "1e949e87132dd83f1a7623eb88007e3532b03b66b77111be347aa4a383049722"
   }
  }
 },
 "nbformat": 4,
 "nbformat_minor": 2
}
