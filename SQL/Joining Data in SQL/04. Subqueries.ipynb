{
 "cells": [
  {
   "cell_type": "markdown",
   "metadata": {},
   "source": [
    "# Additive Joins"
   ]
  },
  {
   "cell_type": "markdown",
   "metadata": {},
   "source": [
    "- Joins where columns with different names are added in the result after the join\n",
    "- The result table may contain multiple columns with same name\n",
    "- eg : INNER JOIN"
   ]
  },
  {
   "cell_type": "markdown",
   "metadata": {},
   "source": [
    "# Semi join"
   ]
  },
  {
   "cell_type": "markdown",
   "metadata": {},
   "source": [
    "It returns records from the left table where certain condition in left table is fulfilled in some column of the right table  "
   ]
  },
  {
   "cell_type": "markdown",
   "metadata": {},
   "source": [
    "<img src=\"01.jpg\" style=\"width:800px;height:500px;\">"
   ]
  },
  {
   "cell_type": "markdown",
   "metadata": {},
   "source": [
    "example:\n",
    "\n",
    "```\n",
    "SELECT *\n",
    "FROM left_table\n",
    "WHERE condition_col IN\n",
    "(SELECT single_col\n",
    "FROM right_table);\n",
    "```"
   ]
  },
  {
   "cell_type": "markdown",
   "metadata": {},
   "source": [
    "# Anti Join"
   ]
  },
  {
   "cell_type": "markdown",
   "metadata": {},
   "source": [
    "It returns records from the left table where certain condition in left table is not fulfilled in some column of the right table  "
   ]
  },
  {
   "cell_type": "markdown",
   "metadata": {},
   "source": [
    "<img src=\"02.jpg\" style=\"width:800px;height:500px;\">\n"
   ]
  },
  {
   "cell_type": "markdown",
   "metadata": {},
   "source": [
    "example:\n",
    "\n",
    "```\n",
    "SELECT *\n",
    "FROM left_table\n",
    "WHERE condition_col NOT IN\n",
    "(SELECT single_col\n",
    "FROM right_table);\n",
    "```"
   ]
  },
  {
   "cell_type": "markdown",
   "metadata": {},
   "source": [
    "# Subqueries inside WHERE"
   ]
  },
  {
   "cell_type": "markdown",
   "metadata": {},
   "source": [
    "```\n",
    "SELECT *\n",
    "FROM some_table\n",
    "WHERE some_field IN\n",
    "(SELECT some_field\n",
    "FROM another_table\n",
    "WHERE field2 = some_condition);\n",
    "```"
   ]
  },
  {
   "cell_type": "markdown",
   "metadata": {},
   "source": [
    "# Subqueries inside SELECT"
   ]
  },
  {
   "cell_type": "markdown",
   "metadata": {},
   "source": [
    "- Remember scoping. Put different table names in the WHERE condition inside the enclosed (table_2) subquery "
   ]
  },
  {
   "cell_type": "markdown",
   "metadata": {},
   "source": [
    "```\n",
    "SELECT DISTINCT continent,\n",
    "(SELECT table2col\n",
    "FROM table_2\n",
    "WHERE table_1.tid_1 = table_2.tid_2) AS table2col\n",
    "FROM table_1;\n",
    "```"
   ]
  },
  {
   "cell_type": "markdown",
   "metadata": {},
   "source": [
    "# Subqueries inside FROM"
   ]
  },
  {
   "cell_type": "markdown",
   "metadata": {},
   "source": [
    "- Subqueries inside FROM can help us select columns from multiple tables in a single query."
   ]
  },
  {
   "cell_type": "markdown",
   "metadata": {},
   "source": [
    "```\n",
    "SELECT table_1.xcol, temp_table.ycol \n",
    "FROM table_1,\n",
    "(SELECT * FROM table_2) AS temp_table\n",
    "WHERE table_1.some_col = temp_table.some_col\n",
    "ORDER BY some_col;\n",
    "```"
   ]
  }
 ],
 "metadata": {
  "kernelspec": {
   "display_name": "Python 3.8.11 ('env_py')",
   "language": "python",
   "name": "python3"
  },
  "language_info": {
   "name": "python",
   "version": "3.8.11"
  },
  "orig_nbformat": 4,
  "vscode": {
   "interpreter": {
    "hash": "1e949e87132dd83f1a7623eb88007e3532b03b66b77111be347aa4a383049722"
   }
  }
 },
 "nbformat": 4,
 "nbformat_minor": 2
}
