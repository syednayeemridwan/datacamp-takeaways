{
 "cells": [
  {
   "cell_type": "markdown",
   "metadata": {},
   "source": [
    "# Set operations"
   ]
  },
  {
   "cell_type": "markdown",
   "metadata": {},
   "source": [
    "- Number of columns must be identical\n",
    "- Data types of columns must be identical\n",
    "- Resulting Column names are picked from first `SELECT` statement\n",
    "- Syntax: `(<Query>) <set_operation> (<Query>) `"
   ]
  },
  {
   "cell_type": "markdown",
   "metadata": {},
   "source": [
    "# `UNION`"
   ]
  },
  {
   "cell_type": "markdown",
   "metadata": {},
   "source": [
    "- Returns all records from both tables\n",
    "- Stack columns on top of one-another\n",
    "- DOES NOT RETURN  duplicates\n",
    "- Syntax:\n",
    "```\n",
    "SELECT *\n",
    "FROM left_table\n",
    "UNION\n",
    "SELECT *\n",
    "FROM right_table;\n",
    "```\n"
   ]
  },
  {
   "cell_type": "markdown",
   "metadata": {},
   "source": [
    "# `UNION ALL`"
   ]
  },
  {
   "cell_type": "markdown",
   "metadata": {},
   "source": [
    "- returns all records from both tables\n",
    "- Stack columns on top of one-another\n",
    "- RETURN  duplicates as well\n",
    "- Syntax:\n",
    "```\n",
    "SELECT *\n",
    "FROM left_table\n",
    "UNION ALL\n",
    "SELECT *\n",
    "FROM right_table;\n",
    "```"
   ]
  },
  {
   "cell_type": "markdown",
   "metadata": {},
   "source": [
    "# `INTERSECT`"
   ]
  },
  {
   "cell_type": "markdown",
   "metadata": {},
   "source": [
    "- returns only records that exist in both tables\n",
    "- Syntax:\n",
    "```\n",
    "SELECT id, val\n",
    "FROM left_table\n",
    "INTERSECT\n",
    "SELECT id, val\n",
    "FROM right_table;\n",
    "```"
   ]
  },
  {
   "cell_type": "markdown",
   "metadata": {},
   "source": [
    "# INTERSECT vs. INNER JOIN"
   ]
  },
  {
   "cell_type": "markdown",
   "metadata": {},
   "source": [
    "- intersect : \n",
    "    - returns common record only once even though there are duplicates\n",
    "    - no of columns do not increase in result\n",
    "- inner join : \n",
    "    - returns common joins including duplicates\n",
    "    - may add more columns in result"
   ]
  },
  {
   "cell_type": "markdown",
   "metadata": {},
   "source": [
    "# `EXCEPT`"
   ]
  },
  {
   "cell_type": "markdown",
   "metadata": {},
   "source": [
    "- returns only records from `left_table` that do not exist in `right_table`\n",
    "- consider whole record when picking which records to bbe left off\n",
    "- Syntax:\n",
    "```\n",
    "SELECT id, val\n",
    "FROM left_table\n",
    "INTERSECT\n",
    "SELECT id, val\n",
    "FROM right_table;\n",
    "```"
   ]
  }
 ],
 "metadata": {
  "kernelspec": {
   "display_name": "Python 3.8.11 ('env_py')",
   "language": "python",
   "name": "python3"
  },
  "language_info": {
   "name": "python",
   "version": "3.8.11"
  },
  "orig_nbformat": 4,
  "vscode": {
   "interpreter": {
    "hash": "1e949e87132dd83f1a7623eb88007e3532b03b66b77111be347aa4a383049722"
   }
  }
 },
 "nbformat": 4,
 "nbformat_minor": 2
}
