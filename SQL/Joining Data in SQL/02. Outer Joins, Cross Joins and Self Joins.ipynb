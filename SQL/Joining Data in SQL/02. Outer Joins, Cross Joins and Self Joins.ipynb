{
 "cells": [
  {
   "cell_type": "markdown",
   "metadata": {},
   "source": [
    "# OUTER JOINS"
   ]
  },
  {
   "cell_type": "markdown",
   "metadata": {},
   "source": [
    "- LEFT\n",
    "- RIGHT\n",
    "- FULL OUTER\n",
    "- Any `RIGHT JOIN` can be re-written as `LEFT JOIN` and vice-versa"
   ]
  },
  {
   "cell_type": "markdown",
   "metadata": {},
   "source": [
    "# `LEFT JOIN`"
   ]
  },
  {
   "cell_type": "markdown",
   "metadata": {},
   "source": [
    "- Keep the left table\n",
    "- Only records in the right table that match on the joining field are returned\n",
    "- Any value that is not matched on the right table is replaced with `null` value\n",
    "- can also be written as `LEFT OUTER JOIN`"
   ]
  },
  {
   "cell_type": "markdown",
   "metadata": {},
   "source": [
    "example:\n",
    "```\n",
    "SELECT *\n",
    "FROM left_table AS l\n",
    "LEFT JOIN right_table AS r\n",
    "USING(matching_col);\n",
    "```"
   ]
  },
  {
   "cell_type": "markdown",
   "metadata": {},
   "source": [
    "# `RIGHT JOIN`"
   ]
  },
  {
   "cell_type": "markdown",
   "metadata": {},
   "source": [
    "- Keep the right table\n",
    "- Only records in the left table that match on the joining field are returned\n",
    "- Any value that is not matched on the left table is replaced with `null` value\n",
    "- can also be written as `RIGHT OUTER JOIN`"
   ]
  },
  {
   "cell_type": "markdown",
   "metadata": {},
   "source": [
    "example:\n",
    "```\n",
    "SELECT *\n",
    "FROM left_table AS l\n",
    "RIGHT JOIN right_table AS r\n",
    "USING(matching_col);\n",
    "```"
   ]
  },
  {
   "cell_type": "markdown",
   "metadata": {},
   "source": [
    "# `FULL OUTER JOIN`"
   ]
  },
  {
   "cell_type": "markdown",
   "metadata": {},
   "source": [
    "- combines a `LEFT JOIN` and a `RIGHT JOIN`\n",
    "- All records from both tables are returned\n",
    "- Any non-matching joined entry value is replaced with null \n",
    "- The keyword `FULL OUTER JOIN `can also be used."
   ]
  },
  {
   "cell_type": "markdown",
   "metadata": {},
   "source": [
    "example:\n",
    "```\n",
    "SELECT *\n",
    "FROM left_table\n",
    "FULL JOIN right_table\n",
    "USING (id);\n",
    "```"
   ]
  },
  {
   "cell_type": "markdown",
   "metadata": {},
   "source": [
    "# `CROSS JOIN`"
   ]
  },
  {
   "cell_type": "markdown",
   "metadata": {},
   "source": [
    "- creates all possible combinations of two tables specified inside `SELECT`\n",
    "- `ON` or `USING` is not used"
   ]
  },
  {
   "cell_type": "markdown",
   "metadata": {},
   "source": [
    "example:\n",
    "```\n",
    "SELECT id1, id2\n",
    "FROM table1\n",
    "CROSS JOIN table2;\n",
    "```"
   ]
  },
  {
   "cell_type": "markdown",
   "metadata": {},
   "source": [
    "# Self joins"
   ]
  },
  {
   "cell_type": "markdown",
   "metadata": {},
   "source": [
    "- tables joined with themselves\n",
    "- used to compare parts of the same table\n",
    "- Using aliasing, the table is considered independent tables while joining\n",
    "- different joins can be used"
   ]
  },
  {
   "cell_type": "markdown",
   "metadata": {},
   "source": [
    "example:\n",
    "```\n",
    "SELECT\n",
    "p1.country AS country1,\n",
    "p2.country AS country2,\n",
    "p1.continent\n",
    "FROM prime_ministers AS p1\n",
    "INNER JOIN prime_ministers AS p2\n",
    "ON p1.continent = p2.continent\n",
    "LIMIT 10;\n",
    "```"
   ]
  }
 ],
 "metadata": {
  "kernelspec": {
   "display_name": "Python 3.8.3 ('base')",
   "language": "python",
   "name": "python3"
  },
  "language_info": {
   "name": "python",
   "version": "3.8.3"
  },
  "orig_nbformat": 4,
  "vscode": {
   "interpreter": {
    "hash": "dc575bfddb5c8ca4bb6a4f4dcdd32abc104b5fa4177361381c432fff36ce3e46"
   }
  }
 },
 "nbformat": 4,
 "nbformat_minor": 2
}
