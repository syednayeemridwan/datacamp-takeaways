{
 "cells": [
  {
   "cell_type": "markdown",
   "metadata": {},
   "source": [
    "# Best for large datasets"
   ]
  },
  {
   "cell_type": "markdown",
   "metadata": {},
   "source": [
    "- Organize data\n",
    "- Uncover hidden trends\n",
    "- Complex relationships\n",
    "- Lots of data"
   ]
  },
  {
   "cell_type": "markdown",
   "metadata": {},
   "source": [
    "# Keywords and Queries"
   ]
  },
  {
   "cell_type": "markdown",
   "metadata": {},
   "source": [
    "- Reserved words for operations\n",
    "- Capitalize them.\n",
    "- `SELECT` = used to specify columns to project the result\n",
    "- `FROM` = used to specify table to operate on\n",
    "- End query with `;`\n",
    "- `*` specify all columns\n",
    "- Example: `SELECT col_name, col_name2 FROM table_name`"
   ]
  },
  {
   "cell_type": "markdown",
   "metadata": {},
   "source": [
    "# Aliasing"
   ]
  },
  {
   "cell_type": "markdown",
   "metadata": {},
   "source": [
    "- Rename columns or tables\n",
    "- with `AS` after column name or table name"
   ]
  },
  {
   "cell_type": "markdown",
   "metadata": {},
   "source": [
    "# DISTINCT"
   ]
  },
  {
   "cell_type": "markdown",
   "metadata": {},
   "source": [
    "- Identify unique value / combination of value from columns\n",
    "- Syntax : `SELECT DISTINCT col1, col2 FROM table_name`"
   ]
  },
  {
   "cell_type": "markdown",
   "metadata": {},
   "source": [
    "# Views"
   ]
  },
  {
   "cell_type": "markdown",
   "metadata": {},
   "source": [
    "- A virtual table, but can be queried like a normal table\n",
    "- Does not store real data\n",
    "- Stores query for future use\n",
    "- Saves result of a SQL SELECT statement\n",
    "- Syntax : `CREATE VIEW view_name AS (<query>)`"
   ]
  },
  {
   "cell_type": "markdown",
   "metadata": {},
   "source": [
    "# SQL flavors"
   ]
  },
  {
   "cell_type": "markdown",
   "metadata": {},
   "source": [
    "- Both free and paid\n",
    "- All used with relational databases\n",
    "- Majority of keywords are the same \n",
    "- Follow universal standards\n",
    "- Only some additions in different flavors\n",
    "- eg : PostgreSQL, SQL Server (`LIMIT` vs `TOP`)"
   ]
  }
 ],
 "metadata": {
  "kernelspec": {
   "display_name": "Python 3.8.11 ('env_py')",
   "language": "python",
   "name": "python3"
  },
  "language_info": {
   "name": "python",
   "version": "3.8.11"
  },
  "orig_nbformat": 4,
  "vscode": {
   "interpreter": {
    "hash": "1e949e87132dd83f1a7623eb88007e3532b03b66b77111be347aa4a383049722"
   }
  }
 },
 "nbformat": 4,
 "nbformat_minor": 2
}
