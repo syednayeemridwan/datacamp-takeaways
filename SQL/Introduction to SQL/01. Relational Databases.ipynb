{
 "cells": [
  {
   "cell_type": "markdown",
   "metadata": {},
   "source": [
    "# Databases"
   ]
  },
  {
   "cell_type": "markdown",
   "metadata": {},
   "source": [
    "- Store information\n",
    "- Holds one or multiple tables\n",
    "- Each table holds multiple attributes (in RDBMS, columns)\n",
    "- In relational databases, tables are associated with each other\n",
    "- More powerful than spreadsheet\n",
    "- Encrypted data\n",
    "- Many users can query a database simultaneously\n",
    "- Can be accessed and presented differently at the same time\n",
    "- Storage is more secure\n",
    "- More storage\n",
    "- Physically stored in a hard-disk on server (centralized large machines, best for handling large volumes of data)\n",
    "- SQL : The most widely used programming language for databases "
   ]
  },
  {
   "cell_type": "markdown",
   "metadata": {},
   "source": [
    "# Tables"
   ]
  },
  {
   "cell_type": "markdown",
   "metadata": {},
   "source": [
    "- Table names should be lowercase\n",
    "- Table Names cannot include spaces (use _ instead)\n",
    "- Use mostly collective name / plural form\n",
    "- Consists of rows and columns\n",
    "- Rows = Records = individual observations\n",
    "- Columns = Fields = holds one piece of information about all records\n",
    "- Columns / Fields are set at database creation\n",
    "- Column names should be lowercase\n",
    "- Column Names cannot include spaces (use _ instead)\n",
    "- Use mostly singular form\n",
    "- 2 columns in the same table cannot have same name\n",
    "- Table name and column name should not share same name\n",
    "- Rows / Records can be unlimited\n",
    "- Unique identifiers / keys identify a record\n",
    "- Normally keys are numeric\n",
    "- Table topics should remain separate and the more tables, the better. We can always join them (removes redundancy)\n",
    "- When table is created, data type of each column is specified\n",
    "- Different data-types take different storage space\n",
    "- Some operations only apply on certain data types"
   ]
  },
  {
   "cell_type": "markdown",
   "metadata": {},
   "source": [
    "# Schema"
   ]
  },
  {
   "cell_type": "markdown",
   "metadata": {},
   "source": [
    "- Blueprints of a database\n",
    "- Shows database design : tables, their association, data-types of columns in each table"
   ]
  }
 ],
 "metadata": {
  "kernelspec": {
   "display_name": "Python 3.8.11 ('env_py')",
   "language": "python",
   "name": "python3"
  },
  "language_info": {
   "name": "python",
   "version": "3.8.11"
  },
  "orig_nbformat": 4,
  "vscode": {
   "interpreter": {
    "hash": "1e949e87132dd83f1a7623eb88007e3532b03b66b77111be347aa4a383049722"
   }
  }
 },
 "nbformat": 4,
 "nbformat_minor": 2
}
