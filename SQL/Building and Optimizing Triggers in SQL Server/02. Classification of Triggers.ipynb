{
 "cells": [
  {
   "cell_type": "markdown",
   "metadata": {},
   "source": [
    "# Special Tables"
   ]
  },
  {
   "cell_type": "markdown",
   "metadata": {},
   "source": [
    "- \"`inserted`\" and \"`deleted`\" tables\n",
    "    - Special tables used by DML triggers\n",
    "    - Created automatically by SQL Server\n",
    "- `inserted` Table : New rows are kept here\n",
    "- `deleted` Table : Updated / Deleted rows are kept here\n",
    "<center><img src=\"images/02.01.jpg\"  style=\"width: 400px, height: 300px;\"/></center>"
   ]
  },
  {
   "cell_type": "markdown",
   "metadata": {},
   "source": [
    "# AFTER triggers (DML)"
   ]
  },
  {
   "cell_type": "markdown",
   "metadata": {},
   "source": [
    "- Has a name (`some_trigger`)\n",
    "- Performs a set of actions when fired (A set of queries)\n",
    "- The actions are performed only AFTER the DML event is finished (The main query)\n",
    "    - The DML event runs before action\n",
    "- Used with `INSERT` , `UPDATE` , and `DELETE` statements for tables or views\n",
    "- Table or view needed for DML statements (`some_table`)\n",
    "- The trigger will be attached to the database object (same table)\n",
    "- Description of the trigger (Save info of deleted products to a historytable)\n",
    "\n",
    "\n",
    "- Example\n",
    "```\n",
    "CREATE TRIGGER some_trigger\n",
    "ON some_table \n",
    "AFTER DELETE AS\n",
    "    INSERT INTO some_other_table (col1, col2)\n",
    "    SELECT col1, col2\n",
    "    FROM deleted;\n",
    "```\n"
   ]
  },
  {
   "cell_type": "markdown",
   "metadata": {},
   "source": [
    "# INSTEAD OF triggers (DML)"
   ]
  },
  {
   "cell_type": "markdown",
   "metadata": {},
   "source": [
    "- Has a name (`some_trigger`)\n",
    "- Performs a set of actions when fired (A set of queries)\n",
    "- The actions are performed INSTEAD OF the DML event is finished (The main query)\n",
    "    - The DML event does not run anymore\n",
    "- Used with `INSERT` , `UPDATE` , and `DELETE` statements for tables or servers\n",
    "- Table or view needed for DML statements (`some_table`)\n",
    "- The trigger will be attached to the database object (same table)\n",
    "- Description of the trigger (Prevent updates of existing entries)\n",
    "- example:\n",
    "    ```\n",
    "    CREATE TRIGGER some_trigger\n",
    "    ON some_table \n",
    "    INSTEAD OF UPDATE AS\n",
    "        RAISERROR ('Raising Error...', 16, 1);\n",
    "    ```"
   ]
  },
  {
   "cell_type": "markdown",
   "metadata": {},
   "source": [
    "# DDL trigger"
   ]
  },
  {
   "cell_type": "markdown",
   "metadata": {},
   "source": [
    "- Has a name (`some_trigger`)\n",
    "- Performs a set of actions when fired (A set of queries)\n",
    "- Used with `CREATE` , `ALTER` , and `DROP` statements for tables or servers\n",
    "    - `DATABASE FOR CREATE_TABLE, ALTER_TABLE, DROP_TABLE`\n",
    "- The trigger will be attached to the database object \n",
    "- Description of the trigger (Log table with definition changes)\n",
    "- `AFTER` is interchangeable with `FOR` keyword\n",
    "- Works as `AFTER` trigger (No `INSTEAD OF`)\n",
    "    - See example with `RAISEERROR` to prevent that from happening\n",
    "    - Use `ROLLBACK` to change in such cases\n",
    "- example:\n",
    "```\n",
    "CREATE TRIGGER some_trigger\n",
    "ON DATABASE\n",
    "FOR CREATE_TABLE, ALTER_TABLE, DROP_TABLE AS\n",
    "    RAISERROR ('You are not allowed to remove tables from this database.', 16, 1);\n",
    "    ROLLBACK;\n",
    "```\n",
    "<center><img src=\"images/02.09.jpg\"  style=\"width: 400px, height: 300px;\"/></center>\n"
   ]
  },
  {
   "cell_type": "markdown",
   "metadata": {},
   "source": [
    "# Logon triggers"
   ]
  },
  {
   "cell_type": "markdown",
   "metadata": {},
   "source": [
    "- Has a name (`some_trigger`)\n",
    "- Performs a set of actions when fired\n",
    "- Performed for `LOGON` events\n",
    "- Used with `LOGON` statements for servers\n",
    "- Generally executed with superuseraccess `'sa'` username\n",
    "- After authentication phase, but before the session establishment\n",
    "- example:\n",
    "```\n",
    "CREATE TRIGGER some_trigger\n",
    "ON ALL SERVER WITH EXECUTE AS 'sa' FOR LOGON\n",
    "AS\n",
    "INSERT INTO ServerLogonLog\n",
    "(LoginName, LoginDate, SessionID, SourceIPAddress)\n",
    "SELECT ORIGINAL_LOGIN(), GETDATE(), @@SPID, client_net_address\n",
    "FROM SYS.DM_EXEC_CONNECTIONS WHERE session_id = @@SPID;\n",
    "```"
   ]
  }
 ],
 "metadata": {
  "kernelspec": {
   "display_name": "Python 3.8.3 ('base')",
   "language": "python",
   "name": "python3"
  },
  "language_info": {
   "name": "python",
   "version": "3.8.3"
  },
  "orig_nbformat": 4,
  "vscode": {
   "interpreter": {
    "hash": "dc575bfddb5c8ca4bb6a4f4dcdd32abc104b5fa4177361381c432fff36ce3e46"
   }
  }
 },
 "nbformat": 4,
 "nbformat_minor": 2
}
