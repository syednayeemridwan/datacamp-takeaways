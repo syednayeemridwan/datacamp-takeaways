{
 "cells": [
  {
   "cell_type": "markdown",
   "metadata": {},
   "source": [
    "# Advantages of triggers\n"
   ]
  },
  {
   "cell_type": "markdown",
   "metadata": {},
   "source": [
    "- Used for database integrity\n",
    "- Enforce business rules directly in the database\n",
    "- Control on which statements are allowed in a database\n",
    "- Implementation of complex business logic triggered by a single event\n",
    "- Simple way to audit databases and user actions"
   ]
  },
  {
   "cell_type": "markdown",
   "metadata": {},
   "source": [
    "# Disadvantages of triggers\n"
   ]
  },
  {
   "cell_type": "markdown",
   "metadata": {},
   "source": [
    "- Difficult to view and detect\n",
    "- Invisible to client applications or when debugging code\n",
    "- Hard to follow their logic when troubleshooting\n",
    "- Can become an overhead on the server and make it run slower"
   ]
  },
  {
   "cell_type": "markdown",
   "metadata": {},
   "source": [
    "# Best Practices"
   ]
  },
  {
   "cell_type": "markdown",
   "metadata": {},
   "source": [
    "- well-documented database design\n",
    "- simple logic in trigger design\n",
    "- avoid overusing triggers"
   ]
  },
  {
   "cell_type": "markdown",
   "metadata": {},
   "source": [
    "# Finding Triggers"
   ]
  },
  {
   "cell_type": "markdown",
   "metadata": {},
   "source": [
    "- Server Level Triggers: `SELECT * FROM sys.server_triggers;`\n",
    "- Database and Table Level Triggers : `SELECT * FROM sys.triggers;`"
   ]
  },
  {
   "cell_type": "markdown",
   "metadata": {},
   "source": [
    "# View Trigger Definition"
   ]
  },
  {
   "cell_type": "markdown",
   "metadata": {},
   "source": [
    "### Way 1"
   ]
  },
  {
   "cell_type": "markdown",
   "metadata": {},
   "source": [
    "```\n",
    "SELECT definition\n",
    "FROM sys.sql_modules\n",
    "WHERE object_id = OBJECT_ID ('trigger_name');\n",
    "```"
   ]
  },
  {
   "cell_type": "markdown",
   "metadata": {},
   "source": [
    "### Way 2"
   ]
  },
  {
   "cell_type": "markdown",
   "metadata": {},
   "source": [
    "`SELECT OBJECT_DEFINITION (OBJECT_ID ('trigger_name'));`"
   ]
  },
  {
   "cell_type": "markdown",
   "metadata": {},
   "source": [
    "### Way 3"
   ]
  },
  {
   "cell_type": "markdown",
   "metadata": {},
   "source": [
    "`EXECUTE sp_helptext @objname = 'trigger_name';`"
   ]
  },
  {
   "cell_type": "markdown",
   "metadata": {},
   "source": [
    "### Way 4 : GUI"
   ]
  },
  {
   "cell_type": "markdown",
   "metadata": {},
   "source": [
    "<center><img src=\"images/03.01.jpg\"  style=\"width: 400px, height: 300px;\"/></center>\n"
   ]
  },
  {
   "cell_type": "markdown",
   "metadata": {},
   "source": [
    "# Use cases of After Triggers"
   ]
  },
  {
   "cell_type": "markdown",
   "metadata": {},
   "source": [
    "- Keeping a history of row changes\n",
    "- Table auditing (Any changes in defined scope)\n",
    "- Notifying users\n",
    "- See examples in slides"
   ]
  },
  {
   "cell_type": "markdown",
   "metadata": {},
   "source": [
    "# Use cases of INSTEAD OF Triggers\n"
   ]
  },
  {
   "cell_type": "markdown",
   "metadata": {},
   "source": [
    "- Prevent operations from happening\n",
    "- Control database statements\n",
    "- Enforce data integrity\n",
    "- See examples in slides\n"
   ]
  },
  {
   "cell_type": "markdown",
   "metadata": {},
   "source": [
    "# Triggers with conditional logic"
   ]
  },
  {
   "cell_type": "markdown",
   "metadata": {},
   "source": [
    "```\n",
    "CREATE TRIGGER trigger_name\n",
    "ON table_name\n",
    "INSTEAD OF event_name\n",
    "AS\n",
    "IF EXISTS (...query....)\n",
    "    RAISERROR ('Raising Error...', 16, 1);\n",
    "ELSE\n",
    "    (...query....)\n",
    "```"
   ]
  },
  {
   "cell_type": "markdown",
   "metadata": {},
   "source": [
    "# Use cases for DDL triggers"
   ]
  },
  {
   "cell_type": "markdown",
   "metadata": {},
   "source": [
    "- Index management\n",
    "- Permission management\n",
    "- Tracing activities (Database Audit)\n",
    "    - Table\n",
    "    - View\n",
    "    - Statistics\n",
    "- NO `INSTEAD OF` (USE WITH `ROLLBACK`)\n",
    "- See examples in slides\n",
    "<center><img src=\"images/03.10.jpg\"  style=\"width: 400px, height: 300px;\"/></center>\n"
   ]
  }
 ],
 "metadata": {
  "kernelspec": {
   "display_name": "Python 3.8.11 ('env_py')",
   "language": "python",
   "name": "python3"
  },
  "language_info": {
   "name": "python",
   "version": "3.8.11"
  },
  "orig_nbformat": 4,
  "vscode": {
   "interpreter": {
    "hash": "1e949e87132dd83f1a7623eb88007e3532b03b66b77111be347aa4a383049722"
   }
  }
 },
 "nbformat": 4,
 "nbformat_minor": 2
}
