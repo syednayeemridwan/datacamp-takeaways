{
 "cells": [
  {
   "cell_type": "markdown",
   "metadata": {},
   "source": [
    "# Deleting server triggers\n"
   ]
  },
  {
   "cell_type": "markdown",
   "metadata": {},
   "source": [
    "- Deleting triggers in table :\n",
    "    - `DISABLE TRIGGER trigger_name <ON table_name>;`\n",
    "- Deleting triggers in database :\n",
    "    - `DROP TRIGGER trigger_name ON DATABASE;`\n",
    "- Deleting triggers in server :\n",
    "    - `DROP TRIGGER trigger_name ON ALL SERVER;`"
   ]
  },
  {
   "cell_type": "markdown",
   "metadata": {},
   "source": [
    "# Disabling triggers\n"
   ]
  },
  {
   "cell_type": "markdown",
   "metadata": {},
   "source": [
    "- Disabling triggers in table :\n",
    "    - `DISABLE TRIGGER trigger_name ON table_name;`\n",
    "- Disabling triggers in database :\n",
    "    - `DISABLE TRIGGER trigger_name ON DATABASE;`\n",
    "- Disabling triggers in server :\n",
    "    - `DISABLE TRIGGER trigger_name ON ALL SERVER;`"
   ]
  },
  {
   "cell_type": "markdown",
   "metadata": {},
   "source": [
    "# Enabling triggers\n"
   ]
  },
  {
   "cell_type": "markdown",
   "metadata": {},
   "source": [
    "- Enabling triggers in table :\n",
    "    - `ENABLE TRIGGER trigger_name ON table_name;`\n",
    "- Enabling triggers in database :\n",
    "    - `ENABLE TRIGGER trigger_name ON DATABASE;`\n",
    "- Enabling triggers in server :\n",
    "    - `ENABLE TRIGGER trigger_name ON ALL SERVER;`"
   ]
  },
  {
   "cell_type": "markdown",
   "metadata": {},
   "source": [
    "# Altering triggers\n"
   ]
  },
  {
   "cell_type": "markdown",
   "metadata": {},
   "source": [
    "```\n",
    "CREATE TRIGGER trigger_name\n",
    "ON table_name \n",
    "INSTEAD OF DELETE AS \n",
    "    PRINT 'You are _____ data from the Discounts table.';\n",
    "\n",
    "ALTER TRIGGER trigger_name\n",
    "ON table_name\n",
    "INSTEAD OF DELETE AS \n",
    "    PRINT 'You are not allowed to remove data from the Discounts table.';\n",
    "```"
   ]
  },
  {
   "cell_type": "markdown",
   "metadata": {},
   "source": [
    "# See trigger Information"
   ]
  },
  {
   "cell_type": "markdown",
   "metadata": {},
   "source": [
    "- `SELECT * FROM sys.triggers;` : table level triggers\n",
    "    - `name` = trigger name\n",
    "    - `object_id` = unique identifier of the trigger\n",
    "    - `parent_class` = trigger type as integer\n",
    "        - If it is table trigger = 1\n",
    "        - If it is database trigger = 0\n",
    "    - `parent_class_desc` = trigger type as text\n",
    "    - `parent_id` = unique identifier of the parent object\n",
    "    - `create_date` = date of creation\n",
    "    - `modify_date` = date of last modification\n",
    "    - `is_disabled` = current state\n",
    "    - `is_instead_of_trigger` = `INSTEAD OF` or `AFTER` trigger\n",
    "- `SELECT * FROM sys.server_triggers;` : Server level triggers\n",
    "- `SELECT * FROM sys.trigger_events;` : Event information about table and views level trigger\n",
    "    - `object_id` = unique identifier of the trigger\n",
    "    - `type` = event type as integer\n",
    "    - `type_desc` = event type as text\n",
    "    - `event_group_type` = event group type as integer\n",
    "    - `event_group_type_desc` = event group type as text\n",
    "        - example : `DDL_TABLE_VIEW_EVENTS` store multiple events\n",
    "- `SELECT * FROM sys.server_trigger_events;` : Event information about Server level trigger\n",
    "- `SELECT * FROM sys.trigger_event_types;` : Full list of available trigger events that can be fired"
   ]
  },
  {
   "cell_type": "markdown",
   "metadata": {},
   "source": [
    "# Tracking trigger executions (system view)\n"
   ]
  },
  {
   "cell_type": "markdown",
   "metadata": {},
   "source": [
    "- `SELECT * FROM sys.dm_exec_trigger_stats;`\n",
    "    - Provides information about execution of triggers\n"
   ]
  },
  {
   "cell_type": "markdown",
   "metadata": {},
   "source": [
    "# Identifying triggers attached to objects\n"
   ]
  },
  {
   "cell_type": "markdown",
   "metadata": {},
   "source": [
    "0. Trigger is a child that is attached to other objects\n",
    "1. Get data from `sys.objects`\n",
    "2. `INNER JOIN sys.triggers` to get full view\n",
    "    - See example in slides\n",
    "3. See trigger definitions\n",
    "```\n",
    "SELECT name AS TableName,\n",
    "object_id AS TableID\n",
    "FROM sys.objects\n",
    "WHERE name = 'some_table';\n",
    "```\n"
   ]
  },
  {
   "cell_type": "markdown",
   "metadata": {},
   "source": [
    "# JOINING TO GET COMPLETE PICTURE"
   ]
  },
  {
   "cell_type": "markdown",
   "metadata": {},
   "source": [
    "- SEE SLIDES FOR EXAMPLES"
   ]
  }
 ],
 "metadata": {
  "kernelspec": {
   "display_name": "Python 3.8.11 ('env_py')",
   "language": "python",
   "name": "python3"
  },
  "language_info": {
   "name": "python",
   "version": "3.8.11"
  },
  "orig_nbformat": 4,
  "vscode": {
   "interpreter": {
    "hash": "1e949e87132dd83f1a7623eb88007e3532b03b66b77111be347aa4a383049722"
   }
  }
 },
 "nbformat": 4,
 "nbformat_minor": 2
}
