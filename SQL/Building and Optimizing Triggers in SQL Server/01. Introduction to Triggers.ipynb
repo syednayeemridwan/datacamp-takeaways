{
 "cells": [
  {
   "cell_type": "markdown",
   "metadata": {},
   "source": [
    "# Trigger"
   ]
  },
  {
   "cell_type": "markdown",
   "metadata": {},
   "source": [
    "- Special type of stored procedure\n",
    "- Initiating actions when manipulating data\n",
    "- Preventing data manipulation\n",
    "- Tracking data or database object changes\n",
    "- User auditing and database security\n",
    "- Executed when an event occurs in the database server\n",
    "- Normaly 3 types of triggers based on commands\n",
    "    - Data Manipulation Language (DML) triggers\n",
    "        - `INSERT` , `UPDATE` or `DELETE` statements\n",
    "    - Data Definition Language (DDL) triggers\n",
    "        - `CREATE` , `ALTER` or `DROP` statements\n",
    "    - Logon triggers\n",
    "        - `LOGON` events (when user session is established)\n",
    "- Normaly 2 types of triggers based on statement behavior\n",
    "    - `AFTER` trigger\n",
    "        - The original statement executes\n",
    "        - Additional statements/pieces of code are triggered\n",
    "        - example : Notify the admin AFTER the data is successfully updated\n",
    "    - `INSTEAD OF` trigger\n",
    "        - The original statement is prevented from execution\n",
    "        - A replacement statement is executed instead\n",
    "        - example: If there is access restriction when insertion, Prevent insertions INSTEAD OF executing the commands\n",
    "- Syntax:\n",
    "    ```\n",
    "    CREATE TRIGGER trigger_name ON table_name\n",
    "    <behavior_op> <command_op> AS(\n",
    "    ...query...\n",
    "    <\n",
    "    BEGIN\n",
    "        ...if query....\n",
    "    END\n",
    "    ELSE\n",
    "        ...else query....\n",
    "    >\n",
    "    );\n",
    "    ```\n",
    "- example:\n",
    "    ```\n",
    "    CREATE TRIGGER some_trigger ON some_table\n",
    "    AFTER INSERT AS(\n",
    "    PRINT ('Insertion Done.')\n",
    "    );\n",
    "    ```\n",
    "- See explicit examples in Slides\n",
    "<center><img src=\"images/01.05.jpg\"  style=\"width: 400px, height: 300px;\"/></center>\n",
    "<center><img src=\"images/01.08.jpg\"  style=\"width: 400px, height: 300px;\"/></center>\n",
    "<center><img src=\"images/01.09.jpg\"  style=\"width: 400px, height: 300px;\"/></center>\n",
    "<center><img src=\"images/01.10.jpg\"  style=\"width: 400px, height: 300px;\"/></center>"
   ]
  },
  {
   "cell_type": "markdown",
   "metadata": {},
   "source": [
    "# Using a trigger as a computed column"
   ]
  },
  {
   "cell_type": "markdown",
   "metadata": {},
   "source": [
    "```\n",
    "CREATE TRIGGER some_trigger ON some_table\n",
    "AFTER INSERT\n",
    "AS\n",
    "    UPDATE table_1\n",
    "    SET table_1.new_col = table_1.colA * table_2.colB\n",
    "    FROM table_1 AS left\n",
    "    INNER JOIN table_2 AS right ON left.matching_col = right.matching_col\n",
    "```"
   ]
  }
 ],
 "metadata": {
  "kernelspec": {
   "display_name": "Python 3.8.11 ('env_py')",
   "language": "python",
   "name": "python3"
  },
  "language_info": {
   "name": "python",
   "version": "3.8.11"
  },
  "orig_nbformat": 4,
  "vscode": {
   "interpreter": {
    "hash": "1e949e87132dd83f1a7623eb88007e3532b03b66b77111be347aa4a383049722"
   }
  }
 },
 "nbformat": 4,
 "nbformat_minor": 2
}
