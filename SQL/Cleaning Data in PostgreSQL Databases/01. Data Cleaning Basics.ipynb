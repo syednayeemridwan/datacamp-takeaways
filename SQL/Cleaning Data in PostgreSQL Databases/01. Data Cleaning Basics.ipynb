{
 "cells": [
  {
   "cell_type": "markdown",
   "metadata": {},
   "source": [
    "# String Functions"
   ]
  },
  {
   "cell_type": "markdown",
   "metadata": {},
   "source": [
    "- `INITCAP()`:\n",
    "    - Makes strings title-case\n",
    "    -  `SELECT INITCAP(col);`\n",
    "- `REPLACE()`:\n",
    "    - Replace a string with other string\n",
    "    - `SELECT REPLACE(col, 'old', 'new');`\n",
    "- `LPAD()`\n",
    "    - Append characters on the left of string until the length of the string is satisfied\n",
    "    - `SELECT LPAD('123', 7, 'X');` -- Will return `XXXX123`\n",
    "- `LIKE`\n",
    "    - Used for pattern matching\n",
    "    - `SELECT * FROM some_table WHERE col LIKE 'A_i%';`\n",
    "- `SOUNDEX()`\n",
    "    - Compares how strings are pronounced\n",
    "    - Produces a 4- character code\n",
    "    - Same code indicates same pronounciation\n",
    "    - Enable this : `CREATE EXTENSION fuzzystrmatch;`\n",
    "    - `SELECT SOUNDEX(col) FROM table_name`\n",
    "- `DIFFERENCE()`\n",
    "    - Returns a value between 0 and 4\n",
    "    - `SELECT DIFFERENCE(col1, col2) AS diff`\n",
    "    - The result indicates the similarity between 2 strings\n",
    "        - 0 = lowest similarity\n",
    "        - 4 = identical similarity\n",
    "- `REGEXP_REPLACE()`\n",
    "    - Replace string based on regular expression\n",
    "    - `SELECT REGEXP_REPLACE(col, '\\d', '_', 'g')`\n",
    "        - Replace digits in col column by `_` everywhere (`g` = globally)\n",
    "- `SIMILAR TO`\n",
    "    - Additional pattern matching features\n",
    "    - Can be used with regular expressions\n",
    "    - `SELECT * FROM some_table WHERE col SIMILAR TO 'QN%' AND col NOT SIMILAR TO 'QN__';`\n",
    "\n",
    "<center><img src=\"images/01.04.jpg\"  style=\"width: 400px, height: 300px;\"/></center>"
   ]
  },
  {
   "cell_type": "markdown",
   "metadata": {},
   "source": [
    "# Updating Value"
   ]
  },
  {
   "cell_type": "markdown",
   "metadata": {},
   "source": [
    "- In same table:\n",
    "```\n",
    "UPDATE\n",
    "    table_name\n",
    "SET\n",
    "    col = 'New Val'\n",
    "WHERE\n",
    "    col = 'Old Val'\n",
    "```\n",
    "- From another table:\n",
    "```\n",
    "UPDATE \n",
    "\ttable_1 target\n",
    "SET \n",
    "\tcol = CASE\n",
    "      WHEN col = 4 THEN 'OK'\n",
    "      ELSE col\n",
    "\tEND\n",
    "FROM table_2 source\n",
    "WHERE \n",
    "\tsource.some_col = target.some_col;\n",
    "\n",
    "```"
   ]
  }
 ],
 "metadata": {
  "kernelspec": {
   "display_name": "Python 3.8.11 ('env_py')",
   "language": "python",
   "name": "python3"
  },
  "language_info": {
   "name": "python",
   "version": "3.8.11"
  },
  "orig_nbformat": 4,
  "vscode": {
   "interpreter": {
    "hash": "1e949e87132dd83f1a7623eb88007e3532b03b66b77111be347aa4a383049722"
   }
  }
 },
 "nbformat": 4,
 "nbformat_minor": 2
}
