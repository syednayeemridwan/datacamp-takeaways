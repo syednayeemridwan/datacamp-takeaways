{
 "cells": [
  {
   "cell_type": "markdown",
   "metadata": {},
   "source": [
    "# Converting Type"
   ]
  },
  {
   "cell_type": "markdown",
   "metadata": {},
   "source": [
    "- With `CAST()`\n",
    "    - `SELECT CAST( col AS type) FROM table_name`\n",
    "- With double colon (`::`)\n",
    "    - `SELECT col::type FROM table_name`\n",
    "- For timestamp, `TO_TIMESTAMP()`\n",
    "    - `SELECT TO_TIMESTAMP(col, 'YYYY-MM-DD HH24:MI') FROM table_name`\n",
    "- For date, `DATE()`\n",
    "    - `SELECT DATE(col) FROM table_name`\n",
    "- For date formatting, `TO_DATE()`\n",
    "    - `SELECT TO_DATE(col, 'Day, Month DDth, YYYY') FROM table_name` \n",
    "- For date formatting, `TO_CHAR()`\n",
    "    - `SELECT TO_CHAR(col, YYYY-DD-MM) FROM table_name` \n",
    "- With `CASE`\n",
    "    ```\n",
    "    SELECT *,\n",
    "    CASE\n",
    "        WHEN col = 'A' then 3\n",
    "        WHEN col = 'B' then 2\n",
    "        WHEN col = 'C' then 1\n",
    "    END AS transformed_col\n",
    "    FROM some_table\n",
    "    ```"
   ]
  },
  {
   "cell_type": "markdown",
   "metadata": {},
   "source": [
    "# Extracting Time"
   ]
  },
  {
   "cell_type": "markdown",
   "metadata": {},
   "source": [
    "- `EXTRACT(time_unit FROM date_or_timestamp_col)`\n",
    "<center><img src=\"images/03.07.jpg\"  style=\"width: 400px, height: 300px;\"/></center>\n"
   ]
  }
 ],
 "metadata": {
  "kernelspec": {
   "display_name": "Python 3.8.11 ('env_py')",
   "language": "python",
   "name": "python3"
  },
  "language_info": {
   "name": "python",
   "version": "3.8.11"
  },
  "orig_nbformat": 4,
  "vscode": {
   "interpreter": {
    "hash": "1e949e87132dd83f1a7623eb88007e3532b03b66b77111be347aa4a383049722"
   }
  }
 },
 "nbformat": 4,
 "nbformat_minor": 2
}
