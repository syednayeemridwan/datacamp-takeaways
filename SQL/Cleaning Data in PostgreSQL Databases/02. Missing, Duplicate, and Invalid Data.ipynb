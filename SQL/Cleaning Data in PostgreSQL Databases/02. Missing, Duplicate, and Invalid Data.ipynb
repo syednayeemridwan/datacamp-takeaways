{
 "cells": [
  {
   "cell_type": "markdown",
   "metadata": {},
   "source": [
    "# Missing Data"
   ]
  },
  {
   "cell_type": "markdown",
   "metadata": {},
   "source": [
    "- Causes\n",
    "    - human error\n",
    "    - systematic issues\n",
    "- Types:\n",
    "    - Missing Completely at Random (MCAR) : \n",
    "        - No relationship between missing data and other values\n",
    "        - Salesman forgot to mention weight and directly states price on a vegetable in the invoice. \n",
    "    - Missing at Random (MAR) : \n",
    "        - Systematic relationship between missing data and other observed values\n",
    "        - Present data can explain the missing data\n",
    "        - Reason is known to us, or can be identified\n",
    "        - Salesman includes different prices of candies in a single tag chocolate products inside  invoice.\n",
    "    - Missing Not at Random (MNAR) : \n",
    "        - Systematic relationship between missing data and other unobserved values\n",
    "        - Present data can explain the missing data\n",
    "        - Reason is not known to us, or can not be identified\n",
    "        - Salesman can not include some tags inside invoice and only mentions price, Since the new product is not listed in the system.\n",
    "- Identify:\n",
    "    - with `SELECT *  FROM table_name WHERE col IS NULL`\n",
    "    - with `SELECT *  FROM table_name WHERE col = ''`\n",
    "    - with `SELECT COALESCE(col1, col2, 'Unknown') FROM table_name`\n",
    "    - with `SELECT NULLIF(col, 'Unknown') FROM table_name`\n",
    "- Rectifying missing data\n",
    "    - Best option: locate and add missing values\n",
    "        - May not be feasible\n",
    "        - May not be worthwhile\n",
    "    - Provide a value (average, median, etc)\n",
    "    - Exclude records\n"
   ]
  },
  {
   "cell_type": "markdown",
   "metadata": {},
   "source": [
    "# Detecting Duplicates"
   ]
  },
  {
   "cell_type": "markdown",
   "metadata": {},
   "source": [
    "- Impartial duplicate\n",
    "    - column values are duplicated with ambiguity where values differ\n",
    "    - example : All combinations of columns are duplicates. Only one column holds unique record.\n",
    "        - Resolving impartial duplicates: `AVERAGE()` , `MIN()` , `MAX()`\n",
    "1. Group your dataset by specific columns and see the count. Records with `>1` counts are duplicates  :\n",
    "    ```\n",
    "    SELECT col1, col2, col3 FROM some_table\n",
    "    GROUP BY col1, col2, col3\n",
    "    HAVING COUNT(*) > 1;\n",
    "    ```\n",
    "2. See row number of specific combinations of columns. If there are `>1` rows for a specific combination, then that combination have duplicates:\n",
    "    ```\n",
    "    SELECT col1, col2, col3,\n",
    "    ROW_NUMBER() OVER(PARTITION BY col1, col2, col3) AS row_num\n",
    "    FROM some_table;\n",
    "    WHERE row_num > 1;\n",
    "    ```"
   ]
  },
  {
   "cell_type": "markdown",
   "metadata": {},
   "source": [
    "# Catching Specific Valid Patterns"
   ]
  },
  {
   "cell_type": "markdown",
   "metadata": {},
   "source": [
    "- With `SIMILAR TO` or `NOT SIMILAR TO`\n",
    "- With `BETWEEN val1 AND val2`\n",
    "- With `col ILIKE 'Ab_R%'`"
   ]
  },
  {
   "cell_type": "markdown",
   "metadata": {},
   "source": [
    "# Converting an existing column's type to another type"
   ]
  },
  {
   "cell_type": "markdown",
   "metadata": {},
   "source": [
    "1. Alter the column's type from the table\n",
    "2. Since there is already data present, with `USING` convert the existing values to new type\n",
    "```\n",
    "ALTER TABLE table_name\n",
    "ALTER COLUMN column_name TYPE new_type \n",
    "USING column_name::new_type;\n",
    "```"
   ]
  }
 ],
 "metadata": {
  "kernelspec": {
   "display_name": "Python 3.8.11 ('env_py')",
   "language": "python",
   "name": "python3"
  },
  "language_info": {
   "name": "python",
   "version": "3.8.11"
  },
  "orig_nbformat": 4,
  "vscode": {
   "interpreter": {
    "hash": "1e949e87132dd83f1a7623eb88007e3532b03b66b77111be347aa4a383049722"
   }
  }
 },
 "nbformat": 4,
 "nbformat_minor": 2
}
