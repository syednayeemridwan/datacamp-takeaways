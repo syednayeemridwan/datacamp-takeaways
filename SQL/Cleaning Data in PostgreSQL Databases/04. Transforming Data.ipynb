{
 "cells": [
  {
   "cell_type": "markdown",
   "metadata": {},
   "source": [
    "# String Functions"
   ]
  },
  {
   "cell_type": "markdown",
   "metadata": {},
   "source": [
    "- `CONCAT()`\n",
    "    - Joins multiple strings\n",
    "    - `SELECT CONCAT(col1, col2) FROM some_table`\n",
    "- `||`\n",
    "    - Joins multiple strings\n",
    "    - If there is any `NULL`, then the result is `NULL`\n",
    "    - `SELECT col1 || col2 FROM some_table`\n",
    "- `STRPOS()`\n",
    "    - Finds position of a character or string in a string\n",
    "    - `SELECT STRPOS(col, ' ') FROM some_table;`\n",
    "- `SUBSTRING()`\n",
    "    - Create a substring from existing string\n",
    "    - `SELECT SUBSTRING(col FROM 1 FOR 4) FROM some_table` \n",
    "        - create a string from index 1 of the `col` with next 4 characters\n",
    "- `LENGTH()`\n",
    "    - Find the length of a string\n",
    "    - `SELECT LENGTH(col) FROM some_table` \n",
    "- `SPLIT_PART()`\n",
    "    - Split a string with delimeter\n",
    "    - Split 1 column into multiple columns\n",
    "    - `SELECT SPLIT_PART(col, ',', 1) FROM some_table` \n",
    "        - 1 is part number for taking the first part of the split\n",
    "- `REGEXP_SPLIT_TO_TABLE()`\n",
    "    - Split 1 value in a column into multiple rows in a column\n",
    "    - `SELECT REGEXP_SPLIT_TO_TABLE(col, ',') FROM some_table` \n",
    "- Creating row number:\n",
    "    ```\n",
    "    SELECT *,\n",
    "    ROW_NUMBER() OVER (PARTITION BY col1,col2 ORDER BY col1,col2) AS row_no\n",
    "    FROM some_table;\n",
    "    ```"
   ]
  },
  {
   "cell_type": "markdown",
   "metadata": {},
   "source": [
    "# Pivoting"
   ]
  },
  {
   "cell_type": "markdown",
   "metadata": {},
   "source": [
    "```\n",
    "SELECT\n",
    "    col_to_keep,\n",
    "    AGG(agg_col) FILTER (WHERE agg_col = 'cat_1') AS \"pivot_column_1\",\n",
    "    AGG(agg_col) FILTER (WHERE agg_col = 'cat_2') AS \"pivot_column_2\",\n",
    "    ...\n",
    "    AGG(agg_col) FILTER (WHERE agg_col = 'cat_n') AS \"pivot_column_N\"\n",
    "FROM\n",
    "    some_table\n",
    "GROUP BY\n",
    "    col_to_keep;\n",
    "```\n",
    "- SEE EXAMPLES IN SLIDES AND EXERCISE"
   ]
  }
 ],
 "metadata": {
  "kernelspec": {
   "display_name": "Python 3.8.11 ('env_py')",
   "language": "python",
   "name": "python3"
  },
  "language_info": {
   "name": "python",
   "version": "3.8.11"
  },
  "orig_nbformat": 4,
  "vscode": {
   "interpreter": {
    "hash": "1e949e87132dd83f1a7623eb88007e3532b03b66b77111be347aa4a383049722"
   }
  }
 },
 "nbformat": 4,
 "nbformat_minor": 2
}
