{
 "cells": [
  {
   "cell_type": "markdown",
   "metadata": {},
   "source": [
    "# Common mistakes when working with dates and time"
   ]
  },
  {
   "cell_type": "markdown",
   "metadata": {},
   "source": [
    "- Arithmetic operations\n",
    "- Issues with time zones\n",
    "- Inconsistent date time formats\n",
    "- Inconsistent date time patterns"
   ]
  },
  {
   "cell_type": "markdown",
   "metadata": {},
   "source": [
    "# Different Precision Functions"
   ]
  },
  {
   "cell_type": "markdown",
   "metadata": {},
   "source": [
    "- Higher-precision\n",
    "    - `SYSDATETIME()`\n",
    "    - `SYSUTCDATETIME()`\n",
    "    - `SYSDATETIMEOFFSET()`\n",
    "- Lower-precision\n",
    "    - `GETDATE()`\n",
    "    - `GETUTCDATE()`\n",
    "    - `CURRENT_TIMESTAMP`\n",
    "- example : `SELECT FUNC AS [DATE]`\n",
    "- `[]` is used in alias if they are named same as built-in functions"
   ]
  },
  {
   "cell_type": "markdown",
   "metadata": {},
   "source": [
    "# Functions returning date and time parts"
   ]
  },
  {
   "cell_type": "markdown",
   "metadata": {},
   "source": [
    "- `YEAR(date_val)` : Return year from date_val\n",
    "- `MONTH(date_val)` : Return month from date_val\n",
    "- `DAY(date_val)` : Return day from date_val\n",
    "- `DATENAME(datepart, date_val)` : Return string representation of date from date_val\n",
    "- `DATEPART(datepart, date_val)` : Return integer representation of date from date_val\n",
    "- `DATEFROMPARTS(year, month, day)` : Generate date from date_val\n",
    "\n",
    "<center><img src=\"images/02.04.jpg\"  style=\"width: 400px, height: 300px;\"/></center>\n"
   ]
  },
  {
   "cell_type": "markdown",
   "metadata": {},
   "source": [
    "# Arithmetic operations on dates"
   ]
  },
  {
   "cell_type": "markdown",
   "metadata": {},
   "source": [
    "- `DATEADD()`\n",
    "    - Modify the value of a date\n",
    "    - See the resulting date after arithmatic operation\n",
    "    - `SELECT DATEADD(DAY, 30, birthdate)`\n",
    "- `DATEDIFF()`\n",
    "    - Return the difference between two dates\n",
    "    - See interval of duration\n",
    "    - `SELECT DATEDIFF(YEAR, birthdate, first_vote_date)`"
   ]
  },
  {
   "cell_type": "markdown",
   "metadata": {},
   "source": [
    "# Validating if an expression is a date"
   ]
  },
  {
   "cell_type": "markdown",
   "metadata": {},
   "source": [
    "- `ISDATE(some_date)`\n",
    "    - Returns 1 if date\n",
    "    - Returns 0 if not a date\n",
    "    - Limitation : `DATETIME2` type will also return 0\n",
    "- `SET DATEFORMAT()`\n",
    "    - To set date format\n",
    "    - `SET DATEFORMAT format_type`\n",
    "    - example : `SET DATEFORMAT ymd`\n",
    "    - Valid formats: \n",
    "        - `mdy` \n",
    "        - `dmy` \n",
    "        - `ymd` \n",
    "        - `ydm` \n",
    "        - `myd` \n",
    "        - `dym`\n",
    "- `SET LANGUAGE()`\n",
    "    - To set specific language\n",
    "    - `SET LANGUAGE language_name`\n",
    "    - example : `SET LANGUAGE English;`"
   ]
  }
 ],
 "metadata": {
  "kernelspec": {
   "display_name": "Python 3.8.11 ('env_py')",
   "language": "python",
   "name": "python3"
  },
  "language_info": {
   "name": "python",
   "version": "3.8.11"
  },
  "orig_nbformat": 4,
  "vscode": {
   "interpreter": {
    "hash": "1e949e87132dd83f1a7623eb88007e3532b03b66b77111be347aa4a383049722"
   }
  }
 },
 "nbformat": 4,
 "nbformat_minor": 2
}
