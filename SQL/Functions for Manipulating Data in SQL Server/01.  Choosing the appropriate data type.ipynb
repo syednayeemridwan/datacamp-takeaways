{
 "cells": [
  {
   "cell_type": "markdown",
   "metadata": {},
   "source": [
    "# Data Types"
   ]
  },
  {
   "cell_type": "markdown",
   "metadata": {},
   "source": [
    "- Whole numbers\n",
    "    - `smallint`\n",
    "    - `tinyint`\n",
    "    - `int`\n",
    "    - `bigint`\n",
    "- Decimal numbers\n",
    "    - `numeric`\n",
    "    - `decimal`\n",
    "    - `money`\n",
    "    - `smallmoney`\n",
    "- Approximate numerics\n",
    "    - `Float`\n",
    "    - `Real`\n",
    "- Date and time data types\n",
    "    - `time` \n",
    "    - `date` \n",
    "    - `smalldatetime` \n",
    "    - `datetime`\n",
    "    - `datetime2` (more precise than `datetime` , up to 100 nanoseconds)\n",
    "- Character data types (ASCII)\n",
    "    - `char`\n",
    "    - `varchar`\n",
    "    - `text`\n",
    "- Unicode character data types (non-ASCII)\n",
    "    - `nchar`\n",
    "    - `nvarchar`\n",
    "    - `ntext`\n",
    "- Other data types\n",
    "    - `binary`\n",
    "    - `image`\n",
    "    - `cursor`\n",
    "    - `rowversion`\n",
    "    - `uniqueidentifier`\n",
    "    - `xml`\n",
    "    - `Spatial Geometry` / `Geography Types`\n",
    "- Use smallest data type that can fit your requirements"
   ]
  },
  {
   "cell_type": "markdown",
   "metadata": {},
   "source": [
    "# Adding a column"
   ]
  },
  {
   "cell_type": "markdown",
   "metadata": {},
   "source": [
    "- `ALTER TABLE table_name ADD column_name data_type`"
   ]
  },
  {
   "cell_type": "markdown",
   "metadata": {},
   "source": [
    "# Conversion"
   ]
  },
  {
   "cell_type": "markdown",
   "metadata": {},
   "source": [
    "- changing one type to another.\n",
    "- 2 types of convversion\n",
    "- IMPLICIT : \n",
    "    - SQL Server converts from one type to another \n",
    "    - No need to manually convert\n",
    "    - done for each row of the query\n",
    "    - Not good for query performance\n",
    "    - Done automatically from higher precedence to lower precedence\n",
    "    - can be prevented with a good database schema design\n",
    "\n",
    "<center><img src=\"images/01.051.jpg\"  style=\"width: 400px, height: 300px;\"/></center>\n",
    "<center><img src=\"images/01.052.jpg\"  style=\"width: 400px, height: 300px;\"/></center>\n",
    "\n",
    "- EXPLICIT : \n",
    "    - The developer explicitly converts the data \n",
    "    - This is because there is a chance of data loss from lower to higher precedence\n",
    "    - Need to use specific functions like `CAST()` or `CONVERT()`\n",
    "    - `CAST()` comes from the SQL standard and `CONVERT()` is SQL Server specific\n",
    "    - `CONVERT()` performs slightly better in SQL Server\n",
    "<center><img src=\"images/01.081.jpg\"  style=\"width: 400px, height: 300px;\"/></center>\n",
    "<center><img src=\"images/01.082.jpg\"  style=\"width: 400px, height: 300px;\"/></center>\n"
   ]
  }
 ],
 "metadata": {
  "kernelspec": {
   "display_name": "Python 3.8.11 ('env_py')",
   "language": "python",
   "name": "python3"
  },
  "language_info": {
   "name": "python",
   "version": "3.8.11"
  },
  "orig_nbformat": 4,
  "vscode": {
   "interpreter": {
    "hash": "1e949e87132dd83f1a7623eb88007e3532b03b66b77111be347aa4a383049722"
   }
  }
 },
 "nbformat": 4,
 "nbformat_minor": 2
}
