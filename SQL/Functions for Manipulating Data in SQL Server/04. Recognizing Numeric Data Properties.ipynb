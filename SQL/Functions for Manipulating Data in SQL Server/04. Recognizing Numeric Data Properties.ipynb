{
 "cells": [
  {
   "cell_type": "markdown",
   "metadata": {},
   "source": [
    "# Common Numeric Functions"
   ]
  },
  {
   "cell_type": "markdown",
   "metadata": {},
   "source": [
    "- `DISTINCT`\n",
    "    - Returns unique values in a column\n",
    "    - `SELECT DISTINCT col FROM table_name`\n",
    "-  `ABS()`\n",
    "    - Returns absolute value of a number\n",
    "    - `SELECT ABS(-50.4 *3)`\n",
    "- `SIGN()` \n",
    "    - Returns the sign of an expression, as an integer\n",
    "        - -1 for negative numbers\n",
    "        - 0 for zero\n",
    "        - +1 for positive numbers\n",
    "    - `SELECT SIGN(-50.4 *3)`\n",
    "- `CEILING()` \n",
    "    - Ceils up a value (smallest value)\n",
    "    - `SELECT CEILING(-50.49)` produces `-50`\n",
    "- `FLOOR()` \n",
    "    - Floors down a value (largest value)\n",
    "    - `SELECT FLOOR (-50.49)` produces `-51`\n",
    "- `ROUND()` \n",
    "    - Rounds up a value\n",
    "    - `SELECT ROUND (73.715,2)` produces `73.720`\n",
    "- `POWER()` \n",
    "    - Raises the power to a number and gives result\n",
    "    - `SELECT POWER(2, 10)` produces `1024`\n",
    "- `SQUARE()` \n",
    "    - Gives square of a value\n",
    "    - `SELECT SQUARE(2)` produces `4`\n",
    "- `SQRT()` \n",
    "    - Gives square root of a value\n",
    "    - `SELECT SQRT(2)`\n"
   ]
  },
  {
   "cell_type": "markdown",
   "metadata": {},
   "source": [
    "# Common Aggregation Functions"
   ]
  },
  {
   "cell_type": "markdown",
   "metadata": {},
   "source": [
    "- `COUNT()` : Counts all non-null entries in a column\n",
    "- `SUM()` : Sum of all values in a column\n",
    "- `MIN()` : Minimum of of all values in a column\n",
    "- `MAX()` : Maximum of of all values in a column\n",
    "- `AVG()` : Average of of all values in a column\n",
    "- example :\n",
    "        ```\n",
    "        SELECT non_agg_col,\n",
    "        AVG(col) AS avg_col\n",
    "        FROM some_table\n",
    "        GROUP BY non_agg_col;\n",
    "        ```\n",
    "- Advanced Aggregation Function\n",
    "    - Used in window of specific range\n",
    "    - No need for `GROUP BY` clause if there is `OVER()` clause\n",
    "    - `FIRST_VALUE()` : First of of all values in a window\n",
    "    - `LAST_VALUE()` : Last of of all values in a window\n",
    "    - `LAG()` : Pushes down all values in a window. First entry of the window becomes `NULL`\n",
    "    - `LEAD()` : Pushes up all values in a window. Last entry of the window becomes `NULL`\n",
    "    - `RANGE BETWEEN start_boundary AND end_boundary` : Specify window range\n",
    "    - example:\n",
    "        ```\n",
    "        SELECT\n",
    "        WINDOW_AGG_FUNC(col1)\n",
    "        OVER (PARTITION BY col2 ORDER BY col3\n",
    "        RANGE_or_ROWS BETWEEN UNBOUNDED PRECEDING AND UNBOUNDED FOLLOWING) AS whole_dataset\n",
    "        ```\n",
    "<center><img src=\"images/04.04.jpg\"  style=\"width: 400px, height: 300px;\"/></center>\n",
    "    "
   ]
  }
 ],
 "metadata": {
  "kernelspec": {
   "display_name": "Python 3.8.11 ('env_py')",
   "language": "python",
   "name": "python3"
  },
  "language_info": {
   "name": "python",
   "version": "3.8.11"
  },
  "orig_nbformat": 4,
  "vscode": {
   "interpreter": {
    "hash": "1e949e87132dd83f1a7623eb88007e3532b03b66b77111be347aa4a383049722"
   }
  }
 },
 "nbformat": 4,
 "nbformat_minor": 2
}
