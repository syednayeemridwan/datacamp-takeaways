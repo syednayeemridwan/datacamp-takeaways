{
 "cells": [
  {
   "cell_type": "markdown",
   "metadata": {},
   "source": [
    "# String Functions"
   ]
  },
  {
   "cell_type": "markdown",
   "metadata": {},
   "source": [
    "- `LEN()` : \n",
    "    - Length of a string\n",
    "    - `SELECT LEN(bean_origin) AS length`\n",
    "- `CHARINDEX()` : \n",
    "    - Index of a character in a string\n",
    "    - `SELECT CHARINDEX('chocolate', 'White chocolate is not real chocolate')`\n",
    "- `PATINDEX()` : \n",
    "    - Returns the starting position of a pattern\n",
    "    - `SELECT PATINDEX('%chocolate%', 'White chocolate is not real chocolate') AS position1`\n",
    "- `LOWER()` :\n",
    "    - Turns strings into lower-case\n",
    "- `UPPER()` :\n",
    "    - Turns strings into upper-case\n",
    "- `LEFT()` :\n",
    "    - Takes characters from the left of the string\n",
    "- `RIGHT()` :\n",
    "    - Takes characters from the right of the string\n",
    "- `LTRIM()` :\n",
    "    - Cuts off blanks from left side of the string\n",
    "- `RTRIM()` :\n",
    "    - Cuts off blanks from right side of the string\n",
    "- `TRIM()` :\n",
    "    - Cuts off blanks from both side of the string\n",
    "    - `SELECT LOWER(' both ')`\n",
    "- `REPLACE()` :\n",
    "    - replace a string with other string\n",
    "    - `SELECT REPLACE('I like apples, apples are good.', 'apple', 'orange') AS result;`\n",
    "- `SUBSTRING()`:\n",
    "    - Take substring from a string from a specified starting index up to a certain length\n",
    "    - `SELECT SUBSTRING('123456789', 5, 3) AS result;`\n",
    "- `CONCAT()` :\n",
    "    - Concat Strings without separator\n",
    "    - `SELECT CONCAT('Apples', 'and', 'Oranges') AS result_col,`\n",
    "- `CONCAT_WS()` :\n",
    "    - Concat Strings with separator\n",
    "    - First argument takes the separator\n",
    "    - `SELECT CONCAT_WS(' ', 'Apples', 'and', 'oranges') AS result_col,`\n",
    "- `STRING_AGG()`:\n",
    "    - Aggregates all column values in a single line \n",
    "    - Can be used with `GROUP BY`\n",
    "        - `SELECT col1, STRING_AGG(col2, ', ') AS new_col2 FROM table_name GROUP BY col1;`\n",
    "    - Can be used with `WITHIN GROUP` clause\n",
    "        - `SELECT STRING_AGG(col, ', ') WITHIN GROUP (ORDER BY col ASC) AS new_col FROM t`\n",
    "- `STRING_SPLIT()`:\n",
    "    - De-aggregate to multiple rows from a single row based on a separator.\n",
    "    - Opposite to `STRING_AGG()`\n",
    "    - `SELECT * FROM STRING_SPLIT('1,2,3,4', ',')`\n",
    "- concatenating data with functions is better than using `\"+\"` operator\n"
   ]
  },
  {
   "cell_type": "markdown",
   "metadata": {},
   "source": [
    "- SEE SLIDES FOR EXAMPLES"
   ]
  }
 ],
 "metadata": {
  "kernelspec": {
   "display_name": "Python 3.8.11 ('env_py')",
   "language": "python",
   "name": "python3"
  },
  "language_info": {
   "name": "python",
   "version": "3.8.11"
  },
  "orig_nbformat": 4,
  "vscode": {
   "interpreter": {
    "hash": "1e949e87132dd83f1a7623eb88007e3532b03b66b77111be347aa4a383049722"
   }
  }
 },
 "nbformat": 4,
 "nbformat_minor": 2
}
