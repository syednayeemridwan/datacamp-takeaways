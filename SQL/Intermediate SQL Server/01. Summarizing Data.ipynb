{
 "cells": [
  {
   "cell_type": "markdown",
   "metadata": {},
   "source": [
    "# Common summary statistics"
   ]
  },
  {
   "cell_type": "markdown",
   "metadata": {},
   "source": [
    "- `MIN()` for the minimum value of a column\n",
    "- `MAX()` for the maximum value of a column\n",
    "- `AVG()` for the mean or average value of a column\n",
    "- `SUM()` for the sum of all values of a column\n",
    "- These are aggregation function, so if there is non-aggregated columns, they need to be in `GROUP BY` clause\n",
    "- If filtering is needed with Aggregation function, use `HAVING` instead of `WHERE`\n",
    "- example:\n",
    "\n",
    "```\n",
    "SELECT non_agg_col, AVG(col) AS avg_col,\n",
    "FROM table_name\n",
    "GROUP BY non_agg_col\n",
    "HAVING MAX(col) > 100\n",
    "``"
   ]
  },
  {
   "cell_type": "markdown",
   "metadata": {},
   "source": [
    "# Detecting missing values"
   ]
  },
  {
   "cell_type": "markdown",
   "metadata": {},
   "source": [
    "- To determine if a column contains a `NULL` value, use `IS NULL` and `IS NOT NULL`\n",
    "- example: `SELECT col FROM table_name WHERE col2 IS NOT NULL`\n",
    "- Blank is not NULL\n",
    "    - An empty string `''` can be used to identify blanks : ``WHERE col = ''``\n",
    "    - The best way is to filter out blanks : `WHERE LEN(col) > 0`\n",
    "- Substituting `NULL`:\n",
    "    - With `ISNULL()` : `SELECT ISNULL(col, 'Missing') AS new_col FROM table_name`\n",
    "    - With `COALESCE()` : `SELECT COALESCE(col1, col2, 'Missing') AS new_col FROM table_name`\n"
   ]
  },
  {
   "cell_type": "markdown",
   "metadata": {},
   "source": [
    "# Binning Data with Case"
   ]
  },
  {
   "cell_type": "markdown",
   "metadata": {},
   "source": [
    "- Used to create customized column based on existing data\n",
    "- New column can be used for binning for distribution, bar plot\n",
    "```\n",
    "SELECT col1,\n",
    "CASE \n",
    "    WHEN col2 = 'val1' or col2 = 'val2' THEN 'X'\n",
    "    WHEN col2 = 'val3' or col2 = 'val4' THEN 'Y'\n",
    "    ELSE 'Others'\n",
    "END AS new_bin_col\n",
    "FROM table_name\n",
    "```"
   ]
  }
 ],
 "metadata": {
  "kernelspec": {
   "display_name": "Python 3.8.11 ('env_py')",
   "language": "python",
   "name": "python3"
  },
  "language_info": {
   "name": "python",
   "version": "3.8.11"
  },
  "orig_nbformat": 4,
  "vscode": {
   "interpreter": {
    "hash": "1e949e87132dd83f1a7623eb88007e3532b03b66b77111be347aa4a383049722"
   }
  }
 },
 "nbformat": 4,
 "nbformat_minor": 2
}
