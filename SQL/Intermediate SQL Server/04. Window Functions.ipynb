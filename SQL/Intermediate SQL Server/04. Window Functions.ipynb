{
 "cells": [
  {
   "cell_type": "markdown",
   "metadata": {},
   "source": [
    "# Window functions"
   ]
  },
  {
   "cell_type": "markdown",
   "metadata": {},
   "source": [
    "- Aggregation over a certain range of rows\n",
    "- `AGG_FUNC(col1) OVER (PARTITION BY col2 ORDER BY col3 )`\n",
    "- If `OVER()` remains empty, the window is the whole dataset\n",
    "- `PARTITION BY` resets aggregations for each unique value of column by subsetting data\n",
    "- Different `AGG_FUNC()`:\n",
    "    - `FIRST_VALUE()` : of current window \n",
    "        - Requires the use of `ORDER BY` to order the rows\n",
    "    - `LAST_VALUE()` : of current window\n",
    "        - Requires the use of `ORDER BY` to order the rows\n",
    "    - `SUM()` : of current window\n",
    "    - `STDEV()` : of current window\n",
    "    - `COUNT()` : of current window\n",
    "    - `MIN()` : of current window\n",
    "    - `MAX()` : of current window\n",
    "    - `LEAD()` : of current window\n",
    "        - Requires the use of `ORDER BY` to order the rows\n",
    "        - Pushes values in column up (Last entries become `NULL`)\n",
    "        <center><img src=\"images/04.041.jpg\"  style=\"width: 400px, height: 300px;\"/></center>\n",
    "    - `LAG()` : of current window\n",
    "        - Requires the use of `ORDER BY` to order the rows\n",
    "        - Pushes values in column down (First entries become `NULL`)\n",
    "        <center><img src=\"images/04.042.jpg\"  style=\"width: 400px, height: 300px;\"/></center>\n",
    "    - `ROW_NUMBER()` : of current window\n",
    "    - `RANK()` : of current window\n",
    "\n",
    "- `SELECT SUM(CurrentQuota) OVER (PARTITION BY SalesYear) AS RunningTotal, col4 FROM SaleGoal`\n",
    "- SEE EXAMPLES IN SLIDES\n",
    "\n"
   ]
  },
  {
   "cell_type": "markdown",
   "metadata": {},
   "source": [
    "# CALCULATING MODE"
   ]
  },
  {
   "cell_type": "markdown",
   "metadata": {},
   "source": [
    "- First use `RANK()` or `ROW_NUMBER()` on a table\n",
    "- Put this query in a CTE\n",
    "- Calculate `MAX()` of `RANK()` or `ROW_NUMBER()` from the CTE\n",
    "- EXAMPLE IN THE SLIDE"
   ]
  }
 ],
 "metadata": {
  "kernelspec": {
   "display_name": "Python 3.8.11 ('env_py')",
   "language": "python",
   "name": "python3"
  },
  "language_info": {
   "name": "python",
   "version": "3.8.11"
  },
  "orig_nbformat": 4,
  "vscode": {
   "interpreter": {
    "hash": "1e949e87132dd83f1a7623eb88007e3532b03b66b77111be347aa4a383049722"
   }
  }
 },
 "nbformat": 4,
 "nbformat_minor": 2
}
