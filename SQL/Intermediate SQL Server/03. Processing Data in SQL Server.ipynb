{
 "cells": [
  {
   "cell_type": "markdown",
   "metadata": {},
   "source": [
    "# Variables"
   ]
  },
  {
   "cell_type": "markdown",
   "metadata": {},
   "source": [
    "- used for storing some value to use it many times by calling a name\n",
    "- 2 steps to set up a variable\n",
    "    1. declare name and type of variable \n",
    "    2. setting data for the variable\n",
    "```\n",
    "-- Declare the variable\n",
    "DECLARE @Snack VARCHAR(10)\n",
    "-- Use SELECT assign a value\n",
    "SELECT @Snack = 'Candy'\n",
    "-- Show the value\n",
    "SELECT @Snack\n",
    "```\n",
    "- Update a value of variable : `SET @var_name = new_val`\n"
   ]
  },
  {
   "cell_type": "markdown",
   "metadata": {},
   "source": [
    "# WHILE loop"
   ]
  },
  {
   "cell_type": "markdown",
   "metadata": {},
   "source": [
    "- Used for looping / repeating task\n",
    "- `CONTINUE` : skip an iteration\n",
    "- `BREAK` : break out of loop\n",
    "- `BEGIN` : begin the loop condition\n",
    "- `END` : end the loop condition\n",
    "\n",
    "```\n",
    "-- Declare ctr as an integer\n",
    "DECLARE @ctr INT\n",
    "-- Assign 1 to ctr\n",
    "SET @ctr = 1\n",
    "-- Specify the condition of the WHILE loop\n",
    "WHILE @ctr < 10\n",
    "    -- Begin the code to execute inside WHILE loop\n",
    "    BEGIN\n",
    "        -- Keep incrementing the value of @ctr\n",
    "        SET @ctr = @ctr + 1\n",
    "        -- Check if ctr is equal to 7\n",
    "        IF @ctr = 7\n",
    "        -- When ctr is equal to 7, the loop will break\n",
    "        BREAK\n",
    "        -- Check if ctr is equal to 6\n",
    "        IF @ctr = 6\n",
    "        -- When ctr is equal to 6, the loop will skip\n",
    "        CONTINUE\n",
    "    -- End WHILE loop\n",
    "    END\n",
    "```"
   ]
  },
  {
   "cell_type": "markdown",
   "metadata": {},
   "source": [
    "# Derived Table"
   ]
  },
  {
   "cell_type": "markdown",
   "metadata": {},
   "source": [
    "- A Query which is treated like a temporary table\n",
    "- Always contained within the main query\n",
    "- Used to break down complex queries into smaller steps\n",
    "- They are specified in the `FROM` clause\n",
    "```\n",
    "SELECT a.* FROM table_1 AS a\n",
    "JOIN (SELECT AVG(col) AS AverageCol\n",
    "FROM table_2) AS derived\n",
    "ON a.some_col = derived.some_col\n",
    "```"
   ]
  },
  {
   "cell_type": "markdown",
   "metadata": {},
   "source": [
    "# Common Table Expressions (CTE)"
   ]
  },
  {
   "cell_type": "markdown",
   "metadata": {},
   "source": [
    "- One type of derived table / temporary table\n",
    "- Can be used multiple times in a query or other CTEs\n",
    "\n",
    "```\n",
    "WITH CTEName1 (Col1, Col2)\n",
    "AS\n",
    "(\n",
    "SELECT Col1, Col2\n",
    "FROM TableName1\n",
    "),\n",
    "WITH CTEName2 (Col1, Col2)\n",
    "AS\n",
    "(\n",
    "SELECT Col1, Col2\n",
    "FROM TableName2\n",
    ")\n",
    "SELECT a.Col1, b.Col2\n",
    "FROM CTEName1 a, CTEName2 b\n",
    "```"
   ]
  }
 ],
 "metadata": {
  "kernelspec": {
   "display_name": "Python 3.8.11 ('env_py')",
   "language": "python",
   "name": "python3"
  },
  "language_info": {
   "name": "python",
   "version": "3.8.11"
  },
  "orig_nbformat": 4,
  "vscode": {
   "interpreter": {
    "hash": "1e949e87132dd83f1a7623eb88007e3532b03b66b77111be347aa4a383049722"
   }
  }
 },
 "nbformat": 4,
 "nbformat_minor": 2
}
