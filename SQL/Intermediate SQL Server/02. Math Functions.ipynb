{
 "cells": [
  {
   "cell_type": "markdown",
   "metadata": {},
   "source": [
    "# Ordering"
   ]
  },
  {
   "cell_type": "markdown",
   "metadata": {},
   "source": [
    "- Order the result by certain column values from lowest to highest : Default or `ASC`\n",
    "- Order the result by certain column values from highest to lowest : Default or `DESC`\n",
    "- All row count : `COUNT(*)`\n",
    "- Unique value in a column count : `COUNT(DISTINCT col)`\n",
    "    ```\n",
    "    SELECT COUNT(*) AS TotalRows, COUNT(DISTINCT col1), col2\n",
    "    FROM table_name\n",
    "    GROUP BY col2\n",
    "    ORDER BY col2 DESC\n",
    "    ```"
   ]
  },
  {
   "cell_type": "markdown",
   "metadata": {},
   "source": [
    "# MATH Operations with DATE"
   ]
  },
  {
   "cell_type": "markdown",
   "metadata": {},
   "source": [
    "- `DATEADD()` : Add or subtract datetime values\n",
    "    - `SELECT DATEADD(DD, -30, '2020-06-21')` \n",
    "    - What date is 30 days before June 21, 2020?\n",
    "- `DATEDIFF()` : Obtain the difference between two datetime values\n",
    "    - `SELECT DATEDIFF(DD, '2020-05-22', '2020-06-21')`\n",
    "    - How many days passed between May 22, 2020 and June 21, 2020?\n",
    "- Different parts of Date to be passed in the first argument:\n",
    "    - `DD` for Day\n",
    "    - `MM` for Month\n",
    "    - `YY` for Year\n",
    "    - `HH` for Hour\n"
   ]
  },
  {
   "cell_type": "markdown",
   "metadata": {},
   "source": [
    "# Rounding and Flooring numbers"
   ]
  },
  {
   "cell_type": "markdown",
   "metadata": {},
   "source": [
    "- Rounding :\n",
    "    - Round numbers up to a certain precision\n",
    "    - `SELECT ROUND(col, 1) AS RoundToOne FROM table_name`\n",
    "- Truncating:\n",
    "    - Also considered as flooring number\n",
    "    - `ROUND()` function with a third argument that is `non-zero`\n",
    "    - cuts all numbers off after the specified digit\n",
    "    - `SELECT ROUND(col, 0, 1) AS Truncating FROM table_name`\n",
    "\n",
    "<center><img src=\"images/02.08.jpg\"  style=\"width: 400px, height: 300px;\"/></center>"
   ]
  },
  {
   "cell_type": "markdown",
   "metadata": {},
   "source": [
    "# Other Math Functions"
   ]
  },
  {
   "cell_type": "markdown",
   "metadata": {},
   "source": [
    "- `ABS(number)` : Absolute value\n",
    "- `SQRT(number)` : Square root of a value\n",
    "- `SQUARE(number)` : Square of a value\n",
    "- `LOG(val,base)` : log value \n",
    "- example:\n",
    "\n",
    "```\n",
    "SELECT\n",
    "    ABS(col),\n",
    "    SQRT(col),\n",
    "    SQUARE(col),\n",
    "    LOG(col,10)\n",
    "FROM table_name\n",
    "```"
   ]
  }
 ],
 "metadata": {
  "kernelspec": {
   "display_name": "Python 3.8.11 ('env_py')",
   "language": "python",
   "name": "python3"
  },
  "language_info": {
   "name": "python",
   "version": "3.8.11"
  },
  "orig_nbformat": 4,
  "vscode": {
   "interpreter": {
    "hash": "1e949e87132dd83f1a7623eb88007e3532b03b66b77111be347aa4a383049722"
   }
  }
 },
 "nbformat": 4,
 "nbformat_minor": 2
}
