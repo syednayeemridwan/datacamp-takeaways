{
 "cells": [
  {
   "cell_type": "markdown",
   "metadata": {},
   "source": [
    "# See all table constraints"
   ]
  },
  {
   "cell_type": "markdown",
   "metadata": {},
   "source": [
    "```\n",
    "SELECT constraint_name, table_name, constraint_type\n",
    "FROM information_schema.table_constraints\n",
    "WHERE constraint_type = 'FOREIGN KEY';\n",
    "```"
   ]
  },
  {
   "cell_type": "markdown",
   "metadata": {},
   "source": [
    "# Adding a Foreign Key Constraint"
   ]
  },
  {
   "cell_type": "markdown",
   "metadata": {},
   "source": [
    "```\n",
    "ALTER TABLE table_name \n",
    "ADD CONSTRAINT constrant_name FOREIGN KEY (other_table_id) REFERENCES other_table (id);\n",
    "```"
   ]
  },
  {
   "cell_type": "markdown",
   "metadata": {},
   "source": [
    "# Drop a constraint"
   ]
  },
  {
   "cell_type": "markdown",
   "metadata": {},
   "source": [
    "```\n",
    "ALTER TABLE table_name\n",
    "DROP CONSTRAINT some_constraint_like_fkey;\n",
    "```"
   ]
  },
  {
   "cell_type": "markdown",
   "metadata": {},
   "source": [
    "# Foreign Key"
   ]
  },
  {
   "cell_type": "markdown",
   "metadata": {},
   "source": [
    "- FK in a table points to a primary key of another table\n",
    "- Each value of FK must exist in the values of PK of another table (\"referential integrity\"))\n",
    "- FK can be null \n",
    "- FK can be duplicate"
   ]
  },
  {
   "cell_type": "markdown",
   "metadata": {},
   "source": [
    "# Referential integrity violations"
   ]
  },
  {
   "cell_type": "markdown",
   "metadata": {},
   "source": [
    "Table_A's b_id FK is pointing to Table_B's id.\n",
    "- if id from Table_B is deleted.\n",
    "- if a value in b_id is inserted, however that value is non-existing in Table_A's id"
   ]
  },
  {
   "cell_type": "markdown",
   "metadata": {},
   "source": [
    "# Intermediate Table"
   ]
  },
  {
   "cell_type": "markdown",
   "metadata": {},
   "source": [
    "- Used for many to many relationship\n",
    "- Mapping of 2 FKs\n",
    "- Does not necessarily have to have a PK\n",
    "- Additional attributes can be placed here\n",
    "- Could be considered a composite key "
   ]
  },
  {
   "cell_type": "markdown",
   "metadata": {},
   "source": [
    "# Adding a Foreign Key "
   ]
  },
  {
   "cell_type": "markdown",
   "metadata": {},
   "source": [
    "```\n",
    "ALTER TABLE table_name\n",
    "ADD COLUMN another_table_id integer REFERENCES another_table (id);\n",
    "```"
   ]
  },
  {
   "cell_type": "markdown",
   "metadata": {},
   "source": [
    "# Joining Tables with foreign key"
   ]
  },
  {
   "cell_type": "markdown",
   "metadata": {},
   "source": [
    "```\n",
    "SELECT a.col1, b.col2, b.col3\n",
    "FROM table_A AS a\n",
    "JOIN table_B AS b\n",
    "ON\n",
    "a.b_id = b.id;\n",
    "``"
   ]
  },
  {
   "cell_type": "markdown",
   "metadata": {},
   "source": [
    "# Populating a column with conditions"
   ]
  },
  {
   "cell_type": "markdown",
   "metadata": {},
   "source": [
    "- update a table A\n",
    "- the A table's value\n",
    "- From table B\n",
    "- Where A and B meets certain conditions"
   ]
  },
  {
   "cell_type": "markdown",
   "metadata": {},
   "source": [
    "```\n",
    "UPDATE intermediate_table_name\n",
    "SET intermediate_table_name.other_table_id = other_table.id\n",
    "FROM other_table\n",
    "WHERE \n",
    "        intermediate_table_name.col1 = other_table.col1 \n",
    "    AND \n",
    "        intermediate_table_name.col2 = other_table.col2;\n",
    "```"
   ]
  },
  {
   "cell_type": "markdown",
   "metadata": {},
   "source": [
    "# Dealing Referential integrity violations"
   ]
  },
  {
   "cell_type": "markdown",
   "metadata": {},
   "source": [
    "`<Option>` choices:\n",
    "- `NO ACTION`: Throw an error\n",
    "- `CASCADE`: Delete all referencing records\n",
    "- `RESTRICT`: Throw an error\n",
    "- `SET NULL`: Set the referencing column to NULL\n",
    "- `SET DEFAULT`: Set the referencing column to its default value"
   ]
  },
  {
   "cell_type": "markdown",
   "metadata": {},
   "source": [
    "```\n",
    "CREATE TABLE table_name (\n",
    "id integer PRIMARY KEY,\n",
    "...,\n",
    "b_id integer REFERENCES table_B (id) ON DELETE <OPTION>\n",
    ");\n",
    "```"
   ]
  },
  {
   "cell_type": "markdown",
   "metadata": {},
   "source": [
    "# Grouping"
   ]
  },
  {
   "cell_type": "markdown",
   "metadata": {},
   "source": [
    "```\n",
    "SELECT COUNT(*), table_A.b_id \n",
    "FROM table_A\n",
    "JOIN table_B\n",
    "ON table_A.b_id = table_B.id\n",
    "GROUP BY table_A.b_id  \n",
    "ORDER BY count DESC;\n",
    "```"
   ]
  },
  {
   "cell_type": "markdown",
   "metadata": {},
   "source": [
    "# Deleting Records"
   ]
  },
  {
   "cell_type": "markdown",
   "metadata": {},
   "source": [
    "```\n",
    "DELETE FROM table_name \n",
    "WHERE id = 'some_id';\n",
    "```"
   ]
  }
 ],
 "metadata": {
  "language_info": {
   "name": "python"
  },
  "orig_nbformat": 4
 },
 "nbformat": 4,
 "nbformat_minor": 2
}
