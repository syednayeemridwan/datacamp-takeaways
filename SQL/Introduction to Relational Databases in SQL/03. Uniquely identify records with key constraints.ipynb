{
 "cells": [
  {
   "cell_type": "markdown",
   "metadata": {},
   "source": [
    "# Key"
   ]
  },
  {
   "cell_type": "markdown",
   "metadata": {},
   "source": [
    "- In ERD, they are underlined attribute names\n",
    "- Atrributes that identify a record uniquely\n",
    "- Always Minimal"
   ]
  },
  {
   "cell_type": "markdown",
   "metadata": {},
   "source": [
    "# Superkey"
   ]
  },
  {
   "cell_type": "markdown",
   "metadata": {},
   "source": [
    "- Combination of attributes / columns that can be used to uniquely identify each record\n",
    "- Attribute from the combination can be removed, and we can still end up with another superkey\n",
    "- The combination with least number of attributes that uniquely identify each record is called minimal superkey or key "
   ]
  },
  {
   "cell_type": "markdown",
   "metadata": {},
   "source": [
    "# Candidate Key"
   ]
  },
  {
   "cell_type": "markdown",
   "metadata": {},
   "source": [
    "- If there are multiple minimal superkeys then they are candidate keys\n",
    "- They are called so because any of them are suitable candidate to choose as the key"
   ]
  },
  {
   "cell_type": "markdown",
   "metadata": {},
   "source": [
    "# Primary Key"
   ]
  },
  {
   "cell_type": "markdown",
   "metadata": {},
   "source": [
    "- One primary key per table\n",
    "- As few columns as possible\n",
    "- Uniquely identifies records\n",
    "- Unique constraint\n",
    "- Not null constraint\n",
    "- time-invariant: hold true for current and future data\n"
   ]
  },
  {
   "cell_type": "markdown",
   "metadata": {},
   "source": [
    "# Surrogate Key"
   ]
  },
  {
   "cell_type": "markdown",
   "metadata": {},
   "source": [
    "- We create a new key as primary key\n",
    "- If there is no Explicit key present in the table, we can make a key by combining multiple attributes and assign it as the key for the table. That is called surrogate keys"
   ]
  },
  {
   "cell_type": "markdown",
   "metadata": {},
   "source": [
    "# Selecting a key for a Table"
   ]
  },
  {
   "cell_type": "markdown",
   "metadata": {},
   "source": [
    "We can use count to see the number of records in the table. Then we need to find the combination of columns that make each record unique/distinct and the count of all the records should be equal to the previous count. \n",
    "\n",
    "- Count the distinct records for all possible combinations of columns. If the resulting number x equals the number of all rows in the table for a combination, you have discovered a superkey.\n",
    "- Then remove one column after another until you can no longer remove columns without seeing the number x decrease. If that is the case, you have discovered a (candidate) key."
   ]
  },
  {
   "cell_type": "markdown",
   "metadata": {},
   "source": [
    "# Counting for key selection"
   ]
  },
  {
   "cell_type": "markdown",
   "metadata": {},
   "source": [
    "```\n",
    "SELECT \n",
    "    COUNT(*) \n",
    "FROM \n",
    "    table_name;\n",
    "```"
   ]
  },
  {
   "cell_type": "markdown",
   "metadata": {},
   "source": [
    "Equals to"
   ]
  },
  {
   "cell_type": "markdown",
   "metadata": {},
   "source": [
    "```\n",
    "SELECT \n",
    "    COUNT(DISTINCT(col1, col2)) \n",
    "FROM \n",
    "    table_name;\n",
    "```"
   ]
  },
  {
   "cell_type": "markdown",
   "metadata": {},
   "source": [
    "# Creating Primary Key during Table creation"
   ]
  },
  {
   "cell_type": "markdown",
   "metadata": {},
   "source": [
    "### First Way:"
   ]
  },
  {
   "cell_type": "markdown",
   "metadata": {},
   "source": [
    "```\n",
    "CREATE TABLE table_name (\n",
    "column1 integer PRIMARY KEY,\n",
    "column2 text\n",
    ");\n",
    "```"
   ]
  },
  {
   "cell_type": "markdown",
   "metadata": {},
   "source": [
    "### Second Way"
   ]
  },
  {
   "cell_type": "markdown",
   "metadata": {},
   "source": [
    "```\n",
    "CREATE TABLE table_name (\n",
    "column1 integer,\n",
    "column2 text,\n",
    "PRIMARY KEY (column1, column2)\n",
    ");\n",
    "```"
   ]
  },
  {
   "cell_type": "markdown",
   "metadata": {},
   "source": [
    "# Creating Primary Key on Existing Table"
   ]
  },
  {
   "cell_type": "markdown",
   "metadata": {},
   "source": [
    "```\n",
    "ALTER TABLE table_name\n",
    "ADD CONSTRAINT some_name PRIMARY KEY (column_name)\n",
    "```"
   ]
  },
  {
   "cell_type": "markdown",
   "metadata": {},
   "source": [
    "# Adding a Primary key with serial data type"
   ]
  },
  {
   "cell_type": "markdown",
   "metadata": {},
   "source": [
    "```\n",
    "ALTER TABLE table_name\n",
    "ADD COLUMN id serial PRIMARY KEY;\n",
    "```"
   ]
  },
  {
   "cell_type": "markdown",
   "metadata": {},
   "source": [
    "# Adding a Surrogate key "
   ]
  },
  {
   "cell_type": "markdown",
   "metadata": {},
   "source": [
    "- Add a column\n",
    "- Set the column values by concatenating other columns\n",
    "- Make the column primary key"
   ]
  },
  {
   "cell_type": "markdown",
   "metadata": {},
   "source": [
    "```\n",
    "ALTER TABLE table_name\n",
    "ADD COLUMN column_c varchar(256);\n",
    "\n",
    "UPDATE table_name\n",
    "SET column_c = CONCAT(column_a, column_b);\n",
    "\n",
    "ALTER TABLE table_name\n",
    "ADD CONSTRAINT pk PRIMARY KEY (column_c);\n",
    "```"
   ]
  }
 ],
 "metadata": {
  "language_info": {
   "name": "python"
  },
  "orig_nbformat": 4
 },
 "nbformat": 4,
 "nbformat_minor": 2
}
