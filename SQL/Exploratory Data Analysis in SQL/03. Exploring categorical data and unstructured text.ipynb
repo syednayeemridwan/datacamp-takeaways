{
 "cells": [
  {
   "cell_type": "markdown",
   "metadata": {},
   "source": [
    "# PostgreSQL character types"
   ]
  },
  {
   "cell_type": "markdown",
   "metadata": {},
   "source": [
    "- `character(n)` or `char(n)`\n",
    "    - fixed length `n`\n",
    "    - trailing spaces ignored in comparisons\n",
    "- `character varying(n)` or `varchar(n)`\n",
    "    - variable length up to a maximum of `n`\n",
    "- `text` or `varchar`\n",
    "    - unlimited length"
   ]
  },
  {
   "cell_type": "markdown",
   "metadata": {},
   "source": [
    "<center><img src=\"images/03.011.jpg\"  style=\"width: 400px, height: 300px;\"/></center>\n"
   ]
  },
  {
   "cell_type": "markdown",
   "metadata": {},
   "source": [
    "# Converting case"
   ]
  },
  {
   "cell_type": "markdown",
   "metadata": {},
   "source": [
    "- To lower case : `SELECT lower('aBc DeFg 7-');`\n",
    "- To upper case : `SELECT upper('aBc DeFg 7-');`\n",
    "- with `LIKE` operator : `SELECT * FROM table_name WHERE col_name LIKE '%apple%';`\n",
    "- with `ILIKE` operator (Case insensitive) : `SELECT * FROM table_name WHERE col_name ILIKE '%aPple%';`"
   ]
  },
  {
   "cell_type": "markdown",
   "metadata": {},
   "source": [
    "# Trimming"
   ]
  },
  {
   "cell_type": "markdown",
   "metadata": {},
   "source": [
    "- From Both Side: `SELECT TRIM(' abc ');`\n",
    "- From LEFT Side: `SELECT LTRIM(' abc ');`\n",
    "- From RIGHT Side: `SELECT RTRIM(' abc ');`\n",
    "- Other values : `SELECT trim('Wow!', '!wW');`"
   ]
  },
  {
   "cell_type": "markdown",
   "metadata": {},
   "source": [
    "# Substring"
   ]
  },
  {
   "cell_type": "markdown",
   "metadata": {},
   "source": [
    "- Keep from left : `SELECT left('abcde', 2)`\n",
    "- Keep from right : `SELECT right('abcde', 2)`\n",
    "- `SELECT substring(string FROM start FOR length);`\n",
    "    - `SELECT substring('abcdef' FROM 2 FOR 3);`\n",
    "- `SELECT substr('abcdef', 2, 3);`\n",
    "- Splitting: `SELECT split_part(string, delimiter, part_to_show);`\n",
    "    - `SELECT split_part('a,bc,d', ',', 2);`\n",
    "- Concatenating\n",
    "    - `SELECT concat('a', 2, 'cc');` (Ommits `NULL`)\n",
    "    - `SELECT 'a' || 2 || 'cc';` (Returns `NULL` if any component is `NULL`)"
   ]
  },
  {
   "cell_type": "markdown",
   "metadata": {},
   "source": [
    "# CASE"
   ]
  },
  {
   "cell_type": "markdown",
   "metadata": {},
   "source": [
    "```\n",
    "SELECT \n",
    "    CASE \n",
    "    WHEN col_1 > 100 THEN 'greater_100'\n",
    "    WHEN col_1 < 0 THEN 'less_0'\n",
    "    ELSE 'unknown'\n",
    "    END AS category_group, \n",
    "FROM table_name;\n",
    "```"
   ]
  },
  {
   "cell_type": "markdown",
   "metadata": {},
   "source": [
    "# Some Issues"
   ]
  },
  {
   "cell_type": "markdown",
   "metadata": {},
   "source": [
    "<center><img src=\"images/03.012.jpg\"  style=\"width: 400px, height: 300px;\"/></center>\n"
   ]
  }
 ],
 "metadata": {
  "kernelspec": {
   "display_name": "Python 3.8.11 ('env_py')",
   "language": "python",
   "name": "python3"
  },
  "language_info": {
   "name": "python",
   "version": "3.8.11"
  },
  "orig_nbformat": 4,
  "vscode": {
   "interpreter": {
    "hash": "1e949e87132dd83f1a7623eb88007e3532b03b66b77111be347aa4a383049722"
   }
  }
 },
 "nbformat": 4,
 "nbformat_minor": 2
}
