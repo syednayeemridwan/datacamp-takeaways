{
 "cells": [
  {
   "cell_type": "markdown",
   "metadata": {},
   "source": [
    "# Different Numeric Types"
   ]
  },
  {
   "cell_type": "markdown",
   "metadata": {},
   "source": [
    "<center><img src=\"images/02.01.jpg\"  style=\"width: 400px, height: 300px;\"/></center>\n",
    "<center><img src=\"images/02.02.jpg\"  style=\"width: 400px, height: 300px;\"/></center>\n"
   ]
  },
  {
   "cell_type": "markdown",
   "metadata": {},
   "source": [
    "# Numeric operations"
   ]
  },
  {
   "cell_type": "markdown",
   "metadata": {},
   "source": [
    "- Integer / Integer = Integer\n",
    "- Integer / Numeric or Float = Numeric or Float"
   ]
  },
  {
   "cell_type": "markdown",
   "metadata": {},
   "source": [
    "# Summary Functions"
   ]
  },
  {
   "cell_type": "markdown",
   "metadata": {},
   "source": [
    "- Minimum : `SELECT min(col_name) FROM table_name;`\n",
    "- Maximum : `SELECT max(col_name) FROM table_name;`\n",
    "- Average : `SELECT avg(col_name) FROM table_name;`\n",
    "- Variance / Sample Variance : `SELECT variance(col_name) FROM table_name;`\n",
    "- Sample Variance : `SELECT var_samp(col_name) FROM table_name;`\n",
    "- Population Variance : `SELECT var_pop(col_name) FROM table_name;`\n",
    "- Standard Deviation / Sample Standard Deviation : `SELECT stddev(col_name) FROM table_name;`\n",
    "- Sample Standard Deviation : `SELECT stddev_samp(col_name) FROM table_name;`\n",
    "- Population Standard Deviation : `SELECT stddev_pop(col_name) FROM table_name;`\n",
    "- Correlation : `SELECT corr(col1, col2) FROM table_name;`\n",
    "- Discrete Median: (Returns original data)\n",
    "    - `SELECT percentile_disc(percentile) WITHIN GROUP (ORDER BY column_name) FROM table_name;`\n",
    "- Continuous Median: (Interpolates between original data even if that does not exist)\n",
    "    - `SELECT percentile_cont(percentile) WITHIN GROUP (ORDER BY column_name) FROM table_name;`\n",
    "- Rounding : `SELECT round(42.1256, 2);`"
   ]
  },
  {
   "cell_type": "markdown",
   "metadata": {},
   "source": [
    "# Summarize by Group"
   ]
  },
  {
   "cell_type": "markdown",
   "metadata": {},
   "source": [
    "```\n",
    "SELECT tag,\n",
    "    min(question_pct),\n",
    "    avg(question_pct),\n",
    "    max(question_pct)\n",
    "FROM stackoverflow\n",
    "GROUP BY tag;\n",
    "```"
   ]
  },
  {
   "cell_type": "markdown",
   "metadata": {},
   "source": [
    "# Truncating Values"
   ]
  },
  {
   "cell_type": "markdown",
   "metadata": {},
   "source": [
    "- Reduces precision of a number (not same as rounding)\n",
    "- `SELECT trunc(42.1256, 2);`"
   ]
  },
  {
   "cell_type": "markdown",
   "metadata": {},
   "source": [
    "# Generate Series"
   ]
  },
  {
   "cell_type": "markdown",
   "metadata": {},
   "source": [
    "- Generates specified series\n",
    "- `SELECT generate_series(start, end, step);`\n",
    "    - `SELECT generate_series(1, 10, 2);`\n",
    "    "
   ]
  },
  {
   "cell_type": "markdown",
   "metadata": {},
   "source": [
    "# Creating Bins and Make a query for distribution"
   ]
  },
  {
   "cell_type": "markdown",
   "metadata": {},
   "source": [
    "<center><img src=\"images/02.06.jpg\"  style=\"width: 400px, height: 300px;\"/></center>\n",
    "\n"
   ]
  },
  {
   "cell_type": "markdown",
   "metadata": {},
   "source": [
    "# Common Issues and Error Codes"
   ]
  },
  {
   "cell_type": "markdown",
   "metadata": {},
   "source": [
    "<center><img src=\"images/02.09.jpg\"  style=\"width: 400px, height: 300px;\"/></center>\n"
   ]
  },
  {
   "cell_type": "markdown",
   "metadata": {},
   "source": [
    "# Creating Temp Table"
   ]
  },
  {
   "cell_type": "markdown",
   "metadata": {},
   "source": [
    "- 2 Ways:\n",
    "    - With `CREATE TEMP TABLE AS`: (Most recommended way)\n",
    "        ```\n",
    "        CREATE TEMP TABLE new_tablename AS\n",
    "        SELECT column1, column2\n",
    "        FROM table;\n",
    "        ```\n",
    "    - With `SELECT INTO TEMP TABLE`:\n",
    "        ```\n",
    "        SELECT column1, column2\n",
    "        INTO TEMP TABLE new_tablename\n",
    "        FROM table;\n",
    "        ```"
   ]
  },
  {
   "cell_type": "markdown",
   "metadata": {},
   "source": [
    "# Inserting into a table"
   ]
  },
  {
   "cell_type": "markdown",
   "metadata": {},
   "source": [
    "```\n",
    "INSERT INTO table_name\n",
    "SELECT col1, col2\n",
    "FROM other_table;\n",
    "```"
   ]
  },
  {
   "cell_type": "markdown",
   "metadata": {},
   "source": [
    "# Delete a table"
   ]
  },
  {
   "cell_type": "markdown",
   "metadata": {},
   "source": [
    "- `DROP TABLE IF EXISTS top_companies;`"
   ]
  }
 ],
 "metadata": {
  "kernelspec": {
   "display_name": "Python 3.8.11 ('env_py')",
   "language": "python",
   "name": "python3"
  },
  "language_info": {
   "name": "python",
   "version": "3.8.11"
  },
  "orig_nbformat": 4,
  "vscode": {
   "interpreter": {
    "hash": "1e949e87132dd83f1a7623eb88007e3532b03b66b77111be347aa4a383049722"
   }
  }
 },
 "nbformat": 4,
 "nbformat_minor": 2
}
