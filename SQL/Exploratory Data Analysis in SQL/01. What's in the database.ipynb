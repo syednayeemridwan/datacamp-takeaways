{
 "cells": [
  {
   "cell_type": "markdown",
   "metadata": {},
   "source": [
    "# Database Client"
   ]
  },
  {
   "cell_type": "markdown",
   "metadata": {},
   "source": [
    "- A program used to connect to a database\n",
    "- A program used to work with a database\n",
    "<center><img src=\"images/01.01.jpg\"  style=\"width: 400px, height: 300px;\"/></center>"
   ]
  },
  {
   "cell_type": "markdown",
   "metadata": {},
   "source": [
    "# ERD"
   ]
  },
  {
   "cell_type": "markdown",
   "metadata": {},
   "source": [
    "- Known as entity relationship diagram\n",
    "- Shows tables in a database\n",
    "- Shows columns in a database\n",
    "- Shows how tables are related in a database\n",
    "<center><img src=\"images/01.02.jpg\"  style=\"width: 400px, height: 300px;\"/></center>\n",
    "\n",
    "- `stackoverflow`: questions asked on Stack Overflow with certain tags\n",
    "- `company`: information on companies related to tags in stackoverflow\n",
    "- `tag_company`: links stackoverflow to company\n",
    "- `tag_type`: type categories applied to tags in stackoverflow\n",
    "- `fortune500`: information on top US companies"
   ]
  },
  {
   "cell_type": "markdown",
   "metadata": {},
   "source": [
    "# Things to note"
   ]
  },
  {
   "cell_type": "markdown",
   "metadata": {},
   "source": [
    "<center><img src=\"images/01.03.jpg\"  style=\"width: 400px, height: 300px;\"/></center>\n"
   ]
  },
  {
   "cell_type": "markdown",
   "metadata": {},
   "source": [
    "# See which Table Has most rows"
   ]
  },
  {
   "cell_type": "markdown",
   "metadata": {},
   "source": [
    "```\n",
    "SELECT count(*) \n",
    "FROM tablename;\n",
    "```"
   ]
  },
  {
   "cell_type": "markdown",
   "metadata": {},
   "source": [
    "# See which Table Has most columns"
   ]
  },
  {
   "cell_type": "markdown",
   "metadata": {},
   "source": [
    "```\n",
    "SELECT COUNT(COLUMN_NAME)\n",
    "FROM INFORMATION_SCHEMA.COLUMNS\n",
    "WHERE TABLE_NAME = 'table name';\n",
    "```"
   ]
  },
  {
   "cell_type": "markdown",
   "metadata": {},
   "source": [
    "# Foreign Keys"
   ]
  },
  {
   "cell_type": "markdown",
   "metadata": {},
   "source": [
    "- Reference another row \n",
    "- In a different table or the same table (self-reference) \n",
    "- Via a unique ID (no duplicate value allowed)\n",
    "    - >> Primary key column containing unique, non-NULL values\n",
    "- Values restricted to values in referenced column OR NULL (indicating no relationship)"
   ]
  },
  {
   "cell_type": "markdown",
   "metadata": {},
   "source": [
    "# Coalesce Function"
   ]
  },
  {
   "cell_type": "markdown",
   "metadata": {},
   "source": [
    "- Operates row by row\n",
    "- Returns first non- NULL value\n",
    "- `SELECT coalesce(column_1, column_2) AS non_null_combined FROM table_name;`\n",
    "    - Returns a single column named non_null_combined\n",
    "    - If `column_1` is not null, `non_null_combined` contains `column_1` value\n",
    "    - If `column_1` is null, `non_null_combined` contains `column_2` value\n",
    "    - If `column_1` and `column_2` are both `null`, `non_null_combined` contains `null` value"
   ]
  },
  {
   "cell_type": "markdown",
   "metadata": {},
   "source": [
    "# Column constraints"
   ]
  },
  {
   "cell_type": "markdown",
   "metadata": {},
   "source": [
    "- Rules of a column\n",
    "- `Foreign key`: value that exists in the referenced column, or NULL\n",
    "- `Primary key`: unique, not NULL\n",
    "- `Unique`: values must all be di(erent except for NULL\n",
    "- `Not null`: NULL not allowed: must have a value\n",
    "- Check constraints: conditions on the values\n",
    "    - `column1 > 0`\n",
    "    - `columnA IS NOT NULL`"
   ]
  },
  {
   "cell_type": "markdown",
   "metadata": {},
   "source": [
    "# Data Types"
   ]
  },
  {
   "cell_type": "markdown",
   "metadata": {},
   "source": [
    "<center><img src=\"images/01.10.jpg\"  style=\"width: 400px, height: 300px;\"/></center>\n"
   ]
  },
  {
   "cell_type": "markdown",
   "metadata": {},
   "source": [
    "# Converting Types"
   ]
  },
  {
   "cell_type": "markdown",
   "metadata": {},
   "source": [
    "- Also referred as Casting\n",
    "- 2 Ways of casting\n",
    "- With `CAST` : \n",
    "    - `SELECT CAST (old_type AS new_type);`\n",
    "    - `SELECT CAST (3.7 AS integer);`\n",
    "- With `::` : \n",
    "    - `SELECT old_type::new_type;`\n",
    "    - `SELECT 3.7 :: integer;`\n"
   ]
  }
 ],
 "metadata": {
  "kernelspec": {
   "display_name": "Python 3.8.11 ('env_py')",
   "language": "python",
   "name": "python3"
  },
  "language_info": {
   "name": "python",
   "version": "3.8.11"
  },
  "orig_nbformat": 4,
  "vscode": {
   "interpreter": {
    "hash": "1e949e87132dd83f1a7623eb88007e3532b03b66b77111be347aa4a383049722"
   }
  }
 },
 "nbformat": 4,
 "nbformat_minor": 2
}
