{
 "cells": [
  {
   "cell_type": "markdown",
   "metadata": {},
   "source": [
    "# Date-Time Types"
   ]
  },
  {
   "cell_type": "markdown",
   "metadata": {},
   "source": [
    "- `date` : Date only\n",
    "- `time` : Time only\n",
    "- `timestamp` : Date + Time \n",
    "- `interval` : Duration\n",
    "- `now()` : Current time\n",
    "- ISO = International Organization for Standards `YYYY-MM-DD HH:MM:SS`\n",
    "- Conputations:\n",
    "    - `SELECT now() > '2017-12-31';`\n",
    "    - `SELECT '2018-12-10'::date + '1 year'::interval;`\n",
    "    - `SELECT '2018-01-01' > '2017-12-31';`\n",
    "    - `SELECT '2018-12-10'::date + '1 year 2 days 3 minutes'::interval ;`\n"
   ]
  },
  {
   "cell_type": "markdown",
   "metadata": {},
   "source": [
    "# Extracting fields"
   ]
  },
  {
   "cell_type": "markdown",
   "metadata": {},
   "source": [
    "- 2 WAYS:\n",
    "- `DATE_PART('field', timestamp)`\n",
    "    - `SELECT DATE_PART('month', now())`\n",
    "\n",
    "- `EXTRACT(FIELD FROM timestamp)` : Actually calls `DATE_PART`\n",
    "    - `SELECT EXTRACT(MONTH FROM now());`\n",
    "    - `EXTRACT(DOW FROM date_created)` : name of the day\n",
    "\n",
    "- `date_trunc('field', timestamp)` : Truncating\n",
    "    - `SELECT date_trunc('month', now());`\n",
    "\n",
    "- Other (name of the day): `to_char(date_created, 'day') `"
   ]
  },
  {
   "cell_type": "markdown",
   "metadata": {},
   "source": [
    "# Generate Time Series"
   ]
  },
  {
   "cell_type": "markdown",
   "metadata": {},
   "source": [
    "- `SELECT generate_series(from, to, interval);`\n",
    "    - `SELECT generate_series('2018-01-01', '2018-01-15','2 days'::interval);` (NOT OKAY)\n",
    "    - `SELECT generate_series('2018-01-01', '2018-01-15','2 days'::interval) - '1 day'::interval;` (OKAY)\n"
   ]
  },
  {
   "cell_type": "markdown",
   "metadata": {},
   "source": [
    "# Aggregation with bins"
   ]
  },
  {
   "cell_type": "markdown",
   "metadata": {},
   "source": [
    "<center><img src=\"images/04.10.jpg\"  style=\"width: 400px, height: 300px;\"/></center>\n"
   ]
  },
  {
   "cell_type": "markdown",
   "metadata": {},
   "source": [
    "# Lead and Lag"
   ]
  },
  {
   "cell_type": "markdown",
   "metadata": {},
   "source": [
    "- Lag : Let us shift rows 1 row down\n",
    "- Lead : Let us shift rows 1 row up\n",
    "<center><img src=\"images/04.14.jpg\"  style=\"width: 400px, height: 300px;\"/></center>\n",
    "\n",
    "- Calculation with Lead or Lag:\n",
    "```\n",
    "SELECT \n",
    "    date,\n",
    "    date - lag(date) OVER (ORDER BY date) AS gap\n",
    "FROM table_name;\n",
    "```\n"
   ]
  }
 ],
 "metadata": {
  "kernelspec": {
   "display_name": "Python 3.8.11 ('env_py')",
   "language": "python",
   "name": "python3"
  },
  "language_info": {
   "name": "python",
   "version": "3.8.11"
  },
  "orig_nbformat": 4,
  "vscode": {
   "interpreter": {
    "hash": "1e949e87132dd83f1a7623eb88007e3532b03b66b77111be347aa4a383049722"
   }
  }
 },
 "nbformat": 4,
 "nbformat_minor": 2
}
