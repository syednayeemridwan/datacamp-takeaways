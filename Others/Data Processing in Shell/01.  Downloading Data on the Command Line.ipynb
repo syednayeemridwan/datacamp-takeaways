{
 "cells": [
  {
   "cell_type": "markdown",
   "metadata": {},
   "source": [
    "# Unzipping"
   ]
  },
  {
   "cell_type": "markdown",
   "metadata": {},
   "source": [
    "- `unzip file_name.zip`"
   ]
  },
  {
   "cell_type": "markdown",
   "metadata": {},
   "source": [
    "# CURL"
   ]
  },
  {
   "cell_type": "markdown",
   "metadata": {},
   "source": [
    "- Client for URLs\n",
    "- transfers data to and from a server\n",
    "- is used to download data from HTTP(S) sites and FTP servers\n",
    "- install from here : https://curl.se/download.html\n",
    "- if installed correctly , `man curl` will open the manual for `curl`\n",
    "- See all options : `curl --help`\n",
    "- Save file with its original name: `curl -O https://websitename.com/datafilename.txt`\n",
    "- Save file with renamed name: `curl -o renameddatafilename.txt https://websitename.com/datafilename.txt`\n",
    "- Saving multiple files: \n",
    "    - `curl -O https://websitename.com/datafilename*.txt`\n",
    "    - `curl -O https://websitename.com/datafilename[001-100].txt`\n",
    "- `-L` Redirects the HTTP URL if a 300 error code occurs.\n",
    "- `-C` Resumes a previous file transfer if it times out before completion.\n",
    "- example: \n",
    "    - `curl -L -O -C https://websitename.com/datafilename[001-100].txt`"
   ]
  },
  {
   "cell_type": "markdown",
   "metadata": {},
   "source": [
    "# Wget"
   ]
  },
  {
   "cell_type": "markdown",
   "metadata": {},
   "source": [
    "- derives its name from World Wide Web and get\n",
    "- used to download data from HTTP(S) and FTP\n",
    "- better than curl at downloading multiple files recursively\n",
    "- Check if it is installed: `which wget` to see where it is installed or `man wget`\n",
    "- install \n",
    "    - from here: https://www.gnu.org/software/wget/\n",
    "    - or `sudo apt-get install wget`\n",
    "- flags:\n",
    "    - `-b` : Go to background immediately after startup\n",
    "    - `-q` : Turn off the Wget output\n",
    "    - `-c` : Resume broken download (i.e. continue getting a partially-downloaded file)\n",
    "    - `wget -bqc https://websitename.com/datafilename.txt`\n",
    "- Multiple file downloading with Wget\n",
    "    - Save a list of file locations in a text file.\n",
    "    - `cat url_list.txt` will show the list\n",
    "    - download everything in the list with : `wget -i url_list.txt`\n",
    "    - other options should be put before `-i`\n",
    "    - Set upper download bandwidth limit (by default in bytes per second) with `--limit-rate`\n",
    "        - `wget --limit-rate=200k -i url_list.txt`\n",
    "    - Set a mandatory pause time (in seconds) between file downloads with `--wait`\n",
    "        - `wget --wait=2.5 -i url_list.txt`"
   ]
  }
 ],
 "metadata": {
  "kernelspec": {
   "display_name": "Python 3.8.11 ('env_py')",
   "language": "python",
   "name": "python3"
  },
  "language_info": {
   "name": "python",
   "version": "3.8.11"
  },
  "orig_nbformat": 4,
  "vscode": {
   "interpreter": {
    "hash": "1e949e87132dd83f1a7623eb88007e3532b03b66b77111be347aa4a383049722"
   }
  }
 },
 "nbformat": 4,
 "nbformat_minor": 2
}
