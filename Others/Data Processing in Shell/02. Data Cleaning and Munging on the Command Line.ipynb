{
 "cells": [
  {
   "cell_type": "markdown",
   "metadata": {},
   "source": [
    "# csvkit"
   ]
  },
  {
   "cell_type": "markdown",
   "metadata": {},
   "source": [
    "- is a suite of command-line tools\n",
    "- is developed in Python by Wireservice\n",
    "- offers data processing and cleaning capabilities on CSV files\n",
    "- install : `pip install csvkit`\n",
    "- upgrade: `pip install --upgrade csvkit`\n",
    "- documentation : https://csvkit.readthedocs.io/en/latest/tutorial.html (no man command)\n"
   ]
  },
  {
   "cell_type": "markdown",
   "metadata": {},
   "source": [
    "# in2csv"
   ]
  },
  {
   "cell_type": "markdown",
   "metadata": {},
   "source": [
    "- converting files to CSV\n",
    "- example: `in2csv file_name.xlsx > SpotifyData.csv`\n",
    "- CLI documentations:\n",
    "    - `in2csv --help`\n",
    "    - `in2csv -h`\n",
    "- See all sheet names in the excel file with `-n` or `--names`: \n",
    "    - `in2csv -n file_name.xlsx`\n",
    "- Convert specific sheet to cv: \n",
    "    - `in2csv file_name.xlsx --sheet \"Worksheet1_Popularity\" > file_name.csv`\n",
    "    "
   ]
  },
  {
   "cell_type": "markdown",
   "metadata": {},
   "source": [
    "# csvlook"
   ]
  },
  {
   "cell_type": "markdown",
   "metadata": {},
   "source": [
    "- renders a CSV to the command line in a Markdown-compatible, fixed-width format\n",
    "- Documentation : `csvlook -h`\n"
   ]
  },
  {
   "cell_type": "markdown",
   "metadata": {},
   "source": [
    "# csvstat"
   ]
  },
  {
   "cell_type": "markdown",
   "metadata": {},
   "source": [
    "- prints descriptive summary statistics on all columns in CSV\n",
    "- Documentation : `csvstat -h`\n",
    "- example:\n",
    "    - `csvstat file_name.csv`"
   ]
  },
  {
   "cell_type": "markdown",
   "metadata": {},
   "source": [
    "# csvcut"
   ]
  },
  {
   "cell_type": "markdown",
   "metadata": {},
   "source": [
    "- filtering data by column\n",
    "- Documentation: `csvcut -h`\n",
    "- See column names: `csvcut -n file_name.csv`\n",
    "- Take first column : `csvcut -c 1 file_name.csv`\n",
    "- Take a column by name : `csvcut -c \"col1\" file_name.csv`\n",
    "- Take multiple columns : `csvcut -c 2,3 file_name.csv`\n",
    "- Take multiple columns by name : `csvcut -c \"col1\",\"col2\" file_name.csv`"
   ]
  },
  {
   "cell_type": "markdown",
   "metadata": {},
   "source": [
    "# csvgrep"
   ]
  },
  {
   "cell_type": "markdown",
   "metadata": {},
   "source": [
    "- filtering data by row value\n",
    "- flags:\n",
    "    - `-m` : followed by the exact row value to filter (match)\n",
    "    - `-r` : followed with a regex pattern (regex)\n",
    "    - `-f` : followed by the path to a file (file)\n",
    "- documentation: `csvgrep -h`\n",
    "- example 1: `csvgrep -c \"col1\" -m 5RCPsfzmEpTXMCTNk7wEfQ file_name.csv`\n",
    "    - Find in `file_name.csv` where `col1` = `5RCPsfzmEpTXMCTNk7wEfQ`\n",
    "- example 2: `csvgrep -c 1 -m 5RCPsfzmEpTXMCTNk7wEfQ file_name.csv` \n",
    "    - Same result"
   ]
  },
  {
   "cell_type": "markdown",
   "metadata": {},
   "source": [
    "# csvstack"
   ]
  },
  {
   "cell_type": "markdown",
   "metadata": {},
   "source": [
    "- stacks up the rows from two or more CSV files of same schema\n",
    "- Documentation: `csvstack -h`\n",
    "- Stacking multiple files: `csvstack file1.csv file2.csv > final_file.csv`\n",
    "- file stacking by grouping:\n",
    "    ```\n",
    "    csvstack -g \"group1\",\"group2\" \\\n",
    "    file1.csv file2.csv > final_file.csv\n",
    "    ```\n",
    "- file stacking by grouping and renaming group column:\n",
    "    ```\n",
    "    csvstack -g \"file1\",\"file2\" -n \"source\" \\\n",
    "    file1.csv file2.csv > final_file.csv\n",
    "    ```"
   ]
  },
  {
   "cell_type": "markdown",
   "metadata": {},
   "source": [
    "# chaining commands"
   ]
  },
  {
   "cell_type": "markdown",
   "metadata": {},
   "source": [
    "- `;` links commands together and runs sequentially\n",
    "    - `csvlook some_file.csv; csvstat some_file.csv`\n",
    "- `&&` links commands together, but only runs the 2nd command if the 1st succeeds\n",
    "    - `csvlook some_file.csv && csvstat some_file data.csv`\n",
    "- `>` re-directs the output from the 1st command to the location indicated as the 2nd\n",
    "    - `in2csv some_file.xlsx > some_file.csv`\n",
    "- `|` uses the output of the 1st command as input to the 2nd\n",
    "    - `csvcut -c \"col1\",\"col2\" some_file.csv | csvlook`"
   ]
  }
 ],
 "metadata": {
  "kernelspec": {
   "display_name": "Python 3.8.11 ('env_py')",
   "language": "python",
   "name": "python3"
  },
  "language_info": {
   "name": "python",
   "version": "3.8.11"
  },
  "orig_nbformat": 4,
  "vscode": {
   "interpreter": {
    "hash": "1e949e87132dd83f1a7623eb88007e3532b03b66b77111be347aa4a383049722"
   }
  }
 },
 "nbformat": 4,
 "nbformat_minor": 2
}
