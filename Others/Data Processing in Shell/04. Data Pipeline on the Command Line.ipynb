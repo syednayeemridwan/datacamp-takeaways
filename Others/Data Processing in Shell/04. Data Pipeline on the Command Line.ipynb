{
 "cells": [
  {
   "cell_type": "markdown",
   "metadata": {},
   "source": [
    "# Python"
   ]
  },
  {
   "cell_type": "markdown",
   "metadata": {},
   "source": [
    "- install python\n",
    "- can be used with GUI interfaces (e.g Jupyter Notebook, Spyder, PyCharm, etc.)\n",
    "- can also be accessed directly via the command line interface\n",
    "- Documentation : `man python`\n",
    "- find installation folder: `which python`\n",
    "- Start Python interactive session: `python`\n",
    "- code samples: `>>> print('hello world')`\n",
    "- exit: `>>> exit()`\n",
    "- Creating python script: \n",
    "    1. Create a `.py` file using a text editor on the command line\n",
    "    2. `echo “print(‘hello world’)” > hello_world.py`\n",
    "- Execute python script: `python hello_world.py`\n",
    "- Python standard library: https://docs.python.org/3/py-modindex.html\n",
    "- libraries can be installed with pip : `pip install package_name1 package_name2`\n",
    "- Install specified version of package : `pip install scikit-learn==0.19.2 package_name2==1.2.3`\n",
    "- Upgrade existing installed python package : `pip install --upgrade package_name1 package_name2` \n",
    "- pip documentation : `pip -h`\n",
    "- pip version : `pip --version`\n",
    "- upgrade pip : `pip install --upgrade pip`\n",
    "- Display package of current python environment : `pip list`\n",
    "- pip install with `requirements.txt`:\n",
    "    1. put a list of packages to be installed in `requirements.txt`\n",
    "    2. verify the list : `cat requirements.txt`\n",
    "    3. install : `pip install -r requirements.txt`"
   ]
  },
  {
   "cell_type": "markdown",
   "metadata": {},
   "source": [
    "# scheduler"
   ]
  },
  {
   "cell_type": "markdown",
   "metadata": {},
   "source": [
    "- runs jobs on a pre-determined schedule\n",
    "- automate data pipeline\n",
    "- Commercial schedulers: Airflow, Luigi, Rundeck, etc.\n",
    "- cron scheduler is\n",
    "- is a time-based job-scheduler\n",
    "    - is used to automate jobs like system maintenance, bash scripts, Python jobs, etc.\n",
    "    - simple\n",
    "    - free (comes pre-installed in MacOS, Unix)\n",
    "    - can be installed in Windows via Cygwin or replaced with Windows Task Scheduler\n",
    "    - customizable\n",
    "    - purely command-line\n",
    "    - native to MacOS and Linux\n",
    "- See list of jobs / tasks : `crontab -l`\n",
    "- Documentation : `man crontab`\n",
    "- Minimum time to schedule : 1 minute\n",
    "- Adding a cronjob:\n",
    "    1. modify crontab using a text editor: `crontab -e`\n",
    "    2. `echo \"* * * * * python create_model.py\" | crontab`\n",
    "        - Run every minute of every hour of every day of every month and of every day of the week.\n",
    "        - In short, run every minute\n",
    "- see more ways to schedule a cron job : https://crontab.guru/\n",
    "<center><img src=\"images/04.08.jpg\"  style=\"width: 400px, height: 300px;\"/></center>"
   ]
  }
 ],
 "metadata": {
  "kernelspec": {
   "display_name": "Python 3.8.11 ('env_py')",
   "language": "python",
   "name": "python3"
  },
  "language_info": {
   "name": "python",
   "version": "3.8.11"
  },
  "orig_nbformat": 4,
  "vscode": {
   "interpreter": {
    "hash": "1e949e87132dd83f1a7623eb88007e3532b03b66b77111be347aa4a383049722"
   }
  }
 },
 "nbformat": 4,
 "nbformat_minor": 2
}
