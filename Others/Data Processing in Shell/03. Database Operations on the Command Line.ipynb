{
 "cells": [
  {
   "cell_type": "markdown",
   "metadata": {},
   "source": [
    "# sql2csv"
   ]
  },
  {
   "cell_type": "markdown",
   "metadata": {},
   "source": [
    "- Allows to executes an SQL query on a large variety of SQL databases (e.g. MS SQL, MySQL, Oracle, PostgreSQL, Sqlite)\n",
    "- outputs the result to a CSV \n",
    "- Done in 3 steps:\n",
    "    1. Establishing database connection with `--db`\n",
    "    2. Querying against the database with `--query` (Use SQL syntax compatible with the desired database)\n",
    "    3. Saving the output with `>`\n",
    "- Documentation: `sql2csv -h`\n",
    "- sample syntax:\n",
    "    ```\n",
    "    sql2csv --db \"sqlite:///some_database.db\" \\\n",
    "    --query \"SELECT * FROM some_table\" \\\n",
    "    > output.csv\n",
    "    ```\n",
    "- SQLite: starts with `sqlite:///` and ends with `.db`\n",
    "- Postgres & MySQL: starts with `postgres:///` or `mysql:///` and with no `.db`"
   ]
  },
  {
   "cell_type": "markdown",
   "metadata": {},
   "source": [
    "# csvsql"
   ]
  },
  {
   "cell_type": "markdown",
   "metadata": {},
   "source": [
    "- applies SQL statements to one or more CSV \n",
    "- creates an in-memory SQL database that temporarily hosts the file being processed\n",
    "- suitable for small to medium files only\n",
    "- Documentation : `csvsql -h`\n",
    "- sample syntax: (see with `csvlook` to prettify)\n",
    "    ```\n",
    "    csvsql --query \"SELECT * FROM Spotify_MusicAttributes LIMIT 1\" file_name.csv | csvlook\n",
    "    ```\n",
    "- SQL Query must be written in one line, no breaks\n",
    "- Indicate CSV files in order of appearance in SQL\n",
    "- example:\n",
    "    ```\n",
    "    csvsql --query \"SELECT * FROM file_a INNER JOIN file_b...\" file_a.csv file_b.csv\n",
    "    ```\n",
    "- More option arguments:\n",
    "    - `--insert` (upload to local existing database)\n",
    "    - `--db` (database name)\n",
    "    - `--no-inference` (Disable type inference when parsing the input. Treat each column as text)\n",
    "    - `--no-constraints` (Generate a schema without length limits or null checks.)\n",
    "- execute SQL statements directly on a database\n",
    "- supports both creating tables and inserting data.\n",
    "- Upload CSV file to an existing database: \n",
    "    ```\n",
    "    csvsql --db \"sqlite:///SpotifyDatabase.db\" \\\n",
    "    --insert Spotify_MusicAttributes.csv\n",
    "    ```"
   ]
  }
 ],
 "metadata": {
  "kernelspec": {
   "display_name": "Python 3.8.11 ('env_py')",
   "language": "python",
   "name": "python3"
  },
  "language_info": {
   "name": "python",
   "version": "3.8.11"
  },
  "orig_nbformat": 4,
  "vscode": {
   "interpreter": {
    "hash": "1e949e87132dd83f1a7623eb88007e3532b03b66b77111be347aa4a383049722"
   }
  }
 },
 "nbformat": 4,
 "nbformat_minor": 2
}
