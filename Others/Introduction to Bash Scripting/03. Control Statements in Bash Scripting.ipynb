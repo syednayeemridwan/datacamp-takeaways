{
 "cells": [
  {
   "cell_type": "markdown",
   "metadata": {},
   "source": [
    "# Tips"
   ]
  },
  {
   "cell_type": "markdown",
   "metadata": {},
   "source": [
    "- Use quiet flag `-q` to stop giving output in console when using `rep`"
   ]
  },
  {
   "cell_type": "markdown",
   "metadata": {},
   "source": [
    "# IF statement"
   ]
  },
  {
   "cell_type": "markdown",
   "metadata": {},
   "source": [
    "```\n",
    "if [ CONDITION ]; then\n",
    "# SOME CODE\n",
    "else\n",
    "# SOME OTHER CODE\n",
    "fi\n",
    "``"
   ]
  },
  {
   "cell_type": "markdown",
   "metadata": {},
   "source": [
    "- Spaces between square brackets and conditional elements inside (first line)\n",
    "- Semi-colon after close-bracket ];\n",
    "- example:\n",
    "    ```\n",
    "    x=\"Queen\"\n",
    "    if [ $x == \"King\" ]; then\n",
    "    echo \"$x is a King!\"\n",
    "    else\n",
    "    echo \"$x is not a King!\"\n",
    "    fi\n",
    "    ```\n",
    "- example 2:\n",
    "    ```\n",
    "    x=10\n",
    "    if (($x > 5)); then\n",
    "    echo \"$x is more than 5!\"\n",
    "    fi\n",
    "    ```"
   ]
  },
  {
   "cell_type": "markdown",
   "metadata": {},
   "source": [
    "- flags:\n",
    "    - `-eq` for 'equal to'\n",
    "    - `-ne` for 'not equal to'\n",
    "    - `-lt` for 'less than'\n",
    "    - `-le` for 'less than or equal to'\n",
    "    - `-gt` for 'greater than'\n",
    "    - `-ge` for 'greater than or equal to'\n",
    "- example:\n",
    "    ```\n",
    "    x=10\n",
    "    if [ $x -gt 5 ]; then\n",
    "    echo \"$x is more than 5!\"\n",
    "    fi\n",
    "    ```"
   ]
  },
  {
   "cell_type": "markdown",
   "metadata": {},
   "source": [
    "- file related flags:\n",
    "    - `-e` if the file exists\n",
    "    - `-s` if the file exists and has size greater than zero\n",
    "    - `-r` if the file exists and is readable\n",
    "    - `-w` if the file exists and is writable\n",
    "- see more: https://www.gnu.org/software/bash/manual/html_node/Bash-Conditional-Expressions.html"
   ]
  },
  {
   "cell_type": "markdown",
   "metadata": {},
   "source": [
    "- More example:\n",
    "```\n",
    "if grep -q Hello words.txt; then\n",
    "echo \"Hello is inside!\"\n",
    "fi\n",
    "```\n",
    "- Alternative:\n",
    "```\n",
    "if $(grep -q Hello words.txt); then\n",
    "echo \"Hello is inside!\"\n",
    "fi\n",
    "```"
   ]
  },
  {
   "cell_type": "markdown",
   "metadata": {},
   "source": [
    "# AND and OR"
   ]
  },
  {
   "cell_type": "markdown",
   "metadata": {},
   "source": [
    "```\n",
    "x=10\n",
    "if [ $x -gt 5 ] && [ $x -lt 11 ]; then\n",
    "echo \"$x is more than 5 and less than 11!\"\n",
    "fi\n",
    "```\n",
    "\n",
    "Or use double-square-bracket notation:\n",
    "```\n",
    "x=10\n",
    "if [[ $x -gt 5 && $x -lt 11 ]]; then\n",
    "echo \"$x is more than 5 and less than 11!\"\n",
    "fi\n",
    "```"
   ]
  },
  {
   "cell_type": "markdown",
   "metadata": {},
   "source": [
    "# For Loop"
   ]
  },
  {
   "cell_type": "markdown",
   "metadata": {},
   "source": [
    "- Example 1:\n",
    "    - like python `in`:\n",
    "\n",
    "    ```\n",
    "    for x in 1 2 3\n",
    "    do\n",
    "        echo $x\n",
    "    done\n",
    "    ```\n",
    "- Example 2:\n",
    "    - with `{START..STOP..INCREMENT}`:\n",
    "    ```\n",
    "    for x in {1..5..2}\n",
    "    do\n",
    "        echo $x\n",
    "    done\n",
    "    ```\n",
    "- Example 3:\n",
    "    - with `(( ; ; ))`:\n",
    "\n",
    "    ```\n",
    "    for ((x=2;x<=4;x+=2))\n",
    "    do\n",
    "        echo $x\n",
    "    done\n",
    "    ```\n",
    "- Example 4:\n",
    "    - with glob expansion:\n",
    "    ```\n",
    "    for book in books/*\n",
    "    do\n",
    "    echo $book\n",
    "    done\n",
    "    ```\n",
    "- Example 5:\n",
    "    - with shell-within-a-shell using `$()`:\n",
    "    ```\n",
    "    for book in $(ls books/ | grep -i 'air')\n",
    "    do\n",
    "        echo $book\n",
    "    done\n",
    "    ```\n",
    "    "
   ]
  },
  {
   "cell_type": "markdown",
   "metadata": {},
   "source": [
    "# While loop"
   ]
  },
  {
   "cell_type": "markdown",
   "metadata": {},
   "source": [
    "```\n",
    "x=1\n",
    "while [ $x -le 3 ];\n",
    "do\n",
    "    echo $x\n",
    "    ((x+=1))\n",
    "done\n",
    "```"
   ]
  },
  {
   "cell_type": "markdown",
   "metadata": {},
   "source": [
    "# CASE statements"
   ]
  },
  {
   "cell_type": "markdown",
   "metadata": {},
   "source": [
    "```\n",
    "case 'STRING' in \n",
    "    PATTERN1) \n",
    "    COMMAND1;; \n",
    "    PATTERN2) \n",
    "    COMMAND2;;\n",
    "    *)\n",
    "    DEFAULT COMMAND;;\n",
    "esac\n",
    "```"
   ]
  },
  {
   "cell_type": "markdown",
   "metadata": {},
   "source": [
    "<center><img src=\"images/03.08.jpg\"  style=\"width: 400px, height: 300px;\"/></center>\n"
   ]
  }
 ],
 "metadata": {
  "kernelspec": {
   "display_name": "Python 3.8.11 ('env_py')",
   "language": "python",
   "name": "python3"
  },
  "language_info": {
   "name": "python",
   "version": "3.8.11"
  },
  "orig_nbformat": 4,
  "vscode": {
   "interpreter": {
    "hash": "1e949e87132dd83f1a7623eb88007e3532b03b66b77111be347aa4a383049722"
   }
  }
 },
 "nbformat": 4,
 "nbformat_minor": 2
}
