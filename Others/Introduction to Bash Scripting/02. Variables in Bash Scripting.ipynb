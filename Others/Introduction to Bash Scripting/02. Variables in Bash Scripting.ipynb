{
 "cells": [
  {
   "cell_type": "markdown",
   "metadata": {},
   "source": [
    "# Assigning variables"
   ]
  },
  {
   "cell_type": "markdown",
   "metadata": {},
   "source": [
    "- Setting value of a variable : `var1=\"Moon\"`\n",
    "- Getting value of a variable : `echo $var1`\n",
    "- If you miss the `$` notation - it isn't a variable!\n",
    "- There must not be spaces around `=` sign\n",
    "- Quotations:\n",
    "    - Single quotes ( 'sometext' ) = Shell interprets what is between literally\n",
    "    - Double quotes ( \"sometext\" ) = Same as single quotes + understand `$` and backticks and interpretes accordingly\n",
    "    - Backticks (\"`sometext`\") = Shell runs the command and captures STDOUT back into a variable (used together with Double quotes)\n",
    "    - backticks can be replaced with `$(some_command)` . However backtick is backward compatible"
   ]
  },
  {
   "cell_type": "markdown",
   "metadata": {},
   "source": [
    "- example:\n",
    "    ```\n",
    "    rightnow_doublequote=\"The date is `date`.\"\n",
    "    echo $rightnow_doublequote\n",
    "    ```\n",
    "    - Result : `The date is Mon 2 Dec 2019 14:13:35 AEDT.`"
   ]
  },
  {
   "cell_type": "markdown",
   "metadata": {},
   "source": [
    "# Numbers in shell"
   ]
  },
  {
   "cell_type": "markdown",
   "metadata": {},
   "source": [
    "- Numbers are not natively supported\n",
    "- use `expr` for numeric operations : \n",
    "    - `expr 1 + 4` will give output `5`\n",
    "    - Cannot handle decimal places\n",
    "    - Use `bc` (basic calculator) : Run `bc` and only exit by typing `quit`\n",
    "- use `bc` with piping : `echo \"5 + 7.5\" | bc` \n",
    "    - `echo \"scale=3; 10 / 3\" | bc` will give `3.333`\n",
    "- use `$(( some_num ))` instead of `expr`\n",
    "    - `echo $((5 + 7))`\n",
    "- example :\n",
    "    ```\n",
    "    model1=87.65\n",
    "    model2=89.20\n",
    "    echo \"The total score is $(echo \"$model1 + $model2\" | bc)\"\n",
    "    echo \"The average score is $(echo \"($model1 + $model2) / 2\" | bc)\"\n",
    "    ```"
   ]
  },
  {
   "cell_type": "markdown",
   "metadata": {},
   "source": [
    "# Arrays"
   ]
  },
  {
   "cell_type": "markdown",
   "metadata": {},
   "source": [
    "- Like list of python\n",
    "- 0-based indexing\n",
    "- Always use `${}` when dealing with arrays (except when setting array values)\n",
    "- 2 ways of creating arrays:\n",
    "    1. Declare without adding elements :\n",
    "        - `declare -a my_first_array`\n",
    "    2. Creating and adding elements at the same time :\n",
    "        - `my_first_array=(1 2 3)` \n",
    "        - `my_array=(1 3 5 2)`\n",
    "- Return all array elements: `echo ${my_array[@]}`\n",
    "- Length of array: `echo ${#my_array[@]}`\n",
    "- Access third array element: `echo ${my_array[2]}`\n",
    "- Set value of an array element: `my_array[0]=999`\n",
    "- Return 2 elements starting from index 3: `echo ${my_array[@]:3:2}`\n",
    "- Appending element in an array at the end of the array: `my_array+=(10)`"
   ]
  },
  {
   "cell_type": "markdown",
   "metadata": {},
   "source": [
    "# Associative arrays"
   ]
  },
  {
   "cell_type": "markdown",
   "metadata": {},
   "source": [
    "- Like python dictionaries\n",
    "- key-value pairs\n",
    "- 2 ways of creating arrays:\n",
    "        "
   ]
  },
  {
   "cell_type": "markdown",
   "metadata": {},
   "source": [
    "- Way-1:\n",
    "    ```\n",
    "    declare -A city_details # Declare first\n",
    "    city_details=([city_name]=\"New York\" [population]=14000000) # Add elements\n",
    "    echo ${city_details[city_name]} # Index using key to return a value\n",
    "    ```\n",
    "- Way-2:\n",
    "    ```\n",
    "    declare -A city_details=([city_name]=\"New York\" [population]=14000000)\n",
    "    ```"
   ]
  },
  {
   "cell_type": "markdown",
   "metadata": {},
   "source": [
    "- Access the 'keys' of an associative array with an `!`\n",
    "    - `echo ${!city_details[@]} # Return all the keys`\n",
    "- Appending pairs in associative array:\n",
    "    - `city_details[city_of]=\"Bangladesh\"`"
   ]
  }
 ],
 "metadata": {
  "kernelspec": {
   "display_name": "Python 3.8.11 ('env_py')",
   "language": "python",
   "name": "python3"
  },
  "language_info": {
   "name": "python",
   "version": "3.8.11"
  },
  "orig_nbformat": 4,
  "vscode": {
   "interpreter": {
    "hash": "1e949e87132dd83f1a7623eb88007e3532b03b66b77111be347aa4a383049722"
   }
  }
 },
 "nbformat": 4,
 "nbformat_minor": 2
}
