{
 "cells": [
  {
   "cell_type": "markdown",
   "metadata": {},
   "source": [
    "# Functions"
   ]
  },
  {
   "cell_type": "markdown",
   "metadata": {},
   "source": [
    "- Functions are reusable\n",
    "- Functions allow neat, compartmentalized (modular) code\n",
    "- Functions aid sharing code (you only need to know inputs and outputs to use!)\n",
    "- syntax:\n",
    "    ```\n",
    "    function_name () {\n",
    "    #function_code\n",
    "    return #something\n",
    "    }\n",
    "    ```\n",
    "- alternative syntax:\n",
    "    ```\n",
    "    function function_name () {\n",
    "    #function_code\n",
    "    return #something\n",
    "    }\n",
    "    ```\n",
    "- calling function: `function_name`\n",
    "- example:\n",
    "    ```\n",
    "    temp_f=30\n",
    "    function convert_temp () {\n",
    "    temp_c=$(echo \"scale=2; ($temp_f - 32) * 5 / 9\" | bc)\n",
    "    echo $temp_c\n",
    "    }\n",
    "    convert_temp # call the function\n",
    "    ```"
   ]
  },
  {
   "cell_type": "markdown",
   "metadata": {},
   "source": [
    "# Passing arguments into Bash functions"
   ]
  },
  {
   "cell_type": "markdown",
   "metadata": {},
   "source": [
    "- Each argument can be accessed via the `$1` , `$2` notation.\n",
    "- `$@` and `$*` give all the arguments in ARGV\n",
    "- `$#` gives the length (number) of arguments\n",
    "- example:\n",
    "    ```\n",
    "    function print_filename {\n",
    "    echo \"The first file was $1\"\n",
    "    for file in $@\n",
    "    do\n",
    "    echo \"This file has name $file\"\n",
    "    done\n",
    "    }\n",
    "    print_filename \"LOTR.txt\" \"mod.txt\" \"A.py\"\n",
    "    ```\n"
   ]
  },
  {
   "cell_type": "markdown",
   "metadata": {},
   "source": [
    "# Scope in programming"
   ]
  },
  {
   "cell_type": "markdown",
   "metadata": {},
   "source": [
    "- Global scope = accessible anywhere in the program\n",
    "- Local Scope = Only accessible in a certain part of the program\n",
    "- all variables in Bash are global by default.\n",
    "- You can use the `local` keyword to restrict variable scope.\n",
    "    - example:\n",
    "    ```\n",
    "    function print_filename {\n",
    "    local first_filename=$1\n",
    "    }\n",
    "    ```\n",
    "- The return option in Bash is only meant to determine if the function was a success (0) or failure (other values 1-255). It is captured in the global variable `$?`\n",
    "- To return value from function:\n",
    "    1. Assign to a global variable\n",
    "    2. echo what we want back (last line in function) and capture using shell-within-a-shell\n",
    "\n",
    "- example 1:\n",
    "    ```\n",
    "    function function_2 {\n",
    "        echlo # An error of 'echo'\n",
    "    }\n",
    "    function_2 # Call the function\n",
    "    echo $? # Print the return value\n",
    "    ```\n",
    "- example 2:\n",
    "    ```\n",
    "        function convert_temp {\n",
    "        echo $(echo \"scale=2; ($1 - 32) * 5 / 9\" | bc)\n",
    "        }\n",
    "        converted=$(convert_temp 30)\n",
    "        echo \"30F in Celsius is $converted C\"\n",
    "    ```"
   ]
  },
  {
   "cell_type": "markdown",
   "metadata": {},
   "source": [
    "# Scheduling scripts with Cron"
   ]
  },
  {
   "cell_type": "markdown",
   "metadata": {},
   "source": [
    "- driven by a file called `crontab`\n",
    "- that contains `cronjobs`\n",
    "- See current schedules : `crontab -l`\n",
    "- In terminal type `crontab -e` to edit your list of cronjobs\n",
    "    - `nano` is an easy option\n",
    "- inside the crontab file. You can have many cronjobs , one per line.\n",
    "<center><img src=\"images/04.08.jpg\"  style=\"width: 400px, height: 300px;\"/></center>\n"
   ]
  },
  {
   "cell_type": "markdown",
   "metadata": {},
   "source": [
    "- example:\n",
    "    - `15 14 * * 7 bash myscript.sh`\n",
    "        - run `myscript.sh` at 2:15pm every Sunday.\n",
    "    - `15,30,45 * * * *` \n",
    "        - run at the 15,30 and 45 minutes mark\n",
    "    - `*/15 * * * *`\n",
    "        - runs every 15 minutes increment"
   ]
  }
 ],
 "metadata": {
  "kernelspec": {
   "display_name": "Python 3.8.11 ('env_py')",
   "language": "python",
   "name": "python3"
  },
  "language_info": {
   "name": "python",
   "version": "3.8.11"
  },
  "orig_nbformat": 4,
  "vscode": {
   "interpreter": {
    "hash": "1e949e87132dd83f1a7623eb88007e3532b03b66b77111be347aa4a383049722"
   }
  }
 },
 "nbformat": 4,
 "nbformat_minor": 2
}
