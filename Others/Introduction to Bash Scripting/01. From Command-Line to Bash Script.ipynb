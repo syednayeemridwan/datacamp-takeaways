{
 "cells": [
  {
   "cell_type": "markdown",
   "metadata": {},
   "source": [
    "# Bash"
   ]
  },
  {
   "cell_type": "markdown",
   "metadata": {},
   "source": [
    "- Bash stands for 'Bourne Again Shell' (a pun)\n",
    "- Unix is the internet! (Running ML Models, Data Pipelines)\n",
    "- Ease of execution of shell commands (no need to copy-paste every time!)\n",
    "- Powerful programming constructs\n",
    "- some commands:\n",
    "    - `sed` does string replacement by regex pattern matching\n",
    "    - To test your regex you can use helpful sites like `regex101.com`\n",
    "    - Using `^` makes this an inverse set (not these letters, opposite of `[]`)\n",
    "    - `grep '[pc]' fruits.txt`\n",
    "        - return all lines with either p or c inside `fruits.txt`\n",
    "    - `cat new_fruits.txt | sort | uniq -c | head -n 3`\n",
    "        - return the contents of `new_fruits.txt` by sorting them and return only the unique count of top 3 entries\n",
    "- Each line of your Bash script can be a shell command\n",
    "- You can also include pipes in your Bash scripts.\n"
   ]
  },
  {
   "cell_type": "markdown",
   "metadata": {},
   "source": [
    "# Script anatomy"
   ]
  },
  {
   "cell_type": "markdown",
   "metadata": {},
   "source": [
    "- `which bash ` to check where bash is installed\n",
    "- It has a file extension `.sh`\n",
    "- Run script command : `bash script_name.sh`\n",
    "- if you have mentioned first line ( `#!/usr/bash` ) you can simply run using : `./script_name.sh`\n",
    "- example:\n",
    "    - `eg.sh`  contains:\n",
    "        ```\n",
    "        #!/usr/bash\n",
    "        echo \"Hello world\"\n",
    "        echo \"Goodbye world\"\n",
    "        ```\n",
    "    - You can run with `./eg.sh`\n",
    "- example 2:\n",
    "    - `group.sh` contains:\n",
    "        ```\n",
    "        #!/usr/bash\n",
    "        cat animals.txt | cut -d \" \" -f 2 | sort | uniq -c\n",
    "        ```\n",
    "    - You can run with `bash group.sh`\n"
   ]
  },
  {
   "cell_type": "markdown",
   "metadata": {},
   "source": [
    "# STDIN-STDOUT-STDERR"
   ]
  },
  {
   "cell_type": "markdown",
   "metadata": {},
   "source": [
    "- In Bash scripting, there are three 'streams' for your program:\n",
    "    - STDIN (standard input). A stream of data into the program\n",
    "    - STDOUT (standard output). A stream of data out of the program\n",
    "    - STDERR (standard error). Errors in your program\n",
    "<center><img src=\"images/01.081.jpg\"  style=\"width: 400px, height: 300px;\"/></center>\n"
   ]
  },
  {
   "cell_type": "markdown",
   "metadata": {},
   "source": [
    "- examples:\n",
    "    - The `cat sports.txt 1> new_sports.txt` command is an example of taking data from the file and writing STDOUT to a new file (1 is for standard output).\n",
    "    "
   ]
  },
  {
   "cell_type": "markdown",
   "metadata": {},
   "source": [
    "# STDIN vs ARGV"
   ]
  },
  {
   "cell_type": "markdown",
   "metadata": {},
   "source": [
    "- Bash scripts can take arguments to be used inside by adding a space after the script execution call.\n",
    "- ARGV is the array of all the arguments given to the program.\n",
    "- Each argument can be accessed via the `$` notation. The first as `$1` , the second as `$2` etc.\n",
    "- `$@` and `$*` give all the arguments in ARGV\n",
    "- `$#` gives the length (number) of arguments"
   ]
  },
  {
   "cell_type": "markdown",
   "metadata": {},
   "source": [
    "- example: `args.sh` contains:\n",
    "    ```\n",
    "    #!/usr/bash\n",
    "    echo $1\n",
    "    echo $2\n",
    "    echo $@\n",
    "    echo \"There are \" $# \"arguments\"\n",
    "    ```\n",
    "- You can run `bash args.sh one two three four five`\n",
    "- output will be:\n",
    "\n",
    "    ```\n",
    "    one\n",
    "    two\n",
    "    one two three four five\n",
    "    There are 5 arguments\n",
    "    ```"
   ]
  }
 ],
 "metadata": {
  "kernelspec": {
   "display_name": "Python 3.8.11 ('env_py')",
   "language": "python",
   "name": "python3"
  },
  "language_info": {
   "name": "python",
   "version": "3.8.11"
  },
  "orig_nbformat": 4,
  "vscode": {
   "interpreter": {
    "hash": "1e949e87132dd83f1a7623eb88007e3532b03b66b77111be347aa4a383049722"
   }
  }
 },
 "nbformat": 4,
 "nbformat_minor": 2
}
