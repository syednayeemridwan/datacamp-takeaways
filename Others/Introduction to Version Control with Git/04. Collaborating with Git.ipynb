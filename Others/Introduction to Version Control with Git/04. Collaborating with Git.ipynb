{
 "cells": [
  {
   "cell_type": "markdown",
   "metadata": {},
   "source": [
    "# Creating new repository"
   ]
  },
  {
   "cell_type": "markdown",
   "metadata": {},
   "source": [
    "- `git init project_name` : For new projects\n",
    "    - A new directory named `project_name` will be created\n",
    "    - `project_name` will be a new repo\n",
    "    - `cd project_name` and then use the new repo\n",
    "- `git init` : For existing projects\n",
    "    - the root directory becomes a new repo"
   ]
  },
  {
   "cell_type": "markdown",
   "metadata": {},
   "source": [
    "# Tips"
   ]
  },
  {
   "cell_type": "markdown",
   "metadata": {},
   "source": [
    "- Don't create a Git repo inside another Git repo (Known as nested repos)\n",
    "    - There will be two `.git` directories\n",
    "    - Which `.git` directory should be updated?\n",
    "    - Not necessary in most circumstances\n"
   ]
  },
  {
   "cell_type": "markdown",
   "metadata": {},
   "source": [
    "# Remote repos"
   ]
  },
  {
   "cell_type": "markdown",
   "metadata": {},
   "source": [
    "- We work with local repos (on PC)\n",
    "- How do we share our projects with others ?\n",
    "    - Online repos / remote repos (on Cloud)\n",
    "    - Everything is backed up\n",
    "    - Collaboration, regardless of location\n",
    "\n",
    "<center><img src=\"images/04.04.jpg\"  style=\"width: 400px, height: 300px;\"/></center>\n",
    "<center><img src=\"images/04.07.jpg\"  style=\"width: 400px, height: 300px;\"/></center>\n"
   ]
  },
  {
   "cell_type": "markdown",
   "metadata": {},
   "source": [
    "# Cloning "
   ]
  },
  {
   "cell_type": "markdown",
   "metadata": {},
   "source": [
    "- `git clone https://github.com/datacamp/project` = copying remote repo in local PC\n",
    "- git remembers where it is cloned from\n",
    "    - `git remote` = see the original version of the clone\n",
    "    - `git remote -v` = more information of original version's url (verbose)\n",
    "    "
   ]
  },
  {
   "cell_type": "markdown",
   "metadata": {},
   "source": [
    "# Creating a remote"
   ]
  },
  {
   "cell_type": "markdown",
   "metadata": {},
   "source": [
    "- `git remote add remote_name remote_URL` = creating a remote\n",
    "- Defining remote names is useful for merging branches\n",
    "- When cloning, Git will automatically name the remote `origin` by default"
   ]
  },
  {
   "cell_type": "markdown",
   "metadata": {},
   "source": [
    "# Synchronizing the project"
   ]
  },
  {
   "cell_type": "markdown",
   "metadata": {},
   "source": [
    "- Use `fetch` for local and `merge` for main approach:\n",
    "1. Compare remote repos with local repos and fetch updated portion from remote repo\n",
    "    - `git fetch origin local_branchname_to_fetch_into` = new contents added, but not permanently changed\n",
    "2. Update the `main` branch of local repo (To make permanent change)\n",
    "    - `git merge origin main`\n",
    "\n",
    "- Tho whole process is simplified by a pull:\n",
    "    - `git pull origin branch_name` : Pull the updates from remote to local repo\n",
    "- You need to stage / commit your current work before pulling from the remote"
   ]
  },
  {
   "cell_type": "markdown",
   "metadata": {},
   "source": [
    "# Update remote repo with local changes"
   ]
  },
  {
   "cell_type": "markdown",
   "metadata": {},
   "source": [
    "1. Save everything in local repo\n",
    "2. `git push remote_name branch_name` = push / upload everything of local branch to remote branch\n",
    "<center><img src=\"images/04.10.jpg\"  style=\"width: 400px, height: 300px;\"/></center>\n"
   ]
  },
  {
   "cell_type": "markdown",
   "metadata": {},
   "source": [
    "# remote / local conflict"
   ]
  },
  {
   "cell_type": "markdown",
   "metadata": {},
   "source": [
    "- happens when you are trying to push your local content into reote\n",
    "- If that happens, \n",
    "1. pull first `git pull (--no-edit) remote_name branch_name` \n",
    "2. There will be merge, Resolve conflict if merge conflict occurs\n",
    "3. finally push `git push remote_name branch_name` \n",
    "<center><img src=\"images/04.101.jpg\"  style=\"width: 400px, height: 300px;\"/></center>\n"
   ]
  }
 ],
 "metadata": {
  "kernelspec": {
   "display_name": "Python 3.8.11 ('env_py')",
   "language": "python",
   "name": "python3"
  },
  "language_info": {
   "name": "python",
   "version": "3.8.11"
  },
  "orig_nbformat": 4,
  "vscode": {
   "interpreter": {
    "hash": "1e949e87132dd83f1a7623eb88007e3532b03b66b77111be347aa4a383049722"
   }
  }
 },
 "nbformat": 4,
 "nbformat_minor": 2
}
