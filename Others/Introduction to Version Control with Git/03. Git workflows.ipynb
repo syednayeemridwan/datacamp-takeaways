{
 "cells": [
  {
   "cell_type": "markdown",
   "metadata": {},
   "source": [
    "# Configuring Git"
   ]
  },
  {
   "cell_type": "markdown",
   "metadata": {},
   "source": [
    "- `git config (--setting_level) --list`\n",
    "- Git has three levels of settings:\n",
    "    1. `--local` = for one specific project\n",
    "    2. `--global` = for all projects\n",
    "    3. `--system` = for every users on a computer\n",
    "- `git config --global user.email johnsmith@datacamp.com` = setting a value for a specific setting\n",
    "    - use `' '` if there is space in value"
   ]
  },
  {
   "cell_type": "markdown",
   "metadata": {},
   "source": [
    "<center><img src=\"images/03.01.jpg\"  style=\"width: 400px, height: 300px;\"/></center>\n"
   ]
  },
  {
   "cell_type": "markdown",
   "metadata": {},
   "source": [
    "# Aliasing"
   ]
  },
  {
   "cell_type": "markdown",
   "metadata": {},
   "source": [
    "- `git config --global alias.ci 'commit -m'` = creating alias for commit\n",
    "- `git config --global alias.unstage 'reset HEAD'` = creating alias for unstage\n",
    "- `git ci` = using alias"
   ]
  },
  {
   "cell_type": "markdown",
   "metadata": {},
   "source": [
    "# Tracking aliases"
   ]
  },
  {
   "cell_type": "markdown",
   "metadata": {},
   "source": [
    "- `git config --global --list` = See all list of alias\n",
    "- `.gitconfig` file:\n",
    "    ```\n",
    "    alias.ci=commit -m\n",
    "    alias.unstage=reset HEAD\n",
    "    ```"
   ]
  },
  {
   "cell_type": "markdown",
   "metadata": {},
   "source": [
    "# Ignoring specific files"
   ]
  },
  {
   "cell_type": "markdown",
   "metadata": {},
   "source": [
    "- `nano .gitignore`\n",
    "    - `*.txt` = all files with .txt extension will be ignored by git"
   ]
  },
  {
   "cell_type": "markdown",
   "metadata": {},
   "source": [
    "# Branches"
   ]
  },
  {
   "cell_type": "markdown",
   "metadata": {},
   "source": [
    "- Git uses branches to systematically track multiple versions of files\n",
    "- In each branch:\n",
    "    - Some files might be the same\n",
    "    - Others might be different\n",
    "    - Some may not exist at all\n",
    "    - Help Avoiding endless subdirectories\n",
    "    - Multiple users can work simultaneously\n",
    "    - Everything is tracked\n",
    "    - Minimizes the risk of conflicting versions\n",
    "- `git branch` = See available branches (*) will indicate the current branch\n",
    "- `git branch branch_name` = creating a new branch\n",
    "- `git checkout branch_name` = switching to a branch\n",
    "- `git checkout -b branch_name` = creating and switching to a new branch\n",
    "- `git diff branch1 branch2` = See differences between 2 branches\n",
    "- `git merge source destination` = merging 2 branches\n",
    "    - `source` — the branch we want to merge from\n",
    "    - `destination` — the branch we want to merge into\n",
    "<center><img src=\"images/03.05.jpg\"  style=\"width: 400px, height: 300px;\"/></center>\n",
    "<center><img src=\"images/03.10.jpg\"  style=\"width: 400px, height: 300px;\"/></center>\n"
   ]
  },
  {
   "cell_type": "markdown",
   "metadata": {},
   "source": [
    "# Conflict"
   ]
  },
  {
   "cell_type": "markdown",
   "metadata": {},
   "source": [
    "<center><img src=\"images/03.131.jpg\"  style=\"width: 400px, height: 300px;\"/></center>\n",
    "<center><img src=\"images/03.132.jpg\"  style=\"width: 400px, height: 300px;\"/></center>\n",
    "<center><img src=\"images/03.135.jpg\"  style=\"width: 400px, height: 300px;\"/></center>\n",
    "<center><img src=\"images/03.133.jpg\"  style=\"width: 400px, height: 300px;\"/></center>\n",
    "<center><img src=\"images/03.134.jpg\"  style=\"width: 400px, height: 300px;\"/></center>\n"
   ]
  },
  {
   "cell_type": "markdown",
   "metadata": {},
   "source": [
    "1. Conflict occurs during merging\n",
    "2. `git nano file_name` , or use merge editor to resolve conflict manually\n",
    "3. add the changed file to staging area\n",
    "4. commit the changes\n",
    "5. try merging the same branches again (To see if there is any more merge conflicts)"
   ]
  },
  {
   "cell_type": "markdown",
   "metadata": {},
   "source": [
    "# Avoiding merge conflicts"
   ]
  },
  {
   "cell_type": "markdown",
   "metadata": {},
   "source": [
    "- Prevention is better than cure\n",
    "- Use each branch for a specific task\n",
    "- Avoid editing a file in multiple branches\n",
    "- Doesn't guarantee we'll avoid conflicts but it does reduce the risk"
   ]
  }
 ],
 "metadata": {
  "kernelspec": {
   "display_name": "Python 3.8.11 ('env_py')",
   "language": "python",
   "name": "python3"
  },
  "language_info": {
   "name": "python",
   "version": "3.8.11"
  },
  "orig_nbformat": 4,
  "vscode": {
   "interpreter": {
    "hash": "1e949e87132dd83f1a7623eb88007e3532b03b66b77111be347aa4a383049722"
   }
  }
 },
 "nbformat": 4,
 "nbformat_minor": 2
}
