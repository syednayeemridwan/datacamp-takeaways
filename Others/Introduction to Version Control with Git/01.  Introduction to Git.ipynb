{
 "cells": [
  {
   "cell_type": "markdown",
   "metadata": {},
   "source": [
    "# version control"
   ]
  },
  {
   "cell_type": "markdown",
   "metadata": {},
   "source": [
    "- manages / tracks changes made to files\n",
    "- Track files in different states\n",
    "- Simultaneous file development (Continuous Development)\n",
    "- Combine different versions of files\n",
    "- Identify a particular version\n",
    "- Revert changes\n",
    "- Git:\n",
    "    - Popular version control system for computer programming and data projects\n",
    "    - Open source\n",
    "    - Scalable\n",
    "    - Git stores everything, so nothing is lost\n",
    "    - Git notifies us when there is conflicting content in files\n",
    "    - Git synchronizes across different people and computers\n",
    "    - Git commands are run on the shell (terminal)\n",
    "    "
   ]
  },
  {
   "cell_type": "markdown",
   "metadata": {},
   "source": [
    "# Popular shell commands"
   ]
  },
  {
   "cell_type": "markdown",
   "metadata": {},
   "source": [
    "- `pwd` = shows current working directory\n",
    "- `ls` = show whatever is inside current directory / folder\n",
    "- `ls -a` = access `.git` directory\n",
    "- `cd folder_name` = going to another directory\n",
    "- `nano file_name` = editing a file (`Ctrl + O` to save and `Enter` , then `Ctrl + X` to exit the editor)\n",
    "- `echo \"something something\" > example.txt` = creating a file with `echo` with new content\n",
    "- `echo \"something something\" >> example.txt` = creating a file with `echo` by appending content\n",
    "- `git --version` = see git version"
   ]
  },
  {
   "cell_type": "markdown",
   "metadata": {},
   "source": [
    "# Repository"
   ]
  },
  {
   "cell_type": "markdown",
   "metadata": {},
   "source": [
    "- Contains 2 parts:\n",
    "    1. Our files and directories\n",
    "    2. Track records that git keeps in `.git` as metadata (data about our files)\n",
    "- located in root directory of project\n",
    "- Do not edit `.git`!"
   ]
  },
  {
   "cell_type": "markdown",
   "metadata": {},
   "source": [
    "# Saving the changes\n"
   ]
  },
  {
   "cell_type": "markdown",
   "metadata": {},
   "source": [
    "<center><img src=\"images/01.04.jpg\"  style=\"width: 400px, height: 300px;\"/></center>\n"
   ]
  },
  {
   "cell_type": "markdown",
   "metadata": {},
   "source": [
    "1. Put modified files in staging area : `git add file_name`\n",
    "2. Permanently save the file from staging area : `git commit file_name`"
   ]
  },
  {
   "cell_type": "markdown",
   "metadata": {},
   "source": [
    "# Git Workflow"
   ]
  },
  {
   "cell_type": "markdown",
   "metadata": {},
   "source": [
    "- Modify a file\n",
    "- Save the draft to staging area\n",
    "- Commit the updated file\n",
    "- Repeat"
   ]
  },
  {
   "cell_type": "markdown",
   "metadata": {},
   "source": [
    "# Popular git workflow commands"
   ]
  },
  {
   "cell_type": "markdown",
   "metadata": {},
   "source": [
    "- `git status` = check status of repository\n",
    "- `git add .` = add all changes in staging area\n",
    "- `git add file_name` = add changes of a specific file in staging area\n",
    "- `git commit` = commit the changes\n",
    "- `git commit -m \"Commit Message\"` = commit with a message\n"
   ]
  },
  {
   "cell_type": "markdown",
   "metadata": {},
   "source": [
    "# Comparing changes "
   ]
  },
  {
   "cell_type": "markdown",
   "metadata": {},
   "source": [
    "- `git diff file_name` = Compare an unstaged file with the last committed version (`HEAD`)\n",
    "    - shows `a` as first version, `b` as second version, `@@` shows starting line and no of lines\n",
    "- `git diff -r HEAD file_name` = Compare a staged file with the last committed version (`HEAD`)\n",
    "- `git diff -r HEAD` = Compare all staged files with the last committed version\n",
    "<center><img src=\"images/01.09.jpg\"  style=\"width: 400px, height: 300px;\"/></center>\n",
    " "
   ]
  }
 ],
 "metadata": {
  "kernelspec": {
   "display_name": "Python 3.8.11 ('env_py')",
   "language": "python",
   "name": "python3"
  },
  "language_info": {
   "name": "python",
   "version": "3.8.11"
  },
  "orig_nbformat": 4,
  "vscode": {
   "interpreter": {
    "hash": "1e949e87132dd83f1a7623eb88007e3532b03b66b77111be347aa4a383049722"
   }
  }
 },
 "nbformat": 4,
 "nbformat_minor": 2
}
