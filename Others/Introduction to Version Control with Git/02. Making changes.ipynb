{
 "cells": [
  {
   "cell_type": "markdown",
   "metadata": {},
   "source": [
    "# The commit structure"
   ]
  },
  {
   "cell_type": "markdown",
   "metadata": {},
   "source": [
    "- Commit\n",
    "    - contains the metadata\n",
    "- Tree\n",
    "    - tracks the names and locations in the repo\n",
    "- Blob\n",
    "    - binary large object\n",
    "    - may contain data of any kind\n",
    "    - compressed snapshot of a file's contents\n",
    "\n",
    "<center><img src=\"images/02.01.jpg\"  style=\"width: 400px, height: 300px;\"/></center>\n"
   ]
  },
  {
   "cell_type": "markdown",
   "metadata": {},
   "source": [
    "# Git hash"
   ]
  },
  {
   "cell_type": "markdown",
   "metadata": {},
   "source": [
    "- Unique id of each commit\n",
    "- Pseudo-random number generator—hash function\n",
    "- Hashes allow data sharing between repos\n",
    "- If two files are the same, then their hashes are the same\n",
    "- Git only needs to compare hashes to see the changes between file"
   ]
  },
  {
   "cell_type": "markdown",
   "metadata": {},
   "source": [
    "# See what is in a commit"
   ]
  },
  {
   "cell_type": "markdown",
   "metadata": {},
   "source": [
    "- `git log`\n",
    "- `git show c27fa856` (Show a specific commit)\n",
    "- `git show HEAD` (Show last commit)\n",
    "- `git show HEAD~2` (Show second last commit)\n",
    "- press `Space` to see more\n",
    "- Press `q` to exit\n",
    "\n",
    "<center><img src=\"images/02.051.jpg\"  style=\"width: 400px, height: 300px;\"/></center>\n"
   ]
  },
  {
   "cell_type": "markdown",
   "metadata": {},
   "source": [
    "# Show changes between between two commits"
   ]
  },
  {
   "cell_type": "markdown",
   "metadata": {},
   "source": [
    "- `git diff 35f4b4d 186398f`\n",
    "- `git diff HEAD~3 HEAD~2`\n",
    "<center><img src=\"images/02.052.jpg\"  style=\"width: 400px, height: 300px;\"/></center>\n"
   ]
  },
  {
   "cell_type": "markdown",
   "metadata": {},
   "source": [
    "# Show who changed what line by line"
   ]
  },
  {
   "cell_type": "markdown",
   "metadata": {},
   "source": [
    "- `git annotate file_name`\n",
    "\n",
    "<center><img src=\"images/02.053.jpg\"  style=\"width: 400px, height: 300px;\"/></center>\n"
   ]
  },
  {
   "cell_type": "markdown",
   "metadata": {},
   "source": [
    "# Unstage a file"
   ]
  },
  {
   "cell_type": "markdown",
   "metadata": {},
   "source": [
    "- `git reset HEAD file_name.csv` = unstage a specified file\n",
    "- `git reset HEAD` = unstage all files"
   ]
  },
  {
   "cell_type": "markdown",
   "metadata": {},
   "source": [
    "# Undo changes of an unstaged file"
   ]
  },
  {
   "cell_type": "markdown",
   "metadata": {},
   "source": [
    "- `git checkout -- file_name.csv` = losing all changes made to the unstaged file forever\n",
    "- `git checkout .` = losing all changes made to all unstaged files forever"
   ]
  },
  {
   "cell_type": "markdown",
   "metadata": {},
   "source": [
    "# Undo changes of a staged file\n"
   ]
  },
  {
   "cell_type": "markdown",
   "metadata": {},
   "source": [
    "1. Unstage the staged file = `git reset HEAD`\n",
    "2. Undo changes of that unstaged file = `git checkout .`"
   ]
  },
  {
   "cell_type": "markdown",
   "metadata": {},
   "source": [
    "# Revert to previous version of files"
   ]
  },
  {
   "cell_type": "markdown",
   "metadata": {},
   "source": [
    "- `git checkout dc9d8fac file_name.csv` = revert to previous version of file\n",
    "- `git checkout HEAD~1 file_name.csv` = revert to previous version of file\n",
    "- `git checkout dc9d8fac`  = revert to previous version of repo\n",
    "- `git checkout HEAD~1`  = revert to previous version of repo"
   ]
  },
  {
   "cell_type": "markdown",
   "metadata": {},
   "source": [
    "# See specified no of logs"
   ]
  },
  {
   "cell_type": "markdown",
   "metadata": {},
   "source": [
    "- `git log -3` = See the last 3 logs\n",
    "- `git log -3 file_name` = See the last 3 logs of a specified file\n",
    "- `git log --since='Month Day Year'`\n",
    "    - `git log --since='Apr 2 2022'` = Commits since 2nd April 2022\n",
    "- `git log --since='Apr 2 2022' --until='Apr 11 2022'` = Commits between 2nd and 11th April\n"
   ]
  },
  {
   "cell_type": "markdown",
   "metadata": {},
   "source": [
    "<center><img src=\"images/02.09.jpg\"  style=\"width: 400px, height: 300px;\"/></center>\n"
   ]
  },
  {
   "cell_type": "markdown",
   "metadata": {},
   "source": [
    "# Cleaning Repository"
   ]
  },
  {
   "cell_type": "markdown",
   "metadata": {},
   "source": [
    "- `git clean -n` = See files that are not being tracked\n",
    "- `git clean -f` = Delete untracked files"
   ]
  }
 ],
 "metadata": {
  "kernelspec": {
   "display_name": "Python 3.8.11 ('env_py')",
   "language": "python",
   "name": "python3"
  },
  "language_info": {
   "name": "python",
   "version": "3.8.11"
  },
  "orig_nbformat": 4,
  "vscode": {
   "interpreter": {
    "hash": "1e949e87132dd83f1a7623eb88007e3532b03b66b77111be347aa4a383049722"
   }
  }
 },
 "nbformat": 4,
 "nbformat_minor": 2
}
