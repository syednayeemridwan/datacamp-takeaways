{
 "cells": [
  {
   "cell_type": "markdown",
   "metadata": {},
   "source": [
    "# Comparison"
   ]
  },
  {
   "cell_type": "markdown",
   "metadata": {},
   "source": [
    "- `a > 0` : Greater than\n",
    "- `a == b` : If they are equal\n",
    "- `a!=1` : Not equal\n",
    "    `println(typeof(a)!=Float64)`"
   ]
  },
  {
   "cell_type": "markdown",
   "metadata": {},
   "source": [
    "# Conditionals"
   ]
  },
  {
   "cell_type": "markdown",
   "metadata": {},
   "source": [
    "```\n",
    "if amount_of_rain == 0\n",
    "    println(\"There is zero rain\")\n",
    "elseif amount_of_rain < 1 # <--- many elseif conditions\n",
    "    println(\"Better get your coat\")\n",
    "elseif amount_of_rain < 5 # <--- many elseif conditions\n",
    "    println(\"You're going to need a bigger coat\")\n",
    "else\n",
    "    println(\"That's a lot of rain, stay home\")\n",
    "end\n",
    "```"
   ]
  },
  {
   "cell_type": "markdown",
   "metadata": {},
   "source": [
    "# Built-in functions"
   ]
  },
  {
   "cell_type": "markdown",
   "metadata": {},
   "source": [
    "- `println()`\n",
    "- `typeof()`\n",
    "- `string()`\n",
    "- `push!()`\n",
    "- `pop!()`\n",
    "- `append!()`\n",
    "- `length()`\n",
    "- `sort()`\n",
    "\n"
   ]
  },
  {
   "cell_type": "markdown",
   "metadata": {},
   "source": [
    "# Custom functions"
   ]
  },
  {
   "cell_type": "markdown",
   "metadata": {},
   "source": [
    "- Does not work with array inherently\n",
    "- To work with array: `output = func_name.(input_param1, input_param2)`\n",
    "- Does not have to have a `return` keyword if the function does not return any value\n",
    "```\n",
    "function func_name(x, y)\n",
    "    # Function body\n",
    "    result = ....\n",
    "    return result\n",
    "end\n",
    "```"
   ]
  },
  {
   "cell_type": "markdown",
   "metadata": {},
   "source": [
    "# Mutating functions"
   ]
  },
  {
   "cell_type": "markdown",
   "metadata": {},
   "source": [
    "- Functions that modifies input (Change input values)\n",
    "- Ends with `!` as best practice\n",
    "- some built-ins are:\n",
    "    - `pop!()`\n",
    "    - `push!()`\n",
    "    - `append!()`\n"
   ]
  },
  {
   "cell_type": "markdown",
   "metadata": {},
   "source": [
    "# Custom Mutating Functions"
   ]
  },
  {
   "cell_type": "markdown",
   "metadata": {},
   "source": [
    "```\n",
    "function modify_array!(x)\n",
    "    x .= x .- 1\n",
    "end\n",
    "```"
   ]
  },
  {
   "cell_type": "markdown",
   "metadata": {},
   "source": [
    "# Multiple Dispatch (Overloading)"
   ]
  },
  {
   "cell_type": "markdown",
   "metadata": {},
   "source": [
    "```\n",
    "function double(x)\n",
    "    return x* 2\n",
    "end\n",
    "\n",
    "function double(x::String)\n",
    "    return x*x\n",
    "end\n",
    "\n",
    "function double(x::Bool)\n",
    "    return x\n",
    "end\n",
    "```"
   ]
  },
  {
   "cell_type": "markdown",
   "metadata": {},
   "source": [
    "# Packages"
   ]
  },
  {
   "cell_type": "markdown",
   "metadata": {},
   "source": [
    "- A collection of Julia files that you can import\n",
    "- To Install , type `import MyPackage` in julia console\n",
    "- Start importing : (Need aliasing)\n",
    "    ```\n",
    "    import MyPackage as sts\n",
    "    m = sts.mean([1, 2, 3])\n",
    "    ```\n",
    "- Start using : (More compact, methods readily available to call without alias)\n",
    "    ```\n",
    "    using Statistics\n",
    "    mean_x = Statistics.mean(x_arr)\n",
    "    ```\n",
    "- Popular packages :\n",
    "    - `Statistics.jl` - calculating descriptive statistics\n",
    "    - `DataFrames.jl` - storing and manipulating tabular data\n",
    "    - `CSV.jl` - loading and saving CSV data\n",
    "    - `Plots.jl` - creating visualizations\n"
   ]
  }
 ],
 "metadata": {
  "kernelspec": {
   "display_name": "Python 3.8.11 ('env_py')",
   "language": "python",
   "name": "python3"
  },
  "language_info": {
   "name": "python",
   "version": "3.8.11"
  },
  "orig_nbformat": 4,
  "vscode": {
   "interpreter": {
    "hash": "1e949e87132dd83f1a7623eb88007e3532b03b66b77111be347aa4a383049722"
   }
  }
 },
 "nbformat": 4,
 "nbformat_minor": 2
}
