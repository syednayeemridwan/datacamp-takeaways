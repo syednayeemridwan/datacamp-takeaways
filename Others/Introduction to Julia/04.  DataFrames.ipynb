{
 "cells": [
  {
   "cell_type": "markdown",
   "metadata": {},
   "source": [
    "# Dataframe"
   ]
  },
  {
   "cell_type": "markdown",
   "metadata": {},
   "source": [
    "- Used for working with tabular data\n",
    "- Start with: `using DataFrames`"
   ]
  },
  {
   "cell_type": "markdown",
   "metadata": {},
   "source": [
    "# Creating Dataframe"
   ]
  },
  {
   "cell_type": "markdown",
   "metadata": {},
   "source": [
    "- Use columns in entries\n",
    "\n",
    "```\n",
    "df = DataFrame(\n",
    "col_1 = [1,2,3,4,5],\n",
    "col_2 = ['A','B','C','D','E'],\n",
    "col_3 = [true, false,true,true,false],\n",
    ")\n",
    "```"
   ]
  },
  {
   "cell_type": "markdown",
   "metadata": {},
   "source": [
    "# Load CSV files"
   ]
  },
  {
   "cell_type": "markdown",
   "metadata": {},
   "source": [
    "```\n",
    "using CSV\n",
    "# Load the run data\n",
    "file = CSV.File(\"file_name.csv\")\n",
    "# Convert the CSV file into the DataFrame\n",
    "df = DataFrame(file)\n",
    "```"
   ]
  },
  {
   "cell_type": "markdown",
   "metadata": {},
   "source": [
    "# Inspect Top Rows"
   ]
  },
  {
   "cell_type": "markdown",
   "metadata": {},
   "source": [
    "```\n",
    "println(first(df, 3))\n",
    "```"
   ]
  },
  {
   "cell_type": "markdown",
   "metadata": {},
   "source": [
    "# See column names"
   ]
  },
  {
   "cell_type": "markdown",
   "metadata": {},
   "source": [
    "`println(names(df))`"
   ]
  },
  {
   "cell_type": "markdown",
   "metadata": {},
   "source": [
    "# See tabular data size"
   ]
  },
  {
   "cell_type": "markdown",
   "metadata": {},
   "source": [
    "`println(size(df))`"
   ]
  },
  {
   "cell_type": "markdown",
   "metadata": {},
   "source": [
    "# Extract Dataframe elements"
   ]
  },
  {
   "cell_type": "markdown",
   "metadata": {},
   "source": [
    "- Extract single value : `df[row_num, col_num]`\n",
    "- Extract multipe row values : `df[row_num_start : row_num_end, col_num]`\n",
    "- Extract multipe row and multiple column values : \n",
    "    - `df[row_num_start : row_num_end, col_num_start, col_num_end]`\n",
    "- Extract all rows of a column : \n",
    "    - `df[ : , col_num]`\n",
    "    - `df[ : , 'col_name']`\n",
    "    - `df.col_name`\n",
    "- Extract specific row value of a column:\n",
    "    - `df.col_name[row_num]`\n",
    "    - `df[row_num, col_num]`\n",
    "    - `df[row_num, \"col_name\"]`\n"
   ]
  },
  {
   "cell_type": "markdown",
   "metadata": {},
   "source": [
    "# Sorting Dataframe"
   ]
  },
  {
   "cell_type": "markdown",
   "metadata": {},
   "source": [
    "- Ascending : `df_sort = sort(df, \"col_name\")`\n",
    "- Descending : `df_sort = sort(df, \"col_name\", rev= true)`\n"
   ]
  },
  {
   "cell_type": "markdown",
   "metadata": {},
   "source": [
    "# See descriptive statistics"
   ]
  },
  {
   "cell_type": "markdown",
   "metadata": {},
   "source": [
    "- `println(describe(df))`\n",
    "- `using statistics`\n",
    "    - `mean()` - Calculate mean of array\n",
    "    - `median()` - Calculate median value of array\n",
    "    - `std()` - Calculate standard deviation of array values\n",
    "    - `var()` - Calculate variance of array values\n",
    "    - `sum()` - Calculate sum of array\n",
    "    - `minimum()` - Calculate minimum value in array\n",
    "    - `maximum()` - Calculate maximum value in array\n",
    "    - example: `total = sum(df[:, \"col_name\"])`\n",
    "    "
   ]
  },
  {
   "cell_type": "markdown",
   "metadata": {},
   "source": [
    "# Column Operations"
   ]
  },
  {
   "cell_type": "markdown",
   "metadata": {},
   "source": [
    "<center><img src=\"images/04.09.jpg\"  style=\"width: 400px, height: 300px;\"/></center>\n"
   ]
  },
  {
   "cell_type": "markdown",
   "metadata": {},
   "source": [
    "# Creating new column"
   ]
  },
  {
   "cell_type": "markdown",
   "metadata": {},
   "source": [
    "- `df[:, \"col_name\" ] = col_A ./ col_B`\n",
    "- `df.col_name = col_A ./ col_B`"
   ]
  },
  {
   "cell_type": "markdown",
   "metadata": {},
   "source": [
    "# Filtering"
   ]
  },
  {
   "cell_type": "markdown",
   "metadata": {},
   "source": [
    "- Row-wise operation in dataframe\n",
    "- `df_filtered = filter(row -> row.col_name<=3000, df)`\n"
   ]
  }
 ],
 "metadata": {
  "kernelspec": {
   "display_name": "Python 3.8.11 ('env_py')",
   "language": "python",
   "name": "python3"
  },
  "language_info": {
   "name": "python",
   "version": "3.8.11"
  },
  "orig_nbformat": 4,
  "vscode": {
   "interpreter": {
    "hash": "1e949e87132dd83f1a7623eb88007e3532b03b66b77111be347aa4a383049722"
   }
  }
 },
 "nbformat": 4,
 "nbformat_minor": 2
}
