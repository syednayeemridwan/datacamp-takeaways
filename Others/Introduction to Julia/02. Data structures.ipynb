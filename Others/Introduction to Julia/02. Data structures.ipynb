{
 "cells": [
  {
   "cell_type": "markdown",
   "metadata": {},
   "source": [
    "# Strings"
   ]
  },
  {
   "cell_type": "markdown",
   "metadata": {},
   "source": [
    "- Not single quote\n",
    "- Use double quote\n",
    "- `name = \"Jane\"`\n",
    "- Strings can be any length\n",
    "- Supports 1-based indexing : \n",
    "    - `name[1]` is `'J'`\n",
    "    - `name[end]` is `'e'`\n",
    "    - `name[end - 1]` is `'n'`\n",
    "- Slicing with both inclusive: `name[1:3]` is `Jan` \n",
    "- Use tripple quote for multiline string \n",
    "```\n",
    "poem = \"\"\"Beware the Jabberwock, my son!\n",
    "The jaws that bite, the claws that catch!\"\"\"\n",
    "```\n"
   ]
  },
  {
   "cell_type": "markdown",
   "metadata": {},
   "source": [
    "# Concatenate strings"
   ]
  },
  {
   "cell_type": "markdown",
   "metadata": {},
   "source": [
    "`string1*string2`"
   ]
  },
  {
   "cell_type": "markdown",
   "metadata": {},
   "source": [
    "# String interpolation"
   ]
  },
  {
   "cell_type": "markdown",
   "metadata": {},
   "source": [
    "- With `$` symbol\n",
    "- `greeting = \"Well hello there, $(some_var)\"`\n",
    "- Use dollar symbol with escape character `\\` : `greeting = \"Well hello there, \\$(some_var)\"`\n"
   ]
  },
  {
   "cell_type": "markdown",
   "metadata": {},
   "source": [
    "# Arrays"
   ]
  },
  {
   "cell_type": "markdown",
   "metadata": {},
   "source": [
    "- Similar to list in python\n",
    "- elements can be mixture of data-types\n",
    "- `runtimes = [33.1, 32.7, 34.2, 31.9]`\n",
    "- `println(typeof(runtimes))` shows this is a vector (1-D array)\n",
    "- `println(eltype(runtimes))` See data type of array elements\n",
    "- Access array elements by indexing : `println(runtimes[1])`\n",
    "- Slicing: `println(runtimes[1:2])`\n",
    "- Set all array values to 0 : `x .= 0`"
   ]
  },
  {
   "cell_type": "markdown",
   "metadata": {},
   "source": [
    "# Array Operations"
   ]
  },
  {
   "cell_type": "markdown",
   "metadata": {},
   "source": [
    "- Arrays can be homogeneous\n",
    "- Creating homogeneous array : `x = Float64[1,2,3,4]`\n",
    "- Appending elements in array: `push!(array_name, element)`\n",
    "- Floating element cannot be added into integer array unless the integer array is converted to floating array : `x = Float64[1,2,3,4]`\n",
    "- Creating empty arrays: `x = String[]` , `x = Float64[]` etc\n",
    "- appending another array: `append!(string_array, [\"one\", \"two\", \"three\"])`\n",
    "- Removing last element of array: `last_element = pop!(x)`\n",
    "- Creating an integer array of 4 zeros : `x = zeros(Int64, 4)`\n",
    "- Replacing an array element: `x[3] = 1`\n",
    "- Replacing multiple array elements: `x[2:3] = [2,3]`\n",
    "- Length of an array: `l = length(x)`\n",
    "- Sorting an array: `x_sorted = sort(x)`\n",
    "- Scalar addition: `println(array_1 .+ 2)` (Compatible with other operations)\n",
    "- Vector addition: `println(array_1 .+ array_2)` or `println(array_1 + array_2)` (Compatible with other operations)\n"
   ]
  }
 ],
 "metadata": {
  "kernelspec": {
   "display_name": "Python 3.8.11 ('env_py')",
   "language": "python",
   "name": "python3"
  },
  "language_info": {
   "name": "python",
   "version": "3.8.11"
  },
  "orig_nbformat": 4,
  "vscode": {
   "interpreter": {
    "hash": "1e949e87132dd83f1a7623eb88007e3532b03b66b77111be347aa4a383049722"
   }
  }
 },
 "nbformat": 4,
 "nbformat_minor": 2
}
