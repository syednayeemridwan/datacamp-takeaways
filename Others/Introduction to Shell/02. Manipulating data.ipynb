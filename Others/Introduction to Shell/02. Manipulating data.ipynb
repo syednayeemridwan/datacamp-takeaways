{
 "cells": [
  {
   "cell_type": "markdown",
   "metadata": {},
   "source": [
    "# View a file's contents"
   ]
  },
  {
   "cell_type": "markdown",
   "metadata": {},
   "source": [
    "- concatenate whole : `cat file_name`\n",
    "- piece by piece: `less a.txt b.txt c.txt`\n",
    "    - `:n` : next\n",
    "    - `:p` : previous\n",
    "    - `:q` : quit\n",
    "- View them together : `less a.txt b.txt c.txt | cat`\n",
    "- Look at start of a file : \n",
    "    - whole file : `head file_name.csv`\n",
    "    - first 3 lines of a file : `head -n 3 file_name.csv`"
   ]
  },
  {
   "cell_type": "markdown",
   "metadata": {},
   "source": [
    "# Autocompleting commands"
   ]
  },
  {
   "cell_type": "markdown",
   "metadata": {},
   "source": [
    "- If you start typing the name of a file and then press the `tab` key, the shell will do its best to auto-complete the path"
   ]
  },
  {
   "cell_type": "markdown",
   "metadata": {},
   "source": [
    "# See everything below a directory"
   ]
  },
  {
   "cell_type": "markdown",
   "metadata": {},
   "source": [
    "- recursive listing: `ls -R`\n",
    "- `ls -F ` : prints a `/` after the name of every directory and a `*` after the name of every runnable program."
   ]
  },
  {
   "cell_type": "markdown",
   "metadata": {},
   "source": [
    "# See help for a command"
   ]
  },
  {
   "cell_type": "markdown",
   "metadata": {},
   "source": [
    "- manual : `man head`"
   ]
  },
  {
   "cell_type": "markdown",
   "metadata": {},
   "source": [
    "# Select columns from a file"
   ]
  },
  {
   "cell_type": "markdown",
   "metadata": {},
   "source": [
    "- `cut -f 2-5,8 -d , file_name.csv`\n",
    "    - Fields 2 through 5 and 8\n",
    "    - delimiter or separator is comma \n",
    "    - Filename is `file_name.csv`\n",
    "    - As columns to see"
   ]
  },
  {
   "cell_type": "markdown",
   "metadata": {},
   "source": [
    "# Repeat Commands from history"
   ]
  },
  {
   "cell_type": "markdown",
   "metadata": {},
   "source": [
    "- See history: `history`\n",
    "- Re-run 55th command from history : `!55`\n",
    "- Re-run latest specified command from history : `!command_name`"
   ]
  },
  {
   "cell_type": "markdown",
   "metadata": {},
   "source": [
    "# Select specific contents"
   ]
  },
  {
   "cell_type": "markdown",
   "metadata": {},
   "source": [
    "- select rows = `head` and `tail`\n",
    "- select columns =  `cut`\n",
    "- select lines = `grep`\n",
    "    - `grep abir file_name.txt` : find lines matching abir inside `file_name.txt`\n",
    "    - `-c`: print a count of matching lines rather than the lines themselves\n",
    "    - `-h`: do not print the names of files when searching multiple files\n",
    "    - `-i`: ignore case (e.g., treat \"Regression\" and \"regression\" as matches)\n",
    "    - `-l`: print the names of files that contain matches, not the matches\n",
    "    - `-n`: print line numbers for matching lines\n",
    "    - `-v`: invert the match, i.e., only show lines that don't match"
   ]
  }
 ],
 "metadata": {
  "kernelspec": {
   "display_name": "Python 3.8.11 ('env_py')",
   "language": "python",
   "name": "python3"
  },
  "language_info": {
   "name": "python",
   "version": "3.8.11"
  },
  "orig_nbformat": 4,
  "vscode": {
   "interpreter": {
    "hash": "1e949e87132dd83f1a7623eb88007e3532b03b66b77111be347aa4a383049722"
   }
  }
 },
 "nbformat": 4,
 "nbformat_minor": 2
}
