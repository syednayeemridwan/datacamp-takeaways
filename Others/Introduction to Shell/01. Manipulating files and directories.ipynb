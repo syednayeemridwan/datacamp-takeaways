{
 "cells": [
  {
   "cell_type": "markdown",
   "metadata": {},
   "source": [
    "# Shell"
   ]
  },
  {
   "cell_type": "markdown",
   "metadata": {},
   "source": [
    "- GUI = translates clicks and double-clicks into commands\n",
    "- Shell = typed commands"
   ]
  },
  {
   "cell_type": "markdown",
   "metadata": {},
   "source": [
    "# Find your current directory"
   ]
  },
  {
   "cell_type": "markdown",
   "metadata": {},
   "source": [
    "- print working directory : `pwd` "
   ]
  },
  {
   "cell_type": "markdown",
   "metadata": {},
   "source": [
    "# See all files in current directory / a folder"
   ]
  },
  {
   "cell_type": "markdown",
   "metadata": {},
   "source": [
    "- listing in a folder : `ls folder_name`\n",
    "- listing in current directory : `ls`\n",
    "- listing everything in home directory : `ls ~`"
   ]
  },
  {
   "cell_type": "markdown",
   "metadata": {},
   "source": [
    "# Absolute or Relative path"
   ]
  },
  {
   "cell_type": "markdown",
   "metadata": {},
   "source": [
    "- If the path begins with `/`, it is absolute. \n",
    "- If the path does not begin with `/`, it is relative."
   ]
  },
  {
   "cell_type": "markdown",
   "metadata": {},
   "source": [
    "# Moving to other directory"
   ]
  },
  {
   "cell_type": "markdown",
   "metadata": {},
   "source": [
    "- Parent directory is directory above it\n",
    "- Child directory is directory below it\n",
    "- example: \n",
    "    - `folder_1/folder_2/folder_3`\n",
    "    - `folder_1` is parent directory of `folder_2`\n",
    "    - `folder_3` is child directory of `folder_2`\n",
    "- Your present working directory is `folder_2`\n",
    "- change directory by moving down or child directory: `cd folder_name`\n",
    "- change directory by moving up or parent directory: `cd ..`\n",
    "- change directoryto home directory: `cd ~`"
   ]
  },
  {
   "cell_type": "markdown",
   "metadata": {},
   "source": [
    "# Copying"
   ]
  },
  {
   "cell_type": "markdown",
   "metadata": {},
   "source": [
    "- `cp seasonal/autumn.csv seasonal/winter.csv backup`\n",
    "    - copies `seasonal/autumn.csv` and `seasonal/winter.csv` in `backup` folder"
   ]
  },
  {
   "cell_type": "markdown",
   "metadata": {},
   "source": [
    "# Moving and Renaming"
   ]
  },
  {
   "cell_type": "markdown",
   "metadata": {},
   "source": [
    "- `mv autumn.csv winter.csv ..`\n",
    "    - moves the files `autumn.csv` and `winter.csv` from the current working directory up one level to its parent directory\n",
    "- `mv course.txt old-course.txt`\n",
    "    - renames `course.txt` into `old-course.txt`"
   ]
  },
  {
   "cell_type": "markdown",
   "metadata": {},
   "source": [
    "# Removing Files"
   ]
  },
  {
   "cell_type": "markdown",
   "metadata": {},
   "source": [
    "- `rm a.txt b.txt`\n",
    "    - removing the files for good without confirmation"
   ]
  },
  {
   "cell_type": "markdown",
   "metadata": {},
   "source": [
    "# Removing Directory"
   ]
  },
  {
   "cell_type": "markdown",
   "metadata": {},
   "source": [
    "- `rmdir folder_name` : Deleting empty directory\n",
    "- `rmdir folder_name -r` : Deleting directory with contents"
   ]
  },
  {
   "cell_type": "markdown",
   "metadata": {},
   "source": [
    "# Creating New Directory"
   ]
  },
  {
   "cell_type": "markdown",
   "metadata": {},
   "source": [
    "- `mkdir directory_name` : Creating a new folder named `directory_name`"
   ]
  }
 ],
 "metadata": {
  "kernelspec": {
   "display_name": "Python 3.8.11 ('env_py')",
   "language": "python",
   "name": "python3"
  },
  "language_info": {
   "name": "python",
   "version": "3.8.11"
  },
  "orig_nbformat": 4,
  "vscode": {
   "interpreter": {
    "hash": "1e949e87132dd83f1a7623eb88007e3532b03b66b77111be347aa4a383049722"
   }
  }
 },
 "nbformat": 4,
 "nbformat_minor": 2
}
