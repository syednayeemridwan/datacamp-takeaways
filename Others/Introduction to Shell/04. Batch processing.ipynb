{
 "cells": [
  {
   "cell_type": "markdown",
   "metadata": {},
   "source": [
    "# Stored Information in shell"
   ]
  },
  {
   "cell_type": "markdown",
   "metadata": {},
   "source": [
    "- As environment variable\n",
    "- type `set` to see all values\n",
    "- used like : `set | grep HISTFILESIZE`\n",
    "- See environment variable value: `echo $VAL_NAME`\n",
    "- Set environment variable value: `VAL_NAME=seasonal/summer.csv`\n",
    "    - without any spaces before or after the = sign\n",
    "    - later use it like : `head -n 1 $VAL_NAME`"
   ]
  },
  {
   "cell_type": "markdown",
   "metadata": {},
   "source": [
    "# Looping"
   ]
  },
  {
   "cell_type": "markdown",
   "metadata": {},
   "source": [
    "- `for …variable… in …list… ; do …body… ; done`\n",
    "    - `for filetype in gif jpg png; do echo $filetype; done`\n",
    "    - `for filename in seasonal/*.csv; do echo $filename; done`\n",
    "    - `for file in seasonal/*.csv; do head -n 2 $file | tail -n 1; done`\n",
    "- Use semi-colon to do multiple things after `do` and before `done`\n",
    "    -  `for f in seasonal/*.csv; do echo $f; head -n 2 $f | tail -n 1; done`"
   ]
  },
  {
   "cell_type": "markdown",
   "metadata": {},
   "source": [
    "# Leverage looping with variable name setting"
   ]
  },
  {
   "cell_type": "markdown",
   "metadata": {},
   "source": [
    "```\n",
    "files=seasonal/*.csv\n",
    "for f in $files; do echo $f; done\n",
    "```"
   ]
  },
  {
   "cell_type": "markdown",
   "metadata": {},
   "source": [
    "# Space in filenames"
   ]
  },
  {
   "cell_type": "markdown",
   "metadata": {},
   "source": [
    "- Do not include space in file names\n",
    "- If there is space, use '' to fully specify the names\n",
    "    - `mv 'July 2017.csv' '2017 July data.csv'`"
   ]
  }
 ],
 "metadata": {
  "kernelspec": {
   "display_name": "Python 3.8.11 ('env_py')",
   "language": "python",
   "name": "python3"
  },
  "language_info": {
   "name": "python",
   "version": "3.8.11"
  },
  "orig_nbformat": 4,
  "vscode": {
   "interpreter": {
    "hash": "1e949e87132dd83f1a7623eb88007e3532b03b66b77111be347aa4a383049722"
   }
  }
 },
 "nbformat": 4,
 "nbformat_minor": 2
}
