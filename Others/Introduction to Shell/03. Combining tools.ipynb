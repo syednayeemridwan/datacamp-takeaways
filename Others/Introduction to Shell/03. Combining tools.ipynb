{
 "cells": [
  {
   "cell_type": "markdown",
   "metadata": {},
   "source": [
    "# Saving output in a file"
   ]
  },
  {
   "cell_type": "markdown",
   "metadata": {},
   "source": [
    "- `head -n 5 file_name.csv > top.csv`\n",
    "    - Command output will be saved in `top.csv`\n",
    "-  If there is a pipeline, `>` must appear at the end of the pipeline"
   ]
  },
  {
   "cell_type": "markdown",
   "metadata": {},
   "source": [
    "# Combining commands"
   ]
  },
  {
   "cell_type": "markdown",
   "metadata": {},
   "source": [
    "- `head -n 5 file_name.csv | tail -n 3`\n",
    "    - First take the first 5 lines and then take the last 3 lines"
   ]
  },
  {
   "cell_type": "markdown",
   "metadata": {},
   "source": [
    "# Counting records in a file"
   ]
  },
  {
   "cell_type": "markdown",
   "metadata": {},
   "source": [
    "- word count : `wc` \n",
    "    - counts words in a file : `wc -w file_name.csv`\n",
    "    - `-c` :  number of characters\n",
    "    - `-w` : number of words\n",
    "    - `-l` :  number of lines"
   ]
  },
  {
   "cell_type": "markdown",
   "metadata": {},
   "source": [
    "# Specify many files at once with Wildcards"
   ]
  },
  {
   "cell_type": "markdown",
   "metadata": {},
   "source": [
    "- `cut -d , -f 1 some_folder/*.csv`\n",
    "    - Do `cut` command for all csv files inside `some_folder`\n",
    "- `*` matches any number of characters, so `*.txt` will match all files with `.txt` extension.\n",
    "- `?` matches a single character, so `201?.txt` will match `2017.txt` or `2018.txt`, but not `2017-01.txt`.\n",
    "- `[...]` matches any one of the characters inside the square brackets, so `201[78].txt` matches `2017.txt` or `2018.txt`, but not `2016.txt`.\n",
    "- `{...}` matches any of the comma-separated patterns inside the curly brackets, so `{*.txt, *.csv}` matches any file whose name ends with `.txt` or `.csv`, but not files whose names end with `.pdf`."
   ]
  },
  {
   "cell_type": "markdown",
   "metadata": {},
   "source": [
    "# Sorting text"
   ]
  },
  {
   "cell_type": "markdown",
   "metadata": {},
   "source": [
    "- `sort file_name.txt` : Sorts `file_name.txt`\n",
    "    - default : Alphabetic order\n",
    "    - `-n` : numeric\n",
    "    - `-r` : reverse order\n",
    "    - `-b` : ignore leading blank\n",
    "    - `-f` : fold-case or case-insensitive"
   ]
  },
  {
   "cell_type": "markdown",
   "metadata": {},
   "source": [
    "# Unique Sorting"
   ]
  },
  {
   "cell_type": "markdown",
   "metadata": {},
   "source": [
    "- `sort file_name.txt | uniq -c`\n",
    "    -  show Unique lines only according to character count\n"
   ]
  },
  {
   "cell_type": "markdown",
   "metadata": {},
   "source": [
    "# Stopping a running program"
   ]
  },
  {
   "cell_type": "markdown",
   "metadata": {},
   "source": [
    "- type `Ctrl + C` to end the program"
   ]
  }
 ],
 "metadata": {
  "kernelspec": {
   "display_name": "Python 3.8.11 ('env_py')",
   "language": "python",
   "name": "python3"
  },
  "language_info": {
   "name": "python",
   "version": "3.8.11"
  },
  "orig_nbformat": 4,
  "vscode": {
   "interpreter": {
    "hash": "1e949e87132dd83f1a7623eb88007e3532b03b66b77111be347aa4a383049722"
   }
  }
 },
 "nbformat": 4,
 "nbformat_minor": 2
}
