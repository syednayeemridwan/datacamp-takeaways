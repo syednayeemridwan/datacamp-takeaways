{
 "cells": [
  {
   "cell_type": "markdown",
   "metadata": {},
   "source": [
    "# Editing a file"
   ]
  },
  {
   "cell_type": "markdown",
   "metadata": {},
   "source": [
    "- Open a file in text editor : `nano filename`\n",
    "    - `Ctrl + K`: delete a line.\n",
    "    - `Ctrl + U`: un-delete a line.\n",
    "    - `Ctrl + O`: save the file ('O' stands for 'output'). You will also need to press Enter to confirm the filename!\n",
    "    - `Ctrl + X`: exit the editor."
   ]
  },
  {
   "cell_type": "markdown",
   "metadata": {},
   "source": [
    "# Saving history"
   ]
  },
  {
   "cell_type": "markdown",
   "metadata": {},
   "source": [
    "- `history | tail -n 10 > work.history`\n",
    "    - Run history.\n",
    "    - Pipe its output to tail -n 10 (or however many recent steps you want to save).\n",
    "    - Redirect that to a file called something like figure-5.history."
   ]
  },
  {
   "cell_type": "markdown",
   "metadata": {},
   "source": [
    "# Storing commands to re-run later"
   ]
  },
  {
   "cell_type": "markdown",
   "metadata": {},
   "source": [
    "- open editor : `nano command_file.sh`\n",
    "- put `head -n 1 seasonal/*.csv` and save it\n",
    "- run  `bash command_file.sh`\n",
    "- Store results in a file `bash command_file.sh > results.out`"
   ]
  },
  {
   "cell_type": "markdown",
   "metadata": {},
   "source": [
    "# Passing filenames as parameters"
   ]
  },
  {
   "cell_type": "markdown",
   "metadata": {},
   "source": [
    "- Way 1:\n",
    "    - `unique-lines.sh` contains `sort $@ | uniq`\n",
    "    - Command: `bash unique-lines.sh seasonal/summer.csv`\n",
    "    - What runs : `sort seasonal/summer.csv | uniq`\n",
    "    - multiple filenames can also be given\n",
    "- Way 2:\n",
    "    - `unique-lines.sh` contains `cut -d , -f $2 $1`\n",
    "    - Command: `bash column.sh seasonal/autumn.csv 1`\n",
    "    - What runs : `cut -d , -f 1 seasonal/autumn.csv`\n",
    "    - multiple filenames can also be given\n"
   ]
  },
  {
   "cell_type": "markdown",
   "metadata": {},
   "source": [
    "# Writing loops in a shell script with parameter passing"
   ]
  },
  {
   "cell_type": "markdown",
   "metadata": {},
   "source": [
    "- You can write them using semi-colons, or split them across lines without semi-colons to make them more readable:\n",
    "```\n",
    "# Print the first and last data records of each file.\n",
    "\n",
    "for filename in $@\n",
    "do\n",
    "    head -n 2 $filename | tail -n 1\n",
    "    tail -n 1 $filename\n",
    "done\n",
    "```"
   ]
  }
 ],
 "metadata": {
  "kernelspec": {
   "display_name": "Python 3.8.11 ('env_py')",
   "language": "python",
   "name": "python3"
  },
  "language_info": {
   "name": "python",
   "version": "3.8.11"
  },
  "orig_nbformat": 4,
  "vscode": {
   "interpreter": {
    "hash": "1e949e87132dd83f1a7623eb88007e3532b03b66b77111be347aa4a383049722"
   }
  }
 },
 "nbformat": 4,
 "nbformat_minor": 2
}
