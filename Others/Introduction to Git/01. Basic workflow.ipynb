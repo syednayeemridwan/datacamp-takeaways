{
 "cells": [
  {
   "cell_type": "markdown",
   "metadata": {},
   "source": [
    "# Version Control"
   ]
  },
  {
   "cell_type": "markdown",
   "metadata": {},
   "source": [
    "- A tool that manages changes made to the files and directories in a project\n",
    "- Git records about the project's history. Along with your files, together it is called repository.Git stores all of its extra information in a directory called `.git`\n",
    "- never edit or delete anything in `.git`\n",
    "- If `/home/repl` contains a repository called `dental`, then the repository will be in : `/home/repl/dental/.git`"
   ]
  },
  {
   "cell_type": "markdown",
   "metadata": {},
   "source": [
    "# Editing files in UNIX"
   ]
  },
  {
   "cell_type": "markdown",
   "metadata": {},
   "source": [
    "-  type `nano filename`"
   ]
  },
  {
   "cell_type": "markdown",
   "metadata": {},
   "source": [
    "# See which files are modified\n"
   ]
  },
  {
   "cell_type": "markdown",
   "metadata": {},
   "source": [
    "- `git status` : status of the repository"
   ]
  },
  {
   "cell_type": "markdown",
   "metadata": {},
   "source": [
    "<center><img src=\"images/01.04.png\"  style=\"width: 400px, height: 300px;\"/></center>\n"
   ]
  },
  {
   "cell_type": "markdown",
   "metadata": {},
   "source": [
    "# Save changes in staging area temporarily"
   ]
  },
  {
   "cell_type": "markdown",
   "metadata": {},
   "source": [
    "- `git add .` : whole repository\n",
    "- `git add filename` : Add the specified file in repository"
   ]
  },
  {
   "cell_type": "markdown",
   "metadata": {},
   "source": [
    "# Save changes in permanent area after staging the changes"
   ]
  },
  {
   "cell_type": "markdown",
   "metadata": {},
   "source": [
    "- `git commit` : Commit whatever and wait for editor to type message\n",
    "- `git commit -m \"Program appears to have become self-aware.\"` : Commit with message\n",
    "- `git commit --amend - m \"new message\"` : Re-Commit for mistakenly committed with wrong message"
   ]
  },
  {
   "cell_type": "markdown",
   "metadata": {},
   "source": [
    "# See changes"
   ]
  },
  {
   "cell_type": "markdown",
   "metadata": {},
   "source": [
    "- `git diff` : whole repository\n",
    "- `git diff filename` : changes in a file\n",
    "- `git diff directory_name` : changes in a directory\n",
    "- It shows:\n",
    "    - `a` for before change\n",
    "    - `b` for after change\n",
    "    - `-` shows lines removed\n",
    "    - `+` shows lines added\n",
    "    - `@@ -1,4 +1,5 @@` : starting line 1, there were 4 lines. After change, starting line 1, there were 5 lines\n",
    "- compare the state of your files with those in the staging area : \n",
    "    - `git diff -r HEAD path/to/file` : see file changes with last or head revision in staging area\n",
    "    - `git diff -r HEAD` : see file changes with last or head revision in whole repository\n",
    "    "
   ]
  },
  {
   "cell_type": "markdown",
   "metadata": {},
   "source": [
    "# See commit history"
   ]
  },
  {
   "cell_type": "markdown",
   "metadata": {},
   "source": [
    "- `git log` : See the log in details\n",
    "- `git log filename` : See the log in details of a specific file\n",
    "- `git log --oneline` : See summary in one line"
   ]
  }
 ],
 "metadata": {
  "kernelspec": {
   "display_name": "Python 3.8.11 ('env_py')",
   "language": "python",
   "name": "python3"
  },
  "language_info": {
   "name": "python",
   "version": "3.8.11"
  },
  "orig_nbformat": 4,
  "vscode": {
   "interpreter": {
    "hash": "1e949e87132dd83f1a7623eb88007e3532b03b66b77111be347aa4a383049722"
   }
  }
 },
 "nbformat": 4,
 "nbformat_minor": 2
}
