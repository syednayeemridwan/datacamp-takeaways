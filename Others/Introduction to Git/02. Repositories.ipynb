{
 "cells": [
  {
   "cell_type": "markdown",
   "metadata": {},
   "source": [
    "# How git stores information"
   ]
  },
  {
   "cell_type": "markdown",
   "metadata": {},
   "source": [
    "- Each commit contains metadata \n",
    "- Each commit also has a tree\n",
    "- For each of the files listed in the tree, there is a blob\n",
    "- Blob contains a compressed snapshot of the contents of the file when the commit happened\n",
    "- Reusing blobs between commits help make common operations fast and minimizes storage space."
   ]
  },
  {
   "cell_type": "markdown",
   "metadata": {},
   "source": [
    "# Hash"
   ]
  },
  {
   "cell_type": "markdown",
   "metadata": {},
   "source": [
    "- Unique identifier for each commit\n",
    "- 40-character hexadecimal string like `7c35a3ce607a14953f070f0f83b5d74c2296ef93`\n",
    "- Enable Git to share data efficiently between repositories. \n",
    "- If two files are the same, their hashes are guaranteed to be the same\n",
    "- if two commits contain the same files and have the same ancestors, their hashes will be the same as well\n",
    "- Git can therefore tell what information needs to be saved where by comparing hashes rather than comparing entire files.\n"
   ]
  },
  {
   "cell_type": "markdown",
   "metadata": {},
   "source": [
    "# See a commit"
   ]
  },
  {
   "cell_type": "markdown",
   "metadata": {},
   "source": [
    "- `git show 0da2f7` : See specific commit with hash\n",
    "- `git show HEAD~1` : See the second most recent comit\n"
   ]
  },
  {
   "cell_type": "markdown",
   "metadata": {},
   "source": [
    "# See who changed what"
   ]
  },
  {
   "cell_type": "markdown",
   "metadata": {},
   "source": [
    "- `git annotate file_name` : Shows hash, author, commit time, content "
   ]
  },
  {
   "cell_type": "markdown",
   "metadata": {},
   "source": [
    "# See what changed between 2 commits"
   ]
  },
  {
   "cell_type": "markdown",
   "metadata": {},
   "source": [
    "- `git diff abc123..def456` : shows the differences between the commits abc123 and def456"
   ]
  },
  {
   "cell_type": "markdown",
   "metadata": {},
   "source": [
    "# Adding new files"
   ]
  },
  {
   "cell_type": "markdown",
   "metadata": {},
   "source": [
    "- `git add .`"
   ]
  },
  {
   "cell_type": "markdown",
   "metadata": {},
   "source": [
    "# Telling git to ignore certain files"
   ]
  },
  {
   "cell_type": "markdown",
   "metadata": {},
   "source": [
    "- create `.gitignore` and storing wildcard patterns: \n",
    "    - pdf and backup directory\n",
    "    - anything with .pyc extension\n",
    "\n",
    "```\n",
    "pdf\n",
    "*.pyc\n",
    "backup\n",
    "```"
   ]
  },
  {
   "cell_type": "markdown",
   "metadata": {},
   "source": [
    "# Cleaning the repo"
   ]
  },
  {
   "cell_type": "markdown",
   "metadata": {},
   "source": [
    "- `git clean -n` : will show you a list of files that are in the repository that Git is not currently tracking\n",
    "- `git clean -f `will then delete those files"
   ]
  },
  {
   "cell_type": "markdown",
   "metadata": {},
   "source": [
    "# See git configuration"
   ]
  },
  {
   "cell_type": "markdown",
   "metadata": {},
   "source": [
    "`git config --list` with one of three additional options:\n",
    "\n",
    "- `--system`: settings for every user on this computer.\n",
    "- `--global`: settings for every one of your projects.\n",
    "- `--local`: settings for one specific project.\n"
   ]
  },
  {
   "cell_type": "markdown",
   "metadata": {},
   "source": [
    "# Change git configuration"
   ]
  },
  {
   "cell_type": "markdown",
   "metadata": {},
   "source": [
    "- `git config --global setting_name value_name`\n",
    "    - `git config --global user.name abir`"
   ]
  }
 ],
 "metadata": {
  "kernelspec": {
   "display_name": "Python 3.8.11 ('env_py')",
   "language": "python",
   "name": "python3"
  },
  "language_info": {
   "name": "python",
   "version": "3.8.11"
  },
  "orig_nbformat": 4,
  "vscode": {
   "interpreter": {
    "hash": "1e949e87132dd83f1a7623eb88007e3532b03b66b77111be347aa4a383049722"
   }
  }
 },
 "nbformat": 4,
 "nbformat_minor": 2
}
