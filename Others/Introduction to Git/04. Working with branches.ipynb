{
 "cells": [
  {
   "cell_type": "markdown",
   "metadata": {},
   "source": [
    "# Branches"
   ]
  },
  {
   "cell_type": "markdown",
   "metadata": {},
   "source": [
    "- Allows you to have multiple versions of your work, and lets you track each version systematically.\n",
    "- Each branch is like a parallel universe:\n",
    "- you can merge them back together\n",
    "- default branch : `master`"
   ]
  },
  {
   "cell_type": "markdown",
   "metadata": {},
   "source": [
    "# See all branches"
   ]
  },
  {
   "cell_type": "markdown",
   "metadata": {},
   "source": [
    "- `git branch`\n",
    "- Your current branch will have a star(`*`) with it\n"
   ]
  },
  {
   "cell_type": "markdown",
   "metadata": {},
   "source": [
    "# See differece between branches"
   ]
  },
  {
   "cell_type": "markdown",
   "metadata": {},
   "source": [
    "- `git diff branch-1..branch-2`"
   ]
  },
  {
   "cell_type": "markdown",
   "metadata": {},
   "source": [
    "# Create Branches"
   ]
  },
  {
   "cell_type": "markdown",
   "metadata": {},
   "source": [
    "- `git branch branch_name` : Creating a new branch\n",
    "- `git checkout -b branch-name` : Create and switch to the new branch at the same time"
   ]
  },
  {
   "cell_type": "markdown",
   "metadata": {},
   "source": [
    "# Switch to other branch"
   ]
  },
  {
   "cell_type": "markdown",
   "metadata": {},
   "source": [
    "- `git checkout branch_name`"
   ]
  },
  {
   "cell_type": "markdown",
   "metadata": {},
   "source": [
    "# Merging Branches"
   ]
  },
  {
   "cell_type": "markdown",
   "metadata": {},
   "source": [
    "- 2 ways:\n",
    "- One way: `git merge source destination` : merge changes from source to destination branch\n",
    "- Another way: You merge  source when you are on destination branch:\n",
    "    1. `git checkout destination `\n",
    "    2. `git merge source`\n",
    "- When conflict occurs:\n",
    "    1. open the file on which conflict is occurred\n",
    "    2. Manually resolve conflict\n",
    "    3. Add the resolved file to staging area\n",
    "    4. Commit the change"
   ]
  }
 ],
 "metadata": {
  "kernelspec": {
   "display_name": "Python 3.8.11 ('env_py')",
   "language": "python",
   "name": "python3"
  },
  "language_info": {
   "name": "python",
   "version": "3.8.11"
  },
  "orig_nbformat": 4,
  "vscode": {
   "interpreter": {
    "hash": "1e949e87132dd83f1a7623eb88007e3532b03b66b77111be347aa4a383049722"
   }
  }
 },
 "nbformat": 4,
 "nbformat_minor": 2
}
