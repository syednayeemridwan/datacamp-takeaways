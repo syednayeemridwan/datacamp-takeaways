{
 "cells": [
  {
   "cell_type": "markdown",
   "metadata": {},
   "source": [
    "# Importing Python modules"
   ]
  },
  {
   "cell_type": "markdown",
   "metadata": {},
   "source": [
    "`import model_name as aliasname`"
   ]
  },
  {
   "cell_type": "markdown",
   "metadata": {},
   "source": [
    "# Correcting a broken import"
   ]
  },
  {
   "cell_type": "markdown",
   "metadata": {},
   "source": [
    "You need to make sure that the module names are correct when you import them in order to run the program without any errors"
   ]
  },
  {
   "cell_type": "markdown",
   "metadata": {},
   "source": [
    "# Creating a float"
   ]
  },
  {
   "cell_type": "markdown",
   "metadata": {},
   "source": [
    "`var_name = 20.2`"
   ]
  },
  {
   "cell_type": "markdown",
   "metadata": {},
   "source": [
    "# Creating strings"
   ]
  },
  {
   "cell_type": "markdown",
   "metadata": {},
   "source": [
    "```\n",
    "string_one = \"One Format\"\n",
    "\n",
    "string_rwo = 'Another Format'\n",
    "```"
   ]
  },
  {
   "cell_type": "markdown",
   "metadata": {},
   "source": [
    "# Correcting string errors"
   ]
  },
  {
   "cell_type": "markdown",
   "metadata": {},
   "source": [
    "- use quotes\n",
    "- use same types of quotes (' or \") for a single string"
   ]
  },
  {
   "cell_type": "markdown",
   "metadata": {},
   "source": [
    "# Valid variable names"
   ]
  },
  {
   "cell_type": "markdown",
   "metadata": {},
   "source": [
    "- Must start with a letter\n",
    "- No spaces or special characters\n",
    "- Case sensitive\n",
    "- After first letter can use letters/numbers/underscores"
   ]
  },
  {
   "cell_type": "markdown",
   "metadata": {},
   "source": [
    "# Load a DataFrame"
   ]
  },
  {
   "cell_type": "markdown",
   "metadata": {},
   "source": [
    "```\n",
    "import pandas as pd\n",
    "df = pd.read_csv('filename.csv')\n",
    "```"
   ]
  },
  {
   "cell_type": "markdown",
   "metadata": {},
   "source": [
    "# Anatomy of Function"
   ]
  },
  {
   "cell_type": "markdown",
   "metadata": {},
   "source": [
    "Function Name:\n",
    "- Starts with the module name that the function \"lives\" in ( `plt` )\n",
    "- Followed by the name of the function ( `plot` )\n",
    "- Function name is always followed by parentheses `()`\n",
    "\n",
    "Positional Arguments:\n",
    "- These are inputs to a function; they tell the function how todo its job\n",
    "- Order matters\n",
    "\n",
    "Keyword Arguments:\n",
    "- Must come after positional arguments\n",
    "- Start with the name of the argument (`label`), then an equals sign (`=`) Followed by the argument ( `Ransom` )\n",
    "\n",
    "\n",
    "```\n",
    "plt.plot( a, b, label = \"Ransom\")\n",
    "```"
   ]
  },
  {
   "cell_type": "markdown",
   "metadata": {},
   "source": [
    "# Correcting a function error"
   ]
  },
  {
   "cell_type": "markdown",
   "metadata": {},
   "source": [
    "- Check for missing commas between arguments\n",
    "- Check for missing closed parenthesis"
   ]
  }
 ],
 "metadata": {
  "kernelspec": {
   "display_name": "Python 3.8.11 ('env_py')",
   "language": "python",
   "name": "python3"
  },
  "language_info": {
   "name": "python",
   "version": "3.8.11"
  },
  "orig_nbformat": 4,
  "vscode": {
   "interpreter": {
    "hash": "1e949e87132dd83f1a7623eb88007e3532b03b66b77111be347aa4a383049722"
   }
  }
 },
 "nbformat": 4,
 "nbformat_minor": 2
}
