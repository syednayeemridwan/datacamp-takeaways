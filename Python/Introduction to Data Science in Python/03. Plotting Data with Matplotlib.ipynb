{
 "cells": [
  {
   "cell_type": "markdown",
   "metadata": {},
   "source": [
    "# Line Plot"
   ]
  },
  {
   "cell_type": "markdown",
   "metadata": {},
   "source": [
    "```\n",
    "from matplotlib import pyplot as plt\n",
    "\n",
    "plt.plot(df.x_col, df.y_col)\n",
    "\n",
    "plt.show()\n",
    "```"
   ]
  },
  {
   "cell_type": "markdown",
   "metadata": {},
   "source": [
    "# Multiple Line Plots"
   ]
  },
  {
   "cell_type": "markdown",
   "metadata": {},
   "source": [
    "```\n",
    "from matplotlib import pyplot as plt\n",
    "\n",
    "plt.plot(df1.x_col, df1.y_col)\n",
    "plt.plot(df2.x_col, df2.y_col)\n",
    "plt.plot(df3.x_col, df3.y_col)\n",
    "\n",
    "plt.show()\n",
    "```"
   ]
  },
  {
   "cell_type": "markdown",
   "metadata": {},
   "source": [
    "# Adding a legend and legend labels"
   ]
  },
  {
   "cell_type": "markdown",
   "metadata": {},
   "source": [
    "```\n",
    "plt.plot(df1.x_col, df1.y_col, label='Deshaun') // label distinguishes the plots to show on legend\n",
    "plt.plot(df2.x_col, df2.y_col, label='Aditya')\n",
    "plt.plot(df3.x_col, df3.y_col, label='Mengfei')\n",
    "\n",
    "plt.legend()\n",
    "\n",
    "plt.show()\n",
    "```"
   ]
  },
  {
   "cell_type": "markdown",
   "metadata": {},
   "source": [
    "# Adding plot labels"
   ]
  },
  {
   "cell_type": "markdown",
   "metadata": {},
   "source": [
    "```\n",
    "plt.title(\"Working Hours\")\n",
    "\n",
    "plt.xlabel(\"X axis label\")\n",
    "plt.ylabel(\"Y axis label\")\n",
    "\n",
    "plt.legend()\n",
    "\n",
    "plt.show()\n",
    "```"
   ]
  },
  {
   "cell_type": "markdown",
   "metadata": {},
   "source": [
    "# Adding floating text"
   ]
  },
  {
   "cell_type": "markdown",
   "metadata": {},
   "source": [
    "```\n",
    "plt.text(2.5, 80, \"Annotated Text\") // X co-ordinate and Y co-ordinate\n",
    "plt.show()\n",
    "\n",
    "```"
   ]
  },
  {
   "cell_type": "markdown",
   "metadata": {},
   "source": [
    "# Styling the plot"
   ]
  },
  {
   "cell_type": "markdown",
   "metadata": {},
   "source": [
    "- You can change linestyle to dotted (':'), dashed('--'), or no line ('').\n",
    "- You can change the marker to circle ('o'), diamond('d'), or square ('s')."
   ]
  },
  {
   "cell_type": "markdown",
   "metadata": {},
   "source": [
    "```\n",
    "plt.plot(x1, y1, label=\"A\", color = \"DarkCyan\") // changes color of plot\n",
    "plt.plot(x2, y2, label=\"B\", linestyle = \":\") // changes linestyle of plot\n",
    "plt.plot(x3, y3, label=\"C\", marker = \"s\") // Add marker style in plot\n",
    "plt.plot(x4, y4, label=\"D\", linewidth=1) // Changes width of line\n",
    "\n",
    "```"
   ]
  },
  {
   "cell_type": "markdown",
   "metadata": {},
   "source": [
    "# Style Options"
   ]
  },
  {
   "cell_type": "markdown",
   "metadata": {},
   "source": [
    "Some popular styles include:\n",
    "\n",
    "- 'fivethirtyeight' - Based on the color scheme of the popular website\n",
    "- 'grayscale' - Great for when you don't have a color printer!\n",
    "- 'seaborn' - Based on another Python visualization library\n",
    "- 'classic' - The default color scheme for Matplotlib"
   ]
  },
  {
   "cell_type": "markdown",
   "metadata": {},
   "source": [
    "`plt.style.use(\"fivethirtyeight\")`"
   ]
  },
  {
   "cell_type": "markdown",
   "metadata": {},
   "source": [
    "# View all styles"
   ]
  },
  {
   "cell_type": "markdown",
   "metadata": {},
   "source": [
    "`print(plt.style.available)`"
   ]
  }
 ],
 "metadata": {
  "language_info": {
   "name": "python"
  },
  "orig_nbformat": 4
 },
 "nbformat": 4,
 "nbformat_minor": 2
}
