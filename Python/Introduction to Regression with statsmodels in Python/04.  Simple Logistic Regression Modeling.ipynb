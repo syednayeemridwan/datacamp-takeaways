{
 "cells": [
  {
   "attachments": {},
   "cell_type": "markdown",
   "metadata": {},
   "source": [
    "# Logistic regression"
   ]
  },
  {
   "attachments": {},
   "cell_type": "markdown",
   "metadata": {},
   "source": [
    "- Another type of generalized linear model.\n",
    "- Regression based on binary response variable\n",
    "- Yes or no target variable\n",
    "- Used when line fitting is wrong (There is no negative / fraction / infinite span)\n",
    "- The responses follow logistic (S-shaped) curve.\n",
    "- Gives the probabilitic outcome of 0 (least likely) to 1 (most likely)\n",
    "- `logit` function from `statsmodels.formula.api`\n",
    "\n",
    "<center><img src=\"images/04.01.jpg\"  style=\"width: 400px, height: 300px;\"/></center>\n"
   ]
  },
  {
   "cell_type": "code",
   "execution_count": 1,
   "metadata": {},
   "outputs": [],
   "source": [
    "# from statsmodels.formula.api import logit\n",
    "# model = logit(\"y_var ~ x_var\", data=df).fit()\n",
    "# print(model.params)"
   ]
  },
  {
   "attachments": {},
   "cell_type": "markdown",
   "metadata": {},
   "source": [
    "# Visualizing the logistic model\n"
   ]
  },
  {
   "attachments": {},
   "cell_type": "markdown",
   "metadata": {},
   "source": [
    "- Use `regplot` with `logistic = True` argument"
   ]
  },
  {
   "cell_type": "code",
   "execution_count": null,
   "metadata": {},
   "outputs": [],
   "source": [
    "# sns.regplot(x=\"x_var\",\n",
    "#             y=\"y_var\",\n",
    "#             data=df,\n",
    "#             ci=None,\n",
    "#             logistic=True) # Make it true for logistic regression\n",
    "# plt.axline(xy1=(0,intercept),\n",
    "#            slope=slope,\n",
    "#            color=\"black\")\n",
    "# plt.show()"
   ]
  },
  {
   "attachments": {},
   "cell_type": "markdown",
   "metadata": {},
   "source": [
    "# Making predictions"
   ]
  },
  {
   "cell_type": "code",
   "execution_count": 1,
   "metadata": {},
   "outputs": [],
   "source": [
    "# model = logit(\"y_var ~ x_var\",data = df).fit()\n",
    "# explanatory_data = pd.DataFrame({\"to_be_predicted\": np.arange(-1, 6.25, 0.25)})\n",
    "# prediction_data = explanatory_data.assign(\n",
    "#     prediction = model.predict(explanatory_data))\n",
    "\n"
   ]
  },
  {
   "attachments": {},
   "cell_type": "markdown",
   "metadata": {},
   "source": [
    "# Visualizing Prediction Porbabilities"
   ]
  },
  {
   "attachments": {},
   "cell_type": "markdown",
   "metadata": {},
   "source": [
    "- First draw `regplot` of original dataset\n",
    "- Then, draw `scatterplot` of predicted data with different color"
   ]
  },
  {
   "cell_type": "code",
   "execution_count": 2,
   "metadata": {},
   "outputs": [],
   "source": [
    "# sns.regplot(x=\"x_var\",\n",
    "#             y=\"y_var\",\n",
    "#             data=df,\n",
    "#             ci=None,\n",
    "#             logistic=True)\n",
    "# sns.scatterplot(x=\"x_var\",\n",
    "#                 y=\"y_var\",\n",
    "#                 data=prediction_data,\n",
    "#                 color=\"red\")\n",
    "# plt.show()"
   ]
  },
  {
   "attachments": {},
   "cell_type": "markdown",
   "metadata": {},
   "source": [
    "# Getting the most likely outcome\n"
   ]
  },
  {
   "attachments": {},
   "cell_type": "markdown",
   "metadata": {},
   "source": [
    "- Round the probability\n",
    "- The values of `>0.5` will be 1 and 0 otherwise"
   ]
  },
  {
   "cell_type": "code",
   "execution_count": 3,
   "metadata": {},
   "outputs": [],
   "source": [
    "# prediction_data = explanatory_data.assign(\n",
    "# predicted_probability = model.predict(explanatory_data))\n",
    "# prediction_data[\"most_likely_outcome\"] = np.round(prediction_data[\"predicted_probability\"])"
   ]
  },
  {
   "attachments": {},
   "cell_type": "markdown",
   "metadata": {},
   "source": [
    "# Visualizing most likely outcome\n"
   ]
  },
  {
   "cell_type": "code",
   "execution_count": 4,
   "metadata": {},
   "outputs": [],
   "source": [
    "# sns.regplot(x=\"x_var\",\n",
    "#     y=\"y_var_prob\",\n",
    "#     data=df,\n",
    "#     ci=None,\n",
    "#     logistic=True)\n",
    "# sns.scatterplot(x=\"x_var\",\n",
    "#     y=\"y_var_rounded\",\n",
    "#     data=prediction_data,\n",
    "#     color=\"red\")\n",
    "    \n",
    "# plt.show()"
   ]
  },
  {
   "attachments": {},
   "cell_type": "markdown",
   "metadata": {},
   "source": [
    "# Odds ratios"
   ]
  },
  {
   "attachments": {},
   "cell_type": "markdown",
   "metadata": {},
   "source": [
    "- probability of something happening divided by the probability that it doesn't\n",
    "- odds ratio = prob / (1-prob)\n",
    "- log of odds ratio is another common way of describing logistic regression predictions (This is the `logit` function)"
   ]
  },
  {
   "attachments": {},
   "cell_type": "markdown",
   "metadata": {},
   "source": [
    "# Calculating and Visualizing odds ratio"
   ]
  },
  {
   "cell_type": "code",
   "execution_count": 7,
   "metadata": {},
   "outputs": [],
   "source": [
    "# prediction_data[\"odds_ratio\"] = prediction_data[\"predicted_prob\"] /\n",
    "# (1 - prediction_data[\"predicted_prob\"])\n",
    "\n",
    "# prediction_data[\"log_odds_ratio\"] = np.log(prediction_data[\"odds_ratio\"])"
   ]
  },
  {
   "attachments": {},
   "cell_type": "markdown",
   "metadata": {},
   "source": [
    "### Visualizing normal odds-ratio"
   ]
  },
  {
   "cell_type": "code",
   "execution_count": null,
   "metadata": {},
   "outputs": [],
   "source": [
    "# sns.lineplot(x=\"x_var\",\n",
    "#              y=\"odds_ratio\",\n",
    "#              data=prediction_data)\n",
    "# plt.axhline(y=1, linestyle=\"dotted\")\n",
    "# plt.show()"
   ]
  },
  {
   "attachments": {},
   "cell_type": "markdown",
   "metadata": {},
   "source": [
    "### Visualizing odds-ratio in log scale\n"
   ]
  },
  {
   "cell_type": "code",
   "execution_count": null,
   "metadata": {},
   "outputs": [],
   "source": [
    "# sns.lineplot(x=\"x_var\",\n",
    "#              y=\"odds_ratio\",\n",
    "#              data=prediction_data)\n",
    "# plt.axhline(y=1, linestyle=\"dotted\")\n",
    "# plt.yscale(\"log\")\n",
    "# plt.show()"
   ]
  },
  {
   "attachments": {},
   "cell_type": "markdown",
   "metadata": {},
   "source": [
    "<center><img src=\"images/04.05.jpg\"  style=\"width: 400px, height: 300px;\"/></center>\n"
   ]
  },
  {
   "attachments": {},
   "cell_type": "markdown",
   "metadata": {},
   "source": [
    "# Outcomes"
   ]
  },
  {
   "attachments": {},
   "cell_type": "markdown",
   "metadata": {},
   "source": [
    "- positive = 1 = true\n",
    "- negative = 0 = false\n",
    "- false is considered on machine's prediction capability\n",
    "- actually positive, but machine says negative = machines mistake = false negative\n",
    "- actually negative, but machine says positive = machines mistake = false positive\n",
    "- Accuracy : Proportion of correct predictions.\n",
    "- Sensitivity : Proportion of true positives.\n",
    "- Specificity : Proportion of true negatives.\n",
    "\n",
    "<center><img src=\"images/04.101.jpg\"  style=\"width: 400px, height: 300px;\"/></center>"
   ]
  },
  {
   "attachments": {},
   "cell_type": "markdown",
   "metadata": {},
   "source": [
    "# Creating confusion matrix"
   ]
  },
  {
   "cell_type": "code",
   "execution_count": 8,
   "metadata": {},
   "outputs": [],
   "source": [
    "# actual_response = df[\"class\"]\n",
    "# predicted_response = np.round(model.predict())\n",
    "# outcomes = pd.DataFrame({\"actual_response\": actual_response,\n",
    "#                          \"predicted_response\": predicted_response})\n",
    "# print(outcomes.value_counts(sort=False))"
   ]
  },
  {
   "attachments": {},
   "cell_type": "markdown",
   "metadata": {},
   "source": [
    "# Visualizing the confusion matrix"
   ]
  },
  {
   "cell_type": "code",
   "execution_count": 14,
   "metadata": {},
   "outputs": [],
   "source": [
    "# conf_matrix = model.pred_table()\n",
    "# print(conf_matrix)\n",
    "\n",
    "# from statsmodels.graphics.mosaicplot import mosaic\n",
    "# mosaic(conf_matrix)\n",
    "\n",
    "# TN = conf_matrix[0,0]\n",
    "# TP = conf_matrix[1,1]\n",
    "# FN = conf_matrix[1,0]\n",
    "# FP = conf_matrix[0,1]\n",
    "\n",
    "# accuracy = (TN + TP) / (TN + TP + FN + FP)\n",
    "# print(accuracy)\n",
    "\n",
    "# sensitivity = TP / (FN + TP)\n",
    "# print(sensitivity)\n",
    "\n",
    "# specificity = TN / (TN + FP)\n",
    "# print(specificity)"
   ]
  },
  {
   "attachments": {},
   "cell_type": "markdown",
   "metadata": {},
   "source": [
    "<center><img src=\"images/04.102.jpg\"  style=\"width: 400px, height: 300px;\"/></center>\n",
    "<center><img src=\"images/04.103.jpg\"  style=\"width: 400px, height: 300px;\"/></center>\n"
   ]
  }
 ],
 "metadata": {
  "kernelspec": {
   "display_name": "env_py",
   "language": "python",
   "name": "python3"
  },
  "language_info": {
   "codemirror_mode": {
    "name": "ipython",
    "version": 3
   },
   "file_extension": ".py",
   "mimetype": "text/x-python",
   "name": "python",
   "nbconvert_exporter": "python",
   "pygments_lexer": "ipython3",
   "version": "3.8.11"
  },
  "orig_nbformat": 4,
  "vscode": {
   "interpreter": {
    "hash": "1e949e87132dd83f1a7623eb88007e3532b03b66b77111be347aa4a383049722"
   }
  }
 },
 "nbformat": 4,
 "nbformat_minor": 2
}
