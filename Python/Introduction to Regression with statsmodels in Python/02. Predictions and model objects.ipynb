{
 "cells": [
  {
   "attachments": {},
   "cell_type": "markdown",
   "metadata": {},
   "source": [
    "# Prdicting with the model"
   ]
  },
  {
   "attachments": {},
   "cell_type": "markdown",
   "metadata": {},
   "source": [
    "- 3 Steps:\n",
    "    1. Create a dataframe with explanatory variables\n",
    "    2. Predict using the explanatory variables\n",
    "    3. Attach the predicted result with the existing dataframe"
   ]
  },
  {
   "cell_type": "code",
   "execution_count": 1,
   "metadata": {},
   "outputs": [],
   "source": [
    "# # Creating dataframe for prediction\n",
    "# explanatory_data = pd.DataFrame(\n",
    "# {\"var1\": np.arange(20, 41)}\n",
    "# )\n",
    "\n",
    "# # Predicting result\n",
    "# predicted_result=model.predict(explanatory_data)\n",
    "\n",
    "# # Attaching the result with existing dataframe \n",
    "# prediction_df = explanatory_data.assign( \n",
    "#     predicted_col=predicted_result\n",
    "# )\n",
    "# print(prediction_df)"
   ]
  },
  {
   "attachments": {},
   "cell_type": "markdown",
   "metadata": {},
   "source": [
    "# Visualizing Prediction"
   ]
  },
  {
   "attachments": {},
   "cell_type": "markdown",
   "metadata": {},
   "source": [
    "- First create visualization of existing points\n",
    "- Then, add visualization for points that you need explicitly using the custom points with different color\n",
    "- Make both plots in same `figure`"
   ]
  },
  {
   "cell_type": "code",
   "execution_count": 2,
   "metadata": {},
   "outputs": [],
   "source": [
    "# import matplotlib.pyplot as plt\n",
    "# import seaborn as sns\n",
    "\n",
    "# fig = plt.figure() # To create multiple layers in same plot\n",
    "\n",
    "# sns.regplot(x=\"x_var\",\n",
    "# y=\"y_var\",\n",
    "# ci=None,\n",
    "# data=some_df)\n",
    "\n",
    "# sns.scatterplot(x=\"x_var\",\n",
    "# y=\"y_var\",\n",
    "# data=prediction_df,\n",
    "# color=\"red\",\n",
    "# marker=\"s\")\n",
    "\n",
    "# plt.show()"
   ]
  },
  {
   "attachments": {},
   "cell_type": "markdown",
   "metadata": {},
   "source": [
    "# Extrapolating"
   ]
  },
  {
   "attachments": {},
   "cell_type": "markdown",
   "metadata": {},
   "source": [
    "- Used for making predictions outside the range of observed data.\n",
    "- Sometimes appropriate, but may lead to misleading / inappropriate results"
   ]
  },
  {
   "attachments": {},
   "cell_type": "markdown",
   "metadata": {},
   "source": [
    "# Different Attributes of the model"
   ]
  },
  {
   "attachments": {},
   "cell_type": "markdown",
   "metadata": {},
   "source": [
    "- `.params` = Returns intercept and slopes of the model\n",
    "    - `print(model.params)`\n",
    "- `.fittedvalues` = Predictions on original dataset\n",
    "    - `print(model.fittedvalues)`\n",
    "- `.resid` =  actual response values minus predicted response values (Residuals / inaccuray)\n",
    "    - `print(model.resid)`\n",
    "    - Same: `print(df[\"predicted_col\"] - model.fittedvalues)`\n",
    "- `.summary()` = details of the model\n",
    "    - `print(model.summary())`"
   ]
  },
  {
   "attachments": {},
   "cell_type": "markdown",
   "metadata": {},
   "source": [
    "# Regression to the mean"
   ]
  },
  {
   "attachments": {},
   "cell_type": "markdown",
   "metadata": {},
   "source": [
    "- Response value = fitted value + residual\n",
    "- \"What actually happenned\" = \"The stuff you explained\" + \"the stuff you couldn't explain\"\n",
    "- Residuals exist due to problems in the model and fundamental randomness\n",
    "    - Extreme cases are often due to randomness / luck\n",
    "    - Model should not capture these extreme values\n",
    "    - Regression to the mean means these random extreme cases don't persist over time\n",
    "    - Extreme cases will be more like average cases"
   ]
  },
  {
   "attachments": {},
   "cell_type": "markdown",
   "metadata": {},
   "source": [
    "# Creating a Line"
   ]
  },
  {
   "cell_type": "code",
   "execution_count": 4,
   "metadata": {},
   "outputs": [],
   "source": [
    "# # Plot the first layer: y = x\n",
    "# plt.axline(xy1=(0,0), slope=1, linewidth=2, color=\"green\")\n",
    "\n",
    "# # Set the axes so that the distances along the x and y axes look the same\n",
    "# plt.axis(\"equal\")"
   ]
  },
  {
   "attachments": {},
   "cell_type": "markdown",
   "metadata": {},
   "source": [
    "# Transformation of variable"
   ]
  },
  {
   "attachments": {},
   "cell_type": "markdown",
   "metadata": {},
   "source": [
    "- Sometimes a model may not be straight line\n",
    "    - Scatterplot may show cluttered/crammed points in one place\n",
    "        - transformation : square root \n",
    "    - Scatterplot may show non-linear bend\n",
    "        - transformation : add power to the variable \n",
    "- In that case you may need to transform either explanatory variable, or response variable, or both explanatory and response variable\n",
    "- Undoing the transformation = back transformation\n",
    "    - You need to undo transformation after prediction is done to get back original data in its raw form"
   ]
  }
 ],
 "metadata": {
  "kernelspec": {
   "display_name": "env_py",
   "language": "python",
   "name": "python3"
  },
  "language_info": {
   "codemirror_mode": {
    "name": "ipython",
    "version": 3
   },
   "file_extension": ".py",
   "mimetype": "text/x-python",
   "name": "python",
   "nbconvert_exporter": "python",
   "pygments_lexer": "ipython3",
   "version": "3.8.11"
  },
  "orig_nbformat": 4,
  "vscode": {
   "interpreter": {
    "hash": "1e949e87132dd83f1a7623eb88007e3532b03b66b77111be347aa4a383049722"
   }
  }
 },
 "nbformat": 4,
 "nbformat_minor": 2
}
