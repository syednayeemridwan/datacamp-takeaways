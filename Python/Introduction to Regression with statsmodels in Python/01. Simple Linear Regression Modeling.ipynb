{
 "cells": [
  {
   "attachments": {},
   "cell_type": "markdown",
   "metadata": {},
   "source": [
    "# Regression"
   ]
  },
  {
   "attachments": {},
   "cell_type": "markdown",
   "metadata": {},
   "source": [
    "- Statistical models to explore the relationship a response variable (dependent variable / target variable) and some explanatory variables (independent variables / Training Features).\n",
    "- Given values of explanatory variables (independent variables / Training Features), you can predict the values of the response variable (dependent variable / target variable).\n",
    "- Response variable = The variable that you want to predict.\n",
    "- Explanatory variables = The variables that explain how the response variable will change.\n",
    "- Linear regression = The response variable is numeric.\n",
    "- Logistic regression = The response variable is logical (True or False values).\n",
    "- Simple linear/logistic regression = There is only one explanatory variable."
   ]
  },
  {
   "attachments": {},
   "cell_type": "markdown",
   "metadata": {},
   "source": [
    "# Python packages for regression\n"
   ]
  },
  {
   "attachments": {},
   "cell_type": "markdown",
   "metadata": {},
   "source": [
    "- `statsmodels`\n",
    "    - Optimized for insight (focus in this course)\n",
    "- `scikit-learn`\n",
    "    - Optimized for prediction (focus in other DataCamp courses)"
   ]
  },
  {
   "attachments": {},
   "cell_type": "markdown",
   "metadata": {},
   "source": [
    "# Visualizing pairs of variables"
   ]
  },
  {
   "attachments": {},
   "cell_type": "markdown",
   "metadata": {},
   "source": [
    "- Use Scatterplot to get insight\n",
    "- Use seaborn scatterplot"
   ]
  },
  {
   "cell_type": "code",
   "execution_count": 1,
   "metadata": {},
   "outputs": [],
   "source": [
    "# import matplotlib.pyplot as plt\n",
    "# import seaborn as sns\n",
    "# sns.scatterplot(x=\"x_val\",\n",
    "#                 y=\"y_val\",\n",
    "#                 data=some_df)\n",
    "# plt.show()"
   ]
  },
  {
   "attachments": {},
   "cell_type": "markdown",
   "metadata": {},
   "source": [
    "# Adding a linear trend line"
   ]
  },
  {
   "attachments": {},
   "cell_type": "markdown",
   "metadata": {},
   "source": [
    "- Use seaborn `regplot`"
   ]
  },
  {
   "cell_type": "code",
   "execution_count": 1,
   "metadata": {},
   "outputs": [],
   "source": [
    "# sns.regplot(x=\"x_val\",\n",
    "#             y=\"y_val\",\n",
    "#             data=some_df,\n",
    "#             ci=None)"
   ]
  },
  {
   "attachments": {},
   "cell_type": "markdown",
   "metadata": {},
   "source": [
    "# Considerations for Fitting a linear regression"
   ]
  },
  {
   "attachments": {},
   "cell_type": "markdown",
   "metadata": {},
   "source": [
    "- Intercept = The y value at the point when x is zero.\n",
    "- Slope = Steepness = The amount the y value increases if you increase x by one.\n",
    "- Equation = `y =  slope ∗ x + intercept`"
   ]
  },
  {
   "attachments": {},
   "cell_type": "markdown",
   "metadata": {},
   "source": [
    "# Running a model"
   ]
  },
  {
   "attachments": {},
   "cell_type": "markdown",
   "metadata": {},
   "source": [
    "- The code below will produce a linear regression model\n",
    "- Will give output parameters as (Intercept and slope of independent variables)\n",
    "- See slides for explanations"
   ]
  },
  {
   "cell_type": "code",
   "execution_count": 2,
   "metadata": {},
   "outputs": [],
   "source": [
    "# from statsmodels.formula.api import ols\n",
    "# linear_reg_model = ols(\"y_var ~ x_var1 + x_var2\", data=some_df)\n",
    "# linear_reg_model = linear_reg_model.fit()\n",
    "# print(linear_reg_model.params)"
   ]
  },
  {
   "attachments": {},
   "cell_type": "markdown",
   "metadata": {},
   "source": [
    "# Visualizing 1 numeric and 1 categorical variable"
   ]
  },
  {
   "attachments": {},
   "cell_type": "markdown",
   "metadata": {},
   "source": [
    "- Since categorical variable is involved, scatterplot is not a good choice\n",
    "- use distribution plot along with faceting for each category\n",
    "- use seaborn's `displot`"
   ]
  },
  {
   "cell_type": "code",
   "execution_count": 3,
   "metadata": {},
   "outputs": [],
   "source": [
    "# import matplotlib.pyplot as plt\n",
    "# import seaborn as sns\n",
    "# sns.displot(data=some_df,\n",
    "#             x=\"num_var\",\n",
    "#             col=\"cat_var\",\n",
    "#             col_wrap=2,\n",
    "#             bins=9)\n",
    "# plt.show()"
   ]
  },
  {
   "attachments": {},
   "cell_type": "markdown",
   "metadata": {},
   "source": [
    "# Regression Modeling for Single categorical variable"
   ]
  },
  {
   "attachments": {},
   "cell_type": "markdown",
   "metadata": {},
   "source": [
    "- 1 categorical explanatory variable produces several co-efficients\n",
    "- The Intercept itself is a co-efficient of one category\n",
    "- the other co-efficients for each category are calculated relative to the intercept \n",
    "    - This approach is Good for linear regression of multiple explanatory variables\n",
    "    - This approach is Confusing for linear regression of single explanatory variables\n",
    "        - Some co-efficients become negative\n",
    "        - One category becomes the intercept intuitively\n",
    "        - Use `y ~ x + 0` to calculate all co-efficients relative to 0\n",
    "        - This will calculate linear regression without an intercept term\n",
    "        - The co-efficients are the mean of each category for single categorical variable"
   ]
  }
 ],
 "metadata": {
  "kernelspec": {
   "display_name": "env_py",
   "language": "python",
   "name": "python3"
  },
  "language_info": {
   "codemirror_mode": {
    "name": "ipython",
    "version": 3
   },
   "file_extension": ".py",
   "mimetype": "text/x-python",
   "name": "python",
   "nbconvert_exporter": "python",
   "pygments_lexer": "ipython3",
   "version": "3.8.11"
  },
  "orig_nbformat": 4,
  "vscode": {
   "interpreter": {
    "hash": "1e949e87132dd83f1a7623eb88007e3532b03b66b77111be347aa4a383049722"
   }
  }
 },
 "nbformat": 4,
 "nbformat_minor": 2
}
