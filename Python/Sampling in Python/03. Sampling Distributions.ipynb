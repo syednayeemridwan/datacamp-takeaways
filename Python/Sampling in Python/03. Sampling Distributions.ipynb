{
 "cells": [
  {
   "attachments": {},
   "cell_type": "markdown",
   "metadata": {},
   "source": [
    "# Sample Size"
   ]
  },
  {
   "attachments": {},
   "cell_type": "markdown",
   "metadata": {},
   "source": [
    "- Larger sample size gives more accurate results\n",
    "- Relative error = absolute difference between population mean and sample mean\n",
    "- formula : `rel_error_pct = 100 * abs(population_mean-sample_mean) / population_mean`\n",
    "- Relative error decreases if sample size increases\n",
    "    - decreases to zero (when the sample size = population)\n",
    "- Very small dataset has more relative error. Adding some more data helps to reduce error\n",
    "- Large sample size does not get much help by adding some more data to decrease relative error."
   ]
  },
  {
   "cell_type": "code",
   "execution_count": 1,
   "metadata": {},
   "outputs": [],
   "source": [
    "# import matplotlib.pyplot as plt\n",
    "# errors.plot(x=\"sample_size\", \n",
    "#             y=\"relative_error\",\n",
    "#             kind=\"line\")\n",
    "# plt.show()"
   ]
  },
  {
   "attachments": {},
   "cell_type": "markdown",
   "metadata": {},
   "source": [
    "# Sampling Distribution"
   ]
  },
  {
   "attachments": {},
   "cell_type": "markdown",
   "metadata": {},
   "source": [
    "- A sampling distribution is a distribution of replicates of point estimates.\n",
    "- Create a distribution from many samples means\n",
    "- mean of different sample from same population with same code gives us different result on each run\n",
    "    - We need to quantify it to a solid, more accurate number\n",
    "    - replicate this process multiple time and store the mean result for each run\n",
    "    - Now use histogram to visualize these mean values\n",
    "        - This will show us sampling distribution\n",
    "    - now take the mean of all the stored means = more solid mean that is close to population mean"
   ]
  },
  {
   "attachments": {},
   "cell_type": "markdown",
   "metadata": {},
   "source": [
    "# Dice Roll\n"
   ]
  },
  {
   "attachments": {},
   "cell_type": "markdown",
   "metadata": {},
   "source": [
    "- We have 4 dice. \n",
    "    - Rolling them would produce : 6 X 6 X 6 X 6 possible combinations\n",
    "    - Formula `combinations = Possible_outcome_of_object ^ number_of_rolls`\n",
    "        - for dice,  `Possible_outcome_of_object = 6`\n",
    "        - for coins,  `Possible_outcome_of_object = 2`\n",
    "- These types of distributions are discrete distribution\n",
    "    - Visualizing these types of distribution requires barplot\n",
    "    - Steps:\n",
    "        1. Count mean for each outcome\n",
    "        2. make mean outcome into category\n",
    "        3. use barplot for `.value_counts()` with `sort= False` so that it is not automatically sorted by highest/lowest value \n",
    "- Problem : number of outcomes increase exponentially with the increase of `number_of_rolls`\n",
    "    - use approximation (Approximate sampling distribution)\n",
    "    - In this case, use histogram"
   ]
  },
  {
   "attachments": {},
   "cell_type": "markdown",
   "metadata": {},
   "source": [
    "### Discrete Exact Dice Roll"
   ]
  },
  {
   "cell_type": "code",
   "execution_count": 2,
   "metadata": {},
   "outputs": [],
   "source": [
    "# dice['mean_roll'] = (dice['die1'] +\n",
    "#                      dice['die2'] +\n",
    "#                      dice['die3'] +\n",
    "#                      dice['die4']) / 4\n",
    "# print(dice)\n",
    "\n",
    "# dice['mean_roll'] = dice['mean_roll'].astype('category')\n",
    "# dice['mean_roll'].value_counts(sort=False).plot(kind=\"bar\")"
   ]
  },
  {
   "attachments": {},
   "cell_type": "markdown",
   "metadata": {},
   "source": [
    "### Approximate sampling distribution"
   ]
  },
  {
   "cell_type": "code",
   "execution_count": 7,
   "metadata": {},
   "outputs": [
    {
     "name": "stdout",
     "output_type": "stream",
     "text": [
      "[4.5, 3.0, 4.25, 3.5]\n"
     ]
    }
   ],
   "source": [
    "import numpy as np \n",
    "sample_means_1000 = []\n",
    "# We are playing with 4 ludo dice, it has 6 sides\n",
    "high = 6\n",
    "no_of_dice = 4\n",
    "for i in range (1000): \n",
    "    sample_means_1000.append( np.random.choice(list(range(1,high + 1)), size=no_of_dice, replace=True).mean() )\n",
    "\n",
    "print(sample_means_1000[:4])\n",
    "print()"
   ]
  },
  {
   "cell_type": "code",
   "execution_count": 12,
   "metadata": {},
   "outputs": [
    {
     "data": {
      "text/plain": [
       "array([2, 1, 1, 2])"
      ]
     },
     "execution_count": 12,
     "metadata": {},
     "output_type": "execute_result"
    }
   ],
   "source": [
    "# For each time you roll 4 dices\n",
    "np.random.choice(list(range(1,6 + 1)), size=4, replace=True)\n"
   ]
  },
  {
   "cell_type": "code",
   "execution_count": 6,
   "metadata": {},
   "outputs": [
    {
     "data": {
      "image/png": "[encoded data removed]",
      "text/plain": [
       "<Figure size 432x288 with 1 Axes>"
      ]
     },
     "metadata": {
      "needs_background": "light"
     },
     "output_type": "display_data"
    }
   ],
   "source": [
    "import matplotlib.pyplot as plt\n",
    "plt.hist(sample_means_1000, bins=20)\n",
    "plt.show()"
   ]
  },
  {
   "attachments": {},
   "cell_type": "markdown",
   "metadata": {},
   "source": [
    "# Central Limit Theorem"
   ]
  },
  {
   "attachments": {},
   "cell_type": "markdown",
   "metadata": {},
   "source": [
    "- If you create a distribution with means of samples, it will show normal distribution\n",
    "    - The more the number of samples, the more normal the distribution\n",
    "    - The bell curve gets thinner\n",
    "- Averages of independent samples have approximately normal distributions.\n",
    "- As the sample size of means increases,\n",
    "    - The distribution of the averages gets closer to being normally distributed\n",
    "    - The width of the sampling distribution gets narrower\n",
    "- The mean of sample means is very much close to population mean"
   ]
  },
  {
   "attachments": {},
   "cell_type": "markdown",
   "metadata": {},
   "source": [
    "# Standard error\n"
   ]
  },
  {
   "attachments": {},
   "cell_type": "markdown",
   "metadata": {},
   "source": [
    "- Standard deviation of the sampling distribution\n",
    "- Important tool in understanding sampling variability\n"
   ]
  },
  {
   "cell_type": "code",
   "execution_count": 16,
   "metadata": {},
   "outputs": [],
   "source": [
    "# population_std = np.std(population_df['col'],ddof=1)\n",
    "# sample_std = std_error = np.std(sample_df['col'],ddof=1)\n",
    "# sample_std = std_error = population_std / np.sqrt(len(population_df))"
   ]
  }
 ],
 "metadata": {
  "kernelspec": {
   "display_name": "env_py",
   "language": "python",
   "name": "python3"
  },
  "language_info": {
   "codemirror_mode": {
    "name": "ipython",
    "version": 3
   },
   "file_extension": ".py",
   "mimetype": "text/x-python",
   "name": "python",
   "nbconvert_exporter": "python",
   "pygments_lexer": "ipython3",
   "version": "3.8.11"
  },
  "orig_nbformat": 4,
  "vscode": {
   "interpreter": {
    "hash": "1e949e87132dd83f1a7623eb88007e3532b03b66b77111be347aa4a383049722"
   }
  }
 },
 "nbformat": 4,
 "nbformat_minor": 2
}
