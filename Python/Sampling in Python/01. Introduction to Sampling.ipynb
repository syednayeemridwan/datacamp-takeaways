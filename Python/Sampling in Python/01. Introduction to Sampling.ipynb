{
 "cells": [
  {
   "attachments": {},
   "cell_type": "markdown",
   "metadata": {},
   "source": [
    "# Terminology"
   ]
  },
  {
   "attachments": {},
   "cell_type": "markdown",
   "metadata": {},
   "source": [
    "- Sampling : Working with a subset of the whole population \n",
    "- population : complete dataset\n",
    "- Sample : subset of data you calculate on\n",
    "    - Sampling by taking 10 unique random rows from a dataframe : `df.sample(n=10)`\n",
    "- Point estimate : sample statistic made from sample dataset\n",
    "    - point estimate of sample dataframe : `np.mean(sample_df)`\n",
    "- Convenience sampling:\n",
    "    - Collecting data by the easiest method\n",
    "    - Prone to sampling bias (Not accurate sampling as not pure randomness is involved)\n",
    "    - See example in the slide\n",
    "    - Convenience sampling is not representative of the whole population\n",
    "    - You can visualize selection bias by histogram\n",
    "        - See histogram: `series.hist(bins = np.arange(59, 93, 2)))`\n",
    "        - If the histogram is not normal, then it is due to convenience sampling\n",
    "- A good sample's histogram will mirror closely with the populations histogram"
   ]
  },
  {
   "attachments": {},
   "cell_type": "markdown",
   "metadata": {},
   "source": [
    "# True randomness"
   ]
  },
  {
   "attachments": {},
   "cell_type": "markdown",
   "metadata": {},
   "source": [
    "- True random numbers:\n",
    "    - Generated from physical processes, like flipping coins / rolling dice\n",
    "    - Hotbits uses radioactive decay\n",
    "    - RANDOM.ORG uses atmospheric noise\n",
    "    - True randomness is expensive\n",
    "    - Use Pseudo-random numbers\n",
    "- Pseudo-random numbers:\n",
    "    - Pseudo-random numbers generation is cheap and fast\n",
    "    - The first \"random\" number calculated from a seed\n",
    "    - Next \"random\" number calculated from previous \"random\" number\n",
    "    - The same seed value yields the same random numbers (Reproducibility)\n",
    "    - see `np.random` for multiple random number generating functions\n"
   ]
  },
  {
   "cell_type": "code",
   "execution_count": 1,
   "metadata": {},
   "outputs": [],
   "source": [
    "# np.random.seed(20000229)\n",
    "# # loc is mean, and scale is standard deviation\n",
    "# np.random.normal(loc=2, scale=1.5, size=2)"
   ]
  }
 ],
 "metadata": {
  "kernelspec": {
   "display_name": "base",
   "language": "python",
   "name": "python3"
  },
  "language_info": {
   "codemirror_mode": {
    "name": "ipython",
    "version": 3
   },
   "file_extension": ".py",
   "mimetype": "text/x-python",
   "name": "python",
   "nbconvert_exporter": "python",
   "pygments_lexer": "ipython3",
   "version": "3.8.3"
  },
  "orig_nbformat": 4,
  "vscode": {
   "interpreter": {
    "hash": "dc575bfddb5c8ca4bb6a4f4dcdd32abc104b5fa4177361381c432fff36ce3e46"
   }
  }
 },
 "nbformat": 4,
 "nbformat_minor": 2
}
