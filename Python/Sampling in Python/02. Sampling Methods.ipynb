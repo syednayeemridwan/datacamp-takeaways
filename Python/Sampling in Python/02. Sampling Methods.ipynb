{
 "cells": [
  {
   "attachments": {},
   "cell_type": "markdown",
   "metadata": {},
   "source": [
    "# Simple random sampling\n"
   ]
  },
  {
   "attachments": {},
   "cell_type": "markdown",
   "metadata": {},
   "source": [
    "- randomly take items one at a time\n",
    "- each item has same chance / probability of being picked (Pick a chocolate from 10 chocolates)\n",
    "- example : `df.sample(n=5, random_state=42)`"
   ]
  },
  {
   "attachments": {},
   "cell_type": "markdown",
   "metadata": {},
   "source": [
    "# Systematic Sampling"
   ]
  },
  {
   "attachments": {},
   "cell_type": "markdown",
   "metadata": {},
   "source": [
    "- Sample a population at regular intervals (Take every 5th row in a dataset)\n",
    "    - example : `df.iloc[::interval]`\n",
    "- May introduce bias\n",
    "- To make sure that there is no bias, use plotting to determine that there is no hidden relationship / sequence / pattern involved in the plot (See exammple)\n",
    "    - Make sure the plot produces pure white noise\n",
    "    - Randomize row order before sampling with `df.sample(frac=1)`\n",
    "- Taking every n-th element of the dataframe comes with index too. Reset the index to get fresh set of random data to store\n"
   ]
  },
  {
   "attachments": {},
   "cell_type": "markdown",
   "metadata": {},
   "source": [
    "### Unsafe systematic sampling"
   ]
  },
  {
   "cell_type": "code",
   "execution_count": 1,
   "metadata": {},
   "outputs": [],
   "source": [
    "# sample_size = 5\n",
    "# pop_size = len(df)\n",
    "# print(pop_size)\n",
    "# interval = pop_size // sample_size\n",
    "# print(interval)\n",
    "# df.iloc[::interval]\n"
   ]
  },
  {
   "attachments": {},
   "cell_type": "markdown",
   "metadata": {},
   "source": [
    "### Safe systematic sampling\n"
   ]
  },
  {
   "attachments": {},
   "cell_type": "markdown",
   "metadata": {},
   "source": [
    "- Steps:\n",
    "    1. use `df.sample(frac=1)` to create a shuffled version of the dataset\n",
    "    2. use `df.reset_index()` to show the hidden index lying underneath\n",
    "    3. use `df.reset_index(drop=True).reset_index()` to create index for new dataframe\n",
    "        - `.reset_index(drop=True)` gets rid of the old hidden index keeping the shuffled version\n",
    "        -  `.reset_index()` creates a new index column as top-down rows"
   ]
  },
  {
   "cell_type": "code",
   "execution_count": 2,
   "metadata": {},
   "outputs": [],
   "source": [
    "# shuffled = coffee_ratings.sample(frac=1)\n",
    "# shuffled = shuffled.reset_index(drop=True).reset_index()\n",
    "# shuffled.plot(x=\"index\", y=\"aftertaste\", kind=\"scatter\")\n",
    "# plt.show()"
   ]
  },
  {
   "attachments": {},
   "cell_type": "markdown",
   "metadata": {},
   "source": [
    "# Stratified Sampling"
   ]
  },
  {
   "attachments": {},
   "cell_type": "markdown",
   "metadata": {},
   "source": [
    "- Sampling by each and all sub-groups\n",
    "- See available sub-groups in proportion in original population dataset : `df[\"col\"].value_counts(normalize = True)`\n",
    "- normal sampling may lead to disproportion sampling\n",
    "- use stratified sampling so that the proportion is uniform\n",
    "- Steps:\n",
    "    - First use `.groupby()` to group the dataframe by the sub-group category\n",
    "    - Then use `.sample()`\n",
    "- 2 types of creating such samples:\n",
    "    1. use proportion of data to sample : Proportional stratified sampling\n",
    "    2. use number of data to sample : Equal counts stratified sampling"
   ]
  },
  {
   "cell_type": "code",
   "execution_count": 3,
   "metadata": {},
   "outputs": [],
   "source": [
    "# stratified_sample_proportion = df.groupby(\"class\").sample(frac=0.1, random_state=42)\n",
    "# stratified_sample_counts = df.groupby(\"class\").sample(n=10, random_state=42)\n",
    "\n",
    "\n",
    "# stratified_sample['class'].value_counts(normalize=True) # See verification"
   ]
  },
  {
   "attachments": {},
   "cell_type": "markdown",
   "metadata": {},
   "source": [
    "# Weighted random sampling"
   ]
  },
  {
   "attachments": {},
   "cell_type": "markdown",
   "metadata": {},
   "source": [
    "- Sampling based on specified weight / weighted probability\n",
    "- Steps:\n",
    "    1. We create a weighted column in the dataset\n",
    "    2. We sample the dataset based on the weighted column"
   ]
  },
  {
   "cell_type": "code",
   "execution_count": 4,
   "metadata": {},
   "outputs": [],
   "source": [
    "# weighted_sample = df.sample(frac=0.1, weights=\"weighted_col\")"
   ]
  },
  {
   "attachments": {},
   "cell_type": "markdown",
   "metadata": {},
   "source": [
    "# Cluster sampling"
   ]
  },
  {
   "attachments": {},
   "cell_type": "markdown",
   "metadata": {},
   "source": [
    "- Randomly pick sub-groups\n",
    "- Use sampling on the picked sub-groups\n",
    "- Relatively cheaper than stratified sampling that requires all subgroups\n",
    "- Cluster sampling is a type of multistage sampling\n",
    "    - Can have > 2 stages\n",
    "    - E.g., countrywide surveys may sample states, counties, cities, and neighborhoods\n",
    "- Steps:\n",
    "    1. Randomly select a specific number of subgroups\n",
    "    2. Mask the population dataframe to the selected subgroups\n",
    "    3. Use grouping them first and then do sampling on the masked dataframe (same as in statified sampling)\n",
    "        - use `masked_df['class'] = masked_df['class'].cat.remove_unused_categories()` to make sure that unused categories are filtered out"
   ]
  },
  {
   "cell_type": "code",
   "execution_count": 5,
   "metadata": {},
   "outputs": [],
   "source": [
    "# unique_class = list(df['class'].unique())\n",
    "\n",
    "# import random\n",
    "# sampled_class = random.sample(unique_class, k=3)\n",
    "\n",
    "# mask = df['class'].isin(sampled_class)\n",
    "# masked_df = df[mask]\n",
    "# masked_df['class'] = masked_df['class'].cat.remove_unused_categories()\n",
    "\n",
    "# clustered_sample = masked_df.groupby(\"class\", observed = True).sample(n=5, random_state=2021)"
   ]
  }
 ],
 "metadata": {
  "kernelspec": {
   "display_name": "env_py",
   "language": "python",
   "name": "python3"
  },
  "language_info": {
   "codemirror_mode": {
    "name": "ipython",
    "version": 3
   },
   "file_extension": ".py",
   "mimetype": "text/x-python",
   "name": "python",
   "nbconvert_exporter": "python",
   "pygments_lexer": "ipython3",
   "version": "3.8.11"
  },
  "orig_nbformat": 4,
  "vscode": {
   "interpreter": {
    "hash": "1e949e87132dd83f1a7623eb88007e3532b03b66b77111be347aa4a383049722"
   }
  }
 },
 "nbformat": 4,
 "nbformat_minor": 2
}
