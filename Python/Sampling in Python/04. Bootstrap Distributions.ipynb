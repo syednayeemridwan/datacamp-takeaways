{
 "cells": [
  {
   "attachments": {},
   "cell_type": "markdown",
   "metadata": {},
   "source": [
    "# Sampling with or without replacement"
   ]
  },
  {
   "attachments": {},
   "cell_type": "markdown",
   "metadata": {},
   "source": [
    "- Sampling with replacement:\n",
    "    - Also called re-sampling\n",
    "    - We can have one combination more than one time\n",
    "    - example : 1 ludo dice roll 5 times. We may get 2 6 \n",
    "- Sampling without replacement:\n",
    "    - We can have one combination only one time\n",
    "    - example : picking a card from 52 cards. We wont be able to pick the same card again.\n",
    "- Sampling :  Drawing sample from population\n",
    "- Bootstrapping : Building up a theoretical population from a sample\n",
    "    - Lets Develop understanding of sampling variability using a single sample\n",
    "- bootstrap statistics : The statistics we get from bootstrapping a sample\n",
    "- bootstrap distribution : The distribution we get using bootstrap statistics\n",
    "- Steps:\n",
    "    1. Make a sample with replacement of the same size as the original sample\n",
    "    2. Calculate the statistic of interest for this bootstrap sample\n",
    "    3. Repeat steps 1 and 2 many times"
   ]
  },
  {
   "cell_type": "code",
   "execution_count": 1,
   "metadata": {},
   "outputs": [],
   "source": [
    "# import numpy as np\n",
    "# bootstrapped_samples = []\n",
    "# bootstrapped_means = []\n",
    "# for i in range(1000):\n",
    "#     bootstrapped_samples.append(sample_df.sample(frac=1, replace=True))\n",
    "#     bootstrapped_means.append(np.mean(sample_df.sample(frac=1, replace=True)[\"col\"]))"
   ]
  },
  {
   "cell_type": "code",
   "execution_count": 2,
   "metadata": {},
   "outputs": [],
   "source": [
    "# import matplotlib.pyplot as plt\n",
    "# plt.hist(bootstrapped_means)\n",
    "# plt.show()"
   ]
  },
  {
   "attachments": {},
   "cell_type": "markdown",
   "metadata": {},
   "source": [
    "# Interpreting Bootstrap Statistics"
   ]
  },
  {
   "attachments": {},
   "cell_type": "markdown",
   "metadata": {},
   "source": [
    "- Bootstrap distribution mean is usually close to the sample mean \n",
    "    - Does not guarantee that it would be a good estimate of the population mean (sample may differ from population by a large margin)\n",
    "    - Bootstrapping cannot correct biases from sampling (Because bootstrap is done on samples which may contain bias, not on population dataset)\n",
    "- Bootstrap may not give correct estimate of population mean, but it gives almost identical estimate of population variability\n",
    "    - The sampling distribution mean can be used to estimate the population mean, but that is not the case with the bootstrap distribution."
   ]
  },
  {
   "cell_type": "code",
   "execution_count": 5,
   "metadata": {},
   "outputs": [],
   "source": [
    "# bootstrap_std = np.std(bootstrap_distn_of_sample_means, ddof=1)\n",
    "# population_std = bootstrap_std * np.sqrt(bootstrap_sample_size)\n"
   ]
  },
  {
   "attachments": {},
   "cell_type": "markdown",
   "metadata": {},
   "source": [
    "# Confidence Interval"
   ]
  },
  {
   "attachments": {},
   "cell_type": "markdown",
   "metadata": {},
   "source": [
    "- quantifies the relationship of distribution with closeness to the mean\n",
    "- Confidence intervals account for uncertainty in our estimate of a population parameter by providing a range of possible values. We are confident that the true value lies somewhere in the interval specified by that range.\n",
    "- Where most of the values of the distribution lie\n",
    "- Presented along with point estimate (mean)\n",
    "- A range from mean on both side (lower bound and upper bound)\n",
    "    - Incorporates uncertainty\n",
    "- Gives A range of plausible values for an unknown quantity.\n",
    "- Example: Weather forecast shows tomorrow's mean temp is 26 degree with standard deviation of 1 degree celcius\n",
    "    - The confidence interval is (26-3 , 26+3) degree\n",
    "    - We say we are 99% confident that tomorrows temp will be 22 to 29 degree celcius\n",
    "    "
   ]
  },
  {
   "attachments": {},
   "cell_type": "markdown",
   "metadata": {},
   "source": [
    "### Way 1 : Cacculating confidence interval with quantile"
   ]
  },
  {
   "cell_type": "code",
   "execution_count": 6,
   "metadata": {},
   "outputs": [],
   "source": [
    "# upper_bound = np.quantile(dist, 0.025)\n",
    "# lower_bound = np.quantile(dist, 0.975)"
   ]
  },
  {
   "attachments": {},
   "cell_type": "markdown",
   "metadata": {},
   "source": [
    "### Way 2 : Cacculating confidence interval with Inverse CDF\n"
   ]
  },
  {
   "attachments": {},
   "cell_type": "markdown",
   "metadata": {},
   "source": [
    "- PDF: The bell curve\n",
    "- CDF: integrate to get area under bell curve (Cumulative)\n",
    "- Inverse CDF: flip x and y axes"
   ]
  },
  {
   "cell_type": "code",
   "execution_count": 8,
   "metadata": {},
   "outputs": [],
   "source": [
    "# from scipy.stats import norm\n",
    "\n",
    "# dist_mean = np.mean(bootstrap_dist)\n",
    "# std_error = np.std(bootstrap_dist, ddof=1)\n",
    "\n",
    "# lower = norm.ppf(0.025, loc=dist_mean, scale=std_error)\n",
    "# upper = norm.ppf(0.975, loc=dist_mean, scale=std_error)\n",
    "# print((lower, upper)) # This is the confidence interval"
   ]
  }
 ],
 "metadata": {
  "kernelspec": {
   "display_name": "env_py",
   "language": "python",
   "name": "python3"
  },
  "language_info": {
   "codemirror_mode": {
    "name": "ipython",
    "version": 3
   },
   "file_extension": ".py",
   "mimetype": "text/x-python",
   "name": "python",
   "nbconvert_exporter": "python",
   "pygments_lexer": "ipython3",
   "version": "3.8.11"
  },
  "orig_nbformat": 4,
  "vscode": {
   "interpreter": {
    "hash": "1e949e87132dd83f1a7623eb88007e3532b03b66b77111be347aa4a383049722"
   }
  }
 },
 "nbformat": 4,
 "nbformat_minor": 2
}
