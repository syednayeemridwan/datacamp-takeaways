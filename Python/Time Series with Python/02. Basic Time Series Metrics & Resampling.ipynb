{
 "cells": [
  {
   "attachments": {},
   "cell_type": "markdown",
   "metadata": {},
   "source": [
    "# Comparing stock performance"
   ]
  },
  {
   "attachments": {},
   "cell_type": "markdown",
   "metadata": {},
   "source": [
    "- Normalize series to start at the same starting point (100)\n",
    "- Steps:\n",
    "    - Divide the whole series with the first value\n",
    "    - Then multiply the whole series with 100\n",
    "    - You see the growth rate from initial point to some other point in percentage\n",
    "    - Do the same for another series\n",
    "    - Stack the series together\n",
    "    - Drop any missing values in the new dataframe\n",
    "    - Visualize the dataframe to see comparative performance\n",
    "    - Create new dataframe by subtracting benchmark series (eg : SP500) from the existing dataframe \n",
    "    - Visualize the dataframe to see only the comparative performance relative to the benchmark"
   ]
  },
  {
   "cell_type": "code",
   "execution_count": 1,
   "metadata": {},
   "outputs": [],
   "source": [
    "# google = pd.read_csv('google.csv', parse_dates=['date'], index_col='date')\n",
    "# first_price = google.price.iloc[0]\n",
    "# normalized_stock1 = google.price.div(first_price).mul(100)\n",
    "# stacked_df = pd.concat([normalized_stock1,normalized_stock2], axis=1).dropna()\n",
    "# stacked_df.plot()\n",
    "# Performance_df = stacked_df.sub(benchmark, axis=0)\n",
    "# Performance_df.plot()\n"
   ]
  },
  {
   "attachments": {},
   "cell_type": "markdown",
   "metadata": {},
   "source": [
    "# Changing frequency of time series"
   ]
  },
  {
   "attachments": {},
   "cell_type": "markdown",
   "metadata": {},
   "source": [
    "- Before changing the frequency, make sure that the index is in time series\n",
    "- Up-sampling : \n",
    "    - frequency of values becomes more (More values are generated) \n",
    "    - Add more number of rows (Requires to fill in values for more rows)\n",
    "    - eg : Yearly temp to daily temp\n",
    "    - `df['resampled_date'] = df[\"date_col\"].asfreq('M', method='ffill')`\n",
    "    - `df['resampled_date'] = df[\"date_col\"].asfreq('M', method='bfill')`\n",
    "    - `df['resampled_date'] = df[\"date_col\"].asfreq('M', fill_value=0)`\n",
    "    - `upsampled_df = df.resample('MS').ffill()`\n",
    "    - `upsampled_df = df.resample('MS').interpolate().add_suffix('_inter')`\n",
    "- Down-sampling : frequency of values becomes less (less values are generated from aggregations) \n",
    "    - reduce number of rows (Requires to summarize values for reduced rows)\n",
    "    - eg :  daily temp to yearly temp\n",
    "    - `downsampled_df = df.resample('D').mean()`\n",
    "    "
   ]
  },
  {
   "cell_type": "code",
   "execution_count": 2,
   "metadata": {},
   "outputs": [],
   "source": [
    "# # Set start and end dates\n",
    "# start = '2016-1-1'\n",
    "# end = '2016-2-29'\n",
    "\n",
    "# # Create time series of consting of monthly values\n",
    "# monthly_index = pd.date_range(start=start, end=end, freq='M')\n",
    "# monthly_series = pd.Series(data=[1,2], index=monthly_index)\n",
    "\n",
    "# # Create index to resample into\n",
    "# weekly_index = pd.date_range(start=start, end=end, freq='W')\n",
    "\n",
    "# # resample monthly time series using weekly_index\n",
    "# print(monthly_series.reindex(weekly_index))\n",
    "# print(monthly_series.reindex(weekly_index, method='bfill'))\n",
    "# print(monthly_series.reindex(weekly_index, method='ffill'))"
   ]
  }
 ],
 "metadata": {
  "kernelspec": {
   "display_name": "env_py",
   "language": "python",
   "name": "python3"
  },
  "language_info": {
   "codemirror_mode": {
    "name": "ipython",
    "version": 3
   },
   "file_extension": ".py",
   "mimetype": "text/x-python",
   "name": "python",
   "nbconvert_exporter": "python",
   "pygments_lexer": "ipython3",
   "version": "3.8.11"
  },
  "orig_nbformat": 4,
  "vscode": {
   "interpreter": {
    "hash": "1e949e87132dd83f1a7623eb88007e3532b03b66b77111be347aa4a383049722"
   }
  }
 },
 "nbformat": 4,
 "nbformat_minor": 2
}
