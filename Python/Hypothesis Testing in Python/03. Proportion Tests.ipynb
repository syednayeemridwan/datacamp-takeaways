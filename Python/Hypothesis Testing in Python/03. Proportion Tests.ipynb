{
 "cells": [
  {
   "attachments": {},
   "cell_type": "markdown",
   "metadata": {},
   "source": [
    "# Callculating Z-score without bootstrapping"
   ]
  },
  {
   "attachments": {},
   "cell_type": "markdown",
   "metadata": {},
   "source": [
    "- When dealing with one-sample problems, we use bootstrapping to calculate standard error for sample means\n",
    "- However, bootstrapping is computationally expensive\n",
    "- There is a formula that compensates for standard error through bootstrapping\n",
    "- We can only use this method for proportions `df[\"col\"].value_counts(normalize = True)`\n",
    "- Two types of proportion tests:\n",
    "    - One-sample proportion test\n",
    "    - Two-sample proportion test\n",
    "- Steps to perform proportion hypothesis test\n",
    "    1. calculate z-score\n",
    "    2. calculate p-value from z-score\n",
    "- Standard error for One-sampled proportion\n",
    "<center><img src=\"images/03.041.jpg\"  style=\"width: 400px, height: 300px;\"/></center>\n",
    "\n",
    "- Standard error for Two-sampled proportion\n",
    "<center><img src=\"images/03.042.jpg\"  style=\"width: 400px, height: 300px;\"/></center>"
   ]
  },
  {
   "attachments": {},
   "cell_type": "markdown",
   "metadata": {},
   "source": [
    "### Calculate z-score for one-sampled proportion"
   ]
  },
  {
   "attachments": {},
   "cell_type": "markdown",
   "metadata": {},
   "source": [
    "<center><img src=\"images/03.01.jpg\"  style=\"width: 400px, height: 300px;\"/></center>\n"
   ]
  },
  {
   "cell_type": "code",
   "execution_count": 1,
   "metadata": {},
   "outputs": [],
   "source": [
    "# alpha = 0.01\n",
    "# sample_df['class'].value_counts(normalize=True)\n",
    "# p_hat = (sample_df['class'] == 'X').mean() # Sample mean of of a class\n",
    "# p_0 = 0.50 # Assumed Hypothesis value\n",
    "# n = len(sample_df)"
   ]
  },
  {
   "cell_type": "code",
   "execution_count": 2,
   "metadata": {},
   "outputs": [],
   "source": [
    "# import numpy as np\n",
    "# numerator = p_hat - p_0\n",
    "# denominator = np.sqrt(p_0 * (1 - p_0) / n)\n",
    "# z_score = numerator / denominator"
   ]
  },
  {
   "attachments": {},
   "cell_type": "markdown",
   "metadata": {},
   "source": [
    "### Calculate z-score for Two-sampled proportion"
   ]
  },
  {
   "attachments": {},
   "cell_type": "markdown",
   "metadata": {},
   "source": [
    "<center><img src=\"images/03.02.jpg\"  style=\"width: 400px, height: 300px;\"/></center>\n"
   ]
  },
  {
   "cell_type": "code",
   "execution_count": 8,
   "metadata": {},
   "outputs": [],
   "source": [
    "# p_hats = sample_df.groupby(\"catcol_1\")['catcol_2'].value_counts(normalize=True)\n",
    "# p_hat_catcol_1_A_catcol_2_other = p_hats[(\"Cat_A\", \"success\")]\n",
    "# p_hat_catcol_1_B_catcol_2_other = p_hats[(\"Cat_B\", \"success\")]\n",
    "# n = sample_df.groupby(\"catcol_1\")['catcol_2'].count()\n",
    "# n_catcol_1_A = n[\"Cat_A\"]\n",
    "# n_catcol_1_B = n[\"Cat_B\"]"
   ]
  },
  {
   "cell_type": "code",
   "execution_count": 10,
   "metadata": {},
   "outputs": [],
   "source": [
    "# p_hat = (n_catcol_1_A * p_hat_catcol_1_A_catcol_2_success + n_catcol_1_B * p_hat_catcol_1_B_catcol_2_success) / (n_catcol_1_A + n_catcol_1_B)\n",
    "# std_error = np.sqrt(p_hat * (1-p_hat) / n_catcol_1_A + p_hat * (1-p_hat) / n_catcol_1_B)\n",
    "# z_score = (p_hat_catcol_1_A_catcol_2_success - p_hat_catcol_1_B_catcol_2_success) / std_error"
   ]
  },
  {
   "attachments": {},
   "cell_type": "markdown",
   "metadata": {},
   "source": [
    "### Calculate z-score for Two-sampled proportion : Alternative approach"
   ]
  },
  {
   "cell_type": "code",
   "execution_count": 9,
   "metadata": {},
   "outputs": [],
   "source": [
    "# sample_df.groupby(\"catcol_1\")['catcol_2'].value_counts()\n",
    "# len_class1_subclass = np.array([n_catcol_1_A_catcol_2_success, n_catcol_1_B_catcol_2_success]) # Array of counts of catcol_1 for specific catcol_2 class\n",
    "# n_rows = np.array([n_catcol_1_A , n_catcol_1_B]) # Array of counts of catcol_1, catcol_2 combinations\n",
    "# from statsmodels.stats.proportion import proportions_ztest\n",
    "# z_score, p_value = proportions_ztest(count=len_class1_subclass, \n",
    "#                                      nobs=n_rows,\n",
    "#                                      alternative=\"two-sided\")"
   ]
  },
  {
   "attachments": {},
   "cell_type": "markdown",
   "metadata": {},
   "source": [
    "### Calculate p-value from z-score\n"
   ]
  },
  {
   "cell_type": "code",
   "execution_count": 1,
   "metadata": {},
   "outputs": [],
   "source": [
    "# from scipy.stats import norm\n",
    "\n",
    "# left_tailed_p_value = norm.cdf(z_score)\n",
    "# right_tailed_p_value = 1 - norm.cdf(z_score)\n",
    "# both_tailed_p_value = 2 * (1 - norm.cdf(z_score))\n"
   ]
  },
  {
   "attachments": {},
   "cell_type": "markdown",
   "metadata": {},
   "source": [
    "### Performing hypothesis test"
   ]
  },
  {
   "cell_type": "code",
   "execution_count": 2,
   "metadata": {},
   "outputs": [],
   "source": [
    "# p_value <= alpha # Reject null if true"
   ]
  },
  {
   "attachments": {},
   "cell_type": "markdown",
   "metadata": {},
   "source": [
    "# Chi-square test"
   ]
  },
  {
   "attachments": {},
   "cell_type": "markdown",
   "metadata": {},
   "source": [
    "- Proportion test for more than 2 groups\n",
    "- Test for statistically independence\n",
    "- Statistically independence: 2 variables are statistically independent when proportion of success in response is same as explanatory variable\n",
    "- chi-square is the squared result of z-score"
   ]
  },
  {
   "attachments": {},
   "cell_type": "markdown",
   "metadata": {},
   "source": [
    "### Visualization of proportion"
   ]
  },
  {
   "attachments": {},
   "cell_type": "markdown",
   "metadata": {},
   "source": [
    "- If they are independent, then the height of split in bars should be around same\n",
    "- If they are not same, how significant is the difference?\n",
    "- Question: Are the variables X and Y independent?\n",
    "- Observed and expected counts squared must be non-negative\n",
    "- chi-square tests are almost always right-tailed"
   ]
  },
  {
   "cell_type": "code",
   "execution_count": 11,
   "metadata": {},
   "outputs": [],
   "source": [
    "# props = sample_df.groupby('multi_cat_col')['cat_col'].value_counts(normalize=True)\n",
    "# wide_props = props.unstack()\n",
    "# wide_props.plot(kind=\"bar\", stacked=True)"
   ]
  },
  {
   "cell_type": "code",
   "execution_count": 12,
   "metadata": {},
   "outputs": [],
   "source": [
    "# import pingouin\n",
    "# expected, observed, stats = pingouin.chi2_independence(data=sample_df, \n",
    "#                                                        x='multi_cat_col',\n",
    "#                                                        y='cat_col', correction=False)\n",
    "# print(stats)"
   ]
  },
  {
   "attachments": {},
   "cell_type": "markdown",
   "metadata": {},
   "source": [
    "# Chi-Square goodness of fit"
   ]
  },
  {
   "attachments": {},
   "cell_type": "markdown",
   "metadata": {},
   "source": [
    "- One-sample chi-square test\n",
    "- Measures how well our hypothesized data measures observed data\n",
    "- Steps to measure Chi-Square goodness of fit\n",
    "    1. Create dataframe from sample's categorical value counts\n",
    "    2. Create dataframe from hypothesis\n",
    "    3. Measure goodness of fit with p (if p < 0.01, then proportion is different for different categories)"
   ]
  },
  {
   "attachments": {},
   "cell_type": "markdown",
   "metadata": {},
   "source": [
    "### Creating dataframes for analysis"
   ]
  },
  {
   "cell_type": "code",
   "execution_count": 13,
   "metadata": {},
   "outputs": [],
   "source": [
    "# dataframe_sample = sample_df['multi_class']\\\n",
    "#     .value_counts()\\\n",
    "#         .rename_axis('purple_link')\\\n",
    "#             .reset_index(name='n')\\\n",
    "#                 .sort_values('multi_class')\n",
    "# dataframe_hypothesis = pd.DataFrame({\n",
    "#     'multi_class': ['class_1', 'class_2', 'class_3, class_4', 'class_5'],\n",
    "#     'prop': [1/6, 1/6, 1/2, 1/6]})\n",
    "\n",
    "# n_total = len(sample_df)\n",
    "# dataframe_hypothesis[\"n\"] = dataframe_hypothesis[\"prop\"] * n_total\n",
    "\n"
   ]
  },
  {
   "attachments": {},
   "cell_type": "markdown",
   "metadata": {},
   "source": [
    "### Visualize comparative distribution of counts"
   ]
  },
  {
   "cell_type": "code",
   "execution_count": 14,
   "metadata": {},
   "outputs": [],
   "source": [
    "# import matplotlib.pyplot as plt\n",
    "# plt.bar(dataframe_sample['purple_link'], dataframe_sample['n'],\n",
    "# color='red', label='Observed')\n",
    "# plt.bar(dataframe_hypothesis['purple_link'], dataframe_hypothesis['n'], alpha=0.5,\n",
    "# color='blue', label='Hypothesized')\n",
    "# plt.legend()\n",
    "# plt.show()"
   ]
  },
  {
   "attachments": {},
   "cell_type": "markdown",
   "metadata": {},
   "source": [
    "### Measure goodness fit"
   ]
  },
  {
   "cell_type": "code",
   "execution_count": 15,
   "metadata": {},
   "outputs": [],
   "source": [
    "# from scipy.stats import chisquare\n",
    "# chisquare(f_obs=dataframe_sample['n'], f_exp=dataframe_hypothesis['n'])"
   ]
  }
 ],
 "metadata": {
  "kernelspec": {
   "display_name": "env_py",
   "language": "python",
   "name": "python3"
  },
  "language_info": {
   "codemirror_mode": {
    "name": "ipython",
    "version": 3
   },
   "file_extension": ".py",
   "mimetype": "text/x-python",
   "name": "python",
   "nbconvert_exporter": "python",
   "pygments_lexer": "ipython3",
   "version": "3.8.11"
  },
  "orig_nbformat": 4,
  "vscode": {
   "interpreter": {
    "hash": "1e949e87132dd83f1a7623eb88007e3532b03b66b77111be347aa4a383049722"
   }
  }
 },
 "nbformat": 4,
 "nbformat_minor": 2
}
