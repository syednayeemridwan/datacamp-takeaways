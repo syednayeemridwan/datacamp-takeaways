{
 "cells": [
  {
   "attachments": {},
   "cell_type": "markdown",
   "metadata": {},
   "source": [
    "# T-test"
   ]
  },
  {
   "attachments": {},
   "cell_type": "markdown",
   "metadata": {},
   "source": [
    "- We use z-score for a single independent variable with no class and another value\n",
    "- If there are group of variables (Multiple class) , we use t-score \n",
    "- T-stat : If there are two categories in a sample, is the difference of means between the two categories significant?\n",
    "- T-test : How significant is T-stat?\n",
    "- t-distributions\n",
    "    - t statistic follows a t-distribution (Allows for more uncertainty in distribution)\n",
    "    - Have a parameter named degrees of freedom, or df\n",
    "        - maximum number of logically independent values in the data sample\n",
    "        - increasing degrees of freedom increases the t-distribution look more like normal distribution\n",
    "        - Normal distribution = t-distribution with infinite degrees of freedom\n",
    "        - formula : `deg_of_freedom = len(cat_df) - 1`\n",
    "        - See example in slides\n",
    "    - Look like normal distributions, with fatter tails\n",
    "\n",
    "    <center><img src=\"images/02.041.jpg\"  style=\"width: 400px, height: 300px;\"/></center>\n",
    "    <center><img src=\"images/02.042.jpg\"  style=\"width: 400px, height: 300px;\"/></center>\n",
    "\n"
   ]
  },
  {
   "attachments": {},
   "cell_type": "markdown",
   "metadata": {},
   "source": [
    "# Calculating p-value from test-statistics"
   ]
  },
  {
   "attachments": {},
   "cell_type": "markdown",
   "metadata": {},
   "source": [
    "### Calculate p-value from z-score, Direction : Right tail"
   ]
  },
  {
   "cell_type": "code",
   "execution_count": 8,
   "metadata": {},
   "outputs": [],
   "source": [
    "# from scipy.stats import norm\n",
    "# 1 - norm.cdf(z_score)"
   ]
  },
  {
   "attachments": {},
   "cell_type": "markdown",
   "metadata": {},
   "source": [
    "### Calculate p-value from z-score, Direction : Left tail\n"
   ]
  },
  {
   "cell_type": "code",
   "execution_count": 11,
   "metadata": {},
   "outputs": [],
   "source": [
    "# from scipy.stats import norm\n",
    "# norm.cdf(z_score)"
   ]
  },
  {
   "attachments": {},
   "cell_type": "markdown",
   "metadata": {},
   "source": [
    "### Calculate p-value from t-stat, Direction : Right tail"
   ]
  },
  {
   "cell_type": "code",
   "execution_count": 9,
   "metadata": {},
   "outputs": [],
   "source": [
    "# from scipy.stats import t\n",
    "# 1 - t.cdf(t_stat, df=degrees_of_freedom)"
   ]
  },
  {
   "attachments": {},
   "cell_type": "markdown",
   "metadata": {},
   "source": [
    "### Calculate p-value from t-stat, Direction : Left tail\n"
   ]
  },
  {
   "cell_type": "code",
   "execution_count": 10,
   "metadata": {},
   "outputs": [],
   "source": [
    "# from scipy.stats import t\n",
    "# t.cdf(t_stat, df=degrees_of_freedom)"
   ]
  },
  {
   "attachments": {},
   "cell_type": "markdown",
   "metadata": {},
   "source": [
    "# Two sample problem T-Test"
   ]
  },
  {
   "attachments": {},
   "cell_type": "markdown",
   "metadata": {},
   "source": [
    "- Two sample problem: One dataset has one independent variable having two different class.\n",
    "- Steps to calculate T-stat for Two sample problem:\n",
    "    1. Calculate sample mean of each category of the column \n",
    "    2. Calculate std of each category of the column \n",
    "    3. Calculate no of datapoints in each category of the column \n",
    "    4. Calculate degrees of freedom (total length - no of categories )\n",
    "    5. Calculate t-stat \n",
    "    6. Calculate p value from t-stat\n",
    "    <center><img src=\"images/02.03.jpg\"  style=\"width: 400px, height: 300px;\"/></center>\n",
    "\n",
    "- Perform T-Test:\n",
    "\n",
    "    0. Assume the difference of mean is 0 (Null Hypothesis of H0)\n",
    "    1. Determine Significance level. eg: α = 0.1\n",
    "    2. If p ≤ α then reject H0. Else, \"Fail to reject null or retain null\"\n"
   ]
  },
  {
   "attachments": {},
   "cell_type": "markdown",
   "metadata": {},
   "source": [
    "### Calculating groupwise summary statistics"
   ]
  },
  {
   "cell_type": "code",
   "execution_count": 1,
   "metadata": {},
   "outputs": [],
   "source": [
    "# cat_means = sample_df.groupby('class')['col'].mean()\n",
    "\n",
    "# cat_stds = sample_df.groupby('class')['col'].std()\n",
    "\n",
    "# cat_lens = sample_df.groupby('class')['col'].count()"
   ]
  },
  {
   "attachments": {},
   "cell_type": "markdown",
   "metadata": {},
   "source": [
    "### Calculating t-stat"
   ]
  },
  {
   "cell_type": "code",
   "execution_count": 2,
   "metadata": {},
   "outputs": [],
   "source": [
    "# import numpy as np\n",
    "# numerator = cat_means[0] - cat_means[1]\n",
    "# denominator = np.sqrt(cat_stds[0] ** 2 / cat_lens[0] + cat_stds[1] ** 2 / cat_lens[1] )\n",
    "# t_stat = numerator / denominator"
   ]
  },
  {
   "attachments": {},
   "cell_type": "markdown",
   "metadata": {},
   "source": [
    "### Calculating p value from t-stat"
   ]
  },
  {
   "cell_type": "code",
   "execution_count": 3,
   "metadata": {},
   "outputs": [],
   "source": [
    "# degrees_of_freedom = cat_lens[0] + cat_lens[1] - 2\n",
    "\n",
    "# from scipy.stats import t\n",
    "# p_value  =  1 - t.cdf(t_stat, df=degrees_of_freedom)"
   ]
  },
  {
   "attachments": {},
   "cell_type": "markdown",
   "metadata": {},
   "source": [
    "### Perform T-test"
   ]
  },
  {
   "cell_type": "code",
   "execution_count": null,
   "metadata": {},
   "outputs": [],
   "source": [
    "# alpha = 0.05\n",
    "# p_value <= alpha"
   ]
  },
  {
   "attachments": {},
   "cell_type": "markdown",
   "metadata": {},
   "source": [
    "# t vs z"
   ]
  },
  {
   "attachments": {},
   "cell_type": "markdown",
   "metadata": {},
   "source": [
    "- z-statistic: needed when using one sample statistic to estimate a population parameter\n",
    "    - When a bootstrapped standard deviation is used in estimating a standard error, we use it\n",
    "- t-statistic: needed when using multiple sample statistics to estimate a population parameter\n",
    "    - When a sample standard deviation is used in estimating a standard error, we use it\n"
   ]
  },
  {
   "attachments": {},
   "cell_type": "markdown",
   "metadata": {},
   "source": [
    "# Paired t-tests"
   ]
  },
  {
   "attachments": {},
   "cell_type": "markdown",
   "metadata": {},
   "source": [
    "- There is one dataset. But two results (2 results in 2 columns).\n",
    "- Instead of one variable having different class or groups (Simple 2 sample problem), there are two independent variables (columns) that represent same class or groups\n",
    "    - Make a single variable out of these two variables (eg : difference)\n",
    "- Steps to calculate T-stat for Paired samples:\n",
    "    1. Calculate difference in a new column from the two independent columns\n",
    "    2. Calculate the mean of the new columns\n",
    "    3. Calculate std of new column\n",
    "    4. Calculate the degree of freedom of new column (total length - 1)\n",
    "    5. Calculate t-stat \n",
    "    6. Calculate p value from t-stat\n",
    "    <center><img src=\"images/02.04.jpg\"  style=\"width: 400px, height: 300px;\"/></center>\n",
    "\n",
    "\n",
    "- Perform T-Test:\n",
    "\n",
    "    0. Assume the difference of mean is 0 / there is no difference (Null Hypothesis of H0)\n",
    "    1. Determine Significance level. eg: α = 0.1\n",
    "    2. If p ≤ α then reject H0. Else, \"Fail to reject null or retain null\"\n"
   ]
  },
  {
   "attachments": {},
   "cell_type": "markdown",
   "metadata": {},
   "source": [
    "### Calculate New column and mean"
   ]
  },
  {
   "cell_type": "code",
   "execution_count": 7,
   "metadata": {},
   "outputs": [],
   "source": [
    "# sample_df['diff'] = sample_df['year_2010'] - sample_df['year_2012']\n",
    "\n",
    "# import matplotlib.pyplot as plt\n",
    "# sample_df['diff'].hist(bins=20)\n",
    "# xbar_diff = sample_df['diff'].mean()"
   ]
  },
  {
   "attachments": {},
   "cell_type": "markdown",
   "metadata": {},
   "source": [
    "### Calculating t-stat"
   ]
  },
  {
   "cell_type": "code",
   "execution_count": 2,
   "metadata": {},
   "outputs": [],
   "source": [
    "# n_diff = len(sample_df)\n",
    "# std_diff = sample_df['diff'].std()\n",
    "# t_stat = (xbar_diff-0) / np.sqrt(std_diff**2/n_diff)"
   ]
  },
  {
   "attachments": {},
   "cell_type": "markdown",
   "metadata": {},
   "source": [
    "### Calculating the p-value"
   ]
  },
  {
   "cell_type": "code",
   "execution_count": 3,
   "metadata": {},
   "outputs": [],
   "source": [
    "# degrees_of_freedom = n_diff - 1\n",
    "\n",
    "# from scipy.stats import t\n",
    "# p_value = t.cdf(t_stat, df=n_diff-1)"
   ]
  },
  {
   "attachments": {},
   "cell_type": "markdown",
   "metadata": {},
   "source": [
    "### Perform T-test"
   ]
  },
  {
   "cell_type": "code",
   "execution_count": null,
   "metadata": {},
   "outputs": [],
   "source": [
    "# alpha = 0.05\n",
    "# p_value <= alpha"
   ]
  },
  {
   "attachments": {},
   "cell_type": "markdown",
   "metadata": {},
   "source": [
    "### Alternative Approach 1"
   ]
  },
  {
   "cell_type": "code",
   "execution_count": 5,
   "metadata": {},
   "outputs": [],
   "source": [
    "# import pingouin\n",
    "# pingouin.ttest(x=sample_df['diff'],\n",
    "#                y=0,\n",
    "#                alternative=\"less\")"
   ]
  },
  {
   "attachments": {},
   "cell_type": "markdown",
   "metadata": {},
   "source": [
    "### Alternative Approach 2"
   ]
  },
  {
   "cell_type": "code",
   "execution_count": 12,
   "metadata": {},
   "outputs": [],
   "source": [
    "# pingouin.ttest(x=sample_df['repub_percent_08'],\n",
    "#                y=sample_df['repub_percent_12'],\n",
    "#                paired=True,\n",
    "#                alternative=\"less\")"
   ]
  },
  {
   "attachments": {},
   "cell_type": "markdown",
   "metadata": {},
   "source": [
    "# Non-Paired t-tests\n"
   ]
  },
  {
   "attachments": {},
   "cell_type": "markdown",
   "metadata": {},
   "source": [
    "- There is 2 dataset and different results \n",
    "    - dataset 1 has result in that dataset's `df1[\"result\"]` column\n",
    "    - dataset 2 has result in that dataset's `df2[\"result\"]` column\n",
    "- Note : Unpaired t-tests on paired data increases the chances of false negative errors"
   ]
  },
  {
   "cell_type": "code",
   "execution_count": 14,
   "metadata": {},
   "outputs": [],
   "source": [
    "# pingouin.ttest(x=sample1_df['result'],\n",
    "#                y=sample2_df['result'],\n",
    "#                paired=False,\n",
    "#                alternative=\"less\")"
   ]
  },
  {
   "attachments": {},
   "cell_type": "markdown",
   "metadata": {},
   "source": [
    "# So many groups"
   ]
  },
  {
   "attachments": {},
   "cell_type": "markdown",
   "metadata": {},
   "source": [
    "- If there are many categories, how can we perform hypothesis tests on these groups:\n",
    "    1. Pairwise groups = Use all possible pairs and do hypothesis testing on them\n",
    "    2. ANOVA tests = Compare values across multiple groups"
   ]
  },
  {
   "attachments": {},
   "cell_type": "markdown",
   "metadata": {},
   "source": [
    "# ANOVA tests"
   ]
  },
  {
   "attachments": {},
   "cell_type": "markdown",
   "metadata": {},
   "source": [
    "- If there are more than 2 class\n",
    "- How to determine whether the difference between the means of the different groups are significant?\n",
    "    - A test for differences between groups \n",
    "    - cut-off value of alpha is normally 0.2 for 5 groups\n",
    "- p-value is stored in `p-unc` column\n",
    "- Tells us how many categories have significant differences\n",
    "    - `possible_cat_no_precent = alpha / p_unc`\n",
    "    - If `possible_cat_no_precent` = 0.2 then there are at least 2 are significantly different\n",
    "- Does not specifically tell us which categories have significant differences"
   ]
  },
  {
   "attachments": {},
   "cell_type": "markdown",
   "metadata": {},
   "source": [
    "# Pairwise tests"
   ]
  },
  {
   "attachments": {},
   "cell_type": "markdown",
   "metadata": {},
   "source": [
    "- Tells us how many categories have significant differences\n",
    "- Tells us specifically which categories have significant differences\n",
    "- The result is a dataframe containing p-values for all possible combinations of classes\n",
    "- Problem:\n",
    "    - As the number of groups increase, the number of hypothesis tests increase quadratically\n",
    "    - The probability of getting at least one positive for increased tests\n",
    "    - uncorrected p-values are in `p-unc` column in the result\n",
    "    - See example in the slides\n",
    "- Solution:\n",
    "    - Apply adjustment to p-values (With some specified correction)\n",
    "    - It reduces the chance to get False Positive\n",
    "    - Corrected p-values are in `p-corr` column in the result\n"
   ]
  },
  {
   "attachments": {},
   "cell_type": "markdown",
   "metadata": {},
   "source": [
    "### Visualizing multiple distributions"
   ]
  },
  {
   "cell_type": "code",
   "execution_count": 15,
   "metadata": {},
   "outputs": [],
   "source": [
    "# import seaborn as sns\n",
    "# import matplotlib.pyplot as plt\n",
    "# sns.boxplot(x=\"numeric_col\",\n",
    "#             y=\"class\",\n",
    "#             data=sample_df)\n",
    "# plt.show()"
   ]
  },
  {
   "attachments": {},
   "cell_type": "markdown",
   "metadata": {},
   "source": [
    "### ANOVA"
   ]
  },
  {
   "cell_type": "code",
   "execution_count": 16,
   "metadata": {},
   "outputs": [],
   "source": [
    "# alpha = 0.2\n",
    "# pingouin.anova(data=sample_df,\n",
    "#                dv=\"numeric_col\",\n",
    "#                between=\"class\")\n",
    "\n",
    "# possible_cat_no_precent = alpha / p_unc\n"
   ]
  },
  {
   "attachments": {},
   "cell_type": "markdown",
   "metadata": {},
   "source": [
    "### Pair-wise Test"
   ]
  },
  {
   "cell_type": "code",
   "execution_count": 18,
   "metadata": {},
   "outputs": [],
   "source": [
    "# pingouin.pairwise_tests(data=sample_df,\n",
    "#                         dv=\"numeric_col\",\n",
    "#                         between=\"class\",\n",
    "#                         padjust=\"none\") # \"bonf\" for adjustment"
   ]
  }
 ],
 "metadata": {
  "kernelspec": {
   "display_name": "env_py",
   "language": "python",
   "name": "python3"
  },
  "language_info": {
   "codemirror_mode": {
    "name": "ipython",
    "version": 3
   },
   "file_extension": ".py",
   "mimetype": "text/x-python",
   "name": "python",
   "nbconvert_exporter": "python",
   "pygments_lexer": "ipython3",
   "version": "3.8.11"
  },
  "orig_nbformat": 4,
  "vscode": {
   "interpreter": {
    "hash": "1e949e87132dd83f1a7623eb88007e3532b03b66b77111be347aa4a383049722"
   }
  }
 },
 "nbformat": 4,
 "nbformat_minor": 2
}
