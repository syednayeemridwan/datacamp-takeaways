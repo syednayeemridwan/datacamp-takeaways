{
 "cells": [
  {
   "attachments": {},
   "cell_type": "markdown",
   "metadata": {},
   "source": [
    "# Types of Hypothesis Tests"
   ]
  },
  {
   "attachments": {},
   "cell_type": "markdown",
   "metadata": {},
   "source": [
    "1. Parametric\n",
    "    - z-test, t-test, and ANOVA\n",
    "    - Assume a normal distribution\n",
    "    - Require sufficiently large sample sizes\n",
    "2. Non-parametric\n",
    "    - avoid the parametric assumptions and conditions\n",
    "        - data is not normally distributed\n",
    "        - sample size is small\n",
    "        - Wilcoxon-signed rank test\n",
    "    - Many non-parametric tests use ranks of the data"
   ]
  },
  {
   "attachments": {},
   "cell_type": "markdown",
   "metadata": {},
   "source": [
    "# Assumptions in parametric hypothesis test"
   ]
  },
  {
   "attachments": {},
   "cell_type": "markdown",
   "metadata": {},
   "source": [
    "- Hypothesis tests make assumptions about data\n",
    "- Every hypothesis test assumes:\n",
    "    1. each sample is randomly sourced from its population\n",
    "    2. Each observation/sample is independent\n",
    "    3. Sample is large enough so that central limit theorem can be applied\n",
    "        - Smaller sample = greater uncertainty = wider confidence interval = Greater false negative or false positive errors\n",
    "        - How large?\n",
    "            - One Sample t-test : 30 observations in the sample\n",
    "            - Two Samples t-test : 30 observations in each sample\n",
    "            - Paired Samples t-test : 30 pairs of observations in the sample\n",
    "            - ANOVA t-test : 30 observations in each sample\n",
    "            - One sample proportion test : 10 successes and 10 failures for each sample. If probability is close to 0 or 1, we need a bigger sample\n",
    "            - Two sample proportion test : 10 successes and 10 failures for each sample. If probability is close to 0 or 1, we need a bigger sample\n",
    "            - Chi-square proportion test : 5 successes and 10 failures for each sample. If probability is close to 0 or 1, we need a bigger sample\n",
    "    4. Sample is normally distributed\n",
    "- If it is not sourced randomly, then the sample will not represent entire population\n",
    "    - There is no way to test if the sample is randomly picked from dataset\n",
    "    - Ask the people involved in the data collection process\n",
    "- Make sure observations / samples are really independent \n",
    "    - If there are dependencies between 2 samples, use paired tests\n",
    "    - If there is dependencies and paired test is not performed, there is an increased chance of getting False negative in the result\n",
    "    - Check the dependency before data collection\n",
    "- Sanity check:\n",
    "        - Calculate bootstrap distribution\n",
    "        - Visualize the distribution with histogram\n",
    "        - If the distribution is not normal, then one of the assumptions has not been met\n",
    "        - Revisit data collection to check for randomness, independence, and sample size"
   ]
  },
  {
   "attachments": {},
   "cell_type": "markdown",
   "metadata": {},
   "source": [
    "# Wilcoxon-signed rank test"
   ]
  },
  {
   "attachments": {},
   "cell_type": "markdown",
   "metadata": {},
   "source": [
    "- Non-parametric test\n",
    "- Dependent samples\n",
    "- Works well when the assumptions of a paired t-test aren't met.\n",
    "- Works on the ranked absolute differences between the pairs of data\n",
    "- Steps:\n",
    "    1. Calculate difference between 2 columns and store the result in a new column (`diff`)\n",
    "    2. Take absolute value of the new column\n",
    "    3. Rank the dataframe according the the absolute value\n",
    "    4. Calculate `T_minus` and `T_plus`\n",
    "        - `T_minus` : Sum of ranks of negative differences\n",
    "        - `T_plus` : Sum of ranks of positive differences\n",
    "    5. Calculate test statistic : w\n",
    "        - minimum value between `T_minus` and `T_plus`\n",
    "    6. Calculate p-value from w"
   ]
  },
  {
   "cell_type": "code",
   "execution_count": 1,
   "metadata": {},
   "outputs": [],
   "source": [
    "# sample_df['diff'] = sample_df['year_08'] - sample_df['year_09']\n",
    "# sample_df['abs_diff'] = sample_df['diff'].abs()\n",
    "\n",
    "# from scipy.stats import rankdata\n",
    "# sample_df['rank_abs_diff'] = rankdata(sample_df['abs_diff'])\n",
    "# T_minus = sample_df[sample_df['diff'] < 0]['rank_abs_diff'].sum()\n",
    "# T_plus = sample_df[sample_df['diff'] >= 0]['rank_abs_diff'].sum()\n",
    "# W = np.min([T_minus, T_plus])\n",
    "# # For p, use w distribution table to look up value "
   ]
  },
  {
   "attachments": {},
   "cell_type": "markdown",
   "metadata": {},
   "source": [
    "### Alternative Approach"
   ]
  },
  {
   "cell_type": "code",
   "execution_count": 2,
   "metadata": {},
   "outputs": [],
   "source": [
    "# alpha = 0.01\n",
    "# pingouin.wilcoxon(x=sample_df['year_08'],\n",
    "#                   y=sample_df['year_09'],\n",
    "#                   alternative=\"less\")"
   ]
  },
  {
   "attachments": {},
   "cell_type": "markdown",
   "metadata": {},
   "source": [
    "# Wilcoxon-Mann-Whitney test\n"
   ]
  },
  {
   "attachments": {},
   "cell_type": "markdown",
   "metadata": {},
   "source": [
    "- Also know as the Mann Whitney U test\n",
    "- A t-test on the ranks of the numeric input\n",
    "- Works on unpaired data\n",
    "- For 2 groups\n",
    "- Steps:\n",
    "    1. Convert data from long to wide format\n",
    "    2. Perform Wilcoxon-Mann-Whitney test"
   ]
  },
  {
   "cell_type": "code",
   "execution_count": 3,
   "metadata": {},
   "outputs": [],
   "source": [
    "# long_df = sample_df[['cat_col', 'nummeric_col']]\n",
    "# wide_df = long_df.pivot(columns='cat_col', values='nummeric_col')\n",
    "\n",
    "# alpha=0.01\n",
    "\n",
    "# import pingouin\n",
    "# pingouin.mwu(x=wide_df['cat1'],\n",
    "#              y=wide_df['cat2'],\n",
    "#              alternative='greater')"
   ]
  },
  {
   "attachments": {},
   "cell_type": "markdown",
   "metadata": {},
   "source": [
    "# Kruskal-Wallis test"
   ]
  },
  {
   "attachments": {},
   "cell_type": "markdown",
   "metadata": {},
   "source": [
    "- Wilcoxon-Mann-Whitney test extended to more than 2 groups\n",
    "- Checks for dependency of one group with other multiple groups\n"
   ]
  },
  {
   "cell_type": "code",
   "execution_count": 4,
   "metadata": {},
   "outputs": [],
   "source": [
    "# alpha=0.01\n",
    "# pingouin.kruskal(data=sample_df,\n",
    "#                  dv='numeric_col',\n",
    "#                  between='multiclass_col')"
   ]
  }
 ],
 "metadata": {
  "kernelspec": {
   "display_name": "env_py",
   "language": "python",
   "name": "python3"
  },
  "language_info": {
   "codemirror_mode": {
    "name": "ipython",
    "version": 3
   },
   "file_extension": ".py",
   "mimetype": "text/x-python",
   "name": "python",
   "nbconvert_exporter": "python",
   "pygments_lexer": "ipython3",
   "version": "3.8.11"
  },
  "orig_nbformat": 4,
  "vscode": {
   "interpreter": {
    "hash": "1e949e87132dd83f1a7623eb88007e3532b03b66b77111be347aa4a383049722"
   }
  }
 },
 "nbformat": 4,
 "nbformat_minor": 2
}
