{
 "cells": [
  {
   "attachments": {},
   "cell_type": "markdown",
   "metadata": {},
   "source": [
    "# Plotting Autocorrelation"
   ]
  },
  {
   "attachments": {},
   "cell_type": "markdown",
   "metadata": {},
   "source": [
    "- Alpha determines confidence interval\n",
    "- Calculation : alpha = 1 - conf interval\n",
    "    - for 95% confidence interval, alpha = 1-0.95\n"
   ]
  },
  {
   "cell_type": "code",
   "execution_count": 1,
   "metadata": {},
   "outputs": [],
   "source": [
    "# from statsmodels.graphics.tsaplots import plot_acf\n",
    "# plot_acf(x, lags= 20, alpha=0.05)"
   ]
  },
  {
   "attachments": {},
   "cell_type": "markdown",
   "metadata": {},
   "source": [
    "# White Noise"
   ]
  },
  {
   "attachments": {},
   "cell_type": "markdown",
   "metadata": {},
   "source": [
    "- White Noise is a series with:\n",
    "    - Constant mean\n",
    "    - Constant variance\n",
    "    - Zero autocorrelations at all lags\n",
    "- Gaussian White Noise : if data has normal distribution"
   ]
  },
  {
   "attachments": {},
   "cell_type": "markdown",
   "metadata": {},
   "source": [
    "# Random walk in time series"
   ]
  },
  {
   "attachments": {},
   "cell_type": "markdown",
   "metadata": {},
   "source": [
    "- Random walk step = Previous element step + Noise\n",
    "- Change in step values = white noise\n",
    "- Stock price = random walk\n",
    "- Stock return = White noise\n",
    "- Random walk with drift step =  mean + Previous element step  + Noise\n",
    "- Change in step values with drift =  mean + Noise\n",
    "- Dickey-Fuller test = Tells us if a series is random walk based on 1 lag\n",
    "- Augmented Dickey-Fuller test = Tells us if a series is random walk based on multiple lags"
   ]
  },
  {
   "cell_type": "code",
   "execution_count": 2,
   "metadata": {},
   "outputs": [],
   "source": [
    "# from statsmodels.tsa.stattools import adfuller\n",
    "# results = adfuller(df['A'])\n",
    "# print(results[1]) # If it is less than 0.05, then we are 95% confident that it is not random walk"
   ]
  },
  {
   "attachments": {},
   "cell_type": "markdown",
   "metadata": {},
   "source": [
    "# Stationarity"
   ]
  },
  {
   "attachments": {},
   "cell_type": "markdown",
   "metadata": {},
   "source": [
    "- Strong stationarity: entire distribution of data is timeinvariant\n",
    "- Weak stationarity: mean, variance and autocorrelation are time-invariant\n",
    "- Time series stationarity Transformation\n",
    "    - If parameters vary with time, too many parameters to estimate\n",
    "    - Can only estimate a parsimonious model with a few parameters\n",
    "    - For modeling you need to make a time series stationary"
   ]
  },
  {
   "cell_type": "code",
   "execution_count": 3,
   "metadata": {},
   "outputs": [],
   "source": [
    "\n",
    "# normal_transformation = df.diff(n_lag) \n",
    "# plt.plot(normal_transformation)\n",
    "# exp_transformation = np.log(df).diff(n_lag)\n",
    "# plt.plot(exp_transformation)"
   ]
  }
 ],
 "metadata": {
  "kernelspec": {
   "display_name": "base",
   "language": "python",
   "name": "python3"
  },
  "language_info": {
   "codemirror_mode": {
    "name": "ipython",
    "version": 3
   },
   "file_extension": ".py",
   "mimetype": "text/x-python",
   "name": "python",
   "nbconvert_exporter": "python",
   "pygments_lexer": "ipython3",
   "version": "3.8.3"
  },
  "orig_nbformat": 4,
  "vscode": {
   "interpreter": {
    "hash": "dc575bfddb5c8ca4bb6a4f4dcdd32abc104b5fa4177361381c432fff36ce3e46"
   }
  }
 },
 "nbformat": 4,
 "nbformat_minor": 2
}
