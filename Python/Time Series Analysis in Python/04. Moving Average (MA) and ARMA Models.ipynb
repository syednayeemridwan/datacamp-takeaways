{
 "cells": [
  {
   "attachments": {},
   "cell_type": "markdown",
   "metadata": {},
   "source": [
    "# MA Model"
   ]
  },
  {
   "attachments": {},
   "cell_type": "markdown",
   "metadata": {},
   "source": [
    "- Current value = mean  + noise + fraction of previous value's noise\n",
    "- MA parameter is theta. theta determines what type of data it is. \n",
    "- MA1 model = model with 1 lagged error (noise)\n",
    "- White noise : theta is close to 0 \n",
    "- Stationary : for all values of theta\n",
    "- Negative nth-lag auto-correlation : theta is negative\n",
    "- Positive nth-lag auto-correlation : theta is positive\n",
    "- Unlike AR models, MA(n) models do not have autocorrelation more than n-th term\n",
    "    - MA1 model has no autocorrelation beyond lag 1\n",
    "    - MA2 model has no autocorrelation beyond lag 2"
   ]
  },
  {
   "cell_type": "code",
   "execution_count": null,
   "metadata": {},
   "outputs": [],
   "source": [
    "# from statsmodels.tsa.arima_process import ArmaProcess\n",
    "# ar = np.array([1]) \n",
    "# ma = np.array([1, 0.5]) # Generate MA process with theta of 0.5\n",
    "# MA_object = ArmaProcess(ar, ma)\n",
    "# simulated_data = MA_object.generate_sample(nsample=1000)\n",
    "# plt.plot(simulated_data)"
   ]
  },
  {
   "cell_type": "code",
   "execution_count": 4,
   "metadata": {},
   "outputs": [],
   "source": [
    "# from statsmodels.tsa.arima.model import ARIMA\n",
    "# mod = ARIMA(simulated_data, order=(0,0,1))\n",
    "# result = mod.fit()\n",
    "# # See model summary\n",
    "# print(result.summary())\n",
    "# # See mean and phi in format [mean,theta]\n",
    "# mean = result.params[0]\n",
    "# theta = result.params[1]\n",
    "\n",
    "# # Forecast\n",
    "# from statsmodels.graphics.tsaplots import plot_predict\n",
    "# fig, ax = plt.subplots()\n",
    "# data.plot(ax=ax)\n",
    "# plot_predict(res, start='2012-09-27', end='2012-10-06', ax=ax)\n",
    "# plt.show()"
   ]
  },
  {
   "cell_type": "code",
   "execution_count": 3,
   "metadata": {},
   "outputs": [],
   "source": [
    "# # Alternative approach\n",
    "\n",
    "# forecasted_vals = mod.forecast(n)\n",
    "\n",
    "# df['forecast_manual'] = [None]*len(df) + list(forecasted_vals)\n",
    "\n",
    "# df.plot()"
   ]
  },
  {
   "attachments": {},
   "cell_type": "markdown",
   "metadata": {},
   "source": [
    "# Converting MA to AR and vice versa"
   ]
  },
  {
   "attachments": {},
   "cell_type": "markdown",
   "metadata": {},
   "source": [
    "- See slides for mathematical implementations\n",
    "- AR(1) model = MA(infinite) model with appropriate parameters."
   ]
  },
  {
   "cell_type": "code",
   "execution_count": 7,
   "metadata": {},
   "outputs": [
    {
     "data": {
      "image/png": "[encoded data removed]",
      "text/plain": [
       "<Figure size 432x288 with 1 Axes>"
      ]
     },
     "metadata": {
      "needs_background": "light"
     },
     "output_type": "display_data"
    }
   ],
   "source": [
    "import numpy as np\n",
    "import matplotlib.pyplot as plt\n",
    "# import the modules for simulating data and plotting the ACF\n",
    "from statsmodels.tsa.arima_process import ArmaProcess\n",
    "from statsmodels.graphics.tsaplots import plot_acf\n",
    "\n",
    "# Build a list MA parameters\n",
    "ma = [(0.8)**i for i in range(30)]\n",
    "\n",
    "# Simulate the MA(30) model\n",
    "ar = np.array([1])\n",
    "AR_object = ArmaProcess(ar, ma)\n",
    "simulated_data = AR_object.generate_sample(nsample=5000)\n",
    "\n",
    "# Plot the ACF\n",
    "plot_acf(simulated_data, lags=30)\n",
    "plt.show()"
   ]
  }
 ],
 "metadata": {
  "kernelspec": {
   "display_name": "base",
   "language": "python",
   "name": "python3"
  },
  "language_info": {
   "codemirror_mode": {
    "name": "ipython",
    "version": 3
   },
   "file_extension": ".py",
   "mimetype": "text/x-python",
   "name": "python",
   "nbconvert_exporter": "python",
   "pygments_lexer": "ipython3",
   "version": "3.8.3"
  },
  "orig_nbformat": 4,
  "vscode": {
   "interpreter": {
    "hash": "dc575bfddb5c8ca4bb6a4f4dcdd32abc104b5fa4177361381c432fff36ce3e46"
   }
  }
 },
 "nbformat": 4,
 "nbformat_minor": 2
}
