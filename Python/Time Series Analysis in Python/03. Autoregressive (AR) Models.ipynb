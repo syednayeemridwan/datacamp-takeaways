{
 "cells": [
  {
   "attachments": {},
   "cell_type": "markdown",
   "metadata": {},
   "source": [
    "# AR model"
   ]
  },
  {
   "attachments": {},
   "cell_type": "markdown",
   "metadata": {},
   "source": [
    "- Current value = mean + noise + fraction of previous value \n",
    "- AR parameter is phi. Phi determines what type of data it is. \n",
    "- AR1 model = model with 1 lagged value \n",
    "- Random walk : phi is close to 1 \n",
    "- White noise : phi is close to 0 \n",
    "- Stationary : phi is between range -1 < phi < +1\n",
    "- Negative return / Mean reversion : phi is negative\n",
    "- Positive return / Momentum : phi is positive\n",
    "- Auto-correlation decays exponentially at a rate of phi\n",
    "    - eg: if phi is 0.9 for AR1, lag1 autocorrelation is 0.9, lag2 autocorrelation is 0.9^2 and so on\n",
    "    - phi is positive = exponential decay in one direction\n",
    "    - phi is negative = exponential decay in both direction"
   ]
  },
  {
   "cell_type": "code",
   "execution_count": 1,
   "metadata": {},
   "outputs": [],
   "source": [
    "# from statsmodels.tsa.arima_process import ArmaProcess\n",
    "# # AR process with phi = + 0.9\n",
    "# ar = np.array([1, -0.9]) # Change the sign of phi (method designed in such way)\n",
    "# ma = np.array([1])\n",
    "# AR_object = ArmaProcess(ar, ma)\n",
    "# simulated_data = AR_object.generate_sample(nsample=1000)\n",
    "# plt.plot(simulated_data)"
   ]
  },
  {
   "cell_type": "code",
   "execution_count": 2,
   "metadata": {},
   "outputs": [],
   "source": [
    "# from statsmodels.tsa.arima.model import ARIMA\n",
    "# # (p,d,q) determines for (ar_val, diff, ma_val)\n",
    "# # for AR1 model p=1 and order is (1,0,0)\n",
    "# mod = ARIMA(df, order=(1,0,0)) \n",
    "# result = mod.fit()\n",
    "# # See model summary\n",
    "# print(result.summary())\n",
    "# # See mean and phi in format [mean,phi]\n",
    "# mean = result.params[0]\n",
    "# phi = result.params[1]\n",
    "# # Forecast\n",
    "# from statsmodels.graphics.tsaplots import plot_predict\n",
    "# fig, ax = plt.subplots()\n",
    "# df.plot(ax=ax) # Plot data on same axis\n",
    "# # Show 95% confidence interval, alpha = 1-0.95 (None for no ci)\n",
    "# plot_predict(result, start='2012-09-27', end='2012-10-06', alpha=0.05, ax=ax)\n",
    "# plt.show()"
   ]
  },
  {
   "cell_type": "code",
   "execution_count": 3,
   "metadata": {},
   "outputs": [],
   "source": [
    "# # Alternative approach\n",
    "\n",
    "# forecasted_vals = mod.forecast(n)\n",
    "\n",
    "# df['forecast_manual'] = [None]*len(df) + list(forecasted_vals)\n",
    "\n",
    "# df.plot()"
   ]
  },
  {
   "attachments": {},
   "cell_type": "markdown",
   "metadata": {},
   "source": [
    "# Partial auto correlation"
   ]
  },
  {
   "attachments": {},
   "cell_type": "markdown",
   "metadata": {},
   "source": [
    "- The order of an AR(p) model will usually be unknown\n",
    "- Two techniques to determine order\n",
    "    - Partial Autocorrelation Function : \n",
    "        - Measures the incremental benefit of adding another lag\n",
    "        - Tells how significant n th lag is when you already have n-1 lags\n",
    "    - Information criteria\n",
    "        - adjusts goodness-of-fit for the model based on penalty on number of parameters\n",
    "        - 2 measures :\n",
    "            - AIC (Akaike Information Criterion)\n",
    "            - BIC (Bayesian Information Criterion)\n",
    "        - Among multiple models, choose the best by taking the model with least BIC for p"
   ]
  },
  {
   "attachments": {},
   "cell_type": "markdown",
   "metadata": {},
   "source": [
    "### Plot PACF"
   ]
  },
  {
   "cell_type": "code",
   "execution_count": 5,
   "metadata": {},
   "outputs": [],
   "source": [
    "# from statsmodels.graphics.tsaplots import plot_pacf\n",
    "# plot_pacf(x, lags= 20, alpha=0.05)\n",
    "\n"
   ]
  },
  {
   "attachments": {},
   "cell_type": "markdown",
   "metadata": {},
   "source": [
    "### See AIC and BIC"
   ]
  },
  {
   "cell_type": "code",
   "execution_count": 6,
   "metadata": {},
   "outputs": [],
   "source": [
    "# result.aic\n",
    "# result.bic\n"
   ]
  }
 ],
 "metadata": {
  "kernelspec": {
   "display_name": "base",
   "language": "python",
   "name": "python3"
  },
  "language_info": {
   "codemirror_mode": {
    "name": "ipython",
    "version": 3
   },
   "file_extension": ".py",
   "mimetype": "text/x-python",
   "name": "python",
   "nbconvert_exporter": "python",
   "pygments_lexer": "ipython3",
   "version": "3.8.3"
  },
  "orig_nbformat": 4,
  "vscode": {
   "interpreter": {
    "hash": "dc575bfddb5c8ca4bb6a4f4dcdd32abc104b5fa4177361381c432fff36ce3e46"
   }
  }
 },
 "nbformat": 4,
 "nbformat_minor": 2
}
