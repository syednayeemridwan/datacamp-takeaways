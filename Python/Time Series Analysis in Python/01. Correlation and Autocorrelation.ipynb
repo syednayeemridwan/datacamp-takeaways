{
 "cells": [
  {
   "attachments": {},
   "cell_type": "markdown",
   "metadata": {},
   "source": [
    "# Useful pandas Functions\n"
   ]
  },
  {
   "attachments": {},
   "cell_type": "markdown",
   "metadata": {},
   "source": [
    "- Join two DataFrames\n",
    "    - `df1.join(df2)`\n",
    "- Resample data (e.g. from daily to weekly)\n",
    "    - `df = df.resample(rule='W').last()`\n",
    "- Computing percent changes in a time series\n",
    "    - `df['col'].pct_change()`\n",
    "- Computing differences of a time series\n",
    "    - `df['col'].diff()`\n",
    "- pandas correlation method of Series\n",
    "    - `df['ABC'].corr(df['XYZ'])`\n",
    "- pandas autocorrelation\n",
    "    - `df['ABC'].autocorr()`"
   ]
  },
  {
   "attachments": {},
   "cell_type": "markdown",
   "metadata": {},
   "source": [
    "# Linear Regression"
   ]
  },
  {
   "cell_type": "code",
   "execution_count": 1,
   "metadata": {},
   "outputs": [],
   "source": [
    "# import statsmodels.api as sm\n",
    "\n",
    "# # There are 2 pandas series : x and y\n",
    "# # Consider x as independent variable and y as dependent variable\n",
    "# # You want a regression line : y = mx + c\n",
    "\n",
    "# # Convert series x to a dataframe\n",
    "# dfx = pd.DataFrame(x, columns=['x'])\n",
    "\n",
    "# # Add a constant to the DataFrame dfx\n",
    "# # Reason : statsmodel regression needs this constant column to calculate intercept\n",
    "# # Without it, the regression model will run without intercept\n",
    "# dfx_c = sm.add_constant(dfx)\n",
    "\n",
    "# # Regress y on dfx_c (Model y=mx+c)\n",
    "# result = sm.OLS(y, dfx_c).fit()\n",
    "\n",
    "# # Print out the results\n",
    "# print(result.summary())\n",
    "# # This is intercept of the line\n",
    "# intercept = result.params[0]\n",
    "# # This is slope (m) of the line y=mx+c\n",
    "# slope = result.params[1]\n",
    "# # The least value of r_squared indicates the best fit for the line\n",
    "# r_squared = result.rsquared"
   ]
  },
  {
   "attachments": {},
   "cell_type": "markdown",
   "metadata": {},
   "source": [
    "# Autocorrelation"
   ]
  },
  {
   "attachments": {},
   "cell_type": "markdown",
   "metadata": {},
   "source": [
    "- Correlation of a time series with a lagged copy of itself\n",
    "- Also called serial correlation\n",
    "- Negative autocorrelation : Mean Reversion\n",
    "- Positive autocorrelation : Momentum, or Trend Following "
   ]
  }
 ],
 "metadata": {
  "kernelspec": {
   "display_name": "base",
   "language": "python",
   "name": "python3"
  },
  "language_info": {
   "codemirror_mode": {
    "name": "ipython",
    "version": 3
   },
   "file_extension": ".py",
   "mimetype": "text/x-python",
   "name": "python",
   "nbconvert_exporter": "python",
   "pygments_lexer": "ipython3",
   "version": "3.8.3"
  },
  "orig_nbformat": 4,
  "vscode": {
   "interpreter": {
    "hash": "dc575bfddb5c8ca4bb6a4f4dcdd32abc104b5fa4177361381c432fff36ce3e46"
   }
  }
 },
 "nbformat": 4,
 "nbformat_minor": 2
}
