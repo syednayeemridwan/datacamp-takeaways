{
 "cells": [
  {
   "attachments": {},
   "cell_type": "markdown",
   "metadata": {},
   "source": [
    "# ARMA model"
   ]
  },
  {
   "attachments": {},
   "cell_type": "markdown",
   "metadata": {},
   "source": [
    "- Cointegration Model\n",
    "- Two series, P and Q can be random walks But the linear combination (eg: P - slope* Q) of them may not be a random walk!\n",
    "- Two steps:\n",
    "    1. Regress P on Q\n",
    "    2. Run augmented dickey-fuller test for determining random walk\n",
    "- Example: Dog and owner\n",
    "    - From one perspective, only the dogs behavior is random walk\n",
    "    - From another perspective, only the dog owner's behavior is random walk\n",
    "    - From co-integrated perspective, the distance between the dog and the dog's behavior is mean-reverting\n",
    "        - If the owner runs fast, dog has to adapt\n",
    "        - If the dog runs fast owner controls the dog with a leash\n",
    "    "
   ]
  },
  {
   "attachments": {},
   "cell_type": "markdown",
   "metadata": {},
   "source": [
    "### One-step"
   ]
  },
  {
   "cell_type": "code",
   "execution_count": 1,
   "metadata": {},
   "outputs": [],
   "source": [
    "# from statsmodels.tsa.stattools import coint\n",
    "# coint(P,Q)"
   ]
  },
  {
   "attachments": {},
   "cell_type": "markdown",
   "metadata": {},
   "source": [
    "### Alternative approach"
   ]
  },
  {
   "cell_type": "code",
   "execution_count": 2,
   "metadata": {},
   "outputs": [],
   "source": [
    "# # Import the statsmodels module for regression and the adfuller function\n",
    "# import statsmodels.api as sm\n",
    "# from statsmodels.tsa.stattools import adfuller\n",
    "\n",
    "# # Regress Y on X\n",
    "# X = sm.add_constant(X)\n",
    "# result = sm.OLS(Y,X).fit()\n",
    "\n",
    "# # Compute ADF\n",
    "# b = result.params[1]\n",
    "# adf_stats = adfuller(Y['A'] - b*X['A'])\n",
    "# print(\"The p-value for the ADF test is \", adf_stats[1])"
   ]
  }
 ],
 "metadata": {
  "kernelspec": {
   "display_name": "base",
   "language": "python",
   "name": "python3"
  },
  "language_info": {
   "codemirror_mode": {
    "name": "ipython",
    "version": 3
   },
   "file_extension": ".py",
   "mimetype": "text/x-python",
   "name": "python",
   "nbconvert_exporter": "python",
   "pygments_lexer": "ipython3",
   "version": "3.8.3"
  },
  "orig_nbformat": 4,
  "vscode": {
   "interpreter": {
    "hash": "dc575bfddb5c8ca4bb6a4f4dcdd32abc104b5fa4177361381c432fff36ce3e46"
   }
  }
 },
 "nbformat": 4,
 "nbformat_minor": 2
}
