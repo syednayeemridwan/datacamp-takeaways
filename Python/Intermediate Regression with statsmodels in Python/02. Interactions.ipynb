{
 "cells": [
  {
   "attachments": {},
   "cell_type": "markdown",
   "metadata": {},
   "source": [
    "# Model for each category"
   ]
  },
  {
   "attachments": {},
   "cell_type": "markdown",
   "metadata": {},
   "source": [
    "- Instead of creating model for all categories together, we can separate each category and create model for them individually\n"
   ]
  },
  {
   "cell_type": "code",
   "execution_count": 1,
   "metadata": {},
   "outputs": [],
   "source": [
    "# cat1_df = df[df[\"class\"] == \"cat1\"]\n",
    "# cat2_df = df[df[\"class\"] == \"cat2\"]\n",
    "# cat3_df = df[df[\"class\"] == \"cat3\"]\n",
    "# cat4_df = df[df[\"class\"] == \"cat4\"]\n",
    "\n",
    "# model1 = ols(\"y_var ~ x_var\", data=cat1_df).fit()\n",
    "# prediction_data_cat1 = explanatory_data.assign(\n",
    "#     predicted_col = model1.predict(explanatory_data), \n",
    "#     species = \"cat1\")\n",
    "\n",
    "# model2 = ols(\"y_var ~ x_var\", data=cat2_df).fit()\n",
    "# prediction_data_cat2 = explanatory_data.assign(\n",
    "#     predicted_col = model2.predict(explanatory_data),\n",
    "#     species = \"cat2\")\n",
    "\n",
    "# model3 = ols(\"y_var ~ x_var\", data=cat3_df).fit()\n",
    "# prediction_data_cat3 = explanatory_data.assign(\n",
    "#     predicted_col = model3.predict(explanatory_data),\n",
    "#     species = \"cat3\")\n",
    "\n",
    "# model4 = ols(\"y_var ~ x_var\", data=cat4_df).fit()\n",
    "# prediction_data_cat4 = explanatory_data.assign(\n",
    "#     predicted_col = model4.predict(explanatory_data),\n",
    "#     species = \"cat4\")\n",
    "\n",
    "# prediction_data = pd.concat([prediction_data_cat1,\n",
    "#                             prediction_data_cat2,\n",
    "#                             prediction_data_cat3,\n",
    "#                             prediction_data_cat4])"
   ]
  },
  {
   "attachments": {},
   "cell_type": "markdown",
   "metadata": {},
   "source": [
    "# Visualizing predictions\n"
   ]
  },
  {
   "attachments": {},
   "cell_type": "markdown",
   "metadata": {},
   "source": [
    "- Use `lmplot` to visualize predictions"
   ]
  },
  {
   "cell_type": "code",
   "execution_count": 2,
   "metadata": {},
   "outputs": [],
   "source": [
    "# sns.lmplot(x=\"x_var\",\n",
    "#     y=\"y_var\",\n",
    "#     data=df,\n",
    "#     hue=\"species\",\n",
    "#     ci=None)\n",
    "\n",
    "# sns.scatterplot(x=\"x_var\",\n",
    "#     y=\"y_var\",\n",
    "#     data=prediction_data,\n",
    "#     hue=\"species\",\n",
    "#     ci=None,\n",
    "#     legend=False)\n",
    "\n",
    "# plt.show()"
   ]
  },
  {
   "attachments": {},
   "cell_type": "markdown",
   "metadata": {},
   "source": [
    "# Model Metrics"
   ]
  },
  {
   "attachments": {},
   "cell_type": "markdown",
   "metadata": {},
   "source": [
    "- Coefficient of determination : `print(model.rsquared_adj)`\n",
    "- Residual standard error, RSE : `print(np.sqrt(model.mse_resid))`"
   ]
  },
  {
   "attachments": {},
   "cell_type": "markdown",
   "metadata": {},
   "source": [
    "# Interaction \n"
   ]
  },
  {
   "attachments": {},
   "cell_type": "markdown",
   "metadata": {},
   "source": [
    "- If The effect of x1_var on y_var changes due to the changes in x2_var then there are some interactions between x1_var and x2_var\n",
    "- Specifying interactions:\n",
    "    - No interactions : `y_var ~ x1_var + x2_var`\n",
    "    - With interactions (implicit) : `y_var ~ x1_var * x2_var`\n",
    "    - With interactions (explicit) : `y_var ~ x1_var + x2_var + x1_var:x2_var`\n",
    "- formula : \n",
    "    - `model = ols(\"y_var ~ x_var_cat +  x_var_cat:x_var_num + 0\", data=df).fit()`"
   ]
  },
  {
   "attachments": {},
   "cell_type": "markdown",
   "metadata": {},
   "source": [
    "# Prediction with interaction"
   ]
  },
  {
   "attachments": {},
   "cell_type": "markdown",
   "metadata": {},
   "source": [
    "- Create a dataframe with cross product of numeric and categorical columns to be predicted\n",
    "- predict with the model"
   ]
  },
  {
   "cell_type": "code",
   "execution_count": 3,
   "metadata": {},
   "outputs": [],
   "source": [
    "# from itertools import product\n",
    "\n",
    "# col_numeric = np.arange(5, 61, 5)\n",
    "# col_categorical = df[\"class\"].unique()\n",
    "\n",
    "# combinations = product(col_numeric, col_categorical)\n",
    "\n",
    "# explanatory_data = pd.DataFrame(combinations, columns=[\"col_numeric\",\"col_categorical\"])\n",
    "# prediction_data = explanatory_data.assign(\n",
    "# predicted_col = model.predict(explanatory_data))\n",
    "# print(prediction_data)"
   ]
  },
  {
   "attachments": {},
   "cell_type": "markdown",
   "metadata": {},
   "source": [
    "# Visualizing the predictions\n"
   ]
  },
  {
   "attachments": {},
   "cell_type": "markdown",
   "metadata": {},
   "source": [
    "- Use `lmplot` for regression line\n",
    "- use `scatterplot` for predicted points "
   ]
  },
  {
   "cell_type": "code",
   "execution_count": 4,
   "metadata": {},
   "outputs": [],
   "source": [
    "# sns.lmplot(x=\"x_var_numeric\",\n",
    "# y=\"y_var\",\n",
    "# data=df,\n",
    "# hue=\"x_var_categorical\",\n",
    "# ci=None)\n",
    "\n",
    "# sns.scatterplot(x=\"x_var_numeric\",\n",
    "# y=\"y_var\",\n",
    "# data=prediction_data,\n",
    "# hue=\"x_var_categorical\")\n",
    "\n",
    "# plt.show()"
   ]
  },
  {
   "attachments": {},
   "cell_type": "markdown",
   "metadata": {},
   "source": [
    "# Manually calculating the predictions"
   ]
  },
  {
   "attachments": {},
   "cell_type": "markdown",
   "metadata": {},
   "source": [
    "- Formula : `theoretical_prediction = selected_intercept + selected_slope * explanatory_data[\"x_var_numeric\"])`"
   ]
  },
  {
   "cell_type": "code",
   "execution_count": 5,
   "metadata": {},
   "outputs": [],
   "source": [
    "# coeffs = model.params\n",
    "\n",
    "# intercept_cat1, intercept_cat2, intercept_cat3, intercept_cat4, slope_cat1, slope_cat2, slope_cat3, slope_cat4 = coeffs\n",
    "\n",
    "# conditions = [\n",
    "# explanatory_data[\"class\"] == \"cat1\",\n",
    "# explanatory_data[\"class\"] == \"cat2\",\n",
    "# explanatory_data[\"class\"] == \"cat3\",\n",
    "# explanatory_data[\"class\"] == \"cat4\"\n",
    "# ]\n",
    "# intercepts = [intercept_cat1, intercept_cat2, intercept_cat3, intercept_cat4]\n",
    "# selected_intercept = np.select(conditions, intercepts)\n",
    "# slope_choices = [slope_cat1, slope_cat2, slope_cat3, slope_cat4]\n",
    "# selected_slope = np.select(conditions, slope_choices)\n",
    "\n",
    "# prediction_data = explanatory_data.assign(\n",
    "#     intercept = np.select(conditions, slope_choices)\n",
    "#     theoretical_prediction = selected_intercept + selected_slope * explanatory_data[\"x_var_numeric\"])\n",
    "\n",
    "# print(prediction_data)"
   ]
  },
  {
   "attachments": {},
   "cell_type": "markdown",
   "metadata": {},
   "source": [
    "# Simpson's Paradox"
   ]
  },
  {
   "attachments": {},
   "cell_type": "markdown",
   "metadata": {},
   "source": [
    "- when the trend of a model on the whole dataset is very different from the trends shown by models on subsets of the dataset.\n",
    "    - trend = slope coefficient\n",
    "    - example : overall slope is positive, but each group's individual slope is negative (Seel example in slides)\n",
    "- Best Practices\n",
    "    - Visualization helps. If possible, try to plot the dataset.\n",
    "    - Context is important (It will tell you which model is best between grouped or overall slope). You can't choose the best model in general – it depends on the dataset and the question you are trying to answer.\n",
    "    - Articulate a question before you start modeling.\n",
    "- Things to note:\n",
    "    - Usually (but not always) the grouped model contains more insight.\n",
    "    - Are you missing explanatory variables?\n",
    "    - The paradox is usually less obvious.\n",
    "    - You may see a zero slope rather than a complete change in direction.\n",
    "    - It may not appear in every group.\n"
   ]
  }
 ],
 "metadata": {
  "kernelspec": {
   "display_name": "env_py",
   "language": "python",
   "name": "python3"
  },
  "language_info": {
   "codemirror_mode": {
    "name": "ipython",
    "version": 3
   },
   "file_extension": ".py",
   "mimetype": "text/x-python",
   "name": "python",
   "nbconvert_exporter": "python",
   "pygments_lexer": "ipython3",
   "version": "3.8.11"
  },
  "orig_nbformat": 4,
  "vscode": {
   "interpreter": {
    "hash": "1e949e87132dd83f1a7623eb88007e3532b03b66b77111be347aa4a383049722"
   }
  }
 },
 "nbformat": 4,
 "nbformat_minor": 2
}
