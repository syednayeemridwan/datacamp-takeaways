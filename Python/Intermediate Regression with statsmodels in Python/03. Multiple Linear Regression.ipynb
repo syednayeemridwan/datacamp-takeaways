{
 "cells": [
  {
   "attachments": {},
   "cell_type": "markdown",
   "metadata": {},
   "source": [
    "# Modeling and Visualizing with two numeric explanatory variables"
   ]
  },
  {
   "attachments": {},
   "cell_type": "markdown",
   "metadata": {},
   "source": [
    "- Same as others\n",
    "- You can use color as a third dimension to visualize instead of using a 3D plot"
   ]
  },
  {
   "attachments": {},
   "cell_type": "markdown",
   "metadata": {},
   "source": [
    "### Modeling without interaction"
   ]
  },
  {
   "cell_type": "code",
   "execution_count": 3,
   "metadata": {},
   "outputs": [],
   "source": [
    "# model = ols(\"y_var ~ x1_var_numeric + x2_var_numeric\", data=df).fit()\n"
   ]
  },
  {
   "attachments": {},
   "cell_type": "markdown",
   "metadata": {},
   "source": [
    "### Modeling with interaction\n"
   ]
  },
  {
   "cell_type": "code",
   "execution_count": 4,
   "metadata": {},
   "outputs": [],
   "source": [
    "# model = ols(\"y_var ~ x1_var_numeric * x2_var_numeric\", data=df).fit()\n"
   ]
  },
  {
   "attachments": {},
   "cell_type": "markdown",
   "metadata": {},
   "source": [
    "### Predictions with model"
   ]
  },
  {
   "cell_type": "code",
   "execution_count": 1,
   "metadata": {},
   "outputs": [],
   "source": [
    "# print(model.params)\n",
    "\n",
    "# from itertools import product\n",
    "# x1_var_numeric = np.arange(5, 61, 5)\n",
    "# x2_var_numeric = np.arange(2, 21, 2)\n",
    "# combinations = product(x1_var_numeric, x2_var_numeric)\n",
    "\n",
    "# explanatory_data = pd.DataFrame(combinations, columns=[\"x1_var_numeric\",\"x2_var_numeric\"])\n",
    "# prediction_data = explanatory_data.assign(\n",
    "#     predicted_col = model.predict(explanatory_data)\n",
    "#     )\n",
    "# print(prediction_data)"
   ]
  },
  {
   "attachments": {},
   "cell_type": "markdown",
   "metadata": {},
   "source": [
    "### Visualizing Predictions"
   ]
  },
  {
   "cell_type": "code",
   "execution_count": 2,
   "metadata": {},
   "outputs": [],
   "source": [
    "# sns.scatterplot(x=\"x1_var_numeric\",\n",
    "# y=\"y_var\",\n",
    "# data=df,\n",
    "# hue=\"x2_var_numeric\")\n",
    "\n",
    "# sns.scatterplot(x=\"x1_var_numeric\",\n",
    "# y=\"y_var\",\n",
    "# data=prediction_data,\n",
    "# hue=\"x2_var_numeric\",\n",
    "# legend=False,\n",
    "# marker=\"s\")\n",
    "\n",
    "# plt.show()"
   ]
  },
  {
   "attachments": {},
   "cell_type": "markdown",
   "metadata": {},
   "source": [
    "# Visualization by faceting"
   ]
  },
  {
   "attachments": {},
   "cell_type": "markdown",
   "metadata": {},
   "source": [
    "1. use `sns.FacetGrid`\n",
    "2. add into the grid with `.map()`\n",
    "- Things to note:\n",
    "    - It's possible to use more than one categorical variable for faceting\n",
    "    - Beware of faceting overuse, things become too messy for many categorical variables\n",
    "    - Plotting becomes harder with increasing number of variables"
   ]
  },
  {
   "cell_type": "code",
   "execution_count": 7,
   "metadata": {},
   "outputs": [],
   "source": [
    "# grid = sns.FacetGrid(data=df,\n",
    "# col=\"class\",\n",
    "# hue=\"x_var_other\",\n",
    "# col_wrap=2,\n",
    "# palette=\"plasma\")\n",
    "\n",
    "# grid.map(sns.scatterplot,\n",
    "# \"x_var1\",\n",
    "# \"x_var2\")\n",
    "\n",
    "# plt.show()"
   ]
  },
  {
   "attachments": {},
   "cell_type": "markdown",
   "metadata": {},
   "source": [
    "# Interaction Levels"
   ]
  },
  {
   "attachments": {},
   "cell_type": "markdown",
   "metadata": {},
   "source": [
    "### All possible interactions"
   ]
  },
  {
   "cell_type": "code",
   "execution_count": 5,
   "metadata": {},
   "outputs": [],
   "source": [
    "# ols(\n",
    "# \"mass_g ~ x_var1 * x_var2 * x_var3 + 0\",\n",
    "# data=fish).fit()"
   ]
  },
  {
   "attachments": {},
   "cell_type": "markdown",
   "metadata": {},
   "source": [
    "### Only two-way interactions"
   ]
  },
  {
   "cell_type": "code",
   "execution_count": 6,
   "metadata": {},
   "outputs": [],
   "source": [
    "# ols(\n",
    "# \"mass_g ~ (x_var1 + x_var2 + x_var3) ** 2 + 0\",\n",
    "# data=fish).fit()"
   ]
  },
  {
   "attachments": {},
   "cell_type": "markdown",
   "metadata": {},
   "source": [
    "# How linear regression works"
   ]
  },
  {
   "attachments": {},
   "cell_type": "markdown",
   "metadata": {},
   "source": [
    "- Primarily there are some predictions\n",
    "- We get residuals from the predictions\n",
    "- we cannot add the residuals (some values are negative and some are positive, so adding would cancel each other)\n",
    "- We square and then add them (sum of squares)\n",
    "- The target is to find a line for which this sum of squares becomes minimum\n",
    "- Use calculus to find the minimum position (eg: where slope is 0)\n",
    "    - Use `scipy` package's `minimize`\n",
    "\n",
    "<center><img src=\"images/03.11.jpg\"  style=\"width: 400px, height: 300px;\"/></center>\n"
   ]
  },
  {
   "cell_type": "code",
   "execution_count": 8,
   "metadata": {},
   "outputs": [],
   "source": [
    "# from scipy.optimize import minimize\n",
    "# def calc_quadratic(x):\n",
    "#     y = x ** 2 - x + 10\n",
    "#     return y\n",
    "# minimize(fun=calc_quadratic, x0=3)"
   ]
  }
 ],
 "metadata": {
  "kernelspec": {
   "display_name": "base",
   "language": "python",
   "name": "python3"
  },
  "language_info": {
   "codemirror_mode": {
    "name": "ipython",
    "version": 3
   },
   "file_extension": ".py",
   "mimetype": "text/x-python",
   "name": "python",
   "nbconvert_exporter": "python",
   "pygments_lexer": "ipython3",
   "version": "3.8.3"
  },
  "orig_nbformat": 4,
  "vscode": {
   "interpreter": {
    "hash": "dc575bfddb5c8ca4bb6a4f4dcdd32abc104b5fa4177361381c432fff36ce3e46"
   }
  }
 },
 "nbformat": 4,
 "nbformat_minor": 2
}
