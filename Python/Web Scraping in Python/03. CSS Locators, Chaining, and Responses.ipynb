{
 "cells": [
  {
   "cell_type": "markdown",
   "metadata": {},
   "source": [
    "# The (X)Path to CSS Locators"
   ]
  },
  {
   "cell_type": "markdown",
   "metadata": {},
   "source": [
    "`/` replace by `>` :\n",
    "- XPath: `/html/body/div`\n",
    "- CSS Locator: `html > body > div`"
   ]
  },
  {
   "cell_type": "markdown",
   "metadata": {},
   "source": [
    "`//` replaced by a blank space :\n",
    "- XPath: `//div/span//p`\n",
    "- CSS Locator: `div > span p`"
   ]
  },
  {
   "cell_type": "markdown",
   "metadata": {},
   "source": [
    "`[N]` replaced by `:nth-of-type(N)` : \n",
    "- XPath: `//div/p[2]`\n",
    "- CSS Locator: `div > p:nth-of-type(2)`"
   ]
  },
  {
   "cell_type": "markdown",
   "metadata": {},
   "source": [
    "`/@` is replaced by `::attr()`:\n",
    "- xpath = `'//div/a/@href'`\n",
    "- css_locator = `'div > a::attr(href)'`"
   ]
  },
  {
   "cell_type": "markdown",
   "metadata": {},
   "source": [
    "`@id=` is replaced by `#`, `@class=` is replaced by `.`:\n",
    "- xpath = `'//div[@id=\"uid\"]/a/@href'`\n",
    "- css_locator = `'div#uid > a::attr(href)'`"
   ]
  },
  {
   "cell_type": "markdown",
   "metadata": {},
   "source": [
    "`/text()` for single text is replaced by `::text`\n",
    "- xpath = `'//p[@id=\"p3\"]/text()'`\n",
    "- css_locator = `'p#p3::text'`"
   ]
  },
  {
   "cell_type": "markdown",
   "metadata": {},
   "source": [
    "`//text()` for all texts is replaced by `space::text`\n",
    "- xpath = `'//p[@id=\"p3\"]//text()'`\n",
    "- css_locator = `'p#p3 ::text'`"
   ]
  },
  {
   "cell_type": "markdown",
   "metadata": {},
   "source": [
    "# Attributes in CSS"
   ]
  },
  {
   "cell_type": "markdown",
   "metadata": {},
   "source": [
    "css_locator = `'div#uid > p.class1'`"
   ]
  },
  {
   "cell_type": "markdown",
   "metadata": {},
   "source": [
    "# CSS Wildcard"
   ]
  },
  {
   "cell_type": "markdown",
   "metadata": {},
   "source": [
    "```\n",
    "css_locator = '#uid > *' CSS Locator to all children of the element whose id is uid\n",
    "```"
   ]
  },
  {
   "cell_type": "markdown",
   "metadata": {},
   "source": [
    "# Scraping with Children"
   ]
  },
  {
   "cell_type": "markdown",
   "metadata": {},
   "source": [
    "```\n",
    "no_of_children = len( response.xpath( './*' ) )\n",
    "```"
   ]
  },
  {
   "cell_type": "markdown",
   "metadata": {},
   "source": [
    "# Response Object"
   ]
  },
  {
   "cell_type": "markdown",
   "metadata": {},
   "source": [
    "```\n",
    "this_url = response.url // get the url\n",
    "this_title = response.css('html > head > title::text').extract_first()\n",
    "```"
   ]
  }
 ],
 "metadata": {
  "language_info": {
   "name": "python"
  },
  "orig_nbformat": 4
 },
 "nbformat": 4,
 "nbformat_minor": 2
}
