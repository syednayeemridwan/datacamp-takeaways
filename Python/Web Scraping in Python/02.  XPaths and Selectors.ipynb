{
 "cells": [
  {
   "cell_type": "markdown",
   "metadata": {},
   "source": [
    "# Slashes and Brackets"
   ]
  },
  {
   "cell_type": "markdown",
   "metadata": {},
   "source": [
    "- Single forward slash / looks forward one generation\n",
    "- Double forward slash // looks forward all future generations\n",
    "- Square brackets [] help narrow in on specific n-th elements"
   ]
  },
  {
   "cell_type": "markdown",
   "metadata": {},
   "source": [
    "```\n",
    "xpath = '/html/body/div/p' // take the p tags inside div\n",
    "xpath = '/html/body/div/p[2]' // only n-th p tag\n",
    "xpath = '//p'  // all p tags\n",
    "xpath = '//p[1]' // all p-tags that are the first child of parent\n",
    "```"
   ]
  },
  {
   "cell_type": "markdown",
   "metadata": {},
   "source": [
    "# Wildcard"
   ]
  },
  {
   "cell_type": "markdown",
   "metadata": {},
   "source": [
    "```\n",
    "xpath = \"/html/body/* // immediate children tags of body\n",
    "xpath = \"/html/body//*\" //  all descendant tags of body\n",
    "xpath = \"/*\"  // root element of HTML\n",
    "xpath = \"//*\" // total elements of entire HTML\n",
    "```"
   ]
  },
  {
   "cell_type": "markdown",
   "metadata": {},
   "source": [
    "# Get Attribute info"
   ]
  },
  {
   "cell_type": "markdown",
   "metadata": {},
   "source": [
    "```\n",
    "xpath = '/html/body/div/p[2]/@class' // get the info of tag's class attribute\n",
    "xpath = '//p[@id=\"p2\"]/a/@href' // get hyperlink\n",
    "```"
   ]
  },
  {
   "cell_type": "markdown",
   "metadata": {},
   "source": [
    "# Substring attribute element search"
   ]
  },
  {
   "cell_type": "markdown",
   "metadata": {},
   "source": [
    "```\n",
    "xpath = '//*[contains(@class,\"class-1\")]' // get tags where class attribute has value like class-1\n",
    "\n",
    "```"
   ]
  },
  {
   "cell_type": "markdown",
   "metadata": {},
   "source": [
    "# Multiple attribute values"
   ]
  },
  {
   "cell_type": "markdown",
   "metadata": {},
   "source": [
    "```\n",
    "xpath = '//p[@class=\"class-1 class-2\"]' // 2 values of same attribute\n",
    "```"
   ]
  },
  {
   "cell_type": "markdown",
   "metadata": {},
   "source": [
    "# Setting up a Selector"
   ]
  },
  {
   "cell_type": "markdown",
   "metadata": {},
   "source": [
    "```\n",
    "from scrapy import Selector\n",
    "\n",
    "html_string = '''\n",
    "<html>\n",
    "    <body>\n",
    "        <div class=\"hello datacamp\">\n",
    "            <p>Hello World!</p>\n",
    "        </div>\n",
    "        <p>Enjoy DataCamp!</p>\n",
    "    </body>\n",
    "</html>\n",
    "'''\n",
    "\n",
    "sel = Selector( text = html_string )\n",
    "```"
   ]
  },
  {
   "cell_type": "markdown",
   "metadata": {},
   "source": [
    "# Selecting Selectors"
   ]
  },
  {
   "cell_type": "markdown",
   "metadata": {},
   "source": [
    "```\n",
    "sel.xpath(\"//p\") // get list of objects\n",
    "\n",
    "sel.xpath(\"//p\").extract() // extract text from objects\n",
    "```"
   ]
  },
  {
   "cell_type": "markdown",
   "metadata": {},
   "source": [
    "# Get Specific Selector value"
   ]
  },
  {
   "cell_type": "markdown",
   "metadata": {},
   "source": [
    "```\n",
    "ps = sel.xpath('//p') \n",
    "second_p = ps[1] // get the second object\n",
    "\n",
    "second_p.extract() // extract text\n",
    "```"
   ]
  },
  {
   "cell_type": "markdown",
   "metadata": {},
   "source": [
    "# XPath Chaining"
   ]
  },
  {
   "cell_type": "markdown",
   "metadata": {},
   "source": [
    "These are all the same:\n",
    "- `sel.xpath('/html/body/div[2]')`\n",
    "- `sel.xpath('/html').xpath('./body/div[2]')`\n",
    "- `sel.xpath('/html').xpath('./body').xpath('./div[2]')`"
   ]
  },
  {
   "cell_type": "markdown",
   "metadata": {},
   "source": [
    "# Web-page contents"
   ]
  },
  {
   "cell_type": "markdown",
   "metadata": {},
   "source": [
    "You can use \"inspecting the element\" in a browser and see the contents of the webpage."
   ]
  },
  {
   "cell_type": "markdown",
   "metadata": {},
   "source": [
    "# Requesting to selecting"
   ]
  },
  {
   "cell_type": "markdown",
   "metadata": {},
   "source": [
    "```\n",
    "from scrapy import Selector\n",
    "import requests\n",
    "\n",
    "html = requests.get( url ).content // get the content of the webpage\n",
    "\n",
    "sel = Selector( text = html )\n",
    "len( sel.xpath('//*') ) // see the number of elements\n",
    "```"
   ]
  }
 ],
 "metadata": {
  "language_info": {
   "name": "python"
  },
  "orig_nbformat": 4
 },
 "nbformat": 4,
 "nbformat_minor": 2
}
