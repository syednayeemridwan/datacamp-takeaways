{
 "cells": [
  {
   "cell_type": "markdown",
   "metadata": {},
   "source": [
    "# Reading your data with CSV Reader and Establishing your Data Containers"
   ]
  },
  {
   "cell_type": "markdown",
   "metadata": {},
   "source": [
    "```\n",
    "import csv\n",
    "\n",
    "csvfile = open(\"file_name.csv\", \"r\")\n",
    "\n",
    "empty_list = []\n",
    "\n",
    "for row in csv.reader(csvfile):\n",
    "    empty_list.append((row[0], row[2], row[4], row[5])) // append desired data from row in empty list as tuples\n",
    "    \n",
    "empty_list.pop(0)\n",
    "```"
   ]
  },
  {
   "cell_type": "markdown",
   "metadata": {},
   "source": [
    "# Find the Months with the Highest Number of Counts"
   ]
  },
  {
   "cell_type": "markdown",
   "metadata": {},
   "source": [
    "```\n",
    "from datetime import datetime\n",
    "from collections import Counter\n",
    "\n",
    "frequency_count = Counter() // it is a dictionary that keeps count\n",
    "\n",
    "frequency_count[val] += 1\n",
    "    \n",
    "print(frequency_count.most_common(3)) // see the most common counts\n",
    "```"
   ]
  },
  {
   "cell_type": "markdown",
   "metadata": {},
   "source": [
    "It can be also used like : `Counter(some_dict)`"
   ]
  },
  {
   "cell_type": "markdown",
   "metadata": {},
   "source": [
    "# Reading your Data with DictReader and Establishing your Data Containers"
   ]
  },
  {
   "cell_type": "markdown",
   "metadata": {},
   "source": [
    "```\n",
    "csvfile = open(\"file_name.csv\",\"r\")\n",
    "\n",
    "dict_if_lists = defaultdict(list) // Create a dictionary that defaults to a list\n",
    "\n",
    "for row in csv.DictReader(csvfile): // use DictReader to read each row as dictionary entry\n",
    "    dict_if_lists[\"some_key\"].append(row)\n",
    "```"
   ]
  }
 ],
 "metadata": {
  "language_info": {
   "name": "python"
  },
  "orig_nbformat": 4
 },
 "nbformat": 4,
 "nbformat_minor": 2
}
