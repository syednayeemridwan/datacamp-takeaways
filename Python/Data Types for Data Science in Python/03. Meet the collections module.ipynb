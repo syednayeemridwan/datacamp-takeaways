{
 "cells": [
  {
   "cell_type": "markdown",
   "metadata": {},
   "source": [
    "# Using Counter on lists"
   ]
  },
  {
   "cell_type": "markdown",
   "metadata": {},
   "source": [
    "```\n",
    "from collections import Counter\n",
    "\n",
    "item_count = Counter(some_list) // counts frequency of items\n",
    "```"
   ]
  },
  {
   "cell_type": "markdown",
   "metadata": {},
   "source": [
    "# Finding most common elements"
   ]
  },
  {
   "cell_type": "markdown",
   "metadata": {},
   "source": [
    "```\n",
    "from collections import Counter\n",
    "\n",
    "item_count = Counter(some_list)\n",
    "\n",
    "print(item_count.most_common(5)) // Find the 5 most common elements\n",
    "```"
   ]
  },
  {
   "cell_type": "markdown",
   "metadata": {},
   "source": [
    "# Safely appending to a key's value list"
   ]
  },
  {
   "cell_type": "markdown",
   "metadata": {},
   "source": [
    "```\n",
    "from collections import defaultdict\n",
    "\n",
    "some_dict = defaultdict(list) // creates and empty dictionary that holds lists as values in it's keys\n",
    "\n",
    "for val1, val2,  val3 in list_of_tuples:\n",
    "    some_dict[val1].append(val3)\n",
    "    \n",
    "```"
   ]
  },
  {
   "cell_type": "markdown",
   "metadata": {},
   "source": [
    "# Making dictionaries into tuples"
   ]
  },
  {
   "cell_type": "markdown",
   "metadata": {},
   "source": [
    "```\n",
    "some_dict.items()\n",
    "```"
   ]
  },
  {
   "cell_type": "markdown",
   "metadata": {},
   "source": [
    "# Working with OrderedDictionaries"
   ]
  },
  {
   "cell_type": "markdown",
   "metadata": {},
   "source": [
    "```\n",
    "from collections import OrderedDict\n",
    "some_dict = OrderedDict()\n",
    "\n",
    "for key, val in list_of_tuples:\n",
    "    if  key not in some_dict:\n",
    "        some_dict[key] = val\n",
    "    \n",
    "print(list(ridership_date.items())[:31]) // Print the first 31 records\n",
    "```"
   ]
  },
  {
   "cell_type": "markdown",
   "metadata": {},
   "source": [
    "# Powerful Ordered popping"
   ]
  },
  {
   "cell_type": "markdown",
   "metadata": {},
   "source": [
    "```\n",
    "print(some_ordered_dict.popitem(last = False)) // remove item from first entries\n",
    "\n",
    "print(some_ordered_dict.popitem()) // remove item from last entries\n",
    "```"
   ]
  },
  {
   "cell_type": "markdown",
   "metadata": {},
   "source": [
    "# Creating namedtuples for storing data"
   ]
  },
  {
   "cell_type": "markdown",
   "metadata": {},
   "source": [
    "```\n",
    "from collections import namedtuple\n",
    "\n",
    "Tuple_Name = namedtuple('Tuple_Name', ['date', 'stop', 'riders']) // Creating namedtuple instance\n",
    "\n",
    "list_of_namedtuples = []\n",
    "\n",
    "for a, b, c in list_of_normal_tuples:\n",
    "    list_of_namedtuples.append(Tuple_Name(a, b, c))\n",
    "    \n",
    "```"
   ]
  },
  {
   "cell_type": "markdown",
   "metadata": {},
   "source": [
    "# Leveraging attributes on namedtuples"
   ]
  },
  {
   "cell_type": "markdown",
   "metadata": {},
   "source": [
    "- members of namedtuples are accessible by attributes"
   ]
  },
  {
   "cell_type": "markdown",
   "metadata": {},
   "source": [
    "```\n",
    "for item in list_of_namedtuples:\n",
    "    print(item.a) //  accessing each member of a tuple as attribute\n",
    "    print(item.b)\n",
    "    print(item.c)\n",
    "```"
   ]
  }
 ],
 "metadata": {
  "language_info": {
   "name": "python"
  },
  "orig_nbformat": 4
 },
 "nbformat": 4,
 "nbformat_minor": 2
}
