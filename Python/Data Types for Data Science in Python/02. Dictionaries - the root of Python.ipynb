{
 "cells": [
  {
   "cell_type": "markdown",
   "metadata": {},
   "source": [
    "# Creating and looping through dictionaries"
   ]
  },
  {
   "cell_type": "markdown",
   "metadata": {},
   "source": [
    "```\n",
    "empty_dict = {}\n",
    "\n",
    "for key, value in some_dict.items():\n",
    "    empty_dict[key] = value\n",
    "    \n",
    "for key in sorted(empty_dict, reverse=True) // sorting a dictionary by keys\n",
    "    print(empty_dict[key]) \n",
    "```"
   ]
  },
  {
   "cell_type": "markdown",
   "metadata": {},
   "source": [
    "# Safely finding by key"
   ]
  },
  {
   "cell_type": "markdown",
   "metadata": {},
   "source": [
    "- accessing value with `dict_name['key']` will throw and error if the key does not exist"
   ]
  },
  {
   "cell_type": "markdown",
   "metadata": {},
   "source": [
    "```\n",
    "print(some_dict.get(key)) // get value by key\n",
    "\n",
    "some_dict.get(key, 'Custom message if key not found')\n",
    "```"
   ]
  },
  {
   "cell_type": "markdown",
   "metadata": {},
   "source": [
    "# Dealing with nested data"
   ]
  },
  {
   "cell_type": "markdown",
   "metadata": {},
   "source": [
    "```\n",
    "print(some_dict.keys()) // see all the keys in the dictionary\n",
    "\n",
    "for key in some_dict:\n",
    "    print(key, some_dict[outer_key].get(inner_key, 'Unknown'))\n",
    "```"
   ]
  },
  {
   "cell_type": "markdown",
   "metadata": {},
   "source": [
    "# Adding and extending dictionaries"
   ]
  },
  {
   "cell_type": "markdown",
   "metadata": {},
   "source": [
    "```\n",
    "some_dict[new_key] = new_value // adding new key-value pair in  a dictionary\n",
    "\n",
    "some_dict[key].update([(sub_key_1, sub_value_1), (sub_key_2, sub_value_2)]) // creating a nested dictionary entry.\n",
    "```"
   ]
  },
  {
   "cell_type": "markdown",
   "metadata": {},
   "source": [
    "# Popping and deleting from dictionaries"
   ]
  },
  {
   "cell_type": "markdown",
   "metadata": {},
   "source": [
    "- `del some_dict[key]` will throw and error if the key does not exist"
   ]
  },
  {
   "cell_type": "markdown",
   "metadata": {},
   "source": [
    "```\n",
    "deleted_pair = some_dict.pop(key) // safely removing a key-value pair\n",
    "\n",
    "deleted_pair = female_names.pop(key,{}) // Safely remove an entry with an empty dictionary\n",
    "\n",
    "del some_dict[key] // unsafe\n",
    "```"
   ]
  },
  {
   "cell_type": "markdown",
   "metadata": {},
   "source": [
    "# Working with dictionaries more pythonically"
   ]
  },
  {
   "cell_type": "markdown",
   "metadata": {},
   "source": [
    "```\n",
    "for key, value in some_dict.items(): // accessing dictionary pairs\n",
    "    print(key, value)\n",
    "```"
   ]
  },
  {
   "cell_type": "markdown",
   "metadata": {},
   "source": [
    "# Checking dictionaries for data"
   ]
  },
  {
   "cell_type": "markdown",
   "metadata": {},
   "source": [
    "```\n",
    "if key in some_dict: // Check to see if key exists in the dictionary\n",
    "    print('Found key')\n",
    "else:\n",
    "    print('Key does not exist')\n",
    "```"
   ]
  },
  {
   "cell_type": "markdown",
   "metadata": {},
   "source": [
    "# Reading from a file using CSV reader"
   ]
  },
  {
   "cell_type": "markdown",
   "metadata": {},
   "source": [
    "```\n",
    "import csv\n",
    "csv_file = open(\"file_name.csv\", 'r') // or 'w' to write\n",
    "\n",
    "for row in csv.reader(csv_file):\n",
    "    print(row)\n",
    "    empty_dict[key] = row['col_name'] \n",
    "```"
   ]
  },
  {
   "cell_type": "markdown",
   "metadata": {},
   "source": [
    "# Creating a dictionary from a file"
   ]
  },
  {
   "cell_type": "markdown",
   "metadata": {},
   "source": [
    "```\n",
    "import csv\n",
    "\n",
    "csvfile = open('baby_names.csv' , 'r')\n",
    "\n",
    "for row in csv.DictReader(csvfile): // converts each row into dictionary entries\n",
    "    print(row)\n",
    "    empty_dict[row['col_name1']] = row['col_name2']\n",
    "\n",
    "```"
   ]
  }
 ],
 "metadata": {
  "language_info": {
   "name": "python"
  },
  "orig_nbformat": 4
 },
 "nbformat": 4,
 "nbformat_minor": 2
}
