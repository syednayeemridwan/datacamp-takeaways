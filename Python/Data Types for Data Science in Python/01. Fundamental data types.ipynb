{
 "cells": [
  {
   "cell_type": "markdown",
   "metadata": {},
   "source": [
    "# Manipulating lists for fun and profit"
   ]
  },
  {
   "cell_type": "markdown",
   "metadata": {},
   "source": [
    "```\n",
    "some_list = ['a', 'b', 'c', 'd']\n",
    "\n",
    "new_list = some_list.append('e') // Add a single item in the list\n",
    "\n",
    "some_list.extend(['f' , 'g']) // add a list of elements together at the end of the existing list\n",
    "\n",
    "item_index = baby_names.index('b') // find the index of an item in the list\n",
    "\n",
    "baby_names.pop(item_index) // get rid of an item at the specified index\n",
    "```"
   ]
  },
  {
   "cell_type": "markdown",
   "metadata": {},
   "source": [
    "# Looping over lists"
   ]
  },
  {
   "cell_type": "markdown",
   "metadata": {},
   "source": [
    "```\n",
    "some_list = [ ]\n",
    "\n",
    "for item in another_list: // looping through a list\n",
    "    some_list.append(item)\n",
    "    \n",
    "sorted_list = sorted(iterable_obj) // to sort an iterable object\n",
    "```"
   ]
  },
  {
   "cell_type": "markdown",
   "metadata": {},
   "source": [
    "# Using and unpacking tuples"
   ]
  },
  {
   "cell_type": "markdown",
   "metadata": {},
   "source": [
    "tuples are :\n",
    "- ordered\n",
    "- immutable\n",
    "- used in database\n",
    "- constructed with `enumerate()` , `zip()` , or comma (`,`)"
   ]
  },
  {
   "cell_type": "markdown",
   "metadata": {},
   "source": [
    "```\n",
    "some_tuples = zip(list_1, list_2) // make tuples from every n-th elements sequentially\n",
    "\n",
    "for idx, item in enumerate(another_list): // makes tuples of items with index \n",
    "    index = idx\n",
    "    value = item\n",
    "```"
   ]
  },
  {
   "cell_type": "markdown",
   "metadata": {},
   "source": [
    "# Making tuples by accident"
   ]
  },
  {
   "cell_type": "markdown",
   "metadata": {},
   "source": [
    "```\n",
    "normal = 'a'\n",
    "\n",
    "error = 'a', // comma makes this a tuple with 1 value\n",
    "\n",
    "print(type(normal))\n",
    "print(type(error)) // check to be sure in this case\n",
    "```"
   ]
  },
  {
   "cell_type": "markdown",
   "metadata": {},
   "source": [
    "# Sets"
   ]
  },
  {
   "cell_type": "markdown",
   "metadata": {},
   "source": [
    "- almost always constructed from list\n",
    "- unique\n",
    "- mutable\n",
    "- unordered"
   ]
  },
  {
   "cell_type": "markdown",
   "metadata": {},
   "source": [
    "# Finding all the data and the overlapping data between sets"
   ]
  },
  {
   "cell_type": "markdown",
   "metadata": {},
   "source": [
    "```\n",
    "union_set = set_1.union(set_2) // union operation of set\n",
    "\n",
    "print(len(union_set)) // item count of a set\n",
    "\n",
    "intersection_set = set_1.intersection(set_2) // intersection operation of set\n",
    "```"
   ]
  },
  {
   "cell_type": "markdown",
   "metadata": {},
   "source": [
    "# Determining set differences"
   ]
  },
  {
   "cell_type": "markdown",
   "metadata": {},
   "source": [
    "```\n",
    "empty_set = set() // an empty set\n",
    "\n",
    "empty_set =  set_1.add(set_2) // adding set items\n",
    "set_differences = set_1.difference(set_2) // differencing items from set\n",
    "```"
   ]
  }
 ],
 "metadata": {
  "language_info": {
   "name": "python"
  },
  "orig_nbformat": 4
 },
 "nbformat": 4,
 "nbformat_minor": 2
}
