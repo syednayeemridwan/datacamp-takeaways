{
 "cells": [
  {
   "cell_type": "markdown",
   "metadata": {},
   "source": [
    "# Strings to DateTimes"
   ]
  },
  {
   "cell_type": "markdown",
   "metadata": {},
   "source": [
    "```\n",
    "from datetime import datetime\n",
    "date_dt = datetime.strptime(date_str, '%m/%d/%Y') // parse into input from string to date in the specified format\n",
    "```"
   ]
  },
  {
   "cell_type": "markdown",
   "metadata": {},
   "source": [
    "# Converting to a String"
   ]
  },
  {
   "cell_type": "markdown",
   "metadata": {},
   "source": [
    "```\n",
    "print(date_val.strftime('%m/%d/%Y')) // output the date format in a specified format    \n",
    "\n",
    "print(date_val.isoformat()) // Print out the record as an ISO standard string\n",
    "```"
   ]
  },
  {
   "cell_type": "markdown",
   "metadata": {},
   "source": [
    "# Pieces of Time"
   ]
  },
  {
   "cell_type": "markdown",
   "metadata": {},
   "source": [
    "```\n",
    "total_count_dict = defaultdict(int)\n",
    "\n",
    "for entry in list:\n",
    "    date_val = datetime.strptime(entry,'%m/%d/%Y')\n",
    "    total_count_dict[date_val.month] += 1 // time attributes\n",
    "    \n",
    "# Print monthly_total_rides\n",
    "print(monthly_total_rides)\n",
    "```"
   ]
  },
  {
   "cell_type": "markdown",
   "metadata": {},
   "source": [
    "Other time attributes:\n",
    "- `date_val.day`\n",
    "- `date_val.month`\n",
    "- `date_val.hour`\n",
    "- `date_val.minute`\n",
    "- `date_val.second`\n",
    "etc"
   ]
  },
  {
   "cell_type": "markdown",
   "metadata": {},
   "source": [
    "# Creating DateTime Objects... Now"
   ]
  },
  {
   "cell_type": "markdown",
   "metadata": {},
   "source": [
    "```\n",
    "from datetime import datetime\n",
    "local_dt = datetime.now() // local time now\n",
    "\n",
    "utc_dt = datetime.utcnow() // utc time now\n",
    "```"
   ]
  },
  {
   "cell_type": "markdown",
   "metadata": {},
   "source": [
    "# Timezones"
   ]
  },
  {
   "cell_type": "markdown",
   "metadata": {},
   "source": [
    "```\n",
    "from pytz import timezone\n",
    "usa_tz = timezone('US/Central')\n",
    "\n",
    "chicago_dt = orig_dt.replace(tzinfo = usa_tz) // converting to a timezone\n",
    "```"
   ]
  },
  {
   "cell_type": "markdown",
   "metadata": {},
   "source": [
    "# Finding a time in the future and from the past"
   ]
  },
  {
   "cell_type": "markdown",
   "metadata": {},
   "source": [
    "Original way: `datetime_obj + timedelta_ob = new_datetime_obj`"
   ]
  },
  {
   "cell_type": "markdown",
   "metadata": {},
   "source": [
    "```\n",
    "from datetime import timedelta\n",
    "\n",
    "duration = timedelta(days = 30) // creating timedelta object\n",
    "past_dt = date - duration\n",
    "future_dt = date + duration\n",
    "```"
   ]
  },
  {
   "cell_type": "markdown",
   "metadata": {},
   "source": [
    "# Finding differences in DateTimes"
   ]
  },
  {
   "cell_type": "markdown",
   "metadata": {},
   "source": [
    "Original way: `datetime_obj1 - datetime_obj2  =  timedelta_obj`"
   ]
  },
  {
   "cell_type": "markdown",
   "metadata": {},
   "source": [
    "```\n",
    "timedelta_val = end_date - start_date\n",
    "```"
   ]
  },
  {
   "cell_type": "markdown",
   "metadata": {},
   "source": [
    "# Localizing time with pendulum"
   ]
  },
  {
   "cell_type": "markdown",
   "metadata": {},
   "source": [
    "```\n",
    "import pendulum\n",
    "tokyo_dt = pendulum.now('Asia/Tokyo') // time now in tokyo timezone\n",
    "\n",
    "la_dt = tokyo_dt.in_timezone('America/Los_Angeles') // converting to another timezone\n",
    "\n",
    "print( la_dt.to_iso8601_string()) //Print the ISO 8601 string of la_dt\n",
    "```"
   ]
  },
  {
   "cell_type": "markdown",
   "metadata": {},
   "source": [
    "# Humanizing Differences with Pendulum"
   ]
  },
  {
   "cell_type": "markdown",
   "metadata": {},
   "source": [
    "```\n",
    "start_dt = pendulum.parse(start_date, strict = False) // string to a pendulum date\n",
    "    \n",
    "diff_period = end_dt - start_dt // Calculate the difference \n",
    "    \n",
    "print(diff_period.in_days()) // difference in days\n",
    "```"
   ]
  }
 ],
 "metadata": {
  "language_info": {
   "name": "python"
  },
  "orig_nbformat": 4
 },
 "nbformat": 4,
 "nbformat_minor": 2
}
