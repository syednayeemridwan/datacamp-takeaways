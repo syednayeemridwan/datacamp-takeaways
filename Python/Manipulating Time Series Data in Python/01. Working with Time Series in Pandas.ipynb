{
 "cells": [
  {
   "attachments": {},
   "cell_type": "markdown",
   "metadata": {},
   "source": [
    "# Time Series"
   ]
  },
  {
   "attachments": {},
   "cell_type": "markdown",
   "metadata": {},
   "source": [
    "- Series of Time sequence as index in a dataframe\n",
    "- Period vs timestamp\n",
    "    - Period : Interval or duration\n",
    "    - Timestamp : Exact point in time"
   ]
  },
  {
   "attachments": {},
   "cell_type": "markdown",
   "metadata": {},
   "source": [
    "### Create pandas timestamp"
   ]
  },
  {
   "cell_type": "code",
   "execution_count": 3,
   "metadata": {},
   "outputs": [
    {
     "name": "stdout",
     "output_type": "stream",
     "text": [
      "2017-01-01 00:00:00\n",
      "2017-01-01 00:00:00\n"
     ]
    }
   ],
   "source": [
    "import pandas as pd # assumed imported going forward\n",
    "from datetime import datetime # To manually create dates\n",
    "time_stamp1 = pd.Timestamp(datetime(2017, 1, 1))\n",
    "time_stamp2 = pd.Timestamp('2017-01-01')\n",
    "print(time_stamp1)\n",
    "print(time_stamp2)"
   ]
  },
  {
   "attachments": {},
   "cell_type": "markdown",
   "metadata": {},
   "source": [
    "### Extract information from timestamp"
   ]
  },
  {
   "cell_type": "code",
   "execution_count": 4,
   "metadata": {},
   "outputs": [
    {
     "name": "stdout",
     "output_type": "stream",
     "text": [
      "2017\n",
      "Sunday\n"
     ]
    }
   ],
   "source": [
    "# Extract Year\n",
    "print(time_stamp1.year)\n",
    "\n",
    "# Extract Day Name\n",
    "print(time_stamp1.day_name())"
   ]
  },
  {
   "attachments": {},
   "cell_type": "markdown",
   "metadata": {},
   "source": [
    "### Working with period"
   ]
  },
  {
   "cell_type": "code",
   "execution_count": 7,
   "metadata": {},
   "outputs": [
    {
     "name": "stdout",
     "output_type": "stream",
     "text": [
      "2017-01\n",
      "2017-01-31 00:00:00\n",
      "<class 'pandas._libs.tslibs.timestamps.Timestamp'>\n",
      "2017-01\n",
      "<class 'pandas._libs.tslibs.period.Period'>\n"
     ]
    }
   ],
   "source": [
    "period = pd.Period('2017-01')\n",
    "print(period) # default: month-end\n",
    "\n",
    "daily_period = period.asfreq('D') # convert to daily\n",
    "period_to_timestamp = daily_period.to_timestamp()\n",
    "print(period_to_timestamp)\n",
    "print(type(period_to_timestamp))\n",
    "timestamp_to_period= time_stamp1.to_period('M')\n",
    "print(timestamp_to_period)\n",
    "print(type(timestamp_to_period))"
   ]
  },
  {
   "attachments": {},
   "cell_type": "markdown",
   "metadata": {},
   "source": [
    "### Arithmatics"
   ]
  },
  {
   "cell_type": "code",
   "execution_count": 12,
   "metadata": {},
   "outputs": [
    {
     "name": "stdout",
     "output_type": "stream",
     "text": [
      "2017-03\n"
     ]
    }
   ],
   "source": [
    "new_period = period + 2\n",
    "# new_timestamp = pd.Timestamp('2017-01-31', 'M') + 1\n",
    "print(new_period)\n",
    "# print(new_timestamp)"
   ]
  },
  {
   "attachments": {},
   "cell_type": "markdown",
   "metadata": {},
   "source": [
    "### Create Time sequence with timestamp"
   ]
  },
  {
   "cell_type": "code",
   "execution_count": 14,
   "metadata": {},
   "outputs": [
    {
     "name": "stdout",
     "output_type": "stream",
     "text": [
      "DatetimeIndex(['2017-01-31', '2017-02-28', '2017-03-31', '2017-04-30',\n",
      "               '2017-05-31', '2017-06-30', '2017-07-31', '2017-08-31',\n",
      "               '2017-09-30', '2017-10-31', '2017-11-30', '2017-12-31'],\n",
      "              dtype='datetime64[ns]', freq='M')\n"
     ]
    }
   ],
   "source": [
    "timestamp_index = pd.date_range(start='2017-1-1', periods=12, freq='M')\n",
    "print(timestamp_index)"
   ]
  },
  {
   "attachments": {},
   "cell_type": "markdown",
   "metadata": {},
   "source": [
    "### Create Time sequence with time period\n"
   ]
  },
  {
   "cell_type": "code",
   "execution_count": 15,
   "metadata": {},
   "outputs": [
    {
     "name": "stdout",
     "output_type": "stream",
     "text": [
      "PeriodIndex(['2017-01', '2017-02', '2017-03', '2017-04', '2017-05', '2017-06',\n",
      "             '2017-07', '2017-08', '2017-09', '2017-10', '2017-11', '2017-12'],\n",
      "            dtype='period[M]')\n"
     ]
    }
   ],
   "source": [
    "period_index = pd.date_range(start='2017-1-1', periods=12, freq='M').to_period()\n",
    "print(period_index)\n"
   ]
  },
  {
   "attachments": {},
   "cell_type": "markdown",
   "metadata": {},
   "source": [
    "## Create a time series dataframe"
   ]
  },
  {
   "cell_type": "code",
   "execution_count": 19,
   "metadata": {},
   "outputs": [
    {
     "name": "stdout",
     "output_type": "stream",
     "text": [
      "            0  1\n",
      "2017-01-31  2  1\n",
      "2017-02-28  2  0\n",
      "2017-03-31  2  1\n",
      "2017-04-30  1  0\n",
      "2017-05-31  1  1\n",
      "2017-06-30  2  1\n",
      "2017-07-31  1  2\n",
      "2017-08-31  1  4\n",
      "2017-09-30  2  3\n",
      "2017-10-31  3  1\n",
      "2017-11-30  4  4\n",
      "2017-12-31  0  3\n"
     ]
    }
   ],
   "source": [
    "import numpy as np\n",
    "data = np.random.randint(5, size=(12, 2))\n",
    "df = pd.DataFrame(data=data, index=timestamp_index)\n",
    "print(df)"
   ]
  },
  {
   "attachments": {},
   "cell_type": "markdown",
   "metadata": {},
   "source": [
    "# Time Series Transformation"
   ]
  },
  {
   "attachments": {},
   "cell_type": "markdown",
   "metadata": {},
   "source": [
    "- Make the date column into index\n",
    "    - `df.set_index('date_col', inplace=True)`\n",
    "- Parsing string dates\n",
    "    - `pd.to_datetime(df.date_col)`\n",
    "    - during data import: `df = pd.read_csv('file.csv', parse_dates=['date_col'], index_col='date_col')`\n",
    "- Slicing sub-periods\n",
    "    - `df['2015-3': '2016-2']`\n",
    "    - Use full date with `.loc[]` : `df.loc['2016-6-1', 'price']` \n",
    "- Setting and Changing frequency of index\n",
    "    - Setting frequency : `df.asfreq('D')`\n",
    "    - Upsampling : Changing frequency to increasing frequency (Newer data)\n",
    "        - eg: daily frequency to add week-end values `df.asfreq('D')`\n",
    "    - Downsampling :  Changing frequency to decreasing frequency (Aggregating data)\n",
    "        - eg : Business day frequency to get rid of week-end values `df.asfreq('B')`"
   ]
  },
  {
   "attachments": {},
   "cell_type": "markdown",
   "metadata": {},
   "source": [
    "# Plotting time series data"
   ]
  },
  {
   "cell_type": "code",
   "execution_count": 20,
   "metadata": {},
   "outputs": [],
   "source": [
    "# df.some_col.plot(title='Time series for some_col')\n",
    "# plt.tight_layout(); plt.show()"
   ]
  },
  {
   "attachments": {},
   "cell_type": "markdown",
   "metadata": {},
   "source": [
    "# Moving data back and forth"
   ]
  },
  {
   "attachments": {},
   "cell_type": "markdown",
   "metadata": {},
   "source": [
    "- Consider a  column in ascending time sequence\n",
    "- Shifting / Lead\n",
    "    - 1 period into future\n",
    "    - Pushes 1 value down in the column\n",
    "    - First value of the column becomes null\n",
    "    - Last value of the column is lost\n",
    "    - `df['shifted'] = df[\"col\"].shift(periods=1)`\n",
    "- Lag\n",
    "    - 1 period in past\n",
    "    - pulls 1 value up in the column\n",
    "    - Last value of the column becomes null\n",
    "    - First value of the column is lost\n",
    "    - `df['lagged'] = df[\"col\"].shift(periods=-1)`"
   ]
  },
  {
   "attachments": {},
   "cell_type": "markdown",
   "metadata": {},
   "source": [
    "# Calculations"
   ]
  },
  {
   "attachments": {},
   "cell_type": "markdown",
   "metadata": {},
   "source": [
    "- Percent change: \n",
    "    - `df['pct_change'] = df[\"some_col\"].pct_change().mul(100)`\n",
    "- Difference in value for two adjacent periods\n",
    "    - `df['diff'] = df[\"some_col\"].diff()`\n",
    "- Column-wise arithmatic operations:\n",
    "    - Division : `df[\"col1\"].div(df[\"col2\"])`\n",
    "    - Multiplication : `df[\"col1\"].mul(df[\"col2\"])`\n",
    "    - Subtract : `df[\"col1\"].sub(df[\"col2\"])`"
   ]
  }
 ],
 "metadata": {
  "kernelspec": {
   "display_name": "env_py",
   "language": "python",
   "name": "python3"
  },
  "language_info": {
   "codemirror_mode": {
    "name": "ipython",
    "version": 3
   },
   "file_extension": ".py",
   "mimetype": "text/x-python",
   "name": "python",
   "nbconvert_exporter": "python",
   "pygments_lexer": "ipython3",
   "version": "3.8.11"
  },
  "orig_nbformat": 4,
  "vscode": {
   "interpreter": {
    "hash": "1e949e87132dd83f1a7623eb88007e3532b03b66b77111be347aa4a383049722"
   }
  }
 },
 "nbformat": 4,
 "nbformat_minor": 2
}
