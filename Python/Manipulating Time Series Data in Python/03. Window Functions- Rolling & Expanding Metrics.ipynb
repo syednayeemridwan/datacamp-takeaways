{
 "cells": [
  {
   "attachments": {},
   "cell_type": "markdown",
   "metadata": {},
   "source": [
    "# Window Functions"
   ]
  },
  {
   "attachments": {},
   "cell_type": "markdown",
   "metadata": {},
   "source": [
    "- Windows identify sub periods of your time series\n",
    "- Calculate metrics for sub periods inside the window\n",
    "- Create a new time series resulting from the summary of the window size\n",
    "- Two types of windows:\n",
    "    - Rolling: same size, sliding \n",
    "        - specified timeframe : `r90_df = df.rolling(window='90D').mean()`\n",
    "        - specified no of rows : `r90_df = df.rolling(window=90).mean()`\n",
    "    - Expanding: Grows with time series. contain all prior values (cumulative result)\n",
    "        -  cumulative sum : `df[\"col\"].cumsum()`\n",
    "        -  cumulative product : `df[\"col\"].cumprod()`\n",
    "        -  cumulative min : `df[\"col\"].expanding().min()`\n",
    "        -  cumulative max : `df[\"col\"].expanding().max()`"
   ]
  },
  {
   "attachments": {},
   "cell_type": "markdown",
   "metadata": {},
   "source": [
    "### Custom cumulative function"
   ]
  },
  {
   "cell_type": "code",
   "execution_count": 1,
   "metadata": {},
   "outputs": [],
   "source": [
    "# def custom_cum_func(period_returns):\n",
    "#     return np.prod(period_returns + 1) - 1\n",
    "# result = df[\"col\"].rolling(360).apply(multi_period_return) "
   ]
  },
  {
   "attachments": {},
   "cell_type": "markdown",
   "metadata": {},
   "source": [
    "# Create random walk for a time series"
   ]
  },
  {
   "attachments": {},
   "cell_type": "markdown",
   "metadata": {},
   "source": [
    "- Steps\n",
    "    1. Calculate percent change (to hold the pattern for the dataset)\n",
    "    2. Drop nulls\n",
    "    3. create random walk\n",
    "    4. Make a series out of the random walk with time index\n",
    "    5. Add one with each value in the series (to help us standardize the rest of the values to compared to original dataset)\n",
    "    6. Append the first value from original dataset\n",
    "    7. Calculate cumulative product of the series"
   ]
  },
  {
   "cell_type": "code",
   "execution_count": null,
   "metadata": {},
   "outputs": [],
   "source": [
    "# from numpy.random import choice\n",
    "# fb[\"returns\"]= fb[\"price\"].pct_change()\n",
    "\n",
    "# sample = fb[\"returns\"].dropna()\n",
    "# n_obs = fb[\"returns\"].count()\n",
    "# random_walk = choice(sample, size=n_obs)\n",
    "# random_walk = pd.Series(random_walk, index=sample.index)\n",
    "\n",
    "# # Select fb start price here\n",
    "# start = fb[\"price\"].first('D')\n",
    "\n",
    "# # Add 1 to random walk and append to start\n",
    "# random_walk = random_walk.add(1)\n",
    "# random_price = start.append(random_walk)\n",
    "\n",
    "# # Calculate cumulative product here\n",
    "# random_price = random_price.cumprod()\n",
    "\n",
    "# # Insert into fb and plot\n",
    "# fb['random'] = random_price\n",
    "# fb.plot()\n",
    "\n",
    "# plt.show()"
   ]
  },
  {
   "attachments": {},
   "cell_type": "markdown",
   "metadata": {},
   "source": [
    "# Correlation between time-series"
   ]
  },
  {
   "attachments": {},
   "cell_type": "markdown",
   "metadata": {},
   "source": [
    "- Steps:\n",
    "    1. Make percent change from the data (We are interested in the value change in time sequence, not the value itself)\n",
    "    2. find correlation"
   ]
  },
  {
   "cell_type": "code",
   "execution_count": 2,
   "metadata": {},
   "outputs": [],
   "source": [
    "# daily_returns = data.pct_change()\n",
    "# sns.jointplot(x='sp500', y='nasdaq', data=data_returns);\n",
    "# correlations = returns.corr()\n",
    "# sns.heatmap(correlations, annot=True)"
   ]
  }
 ],
 "metadata": {
  "kernelspec": {
   "display_name": "base",
   "language": "python",
   "name": "python3"
  },
  "language_info": {
   "codemirror_mode": {
    "name": "ipython",
    "version": 3
   },
   "file_extension": ".py",
   "mimetype": "text/x-python",
   "name": "python",
   "nbconvert_exporter": "python",
   "pygments_lexer": "ipython3",
   "version": "3.8.3"
  },
  "orig_nbformat": 4,
  "vscode": {
   "interpreter": {
    "hash": "dc575bfddb5c8ca4bb6a4f4dcdd32abc104b5fa4177361381c432fff36ce3e46"
   }
  }
 },
 "nbformat": 4,
 "nbformat_minor": 2
}
