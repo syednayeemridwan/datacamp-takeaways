{
 "cells": [
  {
   "cell_type": "markdown",
   "metadata": {},
   "source": [
    "# Scope"
   ]
  },
  {
   "cell_type": "markdown",
   "metadata": {},
   "source": [
    "- variables are first called from local scope\n",
    "- if a variable is called which does not exist in local scope, it is called from global scope"
   ]
  },
  {
   "cell_type": "markdown",
   "metadata": {},
   "source": [
    "# The keyword global"
   ]
  },
  {
   "cell_type": "markdown",
   "metadata": {},
   "source": [
    "```\n",
    "global_var = \"This is a global variable\"\n",
    "\n",
    "def some_func():\n",
    "    global global_var // we are using global variable\n",
    "\n",
    "    global_var = \"Changing\" // changing the content of global variable\n",
    "```"
   ]
  },
  {
   "cell_type": "markdown",
   "metadata": {},
   "source": [
    "# Python's built-in scope"
   ]
  },
  {
   "cell_type": "markdown",
   "metadata": {},
   "source": [
    "```\n",
    "import builtins\n",
    "dir(builtins) // See list of built-in names\n",
    "```"
   ]
  },
  {
   "cell_type": "markdown",
   "metadata": {},
   "source": [
    "# Nested functions returning values"
   ]
  },
  {
   "cell_type": "markdown",
   "metadata": {},
   "source": [
    "- outer functions take some parameters \n",
    "- inner function has all the logics\n",
    "- outer function calls inner function to apply the logic for it's inputs.\n",
    "- the output is then returned by outer function"
   ]
  },
  {
   "cell_type": "markdown",
   "metadata": {},
   "source": [
    "```\n",
    "def outer(outer_param1, outer_param2, outer_param3):\n",
    "    \"\"\"This is the outer function.\"\"\"\n",
    "\n",
    "        def inner(inner_param):\n",
    "            \"\"\"This is the inner function.\"\"\"\n",
    "            return inner_param * 2\n",
    "\n",
    "    return (inner(outer_param1), inner(outer_param2), inner(outer_param3))\n",
    "```"
   ]
  },
  {
   "cell_type": "markdown",
   "metadata": {},
   "source": [
    "# Nested functions with Closure (Inner function remembers enclosing scope)"
   ]
  },
  {
   "cell_type": "markdown",
   "metadata": {},
   "source": [
    "- outer functions take some parameters \n",
    "- inner function has all the logics\n",
    "- inner function uses outer function parameter to apply the logic. This is the closure.\n",
    "- the outer function directly calls inner function when returning"
   ]
  },
  {
   "cell_type": "markdown",
   "metadata": {},
   "source": [
    "```\n",
    "def outer(outer_param):\n",
    "    \"\"\"This is the outer function.\"\"\"\n",
    "\n",
    "    def inner(inner_param):\n",
    "        \"\"\"This is the inner function.\"\"\"\n",
    "        result = inner_param * outer_param // outer_param is remembered inside inner function\n",
    "        return result\n",
    "\n",
    "    return inner\n",
    "```"
   ]
  },
  {
   "cell_type": "markdown",
   "metadata": {},
   "source": [
    "# The keyword `nonlocal` and nested functions"
   ]
  },
  {
   "cell_type": "markdown",
   "metadata": {},
   "source": [
    "```\n",
    "def outer(outer_param):\n",
    "    \"\"\"Outer function\"\"\"\n",
    "    \n",
    "    outer_var = outer_param\n",
    "    \n",
    "    def inner():\n",
    "        \"\"\"Inner function\"\"\"  \n",
    "        \n",
    "        nonlocal outer_var // use outer_var from outer function inside this inner function\n",
    "        \n",
    "        # Change outer_local to outer_local concatenated with '!!!'\n",
    "        outer_var = outer_var + '!!!'\n",
    "    \n",
    "    inner()\n",
    "    \n",
    "```"
   ]
  },
  {
   "cell_type": "markdown",
   "metadata": {},
   "source": [
    "# Functions with one default argument"
   ]
  },
  {
   "cell_type": "markdown",
   "metadata": {},
   "source": [
    "```\n",
    "def some_func(required_param, default_param = 1):\n",
    "    result = required_param * default_param\n",
    "\n",
    "    return result\n",
    "\n",
    "result_without_default = some_func(3,2) // 3 X 2 = 6\n",
    "\n",
    "result_with_default = some_func(3) // 3 X 1 = 3\n",
    "```"
   ]
  },
  {
   "cell_type": "markdown",
   "metadata": {},
   "source": [
    "# Functions with multiple default arguments"
   ]
  },
  {
   "cell_type": "markdown",
   "metadata": {},
   "source": [
    "```\n",
    "def some_func(required_param, default_param1 = 1, default_param2 = False):\n",
    "    if default_param2:\n",
    "        result = required_param * default_param\n",
    "    else:\n",
    "        result = \"Default 2 is not provided\"\n",
    "    return result\n",
    "\n",
    "result_without_default = some_func(3,2,True) // 3 X 2 = 6\n",
    "\n",
    "result_with_default = some_func(3) // \"Default 2 is not provided\"\n",
    "```"
   ]
  },
  {
   "cell_type": "markdown",
   "metadata": {},
   "source": [
    "# Functions with variable-length arguments (*args)"
   ]
  },
  {
   "cell_type": "markdown",
   "metadata": {},
   "source": [
    "```\n",
    "def func_name(*args): // any number of parameters inside func_name will be considered as memebers of a tuple\n",
    "\n",
    "    sum = 0;\n",
    "    for element in args:\n",
    "        sum += element\n",
    "\n",
    "    return sum\n",
    "\n",
    "one_sum = func_name(2)\n",
    "two_sum = func_name(2,4)\n",
    "```"
   ]
  },
  {
   "cell_type": "markdown",
   "metadata": {},
   "source": [
    "# Functions with variable-length keyword arguments (**kwargs)"
   ]
  },
  {
   "cell_type": "markdown",
   "metadata": {},
   "source": [
    "```\n",
    "def func_name(**kwargs): // any number of parameters inside func_name will be considered as memebers of a dictionary\n",
    "\n",
    "    for key, value in kwargs.items():\n",
    "        print(key + \": \" + value)\n",
    "\n",
    "\n",
    "func_name(name=\"luke\", affiliation=\"jedi\" , status=\"missing\")\n",
    "func_name(name=\"abir\", affiliation=\"none\")\n",
    "```"
   ]
  }
 ],
 "metadata": {
  "language_info": {
   "name": "python"
  },
  "orig_nbformat": 4
 },
 "nbformat": 4,
 "nbformat_minor": 2
}
