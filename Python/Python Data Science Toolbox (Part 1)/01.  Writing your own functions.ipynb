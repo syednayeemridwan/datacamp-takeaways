{
 "cells": [
  {
   "cell_type": "markdown",
   "metadata": {},
   "source": [
    "# Parameters and Arguments "
   ]
  },
  {
   "cell_type": "markdown",
   "metadata": {},
   "source": [
    "- parameters = When you define function, you write them inside function header\n",
    "- arguments = When you call function, you pass them inside function"
   ]
  },
  {
   "cell_type": "markdown",
   "metadata": {},
   "source": [
    "# Strings in Python"
   ]
  },
  {
   "cell_type": "markdown",
   "metadata": {},
   "source": [
    "- `+` operator concatenates strings \n",
    "- `*` concatenates multiple copies of a string  "
   ]
  },
  {
   "cell_type": "markdown",
   "metadata": {},
   "source": [
    "# Recapping built-in functions"
   ]
  },
  {
   "cell_type": "markdown",
   "metadata": {},
   "source": [
    "```\n",
    "print(type(var_name)) // finds the type of a variable\n",
    "```"
   ]
  },
  {
   "cell_type": "markdown",
   "metadata": {},
   "source": [
    "# Write a simple function"
   ]
  },
  {
   "cell_type": "markdown",
   "metadata": {},
   "source": [
    "```\n",
    "def func_name():\n",
    "    \"\"\"DOCSTRING\"\"\"\n",
    "    \n",
    "    // todo...\n",
    "\n",
    "func_name()\n",
    "\n",
    "```"
   ]
  },
  {
   "cell_type": "markdown",
   "metadata": {},
   "source": [
    "# Single-parameter functions"
   ]
  },
  {
   "cell_type": "markdown",
   "metadata": {},
   "source": [
    "The part of the header that specifies the function name and parameter(s), is known as the signature of the function. "
   ]
  },
  {
   "cell_type": "markdown",
   "metadata": {},
   "source": [
    "```\n",
    "def func_name(param):\n",
    "\n",
    "    x = param + y // or something like that\n",
    "    // to do ...\n",
    "\n",
    "func_name('Done')\n",
    "```"
   ]
  },
  {
   "cell_type": "markdown",
   "metadata": {},
   "source": [
    "# Functions that return single values"
   ]
  },
  {
   "cell_type": "markdown",
   "metadata": {},
   "source": [
    "```\n",
    "def func_name(param):\n",
    "\n",
    "    x = param + y // or something like that\n",
    "\n",
    "    return x\n",
    "\n",
    "result = func_name('Done') // output of return functions can be stored inside variable\n",
    "```"
   ]
  },
  {
   "cell_type": "markdown",
   "metadata": {},
   "source": [
    "# Functions with multiple parameters"
   ]
  },
  {
   "cell_type": "markdown",
   "metadata": {},
   "source": [
    "```\n",
    "def func_name(param1, param2):\n",
    "\n",
    "    x = param1 + param2 // or something like that\n",
    "\n",
    "    return x\n",
    "\n",
    "result = func_name(1,2) // output of return functions can be stored inside variable\n",
    "```"
   ]
  },
  {
   "cell_type": "markdown",
   "metadata": {},
   "source": [
    "# A brief introduction to tuples"
   ]
  },
  {
   "cell_type": "markdown",
   "metadata": {},
   "source": [
    "```\n",
    "nums = (2, 4, 6) // constructing tuple\n",
    "\n",
    "num1, num2, num3 = nums // unpacking tuple\n",
    "\n",
    "```"
   ]
  },
  {
   "cell_type": "markdown",
   "metadata": {},
   "source": [
    "# Functions that return multiple values"
   ]
  },
  {
   "cell_type": "markdown",
   "metadata": {},
   "source": [
    "When returning multiple values from function, you need to return the values inside tuples from the function."
   ]
  },
  {
   "cell_type": "markdown",
   "metadata": {},
   "source": [
    "```\n",
    "def func_name(param1, param2):\n",
    "\n",
    "    x = param1 + param2 // or something like that\n",
    "    y = param1 - param2 // or something like that\n",
    "    \n",
    "    return x,y\n",
    "\n",
    "result1, result2 = func_name(1, 2)\n",
    "```"
   ]
  },
  {
   "cell_type": "markdown",
   "metadata": {},
   "source": [
    "# Building up a dictionary"
   ]
  },
  {
   "cell_type": "markdown",
   "metadata": {},
   "source": [
    "```\n",
    "empty_dict = {}\n",
    "\n",
    "some_list=[1,2,3]\n",
    "\n",
    "for item in some_list:\n",
    "    if item in empty_dict.keeys():\n",
    "        empty_dict[item] = empty_dict[item] + 1 // add 1 to total item count\n",
    "    else:\n",
    "        empty_dict[item] = 1     // new item found that did not exist before. So new key's count is 1 \n",
    "```"
   ]
  }
 ],
 "metadata": {
  "kernelspec": {
   "display_name": "Python 3.8.3 ('base')",
   "language": "python",
   "name": "python3"
  },
  "language_info": {
   "name": "python",
   "version": "3.8.3"
  },
  "orig_nbformat": 4,
  "vscode": {
   "interpreter": {
    "hash": "dc575bfddb5c8ca4bb6a4f4dcdd32abc104b5fa4177361381c432fff36ce3e46"
   }
  }
 },
 "nbformat": 4,
 "nbformat_minor": 2
}
