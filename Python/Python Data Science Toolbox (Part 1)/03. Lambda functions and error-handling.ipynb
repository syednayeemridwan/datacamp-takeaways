{
 "cells": [
  {
   "cell_type": "markdown",
   "metadata": {},
   "source": [
    "# Lambda Function"
   ]
  },
  {
   "cell_type": "markdown",
   "metadata": {},
   "source": [
    "- Left side of `:` defines the parameters\n",
    "- Right side of `:` defines the return logic"
   ]
  },
  {
   "cell_type": "markdown",
   "metadata": {},
   "source": [
    "```\n",
    "func_name = (lambda param1,param2 : param1 + param2) // defining lamda function\n",
    "\n",
    "func_name(1,2) // calling lambda function\n",
    "```"
   ]
  },
  {
   "cell_type": "markdown",
   "metadata": {},
   "source": [
    "# Writing a lambda function you already know"
   ]
  },
  {
   "cell_type": "markdown",
   "metadata": {},
   "source": [
    "Original Function\n",
    "\n",
    "```\n",
    "def echo_word(word1, echo):\n",
    "    \"\"\"Concatenate echo copies of word1.\"\"\"\n",
    "    words = word1 * echo\n",
    "    return words\n",
    "```\n",
    "\n",
    "Lambda Equivalent Function\n",
    "\n",
    "`echo_word = (lambda word1, echo : word1 * echo)`\n"
   ]
  },
  {
   "cell_type": "markdown",
   "metadata": {},
   "source": [
    "# `Map()` and lambda functions"
   ]
  },
  {
   "cell_type": "markdown",
   "metadata": {},
   "source": [
    "The real syntax is:\n",
    "\n",
    "\n",
    "`mapped_obj = map(lambda_definition, object_to_map)`"
   ]
  },
  {
   "cell_type": "markdown",
   "metadata": {},
   "source": [
    "It offers element-wise transformation of object"
   ]
  },
  {
   "cell_type": "markdown",
   "metadata": {},
   "source": [
    "```\n",
    "some_list = [1,2,3]\n",
    "\n",
    "new_list = map(lambda item: item * 2 , some_list)\n",
    "```"
   ]
  },
  {
   "cell_type": "markdown",
   "metadata": {},
   "source": [
    "# `Filter()` and lambda functions"
   ]
  },
  {
   "cell_type": "markdown",
   "metadata": {},
   "source": [
    "The real syntax is:\n",
    "\n",
    "\n",
    "`filtered_obj = filter(lambda_definition_that_gives_true_or_false, object_to_filter)`"
   ]
  },
  {
   "cell_type": "markdown",
   "metadata": {},
   "source": [
    "It offers elementwise true-false of object and them pick only the trues"
   ]
  },
  {
   "cell_type": "markdown",
   "metadata": {},
   "source": [
    "```\n",
    "fellowship = ['frodo', 'samwise', 'merry', 'pippin', 'aragorn', 'boromir', 'legolas', 'gimli', 'gandalf']\n",
    "\n",
    "result = filter(lambda member : len(member) > 6 , fellowship)\n",
    "\n",
    "result_list = list(result)\n",
    "```"
   ]
  },
  {
   "cell_type": "markdown",
   "metadata": {},
   "source": [
    "# `Reduce()` and lambda functions"
   ]
  },
  {
   "cell_type": "markdown",
   "metadata": {},
   "source": [
    "The real syntax is:\n",
    "\n",
    "\n",
    "`reduced_obj = reduce(lambda_definition_that_combines_two_elements, some_list)`"
   ]
  },
  {
   "cell_type": "markdown",
   "metadata": {},
   "source": [
    "It offers a reduced to a single result for lists"
   ]
  },
  {
   "cell_type": "markdown",
   "metadata": {},
   "source": [
    "```\n",
    "from functools import reduce\n",
    "\n",
    "big_list = ['a', 'b', 'c', 'd', 'e']\n",
    "\n",
    "reduced_result = reduce(lambda item1 , item2: item1 + item2, big_list) \n",
    "\n",
    "print(reduced_result) // abcde will be the output\n",
    "```"
   ]
  },
  {
   "cell_type": "markdown",
   "metadata": {},
   "source": [
    "# Errors"
   ]
  },
  {
   "cell_type": "markdown",
   "metadata": {},
   "source": [
    "when functions are supplied arguments that they are unable to work with, the implementation raises and error."
   ]
  },
  {
   "cell_type": "markdown",
   "metadata": {},
   "source": [
    "# Error handling with `try-except`"
   ]
  },
  {
   "cell_type": "markdown",
   "metadata": {},
   "source": [
    "```\n",
    "def some_func(param):\n",
    "    try:\n",
    "        // implementation of function\n",
    "    except:\n",
    "        // implementation of codes that will be executed if there is any error\n",
    "        // normally a print message\n",
    "        raise Exception(\"Something is wrong\")\n",
    "```"
   ]
  },
  {
   "cell_type": "markdown",
   "metadata": {},
   "source": [
    "# Error handling by raising an error"
   ]
  },
  {
   "cell_type": "markdown",
   "metadata": {},
   "source": [
    "```\n",
    "def some_func(param):\n",
    "\n",
    "    if param < 0:\n",
    "        raise ValueError('param must be greater than or equal to 0')\n",
    "    elif param == 0:\n",
    "        raise Exception('provide a greater number)\n",
    "    result = 1/param\n",
    "    return result\n",
    "```"
   ]
  }
 ],
 "metadata": {
  "language_info": {
   "name": "python"
  },
  "orig_nbformat": 4
 },
 "nbformat": 4,
 "nbformat_minor": 2
}
