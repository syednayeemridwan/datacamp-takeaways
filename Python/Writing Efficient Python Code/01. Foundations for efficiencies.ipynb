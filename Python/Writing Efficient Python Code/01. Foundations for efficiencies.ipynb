{
 "cells": [
  {
   "cell_type": "markdown",
   "metadata": {},
   "source": [
    "# Pop quiz: what is efficient"
   ]
  },
  {
   "cell_type": "markdown",
   "metadata": {},
   "source": [
    "- fast execution\n",
    "- less memory footprint\n",
    "- pythonic (coding principles)"
   ]
  },
  {
   "cell_type": "markdown",
   "metadata": {},
   "source": [
    "# A taste of things to come"
   ]
  },
  {
   "cell_type": "markdown",
   "metadata": {},
   "source": [
    "Non-pythonic approach"
   ]
  },
  {
   "cell_type": "markdown",
   "metadata": {},
   "source": [
    "```\n",
    "i = 0\n",
    "new_list= []\n",
    "while i < len(some_list):\n",
    "    if len(some_list[i]) >= 6:\n",
    "        new_list.append(some_list[i])\n",
    "    i += 1\n",
    "print(new_list)\n",
    "```"
   ]
  },
  {
   "cell_type": "markdown",
   "metadata": {},
   "source": [
    "More-pythonic approach"
   ]
  },
  {
   "cell_type": "markdown",
   "metadata": {},
   "source": [
    "```\n",
    "better_list = []\n",
    "for item in some_list:\n",
    "    if len(item) >= 6:\n",
    "        better_list.append(item)\n",
    "print(better_list)\n",
    "```"
   ]
  },
  {
   "cell_type": "markdown",
   "metadata": {},
   "source": [
    "Best pythonic approach"
   ]
  },
  {
   "cell_type": "markdown",
   "metadata": {},
   "source": [
    "```\n",
    "best_list = [item for item in some_list if len(item) >= 6]\n",
    "print(best_list)\n",
    "```"
   ]
  },
  {
   "cell_type": "markdown",
   "metadata": {},
   "source": [
    "# Zen of Python"
   ]
  },
  {
   "cell_type": "markdown",
   "metadata": {},
   "source": [
    "`import this // see the zen of python in details`"
   ]
  },
  {
   "cell_type": "markdown",
   "metadata": {},
   "source": [
    "# Built-in practice: range()"
   ]
  },
  {
   "cell_type": "markdown",
   "metadata": {},
   "source": [
    "```\n",
    "nums = range(6) // creating a sequence\n",
    "\n",
    "nums_list = list(nums) // using list conversion to create list of sequence\n",
    "\n",
    "nums_list2 = [*range(1,13,2)] // using unpacking and list comprehension to create list of sequence\n",
    "```"
   ]
  },
  {
   "cell_type": "markdown",
   "metadata": {},
   "source": [
    "# Built-in practice: enumerate()"
   ]
  },
  {
   "cell_type": "markdown",
   "metadata": {},
   "source": [
    "```\n",
    "some_list = []\n",
    "for i,item in enumerate(other_list):\n",
    "    indexed_pair = (i,item)\n",
    "    some_list.append(indexed_pair) \n",
    "\n",
    "some_list = [(i,item) for i,item in enumerate(other_list)] // using list comprehension\n",
    "\n",
    "# Unpack an enumerate object with a starting index of one\n",
    "some_list = [*enumerate(other_list, start=1)] // using unpacking and list comprehension to create list of sequence\n",
    "```"
   ]
  },
  {
   "cell_type": "markdown",
   "metadata": {},
   "source": [
    "# Built-in practice: map()"
   ]
  },
  {
   "cell_type": "markdown",
   "metadata": {},
   "source": [
    "```\n",
    "mapped_obj  = map(func_name_or_lambda, obj_to_map) // element-wise mapping of an object\n",
    "\n",
    "mapped_list = [*mapped_obj] // unpacking the mapped objects in a list\n",
    "```"
   ]
  },
  {
   "cell_type": "markdown",
   "metadata": {},
   "source": [
    "# Practice with NumPy arrays"
   ]
  },
  {
   "cell_type": "markdown",
   "metadata": {},
   "source": [
    "Numpy allows:\n",
    "- homogeneity\n",
    "- broadcasting.\n",
    "- single bracket subsetting/ element accessing"
   ]
  },
  {
   "cell_type": "markdown",
   "metadata": {},
   "source": [
    "```\n",
    "print(numpy_array[1,:]) // Access second row all columns\n",
    "\n",
    "print(numpy_array[numpy_array > 6]) // Subsetting \n",
    "\n",
    "numpy_array_dbl = numpy_array * 2 // broadcasting or same operation on all members of the array\n",
    "\n",
    "numpy_array[:,2] = numpy_array[:,2] + 1 // modifying content of a specific index\n",
    "```"
   ]
  }
 ],
 "metadata": {
  "kernelspec": {
   "display_name": "Python 3.8.11 ('env_py')",
   "language": "python",
   "name": "python3"
  },
  "language_info": {
   "name": "python",
   "version": "3.8.11"
  },
  "orig_nbformat": 4,
  "vscode": {
   "interpreter": {
    "hash": "1e949e87132dd83f1a7623eb88007e3532b03b66b77111be347aa4a383049722"
   }
  }
 },
 "nbformat": 4,
 "nbformat_minor": 2
}
