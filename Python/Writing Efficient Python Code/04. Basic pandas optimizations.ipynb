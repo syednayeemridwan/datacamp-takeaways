{
 "cells": [
  {
   "cell_type": "markdown",
   "metadata": {},
   "source": [
    "# Iterating with .iloc()"
   ]
  },
  {
   "cell_type": "markdown",
   "metadata": {},
   "source": [
    "```\n",
    "for i in range(len(df)):\n",
    "    row = df.iloc[i] // access row of a dataframe\n",
    "```"
   ]
  },
  {
   "cell_type": "markdown",
   "metadata": {},
   "source": [
    "# Iterating with .iterrows()"
   ]
  },
  {
   "cell_type": "markdown",
   "metadata": {},
   "source": [
    "When iterating, use `.iterrows()` instead of `.iloc()`"
   ]
  },
  {
   "cell_type": "markdown",
   "metadata": {},
   "source": [
    "```\n",
    "for i,row in df.iterrows():\n",
    "    print(i) // this is an index\n",
    "    print(row) // this is a series\n",
    "```"
   ]
  },
  {
   "cell_type": "markdown",
   "metadata": {},
   "source": [
    "# Iterating with .itertuples()"
   ]
  },
  {
   "cell_type": "markdown",
   "metadata": {},
   "source": [
    "`.itertuples()` is faster than `iterrows()` because it returns rows as named-tuples that can be accessed with attributes"
   ]
  },
  {
   "cell_type": "markdown",
   "metadata": {},
   "source": [
    "```\n",
    "for row in df.itertuples():\n",
    "  i = row.Index // index column\n",
    "  val_1 = row.Col_1 // accessing named-tuples with attributes\n",
    "  val_2 = row.Col_2\n",
    "```"
   ]
  },
  {
   "cell_type": "markdown",
   "metadata": {},
   "source": [
    "# Iterating with .apply()"
   ]
  },
  {
   "cell_type": "markdown",
   "metadata": {},
   "source": [
    "When using lambda functions with `.apply()`, it evaluates elementwise operation for each row/column"
   ]
  },
  {
   "cell_type": "markdown",
   "metadata": {},
   "source": [
    "```\n",
    "df.apply(func_name_or_lambda, axis=0) // 0 results in row and 1 results in column\n",
    "\n",
    "df.apply(lambda row: some_funct(row['Col_name']), axis=1) // using lambda with apply\n",
    "df.apply(sum, axis=1)  // using built-in function with apply\n",
    "\n",
    "```"
   ]
  },
  {
   "cell_type": "markdown",
   "metadata": {},
   "source": [
    "# Replacing .iloc with underlying arrays"
   ]
  },
  {
   "cell_type": "markdown",
   "metadata": {},
   "source": [
    "- Broadcasting = Vectorizing\n",
    "- Pandas dataframe's columns can be taken in form of numpy arrays in order to use vectorizing operations"
   ]
  },
  {
   "cell_type": "markdown",
   "metadata": {},
   "source": [
    "```\n",
    "col_array = df[\"Some_col\"] // the column is now in numpy array\n",
    "df['Col_3'] = df['Col_1'].values- df['Col_2'].values // vector calculations with numpy\n",
    "```"
   ]
  }
 ],
 "metadata": {
  "kernelspec": {
   "display_name": "Python 3.8.3 ('base')",
   "language": "python",
   "name": "python3"
  },
  "language_info": {
   "name": "python",
   "version": "3.8.3"
  },
  "orig_nbformat": 4,
  "vscode": {
   "interpreter": {
    "hash": "dc575bfddb5c8ca4bb6a4f4dcdd32abc104b5fa4177361381c432fff36ce3e46"
   }
  }
 },
 "nbformat": 4,
 "nbformat_minor": 2
}
