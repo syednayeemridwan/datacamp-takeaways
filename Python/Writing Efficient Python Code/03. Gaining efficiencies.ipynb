{
 "cells": [
  {
   "cell_type": "markdown",
   "metadata": {},
   "source": [
    "# Combining"
   ]
  },
  {
   "cell_type": "markdown",
   "metadata": {},
   "source": [
    "`zip(list_1,list_2)`"
   ]
  },
  {
   "cell_type": "markdown",
   "metadata": {},
   "source": [
    "# Counting from a sample"
   ]
  },
  {
   "cell_type": "markdown",
   "metadata": {},
   "source": [
    "```\n",
    "from collections import Counter\n",
    "Counter(list_obj)\n",
    "```"
   ]
  },
  {
   "cell_type": "markdown",
   "metadata": {},
   "source": [
    "# Combinations"
   ]
  },
  {
   "cell_type": "markdown",
   "metadata": {},
   "source": [
    "```\n",
    "from itertools import combinations\n",
    "\n",
    "combos_obj = combinations(obj_name, 2) // create a combination of 2 values\n",
    "print(type(combos_obj), '\\n')\n",
    "\n",
    "combos_2 = [*combos_obj] // Convert combos_obj to a list by unpacking\n",
    "print(combos_2, '\\n')\n",
    "```"
   ]
  },
  {
   "cell_type": "markdown",
   "metadata": {},
   "source": [
    "# Comparing "
   ]
  },
  {
   "cell_type": "markdown",
   "metadata": {},
   "source": [
    "```\n",
    "set_1 = set(list_1)\n",
    "set_2 = set(list_2)\n",
    "\n",
    "both = set_1.intersection(set_2) // elements that exist in both sets\n",
    "only_in_set_1 = set_1.difference(set_2) // elements that exist in only set_1\n",
    "\n",
    "unique_to_set = set_1.symmetric_difference(set_2) // elements that belong to either of the set but not both\n",
    "```"
   ]
  },
  {
   "cell_type": "markdown",
   "metadata": {},
   "source": [
    "# Check items in a set"
   ]
  },
  {
   "cell_type": "markdown",
   "metadata": {},
   "source": [
    "```\n",
    "element in set_name // checks if element is a member of the set\n",
    "```"
   ]
  },
  {
   "cell_type": "markdown",
   "metadata": {},
   "source": [
    "# Gathering unique elements"
   ]
  },
  {
   "cell_type": "markdown",
   "metadata": {},
   "source": [
    "`set(list_containing_duplicates)`"
   ]
  },
  {
   "cell_type": "markdown",
   "metadata": {},
   "source": [
    "# Sorting Set"
   ]
  },
  {
   "cell_type": "markdown",
   "metadata": {},
   "source": [
    "`sorted(set_name)`"
   ]
  },
  {
   "cell_type": "markdown",
   "metadata": {},
   "source": [
    "# Eliminating Loop"
   ]
  },
  {
   "cell_type": "markdown",
   "metadata": {},
   "source": [
    "- use list comprehension\n",
    "- built-in functions (`np.sum` etc.)"
   ]
  },
  {
   "cell_type": "markdown",
   "metadata": {},
   "source": [
    "# One-time calculation loop"
   ]
  },
  {
   "cell_type": "markdown",
   "metadata": {},
   "source": [
    "There are times when looping cannot be avoided. In those cases, we need to keep constant calculations outside of the loop. Constant calculations are calculations that evaluate same result in every iteration."
   ]
  },
  {
   "cell_type": "markdown",
   "metadata": {},
   "source": [
    "```\n",
    "total_count = len(some_list) // keep it outside of loop\n",
    "sum_val = sum(some_list) // keep it outside of loop\n",
    "```"
   ]
  },
  {
   "cell_type": "markdown",
   "metadata": {},
   "source": [
    "# Holistic conversion loop"
   ]
  },
  {
   "cell_type": "markdown",
   "metadata": {},
   "source": [
    "While converting data-types, do conversion outside of loop with:\n",
    "- `map`\n",
    "- `filter`\n",
    "- `reduce`"
   ]
  }
 ],
 "metadata": {
  "kernelspec": {
   "display_name": "Python 3.8.3 ('base')",
   "language": "python",
   "name": "python3"
  },
  "language_info": {
   "name": "python",
   "version": "3.8.3"
  },
  "orig_nbformat": 4,
  "vscode": {
   "interpreter": {
    "hash": "dc575bfddb5c8ca4bb6a4f4dcdd32abc104b5fa4177361381c432fff36ce3e46"
   }
  }
 },
 "nbformat": 4,
 "nbformat_minor": 2
}
