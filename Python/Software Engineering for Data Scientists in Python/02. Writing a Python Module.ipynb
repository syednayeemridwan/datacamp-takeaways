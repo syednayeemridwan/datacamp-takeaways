{
 "cells": [
  {
   "cell_type": "markdown",
   "metadata": {},
   "source": [
    "# A package structure"
   ]
  },
  {
   "cell_type": "markdown",
   "metadata": {},
   "source": [
    "A package must have `__init__.py` which will make it a package"
   ]
  },
  {
   "cell_type": "markdown",
   "metadata": {},
   "source": [
    "```\n",
    "working_directory\n",
    "├── project.py\n",
    "├── setup.py\n",
    "├── requirements.txt\n",
    "├── package_name\n",
    "│             └── __init__.py\n",
    "│             └── some_submodule.py\n",
    "│             └── some_submodule2.py\n",
    "│             └── some_submodule3.py\n",
    "│             └── sub_package1\n",
    "│                           └── __init__.py\n",
    "│                           └── subpackage_module1.py\n",
    "│                           └── subpackage_module2.py\n",
    "```"
   ]
  },
  {
   "cell_type": "markdown",
   "metadata": {},
   "source": [
    "### Inside `working_directory/package_name/some_submodule.py`"
   ]
  },
  {
   "cell_type": "markdown",
   "metadata": {},
   "source": [
    "```\n",
    "def some_func(params):\n",
    "    .....\n",
    "```"
   ]
  },
  {
   "cell_type": "markdown",
   "metadata": {},
   "source": [
    "### Inside `working_directory/project.py`"
   ]
  },
  {
   "cell_type": "markdown",
   "metadata": {},
   "source": [
    "When `__init__.py` is empty"
   ]
  },
  {
   "cell_type": "markdown",
   "metadata": {},
   "source": [
    "```\n",
    "import package_name.some_submodule\n",
    "\n",
    "package_name.some_submodule.some_func(param=val)\n",
    "```"
   ]
  },
  {
   "cell_type": "markdown",
   "metadata": {},
   "source": [
    "### Inside `working_directory/package_name/__init__.py`"
   ]
  },
  {
   "cell_type": "markdown",
   "metadata": {},
   "source": [
    "`from .some_submodule import some_func`"
   ]
  },
  {
   "cell_type": "markdown",
   "metadata": {},
   "source": [
    "### Inside `working_directory/project.py`"
   ]
  },
  {
   "cell_type": "markdown",
   "metadata": {},
   "source": [
    "After importing submodule inside `__init__.py`, we no longer need submodule name in outside. We can directly use functions from `package_name`s"
   ]
  },
  {
   "cell_type": "markdown",
   "metadata": {},
   "source": [
    "```\n",
    "import package_name\n",
    "\n",
    "package_name.some_func(param=val)\n",
    "```"
   ]
  },
  {
   "cell_type": "markdown",
   "metadata": {},
   "source": [
    "# Importing a local package"
   ]
  },
  {
   "cell_type": "markdown",
   "metadata": {},
   "source": [
    "`import package_name`"
   ]
  },
  {
   "cell_type": "markdown",
   "metadata": {},
   "source": [
    "# Get Information about the package"
   ]
  },
  {
   "cell_type": "markdown",
   "metadata": {},
   "source": [
    "`help(package_name)`"
   ]
  },
  {
   "cell_type": "markdown",
   "metadata": {},
   "source": [
    "# Making a package portable"
   ]
  },
  {
   "cell_type": "markdown",
   "metadata": {},
   "source": [
    "With 2 files at the same directory as `package_name`:\n",
    "```\n",
    "├── setup.py\n",
    "├── requirements.txt\n",
    "├── package_name\n",
    "```"
   ]
  },
  {
   "cell_type": "markdown",
   "metadata": {},
   "source": [
    "# Contents of `requirements.txt`"
   ]
  },
  {
   "cell_type": "markdown",
   "metadata": {},
   "source": [
    "```\n",
    "# Needed packages/versions\n",
    "package_name==x.y.z\n",
    "numpy==1.15.4\n",
    "pycodestyle>=2.4.0\n",
    "```"
   ]
  },
  {
   "cell_type": "markdown",
   "metadata": {},
   "source": [
    "# Installing the `requirements.txt`"
   ]
  },
  {
   "cell_type": "markdown",
   "metadata": {},
   "source": [
    "In terminal :\n",
    "`pip install -r requirements.txt`"
   ]
  },
  {
   "cell_type": "markdown",
   "metadata": {},
   "source": [
    "# Contents of `setup.py`"
   ]
  },
  {
   "cell_type": "markdown",
   "metadata": {},
   "source": [
    "```\n",
    "from setuptools import setup\n",
    "\n",
    "setup(name='package_name',\n",
    "version='0.0.1',\n",
    "description='An example package.',\n",
    "author='Abir',\n",
    "author_email='nsu.snr@gmail.com',\n",
    "packages=['package_name'],\n",
    "install_requires=['matplotlib',\n",
    "'numpy==1.15.4',\n",
    "'pycodestyle>=2.4.0'])\n",
    "```"
   ]
  },
  {
   "cell_type": "markdown",
   "metadata": {},
   "source": [
    "# Installing your package"
   ]
  },
  {
   "cell_type": "markdown",
   "metadata": {},
   "source": [
    "Inside `working_directory` terminal: `pip install .`"
   ]
  },
  {
   "cell_type": "markdown",
   "metadata": {},
   "source": [
    "# `install_requires` vs `requirements.txt` "
   ]
  },
  {
   "cell_type": "markdown",
   "metadata": {},
   "source": [
    "- `install_requires` = Defines the  dependencies for a single project. minimal.  automatically analyzed by pip.\n",
    "- `requirements.txt ` = Defines the requirements for a complete Python environment. complete exhaustive list.  user specifically installs them."
   ]
  }
 ],
 "metadata": {
  "kernelspec": {
   "display_name": "Python 3.8.11 ('env_py')",
   "language": "python",
   "name": "python3"
  },
  "language_info": {
   "name": "python",
   "version": "3.8.11"
  },
  "orig_nbformat": 4,
  "vscode": {
   "interpreter": {
    "hash": "1e949e87132dd83f1a7623eb88007e3532b03b66b77111be347aa4a383049722"
   }
  }
 },
 "nbformat": 4,
 "nbformat_minor": 2
}
