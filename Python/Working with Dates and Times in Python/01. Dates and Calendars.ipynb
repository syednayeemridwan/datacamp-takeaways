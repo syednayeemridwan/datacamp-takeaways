{
 "cells": [
  {
   "cell_type": "markdown",
   "metadata": {},
   "source": [
    "# Which day of the week?"
   ]
  },
  {
   "cell_type": "markdown",
   "metadata": {},
   "source": [
    "```\n",
    "from datetime import date\n",
    "\n",
    "date_val = date(year, month, day) // always this format- largest to smallest\n",
    "\n",
    "print(hurricane_andrew.weekday()) // day of the week\n",
    "```"
   ]
  },
  {
   "cell_type": "markdown",
   "metadata": {},
   "source": [
    "# Day, Month, Year"
   ]
  },
  {
   "cell_type": "markdown",
   "metadata": {},
   "source": [
    "```\n",
    "date_val.year  // year\n",
    "date_val.month // month\n",
    "date_val.day // day\n",
    "```"
   ]
  },
  {
   "cell_type": "markdown",
   "metadata": {},
   "source": [
    "# Subtracting dates"
   ]
  },
  {
   "cell_type": "markdown",
   "metadata": {},
   "source": [
    "```\n",
    "from datetime import date\n",
    "start = date(2007, 5, 9)\n",
    "end = date(2007, 12, 13)\n",
    "print((end - start).days)\n",
    "```"
   ]
  },
  {
   "cell_type": "markdown",
   "metadata": {},
   "source": [
    "# Math with dates"
   ]
  },
  {
   "cell_type": "markdown",
   "metadata": {},
   "source": [
    "```\n",
    "td = timedelta(days=29)\n",
    "\n",
    "date_2 = date_1 + td\n",
    "```"
   ]
  },
  {
   "cell_type": "markdown",
   "metadata": {},
   "source": [
    "# Counting events per calendar month"
   ]
  },
  {
   "cell_type": "markdown",
   "metadata": {},
   "source": [
    "```\n",
    "event_freq_in_month = {1: 0, 2: 0, 3: 0, 4: 0, 5: 0, 6:0,\n",
    "\t\t  \t\t\t\t 7: 0, 8:0, 9:0, 10:0, 11:0, 12:0}\n",
    "\n",
    "for date in list_of_dates:\n",
    "  month = date.month\n",
    "  # Increment the count in your dictionary by one\n",
    "  event_freq_in_month[month] += 1\n",
    "```"
   ]
  },
  {
   "cell_type": "markdown",
   "metadata": {},
   "source": [
    "# Putting a list of dates in order"
   ]
  },
  {
   "cell_type": "markdown",
   "metadata": {},
   "source": [
    "```\n",
    "dates_ordered = sorted(dates_scrambled_list)\n",
    "```"
   ]
  },
  {
   "cell_type": "markdown",
   "metadata": {},
   "source": [
    "# Printing dates in a friendly format"
   ]
  },
  {
   "cell_type": "markdown",
   "metadata": {},
   "source": [
    "```\n",
    "some_date = min(date_list)\n",
    "\n",
    "iso = some_date.isoformat() // ISO Format\n",
    "us = some_date.strftime(\"%m/%d/%Y\") // Custom Format\n",
    "```"
   ]
  },
  {
   "cell_type": "markdown",
   "metadata": {},
   "source": [
    "# Representing dates in different ways"
   ]
  },
  {
   "cell_type": "markdown",
   "metadata": {},
   "source": [
    "```\n",
    "print(some_time.strftime('%Y-%m')) // 'YYYY-MM'\n",
    "print(some_time.strftime('%B (%Y)')) // 'MONTH (YYYY)'\n",
    "print(some_time.strftime('%Y-%j')) // 'YYYY-DDD'\n",
    "```"
   ]
  }
 ],
 "metadata": {
  "language_info": {
   "name": "python"
  },
  "orig_nbformat": 4
 },
 "nbformat": 4,
 "nbformat_minor": 2
}
