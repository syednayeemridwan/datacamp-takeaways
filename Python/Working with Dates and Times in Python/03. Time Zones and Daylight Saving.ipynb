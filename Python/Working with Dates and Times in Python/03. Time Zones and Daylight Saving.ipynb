{
 "cells": [
  {
   "cell_type": "markdown",
   "metadata": {},
   "source": [
    "# Creating timezone aware datetimes"
   ]
  },
  {
   "cell_type": "markdown",
   "metadata": {},
   "source": [
    "```\n",
    "from datetime import datetime, timedelta, timezone\n",
    "\n",
    "dt = datetime(2017, 10, 1, 15, 26, 26, tzinfo=timezone.utc) // setting a timezone to utc\n",
    "\n",
    "pst = timezone(timedelta(hours=-8)) // creating a timezone\n",
    "dt = datetime(2017, 10, 1, 15, 26, 26, tzinfo=pst)  // using that timezone\n",
    "\n",
    "```"
   ]
  },
  {
   "cell_type": "markdown",
   "metadata": {},
   "source": [
    "# Setting timezones"
   ]
  },
  {
   "cell_type": "markdown",
   "metadata": {},
   "source": [
    "```\n",
    "edt = timezone(timedelta(hours = -4))\n",
    "new_time = old_time.replace(tzinfo = edt) // setting new timezone\n",
    "new_time = old_time.astimezone(timezone.utc) // convert a timezone\n",
    "```"
   ]
  },
  {
   "cell_type": "markdown",
   "metadata": {},
   "source": [
    "# Setting right time zone"
   ]
  },
  {
   "cell_type": "markdown",
   "metadata": {},
   "source": [
    "- Use tz database to correctly specify the right timezone since timezone rules changed over time."
   ]
  },
  {
   "cell_type": "markdown",
   "metadata": {},
   "source": [
    "```\n",
    "from dateutil import tz\n",
    "\n",
    "et = tz.gettz('America/New_York')\n",
    "new_time = old_time.replace(tzinfo = et)\n",
    "```"
   ]
  },
  {
   "cell_type": "markdown",
   "metadata": {},
   "source": [
    "# Global Timezone"
   ]
  },
  {
   "cell_type": "markdown",
   "metadata": {},
   "source": [
    "```\n",
    "# Create the timezone object\n",
    "uk = tz.gettz('Europe/London')\n",
    "\n",
    "local = time_val\n",
    "notlocal = local.astimezone(uk) // converting to another timezone\n",
    "\n",
    "# Print them out and see the difference\n",
    "print(local.isoformat())\n",
    "print(notlocal.isoformat())\n",
    "```"
   ]
  },
  {
   "cell_type": "markdown",
   "metadata": {},
   "source": [
    "# Daylight Savings"
   ]
  },
  {
   "cell_type": "markdown",
   "metadata": {},
   "source": [
    "- Always use UTC to correctly compute day-light mode in a timezone. utc helps to see the actual time difference around the world instead of local time difference"
   ]
  },
  {
   "cell_type": "markdown",
   "metadata": {},
   "source": [
    "# How many hours elapsed around daylight saving?"
   ]
  },
  {
   "cell_type": "markdown",
   "metadata": {},
   "source": [
    "```\n",
    "from datetime import datetime, timedelta, timezone\n",
    "from dateutil import tz\n",
    "\n",
    "# Start on March 12, 2017, midnight, then add 6 hours\n",
    "start = datetime(2017, 3, 12, tzinfo = tz.gettz('America/New_York'))\n",
    "end = start + timedelta(hours=6)\n",
    "print(start.isoformat() + \" to \" + end.isoformat())\n",
    "\n",
    "# How many hours have elapsed?\n",
    "print((end - start).total_seconds()/(60*60)) // local time difference\n",
    "\n",
    "# What if we move to UTC?\n",
    "print((end.astimezone(timezone.utc) - start.astimezone(timezone.utc))\\\n",
    "       .total_seconds()/(60*60)) // global time difference\n",
    "```"
   ]
  },
  {
   "cell_type": "markdown",
   "metadata": {},
   "source": [
    "# Careful with Daylight mode"
   ]
  },
  {
   "cell_type": "markdown",
   "metadata": {},
   "source": [
    "Daylight Saving rules are complicated: \n",
    "- they're different in different places, \n",
    "- they change over time, \n",
    "- usually start on a Sunday (and so they move around the calendar)."
   ]
  },
  {
   "cell_type": "markdown",
   "metadata": {},
   "source": [
    "# Finding ambiguous datetimes"
   ]
  },
  {
   "cell_type": "markdown",
   "metadata": {},
   "source": [
    "Ambiguous datetime has 2 values in the same date because of enfolding"
   ]
  },
  {
   "cell_type": "markdown",
   "metadata": {},
   "source": [
    "```\n",
    "tz.datetime_ambiguous(date_val) //  if the date is reverted from day-light savings\n",
    "```"
   ]
  },
  {
   "cell_type": "markdown",
   "metadata": {},
   "source": [
    "# Cleaning daylight saving data with fold"
   ]
  },
  {
   "cell_type": "markdown",
   "metadata": {},
   "source": [
    "```\n",
    "if trip['start'] > trip['end'] :\n",
    "  trip['end'] = tz.enfold(trip['end']) // making it the second occurance of time\n",
    "start = trip['start'].astimezone(timezone.utc)\n",
    "end = trip['end'].astimezone(timezone.utc)\n",
    "\n",
    "trip_length_seconds = (end-start).total_seconds() // Subtract the difference\n",
    "```"
   ]
  }
 ],
 "metadata": {
  "language_info": {
   "name": "python"
  },
  "orig_nbformat": 4
 },
 "nbformat": 4,
 "nbformat_minor": 2
}
