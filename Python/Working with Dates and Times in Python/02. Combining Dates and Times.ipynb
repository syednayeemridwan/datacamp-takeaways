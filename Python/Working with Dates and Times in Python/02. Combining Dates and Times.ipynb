{
 "cells": [
  {
   "cell_type": "markdown",
   "metadata": {},
   "source": [
    "# Creating datetimes by hand"
   ]
  },
  {
   "cell_type": "markdown",
   "metadata": {},
   "source": [
    "actual way: \n",
    "```\n",
    "dt = datetime(year=2017, month=10, day=1, hour=15, minute=23, second=25, microsecond=500000)\n",
    "```"
   ]
  },
  {
   "cell_type": "markdown",
   "metadata": {},
   "source": [
    "```\n",
    "from datetime import datetime\n",
    "\n",
    "dt = datetime(2017, 12, 31, 15, 19, 13) // Create a datetime object\n",
    "\n",
    "new_dt = dt.replace(year=1917) // Replace the year\n",
    "\n",
    "print(new_dt) // Print the results in ISO 8601 format\n",
    "```"
   ]
  },
  {
   "cell_type": "markdown",
   "metadata": {},
   "source": [
    "# Replacing parts of datetime"
   ]
  },
  {
   "cell_type": "markdown",
   "metadata": {},
   "source": [
    "```\n",
    "dt_replaced = dt.replace(minute=0, second=0, microsecond=0)\n",
    "```"
   ]
  },
  {
   "cell_type": "markdown",
   "metadata": {},
   "source": [
    "# Counting events before and after noon"
   ]
  },
  {
   "cell_type": "markdown",
   "metadata": {},
   "source": [
    "```\n",
    "counts = {'AM': 0, 'PM': 0}\n",
    "  \n",
    "for value in datetime_list:\n",
    "  if value['start'].hour < 12:\n",
    "    counts['AM'] += 1 // Increment the counter for before noon\n",
    "  else:\n",
    "    counts['PM'] += 1 // Increment the counter for after noon\n",
    "  \n",
    "print(counts)\n",
    "```"
   ]
  },
  {
   "cell_type": "markdown",
   "metadata": {},
   "source": [
    "# Turning strings into datetimes"
   ]
  },
  {
   "cell_type": "markdown",
   "metadata": {},
   "source": [
    "```\n",
    "from datetime import datetime\n",
    "\n",
    "string_1 = '2017-02-03 00:00:01' // date in string YYYY-MM-DD HH:MM:SS format\n",
    "fmt_1 = '%Y-%m-%d %H:%M:%S' // format of date \n",
    "datetime_1 = datetime.strptime(string_1, fmt_1) // parsing date from string\n",
    "\n",
    "string_2 = '2030-10-15' // date in string YYYY-MM-DD HH:MM:SS format\n",
    "fmt_2 = '%Y-%m-%d' // format of date \n",
    "datetime_2 = datetime.strptime(string_2, fmt_2) // parsing date from string\n",
    "\n",
    "\n",
    "string_3 = '12/15/1986 08:00:00' // date in string YYYY-MM-DD HH:MM:SS format\n",
    "fmt_3 = '%m/%d/%Y %H:%M:%S' // format of date \n",
    "datetime_3 = datetime.strptime(string_3, fmt_3) // parsing date from string\n",
    "\n",
    "```"
   ]
  },
  {
   "cell_type": "markdown",
   "metadata": {},
   "source": [
    "# Recreating ISO format with strftime()"
   ]
  },
  {
   "cell_type": "markdown",
   "metadata": {},
   "source": [
    "```\n",
    "from datetime import datetime\n",
    "\n",
    "iso_fmt = \"%Y-%m-%dT%H:%M:%S\"\n",
    "\n",
    "print(some_date.isoformat())\n",
    "print(some_date.strftime(iso_fmt))\n",
    "```"
   ]
  },
  {
   "cell_type": "markdown",
   "metadata": {},
   "source": [
    "# Unix timestamps"
   ]
  },
  {
   "cell_type": "markdown",
   "metadata": {},
   "source": [
    "```\n",
    "from datetime import datetime\n",
    "\n",
    "timestamps = [1514665153, 1514664543]\n",
    "\n",
    "dts = []\n",
    "\n",
    "for ts in timestamps:\n",
    "  dts.append(datetime.fromtimestamp(ts)) // converting to dates from timestamps seconds\n",
    "  \n",
    "print(dts)\n",
    "```"
   ]
  },
  {
   "cell_type": "markdown",
   "metadata": {},
   "source": [
    "# Turning pairs of datetimes into durations"
   ]
  },
  {
   "cell_type": "markdown",
   "metadata": {},
   "source": [
    "```\n",
    "timedelta_duration = end_datetime - start_datetime\n",
    "start_datetime + timedelta_duration = end_datetime\n",
    "second_total = timedelta_duration.total_seconds()\n",
    "```"
   ]
  },
  {
   "cell_type": "markdown",
   "metadata": {},
   "source": [
    "# Creating Timedelta"
   ]
  },
  {
   "cell_type": "markdown",
   "metadata": {},
   "source": [
    "```\n",
    "from datetime import timedelta\n",
    "\n",
    "delta_val = timedelta(days=1, seconds=1)\n",
    "```"
   ]
  },
  {
   "cell_type": "markdown",
   "metadata": {},
   "source": [
    "# Calculations"
   ]
  },
  {
   "cell_type": "markdown",
   "metadata": {},
   "source": [
    "```\n",
    "total_elapsed_time = sum(duration_list) // using built-in functions\n",
    "\n",
    "print(duration_list / len(duration_list)) // calculating average\n",
    "```"
   ]
  },
  {
   "cell_type": "markdown",
   "metadata": {},
   "source": [
    "# The long and the short of why time is hard"
   ]
  },
  {
   "cell_type": "markdown",
   "metadata": {},
   "source": [
    "```\n",
    "shortest_time = min(duration)\n",
    "longest_time = max(duration)\n",
    "\n",
    "print(\"The shortest trip was \" + str(shortest_time) + \" seconds\")\n",
    "print(\"The longest trip was \" + str(longest_time) + \" seconds\")\n",
    "```"
   ]
  }
 ],
 "metadata": {
  "kernelspec": {
   "display_name": "Python 3.8.3 ('base')",
   "language": "python",
   "name": "python3"
  },
  "language_info": {
   "name": "python",
   "version": "3.8.3"
  },
  "orig_nbformat": 4,
  "vscode": {
   "interpreter": {
    "hash": "dc575bfddb5c8ca4bb6a4f4dcdd32abc104b5fa4177361381c432fff36ce3e46"
   }
  }
 },
 "nbformat": 4,
 "nbformat_minor": 2
}
