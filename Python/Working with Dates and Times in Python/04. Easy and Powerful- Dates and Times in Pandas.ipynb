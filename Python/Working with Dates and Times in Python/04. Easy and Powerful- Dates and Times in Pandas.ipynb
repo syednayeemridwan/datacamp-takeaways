{
 "cells": [
  {
   "cell_type": "markdown",
   "metadata": {},
   "source": [
    "# Loading a csv file in Pandas"
   ]
  },
  {
   "cell_type": "markdown",
   "metadata": {},
   "source": [
    "```\n",
    "import pandas as pd\n",
    "df = pd.read_csv('file_name.csv', \n",
    "                    parse_dates = ['date_col1' , 'date_col2']) // parsing date while loading df\n",
    "\n",
    "```"
   ]
  },
  {
   "cell_type": "markdown",
   "metadata": {},
   "source": [
    "```\n",
    "df['date_col'] = pd.to_datetime(df['date_col'],\n",
    "                format = \"%Y-%m-%d %H:%M:%S\") // if automatically parsing fails\n",
    "```"
   ]
  },
  {
   "cell_type": "markdown",
   "metadata": {},
   "source": [
    "# Making timedelta columns"
   ]
  },
  {
   "cell_type": "markdown",
   "metadata": {},
   "source": [
    "```\n",
    "duration = df['End date'] - df['Start date']\n",
    "\n",
    "rides['Duration'] = duration.dt.total_seconds() // get total seconds from timedelta\n",
    "```"
   ]
  },
  {
   "cell_type": "markdown",
   "metadata": {},
   "source": [
    "# Time Stats"
   ]
  },
  {
   "cell_type": "markdown",
   "metadata": {},
   "source": [
    "```\n",
    "df['Duration'].median() // median\n",
    "\n",
    "```"
   ]
  },
  {
   "cell_type": "markdown",
   "metadata": {},
   "source": [
    "# Resampling"
   ]
  },
  {
   "cell_type": "markdown",
   "metadata": {},
   "source": [
    "```\n",
    "import matplotlib.pyplot as plt\n",
    "\n",
    "df.resample('D', on = 'date_col')\\ // 'D' for daily 'M' for monthly\n",
    "  .size()\\     // in order to plot resample date you need len of time (size)\n",
    "  .plot(ylim = [0, 15])\n",
    "\n",
    "plt.show()\n",
    "```"
   ]
  },
  {
   "cell_type": "markdown",
   "metadata": {},
   "source": [
    "# Find length of a resample type"
   ]
  },
  {
   "cell_type": "markdown",
   "metadata": {},
   "source": [
    "size counts the number of elements in an array"
   ]
  },
  {
   "cell_type": "markdown",
   "metadata": {},
   "source": [
    "```\n",
    "df_resample.size()\n",
    "```"
   ]
  },
  {
   "cell_type": "markdown",
   "metadata": {},
   "source": [
    "# Combining groupby() and resample()"
   ]
  },
  {
   "cell_type": "markdown",
   "metadata": {},
   "source": [
    "```\n",
    "grouped = df.groupby('Col1')\\\n",
    "  .resample('M', on = 'Date_Col')\n",
    "```"
   ]
  },
  {
   "cell_type": "markdown",
   "metadata": {},
   "source": [
    "# Timezones in Pandas"
   ]
  },
  {
   "cell_type": "markdown",
   "metadata": {},
   "source": [
    "- use `tz_localize()` to set a timezone\n",
    "- use `tz_convert()` to convert/ shift to a timezone"
   ]
  },
  {
   "cell_type": "markdown",
   "metadata": {},
   "source": [
    "```\n",
    "df['date_col'] = df['date_col'].dt.tz_localize('America/New_York', \n",
    "                                \t\t\t\t\t\t ambiguous='NaT') // set timezone to see if it is ambiguous\n",
    "\n",
    "df['date_col'] = df['date_col'].dt.tz_convert('Europe/London') // convert to another timezone\n",
    "```"
   ]
  },
  {
   "cell_type": "markdown",
   "metadata": {},
   "source": [
    "# Day name and others"
   ]
  },
  {
   "cell_type": "markdown",
   "metadata": {},
   "source": [
    "```\n",
    "df['date_col'] = df['date_col'].dt.day_name()\n",
    "```"
   ]
  },
  {
   "cell_type": "markdown",
   "metadata": {},
   "source": [
    "# Shifting time index"
   ]
  },
  {
   "cell_type": "markdown",
   "metadata": {},
   "source": [
    "```\n",
    "df['col_name'] = df['col_name'].shift(1) // Shift the index up one\n",
    "\n",
    "df['col_name'] = df['col_name'].dt.total_seconds() // total seconds\n",
    "```"
   ]
  }
 ],
 "metadata": {
  "kernelspec": {
   "display_name": "Python 3.8.11 ('env_py')",
   "language": "python",
   "name": "python3"
  },
  "language_info": {
   "name": "python",
   "version": "3.8.11"
  },
  "orig_nbformat": 4,
  "vscode": {
   "interpreter": {
    "hash": "1e949e87132dd83f1a7623eb88007e3532b03b66b77111be347aa4a383049722"
   }
  }
 },
 "nbformat": 4,
 "nbformat_minor": 2
}
