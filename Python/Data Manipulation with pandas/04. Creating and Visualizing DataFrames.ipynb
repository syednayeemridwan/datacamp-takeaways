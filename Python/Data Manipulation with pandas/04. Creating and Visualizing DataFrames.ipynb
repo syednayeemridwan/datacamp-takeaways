{
 "cells": [
  {
   "cell_type": "markdown",
   "metadata": {},
   "source": [
    "# Bar Plot"
   ]
  },
  {
   "cell_type": "markdown",
   "metadata": {},
   "source": [
    "```\n",
    "import matplotlib.pyplot as plt\n",
    "\n",
    "df[\"col].plot(kind=\"bar\")\n",
    "\n",
    "plt.show()\n",
    "```"
   ]
  },
  {
   "cell_type": "markdown",
   "metadata": {},
   "source": [
    "# Line Plot"
   ]
  },
  {
   "cell_type": "markdown",
   "metadata": {},
   "source": [
    "```\n",
    "group_by_date = df.groupby(\"date_col\")[\"selected_col\"].agg('sum')\n",
    "\n",
    "group_by_date.plot(kind = \"line\") // X- axis is by default date or index, Y-axis is value\n",
    "```"
   ]
  },
  {
   "cell_type": "markdown",
   "metadata": {},
   "source": [
    "# Scatter Plot"
   ]
  },
  {
   "cell_type": "markdown",
   "metadata": {},
   "source": [
    "```\n",
    "df.plot(x=\"x_col\", y=\"y_col\", kind=\"scatter\", title = \"title\")\n",
    "plt.show()\n",
    "```"
   ]
  },
  {
   "cell_type": "markdown",
   "metadata": {},
   "source": [
    "# Multiple Histograms"
   ]
  },
  {
   "cell_type": "markdown",
   "metadata": {},
   "source": [
    "```\n",
    "df[df[\"col\"] == \"val1\"][\"selected_qty\"].hist(alpha=0.5, bins=20)\n",
    "df[df[\"col\"] == \"val2\"][\"selected_qty\"].hist(alpha=0.5, bins=20)\n",
    "\n",
    "plt.legend([\"val1\", \"val2\"])\n",
    "plt.show()\n",
    "```"
   ]
  },
  {
   "cell_type": "markdown",
   "metadata": {},
   "source": [
    "# Finding missing values"
   ]
  },
  {
   "cell_type": "markdown",
   "metadata": {},
   "source": [
    "```\n",
    "df.isna().any() // checks if any column has missing values\n",
    "\n",
    "df.isna().sum() // counts total number of missing values by columns\n",
    "\n",
    "df.isna().sum().plot(kind = \"bar\") // visualize the quantity of missing values in columns\n",
    "```"
   ]
  },
  {
   "cell_type": "markdown",
   "metadata": {},
   "source": [
    "# Removing missing values"
   ]
  },
  {
   "cell_type": "markdown",
   "metadata": {},
   "source": [
    "```\n",
    "df.dropna() // drops missing values\n",
    "```"
   ]
  },
  {
   "cell_type": "markdown",
   "metadata": {},
   "source": [
    "# Replacing missing values"
   ]
  },
  {
   "cell_type": "markdown",
   "metadata": {},
   "source": [
    "```\n",
    "df[cols_with_missing].fillna(0) / filling missing values with 0\n",
    "```"
   ]
  },
  {
   "cell_type": "markdown",
   "metadata": {},
   "source": [
    "# List of dictionaries"
   ]
  },
  {
   "cell_type": "markdown",
   "metadata": {},
   "source": [
    "This is a row by row method"
   ]
  },
  {
   "cell_type": "markdown",
   "metadata": {},
   "source": [
    "```\n",
    "dictionary_list = [\n",
    "    {\"key1\": \"a1\", \"key2\": \"b1\", \"key3\": \"c1\"}, // row 1\n",
    "    {\"key1\": \"a2\", \"key2\": \"b2\", \"key3\": \"c2\"}, // row 2\n",
    "]\n",
    "\n",
    "new_df = pd.DataFrame(dictionary_list)\n",
    "```"
   ]
  },
  {
   "cell_type": "markdown",
   "metadata": {},
   "source": [
    "# Dictionary of lists"
   ]
  },
  {
   "cell_type": "markdown",
   "metadata": {},
   "source": [
    "This is a column by column method"
   ]
  },
  {
   "cell_type": "markdown",
   "metadata": {},
   "source": [
    "```\n",
    "dictionary_of_lists = {\n",
    "  \"key1\": [\"a1\", \"a2\"],\n",
    "  \"key2\": [\"b1\", \"b2\"],\n",
    "  \"key3\": [\"c1\", \"c2\"]\n",
    "}\n",
    "\n",
    "new_df = pd.DataFrame(dictionary_of_lists)\n",
    "```"
   ]
  },
  {
   "cell_type": "markdown",
   "metadata": {},
   "source": [
    "# CSV to DataFrame"
   ]
  },
  {
   "cell_type": "markdown",
   "metadata": {},
   "source": [
    "```\n",
    "df = pd.read_csv(\"filename.csv\")\n",
    "```"
   ]
  },
  {
   "cell_type": "markdown",
   "metadata": {},
   "source": [
    "# DataFrame to CSV"
   ]
  },
  {
   "cell_type": "markdown",
   "metadata": {},
   "source": [
    "```\n",
    "df.to_csv(\"path/to/file_name.csv\")\n",
    "```"
   ]
  }
 ],
 "metadata": {
  "language_info": {
   "name": "python"
  },
  "orig_nbformat": 4
 },
 "nbformat": 4,
 "nbformat_minor": 2
}
