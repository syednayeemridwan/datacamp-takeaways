{
 "cells": [
  {
   "cell_type": "markdown",
   "metadata": {},
   "source": [
    "# Setting and removing indexes"
   ]
  },
  {
   "cell_type": "markdown",
   "metadata": {},
   "source": [
    "```\n",
    "df.set_index(\"col_name\") // set the column as index\n",
    "\n",
    "df.reset_index() // remove indexing from column\n",
    "\n",
    "df.reset_index(drop=True) // remove the index column\n",
    "```"
   ]
  },
  {
   "cell_type": "markdown",
   "metadata": {},
   "source": [
    "# Subsetting with `.loc[]`"
   ]
  },
  {
   "cell_type": "markdown",
   "metadata": {},
   "source": [
    "```\n",
    "index_list = [index1, index2, index3]\n",
    "df.loc[index_list] // extract records of the specified index list\n",
    "```"
   ]
  },
  {
   "cell_type": "markdown",
   "metadata": {},
   "source": [
    "# Setting multi-level indexes"
   ]
  },
  {
   "cell_type": "markdown",
   "metadata": {},
   "source": [
    "```\n",
    "df.set_index([\"col1\", \"col2\"])\n",
    "\n",
    "```"
   ]
  },
  {
   "cell_type": "markdown",
   "metadata": {},
   "source": [
    "# Extract from multi-level index"
   ]
  },
  {
   "cell_type": "markdown",
   "metadata": {},
   "source": [
    "```\n",
    "multi_level_index_list = [(\"col1_val1\",\"col2_val1),  (\"col1_val2\",\"col2_val2\")] // (level1,level2)\n",
    "df.loc[multi_level_index_list] // use list to extract records\n",
    "\n",
    "```"
   ]
  },
  {
   "cell_type": "markdown",
   "metadata": {},
   "source": [
    "# Sorting by index values"
   ]
  },
  {
   "cell_type": "markdown",
   "metadata": {},
   "source": [
    "```\n",
    "df.sort_index() // sort single-index dataframe\n",
    "\n",
    "df.sort_index(level = \"index_col1\") // sort single level index in multi-level index\n",
    "\n",
    "df.sort_index(level = [\"index_col1\",\"index_col2\"], ascending= [True, False] // sort multi-levels\n",
    "\n",
    "```"
   ]
  },
  {
   "cell_type": "markdown",
   "metadata": {},
   "source": [
    "# Slicing index values"
   ]
  },
  {
   "cell_type": "markdown",
   "metadata": {},
   "source": [
    "```\n",
    "df.sort_index() // index must be sorted before slicing\n",
    "\n",
    "df.loc['index_val1':'index_val2'] // slice the specified portion of index , extracting records with all columns\n",
    "\n",
    "df.loc[('lvl1_val_start','lvl2_val_start') : ('lvl1_val_end','lvl2_val_end') ]\n",
    "```"
   ]
  },
  {
   "cell_type": "markdown",
   "metadata": {},
   "source": [
    "# Slicing in both directions"
   ]
  },
  {
   "cell_type": "markdown",
   "metadata": {},
   "source": [
    "```\n",
    "df.loc[:, 'col1' : 'col2'] // take all rows from specified single-index dataframe's columns\n",
    "\n",
    "df.loc[('lvl1_val_start','lvl2_val_start') : ('lvl1_val_end','lvl2_val_end') ,'col1' : 'col2'] // take specified rows from specified multi-level dataframe columns\n",
    "```"
   ]
  },
  {
   "cell_type": "markdown",
   "metadata": {},
   "source": [
    "# Slicing time series"
   ]
  },
  {
   "cell_type": "markdown",
   "metadata": {},
   "source": [
    "Must be in YYYY-MM-DD format"
   ]
  },
  {
   "cell_type": "markdown",
   "metadata": {},
   "source": [
    "```\n",
    "df.loc['2010-01-01' : '2011-12-31',:] // index is in time-series\n",
    "```"
   ]
  },
  {
   "cell_type": "markdown",
   "metadata": {},
   "source": [
    "# Subsetting by row/column number"
   ]
  },
  {
   "cell_type": "markdown",
   "metadata": {},
   "source": [
    "```\n",
    "df.iloc[22,1] // a number of index is passed inside and those rows will be extracted\n",
    "\n",
    "df.iloc[:5,:] // first 5 rows of all columns\n",
    "\n",
    "df.iloc[:,2:4] // all rows from 3rd and 4th column\n",
    "```"
   ]
  },
  {
   "cell_type": "markdown",
   "metadata": {},
   "source": [
    "# Subsetting pivot tables"
   ]
  },
  {
   "cell_type": "markdown",
   "metadata": {},
   "source": [
    "```\n",
    "pivot_df.loc[('Bangladesh','Dhaka') : ('India', 'Delhi') ,2005:2010] // using pivot table as a dataframe and slice it\n",
    "```"
   ]
  },
  {
   "cell_type": "markdown",
   "metadata": {},
   "source": [
    "# Calculating on a pivot table"
   ]
  },
  {
   "cell_type": "markdown",
   "metadata": {},
   "source": [
    "```\n",
    "pivot_df.mean(axis=0) // result of mean in row \n",
    "\n",
    "pivot_df.mean(axis=1) // result of mean in column \n",
    "```"
   ]
  }
 ],
 "metadata": {
  "language_info": {
   "name": "python"
  },
  "orig_nbformat": 4
 },
 "nbformat": 4,
 "nbformat_minor": 2
}
