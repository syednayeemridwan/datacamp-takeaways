{
 "cells": [
  {
   "cell_type": "markdown",
   "metadata": {},
   "source": [
    "# Mean and median"
   ]
  },
  {
   "cell_type": "markdown",
   "metadata": {},
   "source": [
    "```\n",
    "df.info() // summary stat of dataset\n",
    "\n",
    "df[\"col_name\"].mean() // mean of column\n",
    "\n",
    "df[\"col_name\"].median() // median of column\n",
    "```"
   ]
  },
  {
   "cell_type": "markdown",
   "metadata": {},
   "source": [
    "# Summarizing dates"
   ]
  },
  {
   "cell_type": "markdown",
   "metadata": {},
   "source": [
    "```\n",
    "df[\"date_col\"].max()  // Most recent date\n",
    "\n",
    "df[\"date_col\"].min()  // Least recent date\n",
    "```"
   ]
  },
  {
   "cell_type": "markdown",
   "metadata": {},
   "source": [
    "# Efficient Custom Aggregations"
   ]
  },
  {
   "cell_type": "markdown",
   "metadata": {},
   "source": [
    "```\n",
    "def custom_summary_func(column):\n",
    "    return column.quantile(0.75) - column.quantile(0.25) // Custom IQR function\n",
    "    \n",
    "df[\"col_name\"].agg(custom_summary_func) // agg let the custom function to be applied on a dataframe's column\n",
    "```"
   ]
  },
  {
   "cell_type": "markdown",
   "metadata": {},
   "source": [
    "```\n",
    "df[[\"col1\", \"col2\", \"col3\"]].agg(custom_summary_func) // agg on multiple columns\n",
    "```"
   ]
  },
  {
   "cell_type": "markdown",
   "metadata": {},
   "source": [
    "```\n",
    "df[[\"col1\", \"col2\", \"col3\"]].agg([custom_func1,custom_func2]) // multiple aggs on multiple columns\n",
    "```"
   ]
  },
  {
   "cell_type": "markdown",
   "metadata": {},
   "source": [
    "# Sort Dates"
   ]
  },
  {
   "cell_type": "markdown",
   "metadata": {},
   "source": [
    "```\n",
    "df.sort_values(\"date_col\")\n",
    "```"
   ]
  },
  {
   "cell_type": "markdown",
   "metadata": {},
   "source": [
    "# Cumulative statistics"
   ]
  },
  {
   "cell_type": "markdown",
   "metadata": {},
   "source": [
    "```\n",
    "df[\"col_name\"].cumsum() // cumulative sum\n",
    "\n",
    "df[\"col_name\"].cummax() // cumulative max\n",
    "\n",
    "df[\"col_name\"].cumprod() // cumulative product\n",
    "```"
   ]
  },
  {
   "cell_type": "markdown",
   "metadata": {},
   "source": [
    "# Dropping duplicates"
   ]
  },
  {
   "cell_type": "markdown",
   "metadata": {},
   "source": [
    "```\n",
    "df.drop_duplicates('col_name') // Drop duplicates of a single column entries\n",
    "\n",
    "df.drop_duplicates(['col1', 'col2']) // Drop duplicates of a combination of multiple column entries\n",
    "```"
   ]
  },
  {
   "cell_type": "markdown",
   "metadata": {},
   "source": [
    "# Counting categorical variables"
   ]
  },
  {
   "cell_type": "markdown",
   "metadata": {},
   "source": [
    "```\n",
    "df['col_name'].value_counts() // count categorical values of a column\n",
    "\n",
    "df['col_name'].value_counts(sort = True) // Count and sort the counts\n",
    "\n",
    "df['col_name'].value_counts(normalize=True) // proportion of counts with respect to total count\n",
    "```"
   ]
  },
  {
   "cell_type": "markdown",
   "metadata": {},
   "source": [
    "# Calculations with .groupby()"
   ]
  },
  {
   "cell_type": "markdown",
   "metadata": {},
   "source": [
    "```\n",
    "df.groupby(\"col\")[\"selected_column_to_summarize\"] // grouping of a column with single column\n",
    "\n",
    "df.groupby([\"col1\",\"col2\"])[\"selected_column_to_summarize\"] // grouping of a column with multiple columns\n",
    "```"
   ]
  },
  {
   "cell_type": "markdown",
   "metadata": {},
   "source": [
    "# Multiple grouped summaries Aggregations"
   ]
  },
  {
   "cell_type": "markdown",
   "metadata": {},
   "source": [
    "```\n",
    "df.groupby(\"col_name\")[\"selected_col1\",\"selected_col2\"].agg([np.min, np.max, np.mean, np.median])\n",
    "```"
   ]
  },
  {
   "cell_type": "markdown",
   "metadata": {},
   "source": [
    "# Pivot Table"
   ]
  },
  {
   "cell_type": "markdown",
   "metadata": {},
   "source": [
    "They are simplified group by summaries"
   ]
  },
  {
   "cell_type": "markdown",
   "metadata": {},
   "source": [
    "```\n",
    "df.groupby(\"col_based_on_which_will_be_grouped\")[\"selected_col\"].mean()\n",
    "\n",
    "df.pivot_table(values=\"selected_col\",index=\"col_based_on_which_will_be_grouped\")\n",
    "```"
   ]
  },
  {
   "cell_type": "markdown",
   "metadata": {},
   "source": [
    "# Pivoting on one variable"
   ]
  },
  {
   "cell_type": "markdown",
   "metadata": {},
   "source": [
    "```\n",
    "df.pivot_table(index= \"col_based_on_which_will_be_grouped\", \n",
    "            values = \"selected_col\", \n",
    "            aggfunc=[np.mean,np.median])\n",
    "```\n"
   ]
  },
  {
   "cell_type": "markdown",
   "metadata": {},
   "source": [
    "# Pivoting on two variable"
   ]
  },
  {
   "cell_type": "markdown",
   "metadata": {},
   "source": [
    "```\n",
    "df.groupby([\"col_based_on_which_will_be_grouped\",\"second_col_based_on_which_will_be_grouped\"])[\"selected_col\"].mean()\n",
    "```\n",
    "\n",
    "is same as \n",
    "\n",
    "```\n",
    "df.pivot_table(index= \"col_based_on_which_will_be_grouped\", \n",
    "            values = \"selected_col\", \n",
    "            columns = \"second_col_based_on_which_will_be_grouped\",\n",
    "            aggfunc = 'mean')\n",
    "```\n"
   ]
  },
  {
   "cell_type": "markdown",
   "metadata": {},
   "source": [
    "# Get Rid of `NaN` from pivot table and Add summary column"
   ]
  },
  {
   "cell_type": "markdown",
   "metadata": {},
   "source": [
    "```\n",
    "df.pivot_table(index= \"col_based_on_which_will_be_grouped\", \n",
    "            values = \"selected_col\", \n",
    "            columns = \"second_col_based_on_which_will_be_grouped\",\n",
    "            aggfunc = 'mean',\n",
    "            fill_value=0, // fill value fills with 0\n",
    "            margins=True) // Add summary column of contents at the end\n",
    "```"
   ]
  }
 ],
 "metadata": {
  "kernelspec": {
   "display_name": "Python 3.8.3 ('base')",
   "language": "python",
   "name": "python3"
  },
  "language_info": {
   "name": "python",
   "version": "3.8.3"
  },
  "orig_nbformat": 4,
  "vscode": {
   "interpreter": {
    "hash": "dc575bfddb5c8ca4bb6a4f4dcdd32abc104b5fa4177361381c432fff36ce3e46"
   }
  }
 },
 "nbformat": 4,
 "nbformat_minor": 2
}
