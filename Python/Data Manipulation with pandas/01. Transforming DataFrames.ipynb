{
 "cells": [
  {
   "cell_type": "markdown",
   "metadata": {},
   "source": [
    "# Inspecting a DataFrame"
   ]
  },
  {
   "cell_type": "markdown",
   "metadata": {},
   "source": [
    "```\n",
    "df.head() // returns the first few rows\n",
    "\n",
    "df.info() // shows information on each of the columns\n",
    "\n",
    "df.shape  // returns the number of rows and columns\n",
    "\n",
    "df.describe() // calculates a few summary statistics for each numeric column.\n",
    "```"
   ]
  },
  {
   "cell_type": "markdown",
   "metadata": {},
   "source": [
    "# Parts of a DataFrame"
   ]
  },
  {
   "cell_type": "markdown",
   "metadata": {},
   "source": [
    "```\n",
    "df.values // values as 2D NumPy array\n",
    "\n",
    "df.columns // column names\n",
    "\n",
    "df.index // row names\n",
    "\n",
    "```"
   ]
  },
  {
   "cell_type": "markdown",
   "metadata": {},
   "source": [
    "# Sorting rows"
   ]
  },
  {
   "cell_type": "markdown",
   "metadata": {},
   "source": [
    "```\n",
    "df.sort_values(\"col_name\") // sorting a column in ascending values\n",
    "\n",
    "df.sort_values(\"col_name\", ascending = False) // sorting a column in descending values\n",
    "\n",
    "df.sort_values([\"col_name1\",\"col_name2\"], ascending = [True, False]) // sorting multiple columns\n",
    "\n",
    "```"
   ]
  },
  {
   "cell_type": "markdown",
   "metadata": {},
   "source": [
    "# Subsetting columns"
   ]
  },
  {
   "cell_type": "markdown",
   "metadata": {},
   "source": [
    "```\n",
    "df[\"col_name\"] // Select single column\n",
    "\n",
    "df[[\"col1\",\"col2\"]] // Select multiple columns\n",
    "```"
   ]
  },
  {
   "cell_type": "markdown",
   "metadata": {},
   "source": [
    "# Subsetting rows"
   ]
  },
  {
   "cell_type": "markdown",
   "metadata": {},
   "source": [
    "```\n",
    "df[df[\"col_name\"] > 10000] // Subsetting based on single condition\n",
    "\n",
    "df[(df[\"col1\"] < 1000) & (df[\"col2\"] == \"Pacific\")] // Subsetting based on multiple condition\n",
    "```"
   ]
  },
  {
   "cell_type": "markdown",
   "metadata": {},
   "source": [
    "# Subsetting rows by categorical variables"
   ]
  },
  {
   "cell_type": "markdown",
   "metadata": {},
   "source": [
    "```\n",
    "cat_list = [\"cat1\", \"cat2\", \"cat3\", \"cat4\"]\n",
    "\n",
    "df[df[\"col_name\"].isin(cat_list)]\n",
    "```"
   ]
  },
  {
   "cell_type": "markdown",
   "metadata": {},
   "source": [
    "# Adding new columns"
   ]
  },
  {
   "cell_type": "markdown",
   "metadata": {},
   "source": [
    "```\n",
    "df[\"new_col\"] = df[\"existing_col\"] / 100 \n",
    "\n",
    "df[\"new_col\"] = df[\"existing_col1\"] - df[\"existing_col2\"] // calculating on existing column and store result in new column\n",
    "```"
   ]
  }
 ],
 "metadata": {
  "language_info": {
   "name": "python"
  },
  "orig_nbformat": 4
 },
 "nbformat": 4,
 "nbformat_minor": 2
}
