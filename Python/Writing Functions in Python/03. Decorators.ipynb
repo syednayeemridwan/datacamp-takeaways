{
 "cells": [
  {
   "cell_type": "markdown",
   "metadata": {},
   "source": [
    "# Functions are just another type of object"
   ]
  },
  {
   "cell_type": "markdown",
   "metadata": {},
   "source": [
    "- Functions as variables: `x = print`\n",
    "- Lists : `list_of_functions = [my_function, open, print]`\n",
    "- Dictionaries : \n",
    "```\n",
    "dict_of_functions = {\n",
    "'func1': my_function,\n",
    "'func2': open,\n",
    "'func3': print\n",
    "}\n",
    "```"
   ]
  },
  {
   "cell_type": "markdown",
   "metadata": {},
   "source": [
    "# Referencing function"
   ]
  },
  {
   "cell_type": "markdown",
   "metadata": {},
   "source": [
    "```\n",
    "def some_function():\n",
    "    return 42\n",
    "x = some_function\n",
    "```"
   ]
  },
  {
   "cell_type": "markdown",
   "metadata": {},
   "source": [
    "# Functions as arguments"
   ]
  },
  {
   "cell_type": "markdown",
   "metadata": {},
   "source": [
    "```\n",
    "def has_docstring(some_func): // some_func is an argument of a function\n",
    "    \"\"\"Check to see if the function\n",
    "    `some_func` has a docstring.\n",
    "\n",
    "    Args:\n",
    "    some_func (callable): A function.\n",
    "\n",
    "    Returns:\n",
    "    bool\n",
    "    \"\"\"\n",
    "\n",
    "    return some_func.__doc__ is not None\n",
    "```"
   ]
  },
  {
   "cell_type": "markdown",
   "metadata": {},
   "source": [
    "# Functions as return values"
   ]
  },
  {
   "cell_type": "markdown",
   "metadata": {},
   "source": [
    "```\n",
    "def outer_function():\n",
    "    def inner_func(some_string):\n",
    "        print(some_string)\n",
    "    return inner_func\n",
    "\n",
    "new_func = outer_function()\n",
    "new_func('This is a sentence.')\n",
    "```"
   ]
  },
  {
   "cell_type": "markdown",
   "metadata": {},
   "source": [
    "# Function Scopes"
   ]
  },
  {
   "cell_type": "markdown",
   "metadata": {},
   "source": [
    "- Local : access with normal variable name\n",
    "- Non-local (for nested functions) : access with `nonlocal`\n",
    "- Global : access with `global`\n",
    "- Built-in"
   ]
  },
  {
   "cell_type": "markdown",
   "metadata": {},
   "source": [
    "# Closure"
   ]
  },
  {
   "cell_type": "markdown",
   "metadata": {},
   "source": [
    "- It is a tuple of variables that are no longer in scope but a function still needs them in order to run.\n",
    "- It is a non-local variable inside nested function where outer function returns the inner function\n",
    "- BASICALLY nonlocal variables attached to a returned function even after removing/modifying that nonlocal variable later on\n",
    "- nonlocal variables are memorized by inner function as globals to get things done. They are the closures"
   ]
  },
  {
   "cell_type": "markdown",
   "metadata": {},
   "source": [
    "Example:\n",
    "\n",
    "```\n",
    "x = 25\n",
    "\n",
    "def parent(value):\n",
    "    def child():\n",
    "        print(value)\n",
    "    return child\n",
    "some_func = parent(x) // some_func = child [and it holds 25 as its closure]\n",
    "some_func() // child() .. means 25 is printed\n",
    "\n",
    "del(x)\n",
    "some_func() // still 25, since it was included in closure\n",
    "\n",
    "x = parent(x)\n",
    "x() // still 25, since it was included in closure\n",
    "\n",
    "```"
   ]
  },
  {
   "cell_type": "markdown",
   "metadata": {},
   "source": [
    "# Access Closures"
   ]
  },
  {
   "cell_type": "markdown",
   "metadata": {},
   "source": [
    "```\n",
    "len(some_func.__closure__) // number of closures in that function\n",
    "\n",
    "some_func.__closure__[0].cell_contents // see closure values\n",
    "```"
   ]
  },
  {
   "cell_type": "markdown",
   "metadata": {},
   "source": [
    "# Decorator"
   ]
  },
  {
   "cell_type": "markdown",
   "metadata": {},
   "source": [
    "A wrapper around a function that changes the function behavior in ways like:\n",
    "- Modifies the inputs\n",
    "- Modifies the outputs\n",
    "- Functional behavior itself\n",
    "\n",
    "Basically decorators are just functions that take a function as argument and modifies their behavior"
   ]
  },
  {
   "cell_type": "markdown",
   "metadata": {},
   "source": [
    "- Outer function takes a function as parameter\n",
    "- Outer function returns inner function\n",
    "- Inner function has same signature as the function that outer function took as parameter\n",
    "- While returning, inner function uses parameter function with slightly changed arguments.\n",
    "\n",
    "An example:\n",
    "\n",
    "```\n",
    "def outer_func(param_func):\n",
    "    def inner_func(a, b):\n",
    "        return param_func(a * 2, b * 2)\n",
    "    return inner_func\n",
    "\n",
    "def some_func(a, b):\n",
    "    return a * b\n",
    "\n",
    "some_func = outer_func(some_func)\n",
    "some_func(1, 5)\n",
    "```"
   ]
  },
  {
   "cell_type": "markdown",
   "metadata": {},
   "source": [
    "Another example:\n",
    "\n",
    "```\n",
    "def outer_func(param_func):\n",
    "    def inner_func(a, b):\n",
    "        return param_func(a * 2, b * 2)\n",
    "    return inner_func\n",
    "\n",
    "@outer_func // we add this\n",
    "def some_func(a, b):\n",
    "    return a * b\n",
    "\n",
    "///////////////////////////some_func = outer_func(some_func)//////////////we can remove this\n",
    "some_func(1, 5)\n",
    "```"
   ]
  }
 ],
 "metadata": {
  "language_info": {
   "name": "python"
  },
  "orig_nbformat": 4
 },
 "nbformat": 4,
 "nbformat_minor": 2
}
