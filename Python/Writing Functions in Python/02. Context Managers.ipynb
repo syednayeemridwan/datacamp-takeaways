{
 "cells": [
  {
   "cell_type": "markdown",
   "metadata": {},
   "source": [
    "# Using context managers"
   ]
  },
  {
   "cell_type": "markdown",
   "metadata": {},
   "source": [
    "General format:\n",
    "```\n",
    "with <context-manager>(<args>) as <variable-name>:\n",
    "    # Run your code here\n",
    "```"
   ]
  },
  {
   "cell_type": "markdown",
   "metadata": {},
   "source": [
    "An example:\n",
    "```\n",
    "with open('my_file.txt') as my_file:\n",
    "    text = my_file.read() \n",
    "    length = len(text) \n",
    "```"
   ]
  },
  {
   "cell_type": "markdown",
   "metadata": {},
   "source": [
    "# Creating a context manager"
   ]
  },
  {
   "cell_type": "markdown",
   "metadata": {},
   "source": [
    "Normal Format:\n",
    "```\n",
    "@contextlib.contextmanager\n",
    "def some_context():\n",
    "    # Set up code\n",
    "    yield some_val_or_nothing // returns value in variable\n",
    "    # Teardown code\n",
    "```"
   ]
  },
  {
   "cell_type": "markdown",
   "metadata": {},
   "source": [
    "An example:\n",
    "```\n",
    "from contextlib import contextmanager\n",
    "@contextmanager\n",
    "def database(url):\n",
    "    # set up database connection\n",
    "    db = postgres.connect(url)\n",
    "    yield db\n",
    "    # tear down database connection\n",
    "    db.disconnect()\n",
    "\n",
    "url = 'http://datacamp.com/data'\n",
    "with database(url) as my_db: // calling context manager\n",
    "course_list = my_db.execute(\n",
    "'SELECT * FROM courses'\n",
    ")\n",
    "```"
   ]
  },
  {
   "cell_type": "markdown",
   "metadata": {},
   "source": [
    "# Nested contexts"
   ]
  },
  {
   "cell_type": "markdown",
   "metadata": {},
   "source": [
    "In order to handle large task where processing time may be too big, we can use nested context manager there in order to complete one portion of the task at a time:\n",
    "```\n",
    "with open('source.txt') as src:\n",
    "    with open('destination.txt', 'w') as dest:\n",
    "        for line in src:\n",
    "            dest.write(line)\n",
    "```"
   ]
  },
  {
   "cell_type": "markdown",
   "metadata": {},
   "source": [
    "# Handling errors"
   ]
  },
  {
   "cell_type": "markdown",
   "metadata": {},
   "source": [
    "Use try-except to handle errors inside context managers:\n",
    "\n",
    "```\n",
    "def some_context(ip):\n",
    "    p = connect_to_printer(ip) // setup code\n",
    "    try:\n",
    "        yield // return something\n",
    "    finally:\n",
    "        p.disconnect() // teardown code\n",
    "        print('disconnected from printer') // teardown message\n",
    "```"
   ]
  }
 ],
 "metadata": {
  "language_info": {
   "name": "python"
  },
  "orig_nbformat": 4
 },
 "nbformat": 4,
 "nbformat_minor": 2
}
