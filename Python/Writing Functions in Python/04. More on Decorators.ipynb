{
 "cells": [
  {
   "cell_type": "markdown",
   "metadata": {},
   "source": [
    "# A good decorator"
   ]
  },
  {
   "cell_type": "markdown",
   "metadata": {},
   "source": [
    "```\n",
    "def decorator_func(some_func):\n",
    "  def wrapper(*args, **kwargs): // decorated func with *args and **kwargs\n",
    "    result = some_func(*args, **kwargs)\n",
    "    print('{}() returned type {}'.format(some_func.__name__, type(result)))\n",
    "    return result\n",
    "  return wrapper\n",
    "  \n",
    "@decorator_func\n",
    "def some_func(value):\n",
    "  return value\n",
    "```"
   ]
  },
  {
   "cell_type": "markdown",
   "metadata": {},
   "source": [
    "# Counter"
   ]
  },
  {
   "cell_type": "markdown",
   "metadata": {},
   "source": [
    "- You can operate on function property inside the inner function: `func_name.prop += val`\n",
    "- However, the propery initial value must be declared before the outer function's return call\n",
    "- It can be accessed outside as: `func_name.prop`\n",
    "- It works because function in python is also an object"
   ]
  },
  {
   "cell_type": "markdown",
   "metadata": {},
   "source": [
    "```\n",
    "from functools import wraps\n",
    "\n",
    "def counter(func):\n",
    "  @wraps(func) // You need this for safe docstring support\n",
    "  def wrapper(*args, **kwargs):\n",
    "    wrapper.count += 1 // increment a property\n",
    "    return wrapper.count\n",
    "  wrapper.count = 0 // declare the property\n",
    "\n",
    "  return wrapper\n",
    "\n",
    "@counter\n",
    "def foo():\n",
    "  print('calling foo()')\n",
    "  \n",
    "foo()\n",
    "foo()\n",
    "\n",
    "print('foo() was called {} times.'.format(foo.count))\n",
    "```"
   ]
  },
  {
   "cell_type": "markdown",
   "metadata": {},
   "source": [
    "# `@wraps(func)` in Decorators"
   ]
  },
  {
   "cell_type": "markdown",
   "metadata": {},
   "source": [
    "```\n",
    "@counter\n",
    "def foo():\n",
    "    \"\"\" Some Docstring. \"\"\"\n",
    "    print('calling foo()')\n",
    "```\n",
    "\n",
    "- When using `foo.__doc__` it will retrieve docstring of decorator, not the decorated function"
   ]
  },
  {
   "cell_type": "markdown",
   "metadata": {},
   "source": [
    "To safeguard this, use `@wraps(func)` inside decorator above wrapper/inner function:\n",
    "- It will show decorated function's docstring : `some_func.__doc__`\n",
    "- It will show decorated function's name : `some_func.__name__`\n",
    "- It will show decorated function's default parameters : `some_func.__defaults__`\n",
    "- It will show the original function : `some_func.__wrapped__`\n",
    "- It will call the original function : `some_func.__wrapped__(params)`\n",
    "- Without it, these metadata cannot be accessed for Decorators"
   ]
  },
  {
   "cell_type": "markdown",
   "metadata": {},
   "source": [
    "# A decorator factory"
   ]
  },
  {
   "cell_type": "markdown",
   "metadata": {},
   "source": [
    "This is a process of creating a decorator function that takes in parameters. This is nothing but putting the decorator function inside another function that:\n",
    "- takes the input for that decorator as parameter\n",
    "- returns the decorator"
   ]
  },
  {
   "cell_type": "markdown",
   "metadata": {},
   "source": [
    "```\n",
    "def decorator_factory_func(n):\n",
    "    \"\"\"Define and return a decorator\"\"\"\n",
    "    def decorator(func):\n",
    "        def wrapper(*args, **kwargs):\n",
    "            for i in range(n):\n",
    "                func(*args, **kwargs)\n",
    "            return wrapper\n",
    "    return decorator\n",
    "\n",
    "@decorator_factory_func(3) // calling the decorator factory function\n",
    "def print_sum(a, b):\n",
    "    print(a + b)   \n",
    "```"
   ]
  },
  {
   "cell_type": "markdown",
   "metadata": {},
   "source": [
    "Under the hood :\n",
    "```\n",
    "run_three_times = decorator_factory_func(3) // calling factory func and store decorator as result\n",
    "\n",
    "@run_three_times // use that decorator\n",
    "def print_sum(a, b):\n",
    "    print(a + b)\n",
    "```    \n",
    "\n",
    "In short:\n",
    "\n",
    "```    \n",
    "@run_n_times(3)\n",
    "def print_sum(a, b):\n",
    "print(a + b)\n",
    "```"
   ]
  },
  {
   "cell_type": "markdown",
   "metadata": {},
   "source": [
    "# Modifying Builtin funcs with decorator factory"
   ]
  },
  {
   "cell_type": "markdown",
   "metadata": {},
   "source": [
    "```\n",
    "def run_n_times(n):\n",
    "  \"\"\"Define and return a decorator\"\"\"\n",
    "  def decorator(func):\n",
    "    def wrapper(*args, **kwargs):\n",
    "      for i in range(n):\n",
    "        func(*args, **kwargs) // repeat the occurence of input param func\n",
    "    return wrapper\n",
    "  return decorator\n",
    "\n",
    "new_print = run_n_times(3)(print)\n",
    "\n",
    "new_print('What is happening?!?!')  \n",
    "```"
   ]
  }
 ],
 "metadata": {
  "language_info": {
   "name": "python"
  },
  "orig_nbformat": 4
 },
 "nbformat": 4,
 "nbformat_minor": 2
}
