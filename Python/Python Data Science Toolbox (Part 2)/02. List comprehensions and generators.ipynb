{
 "cells": [
  {
   "cell_type": "markdown",
   "metadata": {},
   "source": [
    "# Write a basic list comprehension"
   ]
  },
  {
   "cell_type": "markdown",
   "metadata": {},
   "source": [
    "```\n",
    "result = [expression for_loop1 for_loop2]\n",
    "\n",
    "\n",
    "doctor = ['house', 'cuddy', 'chase', 'thirteen', 'wilson']\n",
    "result = [doc[0] for doc in doctor] // returns only first character\n",
    "```"
   ]
  },
  {
   "cell_type": "markdown",
   "metadata": {},
   "source": [
    "# List comprehension over iterables"
   ]
  },
  {
   "cell_type": "markdown",
   "metadata": {},
   "source": [
    "Can be used on:\n",
    "- list\n",
    "- string\n",
    "- range etc"
   ]
  },
  {
   "cell_type": "markdown",
   "metadata": {},
   "source": [
    "# Writing list comprehensions"
   ]
  },
  {
   "cell_type": "markdown",
   "metadata": {},
   "source": [
    "`squares = [i**2 for i in range(10)]`"
   ]
  },
  {
   "cell_type": "markdown",
   "metadata": {},
   "source": [
    "# Nested list comprehensions"
   ]
  },
  {
   "cell_type": "markdown",
   "metadata": {},
   "source": [
    "```\n",
    "matrix = [[col for col in range(5)] for row in range(5)]\n",
    "\n",
    "for row in matrix: // Print the matrix\n",
    "    print(row)\n",
    "```"
   ]
  },
  {
   "cell_type": "markdown",
   "metadata": {},
   "source": [
    "# Using conditionals in comprehensions (1)"
   ]
  },
  {
   "cell_type": "markdown",
   "metadata": {},
   "source": [
    "```\n",
    "[expression for_loop if_condition]\n",
    "\n",
    "\n",
    "num_list = [1, 2, 3, 4, 5, 6, 7]\n",
    "\n",
    "even_nums = [number for number in num_list if number % 2 == 0]\n",
    "```"
   ]
  },
  {
   "cell_type": "markdown",
   "metadata": {},
   "source": [
    "# Using conditionals in comprehensions (2)"
   ]
  },
  {
   "cell_type": "markdown",
   "metadata": {},
   "source": [
    "```\n",
    "[if_expression if condition else  else_expression for_loop]\n",
    "\n",
    "\n",
    "num_list = [1, 2, 3, 4, 5, 6, 7]\n",
    "\n",
    "even_nums = [\"even\" if number % 2 == 0 else \"odd\" for number in num_list]\n",
    "\n",
    "```"
   ]
  },
  {
   "cell_type": "markdown",
   "metadata": {},
   "source": [
    "# Dict comprehensions"
   ]
  },
  {
   "cell_type": "markdown",
   "metadata": {},
   "source": [
    "```\n",
    "family_members = ['abir', 'ashik', 'zakir']\n",
    "\n",
    "member_name_length = {member : len(member) for member in family_members}\n",
    "\n",
    "```"
   ]
  },
  {
   "cell_type": "markdown",
   "metadata": {},
   "source": [
    "# List comprehensions vs. generators"
   ]
  },
  {
   "cell_type": "markdown",
   "metadata": {},
   "source": [
    "- A list comprehension produces a list as output (stores result in memory)\n",
    "- A generator produces a generator object (does not store in memory, produces result on the fly)"
   ]
  },
  {
   "cell_type": "markdown",
   "metadata": {},
   "source": [
    "# Write your own generator expressions"
   ]
  },
  {
   "cell_type": "markdown",
   "metadata": {},
   "source": [
    "- Generators do lazy evaluation. They will not be evaluated unless called explicitly.\n",
    "- Useful to process a huge volume of data or data that is computationally expensive"
   ]
  },
  {
   "cell_type": "markdown",
   "metadata": {},
   "source": [
    "```\n",
    "some_generator = (num for num in range(31))\n",
    "\n",
    "print(next(some_generator)) // Print the next values\n",
    "print(next(some_generator))\n",
    "```"
   ]
  },
  {
   "cell_type": "markdown",
   "metadata": {},
   "source": [
    "# Changing the output in generator expressions"
   ]
  },
  {
   "cell_type": "markdown",
   "metadata": {},
   "source": [
    "```\n",
    "family_memebers = ['abir', 'ashik', 'zakir']\n",
    "\n",
    "lengths = (len(member) for member in family_memebers)\n",
    "\n",
    "for value in lengths: // # Iterating over a generator\n",
    "    print(value)\n",
    "\n",
    "```"
   ]
  },
  {
   "cell_type": "markdown",
   "metadata": {},
   "source": [
    "# Build a generator"
   ]
  },
  {
   "cell_type": "markdown",
   "metadata": {},
   "source": [
    "Instead of `return`, use `yield` to make a generator function"
   ]
  },
  {
   "cell_type": "markdown",
   "metadata": {},
   "source": [
    "```\n",
    "family_memebers = ['abir', 'ashik', 'zakir']\n",
    "\n",
    "def get_lengths(input_list):\n",
    "    for person in input_list:\n",
    "        yield len(person) // yield is the key-word that makes this function a generator function\n",
    "\n",
    "for value in get_lengths(family_memebers):\n",
    "    print(value)\n",
    "```"
   ]
  }
 ],
 "metadata": {
  "language_info": {
   "name": "python"
  },
  "orig_nbformat": 4
 },
 "nbformat": 4,
 "nbformat_minor": 2
}
