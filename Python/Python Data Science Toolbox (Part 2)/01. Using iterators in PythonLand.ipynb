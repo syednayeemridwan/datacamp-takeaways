{
 "cells": [
  {
   "cell_type": "markdown",
   "metadata": {},
   "source": [
    "# Iterators vs. Iterables"
   ]
  },
  {
   "cell_type": "markdown",
   "metadata": {},
   "source": [
    "- iterable = the object you iterate\n",
    "- iterator = the object you use to iterate the iterable"
   ]
  },
  {
   "cell_type": "markdown",
   "metadata": {},
   "source": [
    "```\n",
    "iterator_obj = iter(iterable_obj) // define the pointer state of iterator\n",
    "print(iterable_obj) // prints whole object\n",
    "print(iterator_obj) // prints object definition iterator_type name\n",
    "next(iterator_obj) // prints next iterator object\n",
    "print(*iterator_obj) // prints original object value but exhausts iterator\n",
    "```"
   ]
  },
  {
   "cell_type": "markdown",
   "metadata": {},
   "source": [
    "# Iterating over iterables (1)"
   ]
  },
  {
   "cell_type": "markdown",
   "metadata": {},
   "source": [
    "```\n",
    "some_list = ['a', 'b', 'c', 'd']\n",
    "\n",
    "for item in some_list:\n",
    "    print(item)\n",
    "\n",
    "iter_item = iter(some_list)\n",
    "\n",
    "print(next(some_list))\n",
    "print(next(some_list))\n",
    "print(next(some_list))\n",
    "print(next(some_list))\n",
    "```"
   ]
  },
  {
   "cell_type": "markdown",
   "metadata": {},
   "source": [
    "# Iterating over iterables (2)"
   ]
  },
  {
   "cell_type": "markdown",
   "metadata": {},
   "source": [
    "`range()` creates a range object with an iterator that produces the values until it reaches the limit"
   ]
  },
  {
   "cell_type": "markdown",
   "metadata": {},
   "source": [
    "```\n",
    "range_obj = iter(range(10 ** 100))\n",
    "print(next(range_obj))\n",
    "```"
   ]
  },
  {
   "cell_type": "markdown",
   "metadata": {},
   "source": [
    "# Iterators as function arguments"
   ]
  },
  {
   "cell_type": "markdown",
   "metadata": {},
   "source": [
    "```\n",
    "range_obj = range(10,21) // range object\n",
    "range_list = list(range_obj) // list\n",
    "print(range_list)  \n",
    "range_sum = sum(range_list) // sum of list\n",
    "print(range_sum)\n",
    "```"
   ]
  },
  {
   "cell_type": "markdown",
   "metadata": {},
   "source": [
    "# Using enumerate"
   ]
  },
  {
   "cell_type": "markdown",
   "metadata": {},
   "source": [
    "```\n",
    "some_list = ['a', 'b', 'c', 'd', 'e]\n",
    "indexed_list = list(enumerate(some_list, start=1)) // add index with each element of list. Index starts with 1\n",
    "\n",
    "for index, value in enumerate(indexed_list):\n",
    "    print(index, value)\n",
    "```"
   ]
  },
  {
   "cell_type": "markdown",
   "metadata": {},
   "source": [
    "# Using zip"
   ]
  },
  {
   "cell_type": "markdown",
   "metadata": {},
   "source": [
    "```\n",
    "combined_list = list(zip(list_1, list_2, list_3)) // combines 3 list items element-wise in tuples\n",
    "\n",
    "for value1, value2, value3 in combined_list:\n",
    "    print(value1, value2, value3)\n",
    "```"
   ]
  },
  {
   "cell_type": "markdown",
   "metadata": {},
   "source": [
    "# Using * and zip to 'unzip'"
   ]
  },
  {
   "cell_type": "markdown",
   "metadata": {},
   "source": [
    "```\n",
    "combined_list = zip(list_1 , list_2)\n",
    "print(*combined_list) // unzip the tuples\n",
    "```"
   ]
  },
  {
   "cell_type": "markdown",
   "metadata": {},
   "source": [
    "# Processing large amounts from CSV files"
   ]
  },
  {
   "cell_type": "markdown",
   "metadata": {},
   "source": [
    "```\n",
    "counts_dict = {}\n",
    "\n",
    "for chunk in pd.read_csv('file_name.csv', chunksize = 10):\n",
    "\n",
    "    for entry in chunk['col_name']:\n",
    "        if entry in counts_dict.keys():\n",
    "            counts_dict[entry] += 1\n",
    "        else:\n",
    "            counts_dict[entry] = 1\n",
    "\n",
    "```"
   ]
  }
 ],
 "metadata": {
  "language_info": {
   "name": "python"
  },
  "orig_nbformat": 4
 },
 "nbformat": 4,
 "nbformat_minor": 2
}
