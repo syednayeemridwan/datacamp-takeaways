{
 "cells": [
  {
   "cell_type": "markdown",
   "metadata": {},
   "source": [
    "Regex normal patterns:\n",
    "- `\\d` is digit\n",
    "- `\\D` is non-digit\n",
    "- `\\s` is space\n",
    "- `\\S` is non-space\n",
    "- `\\w` is word-character\n",
    "- `\\W` is non-word-character\n",
    "- `{3,5}` is range of repitition\n",
    "- `+` is one or more\n",
    "- `*` is zero or more\n",
    "- `?` is zero or once\n",
    "- `.` is any character\n",
    "- `^` is beginning of string\n",
    "- `$` is ending of string\n",
    "- `|` is OR\n",
    "- `[]` is set for IN\n",
    "- `[^0-9]` is set for NOT IN for these 0 to 9\n"
   ]
  },
  {
   "cell_type": "markdown",
   "metadata": {},
   "source": [
    "# Finding all regex"
   ]
  },
  {
   "cell_type": "markdown",
   "metadata": {},
   "source": [
    "```\n",
    "import re\n",
    "regex = r\"@robot\\d\\W\" // defining a regex\n",
    "\n",
    "print(re.findall(regex, some_str)) // Find all matches of regex\n",
    "```"
   ]
  },
  {
   "cell_type": "markdown",
   "metadata": {},
   "source": [
    "# Find the numbers"
   ]
  },
  {
   "cell_type": "markdown",
   "metadata": {},
   "source": [
    "```\n",
    "print(re.findall(r\"User_mentions:\\d\", sentiment_analysis))\n",
    "\n",
    "print(re.findall(r\"likes:\\s\\d\", sentiment_analysis))\n",
    "\n",
    "print(re.findall(r\"number\\sof\\sretweets:\\s\\d\", sentiment_analysis))\n",
    "```"
   ]
  },
  {
   "cell_type": "markdown",
   "metadata": {},
   "source": [
    "# Match and split"
   ]
  },
  {
   "cell_type": "markdown",
   "metadata": {},
   "source": [
    "```\n",
    "regex_sentence = r\"\\W\\dbreak\\W\"\n",
    "\n",
    "sentiment_sub = re.sub(regex_sentence, \" \", some_str) // Replace the regex_sentence with a space\n",
    "```"
   ]
  },
  {
   "cell_type": "markdown",
   "metadata": {},
   "source": [
    "# Getting tokens"
   ]
  },
  {
   "cell_type": "markdown",
   "metadata": {},
   "source": [
    "```\n",
    "regex = r\"#\\w+\"\n",
    "\n",
    "replaced_str = re.sub(regex, \"\", some_string) // Replace the regex by an empty string\n",
    "\n",
    "print(re.split(r\"\\s+\", replaced_str)) // Get tokens by splitting text\n",
    "```"
   ]
  },
  {
   "cell_type": "markdown",
   "metadata": {},
   "source": [
    "# Finding files"
   ]
  },
  {
   "cell_type": "markdown",
   "metadata": {},
   "source": [
    "```\n",
    "regex = r\"^[aeiouAEIOU]{2,3}.+\\.txt\"\n",
    "\n",
    "print(re.findall(regex, text)) // all matches of the regex\n",
    "print(re.sub(regex, \"\", text)) // all matches with empty string\n",
    "```"
   ]
  },
  {
   "cell_type": "markdown",
   "metadata": {},
   "source": [
    "# Give me your email"
   ]
  },
  {
   "cell_type": "markdown",
   "metadata": {},
   "source": [
    "```\n",
    "regex = r\"[a-zA-Z0-9!#%&*$\\.]+@\\w+\\.com\" //email regex\n",
    "\n",
    "re.match(regex, some_string) // find emails\n",
    "```"
   ]
  },
  {
   "cell_type": "markdown",
   "metadata": {},
   "source": [
    "# Invalid password"
   ]
  },
  {
   "cell_type": "markdown",
   "metadata": {},
   "source": [
    "```\n",
    "regex = r\"[a-zA-Z0-9\\*#\\$%!&\\.]{8,20}\" // password regex\n",
    "\n",
    "re.match(regex, some_string) // find passwords\n",
    "```"
   ]
  },
  {
   "cell_type": "markdown",
   "metadata": {},
   "source": [
    "# Greedy vs Lazy"
   ]
  },
  {
   "cell_type": "markdown",
   "metadata": {},
   "source": [
    "- `?` is added for lazy after `+` or `*`"
   ]
  },
  {
   "cell_type": "markdown",
   "metadata": {},
   "source": [
    "```\n",
    "import re\n",
    "\n",
    "string_notags = re.sub(r\"<.+?>\",\"\", string) // eliminate tags\n",
    "```"
   ]
  },
  {
   "cell_type": "markdown",
   "metadata": {},
   "source": [
    "# Greedy matching"
   ]
  },
  {
   "cell_type": "markdown",
   "metadata": {},
   "source": [
    "```\n",
    "re.findall(r\"\\d+?\", some_string) // lazy regex expression \n",
    "re.findall(r\"\\d+\", some_string) // greedy regex expression \n",
    "```"
   ]
  },
  {
   "cell_type": "markdown",
   "metadata": {},
   "source": [
    "# Lazy approach vs Greedy Approach"
   ]
  },
  {
   "cell_type": "markdown",
   "metadata": {},
   "source": [
    "A sentence has `Apple Pie`. Different approach gives different results:\n",
    "- greedy approach with `A` and `e` = `Apple Pie`\n",
    "- lazy approach with `A` and `e` = `Apple`"
   ]
  }
 ],
 "metadata": {
  "kernelspec": {
   "display_name": "Python 3.8.3 ('base')",
   "language": "python",
   "name": "python3"
  },
  "language_info": {
   "name": "python",
   "version": "3.8.3"
  },
  "orig_nbformat": 4,
  "vscode": {
   "interpreter": {
    "hash": "dc575bfddb5c8ca4bb6a4f4dcdd32abc104b5fa4177361381c432fff36ce3e46"
   }
  }
 },
 "nbformat": 4,
 "nbformat_minor": 2
}
