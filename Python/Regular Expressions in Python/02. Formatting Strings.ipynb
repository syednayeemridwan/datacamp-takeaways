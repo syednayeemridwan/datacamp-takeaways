{
 "cells": [
  {
   "cell_type": "markdown",
   "metadata": {},
   "source": [
    "# Put it in order!"
   ]
  },
  {
   "cell_type": "markdown",
   "metadata": {},
   "source": [
    "```\n",
    "str_1 = \"The tool {} is used in {}\" // default placeholders\n",
    "\n",
    "str_2 = \"The tool {1} is used in {0}\" // rearranged placeholders\n",
    "\n",
    "str_1.format(first_pos, second_pos) // a,b\n",
    "str_2.format(first_pos, second_pos) // b,a\n",
    "```"
   ]
  },
  {
   "cell_type": "markdown",
   "metadata": {},
   "source": [
    "# Calling by its name"
   ]
  },
  {
   "cell_type": "markdown",
   "metadata": {},
   "source": [
    "```\n",
    "# Create a dictionary\n",
    "some_dict = {\"key_1\": val_1,\n",
    "        \"key_2\": val_2}\n",
    "\n",
    "some_string = \"key_1 = {data[key_1]} and key_2 = {data[key_2]}\"\n",
    "\n",
    "print(some_string.format(data=some_dict)) // using dictionary to replace placeholders\n",
    "```"
   ]
  },
  {
   "cell_type": "markdown",
   "metadata": {},
   "source": [
    "`print(\"{my_name} is an {my_job}\".format(my_name=\"Abir\", my_job=\"Engineer\"))`"
   ]
  },
  {
   "cell_type": "markdown",
   "metadata": {},
   "source": [
    "# Format specifier"
   ]
  },
  {
   "cell_type": "markdown",
   "metadata": {},
   "source": [
    "```\n",
    "// {index:specifier}\n",
    "\n",
    "print(\"Only {0:f}% of the {1} produced worldwide is {2}!\".format(0.5155675, \"data\", \"analyzed\")) // float with format specifier\n",
    "\n",
    "```"
   ]
  },
  {
   "cell_type": "markdown",
   "metadata": {},
   "source": [
    "# Formatting dates"
   ]
  },
  {
   "cell_type": "markdown",
   "metadata": {},
   "source": [
    "```\n",
    "from datetime import datetime\n",
    "today = datetime.now()\n",
    "\n",
    "# Add named placeholders with format specifiers\n",
    "message = \"Good morning. Today is {some_date:%B %d, %Y}. It's {some_date:%H:%M} ... time to work!\"\n",
    "print(message.format(some_date=today))\n",
    "```"
   ]
  },
  {
   "cell_type": "markdown",
   "metadata": {},
   "source": [
    "`print(\"Today's date is {:%Y-%m-%d %H:%M}\".format(datetime.now()))`"
   ]
  },
  {
   "cell_type": "markdown",
   "metadata": {},
   "source": [
    "# Literally formatting"
   ]
  },
  {
   "cell_type": "markdown",
   "metadata": {},
   "source": [
    "Allowed conversions:\n",
    "- `!s` (string version)\n",
    "- `!r` (string containing a printable representation, i.e. with quotes)\n",
    "- `!a` (same as !r but escape the non-ASCII characters)"
   ]
  },
  {
   "cell_type": "markdown",
   "metadata": {},
   "source": [
    "```\n",
    "# Complete the f-string\n",
    "print(f\"Data science is considered {field1!r} in the {fact1:d}st century\")\n",
    "\n",
    "# Complete the f-string\n",
    "print(f\"About {fact2:e} of {field2} in the world\") // e for exponential\n",
    "\n",
    "# Complete the f-string\n",
    "print(f\"{field3} create around {round(fact3,2)}% of the data but only {round(fact4,1)}% is analyzed\") // evvaluating expression inside the braces\n",
    "```"
   ]
  },
  {
   "cell_type": "markdown",
   "metadata": {},
   "source": [
    "# Make this function"
   ]
  },
  {
   "cell_type": "markdown",
   "metadata": {},
   "source": [
    "```\n",
    "print(f\"{string1.replace('https', '')}\") // replacing inside f-string\n",
    "\n",
    "print(f\"Only {round(len(list_links)*100/120,2)}% of the posts contain links\") // calculation inside f-string\n",
    "```"
   ]
  },
  {
   "cell_type": "markdown",
   "metadata": {},
   "source": [
    "# On time"
   ]
  },
  {
   "cell_type": "markdown",
   "metadata": {},
   "source": [
    "```\n",
    "print(f\"The date is {some_date:%m-%d-%Y}.\") // formatting date with f-string\n",
    "```"
   ]
  },
  {
   "cell_type": "markdown",
   "metadata": {},
   "source": [
    "# Preparing a report with Templates"
   ]
  },
  {
   "cell_type": "markdown",
   "metadata": {},
   "source": [
    "```\n",
    "from string import Template\n",
    "some_template = Template(\"$tool is a $description\")\n",
    "\n",
    "# Substitute variables in template\n",
    "print(some_template.substitute(tool=tool1, description=description1))\n",
    "print(some_template.substitute(tool=tool2, description=description2))\n",
    "print(some_template.substitute(tool=tool3, description=description3))\n",
    "```"
   ]
  },
  {
   "cell_type": "markdown",
   "metadata": {},
   "source": [
    "```\n",
    "from string import Template\n",
    "\n",
    "str_template = Template(\"We are offering a 3-month beginner course on $tool just for $$ $fee ${pay}ly\") // use of $$ and {} to allow special and extra valid chars\n",
    "\n",
    "print(str_template.substitute(tool=our_tool, pay=our_pay, fee=our_fee))\n",
    "```"
   ]
  },
  {
   "cell_type": "markdown",
   "metadata": {},
   "source": [
    "# Playing safe"
   ]
  },
  {
   "cell_type": "markdown",
   "metadata": {},
   "source": [
    "```\n",
    "from string import Template\n",
    "\n",
    "str_template = Template(\"Check your answer 1: $answer1, and your answer 2: $answer2\")\n",
    "\n",
    "# Use safe_substitute to replace identifiers\n",
    "try:\n",
    "    print(str_template.safe_substitute(some_dict)) // fetch from dictionary to substitute safely\n",
    "except KeyError:\n",
    "    print(\"Missing information\")\n",
    "```"
   ]
  }
 ],
 "metadata": {
  "kernelspec": {
   "display_name": "Python 3.8.3 ('base')",
   "language": "python",
   "name": "python3"
  },
  "language_info": {
   "name": "python",
   "version": "3.8.3"
  },
  "orig_nbformat": 4,
  "vscode": {
   "interpreter": {
    "hash": "dc575bfddb5c8ca4bb6a4f4dcdd32abc104b5fa4177361381c432fff36ce3e46"
   }
  }
 },
 "nbformat": 4,
 "nbformat_minor": 2
}
