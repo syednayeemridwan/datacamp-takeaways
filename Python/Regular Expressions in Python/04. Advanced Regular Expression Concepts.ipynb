{
 "cells": [
  {
   "cell_type": "markdown",
   "metadata": {},
   "source": [
    "# Capturing Group"
   ]
  },
  {
   "cell_type": "markdown",
   "metadata": {},
   "source": [
    "```\n",
    "regex_email = r\"\\s([a-zA-Z0-9]+)@\\S+\" // grouping usernames of email address\n",
    "\n",
    "email_matched = re.findall(regex_email, some_string)\n",
    "```"
   ]
  },
  {
   "cell_type": "markdown",
   "metadata": {},
   "source": [
    "# Multiple Groups"
   ]
  },
  {
   "cell_type": "markdown",
   "metadata": {},
   "source": [
    "```\n",
    "import re\n",
    "\n",
    "some_string =  \"Here you have your boarding pass LA4214 AER-CDB 06NOV\"\n",
    "regex = r\"([A-Z]{2})(\\d{4})\\s([A-Z]{3})-([A-Z]{3})\\s(\\d{2}[A-Z]{3})\"\n",
    "\n",
    "flight_matches = re.findall(regex, some_string)\n",
    "    \n",
    "print(\"Airline: {} Flight number: {}\".format(flight_matches[0][0], flight_matches[0][1]))\n",
    "print(\"Departure: {} Destination: {}\".format(flight_matches[0][2], flight_matches[0][3]))\n",
    "print(\"Date: {}\".format(flight_matches[0][4]))\n",
    "```"
   ]
  },
  {
   "cell_type": "markdown",
   "metadata": {},
   "source": [
    "# repeated group `(\\d+)` vs. repeat a capturing group `(\\d)+`"
   ]
  },
  {
   "cell_type": "markdown",
   "metadata": {},
   "source": [
    "- repeated group `(\\d+)` = one group \n",
    "- repeat a capturing group `(\\d)+` = multiple groups "
   ]
  },
  {
   "cell_type": "markdown",
   "metadata": {},
   "source": [
    "# OR Groups"
   ]
  },
  {
   "cell_type": "markdown",
   "metadata": {},
   "source": [
    "```\n",
    "regex = r\"(love|like|enjoy).+?the\\s(movie|concert)\\s(.+?)\\.\" //  regex that matches sentences with optional words\n",
    "\n",
    "re.findall(regex, some_string)\n",
    "```"
   ]
  },
  {
   "cell_type": "markdown",
   "metadata": {},
   "source": [
    "# Non-capturing groups"
   ]
  },
  {
   "cell_type": "markdown",
   "metadata": {},
   "source": [
    "- Do not capture the grouped chars with `(?:..)`\n",
    "- use with lazy `?` approach to capture little difference"
   ]
  },
  {
   "cell_type": "markdown",
   "metadata": {},
   "source": [
    "```\n",
    "regex_non = r\"(hate|dislike|disapprove).+?(?:movie|concert)\\s(.+?)\\.\"\n",
    "\n",
    "negative_matches = re.findall(regex_non, some_string)\n",
    "```"
   ]
  },
  {
   "cell_type": "markdown",
   "metadata": {},
   "source": [
    "# Parsing PDF files"
   ]
  },
  {
   "cell_type": "markdown",
   "metadata": {},
   "source": [
    "```\n",
    "some_string = \"Signed on 05/24/2016\"\n",
    "regex_dates = r\"Signed\\son\\s(\\d{2})/(\\d{2})/(\\d{4})\"\n",
    "group_list = re.search(regex_dates, some_string)\n",
    "\n",
    "# Assign to each key the corresponding match\n",
    "some_dict = {\n",
    "\t\"day\": group_list.group(2), // access group with index\n",
    "\t\"month\": group_list.group(1),\n",
    "\t\"year\": group_list.group(3)\n",
    "}\n",
    "print(\"Our first contract is dated back to {data[year]}. Particularly, the day {data[day]} of the month {data[month]}.\".format(data=some_dict))\n",
    "```"
   ]
  },
  {
   "cell_type": "markdown",
   "metadata": {},
   "source": [
    "# Close the tag, please!"
   ]
  },
  {
   "cell_type": "markdown",
   "metadata": {},
   "source": [
    "```\n",
    "match_tag =  re.match(r\"<(\\w+)>.*?</\\1>\", some_string) // referencing \\1 with previous frequency\n",
    "print(\"Your tag {} is closed\".format(match_tag.group(1))) \n",
    "notmatch_tag = re.match(r\"<(\\w+)>\", some_string)\n",
    "print(\"Close your {} tag!\".format(notmatch_tag.group(1)))\n",
    "```"
   ]
  },
  {
   "cell_type": "markdown",
   "metadata": {},
   "source": [
    "# Back-referencing"
   ]
  },
  {
   "cell_type": "markdown",
   "metadata": {},
   "source": [
    "- catch repeated words"
   ]
  },
  {
   "cell_type": "markdown",
   "metadata": {},
   "source": [
    "```\n",
    "some_string = \"I wish you a happy happy birthday!\"\n",
    "re.findall(r\"(\\w+)\\s\\1\", some_string) // catch the duplicated words\n",
    "```"
   ]
  },
  {
   "cell_type": "markdown",
   "metadata": {},
   "source": [
    "- replace repeated words with single word"
   ]
  },
  {
   "cell_type": "markdown",
   "metadata": {},
   "source": [
    "```\n",
    "some_string = \"I wish you a happy happy birthday!\"\n",
    "re.sub(r\"(\\w+)\\s\\1\", r\"\\1\", some_string)\n",
    "```"
   ]
  },
  {
   "cell_type": "markdown",
   "metadata": {},
   "source": [
    "# Named Referencing"
   ]
  },
  {
   "cell_type": "markdown",
   "metadata": {},
   "source": [
    "- Normal syntax: `r\"(?P<some_name>regex)regex(?P=some_name)`"
   ]
  },
  {
   "cell_type": "markdown",
   "metadata": {},
   "source": [
    "```\n",
    "some_string = \"Your new code number is 23434. Please, enter 23434 to open the door.\"\n",
    "re.findall(r\"(?P<code>\\d{5}).*?(?P=code)\", some_string) // \n",
    "```"
   ]
  },
  {
   "cell_type": "markdown",
   "metadata": {},
   "source": [
    "- removing duplicates with named referencing"
   ]
  },
  {
   "cell_type": "markdown",
   "metadata": {},
   "source": [
    "```\n",
    "some_string = \"This app is not working! It's repeating the last word word.\"\n",
    "re.sub(r\"(?P<word>\\w+)\\s(?P=word)\", r\"\\g<word>\", some_string) // r\"\\g<group_name>\"\n",
    "```"
   ]
  },
  {
   "cell_type": "markdown",
   "metadata": {},
   "source": [
    "# Reeepeated characters"
   ]
  },
  {
   "cell_type": "markdown",
   "metadata": {},
   "source": [
    "```\n",
    "regex_elongated = r\"\\w*(\\w)\\1\\w*\" // identify more than one frequency with \\1 referencing\n",
    "\n",
    "match_elongated = re.search(regex_elongated, some_string)\n",
    "elongated_word = match_elongated.group(0)\n",
    "```"
   ]
  },
  {
   "cell_type": "markdown",
   "metadata": {},
   "source": [
    "# Looking Around"
   ]
  },
  {
   "cell_type": "markdown",
   "metadata": {},
   "source": [
    "- Positive lookahead `(?=)` = before the pattern\n",
    "- Positive lookbehind `(?<=)` = after the pattern"
   ]
  },
  {
   "cell_type": "markdown",
   "metadata": {},
   "source": [
    "```\n",
    "look_ahead = re.findall(r\"\\w+(?=\\spython).\", some_string) // before the word python\n",
    "\n",
    "look_behind = re.findall(r\"(?<=[pP]ython\\s)\\w+\", some_string) // after the word python\n",
    "```"
   ]
  },
  {
   "cell_type": "markdown",
   "metadata": {},
   "source": [
    "- Negative lookahead `(?!)` = after the pattern\n",
    "- Negative lookbehind `(?<!)` = before the pattern"
   ]
  },
  {
   "cell_type": "markdown",
   "metadata": {},
   "source": [
    "```\n",
    "neg_look_ahead = re.findall(r\"(?<!\\d{3}-)\\d{4}-\\d{6}-\\d{2}\", some_string)\n",
    "neg_look_behind = re.findall(r\"\\d{3}-\\d{4}-\\d{6}(?!-\\d{2})\", some_string)\n",
    "```"
   ]
  }
 ],
 "metadata": {
  "kernelspec": {
   "display_name": "Python 3.8.3 ('base')",
   "language": "python",
   "name": "python3"
  },
  "language_info": {
   "name": "python",
   "version": "3.8.3"
  },
  "orig_nbformat": 4,
  "vscode": {
   "interpreter": {
    "hash": "dc575bfddb5c8ca4bb6a4f4dcdd32abc104b5fa4177361381c432fff36ce3e46"
   }
  }
 },
 "nbformat": 4,
 "nbformat_minor": 2
}
