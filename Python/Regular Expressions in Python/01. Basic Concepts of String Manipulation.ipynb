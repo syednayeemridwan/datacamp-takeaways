{
 "cells": [
  {
   "cell_type": "markdown",
   "metadata": {},
   "source": [
    "# Common string operations"
   ]
  },
  {
   "cell_type": "markdown",
   "metadata": {},
   "source": [
    "```\n",
    "length_string = len(string_name) // length of a string\n",
    "\n",
    "to_string = str(some_val) // Convert to string\n",
    "\n",
    "print(str_1 +\" \"+ str_2) // Concatenate strings\n",
    "```"
   ]
  },
  {
   "cell_type": "markdown",
   "metadata": {},
   "source": [
    "# Sub-string selection"
   ]
  },
  {
   "cell_type": "markdown",
   "metadata": {},
   "source": [
    "```\n",
    "first_part = some_string[:32] // Select the first 32 characters\n",
    "\n",
    "last_part = some_string[42:] // from 43rd character to the end\n",
    "\n",
    "middle_part = some_string[32:42] // Select from 33rd to the 42nd character\n",
    "```"
   ]
  },
  {
   "cell_type": "markdown",
   "metadata": {},
   "source": [
    "# Palindromes"
   ]
  },
  {
   "cell_type": "markdown",
   "metadata": {},
   "source": [
    "```\n",
    "reverse_string = some_string[::-1]\n",
    "\n",
    "every_nth_char = some_string[::2] // every 2nd characters string\n",
    "\n",
    "```"
   ]
  },
  {
   "cell_type": "markdown",
   "metadata": {},
   "source": [
    "# Case and Strip"
   ]
  },
  {
   "cell_type": "markdown",
   "metadata": {},
   "source": [
    "```\n",
    "lower_string = some_string.lower() // to lower case\n",
    "\n",
    "remove_char = some_string.strip(\"$\") // Remove specified character\n",
    "\n",
    "string_list = some_string.split(\" \")\n",
    "\n",
    "strlist_char = string_list[1][]\n",
    "```"
   ]
  },
  {
   "cell_type": "markdown",
   "metadata": {},
   "source": [
    "# Time to join!"
   ]
  },
  {
   "cell_type": "markdown",
   "metadata": {},
   "source": [
    "```\n",
    "strip_r = some_string.rstrip(\"<\\i>\") // strip from right\n",
    "strip_l = some_string.lstrip(\"<\\i>\") // strip from left\n",
    "\n",
    "str_list = some_string.split(\",\") // Split the string using commas\n",
    "\n",
    "joined_str = \" \".join(str_list) // join a string with separator\n",
    "```"
   ]
  },
  {
   "cell_type": "markdown",
   "metadata": {},
   "source": [
    "# Split lines or split the line?"
   ]
  },
  {
   "cell_type": "markdown",
   "metadata": {},
   "source": [
    "```\n",
    "split_lines = some_string.splitlines() // Split string at line boundaries\n",
    "```"
   ]
  },
  {
   "cell_type": "markdown",
   "metadata": {},
   "source": [
    "# Finding a substring"
   ]
  },
  {
   "cell_type": "markdown",
   "metadata": {},
   "source": [
    "`.find()` returns `-1` if substring not found."
   ]
  },
  {
   "cell_type": "markdown",
   "metadata": {},
   "source": [
    "```\n",
    "some_string.find(\"abc\", 37, 42) // find abc inside a string \n",
    "some_string.count(\"abc\") // find frequency of abc inside a string  \n",
    "```"
   ]
  },
  {
   "cell_type": "markdown",
   "metadata": {},
   "source": [
    "`.index()` returns `ValueError Exception` if substring not found."
   ]
  },
  {
   "cell_type": "markdown",
   "metadata": {},
   "source": [
    "```\n",
    "try:\n",
    "\tprint(some_string.index('abc', 12, 51)) // find abc in a string's range\n",
    "except ValueError:\n",
    "  print(\"not found\")\n",
    "```  "
   ]
  },
  {
   "cell_type": "markdown",
   "metadata": {},
   "source": [
    "# Replacing"
   ]
  },
  {
   "cell_type": "markdown",
   "metadata": {},
   "source": [
    "```\n",
    "movie.replace(\"xyz\", \"abc\")) // replace xyz with abc\n",
    "```"
   ]
  }
 ],
 "metadata": {
  "language_info": {
   "name": "python"
  },
  "orig_nbformat": 4
 },
 "nbformat": 4,
 "nbformat_minor": 2
}
