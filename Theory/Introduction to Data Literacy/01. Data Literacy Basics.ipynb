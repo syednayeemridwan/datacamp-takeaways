{
 "cells": [
  {
   "cell_type": "markdown",
   "metadata": {},
   "source": [
    "# Data Literacy"
   ]
  },
  {
   "cell_type": "markdown",
   "metadata": {},
   "source": [
    "- Lots of data = lots of complexity\n",
    "- How to gather valuable insights?\n",
    "    - Data literacy can help us learn how data can be used to connect the dots and create value\n",
    "- data literacy is about learning how to critically think about and interact with data and its analysis\n",
    "    - Understanding its relevance\n",
    "    - Placing it into context\n",
    "    - Knowing both its potential and its limits\n",
    "- The ability to read, work with, analyze, and communicate insights with data.\n",
    "- 3 key components:\n",
    "    1. Reading data\n",
    "        - Identify data sources\n",
    "        - Collect data\n",
    "        - Manage data that is already collected\n",
    "        - Tools: Databases\n",
    "    2. Working with and analyzing data\n",
    "        - Turn data into insights\n",
    "        - 2 types:\n",
    "            1. Descriptive analytics\n",
    "            2. Predictive analytics\n",
    "    3. Communicating insights with data\n",
    "        - Demonstrate your insights\n",
    "        - Present possible actions\n",
    "        - Tools: Visualizations, Storytelling"
   ]
  },
  {
   "cell_type": "markdown",
   "metadata": {},
   "source": [
    "# DIKW pyramid"
   ]
  },
  {
   "cell_type": "markdown",
   "metadata": {},
   "source": [
    "- Data Information Knowledge Wisdom\n",
    "- The higher we go = the more value we get\n",
    "- Data :\n",
    "    - Collection of raw observations \n",
    "    - Unorganized, \n",
    "    - unprocessed, \n",
    "    - does not have meaning (yet)\n",
    "    - example : The thermometer shows 15°C/59°F and there are dark clouds. It is starting to rain.\n",
    "- Information:\n",
    "    - Raw data placed into context\n",
    "    - Typically done by organizing oraggregating data (Putting things in order)\n",
    "    - example : First the temperature dropped severaldegrees, then it became cloudy and then  it started to rain.\n",
    "- Knowledge:\n",
    "    - Combine information and make connections to learn and gain meaning\n",
    "    - Typically done by detecting patterns, \n",
    "    - making generalizations (possible connections)\n",
    "    - making predictions\n",
    "    - example : A drop in temperature followed by theformation of dark clouds, predicts that it is likely going to rain.\n",
    "- Wisdom:\n",
    "    - Applied knowledge to act proactively (applying knowledge to determine course of action)\n",
    "    - Typically done by combining knowledgelogically to determine the course of action\n",
    "    - example : Based on my knowledge of the weather, I know when it is going to rain and can bring my umbrella ( knowledge of action).\n",
    "    - Wisdom is the ideal that is just beyond our reach, but insight is the next best thing we can reach.\n",
    "        - keep gathering and adding insights\n",
    "<center><img src=\"images/01.05.jpg\"  style=\"width: 400px, height: 300px;\"/></center>\n",
    "<center><img src=\"images/01.06.jpg\"  style=\"width: 400px, height: 300px;\"/></center>\n"
   ]
  },
  {
   "cell_type": "markdown",
   "metadata": {},
   "source": [
    "# Data-driven decision making"
   ]
  },
  {
   "cell_type": "markdown",
   "metadata": {},
   "source": [
    "- Data-driven decision making is the process of using data to make an informed decision about a specific problem and acting upon it.\n",
    "- Used for:\n",
    "    - Optimize performance\n",
    "    - Gain a better understanding\n",
    "    - Protect against risks\n",
    "    - Determine the best course of action\n",
    "- Misconception:\n",
    "    - Data-driven decision making is not just for large organizations\n",
    "    - It is not only the responsibility of the data team\n",
    "    - It is not the only or the best answer to solve problems\n",
    "- 5 main steps:\n",
    "<center><img src=\"images/01.09.jpg\"  style=\"width: 400px, height: 300px;\"/></center>\n"
   ]
  },
  {
   "cell_type": "markdown",
   "metadata": {},
   "source": [
    "# Problem statement"
   ]
  },
  {
   "cell_type": "markdown",
   "metadata": {},
   "source": [
    "- What is the problem you want to solve?\n",
    "- Guides the data-driven process\n",
    "- Typical problem categories:\n",
    "    - Describing the state of an organization or process\n",
    "    - Diagnosing causes of events\n",
    "    - Detecting anomalies or predicting events\n",
    "- Guiding questions:\n",
    "    - What is the current situation?\n",
    "    - What do we need to know?\n",
    "    - Where do we want to be?\n",
    "- A good problem statement is:\n",
    "    - Clearly defined (be specific)\n",
    "    - Actionable (specific actions are possible based on answers)\n",
    "    - Realistic (possible to solve with available resources)\n",
    "- Start from a question that needs to be answered\n",
    "- Example:\n",
    "    - problem statement : How can we improve customer satisfaction?\n",
    "    - current situation : Customer satisfaction is currently under our target.\n",
    "    - What we need to know : We need to know the main reasons for a negative score \n",
    "    - Where we want to be: so that we can take measures to improve customer satisfaction.\n"
   ]
  }
 ],
 "metadata": {
  "kernelspec": {
   "display_name": "Python 3.8.11 ('env_py')",
   "language": "python",
   "name": "python3"
  },
  "language_info": {
   "name": "python",
   "version": "3.8.11"
  },
  "orig_nbformat": 4,
  "vscode": {
   "interpreter": {
    "hash": "1e949e87132dd83f1a7623eb88007e3532b03b66b77111be347aa4a383049722"
   }
  }
 },
 "nbformat": 4,
 "nbformat_minor": 2
}
