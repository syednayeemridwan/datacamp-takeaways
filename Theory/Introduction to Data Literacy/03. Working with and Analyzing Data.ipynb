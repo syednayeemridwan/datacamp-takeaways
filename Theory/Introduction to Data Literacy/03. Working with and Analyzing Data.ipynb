{
 "cells": [
  {
   "cell_type": "markdown",
   "metadata": {},
   "source": [
    "# Different types of analytics"
   ]
  },
  {
   "cell_type": "markdown",
   "metadata": {},
   "source": [
    "<center><img src=\"images/03.01.jpg\"  style=\"width: 400px, height: 300px;\"/></center>\n"
   ]
  },
  {
   "cell_type": "markdown",
   "metadata": {},
   "source": [
    "- From left to right, the more we go, the more we can answer more advanced questions\n",
    "- The most advanced choice are not always the best options\n",
    "- Choosing the most advanced option when the most simple option is suffice, complicates things\n",
    "- Most suitable analytics: Depends on analytical needs"
   ]
  },
  {
   "cell_type": "markdown",
   "metadata": {},
   "source": [
    "# Descriptive Analytics"
   ]
  },
  {
   "cell_type": "markdown",
   "metadata": {},
   "source": [
    "- Get to know the data (variables)\n",
    "- Show broader view of the data\n",
    "- Investigate relationships / patterns in the data\n",
    "- Preparation step for more advanced techniques\n",
    "- Common techniques\n",
    "    - Descriptive statistics (mean, std etc)\n",
    "    - Visualizations\n",
    "    - Outlier detection\n",
    "    - Often combined in exploratory data analysis (EDA) \n",
    "- exploratory data analysis (EDA) \n",
    "    - Focus on exploring the data\n",
    "    - Assessing its main characteristics\n",
    "    - Finding relationships, patterns or groups\n",
    "    - Suggesting hypotheses for future analysis\n",
    "    - Combines different techniques, with a strong emphasis on visualization\n",
    "    - Groundwork for further analysis but also valuable on its own\n",
    "- example : ice cream sales\n",
    "    - problem statement : Which ice cream flavor sells the most?\n",
    "    - Count sales per flavor\n",
    "    - Calculate most commonly sold flavor per store\n",
    "    - Calculate commonly sold flavor per month\n",
    "    - Apply insights to drop unpopular flavors \n",
    "    - offer new flavors with similar characteristics as existing popular ones"
   ]
  },
  {
   "cell_type": "markdown",
   "metadata": {},
   "source": [
    "# Diagnostic Analysis"
   ]
  },
  {
   "cell_type": "markdown",
   "metadata": {},
   "source": [
    "- Find root causes of events\n",
    "- Focuses on why\n",
    "- Find potential causes of events \n",
    "- Find reasons for behaviors\n",
    "- Investigate causal relationships\n",
    "- Suggest solutions based on the identified causes\n",
    "- Be careful: diagnostic analytics can suggest causes, but not prove causality on its own \n",
    "    - Statistical relationship can be caused by a third factor we don't know yet\n",
    "    - We need domain knowledge (for plausability)\n",
    "    - We need more experiments to be sure of the relationships (strengthen causality)\n",
    "- Common techniques:\n",
    "    - Drill-down analysis (Examine more specific data)\n",
    "    - Correlation and regression analysis (Tells if variables are closely related)\n",
    "    - Hypothesis testing (Probable causes are theoritize beforehand)\n",
    "    - Root cause analysis \n",
    "- Root cause analysis (RCA):\n",
    "    - Look for direct events or contributing factors\n",
    "    - Requires domain knowledge\n",
    "    - 5 steps\n",
    "<center><img src=\"images/03.05.jpg\"  style=\"width: 400px, height: 300px;\"/></center>\n",
    "\n",
    "- example: Airline ticket sales\n",
    "    - Problem statement : Why is customer satisfaction rate for the airline declining?\n",
    "    - Gather customer complains\n",
    "    - Identify keywords in complaints\n",
    "    - Group complaints into categories\n",
    "    - Investigate connections with other data\n",
    "    - Use insights to suggest solutions for most common categories\n"
   ]
  },
  {
   "cell_type": "markdown",
   "metadata": {},
   "source": [
    "# Predictive analytics"
   ]
  },
  {
   "cell_type": "markdown",
   "metadata": {},
   "source": [
    "- Anticipate most likely outcomes or probabilities\n",
    "- Focus on what to predict\n",
    "- Forecast a process or sequence (Predict stock price)\n",
    "- Estimate/ Predict an unknown based on the information that is available\n",
    "- Be careful: there is always a degree of uncertainty associated with predictions \n",
    "    - The more we look into the future, the further we deviate from original value (more we involve uncertainty)\n",
    "- Common Techniques:\n",
    "- Machine learning models\n",
    "    - Classiffcation-based (Predict categories / groups)\n",
    "        - Predicting cancellations of subscriptions\n",
    "    - Regression-based (Predict values)\n",
    "        - Predicting housing prices based on neighborhood characteristics\n",
    "- Time series forecasting (Sequence learning)\n",
    "    - Predicting sales revenue over time\n",
    "- Predictive text analysis\n",
    "    - Predicting whether an email is spam or not\n",
    "<center><img src=\"images/03.09.jpg\"  style=\"width: 400px, height: 300px;\"/></center>\n",
    "\n",
    "- Data is split into training and test set \n",
    "- for building the predictive model, Train set is used\n",
    "- Predictions are interpreted and evaluated on the test data, using pre-determined metrics like accuracy (percentage of correct predictions)\n",
    "- example : world cup winner\n",
    "    - Problem statement : Which team is most likely to win the next FIFA World Cup?\n",
    "    - Select relevant variables like team ratings, player ratings, rankings, and match diffculty\n",
    "    - Build a predictive model to predict probability of winning or reaching specific phases\n",
    "    - Use insights to predict winning probability for each country\n",
    "    - Tune model with knowing factors to make the model better"
   ]
  },
  {
   "cell_type": "markdown",
   "metadata": {},
   "source": [
    "# Prescriptive Analytics"
   ]
  },
  {
   "cell_type": "markdown",
   "metadata": {},
   "source": [
    "- Takes action on predictive outcome\n",
    "- Prescribe recommended course of actions based on possible outcomes\n",
    "- Select the best outcome given what we want to achieve\n",
    "- Decides what is best to do\n",
    "- Make informed, data-driven decisions\n",
    "- Optimize processes\n",
    "- Mitigate risks\n",
    "- Combination of domain knowledge and machine learning models\n",
    "- Common techniques:\n",
    "    - Rule-based systems (pre-defined rules)\n",
    "    - Reinforcement learning (making an algorithm learn though interacting with environment)\n",
    "    - Scenario and simulation analysis (Pre-determined scenario with multiple simulations to decide best outcome)\n",
    "    - Recommendation engine \n",
    "- Recommendation Engine\n",
    "    - Predicts interests based on past behavior\n",
    "    - Provides recommendations based on predicted interests\n",
    "- example : fraud detection\n",
    "    - A set of transactions on an account has been flagged as possibly fraudulent.\n",
    "    - How should we proceed?\n",
    "    - Generate rules to select best action\n",
    "    - Simulate estimated losses with each scenario\n",
    "    - Use insights to help make informed decision"
   ]
  }
 ],
 "metadata": {
  "kernelspec": {
   "display_name": "Python 3.8.11 ('env_py')",
   "language": "python",
   "name": "python3"
  },
  "language_info": {
   "name": "python",
   "version": "3.8.11"
  },
  "orig_nbformat": 4,
  "vscode": {
   "interpreter": {
    "hash": "1e949e87132dd83f1a7623eb88007e3532b03b66b77111be347aa4a383049722"
   }
  }
 },
 "nbformat": 4,
 "nbformat_minor": 2
}
