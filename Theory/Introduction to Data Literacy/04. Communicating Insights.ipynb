{
 "cells": [
  {
   "cell_type": "markdown",
   "metadata": {},
   "source": [
    "# Visualization"
   ]
  },
  {
   "cell_type": "markdown",
   "metadata": {},
   "source": [
    "- Helps to understand complex data at a glance\n",
    "- Makes it easier to understand insights identified in the data\n",
    "- Methods that rely on visualization:\n",
    "    - Exploratory data analysis\n",
    "    - Dashboard\n",
    "    - Infographic:\n",
    "        - Visual, \n",
    "        - condensed summary of a topic\n",
    "        - Relay information Fast (Show information at a glance)\n",
    "        - Quickly summarizes a lot of information\n",
    "- Types of visualizations:\n",
    "    - Capture a trend\n",
    "        - Line chart (continuous rise or fall)\n",
    "    - Visualize relationships\n",
    "        - Bar chart (Categories)\n",
    "        - scatter plot (relationships between 2 variables)\n",
    "    - Visualize distributions\n",
    "        - Histogram, box plot\n",
    "- Good visualization attributes:\n",
    "    - Eliminate clutter:\n",
    "        - Less is more (color / styles)\n",
    "        - Clear and readability\n",
    "        - provide correct labels\n",
    "        - Avoid 3D effects\n",
    "    - Focus attention\n",
    "        - Link to key insights\n",
    "        - Highlight key aspects\n",
    "    - Provide context: use the McCandless technique\n",
    "- McCandless technique:\n",
    "    1. Introduce the visualization (Title, Name)\n",
    "    2. Anticipate obvious questions (Subtitle : What is happenning, Dataset introduction)\n",
    "    3. State the central insight ( Generalize the overview of the main picture in the graph, decreasing or inceasing)\n",
    "    4. Provide supporting evidence (Point it out, additional information as necessary)\n",
    "    5. Closing statement (Annotation, why it matters, transition to next step of presentation)\n",
    "<center><img src=\"images/04.01.jpg\"  style=\"width: 400px, height: 300px;\"/></center>\n"
   ]
  },
  {
   "cell_type": "markdown",
   "metadata": {},
   "source": [
    "# Story-telling"
   ]
  },
  {
   "cell_type": "markdown",
   "metadata": {},
   "source": [
    "- Make key points more memorable\n",
    "- Keep attention and engagement\n",
    "- Convince your audience of your message\n",
    "- Motivate them to take action\n",
    "- 3 components:\n",
    "    - Data : \n",
    "        - Foundation of story\n",
    "        - Provides key insights\n",
    "    - Visuals:\n",
    "        - support the insights and show in a clear way\n",
    "    - Narrative:\n",
    "        - Provides structure to the whole\n",
    "        - right sequence to tell the story (from problem to conclusion)\n",
    "        - Characters : Stakeholders\n",
    "        - Problem : Business problem\n",
    "        - Settings : Relevant background ( corresponds to the background needed to understand the problem)\n",
    "        - Plot : Central and supporting insights\n",
    "        - Resolution : Solution and recommendations\n",
    "        \n",
    "        \n",
    "<center><img src=\"images/04.041.jpg\"  style=\"width: 400px, height: 300px;\"/></center>\n",
    "<center><img src=\"images/04.042.jpg\"  style=\"width: 400px, height: 300px;\"/></center>\n",
    "\n",
    "\n"
   ]
  },
  {
   "cell_type": "markdown",
   "metadata": {},
   "source": [
    "# Effective Communication"
   ]
  },
  {
   "cell_type": "markdown",
   "metadata": {},
   "source": [
    "- 3 keys:\n",
    "    - Focus : \n",
    "        - Relevant (right data , No data overload), \n",
    "        - to the point (Select the right visualizations)\n",
    "        - meaningful (Keep your central message in mind)\n",
    "        - Build central message\n",
    "    - Structure : \n",
    "        - Acts as a guide for audience\n",
    "        - increases understandability\n",
    "        - Use structuring techniques like storytelling and McCandless to explain visuals\n",
    "        - Think about visual structure (clean lay-out, text, tables)\n",
    "        - Prepare an outline in advance and use this as a blueprint for crafting report and presentation\n",
    "    - Form : \n",
    "        - Ensures communication is tailored to its purpose and the audience\n",
    "        - Medium: oral vs. written\n",
    "        - Language: technical vs. non-technical\n",
    "        - Scope: short-form (5 mins / 5 pages) vs. long-form (more details / more contexts)\n",
    "- Building central message:\n",
    "    - Description of problem\n",
    "    - Summary of main insights\n",
    "    - impact (recommendation or next steps based on insights)\n",
    "    - example: \n",
    "        - (Problem) Average math scores of students at University A are in decline for the last three years.\n",
    "        - (Insights) Data analysis indicates that more students enroll with a weaker starting knowledge of mathematics.\n",
    "        - (Impact) By organizing math summer schools, University A can help students better prepare for the expected knowledge level of mathematics.\n",
    "- Crafting Outline\n",
    "    1. Introduction\n",
    "        - Data problem statement\n",
    "        - Context\n",
    "        - Objectives\n",
    "    2. Body\n",
    "        - Data that was used\n",
    "        - Analysis that was conducted\n",
    "        - Key findings \n",
    "    3. Conclusions\n",
    "        - Insights from Key findings \n",
    "        - Recommendations to act on insights\n",
    "- To find the appropriate format: think about the purpose of your communication and its audience\n",
    "- Thinking about your audience\n",
    "    - Who are they?\n",
    "    - What do they need to know?\n",
    "    - What do they want?\n",
    "    - Example: Presentation at university\n",
    "        - The University board\n",
    "        - Non-technical managers\n",
    "        - Need to know key findings\n",
    "        - Want specific recommendations"
   ]
  },
  {
   "cell_type": "markdown",
   "metadata": {},
   "source": [
    "# Example : Customer Churn"
   ]
  },
  {
   "cell_type": "markdown",
   "metadata": {},
   "source": [
    "- Problem: Customer churn has increased recently. Why?\n",
    "- Analysis of customer churn rate over time and its characteristics\n",
    "- Next task: presenting findings and recommendations\n",
    "- example:\n",
    "    - (Problem) The number of customers canceling their subscriptions has increased to 10% in the last year, while our target churn rate is 5%.\n",
    "    - (Insights) Our analysis found that the increasing churn rate is linked to customers who are very dissatisfied with customer service.\n",
    "    - (Supporting Insights) Most complaints are about customer service. Provide visualization\n",
    "    - (Impact) By providing additional training for customer service staff and hiring additional staff to cope with the workload, we can increase customer satisfaction and counter the increasing churn rate."
   ]
  },
  {
   "cell_type": "markdown",
   "metadata": {},
   "source": [
    "<center><img src=\"images/04.11.jpg\"  style=\"width: 400px, height: 300px;\"/></center>\n"
   ]
  },
  {
   "cell_type": "markdown",
   "metadata": {},
   "source": [
    "# Choosing visualizations"
   ]
  },
  {
   "cell_type": "markdown",
   "metadata": {},
   "source": [
    "- Problem: increasing churn rate\n",
    "    - Line plot\n",
    "- Insight 1: increasing customer dissatisfaction\n",
    "    - Line plot\n",
    "- Insight 2: majority of complaints are about customer service\n",
    "    - Bar plot\n",
    "\n",
    "<center><img src=\"images/04.112.jpg\"  style=\"width: 400px, height: 300px;\"/></center>\n",
    "<center><img src=\"images/04.113.jpg\"  style=\"width: 400px, height: 300px;\"/></center>\n",
    "<center><img src=\"images/04.114.jpg\"  style=\"width: 400px, height: 300px;\"/></center>\n"
   ]
  }
 ],
 "metadata": {
  "kernelspec": {
   "display_name": "Python 3.8.11 ('env_py')",
   "language": "python",
   "name": "python3"
  },
  "language_info": {
   "name": "python",
   "version": "3.8.11"
  },
  "orig_nbformat": 4,
  "vscode": {
   "interpreter": {
    "hash": "1e949e87132dd83f1a7623eb88007e3532b03b66b77111be347aa4a383049722"
   }
  }
 },
 "nbformat": 4,
 "nbformat_minor": 2
}
