{
 "cells": [
  {
   "cell_type": "markdown",
   "metadata": {},
   "source": [
    "# Different types of data"
   ]
  },
  {
   "cell_type": "markdown",
   "metadata": {},
   "source": [
    "- Different types of data required to get a complete picture\n",
    "- Has an effect on:\n",
    "    - How to collect the data\n",
    "    - How to store the data\n",
    "    - How to analyze the data\n",
    "- types:\n",
    "    - structured or unstructured\n",
    "    - qualitative or quantitative\n",
    "- Structured:\n",
    "    - data tabular forms\n",
    "    - organized in rows and columns\n",
    "    - stored in RDBMS\n",
    "    - requires less pre-processing\n",
    "    - easy to use\n",
    "    - example : spreadsheet, excel\n",
    "- unstructured:\n",
    "    - no pre-defined structure\n",
    "    - hard to organize\n",
    "    - stored in document database\n",
    "    - requires more pre-processing\n",
    "    - example : image, text data, videos, sound\n",
    "- quantitative:\n",
    "    - expressed with quantity\n",
    "    - can be measured / counted\n",
    "    - Wider range of statistics and analysis methods\n",
    "    - example : distance between 2 points \n",
    "- qualitative:\n",
    "    - Describes something with categories\n",
    "    - can not be measured / counted, rather can be observed (less hungry / full)\n",
    "    - More restricted range of statistics and analysis methods\n",
    "    - example: average eye color (not much sense)\n",
    "- network data\n",
    "- spatial data\n"
   ]
  },
  {
   "cell_type": "markdown",
   "metadata": {},
   "source": [
    "# Data Sources"
   ]
  },
  {
   "cell_type": "markdown",
   "metadata": {},
   "source": [
    "- Public databases and records\n",
    "    - EU: data.europe.eu\n",
    "    - US: data.gov\n",
    "- Public APIs:\n",
    "    - Twitter\n",
    "    - Google Maps\n",
    "    - IMDB\n",
    "    - Wikipedia\n",
    "- Internal data\n",
    "    - Customer data\n",
    "    - Transaction data\n",
    "    - Website data\n",
    "    - Survey data"
   ]
  },
  {
   "cell_type": "markdown",
   "metadata": {},
   "source": [
    "# DBMS"
   ]
  },
  {
   "cell_type": "markdown",
   "metadata": {},
   "source": [
    "- database management system\n",
    "- software for managing databases\n",
    "- Different types of databases\n",
    "    - Relational vs. document database\n",
    "    - Data warehouse vs. data lake\n",
    "- Designing and optimizing database systems is typically the responsibility of a data engineer\n",
    "- Relational database: organized, tabular data\n",
    "- Document database: flexible structured data\n",
    "- Data warehouse: processed data for further analysis\n",
    "- Data lake: raw data that has not been prepared yet\n",
    "- Data is stored on remote servers and accessed over the Internet (AWS, Azure, GCP)\n",
    "- Service provided by a specialized third party\n",
    "- Cost-effective, but security dependent on third party\n",
    "- Data pipeline : \n",
    "    - Move data from one database / process to another\n",
    "    - Automated collection and storage via the ETL (Extract, Transform, Load) process\n",
    "    - Ensures the availability of up-to-date and accurate data\n",
    "- Querying: \n",
    "    - access and retrieve data\n",
    "    - Query with Structured Query Language (SQL)\n",
    "    - Further analysis with programming languages like R or Python\n",
    "- Dashboards:\n",
    "    - Non-technical way of sharing things among people\n",
    "    - Multipurpose tool: also used for exploratory analysis of the data and communicating\n",
    "    - Provides information at a glance\n",
    "    - Receives data from a linked database (and change accordingly)\n",
    "    - Data is typically presented in a visual format\n",
    "    - Typically created and managed by a data analyst\n",
    "    - example : visualizing Key Performance Indicators (KPIs)\n"
   ]
  },
  {
   "cell_type": "markdown",
   "metadata": {},
   "source": [
    "# Dirty Data"
   ]
  },
  {
   "cell_type": "markdown",
   "metadata": {},
   "source": [
    "- Garbage in, garbage out principle: dirty data can lead to wrong conclusions\n",
    "\n",
    "- Incorrect\n",
    "    - Incorrect\n",
    "    - Inconsistent\n",
    "    - Caused by human error\n",
    "    - Caused by technical error in recording the value or the format, \n",
    "    - Techniques to counter: \n",
    "        - If original value or valid format is known: correct data\n",
    "        - If original value or valid format is unknown: drop data\n",
    "- Missing data\n",
    "    - Data is incomplete\n",
    "    - Causes problems if too many data points are missing\n",
    "    - There are underlying patterns in the missing data\n",
    "    - Techniques to counter: \n",
    "        - Dropping data\n",
    "        - Imputation (Statistically identify the missing values)\n",
    "- Data bias\n",
    "    - Societal bias can be reflected in data as data bias\n",
    "    - Leads to unrepresentative data and analytical results\n",
    "    - Hard to detect and to resolve\n",
    "    - Techniques to counter:\n",
    "        - Sound data collection process (during collection of data)\n",
    "        - Awareness in conclusions (during the testing of the solution)\n",
    "        - Explainable AI models (See relationships through interpretetions)\n",
    "- Data cleaning\n",
    "    - Set of techniques to counter data problems\n",
    "    - Important preparation step for any data analysis\n",
    "    - But not all data problems are (completely) solvable\n",
    "    - It is always possible to do some kind of analysis\n"
   ]
  }
 ],
 "metadata": {
  "kernelspec": {
   "display_name": "Python 3.8.11 ('env_py')",
   "language": "python",
   "name": "python3"
  },
  "language_info": {
   "name": "python",
   "version": "3.8.11"
  },
  "orig_nbformat": 4,
  "vscode": {
   "interpreter": {
    "hash": "1e949e87132dd83f1a7623eb88007e3532b03b66b77111be347aa4a383049722"
   }
  }
 },
 "nbformat": 4,
 "nbformat_minor": 2
}
