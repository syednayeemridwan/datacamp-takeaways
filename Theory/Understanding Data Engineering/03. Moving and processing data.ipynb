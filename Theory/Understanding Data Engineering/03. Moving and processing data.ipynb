{
 "cells": [
  {
   "cell_type": "markdown",
   "metadata": {},
   "source": [
    "# Processing data"
   ]
  },
  {
   "cell_type": "markdown",
   "metadata": {},
   "source": [
    "- converting raw data into meaningful information\n",
    "- Optimize memory (compressing data size)\n",
    "- Optimize process and network costs\n",
    "- Convert data from one type to another (file size vs file quality : HD mp4 vs 4K HD )\n",
    "- Organize data (easier for analysts to find it )\n",
    "- To fit into a schema/structure\n",
    "- Increase productivity (analyze almost immediately. No need to focus on cleaning)"
   ]
  },
  {
   "cell_type": "markdown",
   "metadata": {},
   "source": [
    "# How data engineers process data"
   ]
  },
  {
   "cell_type": "markdown",
   "metadata": {},
   "source": [
    "- Data manipulation, \n",
    "- Data cleaning, \n",
    "- tidying data,\n",
    "- Things that can be automated\n",
    "- Things that will always need to be done (pre-processing and other steps)\n",
    "    - rejecting corrupt files\n",
    "    - what needs to be done with missing values\n",
    "    - What to do with missing meta-data\n",
    "- Store data in a correctly structured database\n",
    "- Create views on top of the database tables (views = output of stored queries of data )\n",
    "- Optimizing the performance of the database (indexing data)"
   ]
  },
  {
   "cell_type": "markdown",
   "metadata": {},
   "source": [
    "# Data processing tools"
   ]
  },
  {
   "cell_type": "markdown",
   "metadata": {},
   "source": [
    "<center><img src=\"images/01.jpg\"  style=\"width: 400px, height: 300px;\"/></center>\n",
    "\n",
    "eg- apache spark\n"
   ]
  },
  {
   "cell_type": "markdown",
   "metadata": {},
   "source": [
    "# Scheduling"
   ]
  },
  {
   "cell_type": "markdown",
   "metadata": {},
   "source": [
    "- glue of the system\n",
    "- Holds each steps and organize how they work together\n",
    "- Runs tasks in a specifc order  (step by step)\n",
    "- resolves all dependencies\n",
    "- Can be done :\n",
    "    - manually : eg- human assistance is needed to update the data\n",
    "    - automatically : eg- a system trigger is developed which helps to update data (sensor scheduling = sensor always listen for the trigger = more resource)\n",
    "- Can be ingested in 2 ways:\n",
    "    1. batches (groups) : \n",
    "        - sensed by groups after specific intervals\n",
    "        - cheaper (can be used when resources are not used for other tasks. eg- at night)\n",
    "    2. streams (almost real-time):\n",
    "        - Records go to pipeline as soon as they are updated\n",
    "    3. real-time\n",
    "- Airflow, Luigi     "
   ]
  },
  {
   "cell_type": "markdown",
   "metadata": {},
   "source": [
    "# Parallel computing"
   ]
  },
  {
   "cell_type": "markdown",
   "metadata": {},
   "source": [
    "- Basis of modern data processing tools\n",
    "- Relies on processing units\n",
    "- Necessary because of :\n",
    "    1. memory\n",
    "    2. processing power\n",
    "- How it works:\n",
    "    1. Split tasks up into several smaller subtasks\n",
    "    2. Distribute these subtasks across multiple computers\n",
    "- Advantages:\n",
    "    1. Extra processing power (fast processing)\n",
    "    2. Reduced memory footprint (less memory used)\n",
    "- Disadvantages\n",
    "    1. Moving data incurs a cost (extra processing cost)\n",
    "    2. Communication time (breaking and merging requires some additional time: IDM)"
   ]
  },
  {
   "cell_type": "markdown",
   "metadata": {},
   "source": [
    "# On-premise Servers"
   ]
  },
  {
   "cell_type": "markdown",
   "metadata": {},
   "source": [
    "- Buy with huge cost\n",
    "- If more processing power needed, buy more\n",
    "- If failed / any disaster occurs, a huge risk of data loss\n",
    "- Need physical space in the premise\n",
    "- Electrical and maintenance cost\n",
    "- Enough power for peak moments\n",
    "- Processing power unused at quieter times\n",
    "- Risk with sensitive data (secrecy)"
   ]
  },
  {
   "cell_type": "markdown",
   "metadata": {},
   "source": [
    "# Cloud computing"
   ]
  },
  {
   "cell_type": "markdown",
   "metadata": {},
   "source": [
    "- Rent at smaller cost\n",
    "- Scale up for more power as needed at smaller cost\n",
    "- Data is safe at multiple locations (data replication)\n",
    "- No space required\n",
    "- No maintenance cost\n",
    "- No need of thinking about peak moment power consumption cost\n",
    "- Processing power is used as needed\n",
    "- Data governance is provided for data privacy"
   ]
  },
  {
   "cell_type": "markdown",
   "metadata": {},
   "source": [
    "# Big Players"
   ]
  },
  {
   "cell_type": "markdown",
   "metadata": {},
   "source": [
    "1. AWS:\n",
    "    - File storage : AWS S3\n",
    "    - Computation : AWS EC2\n",
    "    - Databases : AWS RDS\n",
    "\n",
    "2. Microsoft Azure:\n",
    "    - File storage : Azure Blob Storage\n",
    "    - Computation : Azure Virtual Machines\n",
    "    - Databases : Azure SQL Database\n",
    "\n",
    "3. Google Cloud:\n",
    "    - File storage : Google Cloud Storage\n",
    "    - Computation : Google Compute Engine\n",
    "    - Databases : Google Cloud SQL"
   ]
  },
  {
   "cell_type": "markdown",
   "metadata": {},
   "source": [
    "# Multicloud"
   ]
  },
  {
   "cell_type": "markdown",
   "metadata": {},
   "source": [
    "Using different services from different cloud providers. eg: AWS S3, Azure Virtual Machines and Google Cloud SQL\n",
    "\n",
    "Pros:\n",
    "- Reducing reliance on a single vendor\n",
    "- Cost-effciencies\n",
    "- Local laws requiring certain data to be physically present within the country\n",
    "- Mitigating against disasters\n",
    "\n",
    "Cons:\n",
    "- Cloud providers try to lock in consumers (some services are integrated together)\n",
    "- Incompatibility (some service do not integrate well with other provider's services)\n",
    "- Security and governance management is harder"
   ]
  }
 ],
 "metadata": {
  "kernelspec": {
   "display_name": "Python 3.8.11 ('env_py')",
   "language": "python",
   "name": "python3"
  },
  "language_info": {
   "name": "python",
   "version": "3.8.11"
  },
  "orig_nbformat": 4,
  "vscode": {
   "interpreter": {
    "hash": "1e949e87132dd83f1a7623eb88007e3532b03b66b77111be347aa4a383049722"
   }
  }
 },
 "nbformat": 4,
 "nbformat_minor": 2
}
