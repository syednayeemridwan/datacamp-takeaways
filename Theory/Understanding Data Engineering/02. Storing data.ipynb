{
 "cells": [
  {
   "cell_type": "markdown",
   "metadata": {},
   "source": [
    "# Structured data"
   ]
  },
  {
   "cell_type": "markdown",
   "metadata": {},
   "source": [
    "- Easy to search and organize\n",
    "- Tabular format\n",
    "- Consistent model, rows and columns\n",
    "- Each column has Defined types\n",
    "- Can be grouped / combined with other table to form relations\n",
    "- Stored in relational databases\n",
    "- About 20% of the data is structured\n",
    "- Created and queried using SQL"
   ]
  },
  {
   "cell_type": "markdown",
   "metadata": {},
   "source": [
    "# Semi-structured data"
   ]
  },
  {
   "cell_type": "markdown",
   "metadata": {},
   "source": [
    "- Relatively easy to search and organize\n",
    "- Consistent model, \n",
    "- less-rigid / more flexible implementation: different observations have different sizes\n",
    "- Different types\n",
    "- Can be grouped, but needs more work\n",
    "- NoSQL databases: JSON, XML, YAML"
   ]
  },
  {
   "cell_type": "markdown",
   "metadata": {},
   "source": [
    "# Unstructured data"
   ]
  },
  {
   "cell_type": "markdown",
   "metadata": {},
   "source": [
    "- Does not follow a model, can't be contained in rows and columns\n",
    "- Diffcult to search and organize\n",
    "- Usually text, sound, pictures or videos\n",
    "- Usually stored in data lakes, can appear in data warehouses or databases\n",
    "- Most of the data is unstructured\n",
    "- Can be extremely valuable\n",
    "- Adding some structure to it :\n",
    "    - Use AI to search and organize unstructured data\n",
    "    - Add information to make it semi-structured"
   ]
  },
  {
   "cell_type": "markdown",
   "metadata": {},
   "source": [
    "# Database schema\n"
   ]
  },
  {
   "cell_type": "markdown",
   "metadata": {},
   "source": [
    "- Databases are made of tables\n",
    "- The database schema governs how tables are related"
   ]
  },
  {
   "cell_type": "markdown",
   "metadata": {},
   "source": [
    "# SQL"
   ]
  },
  {
   "cell_type": "markdown",
   "metadata": {},
   "source": [
    "- Structured Query Language\n",
    "- Industry standard for Relational Database Management System (RDBMS) . Relationship among table can be established.\n",
    "- Allows you to access many records at once, and group, filter or aggregate them\n",
    "- Close to written English, easy to write and understand\n",
    "- Data engineers use SQL to create and maintain databases\n",
    "- Data scientists use SQL to query (request information from) databases and manipulate data."
   ]
  },
  {
   "cell_type": "markdown",
   "metadata": {},
   "source": [
    "# Several implementations"
   ]
  },
  {
   "cell_type": "markdown",
   "metadata": {},
   "source": [
    "- SQLite\n",
    "- MySQL\n",
    "- PostgreSQL\n",
    "- Oracle SQL\n",
    "- SQL Server"
   ]
  },
  {
   "cell_type": "markdown",
   "metadata": {},
   "source": [
    "# Database"
   ]
  },
  {
   "cell_type": "markdown",
   "metadata": {},
   "source": [
    "- General term\n",
    "- Loosely defined as organized data that is stored and accessed on a computer"
   ]
  },
  {
   "cell_type": "markdown",
   "metadata": {},
   "source": [
    "# Data Lake"
   ]
  },
  {
   "cell_type": "markdown",
   "metadata": {},
   "source": [
    "- Stores all the raw data in raw form\n",
    "- Can be petabytes (1 million GBs)\n",
    "- Stores all data structures (structured, unstructured, semi-structured)\n",
    "- Cost-effective (just take and store the data)\n",
    "- Difficult to analyze\n",
    "- Used by data engineers and data scientists\n",
    "- Real-time analytics are done\n",
    "- Requires an up-to-date data catalog:\n",
    "    - source of truth\n",
    "    - compensate for lack of structure\n",
    "    - source of data (where the data comes from)\n",
    "    - How is it  used?\n",
    "    - Who owns/maintains the data?\n",
    "    - How often is this data updated?\n",
    "    - Good practice in terms of data governance (Managing Availability, usability , Integrity, Security)\n",
    "    - Ensures reproducibility of the processes (in case anything unexpected happens)\n",
    "    - No catalog --> data swamp\n",
    "    - Good practice to take reference for any data storage that moves through the organization for:\n",
    "        - Reliability\n",
    "        - Autonomy\n",
    "        - Scalability\n",
    "        - Speed"
   ]
  },
  {
   "cell_type": "markdown",
   "metadata": {},
   "source": [
    "# Data warehouse"
   ]
  },
  {
   "cell_type": "markdown",
   "metadata": {},
   "source": [
    "- A type of database that specific data for specific use\n",
    "- Relatively small\n",
    "- Stores mainly structured data\n",
    "- More costly to update or manipulate(take the data, process it, then store)\n",
    "- Optimized for data analysis\n",
    "- Used by data analysts and business analysts\n",
    "- Ad-hoc, read-only queries are done (aggregation / summarization)"
   ]
  }
 ],
 "metadata": {
  "kernelspec": {
   "display_name": "Python 3.8.11 ('env_py')",
   "language": "python",
   "name": "python3"
  },
  "language_info": {
   "name": "python",
   "version": "3.8.11"
  },
  "orig_nbformat": 4,
  "vscode": {
   "interpreter": {
    "hash": "1e949e87132dd83f1a7623eb88007e3532b03b66b77111be347aa4a383049722"
   }
  }
 },
 "nbformat": 4,
 "nbformat_minor": 2
}
