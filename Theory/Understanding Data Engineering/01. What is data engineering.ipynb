{
 "cells": [
  {
   "cell_type": "markdown",
   "metadata": {},
   "source": [
    "# Data workflow"
   ]
  },
  {
   "cell_type": "markdown",
   "metadata": {},
   "source": [
    "4 steps:\n",
    "1. Data Collection and Storage:\n",
    "    - Collect and ingest data\n",
    "    - Data is stored in row format\n",
    "2. Data Preparation\n",
    "    - Cleaning data\n",
    "    - Converting into appropriate types\n",
    "    - Transform data into organized format\n",
    "3. Exploration and Visualization\n",
    "    - Data can be exploited to explore\n",
    "    - Visualize the data\n",
    "    - Build dashboard to track changes\n",
    "    - Compare to other sets of data \n",
    "    - Get the grasp / understanding of the data\n",
    "4. Experimentation and Prediction\n",
    "    - Run experiment\n",
    "    - Build models\n",
    "\n",
    "\n",
    "- Data engineers are responsible for the first step    \n",
    "- Data scientists are responsible for the last three steps    "
   ]
  },
  {
   "cell_type": "markdown",
   "metadata": {},
   "source": [
    "# Role of a data engineer"
   ]
  },
  {
   "cell_type": "markdown",
   "metadata": {},
   "source": [
    "- collect the correct data from different sources\n",
    "- ingest data in the right form \n",
    "- Remove corrupted data\n",
    "- Develop, construct, test and maintain data architectures\n",
    "- deliver to the right people\n",
    "- as efficiently as possible (Optimize databases for analysis)\n",
    "- Works with big data:\n",
    "    - Have to think about how to deal with its size\n",
    "    - So large traditional methods don't work anymore\n",
    "    - 5 Vs : \n",
    "        1. Volume : How much data\n",
    "        2. Variety : How many kind of data\n",
    "        3. Velocity : How frequent is the data\n",
    "        4. Veracity : How accurate is the data\n",
    "        5. Value : How useful is the data        "
   ]
  },
  {
   "cell_type": "markdown",
   "metadata": {},
   "source": [
    "# Data Engineers vs Data Scientists"
   ]
  },
  {
   "cell_type": "markdown",
   "metadata": {},
   "source": [
    "- Stored Data : \n",
    "    - Data engineers Ingest and store data\n",
    "    - Data scientists Exploit the stored data\n",
    "- Database : \n",
    "    - Data engineers set up database\n",
    "    - Data scientists access the database\n",
    "- Data pipelines: \n",
    "    - Data engineers build the data pipelines\n",
    "    - Data scientists use pipelines output\n",
    "- Skills : \n",
    "    - Data engineers use strong software skills\n",
    "    - Data scientists use strong analytical skills\n",
    "- Tools : \n",
    "    - Data engineers use python, java, SQL to create, update and transform databases\n",
    "    - Data scientists use python, R, SQL to query or request information from databases\n",
    "\n"
   ]
  },
  {
   "cell_type": "markdown",
   "metadata": {},
   "source": [
    "# The data pipeline"
   ]
  },
  {
   "cell_type": "markdown",
   "metadata": {},
   "source": [
    "- Ingest : Data from various sources\n",
    "- Process : Process the data\n",
    "- Store : Store the processed data\n",
    "- Moves one system to another system\n",
    "- Need pipelines : \n",
    "    - Steps of all these processing\n",
    "    - Automate flows from one process to the next\n",
    "    - Provide up-to-date, accurate, relevant on-demand data \n",
    "\n",
    "- Automate:\n",
    "    - Extracting (E = Extracting data)\n",
    "    - Transforming (T = Transforming extracted data)\n",
    "    - Combining\n",
    "    - Validating\n",
    "    - Loading (L = Loading data to another database)\n",
    "    \n",
    "- Reduce:\n",
    "    - Human intervention\n",
    "    - Errors\n",
    "    - Time it takes data to flow\n",
    "\n",
    "- May not follow ETL (sometimes)\n",
    "- May not be transformed (sometimes)\n",
    "- May be directly loaded in applications (sometimes)"
   ]
  }
 ],
 "metadata": {
  "kernelspec": {
   "display_name": "Python 3.8.11 ('env_py')",
   "language": "python",
   "name": "python3"
  },
  "language_info": {
   "name": "python",
   "version": "3.8.11"
  },
  "orig_nbformat": 4,
  "vscode": {
   "interpreter": {
    "hash": "1e949e87132dd83f1a7623eb88007e3532b03b66b77111be347aa4a383049722"
   }
  }
 },
 "nbformat": 4,
 "nbformat_minor": 2
}
