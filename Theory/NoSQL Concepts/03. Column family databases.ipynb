{
 "cells": [
  {
   "cell_type": "markdown",
   "metadata": {},
   "source": [
    "# Column Family Database"
   ]
  },
  {
   "cell_type": "markdown",
   "metadata": {},
   "source": [
    "- A column family is like a table in a relational database\n",
    "- Derive from Google BigTable\n",
    "- Store data in column families\n",
    "- Also called wide column databases\n",
    "- group related data\n",
    "- frequently accessed together\n",
    "- Great when dealing with large volumes of data\n",
    "- Can have multiple rows\n",
    "- Row key : unique identifiers (Like primary keys in a relational database)\n",
    "- Each row can have different number of columns \n",
    "- Columns can be added to rows when needed\n",
    "- Let us avoid defalt values when filling the rows\n",
    "\n",
    "- Parts of the each columns information: Name, value, and timestamp\n",
    "- Value : specify the type depending on the database\n",
    "- Timestamps: store date and time when the data was inserted.\n",
    "- if we update value of a column, new timestamp will be inserted along with column name and value\n",
    "    - Multiple values of a column, let us know the latest value\n",
    "- Think about the queries while designing\n",
    "- No joins = Add all the columns we need for query \n",
    "- store all related information together on disk\n",
    "- Very fast reading / writing\n",
    "- Scaling :\n",
    "    - Scale horizontally\n",
    "    - Sharding across multiple servers\n",
    "- Handle large volumes of data\n",
    "    - speed\n",
    "    - horizontal scalability\n",
    "    - efficient data compression\n",
    "- Limitations\n",
    "    - Atomic reads/writes but no multirow transactions\n",
    "    - No joins support\n",
    "    - No subqueries support\n",
    "    - Need to define the queries quite well before modeling the column family\n",
    "        - Changing queries may require changing the column families\n",
    "        - Can be costly\n",
    "- Example : \n",
    "<center><img src=\"images/03.01.jpg\"  style=\"width: 400px, height: 300px;\"/></center>\n"
   ]
  },
  {
   "cell_type": "markdown",
   "metadata": {},
   "source": [
    "# Applications of column family databases\n"
   ]
  },
  {
   "cell_type": "markdown",
   "metadata": {},
   "source": [
    "- Large volumes of data\n",
    "- Extreme write speeds\n",
    "- Event loggings\n",
    "    - User logging\n",
    "    - Application Error logs\n",
    "- Content Management Systems\n",
    "    - Comments\n",
    "    - Links\n",
    "    - Tags\n",
    "- time-series data\n",
    "    - Weather\n",
    "    - Traffic conditions\n",
    "- Unsuitable cases\n",
    "    - Prototyping and at the beginning of a project (due to changing requirements)\n",
    "    - Need to change the queries very frequently\n",
    "        - Changing the queries -> may imply changing the design of the column families\n",
    "    - Costly and may slow down the productivity\n",
    "    - Complex queries and joins\n",
    "    - Not a good choice when dealing with small amounts of data"
   ]
  },
  {
   "cell_type": "markdown",
   "metadata": {},
   "source": [
    "# Apache Cassandra"
   ]
  },
  {
   "cell_type": "markdown",
   "metadata": {},
   "source": [
    "- Popular column family database\n",
    "- Originally developed by Facebook\n",
    "- Open-source\n",
    "- Finally became a project of the Apache Foundation\n",
    "- Distributed\n",
    "    - Data is distributed across the nodes of the cluster\n",
    "    - Every node plays the same role\n",
    "    - No master node\n",
    "- High availability\n",
    "- No single point of failure\n",
    "- Scales horizontally by adding nodes\n",
    "- Cassandra client drivers : C#, Java, Python, Scala, etc.\n",
    "- Cassandra Query Language (aka CQL )\n",
    "    - Query data\n",
    "    - Similar syntax to SQL\n",
    "    - Tables (for column families), rows, and columns\n",
    "    - `SELECT * FROM users WHERE user_id IN ( 212 , 213 , 214 );`\n",
    "- Differences between CQL and SQL:\n",
    "    - no joins\n",
    "    - no foreign keys\n",
    "    - no subqueries, etc.\n",
    "    - rows can contain a different number of columns\n",
    "- Third-party Cassandra projects, tools, products, and services\n",
    "    - Cloud offerings\n",
    "    - Installation tools\n",
    "    - Developers' frameworks\n",
    "    - Connectors\n",
    "- See example in slides"
   ]
  }
 ],
 "metadata": {
  "kernelspec": {
   "display_name": "Python 3.8.11 ('env_py')",
   "language": "python",
   "name": "python3"
  },
  "language_info": {
   "name": "python",
   "version": "3.8.11"
  },
  "orig_nbformat": 4,
  "vscode": {
   "interpreter": {
    "hash": "1e949e87132dd83f1a7623eb88007e3532b03b66b77111be347aa4a383049722"
   }
  }
 },
 "nbformat": 4,
 "nbformat_minor": 2
}
