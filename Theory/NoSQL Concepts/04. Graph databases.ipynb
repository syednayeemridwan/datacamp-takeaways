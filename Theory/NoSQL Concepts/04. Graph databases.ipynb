{
 "cells": [
  {
   "cell_type": "markdown",
   "metadata": {},
   "source": [
    "# Graph Databases"
   ]
  },
  {
   "cell_type": "markdown",
   "metadata": {},
   "source": [
    "- Treat data and its relationships with the same importance\n",
    "- Based on graph theory\n",
    "    - branch of mathematics\n",
    "    - studies graphs for modeling the relationships between objects\n",
    "- Vertices = nodes\n",
    "- Edges = links / arcs\n",
    "- Both nodes and edges can have properties\n",
    "- Nodes \n",
    "    - Represent entities\n",
    "    - examples :(users, cities, airports, employees...)\n",
    "    - Have properties (name, surname etc)\n",
    "- Edges\n",
    "    - Connect the nodes\n",
    "    - Define the relationships between the nodes\n",
    "    - Directed: One Specific direction (Someone follows X on facebook)\n",
    "    - Undirected: No direction / The relationship is mutual (Friend on Facebook)\n",
    "    - Have properties (since when, with what etc)\n",
    "- Path : set of nodes and edges across a graph\n",
    "- queries:\n",
    "    - Traversing the graph\n",
    "    - Examples:\n",
    "    - Get all the users that Ben follows\n",
    "    - Get when Carol started following Shui\n",
    "    - Get the shortest path from one city to another\n",
    "    - Query languages: Cypher, Gremlin, etc.\n",
    "\n",
    "<center><img src=\"images/04.011.jpg\"  style=\"width: 400px, height: 300px;\"/></center>\n",
    "<center><img src=\"images/04.012.jpg\"  style=\"width: 400px, height: 300px;\"/></center>\n"
   ]
  },
  {
   "cell_type": "markdown",
   "metadata": {},
   "source": [
    "- Can change as applications and industries change\n",
    "- Don't need to define the final structure in advance\n",
    "- Can add/delete nodes, properties, and edges\n",
    "- Doesn't need to perform joins\n",
    "    - Joining can be potentially time-consuming\n",
    "    - Follow edges from node to node is Simpler and faster\n",
    "- Similar structure to human thinking\n",
    "    - Graph modeling very intuitive\n",
    "    - Easily visualized\n",
    "    - Facilitates understanding\n",
    "- scaling\n",
    "    - horizontal scalability\n",
    "    - More difficult than in other NoSQL databases because\n",
    "        - Graphs are connected\n",
    "        - Need to be distributed across multiple machines\n",
    "- Limitations\n",
    "    - Entity properties with extremely large values\n",
    "        - BLOBs (Binary Large Objects): multimedia objects\n",
    "        - CLOBs (Character Large Objects): collections of character data\n",
    "        - Graph databases won't perform well\n",
    "        - Bad practice\n",
    "        - Use another database to store that information\n",
    "    - Significant change for developers who are good with RDBMS and other databases\n",
    "        - New data modeling mindset\n",
    "        - Learn Cypher, Gremlin..."
   ]
  },
  {
   "cell_type": "markdown",
   "metadata": {},
   "source": [
    "# Applications of graph databases\n"
   ]
  },
  {
   "cell_type": "markdown",
   "metadata": {},
   "source": [
    "- Highly connected data\n",
    "- Social networks\n",
    "    - Users and their relationships\n",
    "    - Posts\n",
    "    - Likes\n",
    "- Employees of a company\n",
    "    - Projects\n",
    "    - Relationships between the employees\n",
    "- Modeling :\n",
    "    - Interactions between people\n",
    "    - Contact events\n",
    "    - Exposures\n",
    "    - individuals, credit cards, phonenumbers, devices, IP addresses...\n",
    "- Help to understand transmission chains\n",
    "- Locations and distances\n",
    "- Optimize the routes for navigation applications\n",
    "- Recommendations for nearby points ofinterest:\n",
    "    - restaurants\n",
    "    - cinemas\n",
    "    - hospitals\n",
    "- Stop fraud in real-time:\n",
    "    - Credit card fraud\n",
    "    - E-commerce fraud\n",
    "    - Money laundering\n",
    "- Uncover suspicious patterns \n",
    "    - multiple users coming from the same IP\n",
    "- Real-time recommendations\n",
    "    - Store buying history and browsing behavior to recommend an item\n",
    "    - Offer an item to a friend\n",
    "    - Show unwatched movies based on similar users\n",
    "- Storage of relationships between networks and infrastructure elements\n",
    "    - physical machines\n",
    "    - virtual machines\n",
    "    - applications\n",
    "    - routers\n",
    "    - switches\n",
    "- Alert in real-time about potential design flaws\n",
    "- Unsuitable cases\n",
    "    - Disconnected data\n",
    "    - Relationships between the data are not important\n",
    "    - Applications that only perform general searches without a specific starting point\n",
    "        - Are not optimized for maximum performance\n",
    "    - Properties that contain extremely large values (BLOBs, CLOBs...)"
   ]
  },
  {
   "cell_type": "markdown",
   "metadata": {},
   "source": [
    "# Neo4j"
   ]
  },
  {
   "cell_type": "markdown",
   "metadata": {},
   "source": [
    "- Leader in graph database technology\n",
    "- Reveals and predicts how people, processes, and systems are interrelated\n",
    "- Neo4j graph platform : Suite of applications and tools to Interact and use graph data\n",
    "- Store and connect the data\n",
    "- Used for executing graph algorithms :\n",
    "    - Path finding\n",
    "    - Centrality\n",
    "    - Community detection\n",
    "    - Similarity\n",
    "    - Link prediction\n",
    "    - Node embeddings\n",
    "    - Node classification\n",
    "- Bloom:\n",
    "    - View and analyze data without any programming knowledge\n",
    "- Cypher\n",
    "    - Powerful query language\n",
    "    - Inspired by SQL\n",
    "    - Save and get data from the graph database\n",
    "    - Multiple queries within the same transaction\n",
    "    - `CREATE (:User {name: 'Ann'})` [Add a node User with name Ann]\n",
    "- Neo4j Connectors and Integrations\n",
    "    - Facilitate the use of Neo4j in existing architectures\n",
    "    - Neo4j Connector for Apache Spark\n",
    "    - Neo4j Connector for Apache Kafka\n",
    "    - Neo4j Connector for BI\n",
    "    - Neo4j Labs Integrations\n",
    "- Neo4j Developer tools\n",
    "    - Neo4j Desktop : Local Neo4j databases\n",
    "    - Neo4j Browser : Interact with the graphs using a browser\n",
    "    - Neo4j Sandbox : Learn about Neo4j, test personal ideas\n",
    "- Neo4j Aura\n",
    "    - Cloud Database Service\n",
    "    - Run in the cloud without managing the infrastructure\n",
    "- Official drivers: C#, Java, Python, JavaScript, Spring...\n",
    "- Community drivers: R, PHP, Ruby...\n",
    "- popular uses\n",
    "    - Analytics and artificial intelligence\n",
    "    - Fraud detection\n",
    "    - Real-time recommendations\n",
    "    - Knowledge graphs\n",
    "    - Life sciences\n",
    "    - Telecommunications\n",
    "- See examples in slides"
   ]
  }
 ],
 "metadata": {
  "kernelspec": {
   "display_name": "Python 3.8.11 ('env_py')",
   "language": "python",
   "name": "python3"
  },
  "language_info": {
   "name": "python",
   "version": "3.8.11"
  },
  "orig_nbformat": 4,
  "vscode": {
   "interpreter": {
    "hash": "1e949e87132dd83f1a7623eb88007e3532b03b66b77111be347aa4a383049722"
   }
  }
 },
 "nbformat": 4,
 "nbformat_minor": 2
}
