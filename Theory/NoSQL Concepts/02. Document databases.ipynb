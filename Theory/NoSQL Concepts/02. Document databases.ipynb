{
 "cells": [
  {
   "cell_type": "markdown",
   "metadata": {},
   "source": [
    "# Document Database"
   ]
  },
  {
   "cell_type": "markdown",
   "metadata": {},
   "source": [
    "- Store data in documents\n",
    "- Documents:\n",
    "    - Set of key-value pairs\n",
    "    - Keys: strings\n",
    "    - Values: numbers, strings, booleans, arrays or objects\n",
    "- Documents are grouped into collections\n",
    "- We can have multiple collections within a database\n",
    "- Rows = Documents\n",
    "- Tables = Collections\n",
    "- Schemaless: no need to specify the structure\n",
    "- Formats: JSON (most common), BSON, YAML, or XML\n",
    "- Related information is embedded inside main document = No need for joins\n",
    "- Complex queries possible\n",
    "- polymorphic : Documents inside same collection do not need to have same structure\n",
    "- Collections:\n",
    "    - Sets of documents\n",
    "    - Store the same type of entities\n",
    "    - Organize documents and collections by thinking about the queries\n",
    "- Don't need to predefine the schema\n",
    "- Documents can vary over time\n",
    "    - Avoids schema migrations\n",
    "- Embedded documents avoid joins\n",
    "    - Better times\n",
    "- Flexibility : One of the main reasons to choose document databases\n",
    "- Natural way to work : Intuitive\n",
    "- JSON is human-readable\n",
    "- Documents map objects in code\n",
    "    - Less coding\n",
    "    - Simpler and faster development\n",
    "    - Start coding and storing objects as documents are created\n",
    "- Easier for new developers\n",
    "- Scaling\n",
    "    - horizontal scalability\n",
    "    - sharding\n",
    "- limitations\n",
    "    - more responsibility\n",
    "    - Care about data in the application code\n",
    "        - e.g. check required fields\n",
    "    - Care about redundant data\n",
    "        - e.g. modify duplicated names\n",
    "\n",
    "\n",
    "<center><img src=\"images/02.01.jpg\"  style=\"width: 400px, height: 300px;\"/></center>\n"
   ]
  },
  {
   "cell_type": "markdown",
   "metadata": {},
   "source": [
    "# Applications of document databases\n"
   ]
  },
  {
   "cell_type": "markdown",
   "metadata": {},
   "source": [
    "- Catalogs\n",
    "    - E-commerce web sites/applications store\n",
    "    - product information\n",
    "    - Different attributes between the products\n",
    "    - Embed related information\n",
    "- Event logging\n",
    "    - Types of events:\n",
    "    - User logging\n",
    "    - Product purchase\n",
    "    - Errors\n",
    "- Sharding by:\n",
    "    - Time\n",
    "    - Type of event\n",
    "- User profiles:\n",
    "    - Information may vary\n",
    "    - Document flexibility\n",
    "- Content management systems\n",
    "    - Users' content\n",
    "    - Comments\n",
    "    - Images\n",
    "    - Videos\n",
    "- Real-time analytics\n",
    "    - Page views, unique visitors, IoT device responses\n",
    "    - Easy to store the information of new metrics \n",
    "- Unsuitable cases\n",
    "    - Very structured data\n",
    "    - Always have consistent data"
   ]
  },
  {
   "cell_type": "markdown",
   "metadata": {},
   "source": [
    "# MongoDB"
   ]
  },
  {
   "cell_type": "markdown",
   "metadata": {},
   "source": [
    "- Popular document database\n",
    "- Stores data in BSON (Binary JSON) format\n",
    "- MongoDB Query Language ( MQL )\n",
    "    - `db.users.find({ \"address.zipcode\" : \"10245\" })`\n",
    "- Native drivers for programming languages : C#, Java, Python, Scala, etc.\n",
    "- Indexes on any field\n",
    "- ACID transactions (Atomicity, Consistency, Isolation, and Durability)\n",
    "- Joins in queries\n",
    "- Scale horizontally\n",
    "    - native sharding without added complexity to the app\n",
    "    - add/move shards at will\n",
    "- Replication\n",
    "    - So that there is no single point of failure\n",
    "    - 50 copies of our data\n",
    "- MongoDB Compass:\n",
    "    - Free GUI\n",
    "    - Explore schema, create queries visually...\n",
    "- MongoDB Atlas:\n",
    "    - Cloud service\n",
    "    - AWS, Azure, Google Cloud\n",
    "- MongoDB Enterprise Advanced:\n",
    "    - Run MongoDB in our infrastructure\n",
    "- MongoDB Atlas Lake:\n",
    "    - Query and analyze data\n",
    "    - AWS S3 and MongoDB Atlas\n",
    "    - MQL\n",
    "- MongoDB Charts:\n",
    "    - Visualizations of the data\n",
    "- Realm Mobile Database:\n",
    "    - Store data locally on iOS or Android\n",
    "- popular uses\n",
    "    - Single view applications that require data from multiple sources: financial services, government, high tech, retail...\n",
    "    - Gaming: player profiles, leaderboards...\n",
    "    - Catalogs: financial services, government, high tech, retail...\n",
    "    - Real-time analytics\n",
    "    - Content management\n",
    "    - Internet of Things\n",
    "- See examples in slides"
   ]
  }
 ],
 "metadata": {
  "kernelspec": {
   "display_name": "Python 3.8.11 ('env_py')",
   "language": "python",
   "name": "python3"
  },
  "language_info": {
   "name": "python",
   "version": "3.8.11"
  },
  "orig_nbformat": 4,
  "vscode": {
   "interpreter": {
    "hash": "1e949e87132dd83f1a7623eb88007e3532b03b66b77111be347aa4a383049722"
   }
  }
 },
 "nbformat": 4,
 "nbformat_minor": 2
}
