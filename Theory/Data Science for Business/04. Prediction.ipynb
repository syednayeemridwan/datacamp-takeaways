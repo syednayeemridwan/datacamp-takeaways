{
 "cells": [
  {
   "cell_type": "markdown",
   "metadata": {},
   "source": [
    "# Machine Learning"
   ]
  },
  {
   "cell_type": "markdown",
   "metadata": {},
   "source": [
    "- It refers to prediction from existing data.\n",
    "- Supervised machine learning: Predictions from existing data with labels and features. \n",
    "    - Features: Different pieces of information for each customer that might affect the label (columns in a tabular data)\n",
    "    - Label : What we want to predict from features (Result Column in a tabular data)\n",
    "    - We use features and labels to train a model and predict from new data.\n",
    "    - We withold some data before training. We use the witheld data to measure the goodness of the model (evaluate the model)\n",
    "    - Sometimes we need to measure how often the model both correctly predicts and incorrectly predicts for rare events (eg: 3% customer churn.)\n",
    "    - eg : Recommendation systems, Email subject optimization, Churn prediction (Will a customer stay subscribed or churn)\n"
   ]
  },
  {
   "cell_type": "markdown",
   "metadata": {},
   "source": [
    "# Clustering"
   ]
  },
  {
   "cell_type": "markdown",
   "metadata": {},
   "source": [
    "- Divide data into categories or clusters.\n",
    "- Part of unsupervised learning (does not have label in the dataset. Works with only features)\n",
    "- Some algorithms need us to define how many cluster should be at the end (number of cluster affects the segmentation process)\n",
    "- Having strong hypothesis give us better result in clustering\n",
    "- Can help finding patterns from messy dataset.\n",
    "- Use cases\n",
    "    - Customer segmentation\n",
    "    - Image segmentation\n",
    "    - Anomaly detection\n"
   ]
  },
  {
   "cell_type": "markdown",
   "metadata": {},
   "source": [
    "# Time series forecasting"
   ]
  },
  {
   "cell_type": "markdown",
   "metadata": {},
   "source": [
    "- Time is a feature\n",
    "- Accounts for weekly, monthly, or yearly trends\n",
    "- Seasonality : Periodic events or trends (eg: temperature falls during winter, rises during summer)"
   ]
  },
  {
   "cell_type": "markdown",
   "metadata": {},
   "source": [
    "# Natural Language Processing"
   ]
  },
  {
   "cell_type": "markdown",
   "metadata": {},
   "source": [
    "- Dataset is text. eg:\n",
    "    - Customer reviews\n",
    "    - Tweets\n",
    "    - Medical records\n",
    "    - Email subjects\n",
    "- Possible uses:\n",
    "    - Classifying sentiment\n",
    "    - Clustering medical records"
   ]
  },
  {
   "cell_type": "markdown",
   "metadata": {},
   "source": [
    "# How to make features in NLP"
   ]
  },
  {
   "cell_type": "markdown",
   "metadata": {},
   "source": [
    "- Word Count : The frequency of important words in a text\n",
    "- Limitation of word count: \n",
    "    - Does not consider negations\n",
    "    - Does not consider synonyms. Solution: Word embeddings.\n",
    "- Word embeddings : \n",
    "    - Create features that group together similar words\n",
    "    - Have mathematical meaning of features: `king - man + woman = queen`"
   ]
  },
  {
   "cell_type": "markdown",
   "metadata": {},
   "source": [
    "# Deep Learning"
   ]
  },
  {
   "cell_type": "markdown",
   "metadata": {},
   "source": [
    "- AKA: Neural Networks or Neural Nets\n",
    "- We do not need the explainable part , we just need the output (classify the digit 0-9)\n",
    "- Special area of Machine Learning that is very complex\n",
    "- Requires more data\n",
    "- Best when inputs that are less structured (images or text )\n",
    "- Highly accurate predictions, but not clear why model is making such predictions\n",
    "\n"
   ]
  },
  {
   "cell_type": "markdown",
   "metadata": {},
   "source": [
    "# Explainable AI"
   ]
  },
  {
   "cell_type": "markdown",
   "metadata": {},
   "source": [
    "- Methods that allow us to understand factors that lead each prediction\n",
    "- We need the explainable part to determine business result (Which feature is important) [clarity is essential]\n",
    "-  Traditional machine learning algorithms:\n",
    "    - Prediction: What a customer is likely to do (output)\n",
    "    - Explanation: Why a customer is likely to do it (Which features are important)"
   ]
  }
 ],
 "metadata": {
  "kernelspec": {
   "display_name": "Python 3.8.11 ('env_py')",
   "language": "python",
   "name": "python3"
  },
  "language_info": {
   "name": "python",
   "version": "3.8.11"
  },
  "orig_nbformat": 4,
  "vscode": {
   "interpreter": {
    "hash": "1e949e87132dd83f1a7623eb88007e3532b03b66b77111be347aa4a383049722"
   }
  }
 },
 "nbformat": 4,
 "nbformat_minor": 2
}
