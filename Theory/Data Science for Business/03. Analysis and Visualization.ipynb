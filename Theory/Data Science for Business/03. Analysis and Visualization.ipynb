{
 "cells": [
  {
   "cell_type": "markdown",
   "metadata": {},
   "source": [
    "# Dashboards"
   ]
  },
  {
   "cell_type": "markdown",
   "metadata": {},
   "source": [
    "- A set of metric, usually in form of graphs that update on schedule. \n",
    "- Some dashboards update in real time\n",
    "- Other dashboards update on daily or weekly basis\n",
    "- Common dashboard elements:\n",
    "    - Tracking value over time (eg: linear stock price movement of today and last 12 months)\n",
    "    - Tracking Composition over time to notice trend (eg: stacked bars of customer traffic in last 12 months history)\n",
    "    - categorical comparison (eg: bar chart of average number of minutes spent on a webpage by different age group visitors in same time period)\n",
    "    - Highlighting a single number (significance of a single value, eg: how todays value differs from yesterday. Fall of stock market compared to yesterday.)\n",
    "    - Displaying text (eg: displaying customer reviews as qualitative data)\n",
    "- Dashboard Tools:\n",
    "    - Spreadsheets: Excel or Google Sheets\n",
    "    - BI Tools: Power BI, Tableau, Looker\n",
    "    - Customized tools: R Shiny or d3.js"
   ]
  },
  {
   "cell_type": "markdown",
   "metadata": {},
   "source": [
    "# When to use Dashboards"
   ]
  },
  {
   "cell_type": "markdown",
   "metadata": {},
   "source": [
    "- Will you use it multiple times?\n",
    "- Does it need to be updated daily or weekly?\n",
    "- Will the request always be the same?\n",
    "- Be specific\n",
    "- Specify your use case"
   ]
  },
  {
   "cell_type": "markdown",
   "metadata": {},
   "source": [
    "# Ad hoc request"
   ]
  },
  {
   "cell_type": "markdown",
   "metadata": {},
   "source": [
    "- Not repeated on a weekly or daily basis\n",
    "- Basically one time request to provide in urgent / emergency situation\n",
    "- Be specific\n",
    "- Include context\n",
    "- Include a priority level \n",
    "- due date\n",
    "- Ticketing system : Trello, JIRA, Asana\n",
    "- Required Field of ticketing system : Due date, priority level\n",
    "- eg:\n",
    "    - End of year report on an initiative\n",
    "    - List of users who did not pay in the past month\n",
    "    - Total number of clicks on a particular button"
   ]
  },
  {
   "cell_type": "markdown",
   "metadata": {},
   "source": [
    "# A/B Testing"
   ]
  },
  {
   "cell_type": "markdown",
   "metadata": {},
   "source": [
    "- Tools for de-risking choices between 2 options\n",
    "- eg: Choosing the best title\n",
    "- Steps:\n",
    "    - Picking a metric to track : Percent of people who click on a link of the title\n",
    "    - Calculating sample size : Determine a sample size that is large enough to show that the outcome is really due to some difference of significance between them (not just random chance). Sample size depends on baseline metric (How often people generally click on a link)\n",
    "        - Small Sample = Large difference = Low sensitivity \n",
    "        - Large sample = Small difference = High sensitivity \n",
    "        - Optimized sample = 10% increase / decrease from baseline metric\n",
    "    - Running the experiment : Run as long as the sample size is reached. Stopping early or running too long will produce bias result\n",
    "    - Checking for significance\n",
    "        - Compare statistical significance for the difference between the 2 sample results with a threshold . If the difference is significant enough = the result is not due to random chance but for actual reasons.\n",
    "        - if the results aren't significant: \n",
    "            - Difference is smaller than the threshold we chose\n",
    "            - Running our test longer won't help\n",
    "            - Still might be a difference; it's just small enough to consider it as random chance "
   ]
  }
 ],
 "metadata": {
  "kernelspec": {
   "display_name": "Python 3.8.11 ('env_py')",
   "language": "python",
   "name": "python3"
  },
  "language_info": {
   "name": "python",
   "version": "3.8.11"
  },
  "orig_nbformat": 4,
  "vscode": {
   "interpreter": {
    "hash": "1e949e87132dd83f1a7623eb88007e3532b03b66b77111be347aa4a383049722"
   }
  }
 },
 "nbformat": 4,
 "nbformat_minor": 2
}
