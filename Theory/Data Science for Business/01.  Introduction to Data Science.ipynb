{
 "cells": [
  {
   "cell_type": "markdown",
   "metadata": {},
   "source": [
    "# Data Science"
   ]
  },
  {
   "cell_type": "markdown",
   "metadata": {},
   "source": [
    "- Taking in the data that are available ad draw meaningful conclusions from them"
   ]
  },
  {
   "cell_type": "markdown",
   "metadata": {},
   "source": [
    "# Data Science Workflow"
   ]
  },
  {
   "cell_type": "markdown",
   "metadata": {},
   "source": [
    "- Data Collection : From different sources\n",
    "- Exploration and Visualization : Build Dashboards/ Comparison between data\n",
    "- Experimentation and Prediction : Building system / Models"
   ]
  },
  {
   "cell_type": "markdown",
   "metadata": {},
   "source": [
    "# Applications"
   ]
  },
  {
   "cell_type": "markdown",
   "metadata": {},
   "source": [
    "- Describe the current state of process (Dashboard / alerts)\n",
    "- Detect anomalous events\n",
    "- Diagnose the causes of events and behaviors\n",
    "- Predict future events\n",
    "- So many databases, we can relat e/ tie them with each other to get complete picture of things\n",
    "- Answer complicated business questions from hidden relations and patterns\n",
    "- Traditional machine learning\n",
    "    - A well-defined question (eg- is the transaction fraudulent)\n",
    "    - A set of example data\n",
    "    - A new set of data to use our algorithm on\n",
    "- Internet of Things (IoT)\n",
    "    - Detect certain activities\n",
    "    - Data generated and transmitted by sensors \n",
    "    - Develop algorithms to understand the sensor data states\n",
    "- Deep Learning ()\n",
    "    - Complex model\n",
    "    - Too many data\n",
    "    - Multiple layers of mini algorithms\n",
    "    - Image classification and Language understanding"
   ]
  },
  {
   "cell_type": "markdown",
   "metadata": {},
   "source": [
    "# Members of Data Science"
   ]
  },
  {
   "cell_type": "markdown",
   "metadata": {},
   "source": [
    "- Data Engineer:\n",
    "    - Information architects : Control the flow of data\n",
    "    - Build storage solutions : Ensure that Data is processed and stored in an optimized way\n",
    "    - Maintain data access : Processed data is easy to obtain\n",
    "    - Tools : SQL (Build storage for large data), Java,Scala or python (processing data and automating tasks)\n",
    "    - Store and maintain data\n",
    "\n",
    "- Data Analyst:\n",
    "    - Creating dashboards : Describe the state of the data\n",
    "    - Hypothesis testing : Answer to some meaningful insights\n",
    "    - Data visualization : Visualize patterns inside data\n",
    "    - Tools : SQL (Large-scale analysis), Spreadsheets like Excel or Google Sheets (Simple storage and analysis), BI Tools like Tableau, Power BI, Looker (Dashboarding and sharing information)\n",
    "    - Visualize and describe data\n",
    "\n",
    "- Machine Learning Scientist:\n",
    "    - Predictions and extrapolations\n",
    "    - Classification\n",
    "    - Image processing\n",
    "    - Automated text analysis\n",
    "    - Tools : Python or R (for modeling)\n",
    "    - Model and predict with data\n"
   ]
  },
  {
   "cell_type": "markdown",
   "metadata": {},
   "source": [
    "# Data science team structure"
   ]
  },
  {
   "cell_type": "markdown",
   "metadata": {},
   "source": [
    "- Isolated:\n",
    "    - Made up of one or more data employees without any other skillset\n",
    "    - Good for training new team members,\n",
    "    - Good for changing projects \n",
    "\n",
    "- Embedded:\n",
    "    - Data employees are part of a squad with with other members having other skillset\n",
    "    - Good for teams to have experience in different business projects as a whole (bird's eye view)\n",
    "\n",
    "- Hybrid:\n",
    "    - Made up of one or more data employees  (Isolated)\n",
    "    - Data employees are part of a changing squad (Embedded)\n",
    "    - Good for quick development of career. \n",
    "    - Good for developing uniform data processing ability in any situation\n"
   ]
  }
 ],
 "metadata": {
  "kernelspec": {
   "display_name": "Python 3.8.11 ('env_py')",
   "language": "python",
   "name": "python3"
  },
  "language_info": {
   "name": "python",
   "version": "3.8.11"
  },
  "orig_nbformat": 4,
  "vscode": {
   "interpreter": {
    "hash": "1e949e87132dd83f1a7623eb88007e3532b03b66b77111be347aa4a383049722"
   }
  }
 },
 "nbformat": 4,
 "nbformat_minor": 2
}
