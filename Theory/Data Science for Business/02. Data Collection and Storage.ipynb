{
 "cells": [
  {
   "cell_type": "markdown",
   "metadata": {},
   "source": [
    "# Common sources of data"
   ]
  },
  {
   "cell_type": "markdown",
   "metadata": {},
   "source": [
    "- Web events : From web users and certain events in web pages\n",
    "- Customer data \n",
    "- Logistics data\n",
    "- Financial transactions\n",
    "- Personally Identifiable Information (PII) : \n",
    "    - A person's name, location, email that could track back to a human\n",
    "    - Should be treated with extreme caution and sensitivity\n",
    "    - Data pseudonymization : Split information into parts. More sensitive information is stored in separate table with an id that can be tracked back to other tables\n",
    "    - After assigning user id, destroy the user table\n",
    "    - We know that james is a person, we do not need to know the other PII"
   ]
  },
  {
   "cell_type": "markdown",
   "metadata": {},
   "source": [
    "# General Data Protection Regulation (GDPR)"
   ]
  },
  {
   "cell_type": "markdown",
   "metadata": {},
   "source": [
    "- Applies to all data inside of the EU\n",
    "- Give individuals control over their personal data\n",
    "- Regulates how long data can be stored\n",
    "- Mandates appropriate anonymization\n",
    "- Disclose data collection and gain consent"
   ]
  },
  {
   "cell_type": "markdown",
   "metadata": {},
   "source": [
    "# Solicited data"
   ]
  },
  {
   "cell_type": "markdown",
   "metadata": {},
   "source": [
    "- Data you can obtain by asking customer about their opinions\n",
    "- Used to:\n",
    "    - Create marketing collateral : Gauging reasons behind happy customers\n",
    "    - De-risk decision making : is the customer interested in the new product?\n",
    "    - Monitor quality : rating of the product\n",
    "- Types of solicited data\n",
    "    - Surveys\n",
    "    - Customer reviews\n",
    "    - In-app questionnaires\n",
    "    - Focus groups\n",
    "\n",
    "- Main types:\n",
    "    - Qualitative: Requires lot of analysis\n",
    "        - Conversations\n",
    "        - Open-ended questions\n",
    "        - Good for generating hypothesis\n",
    "    - Quantitative: Can be easily represented as charts\n",
    "        - Multiple choice\n",
    "        - Rating scale\n",
    "        - Good for validating hypothesis\n",
    "- Provide preferences of consumers:\n",
    "    - Stated preference: They tell what they want or believe\n",
    "        - Hypothetical\n",
    "        - Subjective\n",
    "        - Good indicator of revealed preference\n",
    "    - Revealed preference: They show whay they really need\n",
    "        - Actions\n",
    "        - Purchasing decisions  \n",
    "- Best practices\n",
    "    - Be specific on word choices and answers provided\n",
    "    - Avoid loaded language (avoid adjectives) to avoid bias responds. Be objective.\n",
    "    - Calibrate surveys with known quantities\n",
    "    - Require actionable results (form good hypothesis when asking question)         "
   ]
  },
  {
   "cell_type": "markdown",
   "metadata": {},
   "source": [
    "# Collecting additional data"
   ]
  },
  {
   "cell_type": "markdown",
   "metadata": {},
   "source": [
    "\n",
    "- APIs\n",
    "    - Application Programming Interface\n",
    "    - Request data over the internet from a third party\n",
    "    - eg: Twitter, Wikipedia, Yahoo! Finance, Google Maps\n",
    "- Public records\n",
    "    - great source for understanding population level trends\n",
    "    - great source for location or economic data\n",
    "    - For the US, data.gov\n",
    "    - For the EU, data.europa.eu\n",
    "- Mechanical Turk\n",
    "    - Asking humans to complete a task that we will eventually plan to computerize\n",
    "    - eg: instead of 1 person labeling 1000 images, a thousand people label few images. we will use this data to train image processing model\n",
    "    - eg: Label customer reviews\n",
    "    - eg: Extract text from a form\n",
    "    - eg: Highlight key words in a sentence\n",
    "    - Resource: AWS MTurk\n"
   ]
  },
  {
   "cell_type": "markdown",
   "metadata": {},
   "source": [
    "# Data storage and retrieval"
   ]
  },
  {
   "cell_type": "markdown",
   "metadata": {},
   "source": [
    "- 2 Parallel storage solutions:\n",
    "    - On-premise Solution (Server/Cluster in the company's premise)\n",
    "    - Cloud Storage (Top service providers like AWS, Azure or GCP)\n",
    "    - powerful machines helping data analytics, machine learning and deep learning\n",
    "    - Types of data storage:\n",
    "        - Unstructured (or document database) : Email, Text, Video and audio or social media = NoSQL\n",
    "        - Structured / Tabular (or relational) : Dataframe = SQL\n",
    "    - Request database : Data querying"
   ]
  }
 ],
 "metadata": {
  "kernelspec": {
   "display_name": "Python 3.8.11 ('env_py')",
   "language": "python",
   "name": "python3"
  },
  "language_info": {
   "name": "python",
   "version": "3.8.11"
  },
  "orig_nbformat": 4,
  "vscode": {
   "interpreter": {
    "hash": "1e949e87132dd83f1a7623eb88007e3532b03b66b77111be347aa4a383049722"
   }
  }
 },
 "nbformat": 4,
 "nbformat_minor": 2
}
