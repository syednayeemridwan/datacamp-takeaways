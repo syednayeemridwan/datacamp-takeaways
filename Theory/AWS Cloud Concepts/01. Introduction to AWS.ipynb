{
 "cells": [
  {
   "cell_type": "markdown",
   "metadata": {},
   "source": [
    "# Technical Advantages of Cloud"
   ]
  },
  {
   "cell_type": "markdown",
   "metadata": {},
   "source": [
    "- Advanced machine learning (e.g. deep learning) necessity:\n",
    "    - More data storage\n",
    "    - More computational power\n",
    "    - More reliability (no power outage when training model takes days)\n",
    "    - Reduced time to production (Already working in production environment)\n",
    "    - Competitive rate\n",
    "- Integrated machine learning services:\n",
    "    - AWS SageMaker\n",
    "    - Microsoft Azure Machine Learning Studio\n",
    "    - Google Cloud Datalab\n",
    "- Natively integration to other cloud services:\n",
    "    - Data storage / Database\n",
    "    - Security\n",
    "- Dedicated modules for every step in the Machine Learning process (From data collection to deployment)\n",
    "- AWS advantages\n",
    "    - First cloud provider (Launched in 2006)\n",
    "    - Recognized as a leader ($45.3B in revenue) by Gartner in their Cloud Magic Quadrant, for the 10th consecutive year!\n",
    "    - 32% market share\n",
    "        - Microsoft Azure (19%)\n",
    "        - Google Cloud Platform (7%)\n",
    "- More than 200 AWS services\n",
    "    - S3: Ideal for data lakes\n",
    "    - SageMaker: Full Machine Learning toolbox\n",
    "    - Kinesis: Data streams and firehoses \n",
    "- Large community:\n",
    "    - Developers\n",
    "    - Architects\n",
    "    - System Administrators\n",
    "    - Data Scientists etc\n",
    "- Events organized:\n",
    "    - AWS Summit\n",
    "    - re:Invent etc\n",
    "\n",
    "<center><img src=\"images/01.041.jpg\"  style=\"width: 400px, height: 300px;\"/></center>\n",
    "<center><img src=\"images/01.042.jpg\"  style=\"width: 400px, height: 300px;\"/></center>\n"
   ]
  },
  {
   "cell_type": "markdown",
   "metadata": {},
   "source": [
    "# AWS"
   ]
  },
  {
   "cell_type": "markdown",
   "metadata": {},
   "source": [
    "- Amazon Web Services\n",
    "- Cloud platform\n",
    "- Offering more than 200 services:\n",
    "    - Compute instances\n",
    "    - Storage\n",
    "    - Databases\n",
    "    - Machine Learning\n",
    "    - AR/VR etc\n",
    "- Data centers deployed all over the world\n",
    "- Region:  \n",
    "    - physical location around the world where we cluster data centers. \n",
    "    - (aws.amazon.com)\n",
    "- Availability zone (AZ): \n",
    "    - Each Region is divided into AZs\n",
    "    - \"one or more discrete data centers with redundant power, networking, and connectivity in an AWS Region.\" (aws.amazon.com)\n",
    "- 2021: 25 regions, 81 AZs, 245 countries and territories\n"
   ]
  },
  {
   "cell_type": "markdown",
   "metadata": {},
   "source": [
    "# AWS accounts"
   ]
  },
  {
   "cell_type": "markdown",
   "metadata": {},
   "source": [
    "- Linked to:\n",
    "    - Email address\n",
    "    - Payment card\n",
    "- Account access:\n",
    "    - Root access (Default, maximum security privileges)\n",
    "    - Limited access credential through AWS IAM is recommended\n",
    "- Centralized access point (For big projects and multiple accounts):\n",
    "    - AWS Organizations\n",
    "    - Consolidated billing\n",
    "- Accessing AWS account\n",
    "    - AWS Console\n",
    "        - AWS graphical user interface (GUI)\n",
    "        - Simple and intuitive for resource Creation / Deletion\n",
    "        - Monitoring (parameters, graphs, etc)\n",
    "        - Direct links to documentation: Recommended when learning about AWS or new services\n",
    "        - Hard to track task management actions (Disadvantages)\n",
    "    - CLI: Command Line Interface\n",
    "        - Interact with AWS accounts using a command line terminal\n",
    "        - Handy for administrators to: Automate frequent tasks using scripts\n",
    "        - Execute large numbers of tasks quickly\n",
    "        - Open source (Fix issues more quickly)\n",
    "        - Less visual and intuitive than the console (Disadvantages)\n",
    "    - SDKs: Software Development Kits\n",
    "        - Specific to a particular programming language:\n",
    "        - Simple library to import\n",
    "        - Handy for developers\n",
    "        - Seamlessly interact with an AWS account inside their code\n",
    "        - Open source : Actively improve code\n",
    "        - Need to know programming (Disadvantages)\n",
    "    - API: Application Programming Interface\n",
    "        - HTTP request through the Internet\n",
    "        - Most low-level access method\n",
    "        - Building block for AWS SDKs, CLI and console\n",
    "        - Maximum flexibility\n",
    "        - Less \"human-readable\" (Disadvantages)"
   ]
  }
 ],
 "metadata": {
  "kernelspec": {
   "display_name": "Python 3.8.11 ('env_py')",
   "language": "python",
   "name": "python3"
  },
  "language_info": {
   "name": "python",
   "version": "3.8.11"
  },
  "orig_nbformat": 4,
  "vscode": {
   "interpreter": {
    "hash": "1e949e87132dd83f1a7623eb88007e3532b03b66b77111be347aa4a383049722"
   }
  }
 },
 "nbformat": 4,
 "nbformat_minor": 2
}
