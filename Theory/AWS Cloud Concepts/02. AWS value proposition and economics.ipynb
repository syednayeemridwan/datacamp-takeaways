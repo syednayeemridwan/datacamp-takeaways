{
 "cells": [
  {
   "cell_type": "markdown",
   "metadata": {},
   "source": [
    "# Total cost of ownership (TCO)"
   ]
  },
  {
   "cell_type": "markdown",
   "metadata": {},
   "source": [
    "- The cost of owning and operating servers and data centers\n",
    "- Useful concept for comparing cloud vs on-premises cost\n",
    "- Moving to the cloud introduces a new cost structure of monthly bills:\n",
    "    - Compute\n",
    "    - Storage\n",
    "    - Networking\n",
    "- Moving to the cloud eliminates on-premises cost structure of monthly bills:\n",
    "    - Space\n",
    "    - Power\n",
    "    - Cooling\n",
    "    - Physical security\n",
    "- economies of scale : \n",
    "    - The cost advantages that enterprises obtain due to their scale of operation\n",
    "    - massive investments from AWS = Reduced data center costs \n",
    "    - Important Capital Expenditures (CapEx) reduction compared to on-premises configurations\n",
    "- Optimizing costs\n",
    "    - Leverage the pay as you go model\n",
    "        - Allocate the necessary resources when needed\n",
    "        - Deallocate resources when they become unnecessary\n",
    "    - Leverage the different pricing plans \n",
    "        - Adapted to the use case\n",
    "        - E.g. renting crucial virtual machines for long periods (annual) vs. on-demand (monthly)\n",
    "    - Use AWS managed services\n",
    "        - E.g. using Amazon Aurora for relational databases or Amazon Redshift to host data warehouses is 10x less costly than on-premises alternatives. \n",
    "- Tools for measuring costs:\n",
    "    - AWS Cost Explorer\n",
    "    - AWS Cost and Usage Report\n",
    "    - AWS Budgets  \n",
    "    - Manual Resource costs comparison: Cloud vs. on-premise\n",
    "    - Optimization on the cloud (ex: most adapted tools, leveraging pricing plans, etc)\n",
    "    - Average IT infrastructure spend per user\n",
    "    - See examples in the slides"
   ]
  },
  {
   "cell_type": "markdown",
   "metadata": {},
   "source": [
    "# Staff productivity"
   ]
  },
  {
   "cell_type": "markdown",
   "metadata": {},
   "source": [
    "- On-premise servers:\n",
    "    - Planning, acquisition and maintenance of the physical data center:\n",
    "        - Power cabling\n",
    "        - Telecommunication cabling\n",
    "        - Ventilation and cooling\n",
    "        - Electronic security systems\n",
    "    - Continuous server-related efforts:\n",
    "        - Provisioning new resources\n",
    "        - Monitoring servers\n",
    "        - Patching/updating\n",
    "        - Securing\n",
    "- AWS:\n",
    "    - Infrastructure heavy-lifting by AWS\n",
    "    - Development teams focus on:\n",
    "        - The product\n",
    "        - Its features\n",
    "        - The value brought to customers\n",
    "    - Launch and manage more resources\n",
    "    - Manage more important volumes of data\n",
    "        - Leveraging Big Data services (DynamoDB, Kinesis etc)\n",
    "    - Further improvements by adapting applications to the cloud:\n",
    "        - Rearchitecting and refactoring existing code-base\n",
    "        - Leveraging / Switching to managed services\n",
    "        - Further improvements by implementing modern development and operations methodologies\n",
    "        - and tools such as:\n",
    "            - Agile (Set of best practices to improve software development efficiency)\n",
    "            - DevOps (best practices for software development and IT operations)\n",
    "            - Containers (tools to isolate a pience of software in particular environment)\n",
    "- Tools for Measuring staff productivity\n",
    "    - Average VMs managed per administrator\n",
    "    - Amount of data managed per administrator\n",
    "    - Time of server configuration\n",
    "    - See examples in slides"
   ]
  },
  {
   "cell_type": "markdown",
   "metadata": {},
   "source": [
    "# Operational resilience"
   ]
  },
  {
   "cell_type": "markdown",
   "metadata": {},
   "source": [
    "- Operational resilience domains (Gartner):\n",
    "    - Security (cyber and physical)\n",
    "    - Safety\n",
    "    - Privacy\n",
    "    - Continuity of operations\n",
    "    - Reliability\n",
    "- Leveraging AWS:\n",
    "    - Built-in security technology and data encryption (e.g. AWS KMS) (Security and Privacy)\n",
    "    - Data center redundancy through availability zones works against natural catastrophies / power outage (Safety)\n",
    "    - Stronger service-level agreement (SLA) (Continuity and Reliability)\n",
    "- Migrating as much components as possible to the cloud to benefit from\n",
    "    - Physical and virtual security\n",
    "    - Redundancy\n",
    "    - Security alerts = AWS CloudWatch\n",
    "    - Account activity tracking = AWS CloudTrail and regular auditing\n",
    "    - Deployment automation = AWS CloudFormation\n",
    "    - Leverage continuous delivery = AWS CodePipeline \n",
    "- Tools for Measuring operational resilience:\n",
    "    - Application downtime\n",
    "    - Number of overall incidents (all incidents)\n",
    "    - Number of specific incidents (security incidents)\n",
    "    - Content access:\n",
    "        - Stability of delays to retrieve contents\n",
    "        - Bounce rates\n",
    "    - Failover delays\n",
    "        - The failover is the ability to switch to a backup system. \n",
    "    - See examples in slides\n"
   ]
  },
  {
   "cell_type": "markdown",
   "metadata": {},
   "source": [
    "# Business agility\n"
   ]
  },
  {
   "cell_type": "markdown",
   "metadata": {},
   "source": [
    "- Enhancing product development by:\n",
    "    - Quickly adapting to the market: fast new feature/application deployment\n",
    "    - Reducing errors\n",
    "- By leveraging AWS, no need to provision new physical resources to try new ideas:\n",
    "    - Quick and cost-effcient allocation/deallocation of resources\n",
    "    - Low cost of failure while trying new ideas in simulation when using resources\n",
    "    - Better use of innovation budget, more testing and learning \n",
    "- Improving business agility\n",
    "    - Test new ideas directly on AWS\n",
    "    - Flexibility (Allocate / deallocate resources on will)\n",
    "        - Reduced exploration costs\n",
    "    - Immediately shut down resources for inconclusive ideas\n",
    "        - Reduce the cost of failure\n",
    "    - Encourage teams to explore on the cloud more and escalate problems\n",
    "        - Test more ideas without investing much\n",
    "        - Quick decision on issues \n",
    "    - Implement agile methodologies (Agile, DevOps, etc)\n",
    "- Tools for Measuring business agility\n",
    "    - Time to market for new features/applications\n",
    "    - Code deployment frequency\n",
    "    - Time to deploy new code\n",
    "    - Overall time for:\n",
    "        - Development cycles\n",
    "        - Data manipulation cycles\n",
    "    - See examples in slides\n"
   ]
  }
 ],
 "metadata": {
  "kernelspec": {
   "display_name": "Python 3.8.11 ('env_py')",
   "language": "python",
   "name": "python3"
  },
  "language_info": {
   "name": "python",
   "version": "3.8.11"
  },
  "orig_nbformat": 4,
  "vscode": {
   "interpreter": {
    "hash": "1e949e87132dd83f1a7623eb88007e3532b03b66b77111be347aa4a383049722"
   }
  }
 },
 "nbformat": 4,
 "nbformat_minor": 2
}
