{
 "cells": [
  {
   "cell_type": "markdown",
   "metadata": {},
   "source": [
    "# AWS EC2"
   ]
  },
  {
   "cell_type": "markdown",
   "metadata": {},
   "source": [
    "- Launches compute capacity on AWS \n",
    "- in form of virtual machines\n",
    "- Called EC2 instances\n",
    "- Provided security layer\n",
    "- Resizable capacity\n",
    "- Several pricing plans:\n",
    "    - On-demand : Start and terminate instances anytime\n",
    "    - Saving plans : Discount in exchange of usage commitment (1 year / 3 years)\n",
    "    - Reserved instances : Specific characteristics, save money compared to  on-demand plan\n",
    "    - Spot instances : Use AWS unused capacity and save up to 90% compared to  on-demand plan (for stateless and fault tolerent apps)\n",
    "    - Dedicated hosts : Rent physical server\n",
    "- Benefits:\n",
    "    - Flexibility \n",
    "        - Allocate / De-allocate resources at will\n",
    "    - Scalability \n",
    "        - Use new services as needed\n",
    "        - Unused resources can be utilized to perform other task / terminate unused EC2 instances\n",
    "    - Reliability\n",
    "        - global redundant data centers\n",
    "    - Security\n",
    "        - secured architecture\n",
    "    - Highly competitive rates\n",
    "        - economy of scale\n",
    "        - optimize by leveraging different pricing plans\n",
    "    - Rich catalog of machines to customize:\n",
    "        - Memory\n",
    "        - Processor\n",
    "        - Storage\n",
    "        - OS and software packages"
   ]
  },
  {
   "cell_type": "markdown",
   "metadata": {},
   "source": [
    "# AWS Lambda"
   ]
  },
  {
   "cell_type": "markdown",
   "metadata": {},
   "source": [
    "- Serverless compute\n",
    "- Running code without managing servers\n",
    "- Elastic: automatically adapts to workloads\n",
    "- Supporting several programming languages:\n",
    "    - Python\n",
    "    - Node.js\n",
    "    - Java\n",
    "- Can be triggered from AWS services or external applications\n",
    "- The benefits of Lambda\n",
    "    - Server management heavy lifting handled by AWS\n",
    "    - Continuous scaling to the size of workloads:\n",
    "        - Increases reliability by eliminating traffic-related downtime\n",
    "        - Decreases costs by allocating just the necessary resources to handle current traffic\n",
    "    - Pricing: only pay for time of code execution (with millisecond metering)\n",
    "    - Rich ecosystem:\n",
    "        - AWS serverless application repository = serverless app marketplace\n",
    "        - AWS serverless application model = framework for building serverless apps"
   ]
  },
  {
   "cell_type": "markdown",
   "metadata": {},
   "source": [
    "# AWS S3"
   ]
  },
  {
   "cell_type": "markdown",
   "metadata": {},
   "source": [
    "- Simple Storage Service\n",
    "- Data stored as objects\n",
    "- Can be viewed as traditional files\n",
    "- Stored differently\n",
    "- Use cases:\n",
    "    - Data lakes\n",
    "    - Big data analysis\n",
    "    - Archives\n",
    "    - Websites\n",
    "    - Mobile applications\n",
    "- S3 Glacier\n",
    "    - Special version of S3\n",
    "    - Well suited for long term storage like:\n",
    "        - Backup\n",
    "        - Archives\n",
    "    -Several retrieval delay options, the longer delay = the cheaper the storage:\n",
    "        - Expedited retrievals: 1-5 minutes\n",
    "        - Standard retrievals: 3-5 hours\n",
    "        - Bulk retrievals: 5-12 hours\n",
    "        - S3 Glacier Deep Archive: 12-48 hours\n",
    "- The benefits of S3\n",
    "    - Data availability : automatically replicated\n",
    "    - Performance and scalability\n",
    "    - 99.999999999% durability (1 object might be lost in the next 10000 years)\n",
    "    - No storage capacity limit\n",
    "    - Security\n",
    "    - Compliance\n",
    "    - Highly competitive pricing\n",
    "    - Optimized pricing for long term storage with S3 Glacier"
   ]
  },
  {
   "cell_type": "markdown",
   "metadata": {},
   "source": [
    "# AWS RDS"
   ]
  },
  {
   "cell_type": "markdown",
   "metadata": {},
   "source": [
    "- Relational Database Service\n",
    "- Lets us Install and manage of relational databases on AWS\n",
    "- Several database engines available:\n",
    "    - Amazon Aurora\n",
    "    - PostgreSQL\n",
    "    - MySQL\n",
    "    - MariaDB\n",
    "    - Oracle Database\n",
    "    - SQL Server\n",
    "- The benefits of RDS\n",
    "    - Several time consuming database management tasks handled by AWS:\n",
    "        - Database con,guration\n",
    "        - Updates and security patches\n",
    "        - Backup\n",
    "    - Easy adaptation to traffic evolutions\n",
    "    - Availability and durability\n",
    "    - High Performance\n",
    "    - Security\n",
    "    - Cost savings"
   ]
  },
  {
   "cell_type": "markdown",
   "metadata": {},
   "source": [
    "# AWS DynamoDB"
   ]
  },
  {
   "cell_type": "markdown",
   "metadata": {},
   "source": [
    "- NoSQL database management service\n",
    "- Flexible database (schemaless database)\n",
    "- Documents based database\n",
    "- Fully managed by AWS:\n",
    "    - Security\n",
    "    - Backup\n",
    "    - Restore\n",
    "    - Caching\n",
    "- Well suited for big data applications\n",
    "- The benefits of DynamoDB\n",
    "    - Database server management handled by AWS\n",
    "    - Performance at scale:\n",
    "    - Low latency (less than a few milliseconds)\n",
    "    - Huge amounts of data\n",
    "    - Caching features\n",
    "    - Availability and durability\n",
    "    - Security\n",
    "    - Cost optimization"
   ]
  },
  {
   "cell_type": "markdown",
   "metadata": {},
   "source": [
    "# AWS CloudFront\n"
   ]
  },
  {
   "cell_type": "markdown",
   "metadata": {},
   "source": [
    "- Content Delivery Network (CDN)\n",
    "    - Network of servers in different locations\n",
    "    - Working together to offer fast content delivery\n",
    "    - Caching content like HTML files, CSS etc.\n",
    "- Programmable through Lambda@Edge\n",
    "- Benefits of CloudFront\n",
    "    - Fast content delivery\n",
    "    - Security:\n",
    "        - Protection against the most frequent DDoS attacks\n",
    "        - For more complex attacks, security extensions available\n",
    "    - Executing code closer to users through Lambda@Edge \n",
    "        - Increase performance\n",
    "        - Decrease latency\n",
    "    - Natively integrated with many other AWS services\n",
    "    - Cost-effective"
   ]
  },
  {
   "cell_type": "markdown",
   "metadata": {},
   "source": [
    "# AWS Route 53"
   ]
  },
  {
   "cell_type": "markdown",
   "metadata": {},
   "source": [
    "- Domain Name System (DNS) of AWS\n",
    "- Translating domain names to IP addresses\n",
    "- Routing user requests to:\n",
    "    - Internal resources in AWS (e.g. EC2 instances)\n",
    "    - External infrastructures\n",
    "- Routing policy configuration\n",
    "- Visual tool\n",
    "- Buying and managing domain names\n",
    "- Benefits of Route 53\n",
    "    - Leveraging AWS global infrastructure for availability and reliability\n",
    "    - Ability to optimize routing policies\n",
    "    - Compatibility with other AWS services\n",
    "    - Simplicity compared to other DNS providers\n",
    "    - Scalability\n",
    "    - Security\n",
    "    - Cost-efficiency"
   ]
  },
  {
   "cell_type": "markdown",
   "metadata": {},
   "source": [
    "# AWS API Gateway\n"
   ]
  },
  {
   "cell_type": "markdown",
   "metadata": {},
   "source": [
    "- Fully managed service for API:\n",
    "    - Creation\n",
    "    - Publishing\n",
    "    - Maintaining\n",
    "    - Monitoring\n",
    "    - Securing\n",
    "- Authorization and access control\n",
    "- Concurrent API calls management (e.g. throttling)\n",
    "- API version management\n",
    "- Benefits of API Gateway\n",
    "    - Efficient API development cycles\n",
    "        - Iterating\n",
    "        - testing\n",
    "        - versioning\n",
    "    - Leveraging AWS CloudFront \n",
    "        - for low latency \n",
    "        - protection against DDoS attacks\n",
    "    - Throttling and authorizing API calls to ensure backend resources can handle traffic spikes\n",
    "    - Monitoring using AWS CloudWatch\n",
    "    - Flexible security control:\n",
    "        - Using other AWS security services\n",
    "        - Custom security checks using lambda"
   ]
  },
  {
   "cell_type": "markdown",
   "metadata": {},
   "source": [
    "# AWS CloudWatch"
   ]
  },
  {
   "cell_type": "markdown",
   "metadata": {},
   "source": [
    "- Monitoring and observability tool\n",
    "- Usage metrics for different resources\n",
    "- Events\n",
    "- Alarms\n",
    "- Custom trigger rules\n",
    "- benefits of CloudWatch\n",
    "    - Centralized observability point of the whole infrastructure\n",
    "    - Actionable insights extraction\n",
    "    - Resource usage optimization\n",
    "    - Operational performance improvement\n",
    "    - Easy dashboards, metrics, events and alarms creation"
   ]
  },
  {
   "cell_type": "markdown",
   "metadata": {},
   "source": [
    "# AWS CloudTrail"
   ]
  },
  {
   "cell_type": "markdown",
   "metadata": {},
   "source": [
    "- Keep track of all account activity\n",
    "- Log every action made\n",
    "- In which service, when and by whom\n",
    "- benefits of CloudTrail\n",
    "    - Compliance audits\n",
    "    - Security audits\n",
    "    - Detect unusual activity\n",
    "    - Automate security measures\n"
   ]
  },
  {
   "cell_type": "markdown",
   "metadata": {},
   "source": [
    "# AWS CloudFormation"
   ]
  },
  {
   "cell_type": "markdown",
   "metadata": {},
   "source": [
    "- Resource deployment automation\n",
    "- Deploy/update/delete resources\n",
    "- Using a template file (JSON/YAML)\n",
    "- Parameter configuration for each resource\n",
    "- Infrastructure as code (No need to interact with interfaces)\n",
    "- benefits of CloudFormation\n",
    "    - Automation best practices\n",
    "    - Resources managed through CI/CD pipeline\n",
    "    - Scaling infrastructure in different regions/accounts\n",
    "    - Share compliance and security best practices"
   ]
  },
  {
   "cell_type": "markdown",
   "metadata": {},
   "source": [
    "# AWS IAM"
   ]
  },
  {
   "cell_type": "markdown",
   "metadata": {},
   "source": [
    "- Identity and Access Management\n",
    "- Access permissions management\n",
    "    - For users\n",
    "    - For resources\n",
    "- benefits of IAM\n",
    "    - Fine-grained access permission management\n",
    "    - Managing groups of users\n",
    "    - Managing roles for users and resources\n",
    "    - Multi-Factor authentication for users with high privileges\n",
    "    - No extra charge"
   ]
  }
 ],
 "metadata": {
  "kernelspec": {
   "display_name": "Python 3.8.11 ('env_py')",
   "language": "python",
   "name": "python3"
  },
  "language_info": {
   "name": "python",
   "version": "3.8.11"
  },
  "orig_nbformat": 4,
  "vscode": {
   "interpreter": {
    "hash": "1e949e87132dd83f1a7623eb88007e3532b03b66b77111be347aa4a383049722"
   }
  }
 },
 "nbformat": 4,
 "nbformat_minor": 2
}
