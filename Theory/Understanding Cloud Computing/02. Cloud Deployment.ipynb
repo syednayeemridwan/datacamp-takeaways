{
 "cells": [
  {
   "cell_type": "markdown",
   "metadata": {},
   "source": [
    "# Cloud deployment models"
   ]
  },
  {
   "cell_type": "markdown",
   "metadata": {},
   "source": [
    "- Important decision in cloud adoption\n",
    "- How much control do you need over your cloud environment?\n",
    "- Three main types: private, public, and hybrid"
   ]
  },
  {
   "cell_type": "markdown",
   "metadata": {},
   "source": [
    "# Private cloud Deployment Model"
   ]
  },
  {
   "cell_type": "markdown",
   "metadata": {},
   "source": [
    "- Basically it is your own cloud computer in the hands of cloud provider, available in the cloud\n",
    "- Cloud Infrastructure is designated for exclusive use by its tenants / hirer.\n",
    "- Private clouds are accessed by a (private) network link.\n",
    "- Pros: Direct control of resources and data (You own it all)\n",
    "- Cons: More upfront investment (More costly)\n",
    "- Unlike on-premise, private cloud uses virtualization for on-demand compute resources and can be off-premises."
   ]
  },
  {
   "cell_type": "markdown",
   "metadata": {},
   "source": [
    "# Public cloud Deployment Model"
   ]
  },
  {
   "cell_type": "markdown",
   "metadata": {},
   "source": [
    "- Cloud infrastructure is shared and open for use by the general public. \n",
    "- It's owned and managed by a cloud service provider.\n",
    "- Public clouds are Internet accessible.\n",
    "- Pros: \n",
    "    - Get started quickly with minimal investment\n",
    "    - Easier to scale\n",
    "- Cons: No access to data center and hardware"
   ]
  },
  {
   "cell_type": "markdown",
   "metadata": {},
   "source": [
    "# Hybrid cloud Deployment Model"
   ]
  },
  {
   "cell_type": "markdown",
   "metadata": {},
   "source": [
    "- Organization uses a combination of two or more distinct models.\n",
    "- Use cases:\n",
    "    - Store sensitive data on the private cloud and use application on public cloud for analytics\n",
    "    - Cloud bursting: when private cloud hits capacity, temporarily move overflow to the public cloud to avoid disruption of service"
   ]
  },
  {
   "cell_type": "markdown",
   "metadata": {},
   "source": [
    "# Multicloud Deployment Model"
   ]
  },
  {
   "cell_type": "markdown",
   "metadata": {},
   "source": [
    "- Combination of different cloud provider services\n",
    "- Flexibility on pricing plans and service offerings\n",
    "- Pros : No reliance on one vendor\n",
    "- Cons : Not always easy to integrate services from different providers"
   ]
  },
  {
   "cell_type": "markdown",
   "metadata": {},
   "source": [
    "# Community Cloud Deployment Model"
   ]
  },
  {
   "cell_type": "markdown",
   "metadata": {},
   "source": [
    "- Infrastructure shared by a specific community for exclusive use\n",
    "- Common interest or concern, e.g., security, jurisdiction, mission\n",
    "- Can be managed and hosted internally or externally\n",
    "- eg: a family owns Windows PC, Linux PC and Apple PC and use them as they see fit "
   ]
  },
  {
   "cell_type": "markdown",
   "metadata": {},
   "source": [
    "# Laws on data"
   ]
  },
  {
   "cell_type": "markdown",
   "metadata": {},
   "source": [
    "- Latency : The greater the distance between 2 points, the more time it will take for data to send / receive\n",
    "- Servers are in different geographic location to reduce latency\n",
    "- Different country has different laws on data protection and privacy"
   ]
  },
  {
   "cell_type": "markdown",
   "metadata": {},
   "source": [
    "# General Data Protection Regulation (GDPR)"
   ]
  },
  {
   "cell_type": "markdown",
   "metadata": {},
   "source": [
    "- Regulates how personal data is collected, processed, and stored from users in the EU\n",
    "- Examples:\n",
    "    - Users must explicitly consent to data collection\n",
    "    - Notify users of any data breaches\n",
    "    - Personal data information must be encrypted, anonymized, and/or pseudonymized\n",
    "    - Personal data can't leave EU borders, unless you can guarantee the same level of protection\n",
    "    - Fine: 20 million Euros or up to 4% of the worldwide annual revenue"
   ]
  },
  {
   "cell_type": "markdown",
   "metadata": {},
   "source": [
    "# personal data"
   ]
  },
  {
   "cell_type": "markdown",
   "metadata": {},
   "source": [
    "- Personal data is any information that relates to an identified or identifiable living individual. Different pieces of information, which collected together can lead to the identification of a particular person, also constitute personal data.\n",
    "- Includes: home address, first name, last name, email address, location data, IP address, racial or ethnic origin, political opinions, sexual orientation, health related data\n",
    "- Personally identifiable information (PII)\n",
    "- Other regulations\n",
    "    - Brazil's Lei Geral de Proteçao de Dados (LGPD)\n",
    "    - California's Consumer Privacy Act (CCPA)\n",
    "    - USA's Health Insurance Portability and Accountability Act (HIPAA)\n",
    "    - Japan's Act on Protection of Personal Information\n",
    "    - Thailand Personal Data Protection Act (PDPA)\n",
    "    - Canada's Personal Information Protection and Electronic Documents Act (PIPEDA)"
   ]
  },
  {
   "cell_type": "markdown",
   "metadata": {},
   "source": [
    "# Data roles and the cloud"
   ]
  },
  {
   "cell_type": "markdown",
   "metadata": {},
   "source": [
    "More on-demand skills than even data-science skills itself since most businesses are shifting to the cloud\n",
    "\n",
    "- Data scientist\n",
    "    - Run computationally expensive analyses on the cloud\n",
    "\n",
    "- Machine learning scientist\n",
    "    - Train and deploy machine learning models on the cloud\n",
    "\n",
    "- Data engineer\n",
    "    - Build pipelines on the cloud to ingest, transform, and store big data\n",
    "\n",
    "- Data analyst\n",
    "    - Access data on the cloud via business intelligence tools"
   ]
  },
  {
   "cell_type": "markdown",
   "metadata": {},
   "source": [
    "# Other cloud roles"
   ]
  },
  {
   "cell_type": "markdown",
   "metadata": {},
   "source": [
    "-   Cloud architect\n",
    "    - Solutions architect for the cloud\n",
    "    - Design cloud infrastructure for a given business problem\n",
    "    - Plan the deployment of the infrastructure\n",
    "    - Ensure scalability and optimized for cost\n",
    "\n",
    "-   Cloud engineer\n",
    "    - Build, maintain and monitor cloud services\n",
    "    - Migrating operations to the cloud\n",
    "\n",
    "-   DevOps engineer\n",
    "    - Software Development + IT Operations\n",
    "    - Infrastructure as code\n",
    "    - Ensure the reliability, availability, and scalability of the cloud through software development and automation\n",
    "\n",
    "-   Security engineer\n",
    "    - Spec security requirements\n",
    "    - Test and assess security of data on the cloud\n",
    "    - Responsible for protecting organization and user data\n"
   ]
  }
 ],
 "metadata": {
  "kernelspec": {
   "display_name": "Python 3.8.11 ('env_py')",
   "language": "python",
   "name": "python3"
  },
  "language_info": {
   "name": "python",
   "version": "3.8.11"
  },
  "orig_nbformat": 4,
  "vscode": {
   "interpreter": {
    "hash": "1e949e87132dd83f1a7623eb88007e3532b03b66b77111be347aa4a383049722"
   }
  }
 },
 "nbformat": 4,
 "nbformat_minor": 2
}
