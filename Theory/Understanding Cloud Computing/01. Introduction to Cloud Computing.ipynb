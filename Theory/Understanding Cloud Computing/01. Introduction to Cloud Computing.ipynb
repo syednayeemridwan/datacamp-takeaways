{
 "cells": [
  {
   "cell_type": "markdown",
   "metadata": {},
   "source": [
    "# Cloud computing"
   ]
  },
  {
   "cell_type": "markdown",
   "metadata": {},
   "source": [
    "Cloud computing is the delivery of technology services - including compute, storage, databases, networking, so/ware, and many more - over the internet with pay-as-you-go pricing."
   ]
  },
  {
   "cell_type": "markdown",
   "metadata": {},
   "source": [
    "# On-premise server"
   ]
  },
  {
   "cell_type": "markdown",
   "metadata": {},
   "source": [
    "- Located on the premises\n",
    "- More people start using the server = Buy new servers = Less scalable\n",
    "- When not needed, extra processing power remains idle\n",
    "- Take time to set up\n",
    "- Ongoing Costs = buy, maintenance and so on.\n",
    "- Access to extra computing power needs time to buy machine + set up machine\n",
    " "
   ]
  },
  {
   "cell_type": "markdown",
   "metadata": {},
   "source": [
    "# Cloud server"
   ]
  },
  {
   "cell_type": "markdown",
   "metadata": {},
   "source": [
    "- server on the cloud\n",
    "- More people start using the server = Rent new cloud servers = Scalable\n",
    "- Easily release redundant cloud servers when not needed\n",
    "- Take less time to set up\n",
    "- Pay-as-you go billing.\n",
    "- Access to extra computing power instantly when you need it"
   ]
  },
  {
   "cell_type": "markdown",
   "metadata": {},
   "source": [
    "# Uses of cloud computing"
   ]
  },
  {
   "cell_type": "markdown",
   "metadata": {},
   "source": [
    "- Store, back up, and recover data\n",
    "- Create cloud-native applications\n",
    "- Stream audio and video\n",
    "- Deliver software on demand\n",
    "- Analyze data\n",
    "- Embed artificial intelligence models etc"
   ]
  },
  {
   "cell_type": "markdown",
   "metadata": {},
   "source": [
    "# Cloud services"
   ]
  },
  {
   "cell_type": "markdown",
   "metadata": {},
   "source": [
    "- Compute : provide the brains to process the workload\n",
    "- Storage : save and store data\n",
    "- Databases : store more structured sets of data"
   ]
  },
  {
   "cell_type": "markdown",
   "metadata": {},
   "source": [
    "# Cloud computing characteristics"
   ]
  },
  {
   "cell_type": "markdown",
   "metadata": {},
   "source": [
    "- Virtualization\n",
    "    - Fundamental technology that powers cloud computing\n",
    "    - splits Physical server into multiple virtual servers\n",
    "    - Each virtual server can run different OS\n",
    "    - Provide abstraction for each virtual server : Easier to manage + portable\n",
    "    - Maximizes the output of individual servers\n",
    "    - Economies of scale (servers fight each other to take resources)\n",
    "\n",
    "- Scalability\n",
    "    - Easily add and remove resources as you need them \n",
    "    - Needs more resources during peak times = scale resources as necessary\n",
    "    - Vertical Scaling = Increase power of an existing instance\n",
    "    - Horizontal Scaling = Add more new instances to increase power\n",
    "\n",
    "- Cost\n",
    "    - Pay-as-you-go\n",
    "    - No need to pay for buying hardware or software\n",
    "    - No need to pay for maintenance\n",
    "    - Sometimes On-premise solution is cheap if the infrastructure is stable over time in the long run (Based on use cases)\n",
    "\n",
    "- Speed\n",
    "    - Fast set-up time\n",
    "    - Deploy services in a matter of minutes\n",
    "    - Resources always available On-demand\n",
    "\n",
    "\n",
    "- Performance\n",
    "    - Access to fast and efficient computing resources\n",
    "    - Always update to Fast and efficient computing hardware\n",
    "    - Data center: houses an organization's IT operations and equipment. Cloud has the best.\n",
    "\n",
    "- Growth\n",
    "    - Grow using a wide range of resources and services\n",
    "    - On-demand resourcing / scaling = growth constraints are reduced\n",
    "    - Deploy globally in minutes (deploy in new geographic locations)\n",
    "    - Provision resources across a global network\n",
    "\n",
    "- Reliability\n",
    "    - Replication : Data is duplicated across data centers\n",
    "    - Guaranteed durability \n",
    "    - Guaranteed availability\n",
    "\n",
    "- Security\n",
    "    - External party responsible for security\n",
    "    - Data governance in place\n",
    "    - more and more secure\n"
   ]
  },
  {
   "cell_type": "markdown",
   "metadata": {},
   "source": [
    "# Cloud service models"
   ]
  },
  {
   "cell_type": "markdown",
   "metadata": {},
   "source": [
    "<center><img src=\"images/01.jpg\"  style=\"width: 400px, height: 300px;\"/></center>\n",
    "<center><img src=\"images/02.jpg\"  style=\"width: 400px, height: 300px;\"/></center>\n"
   ]
  },
  {
   "cell_type": "markdown",
   "metadata": {},
   "source": [
    "- Iaas = You only get fundamental building blocks\n",
    "- PaaS = IaaS + Tools you need to build apps on IaaS\n",
    "- SaaS = The whole software is available via web "
   ]
  },
  {
   "cell_type": "markdown",
   "metadata": {},
   "source": [
    "<center><img src=\"images/03.jpg\"  style=\"width: 400px, height: 300px;\"/></center>\n"
   ]
  },
  {
   "cell_type": "markdown",
   "metadata": {},
   "source": [
    "# The cloud pyramid"
   ]
  },
  {
   "cell_type": "markdown",
   "metadata": {},
   "source": [
    "<center><img src=\"images/04.jpg\"  style=\"width: 400px, height: 300px;\"/></center>\n"
   ]
  },
  {
   "cell_type": "markdown",
   "metadata": {},
   "source": [
    "- Abstraction = level of comlexity. The Higher the level the lesser the detail.\n",
    "- Control = The power of customization. The Higher the level the lesser the customization power."
   ]
  },
  {
   "cell_type": "markdown",
   "metadata": {},
   "source": [
    "\n",
    "# FaaS (Function as a Service)"
   ]
  },
  {
   "cell_type": "markdown",
   "metadata": {},
   "source": [
    "- Variation on SaaS\n",
    "- Focuses on a function (part of the software)\n",
    "- e.g., identity authentication, payment transactions\n",
    "- Uses a \"serverless\" billing model (You pay for the function, not for the server itself)"
   ]
  },
  {
   "cell_type": "markdown",
   "metadata": {},
   "source": [
    "# XaaS (Anything as a Service)"
   ]
  },
  {
   "cell_type": "markdown",
   "metadata": {},
   "source": [
    "- Hardware as a Service (HaaS)\n",
    "- Storage as a Service (SaaS)\n",
    "- Database as a Service (DBaaS)\n",
    "- Disaster Recovery as a Service (DRaaS)\n",
    "- Network as a Service (NaaS)"
   ]
  }
 ],
 "metadata": {
  "kernelspec": {
   "display_name": "Python 3.8.11 ('env_py')",
   "language": "python",
   "name": "python3"
  },
  "language_info": {
   "name": "python",
   "version": "3.8.11"
  },
  "orig_nbformat": 4,
  "vscode": {
   "interpreter": {
    "hash": "1e949e87132dd83f1a7623eb88007e3532b03b66b77111be347aa4a383049722"
   }
  }
 },
 "nbformat": 4,
 "nbformat_minor": 2
}
