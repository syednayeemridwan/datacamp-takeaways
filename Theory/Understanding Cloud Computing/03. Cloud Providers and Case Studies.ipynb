{
 "cells": [
  {
   "cell_type": "markdown",
   "metadata": {},
   "source": [
    "# Amazon Web Services"
   ]
  },
  {
   "cell_type": "markdown",
   "metadata": {},
   "source": [
    "- Current Business Leader (Most market shares)\n",
    "- AWS launched in 2006\n",
    "\n",
    "- File Storage : AWS S3\n",
    "- Computation : AWS EC2\n",
    "- Relational Databases : AWS RDS\n",
    "- Data Warehousing : Redshift\n",
    "- Real time data movement and analytics : Kinesis\n",
    "- predictive analytics and machine learning : SageMaker"
   ]
  },
  {
   "cell_type": "markdown",
   "metadata": {},
   "source": [
    "# Microsoft Azure"
   ]
  },
  {
   "cell_type": "markdown",
   "metadata": {},
   "source": [
    "- Current Business Runner Up (Second Most market shares)\n",
    "- Azure launched in 2010\n",
    "- Integration with microsoft products (Strength)\n",
    "\n",
    "- File Storage : Azure Blob Storage\n",
    "- Computation : Azure Virtual Machines\n",
    "- Relational Databases : Azure SQL Database\n",
    "- Data Warehousing : Azure Data Lake Storage\n",
    "- Real time data movement and analytics : Azure Stream Analytics \n",
    "- predictive analytics and machine learning : Azure Machine Learning"
   ]
  },
  {
   "cell_type": "markdown",
   "metadata": {},
   "source": [
    "# Google Cloud"
   ]
  },
  {
   "cell_type": "markdown",
   "metadata": {},
   "source": [
    "- 3rd Big player (Third Most market shares)\n",
    "- GCP launched in 2008\n",
    "- Multicloud (Google Cloud Anthos) : Run hybrid multicloud solutions - manage and deploy across several cloud providers  (Strength)\n",
    "\n",
    "- File Storage : Google Cloud Storage\n",
    "- Computation : Google Compute Engine\n",
    "- Relational Databases : Google Cloud SQL\n",
    "- Data Warehousing : Big Query\n",
    "- Real time data movement and analytics : Data Flow\n",
    "- predictive analytics and machine learning : AutoML"
   ]
  },
  {
   "cell_type": "markdown",
   "metadata": {},
   "source": [
    "# Alibaba Cloud"
   ]
  },
  {
   "cell_type": "markdown",
   "metadata": {},
   "source": [
    "- File Storage : Object Storage Service\n",
    "- Computation : Elastic Compute Service\n",
    "- Relational Databases : ApsaraDB RDS\n",
    "- Data Warehousing : E-MapReduce\n",
    "- Real time data movement and analytics : QuickBI\n",
    "- predictive analytics and machine learning : Machine Learning Platform for AI"
   ]
  },
  {
   "cell_type": "markdown",
   "metadata": {},
   "source": [
    "# IBM Cloud"
   ]
  },
  {
   "cell_type": "markdown",
   "metadata": {},
   "source": [
    "- File Storage : IBM Cloud Object Storage \n",
    "- Computation : IBM Cloud Virtual Server \n",
    "- Relational Databases : IBM Cloud DB2\n",
    "- Data Warehousing : Watson Knowledge Catalog\n",
    "- Real time data movement and analytics : SPSS Statistics\n",
    "- predictive analytics and machine learning : Watson Machine Learning"
   ]
  },
  {
   "cell_type": "markdown",
   "metadata": {},
   "source": [
    "# Oracle Cloud"
   ]
  },
  {
   "cell_type": "markdown",
   "metadata": {},
   "source": [
    "- File Storage : Object Storage \n",
    "- Computation : Virtual Machines \n",
    "- Relational Databases : MySQL Database Service\n",
    "- Data Warehousing : Autonomous Database\n",
    "- Real time data movement and analytics : Analytics Cloud\n",
    "- predictive analytics and machine learning : Machine Learning"
   ]
  },
  {
   "cell_type": "markdown",
   "metadata": {},
   "source": [
    "# Best Provider"
   ]
  },
  {
   "cell_type": "markdown",
   "metadata": {},
   "source": [
    "- Current infrastructure costs\n",
    "- Cost of running a data center, physical hardware, storage\n",
    "- Cost of applications (deprecate, migrate, rebuild)\n",
    "- Cost of hiring cloud specialists\n",
    "- Benefits for company and customers\n",
    "- Risks (regulation, security, disaster, vendor lock-in)"
   ]
  },
  {
   "cell_type": "markdown",
   "metadata": {},
   "source": [
    "# Future"
   ]
  },
  {
   "cell_type": "markdown",
   "metadata": {},
   "source": [
    "- Growing amount of data\n",
    "- AI needs computing resources\n",
    "- Smart cities need an underlying infrastructure\n",
    "- Serverless architectures are more and more popular"
   ]
  }
 ],
 "metadata": {
  "kernelspec": {
   "display_name": "Python 3.8.11 ('env_py')",
   "language": "python",
   "name": "python3"
  },
  "language_info": {
   "name": "python",
   "version": "3.8.11"
  },
  "orig_nbformat": 4,
  "vscode": {
   "interpreter": {
    "hash": "1e949e87132dd83f1a7623eb88007e3532b03b66b77111be347aa4a383049722"
   }
  }
 },
 "nbformat": 4,
 "nbformat_minor": 2
}
