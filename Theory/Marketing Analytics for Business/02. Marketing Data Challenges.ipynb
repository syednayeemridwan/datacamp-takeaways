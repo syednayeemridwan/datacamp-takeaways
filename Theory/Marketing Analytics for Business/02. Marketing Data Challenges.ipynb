{
 "cells": [
  {
   "cell_type": "markdown",
   "metadata": {},
   "source": [
    "# Marketing Data Sources"
   ]
  },
  {
   "cell_type": "markdown",
   "metadata": {},
   "source": [
    "- Internal financial data\n",
    "- Advertising sources\n",
    "- Financial data\n",
    "- Data is dispersed across sources\n",
    "- Need:\n",
    "    - engagement, \n",
    "    - cost, \n",
    "    - revenue, \n",
    "    - campaign attributes : metadata like Campaign name, Campaign ID Campaign type (e.g., one-time  versus recurring), Campaign audience \n",
    "- Revenue stored separately from engagement data\n",
    "- Analysts combine across all channels"
   ]
  },
  {
   "cell_type": "markdown",
   "metadata": {},
   "source": [
    "# Marketing channel granularity"
   ]
  },
  {
   "cell_type": "markdown",
   "metadata": {},
   "source": [
    "- Offine channels (TV, radio, billboards) : \n",
    "    - the least granular\n",
    "- Online channels : \n",
    "    - the most granular"
   ]
  },
  {
   "cell_type": "markdown",
   "metadata": {},
   "source": [
    "# Advertising platforms"
   ]
  },
  {
   "cell_type": "markdown",
   "metadata": {},
   "source": [
    "- Most data comes from advertising platforms\n",
    "- system and tools that facilitates cost and distribution of ads\n",
    "- marketers use it : To execute media and monitor reports\n",
    "- Helps to identify best way to:\n",
    "    - Launch campaigns\n",
    "    - Set spend limits\n",
    "    - Assign success metrics\n",
    "    - Enter metadata\n"
   ]
  },
  {
   "cell_type": "markdown",
   "metadata": {},
   "source": [
    "# Audience targeting data"
   ]
  },
  {
   "cell_type": "markdown",
   "metadata": {},
   "source": [
    "- Marketers use third-party tools to align audience definitions across advertising platforms (eg. US or United States)\n",
    "- DSP (demand side platform): To consistently set media spend by target audience across advertisers (Distribute who will get what)\n",
    "- DMP (data management platform): centralize audience and campaign engagement data across platforms (Aggregate who got what)\n",
    "- Whole workflow:\n",
    "    1. DSP for target audience ID and spend (get data for target audience)\n",
    "    2. DMP to filter users and engagement by target audience ID (group data by target audience)\n",
    "    3. Internal data to see all users for your KPI (join across all platforms)\n",
    "    4. Compare internal data to DSP spend + DMP audience data (Comparison between internal data vs DSP+DMP)"
   ]
  },
  {
   "cell_type": "markdown",
   "metadata": {},
   "source": [
    "# Laws on Data"
   ]
  },
  {
   "cell_type": "markdown",
   "metadata": {},
   "source": [
    "- Privacy law is intended to protect customer data\n",
    "- Some requirements:\n",
    "    - Companies should delete user data on request, \n",
    "    - mask user IDs, \n",
    "    - not use certain data for marketing\n",
    "- Impacts marketing data volume, joins, and granularity\n",
    "- Analysts should flag potential privacy risks\n",
    "- Personally Identifiable Information (PII) : any information that can identify an individual. eg:\n",
    "    - IP address, website login details, NID etc.\n",
    "    - Cookie: file that stores browsing behavior data for users. 2 types:\n",
    "        - First-party: cookies stored by sites customers visit\n",
    "        - Third-party: cookies across domains managed by third-party companies (mainly used for marketing purposes). Most restricted. Higher potential of abuse.\n",
    "    - All cookies: should be deleted on request and are subject to privacy law\n",
    "    - Marketing analyst should be careful of which cookies could be used or should not be used\n",
    "    - General Data Protection Regulation (GDPR) :\n",
    "        - Protects customers in the European Union\n",
    "        - Companies must disclose data collection and customers must consent\n",
    "        - PII = name, address, photos, and IP address\n",
    "        - Fines of up to 4% of revenue for violations\n",
    "    - Things to considet : Channel + Geography + Browser/OS + PII = guidelines for handling data"
   ]
  },
  {
   "cell_type": "markdown",
   "metadata": {},
   "source": [
    "# Impact measurement"
   ]
  },
  {
   "cell_type": "markdown",
   "metadata": {},
   "source": [
    "1. Direct Impact:\n",
    "    - A customer directly took action on an ad (click event).\n",
    "    - Examples:\n",
    "        - Paid search ads (search results via Google or Bing)\n",
    "        - Social media ads (Instagram, Facebook, LinkedIn, etc.)\n",
    "        - Sponsored content (articles / posts)\n",
    "\n",
    "2. Indirect Impact:\n",
    "    - interaction with an ad is not observed in the data (Seeing ads can increase brand engagement overall)\n",
    "    - Ads we listen to or watch and cannot click:\n",
    "    - Examples:\n",
    "        - TV\n",
    "        - Radio\n",
    "        - Podcasts\n",
    "        - Billboards\n",
    "        - Public transportation\n",
    "        - Direct mail\n",
    "        - Print newspapers\n",
    "    - Tend to be higher cost than Direct\n",
    "    - Measuring efficacy is key\n",
    "\n",
    "3. Clickable Indirect impact: \n",
    "    - display advertising\n",
    "    - Display banner clickthrough rates are usually <1%\n",
    "    - Negligible impact on clicks = Indirect\n",
    "    - Examples:\n",
    "        - Youtube ad\n",
    "        - Facebook ad\n",
    "        - Streaming platforms (netflix)"
   ]
  }
 ],
 "metadata": {
  "kernelspec": {
   "display_name": "Python 3.8.11 ('env_py')",
   "language": "python",
   "name": "python3"
  },
  "language_info": {
   "name": "python",
   "version": "3.8.11"
  },
  "orig_nbformat": 4,
  "vscode": {
   "interpreter": {
    "hash": "1e949e87132dd83f1a7623eb88007e3532b03b66b77111be347aa4a383049722"
   }
  }
 },
 "nbformat": 4,
 "nbformat_minor": 2
}
