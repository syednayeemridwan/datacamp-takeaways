{
 "cells": [
  {
   "cell_type": "markdown",
   "metadata": {},
   "source": [
    "# KPIs and metrics"
   ]
  },
  {
   "cell_type": "markdown",
   "metadata": {},
   "source": [
    "- Key Performance Indicator (KPI): \n",
    "    - a metric that shows if marketing efforts made any impact on the business\n",
    "    - Linked to business growth\n",
    "    - Directly ties to campaign goal\n",
    "    - Should be 1-2 maximum\n",
    "- Supporting metric: \n",
    "    - a metric to monitor channel health\n",
    "    - measure immediate impacts of channel and tactic optimizations\n",
    "    - Relates to marketing engagement\n",
    "    - Reflect tactic optimizations\n",
    "    - Can be several metrics\n",
    "    - supporting metric options can be narrowed down using marketing funnels\n",
    "- Funnel :\n",
    "    - Starts with wide potential audiences and ends with small audiences of purchasers\n",
    "    - Multiple stages:\n",
    "        1. Awareness :\n",
    "            - \"upper funnel\"\n",
    "            - Make customer aware of brand\n",
    "            - Channels that reach a wide audience (TV or billboards)\n",
    "        2. Consideration :\n",
    "            - \"mid funnel\"\n",
    "            - customers research the brand with other brand in social media or other media\n",
    "            - Evaluate brand as a purchase option versus other brands\n",
    "        3. Decision :\n",
    "            - \"lower funnel\"\n",
    "            - customers are ready to purchase from brand\n",
    "            - Channels that get customers directly to purchase (paid search)\n",
    "            "
   ]
  },
  {
   "cell_type": "markdown",
   "metadata": {},
   "source": [
    "# Campaign Funnel KPIs"
   ]
  },
  {
   "cell_type": "markdown",
   "metadata": {},
   "source": [
    "1. Awareness:\n",
    "    - goal : improve awareness or perception, measurement : surveys\n",
    "    - goal : audience reach, measurement : impression\n",
    "2. Consideration::\n",
    "    - goal : increase research activity on a brand or product , measurement : diffcult to compare to competitors, visit websites\n",
    "    - goal : engagement with brand or product , measurement :  social media\n",
    "3. Decision::\n",
    "    - goal : increase purchase activity (average order value) , measurement : easier to see revenue impact\n",
    "    - goal : conversions , measurement : purchases\n",
    "    "
   ]
  },
  {
   "cell_type": "markdown",
   "metadata": {},
   "source": [
    "# Campaign Funnel Supporting Metrics"
   ]
  },
  {
   "cell_type": "markdown",
   "metadata": {},
   "source": [
    "- Questions like:\n",
    "    - Can this metric improve via small changes in spend?\n",
    "    - Will business growth be directly affected by this metric?\n",
    "    - If yes, then these are supporting metrics\n",
    "- Awareness: \n",
    "    - Cost per mille (1000) impressions,\n",
    "    - brand term searches\n",
    "- Consideration: \n",
    "    - Instagram likes, \n",
    "    - YouTube video views, \n",
    "    - Cost per mille (1000) impressions\n",
    "- Decision: \n",
    "    - Cost per Click, \n",
    "    - ad clickthrough rate"
   ]
  },
  {
   "cell_type": "markdown",
   "metadata": {},
   "source": [
    "# Marketing forecasting"
   ]
  },
  {
   "cell_type": "markdown",
   "metadata": {},
   "source": [
    "- For 2 reasons:\n",
    "    - find future trends\n",
    "    - find targets (good targets are not unrealistic or easy to achieve)\n",
    "- Can be done on individual channel level or program level\n",
    "- Create in partnership with finance\n",
    "- gives prediction based on historical data and goal\n",
    "- forecasting requires :\n",
    "    - lots of historical data (2-3 years historical data with daily entries)\n",
    "    - seasonality (recurring trends with spikes and valleys)\n",
    "    - long term trend\n",
    "    - Marketing anomalies ( \"we paused display for a month last July\")\n",
    "- Good Forecasting isolate true market trends (without seasonality or other components)\n",
    "- Can be done with Excel or more advanced statistical models for fine-tuning\n",
    "- Statistical options include regression, econometrics, time-series, etc.\n"
   ]
  },
  {
   "cell_type": "markdown",
   "metadata": {},
   "source": [
    "# Forecasting flow "
   ]
  },
  {
   "cell_type": "markdown",
   "metadata": {},
   "source": [
    "1. Choose marketing KPIs\n",
    "2. Decide on marketing dimensions (e.g. channel, geography, etc.)\n",
    "3. Determine lowest common time granularity (e.g. daily, weekly, etc.)\n",
    "4. Determine how far into the future to forecast\n",
    "5. Decide on refresh refresh cadence (e.g., monthly, quarterly, etc.). Because the further we try to forecast, the more difficult it is to achieve high accuracy"
   ]
  },
  {
   "cell_type": "markdown",
   "metadata": {},
   "source": [
    "# Target Setting steps"
   ]
  },
  {
   "cell_type": "markdown",
   "metadata": {},
   "source": [
    "- First, accurate model to estimate seasonal trends for KPIs\n",
    "- Then, set targets relative to forecast to have reasonable goals\n",
    "- Marketing partners will add domain knowledge to fine tune and adjust targets\n",
    "- growing market impact = forecasting + target setting"
   ]
  },
  {
   "cell_type": "markdown",
   "metadata": {},
   "source": [
    "# Attribution Modeling"
   ]
  },
  {
   "cell_type": "markdown",
   "metadata": {},
   "source": [
    "- Customer is exposed to many channels. Determine which channel gets the credit when customer buys the product is called attribution modeling\n",
    "- Changes in attribution affect performance and trend\n",
    "- Analysts select attribution methodology for their marketing program\n",
    "- influences : optimization, ROI modeling, and marketing investments, budget decisions\n",
    "- Different models:\n",
    " 1. Last touch attribution :\n",
    "    - 100% of credit goes to the last channel / tactic / campaign\n",
    "    - Very easy to understand \n",
    "    - Very easy to explain trends\n",
    "    - Direct channels get most credit because they are mostly last in the purchase process (search engine for online buying)\n",
    "    - Indirect channels get low credit because they are rarely last in the purchase process (TV ads)\n",
    " 2. Multi-touch attribution:\n",
    "    - credit is distributed to multiple marketing efforts that led to a customer purchase\n",
    "    - Both Direct and Indirect channels are treated the same way\n",
    "    - Hard to identify which channel is driving (more responsible for) marketing trends\n",
    "    - 2 types: (They all add up to 100%)\n",
    "        1. Heuristic example: \n",
    "            - rule based : analysts control complexity\n",
    "            - linearly splitting credit equally among all channels\n",
    "            - Example: time decay ( The closer a channel is to purchase, the stronger influence it has on purchase decision)\n",
    "        2. Algorithmic example: \n",
    "            - statistical model based : complexity is determined by statistics\n",
    "            - regression modeling channel ranks based on strength of relationship to KPI\n",
    "- Considerations when choosing a model:\n",
    "    - No model is correct, \n",
    "    - Evaluate trade-offs of each model\n",
    "    - Which model gives more logical interpretation\n",
    "    - Which model is how precise\n",
    "    - Does customer behavior align with channel?\n",
    "    - Privacy law may delete data. However, algorithmic approach can mitigate this loss"
   ]
  },
  {
   "cell_type": "markdown",
   "metadata": {},
   "source": [
    "# Revenue and cost modeling"
   ]
  },
  {
   "cell_type": "markdown",
   "metadata": {},
   "source": [
    "- Return on Investment (ROI):  \n",
    "    - (revenue - investment) / marketing investment\n",
    "- Ultimate goal : positive ROI\n",
    "- Spend model varies by channel and tactic, and can be cross-channel\n",
    "    - Channel: Cost per click (paid search) , Cost per mille (1000) (display, TV)\n",
    "    - Tactic: Cost per view (video ads)\n",
    "    - Cross-channel: Ad production costs\n",
    "- Customer Acquisition Cost (CAC): cost of convincing a potential customer to buy a product or service\n",
    "    - Total Marketing Costs / # of Acquired Customers\n",
    "    - Accounts for all marketing spend and new customers per period\n",
    "    - Across multiple channels \n",
    "    - By individual channel\n",
    "    - Cross channel : Finance partners can help identify marketing overhead costs\n",
    "- Revinue Consideration:\n",
    "    - Channel impact: \n",
    "        - Direct channels are mostly and more easily tied to revenue\n",
    "        - Indirect channels are rarely tied to revenue\n",
    "    - Product cost: expensive purchases (buying a Ferrari) have delayed revenue impact (takes longer to buy)\n",
    "    - Product type: business models can have different revenue impact depending on goods or services offered (eg- monthly / yearly subscription). Finance partners need to collaborate to estimate this.\n",
    "    - Lifetime Value (LTV):\n",
    "        - Predicted Average time between acquisition and stopping business / churning\n",
    "        - LTV = Avg. purchases per customer (purchase value) + Avg. value of a purchase (purchase frequency) + Avg. length of a customer relationship (length of relationship)\n",
    "- LTV to CAC ratio\n",
    "    - ensures that ROI is always positive\n",
    "    - Marketing ROI = LTV / CAC\n",
    "    - do not spend on all customers equally (Customer with higher LTV gets priority)\n",
    "    - LTV to CAC = 3:1 is a good benchmark (1:1 is minimum)\n"
   ]
  }
 ],
 "metadata": {
  "kernelspec": {
   "display_name": "Python 3.8.11 ('env_py')",
   "language": "python",
   "name": "python3"
  },
  "language_info": {
   "name": "python",
   "version": "3.8.11"
  },
  "orig_nbformat": 4,
  "vscode": {
   "interpreter": {
    "hash": "1e949e87132dd83f1a7623eb88007e3532b03b66b77111be347aa4a383049722"
   }
  }
 },
 "nbformat": 4,
 "nbformat_minor": 2
}
