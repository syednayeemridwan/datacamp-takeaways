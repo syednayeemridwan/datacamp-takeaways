{
 "cells": [
  {
   "cell_type": "markdown",
   "metadata": {},
   "source": [
    "# Marketing lever"
   ]
  },
  {
   "cell_type": "markdown",
   "metadata": {},
   "source": [
    "- Various methods used by marketers to execute marketing goals\n",
    "- hierarchical (follows a hierarchy) as one contains the others: \n",
    "    1. Programs (all marketing efforts)\n",
    "    2. Campaigns\n",
    "    3. Channels (Mediums of advertising)\n",
    "    4. Tactics (strategies of advertising)\n",
    "    5. Ads (Individual ad units are most granular)\n",
    "- If we identify any pattern, investigate: Tactics < Channels < Campaigns\n",
    "- Examples:\n",
    "    - Campaign analysis\n",
    "        - are organized efforts to achieve a specific goal\n",
    "        - Usually run for a fixed period of time\n",
    "        - Benchmarked against prior campaigns with similar goals to evaluate performance\n",
    "        - Can be run with one or many channels\n",
    "        - Channels : methods of delivering marketing messages to customers with:\n",
    "            1. offine (non-digital) channels : TV, radio\n",
    "            2. online (digital) channels: social media or paid search\n",
    "            3. distinct platforms : billboards\n",
    "        - Marketing tactics : specific actions to deliver on channel strategies:\n",
    "            1. running ads on single channel\n",
    "            2. running ads on multiple channels (re-targeting shows based on behaviors, streaming and cable operators)\n",
    "    - Privacy implications\n",
    "    - Audience segmentation\n",
    "    - Sentiment analysis\n",
    "    - ROI modeling"
   ]
  },
  {
   "cell_type": "markdown",
   "metadata": {},
   "source": [
    "# Marketing Roles"
   ]
  },
  {
   "cell_type": "markdown",
   "metadata": {},
   "source": [
    "- Marketing analysts : Works with internal and external partners and balance the needs:\n",
    "    - know what is the goal of internal partners\n",
    "    - assist external partners with data and others to realise internal goals\n",
    "    - Sometimes priorities are sorted (urgent need fulfillment first)\n",
    "    - must be subject matter expert\n",
    "    - keep touch with other teams to scale report and analysis\n",
    "- Internal partners : Those within the analyst's company\n",
    "    - Product : wants to raise awareness of new features\n",
    "    - Operations and maintenance : keep an eye on marketing budgets\n",
    "    - Support and engineering : stay aware of acquisition trends\n",
    "    - Social media and paid search : drive brand engagement at tactic and channel levels\n",
    "    - Directors of Marketing : monitor spend across all campaigns and channels\n",
    "    - Operations : looks at program efficiency versus other investments\n",
    "    - Product :  tries to retain and attract new customers via product campaigns\n",
    "- External partners : those outside of company\n",
    "    - Advertising partners : rely on conversion data from internal partners\n",
    "    - recommend ways to optimize campaigns by providing reports\n",
    "    - Marketing analysts use the reports to look into granular data\n",
    "    - Wants to know the impacts of levers for each in order to provide right campaign settings "
   ]
  },
  {
   "cell_type": "markdown",
   "metadata": {},
   "source": [
    "# Common Business Questions for Marketing Analytics"
   ]
  },
  {
   "cell_type": "markdown",
   "metadata": {},
   "source": [
    "- Revenue Impact:\n",
    "    - Did our holiday campaign increase revenue?\n",
    "    - Which tactics cost the least while driving the most revenue?\n",
    "    - Did we have incidental revenue impact from brand campaigns?\n",
    "- Trends and Troubleshooting:\n",
    "    - Is this trend normal?\n",
    "    - If this trend is abnormal, what caused the change?\n",
    "    - Are we on track to beat customer acquisition targets?\n",
    "- What if scenarios:\n",
    "    - If we increase spend, how many more customers will we get?\n",
    "    - If we reduce budget, can we still achieve our annual targets?\n",
    "    - If we extend this campaign by a month, how much will we exceed our target by?\n",
    "- Did a change lead to optimization of impact:\n",
    "    - Did the messaging change increase ad clicks?\n",
    "    - Did increasing campaign spend in Canada perform better than other regions?\n",
    "    - Did this new tactic outperform other tactics for that channel?"
   ]
  },
  {
   "cell_type": "markdown",
   "metadata": {},
   "source": [
    "# Key Performance Indicators (KPI)"
   ]
  },
  {
   "cell_type": "markdown",
   "metadata": {},
   "source": [
    "- Indicators for selecting appropriate measures of success\n",
    "- Business Health\n",
    "    - Return on Investment (ROI)\n",
    "    - Lifetime Value (LTV) : Revenue generated over their times as a customer\n",
    "    - Overall retention and acquisition \n",
    "    - Product, Operation and Finance partner wants to know these.\n",
    "- Marketing Health\n",
    "    - Cost (acquisition, per click, etc.)\n",
    "    - How many became customer out of those who are responsible for marketing:\n",
    "        - Conversion Rate of becoming customer \n",
    "        - Engagement Rate of marketers behind the conversion rate \n",
    "    - Marketing partners want to know these."
   ]
  }
 ],
 "metadata": {
  "kernelspec": {
   "display_name": "Python 3.8.11 ('env_py')",
   "language": "python",
   "name": "python3"
  },
  "language_info": {
   "name": "python",
   "version": "3.8.11"
  },
  "orig_nbformat": 4,
  "vscode": {
   "interpreter": {
    "hash": "1e949e87132dd83f1a7623eb88007e3532b03b66b77111be347aa4a383049722"
   }
  }
 },
 "nbformat": 4,
 "nbformat_minor": 2
}
