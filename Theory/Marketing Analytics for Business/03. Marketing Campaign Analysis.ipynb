{
 "cells": [
  {
   "cell_type": "markdown",
   "metadata": {},
   "source": [
    "# Text analysis"
   ]
  },
  {
   "cell_type": "markdown",
   "metadata": {},
   "source": [
    "- turning unstructured text data into quantitative insights\n",
    "- Most add contain texts (spoken / written)\n",
    "- can be within a channel, campaign, or across the entire marketing program\n",
    "- Examples:\n",
    "    - Paid search ads are text-based\n",
    "    - Social media comments are user generated text\n",
    "    - Radio and TV ad messages can be treated as text\n",
    "- Paid search keywords : \n",
    "    - Marketers spend by keyword, so ads appear in search results\n",
    "    - Keywords are branded (brand name), or non-branded (no brand name)\n",
    "    - Non-branded keywords are more expensive, less in volume, everyone wants it (drinks from a pub)\n",
    "    - Branded keywords are less expensive, high in volume for wellknown brands (coca-cola)\n",
    "- Paid search analysis:\n",
    "    - set targets by cost per click [`Cost per click (CPC) = Total keyword cost / total keyword clicks`]\n",
    "    - Analysts compare keyword performance across many dimensions (which keywords are worthy of cost)\n",
    "    - Evaluate target cost by metadata\n",
    "    - Identify where cost changes over time!\n",
    "- Cross-channel text analysis:\n",
    "    - Marketers want text categorized for all channels\n",
    "    - Can group manually in a small dataset\n",
    "    - Use natural language processing (NLP) for large data\n",
    "    - NLP: using a computer to understand language as it is spoken and written \n",
    "    - NLP scales across keywords and other text\n",
    "    - NLP accommodates spelling mistakes and multiple languages"
   ]
  },
  {
   "cell_type": "markdown",
   "metadata": {},
   "source": [
    "# Sentiment analysis"
   ]
  },
  {
   "cell_type": "markdown",
   "metadata": {},
   "source": [
    "- technique to determine if data is positive, negative, or neutral\n",
    "- Brands advertise on social media platforms like Twitter, Facebook\n",
    "- Too vast\n",
    "- More noisy\n",
    "- Monitor social media health is through sentiment analysis\n",
    "- Very complex\n",
    "- Difficult to scale\n",
    "- Context is important and scaling also depends on it\n",
    "- Other categories of contexts in sentiment:\n",
    "    - happy, angry, sad\n",
    "    - urgent and not-urgent\n",
    "- 3 Sentiment models:\n",
    "    1. Manual:\n",
    "        - analyst applies rules to data\n",
    "        - easier to interprete\n",
    "        - small dataset\n",
    "    2. Automatic:\n",
    "        - NLP automatically determines sentiment\n",
    "        - Large dataset\n",
    "        - Multiple language\n",
    "    3. Hybrid:\n",
    "        - Manual rules can train automatic NLP models\n",
    "- NLP model options :\n",
    "    - Out-of-the-box model with NLP sentiment: For beginners\n",
    "    - Build and maintain in-house NLP sentiment model: For experienced ones\n",
    "    - Consider long term reporting needs with both options\n"
   ]
  },
  {
   "cell_type": "markdown",
   "metadata": {},
   "source": [
    "# Audience segmentation"
   ]
  },
  {
   "cell_type": "markdown",
   "metadata": {},
   "source": [
    "- identifying groups within an audience to deliver tailored marketing\n",
    "- Marketing Analysts identify the best way to group customers\n",
    "- Marketers want to create relevant messages for segments\n",
    "- Making messages relevant is easier with smaller groups\n",
    "- Segmentation data types\n",
    "    - Demographics (age, geography, gender)\n",
    "    - Psychographics (values, opinions, lifestyle)\n",
    "    - Behavioral data (engages with ads, abandons shopping cart)\n",
    "- Cluster analysis:\n",
    "    - If too many attributes\n",
    "    - Classification modeling approach\n",
    "    - statistical model where data in a group (cluster) is more similar than data in other groups (clusters)\n",
    "    - Automatically groups data, but analyst determines how many clusters are needed\n",
    "    - Analysts can look for common themes in clusters (like business product affinity)\n",
    "    - The clusters then can be integrated with other tools\n",
    "    - Marketers can scale segment definitions across channels and campaigns\n",
    "    - DSPs and DMPs manage segment definitions :\n",
    "        - Enable retargeting and look-alike model tactics (to measure performance)\n",
    "        - Retargeting: target audiences based on behavioral segments\n",
    "        - Look-alike models: target large audiences with similar characteristics to segments\n",
    "- Pitfall : Too granular segment = not actionable"
   ]
  },
  {
   "cell_type": "markdown",
   "metadata": {},
   "source": [
    "# Integrated campaigns"
   ]
  },
  {
   "cell_type": "markdown",
   "metadata": {},
   "source": [
    "- A campaign with multiple marketing channels working together\n",
    "- Integrated marketing is complex and expensive\n",
    "- stages :\n",
    "    1. Campaign Planning:\n",
    "        - Before campaign \n",
    "        - conduct predictive modeling \n",
    "        - set targets for channels\n",
    "        - Which tactics and channels are best for future campaigns\n",
    "    2. During campaign:\n",
    "        - monitor KPIs against targets\n",
    "    3. After Campaign:\n",
    "        - perform ROI analysis \n",
    "        - summarize cross-channel trends\n",
    "- Example: \"Who should we be targeting in a discount campaign?\"\n",
    "    - Possible segments:\n",
    "        - Is this for new or existing customers?\n",
    "        - Is this for specific geographies?\n",
    "        - Are we targeting certain age groups?\n",
    "        - Does this apply only to certain products?\n",
    "    - 1. response models\n",
    "        -  relationship between offer (discount) and outcome (purchase probability)\n",
    "        - Use statistical hypothesis tests or regression modeling\n",
    "            - No discount\n",
    "            - One-time discount\n",
    "            - Subscription discount\n",
    "    - 2. choice models\n",
    "        - influence of offer attributes (like discount type within promotional messaging) on purchase\n",
    "        - \"What type of discount message will be most effective?\"\n",
    "        - Recommend discount messaging, limitations, and value propositions\n",
    "        - Usually regression modeling\n",
    "    - Final phase: experimentation\n",
    "        - A/B testing\n",
    "        - \"Can we run this campaign as an experiment?\"\n",
    "        - not always possible with integrated marketing\n",
    "        - Use causal inference / statistical models to simulate marketing campaigns\n",
    "        - Consider expense of experimentation "
   ]
  }
 ],
 "metadata": {
  "kernelspec": {
   "display_name": "Python 3.8.11 ('env_py')",
   "language": "python",
   "name": "python3"
  },
  "language_info": {
   "name": "python",
   "version": "3.8.11"
  },
  "orig_nbformat": 4,
  "vscode": {
   "interpreter": {
    "hash": "1e949e87132dd83f1a7623eb88007e3532b03b66b77111be347aa4a383049722"
   }
  }
 },
 "nbformat": 4,
 "nbformat_minor": 2
}
