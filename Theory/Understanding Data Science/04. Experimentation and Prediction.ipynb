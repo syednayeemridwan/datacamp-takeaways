{
 "cells": [
  {
   "cell_type": "markdown",
   "metadata": {},
   "source": [
    "# Jargons"
   ]
  },
  {
   "cell_type": "markdown",
   "metadata": {},
   "source": [
    "- Sample size: number of data points used in an experiment\n",
    "- Statistical significance : result is not random (not due to chance) based on the given assumptions of statistical model\n",
    "- Statistical tests used to calculate this: t-test, Z-test, ANOVA, Chi-square test"
   ]
  },
  {
   "cell_type": "markdown",
   "metadata": {},
   "source": [
    "# Experiment steps in data science"
   ]
  },
  {
   "cell_type": "markdown",
   "metadata": {},
   "source": [
    "Also known as Champion/Challenger Testing\n",
    "\n",
    "Steps and Example:\n",
    "- Form a question:\n",
    "    - Does blog title A or blog title B result in more clicks?\n",
    "- Form a hypothesis:\n",
    "    - Blog title A and blog title B result in the same amount of clicks (null hypothesis)\n",
    "- Collect data:\n",
    "    - 50% users will see blog title A\n",
    "    - 50% users will see blog title B\n",
    "    - Track click-through rate until sample size reached\n",
    "- Test the hypothesis with a statistical test: \n",
    "    - Is the difference in titles' click-through rates significant?\n",
    "- Interpret results:\n",
    "    - Choose a title\n",
    "    - Or ask more questions and design another experiment if the interpretetion is inconclusive    "
   ]
  },
  {
   "cell_type": "markdown",
   "metadata": {},
   "source": [
    "# A/B Testing Steps"
   ]
  },
  {
   "cell_type": "markdown",
   "metadata": {},
   "source": [
    "- Picking a metric to track\n",
    "    - What to calculate?\n",
    "    - click-through rate: percent of people who click on the link after viewing the title\n",
    "- Calculating sample size\n",
    "    - How much large is the dataset\n",
    "    - Find Baseline metric to gauge any changes : How often people generally click on a link to our blogs. If the rate is much larger or smaller than 50%, we need a large sample size. Click rate is typically small (<3%).\n",
    "    - Larger sample sizes allow us to detect smaller changes\n",
    "- Running the experiment\n",
    "    - Survey time!\n",
    "- Checking for significance\n",
    "    - What is the difference between calculations of A and B\n",
    "    - Test if the result is statistically significant\n",
    "    - If significant : The result is not due to random chance, but because of the actual non-null hypothesis.\n",
    "    - If not significant : The result is not important enough to make decisions. Running the test won't get us anywhere."
   ]
  },
  {
   "cell_type": "markdown",
   "metadata": {},
   "source": [
    "# Statistical model"
   ]
  },
  {
   "cell_type": "markdown",
   "metadata": {},
   "source": [
    "- Represent a real-world process with statistics\n",
    "- Mathematical relationships between variables with equations\n",
    "- Based on statistical assumptions and historical data\n",
    "- Predictive Models : \n",
    "    - Models that take new input(s) and predicts an outcome\n",
    "    - Output can be a probability \n",
    "    - Can be as simple as linear equation or as complex as deep learning problem\n"
   ]
  },
  {
   "cell_type": "markdown",
   "metadata": {},
   "source": [
    "# Time series data"
   ]
  },
  {
   "cell_type": "markdown",
   "metadata": {},
   "source": [
    "A series of data points sequenced by time. eg: stock price, temperature records in a year etc\n",
    "\n",
    "- Seasonality : Recurrent pattern in  atime series data over certain interval"
   ]
  },
  {
   "cell_type": "markdown",
   "metadata": {},
   "source": [
    "# Forecasting "
   ]
  },
  {
   "cell_type": "markdown",
   "metadata": {},
   "source": [
    "- Derive a model from historical data to generate predictions\n",
    "- Modeling methods use a combination of statistical and machine learning methods"
   ]
  },
  {
   "cell_type": "markdown",
   "metadata": {},
   "source": [
    "# Confidence Interval"
   ]
  },
  {
   "cell_type": "markdown",
   "metadata": {},
   "source": [
    "- useful to evaluate predictions\n",
    "- Used as a buffer for unexpected probability\n",
    "- How sure the model is that the prediction is within the specified region\n"
   ]
  },
  {
   "cell_type": "markdown",
   "metadata": {},
   "source": [
    "# Supervised Machine learning"
   ]
  },
  {
   "cell_type": "markdown",
   "metadata": {},
   "source": [
    "- Predictions from data with labels and features\n",
    "- Labels: Thing that we want to predict\n",
    "- Features : data that might predict the label\n",
    "- Model Training : We train a model with Labels and features. We take major portion of dataset for training\n",
    "- Model Evaluation : We evaluate goodness of the model with minor portion of dataset for judging whether the judgement in training reflects in with-held/ unseen dataset.\n",
    "- Rare events: Checking both outcomes is important. (accuracy of spam + accuracy of not spam)"
   ]
  },
  {
   "cell_type": "markdown",
   "metadata": {},
   "source": [
    "Examples:\n",
    "- Recommendation systems\n",
    "- Diagnosing biomedical images\n",
    "- Recognizing hand-written digits\n",
    "- Predicting customer churn : Whether a customer will likely stay subscribed or cancel the subscription based on historical data. historical data has observations, different features and labels (churn or not). Based on features mapping with labels, predict whether the new customer will churn. "
   ]
  },
  {
   "cell_type": "markdown",
   "metadata": {},
   "source": [
    "# Clustering"
   ]
  },
  {
   "cell_type": "markdown",
   "metadata": {},
   "source": [
    "- Unsupervised Machine Learning\n",
    "- Predicting outcome based on only relevant features (without using labels)\n",
    "- Divide data into categories (group of clusters)\n",
    "- Up to you to decide on final number of clusters\n",
    "- strong hypothesis can help to determine better result on finding clusters \n",
    "- Use domain knowledge to help decide on the number of strong features ( eg : botany for flower classification)\n",
    "- Use the clusters to solve problems\n",
    "- Use cases:\n",
    "    - Customer segmentation\n",
    "    - Image segmentation\n",
    "    - Anomaly detection"
   ]
  },
  {
   "cell_type": "markdown",
   "metadata": {},
   "source": [
    "Example:\n",
    "Predicting a flower species based on:\n",
    "- Flower colors\n",
    "- Petal length and width\n",
    "- Sepal length and width\n",
    "- Number of petals"
   ]
  }
 ],
 "metadata": {
  "kernelspec": {
   "display_name": "Python 3.8.11 ('env_py')",
   "language": "python",
   "name": "python3"
  },
  "language_info": {
   "name": "python",
   "version": "3.8.11"
  },
  "orig_nbformat": 4,
  "vscode": {
   "interpreter": {
    "hash": "1e949e87132dd83f1a7623eb88007e3532b03b66b77111be347aa4a383049722"
   }
  }
 },
 "nbformat": 4,
 "nbformat_minor": 2
}
