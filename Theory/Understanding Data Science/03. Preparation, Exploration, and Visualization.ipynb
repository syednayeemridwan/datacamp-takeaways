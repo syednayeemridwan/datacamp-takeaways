{
 "cells": [
  {
   "cell_type": "markdown",
   "metadata": {},
   "source": [
    "# Data preparation"
   ]
  },
  {
   "cell_type": "markdown",
   "metadata": {},
   "source": [
    "- Starts after getting all the data\n",
    "- Real-life data is messy\n",
    "- We need to clean it in order to prevent:\n",
    "    - errors\n",
    "    - incorrect results\n",
    "    - biasing algorithms\n",
    "- Tidy data : \n",
    "    - Tabular format\n",
    "    - Feature are columns\n",
    "    - Observations are rows\n",
    "    - No duplicates in observations (Unique id)\n",
    "    - Data-types of each columns should be meaningful and of same type. (homogeneous)\n",
    "    - Missing values should be treated correctly. (impute, drop or keep)"
   ]
  },
  {
   "cell_type": "markdown",
   "metadata": {},
   "source": [
    "# What is EDA"
   ]
  },
  {
   "cell_type": "markdown",
   "metadata": {},
   "source": [
    "- Exploring the data\n",
    "- Formulating hypotheses\n",
    "- Assessing characteristics\n",
    "- Visualizing\n",
    "- Third phase. However, it may still go back to preparation for further processing before coming back to exploring again.\n",
    "- Example: There is a dataset of x and y vals. We can analyze to see that they are correlated. However, we can get deeper insight when we visualize the points. 1 is hyperbola, 1 is parabola, 1 is line and 1 is circle.\n",
    "- Moral : Streaming through data gives too little information. Descriptive statistics give us better insights that could be misleading. However, visualization is a mush convenient information."
   ]
  },
  {
   "cell_type": "markdown",
   "metadata": {},
   "source": [
    "# How to go through EDA"
   ]
  },
  {
   "cell_type": "markdown",
   "metadata": {},
   "source": [
    "- Know the columns and data types \n",
    "- Preview the data to make sense of observations\n",
    "- Calculate descriptive statistics\n",
    "- Visualize\n",
    "- Look for outliers\n",
    "- More questions (relative to the basic question. From generic to more specific targetted area)"
   ]
  },
  {
   "cell_type": "markdown",
   "metadata": {},
   "source": [
    "# Interactive dashboards"
   ]
  },
  {
   "cell_type": "markdown",
   "metadata": {},
   "source": [
    "- Use color purposefully and sparingly\n",
    "- Colorblindness (Red and green) : Use Existing color palettes that is accessible to everyone\n",
    "- Use popular readable fonts (sans-serif)\n",
    "- Always label your plot (title, axis, legend)\n",
    "- Be careful of deceiving/ badly designed graphs. They can be misleading\n",
    "- A dashboard = several pictures together to make things more insightful\n",
    "- BI Tools : Tableau, Power BI, Looker (without programming knowledge)"
   ]
  }
 ],
 "metadata": {
  "kernelspec": {
   "display_name": "Python 3.8.11 ('env_py')",
   "language": "python",
   "name": "python3"
  },
  "language_info": {
   "name": "python",
   "version": "3.8.11"
  },
  "orig_nbformat": 4,
  "vscode": {
   "interpreter": {
    "hash": "1e949e87132dd83f1a7623eb88007e3532b03b66b77111be347aa4a383049722"
   }
  }
 },
 "nbformat": 4,
 "nbformat_minor": 2
}
