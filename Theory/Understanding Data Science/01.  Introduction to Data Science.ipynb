{
 "cells": [
  {
   "cell_type": "markdown",
   "metadata": {},
   "source": [
    "# Data Science"
   ]
  },
  {
   "cell_type": "markdown",
   "metadata": {},
   "source": [
    "- Set of methodologies of taking in thousands of form of data and draw meaningful conclusions"
   ]
  },
  {
   "cell_type": "markdown",
   "metadata": {},
   "source": [
    "# What can data do?"
   ]
  },
  {
   "cell_type": "markdown",
   "metadata": {},
   "source": [
    "- Describe the current state\n",
    "- Detect anomalous events\n",
    "- Diagnose the causes of events and behaviors\n",
    "- Predict future events\n",
    "- Data is everywhere\n",
    "- Needed for decision making in every sector"
   ]
  },
  {
   "cell_type": "markdown",
   "metadata": {},
   "source": [
    "# The data science workflow"
   ]
  },
  {
   "cell_type": "markdown",
   "metadata": {},
   "source": [
    "1. Data Collection and Storage : \n",
    "    - Collect data from many sources\n",
    "    - Save the data in storage in raw form\n",
    "2. Data Preparation : \n",
    "    - Cleaning Data\n",
    "    - Organizing Data\n",
    "3. Exploration and Visualization :\n",
    "    - Explore relationships or other attributes or formulas\n",
    "    - Visualize Data to understand their behaviors\n",
    "4. Experimentation and Prediction :\n",
    "    - Perform experimentation\n",
    "    - Building systems based on findings"
   ]
  },
  {
   "cell_type": "markdown",
   "metadata": {},
   "source": [
    "# Applications of data science"
   ]
  },
  {
   "cell_type": "markdown",
   "metadata": {},
   "source": [
    "- Traditional machine learning\n",
    "- Internet of Things (IoT)\n",
    "- Deep learning"
   ]
  },
  {
   "cell_type": "markdown",
   "metadata": {},
   "source": [
    "# What do we need for machine learning?"
   ]
  },
  {
   "cell_type": "markdown",
   "metadata": {},
   "source": [
    "1. A well-defined question:\n",
    "    - What is the probability that this event belongs to a particular class\n",
    "2. A set of example data:\n",
    "    - Old data labeled in different classes\n",
    "3. A new set of data:\n",
    "    - New data to use our algorithm on"
   ]
  },
  {
   "cell_type": "markdown",
   "metadata": {},
   "source": [
    "# Internet of Things (IoT)"
   ]
  },
  {
   "cell_type": "markdown",
   "metadata": {},
   "source": [
    "Refers to gadgets that aren't standard computers\n",
    "- Smart watches\n",
    "- Internet-connected home security systems\n",
    "- sensor based technology that generates data on specified frequent interval etc."
   ]
  },
  {
   "cell_type": "markdown",
   "metadata": {},
   "source": [
    "# Deep learning\n"
   ]
  },
  {
   "cell_type": "markdown",
   "metadata": {},
   "source": [
    "- Requires much more training data\n",
    "- Used in complex problems. \n",
    "- Data intensive problems.\n",
    "- Many neurons work together\n",
    "- eg : Image classification"
   ]
  },
  {
   "cell_type": "markdown",
   "metadata": {},
   "source": [
    "# Data science roles"
   ]
  },
  {
   "cell_type": "markdown",
   "metadata": {},
   "source": [
    "- Data Engineer: \n",
    "    - Controls the flow of data\n",
    "    - Build custom data pipeline\n",
    "    - Build suitable storage systems\n",
    "    - Develop infrastructure so that data is easily collected and processed\n",
    "    - Focus on : First stage of data flow (Data collection and storage)\n",
    "    - Tools: SQL, Java, Scala, Python, Shell, Cloud Computing\n",
    "\n",
    "- Data Analyst: \n",
    "    - Clean data\n",
    "    - Perform analyses to describe data\n",
    "    - Create reports and dashboards to summarize data\n",
    "    - Focus on: second and third stage of data flow (Data preparation, Exploration and visualization)\n",
    "    - Tools : SQL, Spreadsheets, Power BI, Tableau, Looker, Python, R\n",
    "\n",
    "- Data Scientist: \n",
    "    - Versed in statistical methods\n",
    "    - Run experiments and analyses for complex insights\n",
    "    - Traditional machine learning\n",
    "    - Focus on: second, third and fourth stage of data flow (Data preparation, Exploration and visualization, Experimentation and Prediction)\n",
    "    - Tools : SQL, Python, R, pandas, tidyverse\n",
    "\n",
    "\n",
    "- Machine Learning Scientist: \n",
    "    - Predictions and extrapolations on deep insights\n",
    "    - Classification\n",
    "    - Deep learning : images and texts\n",
    "    - Focus on: second, third and fourth stage of data flow (Data preparation, Exploration and visualization, Experimentation and Prediction***)\n",
    "    - Tools: Python, R, Machine learning libraries, e.g., TensorFlow or Spark"
   ]
  }
 ],
 "metadata": {
  "kernelspec": {
   "display_name": "Python 3.8.11 ('env_py')",
   "language": "python",
   "name": "python3"
  },
  "language_info": {
   "name": "python",
   "version": "3.8.11"
  },
  "orig_nbformat": 4,
  "vscode": {
   "interpreter": {
    "hash": "1e949e87132dd83f1a7623eb88007e3532b03b66b77111be347aa4a383049722"
   }
  }
 },
 "nbformat": 4,
 "nbformat_minor": 2
}
