{
 "cells": [
  {
   "cell_type": "markdown",
   "metadata": {},
   "source": [
    "# Sources of data"
   ]
  },
  {
   "cell_type": "markdown",
   "metadata": {},
   "source": [
    "1. Company data\n",
    "2. Open data"
   ]
  },
  {
   "cell_type": "markdown",
   "metadata": {},
   "source": [
    "# Company data"
   ]
  },
  {
   "cell_type": "markdown",
   "metadata": {},
   "source": [
    "- Collected by companies\n",
    "- Helps them make data-driven decisions\n",
    "- Web events:\n",
    "    - Events\n",
    "    - Timestamps\n",
    "    - User information\n",
    "    - eg: Keep track of event by an user\n",
    "- Survey data:\n",
    "    - Face-to-face interview\n",
    "    - Online questionnaire\n",
    "    - Focus group\n",
    "    - eg : Net Promoter Score\n",
    "- Customer data :\n",
    "    - eg: Amazon shopping cart of a customer.\n",
    "- Logistics data\n",
    "- Financial transactions"
   ]
  },
  {
   "cell_type": "markdown",
   "metadata": {},
   "source": [
    "# Open data"
   ]
  },
  {
   "cell_type": "markdown",
   "metadata": {},
   "source": [
    "- Free, open data sources\n",
    "- Can be used, shared, and built-on by anyone by:\n",
    "    - Data APIs\n",
    "        - Application Programming Interface. (Twitter, Wikipedia, Google Maps, Yahoo! Finance)\n",
    "        - Request data over the internet.\n",
    "    - Public records:\n",
    "        - International organizations. e.g.: World Bank, UN, WTO\n",
    "        - National statistical offices. e.g.: censuses, surveys\n",
    "        - Government agencies. e.g.: weather, environment, population\n"
   ]
  },
  {
   "cell_type": "markdown",
   "metadata": {},
   "source": [
    "# Data types"
   ]
  },
  {
   "cell_type": "markdown",
   "metadata": {},
   "source": [
    "- Storing the data : Not all data can be stored in the same place\n",
    "- Visualizing/analyzing the data : Not all visualizations can be done with all data types\n",
    "- Normally of 2 types:\n",
    "    1. Quantitative data\n",
    "    2. Qualitative data"
   ]
  },
  {
   "cell_type": "markdown",
   "metadata": {},
   "source": [
    "# Quantitative data"
   ]
  },
  {
   "cell_type": "markdown",
   "metadata": {},
   "source": [
    "- Deals with numbers\n",
    "- Data can be measured\n",
    "- eg: A fridge is 60 inches tall , has 2 apples in it, costs $1000"
   ]
  },
  {
   "cell_type": "markdown",
   "metadata": {},
   "source": [
    "# Qualitative data"
   ]
  },
  {
   "cell_type": "markdown",
   "metadata": {},
   "source": [
    "- Deals with descriptions\n",
    "- Data can be observed but not measured\n",
    "- eg: A fridge is red, was built in Italy, smells like fish"
   ]
  },
  {
   "cell_type": "markdown",
   "metadata": {},
   "source": [
    "# Other data types"
   ]
  },
  {
   "cell_type": "markdown",
   "metadata": {},
   "source": [
    "- Image data. eg: pictures\n",
    "- Text data. eg: email\n",
    "- Geospatial data. eg: google map\n",
    "- Network data. eg: social network data"
   ]
  },
  {
   "cell_type": "markdown",
   "metadata": {},
   "source": [
    "# Things to consider when storing data"
   ]
  },
  {
   "cell_type": "markdown",
   "metadata": {},
   "source": [
    "- Location: where we are storing the data\n",
    "    - generally large database\n",
    "    - Parallel storage solutions : multiple machines, clusters, servers on premises\n",
    "    - cloud : AWS, Azure, GCP. Also other services are available\n",
    "\n",
    "- Data type: what kind of data are we storing\n",
    "    - unstructured/ semi-structured data (document): Email, Text, Video, audio, Web pages, Social media messages\n",
    "    - structured data (relational): data in structured, tabular form. Relational database: transaction data.\n",
    "\n",
    "- Retrieval: how can we retrieve the data from start\n",
    "    - querying based on filtering:\n",
    "        - Document  database : Nosql\n",
    "        - Relational database : SQL\n",
    "    - Perform analytical operations:\n",
    "        - Summing, counting\n",
    "        - Grouping, joining "
   ]
  },
  {
   "cell_type": "markdown",
   "metadata": {},
   "source": [
    "# Data Pipelines"
   ]
  },
  {
   "cell_type": "markdown",
   "metadata": {},
   "source": [
    "- There are more than one data sources (Public records, APIs, Databases)\n",
    "- Different data types: (structured, unstructured, real-time)\n",
    "- The processing of data so that it is organized and easy to access. \n",
    "- Moves data into defined stages\n",
    "- Automated collection and storage\n",
    "- Schedule task based hourly, daily, weekly, etc time interval\n",
    "- processes are triggered by an event\n",
    "- Monitored with generated alerts (storage almost full, API call failed)\n",
    "- Necessary for big data projects\n",
    "- Data engineers work to customize solutions\n",
    "- Extract, Transform, Load (ETL). eg:\n",
    "    - Extract data from various sources\n",
    "    - Transform / convert the extracted data into an organized structured data by joining them together. Then take relevant data based on application needs.\n",
    "    -  Load the data for analysis\n",
    "    - After setting all these steps, automate with scheduling. eg: with airflow"
   ]
  }
 ],
 "metadata": {
  "kernelspec": {
   "display_name": "Python 3.8.11 ('env_py')",
   "language": "python",
   "name": "python3"
  },
  "language_info": {
   "name": "python",
   "version": "3.8.11"
  },
  "orig_nbformat": 4,
  "vscode": {
   "interpreter": {
    "hash": "1e949e87132dd83f1a7623eb88007e3532b03b66b77111be347aa4a383049722"
   }
  }
 },
 "nbformat": 4,
 "nbformat_minor": 2
}
