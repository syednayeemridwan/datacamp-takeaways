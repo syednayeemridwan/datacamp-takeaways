{
 "cells": [
  {
   "cell_type": "markdown",
   "metadata": {},
   "source": [
    "# Machine Learning"
   ]
  },
  {
   "cell_type": "markdown",
   "metadata": {},
   "source": [
    "applying statistical or computer science methods on data to :\n",
    "\n",
    "1. Draw causal insights : What is causing an event\n",
    "    - \"What is causing our customers to cancel their subscription to our services?\"*\n",
    "    - Supervised Machine Learning\n",
    "2. Predict future events : Predicting based on existing data\n",
    "    - \"Which customers are likely to cancel their subscription next month?\"*\n",
    "    - Supervised Machine Learning\n",
    "3. Understand patterns in data : relationship or behaviors in data\n",
    "    - \"Are there groups of customers who are similar and use our services in a similar way?\"\n",
    "    - Un-supervised Machine Learning\n",
    "\n"
   ]
  },
  {
   "cell_type": "markdown",
   "metadata": {},
   "source": [
    "# Data hierarchy of needs"
   ]
  },
  {
   "cell_type": "markdown",
   "metadata": {},
   "source": [
    "1. Collection :\n",
    "    - Extract data from different sources\n",
    "    - Done by Infrastructure owners (website, machinary, software engineers)\n",
    "\n",
    "2. Storage :\n",
    "    - Store data in reliable storage\n",
    "    - Done by Data Pipeline Engineers or Database Administrators\n",
    "\n",
    "3. Preparation :\n",
    "    - Organize and clean data\n",
    "    - Done by Data Engineers (quality assurance) and Data Analysts (reporting and analysis)\n",
    "\n",
    "4. Analysis :\n",
    "    - Understand trends or patterns\n",
    "    - Done by Data Analysts (Dashboards, adhoc analysis to understand business) and Data Scientists (Analyse with statistics and ML methods to discover patterns)\n",
    "\n",
    "5. Prototyping and Testing :\n",
    "    - Simple models, A/B Tests and experiments\n",
    "    - Done by Data Scientists (Primary prototype and experiment) and ML Engineers (Build final model from scratch)\n",
    "\n",
    "6. ML in production :\n",
    "    - Complex models in production, automation and research\n",
    "    - Done by ML engineers. (Deploy the models in CRM or global environment)"
   ]
  },
  {
   "cell_type": "markdown",
   "metadata": {},
   "source": [
    "# Supervised ML"
   ]
  },
  {
   "cell_type": "markdown",
   "metadata": {},
   "source": [
    "- Target variable : The variable we want to predict (output feature). This is labeled column.\n",
    "- Features : Variables other than target variable (input features)\n",
    "- Supervised on the fact that the model is optimized for other variables resulting in target variable\n",
    "- Use input features to predict target variable\n",
    "- Used on labeled dataset\n",
    "- eg: predicting fraudulant transactions based on previous transactions"
   ]
  },
  {
   "cell_type": "markdown",
   "metadata": {},
   "source": [
    "# Unsupervised ML"
   ]
  },
  {
   "cell_type": "markdown",
   "metadata": {},
   "source": [
    "- Target variable : does not exist.\n",
    "- Features : All variables in the dataset (input features)\n",
    "- Unsupervised on the fact that the model is optimized for grouping similar types of observations\n",
    "- Use input features to predict a group (segmentation)\n",
    "- Used on un-labeled dataset\n",
    "- Used for anomaly detection\n",
    "- eg: Predicting customer's buying habit"
   ]
  },
  {
   "cell_type": "markdown",
   "metadata": {},
   "source": [
    "# Data Team Structure"
   ]
  },
  {
   "cell_type": "markdown",
   "metadata": {},
   "source": [
    "1. Centralized:\n",
    "    - All data functions are in one central team. One team = all data members.\n",
    "    - pros : Training new recruits is very fast\n",
    "    - cons : Does not scale well if business grows with increased complexity\n",
    "    - works well for small companies with consistent focus\n",
    "\n",
    "2. Decentralized or Embedded:\n",
    "    - Each business unit has their own data functions. One team = some data members + other members\n",
    "    - pros : Business Scale well with increased complexity \n",
    "    - cons : Introduce silos, issues with data governance, added complexity, overlapping efforts\n",
    "    - works well for large companies with consistent focus\n",
    "\n",
    "3. Hybrid:\n",
    "    - centralized : infrastructure, definitions, methods and tooling \n",
    "    - decentralized : application and prototyping \n",
    "    - Works best in any environment"
   ]
  }
 ],
 "metadata": {
  "kernelspec": {
   "display_name": "Python 3.8.11 ('env_py')",
   "language": "python",
   "name": "python3"
  },
  "language_info": {
   "name": "python",
   "version": "3.8.11"
  },
  "orig_nbformat": 4,
  "vscode": {
   "interpreter": {
    "hash": "1e949e87132dd83f1a7623eb88007e3532b03b66b77111be347aa4a383049722"
   }
  }
 },
 "nbformat": 4,
 "nbformat_minor": 2
}
