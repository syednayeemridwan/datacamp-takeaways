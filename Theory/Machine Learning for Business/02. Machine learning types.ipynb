{
 "cells": [
  {
   "cell_type": "markdown",
   "metadata": {},
   "source": [
    "# Inference Model"
   ]
  },
  {
   "cell_type": "markdown",
   "metadata": {},
   "source": [
    "- Identify  \"HOW MUCH\" certain actions affect an outcome\n",
    "- Answers the \"why?\" questions (describe reasonings)\n",
    "- Optimizes for model interpretability , trade-off is performance\n",
    "- Models try to detect patterns in observed data (observational) and draw causal conclusions\n",
    "- Experiments are always preferred over observational studies:\n",
    "    - Experiments are designed and causal conclusions are guaranteed ( A/B tests)\n",
    "    - When experiments are impossible, the models are used to calculate effect of certain inputs on desired outcomes. (co-efficients. The bigger, the more important)\n",
    "- Goal : understand the drivers of a business outcome (Looking for reasons behind result)\n",
    "- Interpretable insights \n",
    "- Less complex\n",
    "- Less accurate\n",
    "- eg: How much conditions X impact heart disease (numeric representation)"
   ]
  },
  {
   "cell_type": "markdown",
   "metadata": {},
   "source": [
    "# Prediction Model"
   ]
  },
  {
   "cell_type": "markdown",
   "metadata": {},
   "source": [
    "- 2 Types:\n",
    "    1. Supervised :\n",
    "        - Classification : \n",
    "            - Predicting class of an outcome (eg : Yes/No)\n",
    "            - Target variable is categorical\n",
    "        - Regression : \n",
    "            - Predicting quantity of an outcome (eg : mony spent)\n",
    "            - Target variable is continuous\n",
    "        - Train model with existing data where features map to target variable\n",
    "        - Predict with the model by giving it new feature values to see what target value it produces\n",
    "\n",
    "    2. Unsupervised :\n",
    "        - Don't have target variable\n",
    "        - Clustering : grouping observations into similar groups or clusters (eg : customer or market segmentation)\n",
    "        - Anomaly detection : detecting which observations fall out of the discovered \"regular patterns\n",
    "        - used in Recommender engines. eg. recommending products based on customers shopping habits\n",
    "        \n",
    "- Goal : prediction (Only looking for result)\n",
    "- Not easily interpretable (black-box)\n",
    "- More complex\n",
    "- More accurate than inference model\n",
    "- eg: Based on conditions X do the patient has heart disease? (categorical representation, can also be most probable class)\n"
   ]
  }
 ],
 "metadata": {
  "kernelspec": {
   "display_name": "Python 3.8.11 ('env_py')",
   "language": "python",
   "name": "python3"
  },
  "language_info": {
   "name": "python",
   "version": "3.8.11"
  },
  "orig_nbformat": 4,
  "vscode": {
   "interpreter": {
    "hash": "1e949e87132dd83f1a7623eb88007e3532b03b66b77111be347aa4a383049722"
   }
  }
 },
 "nbformat": 4,
 "nbformat_minor": 2
}
