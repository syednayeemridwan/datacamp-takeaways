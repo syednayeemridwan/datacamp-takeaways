{
 "cells": [
  {
   "cell_type": "markdown",
   "metadata": {},
   "source": [
    "# Business requirements"
   ]
  },
  {
   "cell_type": "markdown",
   "metadata": {},
   "source": [
    "1. What is the plan?\n",
    "    - Ask the right question (inference vs prediction)\n",
    "    - The current situation\n",
    "    - The company plans to expand to new markets\n",
    "2. What is the potential ? (business opportunity)\n",
    "    - Coming up with a solution\n",
    "    - Implement prediction or inference:\n",
    "        - calculate metric, cost etc\n",
    "        - optimize the model\n",
    "        - experiments, experiments, and more experiments of different types (from multiple possible solution to a single optimized solution)\n",
    "    - Identify the right markets with the biggest demand\n",
    "3. What are the actions?\n",
    "    - Deploying solution and see the result and see any new scenario of improvement\n",
    "    - What other things need to be done to reduce all possible faulty scenarios\n",
    "        - Repeat experiments multiple times, see if you get a repeated pattern\n",
    "        - If yes, use that to calculate the opportunity\n",
    "        - If no - \n",
    "            1) collect more data, \n",
    "            2) qualitative research (surveys, A/B Tests), \n",
    "            3) narrow down business question\n",
    "    - Prioritize and invest more in the markets with higher predicted demand\n",
    "    - Maybe some human involvement needed (See slides. eg. undetected suspicious transactions need manual reviews)"
   ]
  },
  {
   "cell_type": "markdown",
   "metadata": {},
   "source": [
    "# Model Training"
   ]
  },
  {
   "cell_type": "markdown",
   "metadata": {},
   "source": [
    "Steps:\n",
    "\n",
    "1. Randomly sample part of dataset for training the model:\n",
    "    - Model learns pattern from this data\n",
    "2. Randomly sample small portion of dataset to measure performance of the model's goodness\n",
    "    - Model tests if the learned pattern with right for application\n",
    "    - This process is done a few times to get the best fitted model\n",
    "\n",
    "Why this way:\n",
    "- Overfitting : \n",
    "    - Works well on seen data, does not work well with unseen data\n",
    "    - Too complex\n",
    "    - Model memorizes the pattern\n",
    "- Underfitting : \n",
    "    - Does not work well with either seen or unseen data\n",
    "    - Too simple\n",
    "    - Does not clearly grasp the pattern\n",
    "- Right Model:\n",
    "    - Generalizes the pattern \n",
    "    1. Model is built on the training dataset\n",
    "    2. Intermediate performance measured on the validation dataset\n",
    "    3. Final performance measured on the test dataset.   \n"
   ]
  },
  {
   "cell_type": "markdown",
   "metadata": {},
   "source": [
    "# Model performance measurement metric"
   ]
  },
  {
   "cell_type": "markdown",
   "metadata": {},
   "source": [
    "1. Classification performance:\n",
    "    - Accuracy : Percentage of predicted churns\n",
    "    - Precision : real churn / predicted churn (How precise was the model)\n",
    "    - Recall : correctly predicted churn / All real churn (How good is model's capture/recall quality)\n",
    "2. Regression performance:\n",
    "    - Error : \n",
    "        - How far away the prediction is from the observed number\n",
    "        - Look for ways o reduce error\n",
    "- Good models are not always actionable\n",
    "    - Test if model really improves the outcomes\n",
    "    - Always test them with real life experiments (A/B Testing)\n",
    "    - If positive outcome, deploy\n",
    "    - If not, back to the drawing board\n",
    "- Measure performance on test dataset\n",
    "- Low scores:\n",
    "    - Low precision : Lots of false positives\n",
    "    - Low recall : only a small fraction of all observations in the class have been correctly captured (recalled) by the mode\n",
    "    - Large error :  \n",
    "        - large differences between predicted and actual values\n",
    "        - Assess the cost and telerable value\n",
    "    - Solution : \n",
    "        - Introduce new process to minimize the errors. Start doin A/B tests.\n",
    "        - Get more data\n",
    "        - Build causal models to identify major drivers\n",
    "        - Run qualitative research (surveys)\n",
    "        - Narrow down to specifics\n",
    "        - Widen to include other probable factors\n",
    "        - Change the question all-together\n"
   ]
  }
 ],
 "metadata": {
  "kernelspec": {
   "display_name": "Python 3.8.11 ('env_py')",
   "language": "python",
   "name": "python3"
  },
  "language_info": {
   "name": "python",
   "version": "3.8.11"
  },
  "orig_nbformat": 4,
  "vscode": {
   "interpreter": {
    "hash": "1e949e87132dd83f1a7623eb88007e3532b03b66b77111be347aa4a383049722"
   }
  }
 },
 "nbformat": 4,
 "nbformat_minor": 2
}
