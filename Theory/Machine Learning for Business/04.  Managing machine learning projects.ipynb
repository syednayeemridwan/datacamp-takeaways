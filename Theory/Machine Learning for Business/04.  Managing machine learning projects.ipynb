{
 "cells": [
  {
   "cell_type": "markdown",
   "metadata": {},
   "source": [
    "# ML Mistakes"
   ]
  },
  {
   "cell_type": "markdown",
   "metadata": {},
   "source": [
    "- Machine learning first:\n",
    "    - Starting without proper preparations\n",
    "\n",
    "- Not enough data\n",
    "    - Understanding to have enough available data\n",
    "    - Too low data\n",
    "    - Too much messy data (garbage in = garbage out)\n",
    "\n",
    "- Target variable definition\n",
    "    - Importance of target variable (Is it the right target variable?)\n",
    "    - What is it you are predicting\n",
    "    - In-depth analysis (eg. null values)\n",
    "    - Sometimes need business field expertise\n",
    "    - Continuous or Categorical\n",
    "\n",
    "\n",
    "- Feature selection\n",
    "    - Important features\n",
    "    - Inference ? \n",
    "        - choose features that you can control\n",
    "        - Business has to be involved when choosing features\n",
    "    - Predictive? \n",
    "        - data that is readily available data.\n",
    "        - Start with small features.\n",
    "        - If works, add new eatures.\n",
    "        - From simple to more complex model.\n",
    "        - Freedom to the ML team in choosing features\n",
    "\n",
    "- Late testing, no impact\n",
    "    - Long model development (Multiple stages, without testing in each stages)\n",
    "    - Once model is defined, test (eg. A/B test) to see if it is actionable\n",
    "\n",
    "\n",
    "- Verify ML Pyramid\n"
   ]
  },
  {
   "cell_type": "markdown",
   "metadata": {},
   "source": [
    "# Working Procedures"
   ]
  },
  {
   "cell_type": "markdown",
   "metadata": {},
   "source": [
    "- At most Weekly or at least a monthly meeting\n",
    "- Define the business requirements\n",
    "- Review machine learning model and business products\n",
    "- Inference vs. prediction\n",
    "- Baseline model results & outline model updates\n",
    "- Market testing\n",
    "- Production\n",
    "- See the tolerance level at which model mistakes are endurable\n",
    "    - For classification : Which class is more costly to misclassify. Based on that Precision or Recall takes priority\n",
    "    - For regression : Can the business afford to waste that much resources as the model specifies?\n",
    "- Look for market intervention that may affect the performance\n",
    "- Is the model stable ?\n",
    "- Is the improvement consistent? (do repeated tests) \n",
    "- Where the model can be integrated in ?\n",
    "- Is the model non-performing (does not perform well) ?   \n",
    "- Is the model non-actionable (does not bring any value in business) ?   \n",
    "- 3 key factors:\n",
    "    - Understand problem / situation: Churn rate has started increasing\n",
    "    - Identify potential solutions (opportunities) and choosing the optimal solution  : Reduce churn from X% to Y%  (performance)\n",
    "    - Deploy and see if it is actionable in real life : Run retention campaigns targeting customers at risk and do A/B Testing with campaign result (actionable)"
   ]
  },
  {
   "cell_type": "markdown",
   "metadata": {},
   "source": [
    "# ML in production"
   ]
  },
  {
   "cell_type": "markdown",
   "metadata": {},
   "source": [
    "- Software or applications that can be part of business or the business itself\n",
    "- Prototype ML:\n",
    "    - Data Scientists\n",
    "    - ML Engineers\n",
    "- ML in production:\n",
    "    - Software engineers\n",
    "    - Data Engineers\n",
    "    - Infrastructure owners\n",
    "- Launching, Tracking and Feedback steps:\n",
    "    1. Murphy's law : If there is a chance of something going wrong, it will go wrong\n",
    "    2. Launch small: A small subset of customers\n",
    "    3. Track results: Check if they're consistent\n",
    "    4. Track performance, stability, customer feedback\n",
    "    5. Scale up\n",
    "    6. Repeat 3, 4, 5\n",
    "- eg:\n",
    "    - Customer Relationship Management (CRM) : predicted churn triggers automatic emails\n",
    "    - Fraud detection system : predicted fraud probability automatically triggers transaction block and requests a manual review\n",
    "    - Online purchasing platform : recommended products shown on the customer's online purchasing top-picks\n",
    "    - Autonomous cars : predicted collision kicks off automatic initiation of brakes and collision avoidance steps\n"
   ]
  }
 ],
 "metadata": {
  "kernelspec": {
   "display_name": "Python 3.8.11 ('env_py')",
   "language": "python",
   "name": "python3"
  },
  "language_info": {
   "name": "python",
   "version": "3.8.11"
  },
  "orig_nbformat": 4,
  "vscode": {
   "interpreter": {
    "hash": "1e949e87132dd83f1a7623eb88007e3532b03b66b77111be347aa4a383049722"
   }
  }
 },
 "nbformat": 4,
 "nbformat_minor": 2
}
