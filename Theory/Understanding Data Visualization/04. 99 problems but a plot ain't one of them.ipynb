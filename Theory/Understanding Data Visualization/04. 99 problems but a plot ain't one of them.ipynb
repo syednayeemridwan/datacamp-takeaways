{
 "cells": [
  {
   "cell_type": "markdown",
   "metadata": {},
   "source": [
    "# Pie Plot"
   ]
  },
  {
   "cell_type": "markdown",
   "metadata": {},
   "source": [
    "- Bar plot + polar coords = pie plot\n",
    "- Never use if possible\n",
    "- If you have a variable that is naturally circular (time of day, compass direction).\n",
    "- Pie plot alternative : use rose plot = Histogram + polar coords "
   ]
  },
  {
   "cell_type": "markdown",
   "metadata": {},
   "source": [
    "# Plotting mistakes"
   ]
  },
  {
   "cell_type": "markdown",
   "metadata": {},
   "source": [
    "### Bar plot"
   ]
  },
  {
   "cell_type": "markdown",
   "metadata": {},
   "source": [
    "- When using, start with 0 on Y-axis to properly differentiate the values of all the plots"
   ]
  },
  {
   "cell_type": "markdown",
   "metadata": {},
   "source": [
    "### Stacked bar plot"
   ]
  },
  {
   "cell_type": "markdown",
   "metadata": {},
   "source": [
    "- Since percentage is taken into account, make sure to start with 0 in Y-axis as well instead of some other value as starting percentage"
   ]
  },
  {
   "cell_type": "markdown",
   "metadata": {},
   "source": [
    "### Dual Y-axis"
   ]
  },
  {
   "cell_type": "markdown",
   "metadata": {},
   "source": [
    "- 2 Y-axis has different scale. Keep that in mind to interprete a visualization\n",
    "- In this case, plot them separately in 2 different panels to interprete differently"
   ]
  },
  {
   "cell_type": "markdown",
   "metadata": {},
   "source": [
    "# Measures of a good visualization"
   ]
  },
  {
   "cell_type": "markdown",
   "metadata": {},
   "source": [
    "- How many interesting insights can your reader get from the plot?\n",
    "    - Consider how many plots should be presented in a single visualization\n",
    "    - Too many plots make less sense\n",
    "- How quickly can they get those insights?\n",
    "    - Consider 20 seconds for a single plot"
   ]
  },
  {
   "cell_type": "markdown",
   "metadata": {},
   "source": [
    "# Chart Junks"
   ]
  },
  {
   "cell_type": "markdown",
   "metadata": {},
   "source": [
    "- Custom Pictures\n",
    "- Skueomorphism: reflection, shadows etc\n",
    "- Extra dimensions (3D plots)\n",
    "- Ostentatious colors or lines\n",
    "- Vague Labels"
   ]
  }
 ],
 "metadata": {
  "kernelspec": {
   "display_name": "Python 3.8.11 ('env_py')",
   "language": "python",
   "name": "python3"
  },
  "language_info": {
   "name": "python",
   "version": "3.8.11"
  },
  "orig_nbformat": 4,
  "vscode": {
   "interpreter": {
    "hash": "1e949e87132dd83f1a7623eb88007e3532b03b66b77111be347aa4a383049722"
   }
  }
 },
 "nbformat": 4,
 "nbformat_minor": 2
}
