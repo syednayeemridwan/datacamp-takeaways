{
 "cells": [
  {
   "cell_type": "markdown",
   "metadata": {},
   "source": [
    "# Three ways of getting insights"
   ]
  },
  {
   "cell_type": "markdown",
   "metadata": {},
   "source": [
    "- Calculating summary statistics\n",
    "- Running models\n",
    "- Drawing plots"
   ]
  },
  {
   "cell_type": "markdown",
   "metadata": {},
   "source": [
    "# Choosing a plot"
   ]
  },
  {
   "cell_type": "markdown",
   "metadata": {},
   "source": [
    "- What are the variables? \n",
    "    - Continuous (generally numbers)\n",
    "    - categorical (generally texts)\n",
    "    - Can be either. eg:\n",
    "        - age, default is categorical.\n",
    "        - time is continuous. But year and month are categorical "
   ]
  },
  {
   "cell_type": "markdown",
   "metadata": {},
   "source": [
    "# When should you use a histogram"
   ]
  },
  {
   "cell_type": "markdown",
   "metadata": {},
   "source": [
    "- A single continuous variable.\n",
    "- Want to know the shape of its distribution.\n",
    "- Bins / intervals align with X axis\n",
    "- Count in each bin aligns with Y axis\n",
    "- Appearance can be changed by changing bin width (interval range)\n",
    "- Best bin width = can be found out by creating several plots\n",
    "- Modality : How many peaks in a distribution.\n",
    "    - unimodal : one peak\n",
    "    - bimodal : 2 peaks\n",
    "    - trimodal : 3 peaks\n",
    "- Skewness : is it symmetric ?. otherwise, there might be outliers.\n",
    "- kurtosis : how many extreme values (affects the number of outliers)\n",
    "    - mesokurtic : bell curve. from a normal distribution \n",
    "    - leptokurtic : narrow peak. many extreme values. generally used in finance market movement.\n",
    "    - platykurtic : broad peak. few extreme values \n",
    "- Draw histograms in their own panel (multiple histogram in a single column for better comparison by looking at them)    \n"
   ]
  },
  {
   "cell_type": "markdown",
   "metadata": {},
   "source": [
    "# When should you use a Box plot"
   ]
  },
  {
   "cell_type": "markdown",
   "metadata": {},
   "source": [
    "- Too many histograms are hard to look at in a same column. Use boxplots.\n",
    "- When you have a continuous variable, split by a categorical variable.\n",
    "- When you want to compare the distributions of the continuous variable for each category.\n",
    "- contains:\n",
    "    - whiskers : values outside the box\n",
    "    - box : IQR\n",
    "    - lower quartile : box left-range \n",
    "    - upper quartile : box right-range\n",
    "    - median : inside box\n",
    "    - outliers : outside of whiskers\n"
   ]
  }
 ],
 "metadata": {
  "kernelspec": {
   "display_name": "Python 3.8.11 ('env_py')",
   "language": "python",
   "name": "python3"
  },
  "language_info": {
   "name": "python",
   "version": "3.8.11"
  },
  "orig_nbformat": 4,
  "vscode": {
   "interpreter": {
    "hash": "1e949e87132dd83f1a7623eb88007e3532b03b66b77111be347aa4a383049722"
   }
  }
 },
 "nbformat": 4,
 "nbformat_minor": 2
}
