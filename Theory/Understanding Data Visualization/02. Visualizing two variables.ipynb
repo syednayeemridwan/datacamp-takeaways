{
 "cells": [
  {
   "cell_type": "markdown",
   "metadata": {},
   "source": [
    "# When should you use a Scatter plot\n"
   ]
  },
  {
   "cell_type": "markdown",
   "metadata": {},
   "source": [
    "- You have two continuous variables.\n",
    "- You want to answer questions about the relationship between the two variables.\n",
    "- Sometimes some points are clustered in one area and other points are linearly far away. Try using log scatterplot\n",
    "- Adding trendlines in scatterplot is a great way to see the linear relationship between the variables\n",
    "- When a straightline is a good fit = linear\n",
    "- When a straightline is a poor fit = non-linear curve is useful (log scale)\n",
    "- strong positive correlation = line from bottom left to top right\n",
    "- strong negative correlation = line from bottom right to top left\n",
    "- No correlation = scatter plot's points are scattered around universally"
   ]
  },
  {
   "cell_type": "markdown",
   "metadata": {},
   "source": [
    "# When should you use a Line plot?"
   ]
  },
  {
   "cell_type": "markdown",
   "metadata": {},
   "source": [
    "- You have two continuous variables.\n",
    "- You want to answer questions about their relationship.\n",
    "- Consecutive observations are connected somehow.\n",
    "- Usually, but not always, the x-axis is dates or times.\n",
    "- Can be drawn multiple lines in a same plot\n",
    "- generally compared with a trendline in the same plot\n",
    "- A models trendline with the data's lineplot give us insight whether the model is a good fit for the dataset\n",
    "- If the scatterplot is disconnected, line-plot is not a good choice"
   ]
  },
  {
   "cell_type": "markdown",
   "metadata": {},
   "source": [
    "# When should you use a Bar plot?"
   ]
  },
  {
   "cell_type": "markdown",
   "metadata": {},
   "source": [
    "- You have a categorical variable.\n",
    "- You want counts or percentages for each category.\n",
    "- You want another numeric score for each category, \n",
    "- need to include zero in the plot.\n",
    "- Category in the X - axis\n",
    "- count in the Y - axis\n",
    "- Normally a vertical bar is used\n",
    "- However, if there are too many labels in X- axis, a horizontal bar is used to switch the axis\n",
    "- Since percantages adds up to 100%, when visualizing percentage, a stacked bar is used\n",
    "- Metrics that can be used in a bar plot: count, mean, sum etc.\n"
   ]
  },
  {
   "cell_type": "markdown",
   "metadata": {},
   "source": [
    "# When should you use a Dot plot?"
   ]
  },
  {
   "cell_type": "markdown",
   "metadata": {},
   "source": [
    "- Same as Bar plot\n",
    "- You have a categorical variable.\n",
    "- You want to display numeric scores for each category \n",
    "- You want to display multiple numeric scores for each category.\n",
    "- use log scale (When bar length is too high to display)\n",
    "- Last value in the bar is represented as a dot\n",
    "- use multiple metric (by using multiple dots of different color in same place like line chart)"
   ]
  }
 ],
 "metadata": {
  "kernelspec": {
   "display_name": "Python 3.8.11 ('env_py')",
   "language": "python",
   "name": "python3"
  },
  "language_info": {
   "name": "python",
   "version": "3.8.11"
  },
  "orig_nbformat": 4,
  "vscode": {
   "interpreter": {
    "hash": "1e949e87132dd83f1a7623eb88007e3532b03b66b77111be347aa4a383049722"
   }
  }
 },
 "nbformat": 4,
 "nbformat_minor": 2
}
