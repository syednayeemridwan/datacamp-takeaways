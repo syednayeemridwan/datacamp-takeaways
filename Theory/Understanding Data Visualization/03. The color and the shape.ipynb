{
 "cells": [
  {
   "cell_type": "markdown",
   "metadata": {},
   "source": [
    "# How to represent more than 2 features"
   ]
  },
  {
   "cell_type": "markdown",
   "metadata": {},
   "source": [
    "### For scatter plot"
   ]
  },
  {
   "cell_type": "markdown",
   "metadata": {},
   "source": [
    "- color:\n",
    "    - heatmap as color for numeric values of a feature\n",
    "    - con : Can only judge the comparative value by color, not the actual value\n",
    "\n",
    "- size:\n",
    "    - larger size represent larger value\n",
    "    - cons:\n",
    "        - lower values are hard to concentratte\n",
    "        - hard to compare precise value since a small increase in size is not that noticeable\n",
    "        - large points tend to overlap and it becomes harder to distinguish individual countries\n",
    "\n",
    "- transparency:\n",
    "    - level of transparency represent larger value\n",
    "    - cons:\n",
    "        - lower values are hard to concentrate\n",
    "        - hard to compare precise value since a small increase in transparency is not that noticeable\n",
    "\n",
    "- shape:\n",
    "    - different shapes for different intervals\n",
    "    - cons:\n",
    "        - not very intuitive\n",
    "        - sometimes too many shapes become fuzzy to identify differently\n",
    "- panels:\n",
    "    - Different panels for different subset of combination\n",
    "    - cons:\n",
    "        - takes up too much space\n",
    "        - harder to understand trend across whole dataset\n"
   ]
  },
  {
   "cell_type": "markdown",
   "metadata": {},
   "source": [
    "### For line plot"
   ]
  },
  {
   "cell_type": "markdown",
   "metadata": {},
   "source": [
    "- color\n",
    "- thickness\n",
    "- transparency\n",
    "- line type (solid, dashes, dots)"
   ]
  },
  {
   "cell_type": "markdown",
   "metadata": {},
   "source": [
    "# Choosing a plotting palette"
   ]
  },
  {
   "cell_type": "markdown",
   "metadata": {},
   "source": [
    "- Each color should be of equal importance\n",
    "- The distance from one color in the plot to the next should be constant.\n",
    "- Colorspaces: Hue-Chroma-Luminance used for color perception\n",
    "    - Hue : Color of rainbow\n",
    "    - Chroma : intensity of the color \n",
    "    - Luminance : brightness of the color\n",
    "- 3 types of color scales:\n",
    "    - qualitative: Distinguish unordered categories of same importance (change hue)\n",
    "    - sequential : Show ordering of importance (change chroma or luminance). Viridis is such color scale.\n",
    "    - diverging: Show above or below a midpoint (change chroma or luminance, with 2 hues)"
   ]
  },
  {
   "cell_type": "markdown",
   "metadata": {},
   "source": [
    "# How to plot many variables at once?"
   ]
  },
  {
   "cell_type": "markdown",
   "metadata": {},
   "source": [
    "### pair plot"
   ]
  },
  {
   "cell_type": "markdown",
   "metadata": {},
   "source": [
    "- You have up to ten variables (either continuous, categorical, or a mix).\n",
    "- You want to see the distribution for each variable.\n",
    "- You want to see the relationship between each pair of variables.\n",
    "- Used for investigating a dataset and the features"
   ]
  },
  {
   "cell_type": "markdown",
   "metadata": {},
   "source": [
    "### Heatmap"
   ]
  },
  {
   "cell_type": "markdown",
   "metadata": {},
   "source": [
    "- You have lots of continuous variables.\n",
    "- You want to a simple overview of how each pair of variables is related.\n",
    "- Shows correlation between features\n",
    "- Stronger color represents stronger correlation"
   ]
  },
  {
   "cell_type": "markdown",
   "metadata": {},
   "source": [
    "### parallel coordinates plot"
   ]
  },
  {
   "cell_type": "markdown",
   "metadata": {},
   "source": [
    "- You have lots of continuous variables.\n",
    "- You want to find patterns inside these variables\n",
    "- You want to visualize clusters of observations.\n",
    "- Good to see the group plots across multiple panes in a column"
   ]
  }
 ],
 "metadata": {
  "kernelspec": {
   "display_name": "Python 3.8.11 ('env_py')",
   "language": "python",
   "name": "python3"
  },
  "language_info": {
   "name": "python",
   "version": "3.8.11"
  },
  "orig_nbformat": 4,
  "vscode": {
   "interpreter": {
    "hash": "1e949e87132dd83f1a7623eb88007e3532b03b66b77111be347aa4a383049722"
   }
  }
 },
 "nbformat": 4,
 "nbformat_minor": 2
}
