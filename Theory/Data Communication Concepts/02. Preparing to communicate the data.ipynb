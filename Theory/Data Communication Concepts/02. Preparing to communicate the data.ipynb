{
 "cells": [
  {
   "cell_type": "markdown",
   "metadata": {},
   "source": [
    "# Selecting Right Data"
   ]
  },
  {
   "cell_type": "markdown",
   "metadata": {},
   "source": [
    "- Data that can provide enough contextual insight\n",
    "- Support main point of the story\n",
    "- Does not overload report with information\n",
    "- Minimal amount of information to support our story\n",
    "- Bad data = Garbage in, garbage out\n",
    "- properly highlight different view of the data to the audience\n",
    "- Stakeholders :\n",
    "    - Any person interested in the project, outcome, decision or activity.\n",
    "    - Different person, different perspective\n",
    "    - Identify ideal target (help us to taylor findings)\n",
    "    - Personas with specific description of interest of project outcome (businessman = will it make profit, analyst = is this a feasible model)\n",
    "    - Technical vs non-technical (How knowledgable are they)\n",
    "    - Different levels of skepticism = Different levels of argumentation\n",
    "        - Convince yourself\n",
    "        - Convince a friend\n",
    "        - Convince a skeptic\n",
    "- examples: See slide 10-14"
   ]
  },
  {
   "cell_type": "markdown",
   "metadata": {},
   "source": [
    "# Metrics to convey messages"
   ]
  },
  {
   "cell_type": "markdown",
   "metadata": {},
   "source": [
    "- Comparing variables over time with Difference:\n",
    "    - Relative Number\n",
    "        - change in quantity\n",
    "        - for 1,2 variables\n",
    "        - detect total contribution\n",
    "    - Absolute Number \n",
    "        - change in percentage / proportion\n",
    "        - for multiple variables\n",
    "        - detect significance in contribution\n",
    "<center><img src=\"images/02.041.jpg\"  style=\"width: 400px, height: 300px;\"/></center>\n"
   ]
  },
  {
   "cell_type": "markdown",
   "metadata": {},
   "source": [
    "- Comparing variables with Ratio\n",
    "    - Quotient of two variables\n",
    "    - Normalize values = Distribution of data based on target scales = better comparison\n",
    "    - eg : Revenue per customer (total product revenue/number customers)\n",
    "<center><img src=\"images/02.042.jpg\"  style=\"width: 400px, height: 300px;\"/></center>\n",
    "\n"
   ]
  },
  {
   "cell_type": "markdown",
   "metadata": {},
   "source": [
    "- Summarize with aggregation\n",
    "    - statistical Representative values\n",
    "    - Totals / counts\n",
    "    - mean = can be misleading (outlier)\n",
    "    - median\n",
    "    - statistical significance (p value < 0.05 )\n",
    "<center><img src=\"images/02.043.jpg\"  style=\"width: 400px, height: 300px;\"/></center>\n"
   ]
  },
  {
   "cell_type": "markdown",
   "metadata": {},
   "source": [
    "- p-value : \n",
    "    - Value less than 0.05: statistical significance\n",
    "    - Values close to 0.05: weak indicator\n",
    "    - Not proof of evidence: Reject our hypothesis (provides support for strong possibility), but does not mean that it is wrong \n"
   ]
  },
  {
   "cell_type": "markdown",
   "metadata": {},
   "source": [
    "- Tailored message:\n",
    "    - Investor :\n",
    "        - Provide good and bad scenarios\n",
    "        - Marketing campaign avoid 20% revenue drop\n",
    "    - Technical lead\n",
    "        - Provide model performance on historical data\n",
    "        - Model predicted revenue decline (RMSE: 1.2)\n",
    "<center><img src=\"images/02.081.jpg\"  style=\"width: 400px, height: 300px;\"/></center>\n"
   ]
  },
  {
   "cell_type": "markdown",
   "metadata": {},
   "source": [
    "- Provide context\n",
    "    - Investor :\n",
    "        - Provide most influential factors\n",
    "        - what influences the customers to buy or not buy chocolates\n",
    "    - Technical lead\n",
    "        - Feature importance\n",
    "        - Important features and analysis\n",
    "<center><img src=\"images/02.082.jpg\"  style=\"width: 400px, height: 300px;\"/></center>\n"
   ]
  },
  {
   "cell_type": "markdown",
   "metadata": {},
   "source": [
    "- Pareto principle: \n",
    "    - Majority of outputs come from minority of inputs\n",
    "    - Aggregate less relevant data to reduce noise\n",
    "    - Include chocolate, chips and other products together instead of showing them individually (aggregated)\n",
    "- Approachable and engaging visuals by grounding them to audience knowledge level\n",
    "- How many and how quickly can the audience get the information\n",
    "    - complex plot = many insights = more time to understand \n",
    "    - simple plot = few insights = less time to understand \n",
    "- Less is more\n",
    "- McCandless method\n",
    "    - Introduce visualization by name\n",
    "        - Graph headline\n",
    "        - Clear and obvious\n",
    "        - y vs x axis technique\n",
    "    - Answer audience's questions\n",
    "        - Focus on story not on decoding graph\n",
    "    - State insights\n",
    "        - visual representation of graph\n",
    "        - explain the graphs\n",
    "    - Help the audience relate graph and insights\n",
    "        - Importance : Why it matters\n",
    "        - Action items : How it should be acted upon\n",
    "<center><img src=\"images/02.083.jpg\"  style=\"width: 400px, height: 300px;\"/></center>\n",
    "    "
   ]
  },
  {
   "cell_type": "markdown",
   "metadata": {},
   "source": [
    "# Good communication format\n"
   ]
  },
  {
   "cell_type": "markdown",
   "metadata": {},
   "source": [
    "- Key information of the project\n",
    "- Engaging interaction\n",
    "- Easy to understand content\n",
    "- 4 main elements:\n",
    "    1. Audience\n",
    "        - Who are we presenting to?\n",
    "        - Why do they need to know the findings?\n",
    "        - eg: Make them understand Accountability or methodology?\n",
    "        - How are they going to use the findings?\n",
    "        - eg : Are they going to be making decision / start a new project?\n",
    "        - What information do they need?\n",
    "        - eg: Result / Impact of findings?\n",
    "    2. Content\n",
    "        - Answers from the questions in audience narrow down what contents should be included\n",
    "        - Results?\n",
    "        - Conclusion?\n",
    "        - Recommendations?\n",
    "        - Methods?\n",
    "    3. Requirements\n",
    "        - Is there any specific constraints?\n",
    "        - Time : Do they need detailed report or short report?\n",
    "        - Authority : Do they need report for reporting to someone else, or do they need it to back-up a clain\n",
    "        - Time zone : Different timezone, so that written communication is preferred?\n",
    "    4. Channel\n",
    "        - How is it going to be consumed\n",
    "        - Format : Document (MS Word) / Slide deck (Power Point)\n",
    "        - Delivery mechanism : Live / Asynchronous (email or slack)\n",
    "        - Audience : How big is the audience ? Conference room / Ballroom\n",
    "- 2 main formats\n",
    "    1. Written report\n",
    "        - Permanent record of communication\n",
    "        - Shared easily with a large audience\n",
    "        - Less emotional reaction to message (Less Interaction)\n",
    "        - Suitable to share code with colleagues (for review or replication)\n",
    "        - Hard to see if the message was understood (Hard to adapt the later phase of report)\n",
    "        - No immediate feedback (Q/A in comment)\n",
    "    - example:\n",
    "        - Who? CEO\n",
    "        - Why? Monthly update\n",
    "        - What? Accountability\n",
    "        - Content: Conclusions\n",
    "        - Requirement: Short Time\n",
    "        - Channel: Meeting    \n",
    "    2. Oral presentation\n",
    "        - Build Relationship with the audience (Interaction)\n",
    "        - Immediate feedback (live Q/A)\n",
    "        - Non-verbal cues (Body language add meaning)\n",
    "        - No permanent record of communication (Needs separate recording)\n",
    "        - Not suitable for long messages (longer presentation makes audience lose focus)\n",
    "    - example:\n",
    "        - Who? CEO\n",
    "        - Why? Important decisions ahead\n",
    "        - How? Report to investors\n",
    "        - Content: Recommendations\n",
    "        - Channel: Email"
   ]
  }
 ],
 "metadata": {
  "kernelspec": {
   "display_name": "Python 3.8.11 ('env_py')",
   "language": "python",
   "name": "python3"
  },
  "language_info": {
   "name": "python",
   "version": "3.8.11"
  },
  "orig_nbformat": 4,
  "vscode": {
   "interpreter": {
    "hash": "1e949e87132dd83f1a7623eb88007e3532b03b66b77111be347aa4a383049722"
   }
  }
 },
 "nbformat": 4,
 "nbformat_minor": 2
}
