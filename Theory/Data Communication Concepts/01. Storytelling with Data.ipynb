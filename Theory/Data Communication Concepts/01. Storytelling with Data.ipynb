{
 "cells": [
  {
   "cell_type": "markdown",
   "metadata": {},
   "source": [
    "# Data Storytelling"
   ]
  },
  {
   "cell_type": "markdown",
   "metadata": {},
   "source": [
    "- Powerful way of sharing insights supported by compelling narrative and effective / efficient visualization\n",
    "    - Anecdotes (short story) = imagination\n",
    "    - Stories = memorable insights\n",
    "    - provide context = Add value to data\n",
    "    - Capture audience's attention\n",
    "    - Facilitate decision-making\n",
    "    - Drive actions and changes\n",
    "- Makes results stick:\n",
    "    - Simple : Get the core of the message\n",
    "    - Concrete : Desribed / Detected by human senses\n",
    "    - Credible : Can be put to test\n",
    "- Even the best results fail to have impact without proper presentation\n",
    "- Convince change-adverse stakeholders\n",
    "- Consider If stakeholders are Non-technical \n",
    "- Best Storytelling:\n",
    "    1. Insightful : \n",
    "        - Derives clear learning from analysis\n",
    "        - Results and findings should only be included according to the situation\n",
    "    2. Explanatory : \n",
    "        - Help audience understand insights\n",
    "    3. Concise : \n",
    "        - Only concrete and specific facts\n",
    "\n",
    "- Way of delivering:\n",
    "    - 3-minutes story: What would you say in 3 minutes?\n",
    "    - Big idea: Unique point of view in One sentence\n",
    "    - Story is Clear and concise\n",
    "\n",
    "- Data :\n",
    "    - Data should be relevant \n",
    "    - Analysis should be based on accurate and reliable data\n",
    "    - Insights should be actionable\n",
    "- Narrative :\n",
    "    - Present in meaningful way to target audience\n",
    "    - Compelling and easy to understand\n",
    "    - Prioritize essential points\n",
    "    - Drive changes according to key points (make audience care for the results)\n",
    "    - Revolves around Main point:\n",
    "        - Avoid disconnected facts\n",
    "        - Central insight connects the dots\n",
    "    - Explanatory context:\n",
    "        - Understand background and audience (Who is the audience and what do they need to know)\n",
    "        - Technical knowledge is a continuum (How technical knowledge do the audience have?)\n",
    "        - Data professionals care about their methods (care about stats)\n",
    "        - Audience likely cares more about results and implications (Care about their own pain points)\n",
    "        - Clarify facts to that audience\n",
    "    - Story should follow a Linear sequence\n",
    "        - points build on each-other until conclusion\n",
    "- Visuals:\n",
    "    - simple\n",
    "    - engaging\n",
    "    - not misleading\n",
    "\n",
    "<center><img src=\"images/01.011.jpg\"  style=\"width: 400px, height: 300px;\"/></center>\n",
    "<center><img src=\"images/01.012.jpg\"  style=\"width: 400px, height: 300px;\"/></center>\n"
   ]
  },
  {
   "cell_type": "markdown",
   "metadata": {},
   "source": [
    "# Translating technical results into stories\n"
   ]
  },
  {
   "cell_type": "markdown",
   "metadata": {},
   "source": [
    "- Easy to understand story\n",
    "- Engage non-technical audience\n",
    "    - What do they know, What do they need to know (NOT How our model works)\n",
    "    - Adjust content (Should know Prediction's impact and limitations)\n",
    "    - What do they need to understand? (NOT Why we chose our predictive variables)\n",
    "    - Be conversational, Take feedback, Answer their questions (The context on which our model works)\n",
    "    - What level of information do they need? (NOT The correlation coe)cients between variables)\n",
    "    - Serve audience (The interactions between similar traits)\n",
    "- Facilitate Decision-making processes (with simple terms)\n",
    "- Drive change \n",
    "- Strategies\n",
    "- Use ADEPT : So that audience can relate things they do not understand with the things they understand\n",
    "    - Analogy\n",
    "    - Diagram\n",
    "    - Example\n",
    "    - Plain English \n",
    "    - Technical definition\n",
    "- Use acronyms with caution\n",
    "    - Can help or hurt communication\n",
    "    - Introduce the term and acronym the fist time it is used\n",
    "- Jargon\n",
    "    - Translate terminology into familiar terms\n",
    "    - Use Simple terms\n",
    "    - Include reference Guide\n",
    "    - Include Definitions\n",
    "    - Be receptive to question\n",
    "    - Proactively ensure understanding of technical terms\n",
    "    - Explain differently with different strategy\n",
    "- Focus on impact rather than process \n",
    "    - Process : Use a non-relational database to make efficient nested queries.\n",
    "    - Impact : Changing the storage approach will save a lot of time.\n",
    "    - Process : Number of rooms shows correlation of 0.7 with a house price.\n",
    "    - Impact : The more rooms in the house, the higher the price."
   ]
  },
  {
   "cell_type": "markdown",
   "metadata": {},
   "source": [
    "# Narrative structure"
   ]
  },
  {
   "cell_type": "markdown",
   "metadata": {},
   "source": [
    "- Background\n",
    "    - What problem motivated the analysis?\n",
    "    - What changed in the previous situation that warranted the analysis?\n",
    "    - What / Who is the focus of the analysis? (Customers? Employees? Something else?)\n",
    "    - example : Total profit decreased in the last 3 months\n",
    "- Insights\n",
    "    - Provide evidence of What contributed to the problem?\n",
    "    - Only include relevant information\n",
    "    - example : Chips sale 20% increased. Sweets sale 30% decreased.\n",
    "- Supporting insights\n",
    "    - Add supporting evidence\n",
    "    - Help better explain the cause of problem\n",
    "    - example : Most popular chocolate sales decreased by 50%.\n",
    "- Climax\n",
    "    - Introduce central finding of analytics of possible outcome\n",
    "    - What would happen if there is no change\n",
    "    - example : Loss $10M next year.\n",
    "- Next Steps\n",
    "    - Potential solutions\n",
    "    - Recommended Course of action\n",
    "    - Proactive to guide the audience what to do with results if we want to impact decision making process\n",
    "    - example : Rebrand chocolate and offer special discount to achieve  20% profit\n",
    "- Things that can be included:\n",
    "    - Change over time: \n",
    "        - Paattern of time series\n",
    "        - Chocolate lower in summer and higher in winter.\n",
    "    - Correlation: \n",
    "        - Relationship between factors\n",
    "        - Chocolate rating vs. price\n",
    "    - Comparison: \n",
    "        - 100% stacked Barchart for relative comparison\n",
    "        - Two age groups vs. chocolate consumption\n",
    "    - Clustering: \n",
    "        - Grouping similar patterns in data\n",
    "        - Groups with different coffee and chocolate consumption\n"
   ]
  }
 ],
 "metadata": {
  "kernelspec": {
   "display_name": "Python 3.8.11 ('env_py')",
   "language": "python",
   "name": "python3"
  },
  "language_info": {
   "name": "python",
   "version": "3.8.11"
  },
  "orig_nbformat": 4,
  "vscode": {
   "interpreter": {
    "hash": "1e949e87132dd83f1a7623eb88007e3532b03b66b77111be347aa4a383049722"
   }
  }
 },
 "nbformat": 4,
 "nbformat_minor": 2
}
