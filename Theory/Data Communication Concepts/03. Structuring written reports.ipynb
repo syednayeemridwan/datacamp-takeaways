{
 "cells": [
  {
   "cell_type": "markdown",
   "metadata": {},
   "source": [
    "# Written reports"
   ]
  },
  {
   "cell_type": "markdown",
   "metadata": {},
   "source": [
    "- Informational\n",
    "    - Factual information\n",
    "    - Short\n",
    "    - Not strict structure\n",
    "    - Inform about facts\n",
    "- Analytical\n",
    "    - Analysis (relationships/recommendations)\n",
    "    - Varies (short or long)\n",
    "    - Strict structure\n",
    "    - Data-driven decisions\n",
    "- Final report\n",
    "    - Elements\n",
    "        - Data analysis\n",
    "        - Findings and results\n",
    "        - Visuals\n",
    "    - Format\n",
    "        - Strict structure\n",
    "        - Long\n",
    "    - Audience\n",
    "        - Details\n",
    "- Summary report\n",
    "    - Elements\n",
    "        - Key findings and recommendations\n",
    "        - Visuals\n",
    "    - Format\n",
    "        - Short (< 5 pages)\n",
    "        - Summary of final report\n",
    "        - Strict structure\n",
    "        - Link to main document\n",
    "    - Audience\n",
    "        - No need for technical details\n"
   ]
  },
  {
   "cell_type": "markdown",
   "metadata": {},
   "source": [
    "# Report Structure : Journal Context"
   ]
  },
  {
   "cell_type": "markdown",
   "metadata": {},
   "source": [
    "- Introduction\n",
    "    - Purpose of the report\n",
    "        - Show Analysis of the product reviews\n",
    "        - Rating prediction based on review\n",
    "    - Contextual information\n",
    "        - Why we performed the analysis\n",
    "        - What motivated this report\n",
    "        - Increase in negative reviews\n",
    "    - Question of analysis\n",
    "        - Summarize the answers of research questions\n",
    "        - Factor affecting bad user experience\n",
    "- Body\n",
    "    - Data\n",
    "        - Description of most relevant data\n",
    "        - Tables\n",
    "    - Methods\n",
    "        - Methods used to analyze data\n",
    "        - NLP and Random Forest\n",
    "    - Analysis\n",
    "        - Selected model\n",
    "        - Visuals\n",
    "        - Graphs with most common words\n",
    "    - Results\n",
    "        - Description of analysis\n",
    "        - visuals for evaluation\n",
    "- Conclusions\n",
    "    - Restate question\n",
    "    - Summarize most important results from analysis\n",
    "    - Add recommendations : For next steps\n"
   ]
  },
  {
   "cell_type": "markdown",
   "metadata": {},
   "source": [
    "# Report Structure : Business context\n"
   ]
  },
  {
   "cell_type": "markdown",
   "metadata": {},
   "source": [
    "- 1-3-25 Approach\n",
    "    - 1 page of abstract\n",
    "    - 3 pages max of executive summary\n",
    "    - 25 pages of detail"
   ]
  },
  {
   "cell_type": "markdown",
   "metadata": {},
   "source": [
    "# Remember the audience"
   ]
  },
  {
   "cell_type": "markdown",
   "metadata": {},
   "source": [
    "- People with little time (Customer or internal collaborator)\n",
    "    - Read Introduction\n",
    "    - Read Conclusion\n",
    "    - Scan body\n",
    "- People with liabilities (Executive team)\n",
    "    - Scan introduction \n",
    "    - Scan conclusions\n",
    "    - Scan Recommendations\n",
    "- Technical stakeholder\n",
    "    - Body of report (Understand and validate methods and analysis)"
   ]
  },
  {
   "cell_type": "markdown",
   "metadata": {},
   "source": [
    "# Reproducibility"
   ]
  },
  {
   "cell_type": "markdown",
   "metadata": {},
   "source": [
    "- A report must be clear \n",
    "- A report must be reproducible\n",
    "- example:\n",
    "    - Baking a cake with same recipe, process and same ingredients should give same cake with same flavors\n",
    "    - in jupyter notebook, same analysis will produce same results\n",
    "- Prevents duplication effort\n",
    "- Build upon preexisting work\n",
    "- Focus on new challenges\n",
    "- Peer review\n",
    "- Tool agnostic (Does not matter which platform, language)\n",
    "- Best practices\n",
    "    1. Keep track of how results were produced\n",
    "        - Well documented scripts (Comments in code)\n",
    "        - List packages and environment used\n",
    "        - Version control (git)\n",
    "    2. Avoid manual data manipulation\n",
    "        - Never change data directly with editor\n",
    "        - Save all version of dataset\n",
    "        - Save raw data with intermediate steps (Helps to tract transformation)\n",
    "        - Adapt and resolve issues (from previous versions)\n",
    "        - example : Data imputation (impute with mean, later found that 0 is the best choice)\n",
    "    3. Control randomness\n",
    "        - Random seed to introduce reproducibility in output\n",
    "        - Controls confounding variables (Change in result is due to model and not because of randomness)\n",
    "    4. Interpretability\n",
    "        - Understand the cause of a decision or predict model results\n",
    "        - Story with compelling narrative : Helps to understand the finding\n",
    "        - Link with reproducibility : Conclusion can be reproduced\n",
    "    5. Cite bibliography correctly\n",
    "        - Other people's work\n",
    "        - basic information required to identify and locate a specific publication\n",
    "        - Different styles but same underlying logic\n",
    "            - Book: Author Name (Year). Title. Publisher.\n",
    "            - Journal Article: Author Name. (Year) 'Article Title.' Journal Title, Volume Number, Issue Number, Page Numbers.\n",
    "            - Website: Author Name. Date of Publication, 'Title of Page/Work.' Title of Website, Location\n",
    "        - APA style (Most Common):\n",
    "            - In text citations (author, date)\n",
    "        - Reference management tools\n",
    "            - Easier to keep track\n",
    "            - Change between styles\n",
    "            - Search for reference online\n",
    "            - Options: EndNote, Mendeley, RefWorks\n",
    "        - Business context\n",
    "            - Less strict\n",
    "            - Simpler utilization of reference (hyperlink)\n",
    "            - information available and retrievable"
   ]
  },
  {
   "cell_type": "markdown",
   "metadata": {},
   "source": [
    "# Precision"
   ]
  },
  {
   "cell_type": "markdown",
   "metadata": {},
   "source": [
    "- Concise\n",
    "        - Write concrete nouns\n",
    "        - Avoid \"this\", \"that\", \"it\" ( Add cognitive load, unclear, Distract them from insights)\n",
    "        - example: <s> This </s> (The model) shows an accuracy of 80% when predicting customer churn.\n",
    "- Precise\n",
    "        - Active voice: emphasis on the author\n",
    "        - Passive voice: stuffy and hard to read\n",
    "        - Academic (passive) vs business (active) context\n",
    "        - Eliminate redundant adjective and adverbs (Phrases that say the same thing twice)\n",
    "        - examples: Introduce a new, Done previously = not recommended\n",
    "        - Two or more independent clauses connected incorrectly (2 sentences added by a comma)\n",
    "                - Make two sentences\n",
    "                - Use dependent clause\n",
    "- Avoid misleading and confusion\n",
    "- Meaningful message\n",
    "- No empty phrases:\n",
    "        - It is interesting to note that\n",
    "        - The fact that\n",
    "        - It should be pointed out that\n",
    "        - It is well known that\n",
    "        - It is obvious that\n",
    "        - Contain no information\n",
    "        - Distracting\n",
    "        - Doesn't add information = should be removed\n",
    "        - example : <s>Another important point is the fact that </s>  negative ratings were associated with the words \"delayed\" and \"shipping\""
   ]
  },
  {
   "cell_type": "markdown",
   "metadata": {},
   "source": [
    "# Example : Credit Risk"
   ]
  },
  {
   "cell_type": "markdown",
   "metadata": {},
   "source": [
    "<center><img src=\"images/01.011.jpg\"  style=\"width: 400px, height: 300px;\"/></center>\n"
   ]
  },
  {
   "cell_type": "markdown",
   "metadata": {},
   "source": [
    "- Credit risk: probability of defaulting\n",
    "- Loanme bank wants to predict if a customer is likely to default\n",
    "- Raw data available\n",
    "- Data Exploration Analysis\n",
    "- Model training and evaluation\n",
    "- Audience\n",
    "    - Non-technical stakeholders\n",
    "    - Bank decision-makers\n",
    "- Story\n",
    "    - Background (What problem motivated the analysis): Increase in defaulting percentage over last 5 years.\n",
    "    - Background (What is the focus of the analysis):Predicting which customers had a high probability of default.\n",
    "    - Insight (Evidence of what contributed to the problem): People with more unemployment periods tends to default more\n",
    "    - Insight (Supporting Evidence of what contributed to the problem): People with lower income tend to default more\n",
    "    - Climax (Central findings): Possible to predict which people is more likely to default with an accuracy of 95%\n",
    "    - Next steps (Potential Solution) : Run a trial on a control population\n",
    "- Translate technical results\n",
    "    - Simplify for non-technical audience\n",
    "    - Role : Financing Department Director\n",
    "    - Interest : Decision on implementing an automated loan rejection system\n",
    "    - Appropriate data : Relationship between unemployment or income and loan default Percentage customer defaulting over the next months\n",
    "    - statistics : Median age and income, Percentage of change\n",
    "- Visuals\n",
    "    - Boxplot with age vs. default condition \n",
    "    - Lineplot with % change defaulting customers\n",
    "- Presentation Format\n",
    "    - Who? Financial Department director\n",
    "    - Why? Important decisions ahead\n",
    "    - Content : Key findings and recommendations\n",
    "    - Channel: Send the results before the meeting \n",
    "    - Written report (Summary report for non-technical audience) \n",
    "    - Analytical report (We are presenting analysis)"
   ]
  },
  {
   "cell_type": "markdown",
   "metadata": {},
   "source": [
    "# Summary report structure\n"
   ]
  },
  {
   "cell_type": "markdown",
   "metadata": {},
   "source": [
    "- Introduction\n",
    "    - Purpose\n",
    "    - Contextual information\n",
    "    - Question of analysis\n",
    "- Body\n",
    "    - Data\n",
    "    - Results: Key findings\n",
    "- Conclusions\n",
    "    - Restate question\n",
    "    - Central insight\n",
    "    - Add recommendations"
   ]
  }
 ],
 "metadata": {
  "kernelspec": {
   "display_name": "Python 3.8.11 ('env_py')",
   "language": "python",
   "name": "python3"
  },
  "language_info": {
   "name": "python",
   "version": "3.8.11"
  },
  "orig_nbformat": 4,
  "vscode": {
   "interpreter": {
    "hash": "1e949e87132dd83f1a7623eb88007e3532b03b66b77111be347aa4a383049722"
   }
  }
 },
 "nbformat": 4,
 "nbformat_minor": 2
}
