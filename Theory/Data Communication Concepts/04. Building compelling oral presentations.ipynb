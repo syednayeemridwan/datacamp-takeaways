{
 "cells": [
  {
   "cell_type": "markdown",
   "metadata": {},
   "source": [
    "# Planning a structured presentation\n"
   ]
  },
  {
   "cell_type": "markdown",
   "metadata": {},
   "source": [
    "- Purpose\n",
    "    - What type of presentation are we giving\n",
    "    - Informative : Information about current situation (positive / negative) and associated reviews\n",
    "    - Instructional : Instructing the guidelines (eg : How to build a model)\n",
    "    - Persuasive : Pursuating some stakeholders with follow-up actions to convince them to revert the current situation\n",
    "- Audience\n",
    "    - Who is the audience?\n",
    "    - Technical colleagues\n",
    "    - Managers or executive team\n",
    "    - Customer\n",
    "    - How big is the audience?\n",
    "        - Small meeting : Meeting with 10 members \n",
    "        - Conference or large meeting : Meeting with 100 employees from the so/ware development department\n",
    "        - Workshop : Technical workshop for 30 customer's IT employees\n",
    "- Message\n",
    "    - What is the central message?\n",
    "    - After one week: 90% of the information is forgotten \n",
    "    - If there is one thing we want them to remember => What do we want to stick? (Work backwards from there)\n",
    "    - Opening statement : \n",
    "        - Hook the audience\n",
    "        - Capture audience's atttention \n",
    "        - eg : Negative ratings scare customers away from our website\n",
    "    - Central message :\n",
    "        - One sentence\n",
    "        - Delayed shipping is the main cause of negative reviews and immediate actions areneeded to revert the situation.\n",
    "    - Closing statement\n",
    "        - Sums up presentation \n",
    "        - strengthens central message\n",
    "        - There is a decrease in sales. Negative reviews have been increasing. Delayed shipping is causing negative ratings. Actions are needed to revert situation.\n",
    "- Final Structure:\n",
    "\n",
    "    - Introduction\n",
    "        - Provide background information\n",
    "        - Catch audience attention\n",
    "        - Glimpse of presentation content\n",
    "    - Methods, analysis and model outputs\n",
    "        - depends on audience (If non-technical, skip it)\n",
    "        - detail determined by audience preference\n",
    "    - Conclusions and takeaways\n",
    "        - Refers back to the introduction\n",
    "        - Contains call-to-action statement or/and next steps"
   ]
  },
  {
   "cell_type": "markdown",
   "metadata": {},
   "source": [
    "# Outline"
   ]
  },
  {
   "cell_type": "markdown",
   "metadata": {},
   "source": [
    "- How long do you have in presentation? => Plan accordingly\n",
    "- Graphs and visuals\n",
    "- Avoid having too many sections\n",
    "- More section = Harder to maintain audienc attention\n",
    "- Sections five or less smaller parts (Needed sections in order)\n",
    "    1. Reason for analysis\n",
    "    2. Exploratory analysis\n",
    "    3. Sentiment analysis\n",
    "    4. Conclusions\n",
    "    5. Follow-up actions"
   ]
  },
  {
   "cell_type": "markdown",
   "metadata": {},
   "source": [
    "# Building Slides"
   ]
  },
  {
   "cell_type": "markdown",
   "metadata": {},
   "source": [
    "- Support story we are trying to convey\n",
    "- Include headline (Make audiences pay attention to the particular moment)\n",
    "    - Highlight main point\n",
    "    - Specific\n",
    "    - concise\n",
    "    - Big font\n",
    "- Short content (Main points supporting our message)\n",
    "- Content should Support what we are saying\n",
    "- Do not make slides into written reports\n",
    "- Many slides\n",
    "- One or two full-size graphs per slide\n",
    "- One message per slide\n",
    "- No overcrowding in a single slide\n",
    "- Replace many sentences with graphs\n",
    "- Use layering and highlighting (even in graph) helps to focus on particular points\n",
    "- Not too much texts (Audience will read instead of listening)\n",
    "- dynamic content in each slide (audience attention capacities)\n",
    "- Refined slides (Fixed number of slides = not going over time)\n",
    "- One message per slide (short, fluid, attention to one context at a time)\n",
    "- Least amount of color (No more than 3)\n",
    "- Good Contrast between text and background color for readability\n",
    "- Include potentially impared audience (color deficiency : Red and Green)\n",
    "- Fonts\n",
    "    - Serif for printed copy \n",
    "    - sans-serif for screen / reading copy\n",
    "    - Context\n",
    "        - Comic Sans MS for presenting to kids\n",
    "    - Long text with small Size is a BIG NO (Short Text, Big Font)\n",
    "    - Use less:\n",
    "        - Several fonts\n",
    "        - Spacing of letters and lines\n",
    "        - Bold, italic and sizes\n",
    "- Use layering (points):\n",
    "    - Breaks complex slide into scleaner, maller points\n",
    "    - Focus on each point individually\n",
    "    - Displayed together to wrap up the whole message\n",
    "    - keeps the attention connected\n",
    "- See examples in slides\n",
    "<center><img src=\"images/04.041.jpg\"  style=\"width: 400px, height: 300px;\"/></center>\n"
   ]
  },
  {
   "cell_type": "markdown",
   "metadata": {},
   "source": [
    "# Practicing Delivery"
   ]
  },
  {
   "cell_type": "markdown",
   "metadata": {},
   "source": [
    "- More practice = more familiarity with content\n",
    "- Write script that is helpful\n",
    "- Don't memorize the content\n",
    "- Become familiar with content\n",
    "- Anticipate follow-up questions (And think of those answers)\n",
    "- Rehearsal\n",
    "    - Stand up\n",
    "    - Use the slides\n",
    "    - Speak out loud\n",
    "    - Detect distracting patterns (um, so, like, basically, actually)\n",
    "    - Find linking statements (during transition from one slide to another )\n",
    "    - Answer to anticipated Q&A\n",
    "- Be aware of emotions\n",
    "    - If you are Confident, they are convinced\n",
    "    - If you are nervous, they are unsure\n",
    "- Grab the best attention time (5 to 20 minutes)\n",
    "    - keep the audience engaged (eye contact, interactivity, questions)\n",
    "    - talk to audience, not talk at audience\n",
    "    - Develop a relationship\n",
    "        - show empathy\n",
    "        - act as a guide\n",
    "- do not use \"as you know\" , \"obviously\" \n",
    "    - you will damage the connection with audience\n",
    "    - They will feel uncomfortable asking questions\n",
    "    - They will feel awkward when they don't understand something\n",
    "- Timing \n",
    "    - Do not cross allocated time\n",
    "    - Audience become impatient\n",
    "    - Attention drops dramatically\n",
    "- Pace \n",
    "    - Use pauses between contexts / ideas\n",
    "    - It is ok to talk a little faster\n",
    "    - Breathe after each idea\n",
    "    - Give the audience time to think\n",
    "- Open up for questions\n",
    "    - During or at the end of the presentation\n",
    "    - Take feedbacks\n",
    "    - Willing to help them understand message\n",
    "    \n"
   ]
  },
  {
   "cell_type": "markdown",
   "metadata": {},
   "source": [
    "# Common Things that are forgotten in times"
   ]
  },
  {
   "cell_type": "markdown",
   "metadata": {},
   "source": [
    "- State the purpose of presentation at the beginning / introduction\n",
    "    - Better understanding of insights / findings to relate to\n",
    "    - Better story impact due to the right purpose\n",
    "- Sequence of information\n",
    "    - Keep audience's attention \n",
    "    - Do not wait until the end to show all the findings altogether \n",
    "    - Include findings throughout the presentation (Provide backbone to the message)\n",
    "- Do not use monologue\n",
    "    - Engage and involve audience\n",
    "    - Who are you? why are you presenting?\n",
    "    - Strong introduction : Good morning! My name is Hadrien, and I'm here today to present how negative ratings are impacting the company profits.\n",
    "    - Always state key assumptions, so that audience can anticipate our though process (empathy development)\n",
    "    - Ask questions in the middle of presentation\n",
    "        - We know the answer\n",
    "        - But the question can be the hook to the next slide\n",
    "    - Re-iterate main idea \n",
    "        - Make the audience remember that what we are showing is related to main idea\n",
    "        - They can keep track of story easily\n",
    "- Body language\n",
    "    - What matters is the message\n",
    "    - but the speaker is at the center of the presentation\n",
    "    - Emphasis by natural gesture and movements\n",
    "        - Move hands or point at slide\n",
    "        - Smile or make a facial expression\n",
    "    - Attracts attention\n",
    "        - Posture can convey confidence\n",
    "    - Supports message\n",
    "- Use different voice tonalities for emphasizing on message\n",
    "    - Speed\n",
    "        - Fast : urgency, excitement, and emotion\n",
    "        - Slow : importance, and new ideas introduction\n",
    "    - Volume\n",
    "        - Live: speak loud enough so that everyone can hear\n",
    "        - Online: check mic so that the voice is clear\n",
    "    - Intonation\n",
    "        - sound engaged\n",
    "        - sound appealing to context\n",
    "        - be interested yourself"
   ]
  }
 ],
 "metadata": {
  "kernelspec": {
   "display_name": "Python 3.8.11 ('env_py')",
   "language": "python",
   "name": "python3"
  },
  "language_info": {
   "name": "python",
   "version": "3.8.11"
  },
  "orig_nbformat": 4,
  "vscode": {
   "interpreter": {
    "hash": "1e949e87132dd83f1a7623eb88007e3532b03b66b77111be347aa4a383049722"
   }
  }
 },
 "nbformat": 4,
 "nbformat_minor": 2
}
