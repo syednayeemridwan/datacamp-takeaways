{
 "cells": [
  {
   "cell_type": "markdown",
   "metadata": {},
   "source": [
    "# Communication "
   ]
  },
  {
   "cell_type": "markdown",
   "metadata": {},
   "source": [
    "- Written Communication : Anything written on paper\n",
    "    - Emails\n",
    "    - Reports\n",
    "    - Proposals\n",
    "    - Blog Posts\n",
    "- Visual Communication : Anything we get through eyes\n",
    "    - Charts and Graphs\n",
    "    - Pictures and Video\n",
    "- Nonverbal Communication : Body language\n",
    "    - Posture\n",
    "    - Eye Contact\n",
    "    - Facial Expression\n",
    "    - Gestures\n",
    "- Verbal Communication : Anything we do through spoken way\n",
    "    - Phone and Video Calls\n",
    "    - Face to Face Conversations\n",
    "\n"
   ]
  },
  {
   "cell_type": "markdown",
   "metadata": {},
   "source": [
    "# Written communication"
   ]
  },
  {
   "cell_type": "markdown",
   "metadata": {},
   "source": [
    "- Appropriate message Format\n",
    "    - Consider the communication method \n",
    "        - Not incomprehensible text\n",
    "        - Not a paragraph to write business analysis\n",
    "    - Maintain expectations\n",
    "    - Anticipate audience needs\n",
    "- Concise\n",
    "    - Create a clear focus\n",
    "        - Clear statement\n",
    "    - Incorporate supporting concepts\n",
    "        - Provide supporting information\n",
    "    - Find the balance\n",
    "        - Between explaining everything vs leaving something behind\n",
    "        "
   ]
  },
  {
   "cell_type": "markdown",
   "metadata": {},
   "source": [
    "# Visual communication"
   ]
  },
  {
   "cell_type": "markdown",
   "metadata": {},
   "source": [
    "- Easiest format to consume\n",
    "    - Pictures\n",
    "    - Videos\n",
    "    - Charts and Graphs\n",
    "    - Infographics\n",
    "- Different twist on success\n",
    "    - Format Selection and simplicity blend together\n",
    "    - Expansive guidelines for creating the right visual\n",
    "    - Good to follow up with written communication"
   ]
  },
  {
   "cell_type": "markdown",
   "metadata": {},
   "source": [
    "# Verbal Communication"
   ]
  },
  {
   "cell_type": "markdown",
   "metadata": {},
   "source": [
    "- Focuses on tone and consistency\n",
    "    - Choosing the right tone\n",
    "    - Keep the message consistent\n",
    "- Flexibility and responsiveness are difference makers\n",
    "    - requires practice\n",
    "- Respond directly to audience needs\n",
    "    - connect with audience in real time"
   ]
  },
  {
   "cell_type": "markdown",
   "metadata": {},
   "source": [
    "# Nonverbal Communication"
   ]
  },
  {
   "cell_type": "markdown",
   "metadata": {},
   "source": [
    "- Illustrates how message is performing\n",
    "    - How well the message is delivered\n",
    "- Facial expressions, posture, eye contact\n",
    "    - Is the audience engaged with communication\n",
    "    "
   ]
  },
  {
   "cell_type": "markdown",
   "metadata": {},
   "source": [
    "# Data insights"
   ]
  },
  {
   "cell_type": "markdown",
   "metadata": {},
   "source": [
    "- Analytical insights\n",
    "- Deep understanding of a business issue\n",
    "- uncover value of a situation\n",
    "- Uncovering Insights:\n",
    "    1. Collect data\n",
    "    2. Organize data\n",
    "    3. Analyze data (reveal underlying knowledge and insights)\n",
    "    4. Determine action plan (applying the knowledge to solidify actionable insight)\n",
    "    5. Communicate action plan \n",
    "    6. Observe outcome\n",
    "- Insights in action:\n",
    "    - Determining product mix\n",
    "    - Minimizing risk\n",
    "    - Optimizing resources\n",
    "    - Understanding supply chain disruptions\n",
    "- Best Practice: \n",
    "    - Keep business objectives in mind\n",
    "    - Find context with business objectives\n",
    "    - Tie insights back to common business objectives for better context\n",
    "    - Build a foundation with supporting information for audience\n",
    "    - additional background information is often required to understand scope of findings\n",
    "    - Same insight looks different for different stakeholders for their roles and responsibilities\n",
    "        - All rounder approach suits no-one\n",
    "    - Keep the insight as simple as possible rather than complex one that is not actionable    \n"
   ]
  },
  {
   "cell_type": "markdown",
   "metadata": {},
   "source": [
    "# Audience"
   ]
  },
  {
   "cell_type": "markdown",
   "metadata": {},
   "source": [
    "- The audience is the most important part of communicating.\n",
    "- Understand the audience's expected format.\n",
    "- Tailor the message based on audience feedback to keep them focused.\n",
    "- Keep the messaging simple.\n",
    "- Provide context so that they can understand value of the insights.\n",
    "- Key questions to Come up with your own to build out your toolbox.:\n",
    "    - What roles does your audience have?\n",
    "    - What does your audience already know?\n",
    "    - What does your audience need to know?\n",
    "    - How well does your audience know you?\n"
   ]
  },
  {
   "cell_type": "markdown",
   "metadata": {},
   "source": [
    "# Example : Real estate"
   ]
  },
  {
   "cell_type": "markdown",
   "metadata": {},
   "source": [
    "- Harold : An analyst in charge of planning next year's building options\n",
    "- Insight : Indoor treehouses are high in demand\n",
    "- Build communication plan\n",
    "- Identify stakeholders:\n",
    "    - Paul:\n",
    "        - Analytics director (Role)\n",
    "        - Does not know anything about it. Need to know before convinced. (What he does not know)\n",
    "        - Only knows this is a new method. He knows technical things (What he already knows)\n",
    "        - Harold is a new face to Paul. Harold needs to be more formal. (How well does he know him)\n",
    "\n",
    "    - Yuri:\n",
    "        - Warehouse Manager\n",
    "        - Does not know technical stuffs. Keep things in result level  (What he does not know)\n",
    "        - Only knows what to get in stock and their availability (What he already knows)\n",
    "        - Harold is a friendly figure (How well does he know him)\n",
    "\n",
    "    - Lorraine:\n",
    "        - Sales Director\n",
    "        - Does not know technical stuffs. Keep things in result level  (What he does not know)\n",
    "        - Wants to know popularity of new options (What he already knows)\n",
    "        - Harold is a friendly figure (How well does he know him)\n"
   ]
  }
 ],
 "metadata": {
  "kernelspec": {
   "display_name": "Python 3.8.11 ('env_py')",
   "language": "python",
   "name": "python3"
  },
  "language_info": {
   "name": "python",
   "version": "3.8.11"
  },
  "orig_nbformat": 4,
  "vscode": {
   "interpreter": {
    "hash": "1e949e87132dd83f1a7623eb88007e3532b03b66b77111be347aa4a383049722"
   }
  }
 },
 "nbformat": 4,
 "nbformat_minor": 2
}
