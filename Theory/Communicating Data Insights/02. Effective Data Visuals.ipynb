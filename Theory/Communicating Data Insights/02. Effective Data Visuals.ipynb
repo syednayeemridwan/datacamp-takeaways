{
 "cells": [
  {
   "cell_type": "markdown",
   "metadata": {},
   "source": [
    "# Visualization"
   ]
  },
  {
   "cell_type": "markdown",
   "metadata": {},
   "source": [
    "- Pictures and Graphics open gateway to understanding.\n",
    "- Visualizations translate information to discover insights.\n",
    "- Charts and graphs simplify the vast amount of information generated daily.\n",
    "- Visualizations show a summarized view of our data, highlighting trends and patterns\n",
    "- Positive impacts\n",
    "    - Faster decision making\n",
    "    - Better decision making\n",
    "    - Wider range of decisions\n",
    "    - Shows more complete picture than simple summary"
   ]
  },
  {
   "cell_type": "markdown",
   "metadata": {},
   "source": [
    "# Different Charts"
   ]
  },
  {
   "cell_type": "markdown",
   "metadata": {},
   "source": [
    "- Bar chart:\n",
    "    - categorical data (labels)\n",
    "    - utilize bars of different heights to display information\n",
    "    - intentional gaps between bars\n",
    "- Histogram:\n",
    "    - Numeric data (continuous data)\n",
    "    - utilize bars of different heights to display information within a specific bin range\n",
    "    - Broken into bins of equal size\n",
    "    - No intentional gaps between bars (No data is there)\n",
    "- Scatterplot:\n",
    "    - Show relationship between 2 different numerical variables\n",
    "    - Points are arranged based on their horizontal and vertical positions.\n",
    "    - Relationships between variables become easier to detect through a scatterplot\n",
    "- Stacked Bar chart:\n",
    "    - Additional detail with multiple categorical variables instead of one.\n",
    "    - Breakdown of sources\n",
    "- 100% Stacked Bar chart\n",
    "    - Share of sources\n",
    "    - Compared in percentage\n",
    "- Try many approaches and see what facilitates the most\n"
   ]
  },
  {
   "cell_type": "markdown",
   "metadata": {},
   "source": [
    "# Guiding Principles"
   ]
  },
  {
   "cell_type": "markdown",
   "metadata": {},
   "source": [
    "- Overall trend information is more important than knowing exact details when constructing a visual.\n",
    "- Trying to be too specific is a common issue with visualizations.\n",
    "- Don't deviate severely from established paradigms. ( do not drastically change the standard format for presenting)\n",
    "- Make minor incremental changes and gather audience feedback.\n",
    "- Keep it simple (Don't do too much)\n",
    "- Use complex formats sparingly\n",
    "- Question yourself\n",
    "    - Is there anything I can remove?\n",
    "    - Gridlines needed?\n",
    "    - Color schemes needed?\n",
    "    - Chart decorations needed?\n",
    "<center><img src=\"images/02.10.jpg\"  style=\"width: 400px, height: 300px;\"/></center>\n"
   ]
  }
 ],
 "metadata": {
  "kernelspec": {
   "display_name": "Python 3.8.11 ('env_py')",
   "language": "python",
   "name": "python3"
  },
  "language_info": {
   "name": "python",
   "version": "3.8.11"
  },
  "orig_nbformat": 4,
  "vscode": {
   "interpreter": {
    "hash": "1e949e87132dd83f1a7623eb88007e3532b03b66b77111be347aa4a383049722"
   }
  }
 },
 "nbformat": 4,
 "nbformat_minor": 2
}
