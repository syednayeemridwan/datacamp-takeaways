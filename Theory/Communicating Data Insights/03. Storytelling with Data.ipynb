{
 "cells": [
  {
   "cell_type": "markdown",
   "metadata": {},
   "source": [
    "# Data Story"
   ]
  },
  {
   "cell_type": "markdown",
   "metadata": {},
   "source": [
    "- Data Storytelling - Method of communicating data insights tailored to a specific audience with an overarching narrative\n",
    "- Goal : Obtain deep understanding of business problem, form a narrative supported by data, deliver the narrative to the audience\n",
    "- Tells a clear picture\n",
    "- There is robust visualization\n",
    "- There is added background or context\n",
    "- A touch of narrative\n",
    "- 3 distinctions than stand-alone visualizations: Pair visualizations with written communication\n",
    "    - Easier to understand \n",
    "    - Inspire action (increase engagement / pursuation over raw data)\n",
    "    - Retain information and remains sticky in mind (Remembering individual numbers is hard, Retaining the impact of stories is much easier)\n",
    "- Parts of a story:\n",
    "    - Visualization \n",
    "        - Share story in familiar format.\n",
    "        - Strong visualization takes major portion of story\n",
    "        - Share information quickly that is easy to understand and action.\n",
    "        - Focus on trends and pattern over specific details (Audience do not have to struggle to understand what is going on)\n",
    "\n",
    "    - Context \n",
    "        - Shows story as part of larger effort.\n",
    "        - Show audience broader picture\n",
    "        - Focus on what is essential to understand (not everything)\n",
    "        - Unifies data story with business objectives and outcomes\n",
    "\n",
    "    - Narrative \n",
    "        - Gives the data a voice.\n",
    "        - People need to connect with the message to make decisions.\n",
    "        - Explain why insights are significant\n",
    "        - Clearly outline next steps and inspire action\n",
    "\n",
    "<center><img src=\"images/03.05.jpg\"  style=\"width: 400px, height: 300px;\"/></center>\n"
   ]
  },
  {
   "cell_type": "markdown",
   "metadata": {},
   "source": [
    "# Creating a story"
   ]
  },
  {
   "cell_type": "markdown",
   "metadata": {},
   "source": [
    "1. What are we trying to say\n",
    "    - Insight?\n",
    "    - Objective?\n",
    "2. What visualization is best to share our message\n",
    "3. Universal Principles\n",
    "    - Incorperate text\n",
    "    - Utilize color\n",
    "    - Simply visual elements\n",
    "4. Use strong interaction presentation"
   ]
  },
  {
   "cell_type": "markdown",
   "metadata": {},
   "source": [
    "# Example : Real Estate (A gradual Improvement of Story)"
   ]
  },
  {
   "cell_type": "markdown",
   "metadata": {},
   "source": [
    "- Objective : How can Company A improve?\n",
    "- Gather data with a competitor comapany\n",
    "<center><img src=\"images/04.071.jpg\"  style=\"width: 400px, height: 300px;\"/></center>\n",
    "<center><img src=\"images/04.072.jpg\"  style=\"width: 400px, height: 300px;\"/></center>\n",
    "<center><img src=\"images/04.073.jpg\"  style=\"width: 400px, height: 300px;\"/></center>\n",
    "<center><img src=\"images/04.074.jpg\"  style=\"width: 400px, height: 300px;\"/></center>\n",
    "<center><img src=\"images/04.075.jpg\"  style=\"width: 400px, height: 300px;\"/></center>\n",
    "<center><img src=\"images/04.076.jpg\"  style=\"width: 400px, height: 300px;\"/></center>\n",
    "<center><img src=\"images/04.077.jpg\"  style=\"width: 400px, height: 300px;\"/></center>\n",
    "<center><img src=\"images/04.078.jpg\"  style=\"width: 400px, height: 300px;\"/></center>\n",
    "<center><img src=\"images/04.079.jpg\"  style=\"width: 400px, height: 300px;\"/></center>\n"
   ]
  },
  {
   "cell_type": "markdown",
   "metadata": {},
   "source": [
    "# Things to consider before final delivery"
   ]
  },
  {
   "cell_type": "markdown",
   "metadata": {},
   "source": [
    "- Major Roles\n",
    "    - Subject Matter Expert (SME)\n",
    "        - Knows the business problem completely\n",
    "        - Develop narrative (message to convey), giving data story a voice\n",
    "        - Build context (The subject to focus on), relate data story to organizational efforts\n",
    "    - Analyst\n",
    "        - Technical expert in charge of uncovering and supporting insights (Support research feedback)\n",
    "        - Support other roles (Inquiries, Feedback from audience)\n",
    "        - Answer analytical questions (Feasibility check)\n",
    "        - Does not require business expertise\n",
    "    - Visualizer\n",
    "        - Blends art and science to create compelling visuals\n",
    "        - Crafts stunning visualizations (Shows SMEs vision)\n",
    "        - Ensure insights are properly showcased\n",
    "    - Reviewer\n",
    "        - Evaluates the overall data story\n",
    "        - Verifies assumptions\n",
    "        - Gives overall impression of data story\n",
    "        - Acts as a sample audience\n",
    "- Within a group, someone can serve more than one role\n",
    "- Start with any amount of members\n",
    "- Rotate roles and learn collectively"
   ]
  }
 ],
 "metadata": {
  "kernelspec": {
   "display_name": "Python 3.8.11 ('env_py')",
   "language": "python",
   "name": "python3"
  },
  "language_info": {
   "name": "python",
   "version": "3.8.11"
  },
  "orig_nbformat": 4,
  "vscode": {
   "interpreter": {
    "hash": "1e949e87132dd83f1a7623eb88007e3532b03b66b77111be347aa4a383049722"
   }
  }
 },
 "nbformat": 4,
 "nbformat_minor": 2
}
