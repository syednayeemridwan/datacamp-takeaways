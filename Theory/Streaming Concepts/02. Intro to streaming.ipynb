{
 "cells": [
  {
   "cell_type": "markdown",
   "metadata": {},
   "source": [
    "# Previous Days"
   ]
  },
  {
   "cell_type": "markdown",
   "metadata": {},
   "source": [
    "- Common issues with batch processing in old days:\n",
    "    - Shared access\n",
    "    - returned to users with delays\n",
    "    - missing results, etc\n",
    "- Today : PC = single user machine\n",
    "    - still in batched process\n",
    "    - GUI gave rise to event-based interactivity"
   ]
  },
  {
   "cell_type": "markdown",
   "metadata": {},
   "source": [
    "# Event-based computing"
   ]
  },
  {
   "cell_type": "markdown",
   "metadata": {},
   "source": [
    "- Doesnt run at specific time interval\n",
    "- Runs when a specific event occurs \n",
    "    - clicking a button on GUI\n",
    "    - a file finished uploading\n",
    "- A component of a batch process\n",
    "- Basically it is an event-driven batch process that waits for the event to trigger\n",
    "- Example:\n",
    "    - Web based application forms wait for users to submit a form with a button\n",
    "    - Once the form is submitted, client application determines what resources are needed and requests for those resources from the server\n",
    "    - The server then serves the resources via response\n",
    "    - This whole click process may be stored for later analytics"
   ]
  },
  {
   "cell_type": "markdown",
   "metadata": {},
   "source": [
    "# Queuing"
   ]
  },
  {
   "cell_type": "markdown",
   "metadata": {},
   "source": [
    "- Represents a line\n",
    "- Useful for processing tasks in order\n",
    "- FIFO (first-in, first-out)\n",
    "- Sometimes referred as buffer\n",
    "- Can be easily disconnected from the processing pipeline\n",
    "- Easy to scale both vertically or horizontally\n",
    "    - vertically : Adding faster worker\n",
    "    - horizontally  : Adding more worker\n",
    "- Bad data / processing errors slows down the processing (a customer trying to change a product during a payment in queue)\n",
    "- Data size varies (1 customer with 1 item is behind 1 customer with 100 items)\n",
    "- Sometimes difficult to know the length of the queue = difficult to determine the resource to process the incoming requests\n",
    "- Scaling limits\n"
   ]
  },
  {
   "cell_type": "markdown",
   "metadata": {},
   "source": [
    "# Streaming"
   ]
  },
  {
   "cell_type": "markdown",
   "metadata": {},
   "source": [
    "- Data does not stop until processing is finished\n",
    "- Once initially processed, can be part of further pipeline\n",
    "- is open-ended (no specific end event : 1 Gb, 100 GB, or continuous)\n",
    "- is defined by the flow of data\n",
    "- Example 1:\n",
    "    - Log files\n",
    "    - Store event information\n",
    "    - Could be simple text or binary file\n",
    "    - Could be system that export information to multiple clients (Apache kafka)\n",
    "    - Will keep storing information until resources are exhausted\n",
    "- Example 2:\n",
    "    - System Event Log\n",
    "    - Process and Store various system event information\n",
    "    - Present of windows, mac, linux\n",
    "    - Components:\n",
    "        - Listener: Accepts messages\n",
    "        - Parser: Understands how to read messages\n",
    "        - Logic: Decides what to do\n",
    "        - Writer: Stores the messages for later\n"
   ]
  },
  {
   "cell_type": "markdown",
   "metadata": {},
   "source": [
    "# Short Story"
   ]
  },
  {
   "cell_type": "markdown",
   "metadata": {},
   "source": [
    "- Batch Processing : Handling data in groups\n",
    "- Batch size : Number of items processed at a time\n",
    "- Batch frequency : How often items are processed\n",
    "- Queues : \n",
    "    - Store and process data in same order how it receives them (FIFO)\n",
    "    - Behaves like batches with batch size of 1\n",
    "- Attributes of streams:\n",
    "    1. Handles data without pausing\n",
    "    2. No defined end event\n",
    "    3. Maintain order like queues\n",
    "- Best approach:\n",
    "    - depends on  requirements\n",
    "    - group processing = simple batch processing\n",
    "    - order + pause = queue\n",
    "    - continuous data / can't stop + unknown amount + order = streaming"
   ]
  },
  {
   "cell_type": "markdown",
   "metadata": {},
   "source": [
    "# Example : Fire Brigade"
   ]
  },
  {
   "cell_type": "markdown",
   "metadata": {},
   "source": [
    "- Bucket brigade:\n",
    "    - people pass bucket hand to hand to put out the fire\n",
    "    - How fast to put out fire? = bucket size\n",
    "    - How fast to put out fire? = bucket passing latency\n",
    "    - How slow to put out fire? = bigger bucket are slow to pass\n",
    "    - Batch processing (each bucket is a job)\n",
    "- Fire hose:\n",
    "    - people use the water hose to put out fire\n",
    "    - we need water, we do not know how much water is needed to put out fire = unknown amount\n",
    "    - Stream processing (continuous flow of water)\n"
   ]
  }
 ],
 "metadata": {
  "kernelspec": {
   "display_name": "Python 3.8.3 ('base')",
   "language": "python",
   "name": "python3"
  },
  "language_info": {
   "name": "python",
   "version": "3.8.3"
  },
  "orig_nbformat": 4,
  "vscode": {
   "interpreter": {
    "hash": "dc575bfddb5c8ca4bb6a4f4dcdd32abc104b5fa4177361381c432fff36ce3e46"
   }
  }
 },
 "nbformat": 4,
 "nbformat_minor": 2
}
