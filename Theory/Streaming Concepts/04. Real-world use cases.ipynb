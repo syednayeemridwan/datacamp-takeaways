{
 "cells": [
  {
   "cell_type": "markdown",
   "metadata": {},
   "source": [
    "# Streaming Tools"
   ]
  },
  {
   "cell_type": "markdown",
   "metadata": {},
   "source": [
    "- Various tools depending on various needs\n",
    "- Common systems:\n",
    "    - celery:\n",
    "        - distributed task queue (FIFO) (Queue)\n",
    "        - used as job or task queue\n",
    "        - used for asyncronous tasks (that needed to be happened soon)\n",
    "        - sending password reset emails, fulfill digital order etc\n",
    "        - allows for real-time processing for significant amount of messages\n",
    "        - provides functionality for management and scaling (vertical and horizontal)\n",
    "    - kafka\n",
    "        - distributed event-handling system (Batch processing)\n",
    "        - send events between producers and consumers\n",
    "        - Topics : Speial message format. Each topic only contain 1 type of event.\n",
    "        - Producers create events on a topic\n",
    "        - events on a topic created by producers are shared with consumers\n",
    "        - Consumer components receive the events and handle them accordingly\n",
    "        - Different consumers handles different events (logging, transformation, relaying etc)\n",
    "        - keep storeing events as long as storage capacity permits\n",
    "        - extremely powerful\n",
    "        - tricky to set up\n",
    "        - best used for passing data between multiple source and destination systems. Different complex data system architecture requires:\n",
    "            1. Single source of truth\n",
    "            2. Change data capture (CDC)\n",
    "            3. Data Backups\n",
    "            4. Data system migrations\n",
    "    - spark streaming\n",
    "        - process streaming data (Streaming)\n",
    "        - Scala, Python , SQL\n",
    "        - useful for processing large amount of data and machine learning\n",
    "        - transition from batch to stream processing is possible\n",
    "        - not designed to store or log events directly\n",
    "        - primarily used to process or modify / transform the data as it arrives"
   ]
  },
  {
   "cell_type": "markdown",
   "metadata": {},
   "source": [
    "# Example : Streaming Music"
   ]
  },
  {
   "cell_type": "markdown",
   "metadata": {},
   "source": [
    "- More interested on the user of the system\n",
    "    - User interaction\n",
    "    - Music preferences etc\n",
    "    - what did the user do\n",
    "    - when did the user do it\n",
    "    - where in the app did the user do it\n",
    "    - examples: next, previous, skip, like, play, add or remove songs (different interactions)\n",
    "- Storing data:\n",
    "    - archived as log\n",
    "    - sent as interactions occur\n",
    "    - logged data can be analyzed outside of the pipeline\n",
    "- Analytics:\n",
    "    - Detecting most popular active times of the day\n",
    "    - Detecting user's fatv genre, band etc\n",
    "    - Detecting most popular platforms or devices (PC / mobile etc)\n",
    "    - Detecting location data of users"
   ]
  },
  {
   "cell_type": "markdown",
   "metadata": {},
   "source": [
    "# Example : Sensor Data\n"
   ]
  },
  {
   "cell_type": "markdown",
   "metadata": {},
   "source": [
    "- Sensor data : automated devices that monitor some aspect of interest\n",
    "- Devices tend to communicate with centralized services for management and data reporting\n",
    "- can range from a few sensors to a billions\n",
    "- Fast response time\n",
    "- More interested in what are we monitoring\n",
    "    - button press\n",
    "    - movement detection\n",
    "    - sound detection\n",
    "- Require more intensive processing than just logging\n",
    "- Data handling:\n",
    "    - general event data = button press events (As soon as we can, high priority update system)\n",
    "    - time from button press to notification as short as possible\n",
    "    - sensor-based events = alert the user of the changes as desired\n",
    "    - raw data stored for later analysis\n",
    "- Different service can have different SLAs for design"
   ]
  },
  {
   "cell_type": "markdown",
   "metadata": {},
   "source": [
    "# Different Data Processing Methods"
   ]
  },
  {
   "cell_type": "markdown",
   "metadata": {},
   "source": [
    "- Batch processing:\n",
    "    - Great for large sets of data\n",
    "    - Poor latency\n",
    "- Queue:\n",
    "    - Great for maintaining order\n",
    "    - Tricky to manage\n",
    "- Stream:\n",
    "    - Great for latency\n",
    "    - Great for unknown data characteristics\n",
    "    - Complex scaling characteristics"
   ]
  },
  {
   "cell_type": "markdown",
   "metadata": {},
   "source": [
    "# Example : Complex System"
   ]
  },
  {
   "cell_type": "markdown",
   "metadata": {},
   "source": [
    "- Not all process fit in a single processing type\n",
    "- Many real-world scenarios need to combination of different processing methods\n",
    "- Vaccination clinic scenario:\n",
    "    - Arrival / entrance\n",
    "        - Entry and temperature check, with a single line\n",
    "        - queue\n",
    "    - Registration\n",
    "        - Check-in & validation on info, multiple  registrars\n",
    "        - stream processing\n",
    "    - Vaccine administration\n",
    "        - Actual application of vaccine, multiple stations\n",
    "        - stream processing\n",
    "    - Monitoring\n",
    "        - Patients checked for any post-application reactions\n",
    "        - batch processing\n",
    "    - Departure\n",
    "        - Exit from clinic\n",
    "        - stream processing"
   ]
  }
 ],
 "metadata": {
  "kernelspec": {
   "display_name": "Python 3.8.11 ('env_py')",
   "language": "python",
   "name": "python3"
  },
  "language_info": {
   "name": "python",
   "version": "3.8.11"
  },
  "orig_nbformat": 4,
  "vscode": {
   "interpreter": {
    "hash": "1e949e87132dd83f1a7623eb88007e3532b03b66b77111be347aa4a383049722"
   }
  }
 },
 "nbformat": 4,
 "nbformat_minor": 2
}
