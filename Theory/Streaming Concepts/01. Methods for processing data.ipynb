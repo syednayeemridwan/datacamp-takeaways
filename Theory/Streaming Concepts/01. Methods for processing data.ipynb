{
 "cells": [
  {
   "cell_type": "markdown",
   "metadata": {},
   "source": [
    "# Batch Processing"
   ]
  },
  {
   "cell_type": "markdown",
   "metadata": {},
   "source": [
    "- Processing data in groups\n",
    "- Once the process starts, no new data is entered unless the processing is finished\n",
    "- Batches are started \n",
    "    - on interval (hourly, daily, monthly)\n",
    "    - as result of some event (manually initiating process)\n",
    "- batch size : Amount of data in batch that can be processed\n",
    "    - 100 kb of a file\n",
    "    - 1000 images etc.\n",
    "- Job : An instance of batch process\n",
    "- examples:\n",
    "    - reading files or portion of files: mp3, mp4 etc (reading the chunksize)\n",
    "    - sending / receiving messages\n",
    "    - printing :\n",
    "        - a specific print job prints for user A\n",
    "        - another specific print job prints for user B\n",
    "        - Each print job will be completed before starting the other print job\n",
    "        - The job will not overlap causing messy prints.\n",
    "        - This is how batch processing works by completing each job in sequence\n",
    "    "
   ]
  },
  {
   "cell_type": "markdown",
   "metadata": {},
   "source": [
    "# Scaling"
   ]
  },
  {
   "cell_type": "markdown",
   "metadata": {},
   "source": [
    "- Idea of improving performance of processes\n",
    "    - process more quickly (performance)\n",
    "    - same amount of time process more data (by-product)\n",
    "- 2 types:\n",
    "    1. Vertical scaling:\n",
    "        - running processing on better computing platform\n",
    "        - Faster CPU\n",
    "        - Faster IO (SSD over normal HDD)\n",
    "        - easiest way of scaling\n",
    "        - rarely requires changing underlying algorithm\n",
    "        - Inherently limited (max cap of machine improvement at some point)\n",
    "        - Costly, low ROI\n",
    "        - Industry improvements are not guaranteed\n",
    "    2. Horizontal scaling:\n",
    "        - Splitting processing tasks to multiple computers\n",
    "        - More computers (Tasks are divided among workers)\n",
    "        - More CPUs / cores\n",
    "        - Complex. \n",
    "            - Requires frameworks like Spark, Dask\n",
    "            - Requires extensive network connectivity \n",
    "        - Best with tasks that are embarrassingly parallel\n",
    "        - Requires changes in underlying algorithm\n",
    "        - Some tasks cannot be scaled horizontally (sequential tasks that depend on completion of previous tasks to work in order)\n",
    "        - Normally cost effective\n",
    "            - can get expensive depending on requirements\n",
    "        - Near-linear performance improvements   \n"
   ]
  },
  {
   "cell_type": "markdown",
   "metadata": {},
   "source": [
    "# Problems"
   ]
  },
  {
   "cell_type": "markdown",
   "metadata": {},
   "source": [
    "- Delays : Amount of time spent in any portion of processing of a batch\n",
    "- 4 types:\n",
    "\n",
    "1. Time to ready the data to process / collect data\n",
    "    - Is all required data available?\n",
    "    - Example: Sending log files to machines for processing (When machine is heavily used, this sending process takes more time)\n",
    "2. Time to start the process / updating system\n",
    "    - When does the next interval start?\n",
    "    - Example: The next processing will start tomorrow (Even if everything is ready, process will not start until tomorrow)\n",
    "3. Time to complete the process / process data\n",
    "    - How long until completion of the process?\n",
    "    - Example: Each day 5 GB of new data. Next day processing requires cumulative size: 10 GB. Time increases for each passing day to process the data\n",
    "4. Time to make processed data available for use (generate report)\n",
    "    - How long until users can use the data? (amount of time required to copy data to final data store)\n",
    "    - Example : Report must wait until all the analytics are done and result comes out. (Give a model to classify an image. Certain time is required to finish the classification task and generate result)\n",
    "- Minimum time is SUM of:\n",
    "    - Amount of time to collect / prepare data: 1 day\n",
    "    - Time required to process data: 7 hrs\n",
    "    - Time to update systems: 5 hrs\n",
    "    - Time to generate report: 2 min\n"
   ]
  }
 ],
 "metadata": {
  "kernelspec": {
   "display_name": "Python 3.8.11 ('env_py')",
   "language": "python",
   "name": "python3"
  },
  "language_info": {
   "name": "python",
   "version": "3.8.11"
  },
  "orig_nbformat": 4,
  "vscode": {
   "interpreter": {
    "hash": "1e949e87132dd83f1a7623eb88007e3532b03b66b77111be347aa4a383049722"
   }
  }
 },
 "nbformat": 4,
 "nbformat_minor": 2
}
