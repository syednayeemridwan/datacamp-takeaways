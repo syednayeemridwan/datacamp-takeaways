{
 "cells": [
  {
   "cell_type": "markdown",
   "metadata": {},
   "source": [
    "# Real-time"
   ]
  },
  {
   "cell_type": "markdown",
   "metadata": {},
   "source": [
    "- Depends on context\n",
    "- Defines a response timeframe capacity\n",
    "- Limited by resources:\n",
    "    - How quickly data is transported (Speed of transport)\n",
    "    - How quickly data is processed (Processing latency)\n",
    "    - How quickly data is delivered to end users (Delivery time)\n",
    "    - How much does it cost (Data Storage + Cost of processes)\n",
    "- Response timeframe is a guarantee\n",
    "- Cost is proportional to response timeframe\n",
    "- Could be (1 day, 1 hour, 1 sec or even shorted)\n",
    "- Example : \n",
    "    - BD passport renew facility\n",
    "    - 3 types of services (regular, express, super-express)\n",
    "    - super-express takes 100 passports a day\n",
    "    - what happens if it takes 200 passport requests? (Only so much capacity for faster service)\n",
    "    - Cost is proportional to service speed (super-express is thrice the amount of regular)\n"
   ]
  },
  {
   "cell_type": "markdown",
   "metadata": {},
   "source": [
    "# Scaling"
   ]
  },
  {
   "cell_type": "markdown",
   "metadata": {},
   "source": [
    "- Processing same amount of data in less time\n",
    "- Processing more amount of data in same amount of time\n",
    "- Delivering data more quickly  (Reducing latency in transport or delivery)\n",
    "- Meet guarantees (SLAs = Service-level agreement)\n",
    "- Vertical Scaling:\n",
    "    - Improving capabilities of a single system\n",
    "    - Faster / Better components\n",
    "    - Faster / Better executions (CPU / GPU improvement on performance)\n",
    "    - Affect streaming performance\n",
    "        - dont stop until complete (log data will not exit pipeline until written to disk)\n",
    "        - total processing capacity is limited by system performance irrespective of pipeline\n",
    "        - certain components have greater effect than other depending on workload\n",
    "        - Benchmarking and testing required before specific upgrade\n",
    "    - example: GPU helps with large matrix operations (gaming, machine learning etc)\n",
    "- Horizontal Scaling:\n",
    "    - Improving capabilities by adding more systems\n",
    "    - More / Multiple components\n",
    "    - Works best for embarrassingly parrallel situation:\n",
    "        - tasks that can be easilty split among workers\n",
    "    - Streaming this way typically has minimal delays\n",
    "    - Transfer of data between workers is tricky (There will be delay in pipeline if we do this)\n",
    "    - When co-ordinating multiple systems, there is state-handling time, which introduce delays\n",
    "        - Best to process full stream within a single pipeline (lesser co-ordination = lesser delay)\n",
    "    - create copies of pipelines\n",
    "        - event occur = enter a pipeline\n",
    "        - all tasks related to a single process = a pipeline for that process\n",
    "        - scale by adding more pipelines\n",
    "        - Vertically scale within a pipeline\n",
    "    - example: GPU helps with large matrix operations (gaming, machine learning etc)\n",
    "\n",
    "    - Additional consideration\n",
    "        - Other components may be required\n",
    "        - Load balancer / director component (All rounder node: card-dealer, least busy node)\n",
    "        - Eventually hit bottlenecks (writing to the disk performance)\n",
    "            - Shorten the streaming pipelines (Remove need to immediately process data)"
   ]
  },
  {
   "cell_type": "markdown",
   "metadata": {},
   "source": [
    "# Stream processing concerns"
   ]
  },
  {
   "cell_type": "markdown",
   "metadata": {},
   "source": [
    "- Slow / lack of resources can cause drastic issues with performance\n",
    "- More nodes = more issues\n",
    "    - more connectivity\n",
    "    - some form of shared resources\n",
    "    - added complexity\n",
    "    - workload management necessary\n",
    "- Communication issues:\n",
    "    - missing messages\n",
    "        - events that never appear on stream\n",
    "        - due to resource lacking , network connectivity etc\n",
    "        - difficult to detect\n",
    "        - sometimes handled with sequence identifier\n",
    "        - requesting missing messages = added delay (delay further processes)\n",
    "    - delayed messages\n",
    "        - events that take longer than expected\n",
    "        - may cause issues in pipeline due to delay (throughput is affected)\n",
    "        - often related to system resource issues\n",
    "    - out of order messages\n",
    "        - combination of missing / delayed messages\n",
    "        - occurs when older messages appear after newer messages\n",
    "        - requires sequence or state tracking to detect\n",
    "        - Handling these depend on type of data processing to be used\n",
    "            - sometimes these are dropped (for audio-video apps)\n",
    "            - sometimes these are re-ordered for verification (for logs, order-centered apps)\n",
    "        \n",
    "    - repeat messages\n",
    "        - same message sent multiple times\n",
    "        - often due to system issues\n",
    "        - requires sequence handling to completely avoid \n",
    "        - Sometimes it is not an issue (safe to ignore)\n"
   ]
  }
 ],
 "metadata": {
  "kernelspec": {
   "display_name": "Python 3.8.11 ('env_py')",
   "language": "python",
   "name": "python3"
  },
  "language_info": {
   "name": "python",
   "version": "3.8.11"
  },
  "orig_nbformat": 4,
  "vscode": {
   "interpreter": {
    "hash": "1e949e87132dd83f1a7623eb88007e3532b03b66b77111be347aa4a383049722"
   }
  }
 },
 "nbformat": 4,
 "nbformat_minor": 2
}
