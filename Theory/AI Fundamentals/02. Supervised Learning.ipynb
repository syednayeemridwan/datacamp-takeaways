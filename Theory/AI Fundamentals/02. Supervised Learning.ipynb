{
 "cells": [
  {
   "cell_type": "markdown",
   "metadata": {},
   "source": [
    "# Classification"
   ]
  },
  {
   "cell_type": "markdown",
   "metadata": {},
   "source": [
    "- Inputs: numerical, categorical\n",
    "- Targets: predict only categorical values\n",
    "- Intuition: Creating the \"category boxes\" based on training data.\n",
    "- Decision Boundary = There are separation boundary that identifies the classes\n",
    "- Common models:\n",
    "    - `from sklearn.tree import DecisionTreeClassifier`\n",
    "    - `from sklearn.linear_model import LogisticRegression`\n",
    "    - `from sklearn.svm import SVC`\n",
    "    - `from sklearn.ensemble import RandomForestClassifier`"
   ]
  },
  {
   "cell_type": "markdown",
   "metadata": {},
   "source": [
    "# Regression"
   ]
  },
  {
   "cell_type": "markdown",
   "metadata": {},
   "source": [
    "- Inputs: numerical, categorical\n",
    "- Targets: predict only numerical values\n",
    "- Intuition: Creating the best continuous value based on training data.\n",
    "- line / Curve fitting = It tries to create a line that goes along data points as much as possible\n",
    "- Common models:\n",
    "    - `from sklearn.linear_model import LinearRegression`\n",
    "    - `from sklearn.linear_model import Lasso`\n",
    "    - `from sklearn.linear_model import Ridge`"
   ]
  },
  {
   "cell_type": "markdown",
   "metadata": {},
   "source": [
    "# Training and evaluating Classification Model"
   ]
  },
  {
   "cell_type": "markdown",
   "metadata": {},
   "source": [
    "- Never judge a model with its own training data\n",
    "- Hold-out method : Before training the model, separate some portion (40%) of the dataset \n",
    "- Train the model with 60% of data\n",
    "- Measure the goodness of the model with 40% of the unseen data (held-out set)\n",
    "- use `from sklearn.model_selection import train_test_split` for splitting"
   ]
  },
  {
   "cell_type": "code",
   "execution_count": 2,
   "metadata": {},
   "outputs": [],
   "source": [
    "# # Import necessary packages\n",
    "# from sklearn.ensemble import RandomForestClassifier\n",
    "\n",
    "# # Use a custom model configuration/hyper-parameters\n",
    "# model = RandomForestClassifier(n_estimators=500, max_depth=20)\n",
    "\n",
    "# # Start the training procedure\n",
    "# model.fit(X_train, y_train)\n",
    "\n",
    "# # Generate Predictions\n",
    "# y_predicted = model.predict(X_test)\n",
    "\n",
    "# # Compare predictions with original data: Is y_predicted == y_true ?\n",
    "# from sklearn.metrics import confusion_matrix\n",
    "# confusion_matrix(y_test, y_predicted)\n",
    "\n",
    "# # Estimate each metric\n",
    "# from sklearn.metrics import accuracy_score, precision_score, recall_score\n",
    "# accuracy_score(y_true, y_predicted)\n",
    "# precision_score(y_true, y_predicted)\n",
    "# recall_score(y_true, y_predicted)"
   ]
  },
  {
   "cell_type": "markdown",
   "metadata": {},
   "source": [
    "# Confusion Matrix for Classification"
   ]
  },
  {
   "cell_type": "markdown",
   "metadata": {},
   "source": [
    "<center><img src=\"images/01.jpg\"  style=\"width: 200px, height: 200px;\"/></center>\n",
    "<center><img src=\"images/02.jpg\"  style=\"width: 200px, height: 200px;\"/></center>\n"
   ]
  },
  {
   "cell_type": "markdown",
   "metadata": {},
   "source": [
    "# Training and evaluating Regression Model\n"
   ]
  },
  {
   "cell_type": "markdown",
   "metadata": {},
   "source": [
    "- line or surface fitted closely to the data, not separating it into regions. Goes non-linear by:\n",
    "    - Input features: (a, b)\n",
    "    - Output features: (1, a, b, a^2, a*b, b^2)\n",
    "    ```\n",
    "    from sklearn.preprocessing import PolynomialFeatures\n",
    "    poly = PolynomialFeatures(degree=2)\n",
    "    polynomial_X_train = poly.fit_transform(X_train)\n",
    "    model.fit(polynomial_X_train, y_train)\n",
    "    ```\n",
    "- Hold-out method : Before training the model, separate some portion (40%) of the dataset \n",
    "- Train the model with 60% of data\n",
    "- Measure the goodness of the model with 40% of the unseen data (held-out set) with Mean Absolute Error (MAE), Root Mean Squared Error (RMSE).\n",
    "- use `from sklearn.model_selection import train_test_split` for splitting"
   ]
  },
  {
   "cell_type": "markdown",
   "metadata": {},
   "source": [
    "# Error Metric for Classification (MAE or RMSE)\n"
   ]
  },
  {
   "cell_type": "markdown",
   "metadata": {},
   "source": [
    "- Error is in continuous value\n",
    "- Always will be error, but we measure \"how much error\"\n",
    "- We need absolute value to determine mean error, which is Mean Absolute Error (otherwise positive and negative errors will cancel each other)\n",
    "- If there are spikes in error, it is good to use Median Absolute Error \n",
    "- Another way, all errors are squared and then summed. The summation is then root-squared. This is root mean squared error. \n",
    "-  R^2 score is a nice and simple measure of goodness-of-fit which is used for unitless error measurement\n"
   ]
  },
  {
   "cell_type": "markdown",
   "metadata": {},
   "source": [
    "<center><img src=\"images/03.jpg\"  style=\"width: 200px, height: 200px;\"/></center>\n"
   ]
  },
  {
   "cell_type": "code",
   "execution_count": 4,
   "metadata": {},
   "outputs": [],
   "source": [
    "# # Import necessary packages\n",
    "# from sklearn.preprocessing import PolynomialFeatures\n",
    "\n",
    "# # Use a custom model configuration/hyper-parameters\n",
    "# poly = PolynomialFeatures(degree=2)\n",
    "# polynomial_X_train = poly.fit_transform(X_train)\n",
    "\n",
    "# # Start the training procedure\n",
    "# model.fit(polynomial_X_train, y_train)\n",
    "\n",
    "# # Generate Predictions\n",
    "# polynomial_X_test = poly.fit_transform(X_test)\n",
    "# y_predicted = model.predict(polynomial_X_test)\n",
    "\n",
    "# # Compare predictions with original data: how much far is point from regression line ?\n",
    "# # Mean absolute error; range: [-Inf..+Inf]\n",
    "# from sklearn.metrics import mean_absolute_error\n",
    "# # Median absolute error; range: [-Inf..+Inf]\n",
    "# from sklearn.metrics import median_absolute_error\n",
    "# # R^2 (coefficient of determination); range: [0..1]\n",
    "# from sklearn.metrics import r2_score\n",
    "\n",
    "# # Estimate each metric\n",
    "# mean_absolute_error(y_test, y_predicted)\n",
    "# median_absolute_error(y_test, y_predicted)\n",
    "# r2_score(y_test, y_predicted)"
   ]
  }
 ],
 "metadata": {
  "kernelspec": {
   "display_name": "Python 3.8.3 ('base')",
   "language": "python",
   "name": "python3"
  },
  "language_info": {
   "codemirror_mode": {
    "name": "ipython",
    "version": 3
   },
   "file_extension": ".py",
   "mimetype": "text/x-python",
   "name": "python",
   "nbconvert_exporter": "python",
   "pygments_lexer": "ipython3",
   "version": "3.8.3"
  },
  "orig_nbformat": 4,
  "vscode": {
   "interpreter": {
    "hash": "dc575bfddb5c8ca4bb6a4f4dcdd32abc104b5fa4177361381c432fff36ce3e46"
   }
  }
 },
 "nbformat": 4,
 "nbformat_minor": 2
}
