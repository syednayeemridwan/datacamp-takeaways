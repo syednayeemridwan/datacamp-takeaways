{
 "cells": [
  {
   "cell_type": "markdown",
   "metadata": {},
   "source": [
    "# AI"
   ]
  },
  {
   "cell_type": "markdown",
   "metadata": {},
   "source": [
    "- General AI (aka \"strong AI\")\n",
    "    - Still only science-fiction (mimics human intelligence)\n",
    "- Narrow AI (aka \"weak AI\")\n",
    "    - 99% of AI\n",
    "    - One-trick horse (Works on a single purpose. Chess player cannot play tic-tac-toe)\n",
    "    - a.k.a. Machine Learning (mathematics)\n",
    "- Deep Learning < Machine Learning < Artificial Intelligence"
   ]
  },
  {
   "cell_type": "markdown",
   "metadata": {},
   "source": [
    "# Model"
   ]
  },
  {
   "cell_type": "markdown",
   "metadata": {},
   "source": [
    "- A simplified representation of a process or a system (eg: Toy car mimicing real car)\n",
    "- Complexity and accuracy requirements defined by the application (eg: Self driving car)\n",
    "- Building Process:\n",
    "    1. Define the problem (clear and concise)\n",
    "        - why / what is the point? (solution to manual repititive task)\n",
    "        - How will it help ? (freeing up resources that can be used for more complex work)\n",
    "        - How to measure success / failure ? (how many hours of work was saved)\n",
    "    2. Collect the data\n",
    "    3. Configure & fit the model\n",
    "        - Specify the technical problem\n",
    "        - Select the model type\n",
    "        - Select the specific algorithm\n",
    "        - fitting = mathematical optimization\n",
    "        - Fitting ingredients:\n",
    "            1. Optimization algorithm\n",
    "            2. Cost function\n",
    "            3. Data\n",
    "        - Model parameters:\n",
    "            - parameters learned by the model in fitting process\n",
    "            - co-efficients\n",
    "        - Hyperparameters:\n",
    "            - defined prior to fitting\n",
    "            - how many clusters do you want\n",
    "            - model tuning : Searching for best hyperparameters\n",
    "    4. Performance evaluation\n",
    "        - Is the model understanding it properly? (not understanding = underfitting)\n",
    "        - Is the model just memorizing it? (overfitting)\n",
    "        - Use 60% of data for training\n",
    "        - Use 40% of data for testing\n",
    "        - compare original output with test output to evaluate accuracy\n",
    "    4. Use it!"
   ]
  },
  {
   "cell_type": "markdown",
   "metadata": {},
   "source": [
    "# Machine Learning Flavors"
   ]
  },
  {
   "cell_type": "markdown",
   "metadata": {},
   "source": [
    "1. Supervised Learning :\n",
    "    - Mostly used\n",
    "    - Labeled data\n",
    "    - 2 problem types:\n",
    "        1. Regression : \n",
    "            - Output is quantity\n",
    "            - eg: price, length etc\n",
    "            - Models : Linear, Lasso, Ridge, ARIMA\n",
    "        2. Classification : \n",
    "            - Output is category\n",
    "            - eg: positive or negative, mail or female\n",
    "            - Models : Logistic, GaussianNB, DecisionTreeClassifier, RandomForestClassifier\n",
    "    - eg: Performance prediction, Risk modeling etc.\n",
    "\n",
    "2. Unsupervised Learning :\n",
    "    - Unlabeled data\n",
    "    - Goal is finding groups of similar patterns (clustering = Model discovers groups on its own.)\n",
    "    - Anomaly Detection\n",
    "    - Dimensionality Reduction (High dimension dataset is represented in simplified way)\n",
    "        - For reducing complexity\n",
    "        - Visualize high dimensional data in 2D\n",
    "        - Minimize overfitting\n",
    "    - Only input relationships examined.\n",
    "    - Classification problem\n",
    "    - Each group is a class\n",
    "    - Models: \n",
    "        - Clustering : K-Means, MeanShift, DBSCAN\n",
    "        - Dimensionality Reduction : PCA, Isomap\n",
    "        - Anomaly detection : IsolationForest\n",
    "\n",
    "3. Reinforcement Learning :\n",
    "    - An agent interact with environment (\"Learning by doing\")\n",
    "    - Outcome of the event (\"Reward and punishment\")\n",
    "    - Optimize the success criteria\n"
   ]
  }
 ],
 "metadata": {
  "kernelspec": {
   "display_name": "Python 3.8.11 ('env_py')",
   "language": "python",
   "name": "python3"
  },
  "language_info": {
   "name": "python",
   "version": "3.8.11"
  },
  "orig_nbformat": 4,
  "vscode": {
   "interpreter": {
    "hash": "1e949e87132dd83f1a7623eb88007e3532b03b66b77111be347aa4a383049722"
   }
  }
 },
 "nbformat": 4,
 "nbformat_minor": 2
}
