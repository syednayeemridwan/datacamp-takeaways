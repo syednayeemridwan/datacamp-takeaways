{
 "cells": [
  {
   "cell_type": "markdown",
   "metadata": {},
   "source": [
    "# Deep learning"
   ]
  },
  {
   "cell_type": "markdown",
   "metadata": {},
   "source": [
    "- Machine Learning based on Neural Networks\n",
    "- Basic unit: neurons (nodes)\n",
    "- Requires more data\n",
    "- Requires more processing power\n",
    "- Neural networks are much larger\n",
    "- Deep learning: neural network with many neurons\n",
    "- Can solve complex problems\n",
    "- Best when inputs are images or text\n",
    "- Can be used to cover lack of domain knowledge\n",
    "- Automatic feature extraction"
   ]
  },
  {
   "cell_type": "markdown",
   "metadata": {},
   "source": [
    "# Computer vision"
   ]
  },
  {
   "cell_type": "markdown",
   "metadata": {},
   "source": [
    "- Helps computers see and understand the content of digital images\n",
    "- Images are made up of pixels of different color and intensity.\n",
    "- each pixel's intensity can be represented with value within range of 0 to 255\n",
    "- each pixel represent a feature\n",
    "- color image has 3 channels (RGB) to represent data. Grayscale has 1\n",
    "- Images are a bunch of numbers in a table. These numbers can be used as features in a DL model.\n",
    "- There are multiple layer of neurons\n",
    "- Earlier layers/stages learn to detect edges, then part of objects, and finally shapes\n",
    "- End network put all of these together to detect the final outcome.\n",
    "- The neurons figure out the learning itself. How it learns remains a blackbox. "
   ]
  },
  {
   "cell_type": "markdown",
   "metadata": {},
   "source": [
    "# Natural Language Processing (NLP)"
   ]
  },
  {
   "cell_type": "markdown",
   "metadata": {},
   "source": [
    "- The ability for computers to understand the meaning of human language.\n",
    "- Different algorithms:\n",
    "    - Bag of words: \n",
    "        - Count the frequency of important words in a document. uses n-grams\n",
    "        - n-grams : Counting sequence of consecutive n-words in a sentenct / text.\n",
    "        - limitation : Does not consider synonyms.\n",
    "        - solution: Word-embeddings (creating features for similar words )\n",
    "    - Word embedding features have a mathematical meaning: king - man + woman = queen\n",
    "    - NLP process:\n",
    "        - Map words / sentence to numbers with Bag of Words or Word embeddings\n",
    "        - pass them to neural network\n",
    "        - get output\n"
   ]
  },
  {
   "cell_type": "markdown",
   "metadata": {},
   "source": [
    "# Limits of machine learning"
   ]
  },
  {
   "cell_type": "markdown",
   "metadata": {},
   "source": [
    "- Data quality :\n",
    "    - Bad input will produce bad output (A machine learning model is only as good as the data you give it)\n",
    "    - Don't blindly trust your model\n",
    "    - Awareness is key\n",
    "- Quality assurance:\n",
    "    - Data analysis :\n",
    "        - Distribution\n",
    "        - Source\n",
    "        - Relevance\n",
    "    - Review of outliers :\n",
    "        - Exceptions\n",
    "        - Anything suspicious\n",
    "    - Domain expertise :\n",
    "        - From experts to explain unexpected data patterns\n",
    "    - Documentation :\n",
    "        - Process should be transparent and repeatable\n",
    " - Explainability:\n",
    "    - Increase trust, clarity, and understanding of model\n",
    "    - Better bias detection\n",
    "    - Use cases: business adoption, regulatory oversight     \n",
    "    - Black Box (Deep learning): Highly accurate but little understanding on why this was the case.\n",
    "    - Explainable AI (Traditional Machine Learning ):  Which features are more important predictors"
   ]
  }
 ],
 "metadata": {
  "kernelspec": {
   "display_name": "Python 3.8.11 ('env_py')",
   "language": "python",
   "name": "python3"
  },
  "language_info": {
   "name": "python",
   "version": "3.8.11"
  },
  "orig_nbformat": 4,
  "vscode": {
   "interpreter": {
    "hash": "1e949e87132dd83f1a7623eb88007e3532b03b66b77111be347aa4a383049722"
   }
  }
 },
 "nbformat": 4,
 "nbformat_minor": 2
}
