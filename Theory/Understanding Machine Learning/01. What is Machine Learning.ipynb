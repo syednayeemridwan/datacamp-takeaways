{
 "cells": [
  {
   "cell_type": "markdown",
   "metadata": {},
   "source": [
    "# Artificial intelligence"
   ]
  },
  {
   "cell_type": "markdown",
   "metadata": {},
   "source": [
    "- set of tools for making computers behave intelligently"
   ]
  },
  {
   "cell_type": "markdown",
   "metadata": {},
   "source": [
    "# Machine learning"
   ]
  },
  {
   "cell_type": "markdown",
   "metadata": {},
   "source": [
    "- the most prevalent subset of AI\n",
    "- A set of tools for making inferences and predictions from data\n",
    "- Predict future events : Estimating event probability\n",
    "- Infer Knowledge : the causes of events and behaviors\n",
    "- Infer patterns : Based on combination of factors\n",
    "- Interdisciplinary mix of statistics and computer science\n",
    "- Ability to learn without being explicitly programmed\n",
    "- Learn patterns from existing data and applies it to new data\n",
    "- Relies on high-quality data"
   ]
  },
  {
   "cell_type": "markdown",
   "metadata": {},
   "source": [
    "# Data science"
   ]
  },
  {
   "cell_type": "markdown",
   "metadata": {},
   "source": [
    "- making discoveries andcreating insights from data\n",
    "- Machine learning is often an important tool for data science work\n",
    "- Encompasses a portion of AI and ML"
   ]
  },
  {
   "cell_type": "markdown",
   "metadata": {},
   "source": [
    "# Machine learning model"
   ]
  },
  {
   "cell_type": "markdown",
   "metadata": {},
   "source": [
    "- A statistical representation of a real-world process based on data\n",
    "- New Input -> Model -> Outcome"
   ]
  },
  {
   "cell_type": "markdown",
   "metadata": {},
   "source": [
    "# Types of ML"
   ]
  },
  {
   "cell_type": "markdown",
   "metadata": {},
   "source": [
    "3 Types:\n",
    "- Reinforcement learning : \n",
    "    - Used for deciding sequential actions\n",
    "    - Uses complex mathematics. eg: Game Theory\n",
    "    - Robot deciding next move in chess\n",
    "- Supervised learning\n",
    "    - Used labeled dataset for training\n",
    "    - Labeled feature is called target feature\n",
    "    - Each observation in a table is a piece of information the model learns from. So the more observation, the more learning opportunity for the model.\n",
    "    - Other columns are features that might be of help to explain / predict target feature\n",
    "    - After training is finished, we get a model. We give this model new input with features to get the target feature of this input.\n",
    "- Unsupervised learning\n",
    "    - Training data only has features. There is no target feature.\n",
    "    - No labels\n",
    "    - model is unsupervised and finds its own patterns\n",
    "    - Useful for:\n",
    "        - Anomaly detection\n",
    "        - Clustering, e.g., dividing data into groups"
   ]
  },
  {
   "cell_type": "markdown",
   "metadata": {},
   "source": [
    "# Model Training"
   ]
  },
  {
   "cell_type": "markdown",
   "metadata": {},
   "source": [
    "- Training data: existing data to learn from\n",
    "- Training a model: when a model is being built from training data\n",
    "- Training Time : depends on dataset size it is being fed (Can take nanoseconds to weeks)"
   ]
  },
  {
   "cell_type": "markdown",
   "metadata": {},
   "source": [
    "# Machine learning workflow"
   ]
  },
  {
   "cell_type": "markdown",
   "metadata": {},
   "source": [
    "1. Extract features : From raw data (Clean it if necessary)\n",
    "    - Choosing features \n",
    "    - manipulating the dataset\n",
    "2. Split dataset : Into 2 sets. (Training set + Testing set)\n",
    "3. Training Model : Train the model with training set. You will get a trained model.\n",
    "4. Evaluating Model : Use test set on trained model to evaluate if the performance metric (eg: average percentage, accuracy etc) is around same in both training and testing set.\n",
    "5. Re-iterating Workflow: \n",
    "    - Is performance good ?\n",
    "    - If yes, the model is ready to use \n",
    "    - If No, return to the model training phase and re-train after tuning (change the model's options, add/remove features) . \n",
    "    - If still No, gather more data. "
   ]
  }
 ],
 "metadata": {
  "kernelspec": {
   "display_name": "Python 3.8.11 ('env_py')",
   "language": "python",
   "name": "python3"
  },
  "language_info": {
   "name": "python",
   "version": "3.8.11"
  },
  "orig_nbformat": 4,
  "vscode": {
   "interpreter": {
    "hash": "1e949e87132dd83f1a7623eb88007e3532b03b66b77111be347aa4a383049722"
   }
  }
 },
 "nbformat": 4,
 "nbformat_minor": 2
}
