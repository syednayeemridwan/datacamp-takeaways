{
 "cells": [
  {
   "cell_type": "markdown",
   "metadata": {},
   "source": [
    "# Supervised learning"
   ]
  },
  {
   "cell_type": "markdown",
   "metadata": {},
   "source": [
    "- Using labeled data for machine learning\n",
    "- 2 types:\n",
    "    - Classification:\n",
    "        - Assigning category to an observation\n",
    "        - Predicting a discrete variable (a few different values)\n",
    "        - Target variable is the discrete category\n",
    "        - Different classifier algorithms (eg: SVM for linear, SVM for polynomial )\n",
    "\n",
    "    - Regression:\n",
    "        - assigning a continuous variable\n",
    "        - Predicting a real number\n",
    "        - Different regression lines \n",
    "        - Target variable has any value within a finite (height) or infinite (time) interval"
   ]
  },
  {
   "cell_type": "markdown",
   "metadata": {},
   "source": [
    "# Unsupervised learning"
   ]
  },
  {
   "cell_type": "markdown",
   "metadata": {},
   "source": [
    "- No target column\n",
    "- Looks at the whole dataset\n",
    "- Tries to detect pattern without guidance\n",
    "- Different types:\n",
    "    - Clustering : \n",
    "        - Identify groups in a dataset\n",
    "        - Observation in same groups share strong similarities in themselves\n",
    "        - Model won't tell how it decides on the clusters\n",
    "        - Different algorithms: K-means (You need to specify how many clusters you want), sDBSCAN (You need to specify what constitues a cluster. eg: minimum no of observation in a cluster)\n",
    "    - Anomaly detection : \n",
    "        - detecting outliers\n",
    "        - observations that di(er from the rest\n",
    "    - Association : \n",
    "        - Finding relationships between observations\n",
    "        - Finding events that happens together\n",
    "        - eg: Market basket analysis"
   ]
  },
  {
   "cell_type": "markdown",
   "metadata": {},
   "source": [
    "# Evaluation"
   ]
  },
  {
   "cell_type": "markdown",
   "metadata": {},
   "source": [
    "- Classification evaluation : Overfitting \n",
    "    - Performs great on training data\n",
    "    - Performs poorly on testing data\n",
    "    - Model memorized training data and can't understand new data\n",
    "    - Determine performance metric (Accuracy is not always the best metric)\n",
    "    - Better metric: from Confusion metric to get Sensitivity (Rather mark a normal person having cancer than a cancer patient be healthy) or Specificity (Rather send spam to inbox than send real emails to the spam folder)\n",
    "    - Use testing set to check if model performance metric is around same in both training and testing data\n",
    "- Regression evaluation:    \n",
    "    - Error = distance between point (actual value) and line (predicted value)\n",
    "    - Different metric to calculate error: RMS\n",
    "- Unsupervised learning evaluation:\n",
    "    - Does not have predicted variables\n",
    "    - No way to evaluate\n",
    "    - Depends on how well the problem is solved\n",
    "    - Assessment is based on how well the objective was achieved    "
   ]
  },
  {
   "cell_type": "markdown",
   "metadata": {},
   "source": [
    "# Improving performance"
   ]
  },
  {
   "cell_type": "markdown",
   "metadata": {},
   "source": [
    "- Dimensionality reduction:\n",
    "    - Reducing number of features\n",
    "    - Irrelevant features are deduced\n",
    "    - Highly correlated features add more importance on similar information. So reduce them to keep only 1.\n",
    "    - Collapse multiple features into one underlying feature\n",
    "- Hyperparameter tuning:\n",
    "    - Different values of parameters for an ML algorithm\n",
    "    - SVM algorithm hyperparameters: C, degree, gamma etc\n",
    "- Ensemble methods:\n",
    "    - Technique to combine several models into one optimized model\n",
    "    - Works both for classification and regression"
   ]
  }
 ],
 "metadata": {
  "kernelspec": {
   "display_name": "Python 3.8.11 ('env_py')",
   "language": "python",
   "name": "python3"
  },
  "language_info": {
   "name": "python",
   "version": "3.8.11"
  },
  "orig_nbformat": 4,
  "vscode": {
   "interpreter": {
    "hash": "1e949e87132dd83f1a7623eb88007e3532b03b66b77111be347aa4a383049722"
   }
  }
 },
 "nbformat": 4,
 "nbformat_minor": 2
}
