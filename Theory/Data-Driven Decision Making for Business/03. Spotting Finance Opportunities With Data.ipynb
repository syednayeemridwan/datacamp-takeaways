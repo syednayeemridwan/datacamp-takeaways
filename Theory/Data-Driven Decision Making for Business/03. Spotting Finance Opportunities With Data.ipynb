{
 "cells": [
  {
   "cell_type": "markdown",
   "metadata": {},
   "source": [
    "# Traditional Markets"
   ]
  },
  {
   "cell_type": "markdown",
   "metadata": {},
   "source": [
    "- Infrastructure where parties exchange goods. eg:\n",
    "    - Stock Markets\n",
    "    - Bond Markets\n",
    "    - Housing/Mortgages\n",
    "    - Commodities: gold/silver etc\n",
    "    - Crop Futures: corn/soybean\n",
    "    - Consumer Credit"
   ]
  },
  {
   "cell_type": "markdown",
   "metadata": {},
   "source": [
    "# Investment strategies"
   ]
  },
  {
   "cell_type": "markdown",
   "metadata": {},
   "source": [
    "- Belief-based investing\n",
    " - Buy the companies you believe will perform well or want to support\n",
    "\n",
    "- High-frequency trading\n",
    " - Highly automated\n",
    " - No human in the loop\n",
    " - Need speed, volume, and volatility to succeed\n",
    " - Jump you in line and make money on your stock order\n",
    " - Requires servers close to the market's data centers\n",
    "\n",
    "- Financial fundamentals\n",
    " - Buy the companies demonstrating financial indicator strength (cash flow, revenue, dividends)\n",
    "\n",
    "- Technical trading rules\n",
    " - Based on mathematical indications\n",
    " - Non-financial indicators \n",
    " - MACD or RSI\n"
   ]
  },
  {
   "cell_type": "markdown",
   "metadata": {},
   "source": [
    "# Capital Asset Pricing Model (CAPM)"
   ]
  },
  {
   "cell_type": "markdown",
   "metadata": {},
   "source": [
    "```\n",
    "Expected return of investment (ER) =\n",
    "Risk free rate + (Beta * (Expected market return - Risk free rate))\n",
    "```\n",
    "\n",
    "- Risk-reward model\n",
    "- Beta (risk of the investment): how a stock moves with respect to the market\n",
    "- Beta between 0-1: stock is less volatile than the market\n",
    "- Beta > 1: stock is more volatile than the market\n",
    "- Risk free rate: rate of return for an investment that never defaults (In practice: 3-month US Treasury bill's interest rate minus inflation)"
   ]
  },
  {
   "cell_type": "markdown",
   "metadata": {},
   "source": [
    "<center><img src=\"images/09.jpg\"  style=\"width: 400px, height: 300px;\"/></center>\n"
   ]
  },
  {
   "cell_type": "markdown",
   "metadata": {},
   "source": [
    "# Other Asset Investing"
   ]
  },
  {
   "cell_type": "markdown",
   "metadata": {},
   "source": [
    "- `Fixed Cost + Variable Costs = Total Costs`\n",
    "- `Total Costs` = Money going out\n",
    "- `Total Income` = Money coming in\n",
    "- `Variable Costs` = electricity cost / cleaning service charge (can be negotiated)\n",
    "- `Operating Expense Ratio: Total Costs / Gross Income`\n",
    "    - use Weighted average (`occupancy / total nights in a month`)\n",
    "    - below 1 = you make money\n",
    "    - above 1 = you lose money\n"
   ]
  },
  {
   "cell_type": "markdown",
   "metadata": {},
   "source": [
    "# Operating expense ratio (OER) Example"
   ]
  },
  {
   "cell_type": "markdown",
   "metadata": {},
   "source": [
    "<center><img src=\"images/10.1.jpg\"  style=\"width: 400px, height: 300px;\"/></center>\n",
    "<center><img src=\"images/10.2.jpg\"  style=\"width: 400px, height: 300px;\"/></center>\n",
    "<center><img src=\"images/10.3.jpg\"  style=\"width: 400px, height: 300px;\"/></center>\n"
   ]
  },
  {
   "cell_type": "markdown",
   "metadata": {},
   "source": [
    "# Cap Rate"
   ]
  },
  {
   "cell_type": "markdown",
   "metadata": {},
   "source": [
    "- Another investing ratio\n",
    "- `Cap Rate: Net Income / Total Cost`"
   ]
  },
  {
   "cell_type": "markdown",
   "metadata": {},
   "source": [
    "# Cap rate Example"
   ]
  },
  {
   "cell_type": "markdown",
   "metadata": {},
   "source": [
    "<center><img src=\"images/11.1.jpg\"  style=\"width: 400px, height: 300px;\"/></center>\n",
    "<center><img src=\"images/11.2.jpg\"  style=\"width: 400px, height: 300px;\"/></center>\n"
   ]
  },
  {
   "cell_type": "markdown",
   "metadata": {},
   "source": [
    "# Comparing investment choice"
   ]
  },
  {
   "cell_type": "markdown",
   "metadata": {},
   "source": [
    "- Keep only OER < 1\n",
    "- Maximize cap rate"
   ]
  },
  {
   "cell_type": "markdown",
   "metadata": {},
   "source": [
    "# Non-traditional investing"
   ]
  },
  {
   "cell_type": "markdown",
   "metadata": {},
   "source": [
    "- Not properly regulated\n",
    "- High risk - High reward\n",
    "- eg: \n",
    "    - Crypto currencies (although it's changing)\n",
    "    - Pokemon cards\n",
    "        \n"
   ]
  },
  {
   "cell_type": "markdown",
   "metadata": {},
   "source": [
    "# Example of non-traditional investing"
   ]
  },
  {
   "cell_type": "markdown",
   "metadata": {},
   "source": [
    "- Pokemon Card Pack Contents:\n",
    "    - Legendary 1 in 8 packs\n",
    "    - Evolved 1 per pack unless there is a Legendary\n",
    "    - Basic 3 per pack\n",
    "    - Energy 11 per pack\n",
    "    - 1 in 6 packs will replace a random card with a foil, limited edition version\n",
    "- Pay premium to buy a single card from another player\n",
    "- Purchase a booster pack\n",
    "- RISK : Each booster pack will have worthless cards from the set.\n",
    "- REWARD : Some packs will contain the legendary, expensive cards which can immediately be sold for more than the cost of the pack.\n",
    "- You know the probabilities\n",
    "- Simulate card opening\n",
    "- You are thinking of buying 3 packs. How much should you invest so that you do not lose in return?\n",
    "\n",
    "<center><img src=\"images/12.jpg\"  style=\"width: 400px, height: 300px;\"/></center>\n",
    "\n",
    "- You only profit if you buy each pack with less than $4\n",
    "- Still not done: `Net profit = revenue - cost ( card price + additional cost if any) `\n",
    "- Profit margin:\n",
    "    - calculates the efficiency of something to make money\n",
    "    - `profit margin = net profit / revenue`\n"
   ]
  }
 ],
 "metadata": {
  "kernelspec": {
   "display_name": "Python 3.8.11 ('env_py')",
   "language": "python",
   "name": "python3"
  },
  "language_info": {
   "name": "python",
   "version": "3.8.11"
  },
  "orig_nbformat": 4,
  "vscode": {
   "interpreter": {
    "hash": "1e949e87132dd83f1a7623eb88007e3532b03b66b77111be347aa4a383049722"
   }
  }
 },
 "nbformat": 4,
 "nbformat_minor": 2
}
