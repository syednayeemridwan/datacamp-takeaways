{
 "cells": [
  {
   "cell_type": "markdown",
   "metadata": {},
   "source": [
    "# Analysis"
   ]
  },
  {
   "cell_type": "markdown",
   "metadata": {},
   "source": [
    "3 Types:\n",
    "\n",
    "1. Exploratory:\n",
    "    - Focus : Outcome that is not pre-defined \n",
    "    - Goal : Looking for insightful paterns\n",
    "    - Helps to understand informative issues (eg- faulty information)\n",
    "    - Existing data oriented\n",
    "    - Helps to identify new market (Strategic purpose)\n",
    "\n",
    "2. Explanatory:\n",
    "    - Focus : Pre-defined outcome\n",
    "    - Goal : Looking for a specific situation\n",
    "    - Helps to explain issues found in exploratory analysis. (eg- faulty information may not be faulty)\n",
    "    - Existing data oriented\n",
    "    - Helps to Learn complex interactions that explains the market analysis (Strategic + Tactical purpose)\n",
    "\n",
    "3. Predictive Data Decisions:\n",
    "    - Focus : Instead of outcome, the focus is model itself\n",
    "    - Goal : Predicting probability for a specific situation\n",
    "    - Helps to get the most probable output (eg- faulty information may not be faulty)\n",
    "    - Future data oriented\n",
    "    - Helps to understand specific interactions ( Tactical purpose)\n",
    "\n"
   ]
  },
  {
   "cell_type": "markdown",
   "metadata": {},
   "source": [
    "# Data"
   ]
  },
  {
   "cell_type": "markdown",
   "metadata": {},
   "source": [
    "- Is the data available?\n",
    "- What data was used? \n",
    "- Is the data appropriate for the task? \n",
    "- Does it have bias ? (Data is not always error free)\n",
    "- Does it have integrity issues, like significant missing data?\n",
    "- How was it collected?"
   ]
  },
  {
   "cell_type": "markdown",
   "metadata": {},
   "source": [
    "# Method"
   ]
  },
  {
   "cell_type": "markdown",
   "metadata": {},
   "source": [
    "- What methods were applied? (Can be both simple and complex)\n",
    "- Were alternative methods applied? If so, did the results differ? (Not always complex methods are superior)\n",
    "- What are the trade-offs between simple and complex methods?"
   ]
  },
  {
   "cell_type": "markdown",
   "metadata": {},
   "source": [
    "# Results"
   ]
  },
  {
   "cell_type": "markdown",
   "metadata": {},
   "source": [
    "- See the results.\n",
    "- Were the results in line with expectations or did something stand out?\n",
    "- How does the result deliver value or solve our problem?"
   ]
  },
  {
   "cell_type": "markdown",
   "metadata": {},
   "source": [
    "# Impact"
   ]
  },
  {
   "cell_type": "markdown",
   "metadata": {},
   "source": [
    "- How much does this analysis address the problem we're trying to solve?\n",
    "- Are there regulations that affect this use case? (eg. is racism involved?)\n",
    "- How could this go wrong? Are there unforeseen impacts to stakeholders that need to be addressed?"
   ]
  },
  {
   "cell_type": "markdown",
   "metadata": {},
   "source": [
    "# Know analytical limitations"
   ]
  },
  {
   "cell_type": "markdown",
   "metadata": {},
   "source": [
    "- On personal level:\n",
    "    - Be good in spreadsheets technically = exploratory analysis\n",
    "    - Add skills to spot quantitative decisions (Statistics and subject matter expertise) = explanatory\n",
    "    - Know data science models = predictive decisions\n",
    "    - Know Cutting edge model  => complex phenomena => No understanding of subject matter => Frustration\n",
    "- On organization level:\n",
    "    - Lack of data\n",
    "    - No technical personnel\n",
    "    - HIPPOs (Highest Paid Person's Opinion)\n",
    "- Most data-driven organizations:\n",
    "    - Descriptive Analytics : What happened = exploratory\n",
    "    - Diagnostic Analytics : Why did it happen = explanatory\n",
    "    - Predictive Analytics : What will happen = predictive\n",
    "    - Prescriptive Analytics : How to make it happen = strategies + actions based on previous insights"
   ]
  },
  {
   "cell_type": "markdown",
   "metadata": {},
   "source": [
    "# Objectives"
   ]
  },
  {
   "cell_type": "markdown",
   "metadata": {},
   "source": [
    "- Cost vs benefit :\n",
    "    - Analytically determine the cost. eg: new software is expensive\n",
    "    - Analytically determine the expected benefit. eg: increased widget-making option\n",
    "    - Does the cost worth the benefit?\n",
    "\n",
    "- Risk vs reward :\n",
    "    - Analytically determine the risk. eg: startup fails, $0 left\n",
    "    - Analytically determine the potential reward. eg: if it works, you'll be rich!\n",
    "    - Is the reward worth the risk?\n",
    "\n",
    "- Supply vs demand :\n",
    "    - Forecast the expected demand. eg: how many agents should be in a call center\n",
    "    - Analyze the needed supply. eg: how many calls will the company receive?\n",
    "    - What is the optimal supply enough to satisfy the demand at any given time\n"
   ]
  },
  {
   "cell_type": "markdown",
   "metadata": {},
   "source": [
    "# 3 X 3 Assessment Matrix before starting any project"
   ]
  },
  {
   "cell_type": "markdown",
   "metadata": {},
   "source": [
    "<center><img src=\"images/01.jpg\"  style=\"width: 400px, height: 300px;\"/></center>\n"
   ]
  },
  {
   "cell_type": "markdown",
   "metadata": {},
   "source": [
    "# Choosing the right methods and objectives"
   ]
  },
  {
   "cell_type": "markdown",
   "metadata": {},
   "source": [
    "1. You get an assumption from HIPPO\n",
    "2. Which method: Where is the data?\n",
    "    - Predictive : Requires historical pattern\n",
    "    - Explanatory : Requires existing dataset\n",
    "    - Exploratory : No dataset. A completely new territory.\n",
    "3. Which objective: What makes it profitable / what is the more realized gain\n",
    "    - Cost vs benefit\n",
    "    - Risk vs reward\n",
    "    - Supply vs demand\n",
    "4. Run experiment : eg. Exploratory market demand from sentiment analysis:\n",
    "\n",
    "<center><img src=\"images/03.jpg\"  style=\"width: 400px, height: 300px;\"/></center>\n",
    "\n",
    "<center><img src=\"images/02.jpg\"  style=\"width: 400px, height: 300px;\"/></center>\n",
    "\n"
   ]
  }
 ],
 "metadata": {
  "kernelspec": {
   "display_name": "Python 3.8.11 ('env_py')",
   "language": "python",
   "name": "python3"
  },
  "language_info": {
   "name": "python",
   "version": "3.8.11"
  },
  "orig_nbformat": 4,
  "vscode": {
   "interpreter": {
    "hash": "1e949e87132dd83f1a7623eb88007e3532b03b66b77111be347aa4a383049722"
   }
  }
 },
 "nbformat": 4,
 "nbformat_minor": 2
}
