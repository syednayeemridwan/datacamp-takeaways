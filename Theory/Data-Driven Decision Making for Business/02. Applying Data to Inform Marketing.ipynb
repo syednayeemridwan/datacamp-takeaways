{
 "cells": [
  {
   "cell_type": "markdown",
   "metadata": {},
   "source": [
    "# 4 P's of marketing"
   ]
  },
  {
   "cell_type": "markdown",
   "metadata": {},
   "source": [
    "- Promotion\n",
    "\n",
    "- Pricing\n",
    "\n",
    "- Product\n",
    " \n",
    "- Placement\n"
   ]
  },
  {
   "cell_type": "markdown",
   "metadata": {},
   "source": [
    "# Modeling customer behavior"
   ]
  },
  {
   "cell_type": "markdown",
   "metadata": {},
   "source": [
    "- provide a likelihood a potential customer will accept the offer\n",
    "- probability between 0 and 1\n",
    "- target the top 10% only\n",
    "- Mistake : Choosing the most overall model for accuracy (Because 95% time customer choose not to click. So most accurate model will produce no-click customer)\n",
    "- Optimized area = the best probable area at low cost (low expense, but huge clicks)"
   ]
  },
  {
   "cell_type": "markdown",
   "metadata": {},
   "source": [
    "# Expected responses"
   ]
  },
  {
   "cell_type": "markdown",
   "metadata": {},
   "source": [
    "<center><img src=\"images/04.jpg\"  style=\"width: 400px, height: 300px;\"/></center>\n"
   ]
  },
  {
   "cell_type": "markdown",
   "metadata": {},
   "source": [
    "# Return on investment"
   ]
  },
  {
   "cell_type": "markdown",
   "metadata": {},
   "source": [
    "<center><img src=\"images/05.jpg\"  style=\"width: 400px, height: 300px;\"/></center>\n"
   ]
  },
  {
   "cell_type": "markdown",
   "metadata": {},
   "source": [
    "# Costs and revenue"
   ]
  },
  {
   "cell_type": "markdown",
   "metadata": {},
   "source": [
    "<center><img src=\"images/06.jpg\"  style=\"width: 400px, height: 300px;\"/></center>\n"
   ]
  },
  {
   "cell_type": "markdown",
   "metadata": {},
   "source": [
    "# Profit"
   ]
  },
  {
   "cell_type": "markdown",
   "metadata": {},
   "source": [
    "<center><img src=\"images/07.jpg\"  style=\"width: 400px, height: 300px;\"/></center>\n"
   ]
  },
  {
   "cell_type": "markdown",
   "metadata": {},
   "source": [
    "# Ads"
   ]
  },
  {
   "cell_type": "markdown",
   "metadata": {},
   "source": [
    "- Represent promosion component\n",
    "- More ads = more revenues\n",
    "- Arbitrage = Identifying price difference between 2 or more markets. eg: buying from Canada, selling in profit in Bangladesh\n",
    "- Ad arbitrage example :\n",
    "    - Your website sits between 2 markets\n",
    "    - Market 1 : Search engine takes money from your website to drive traffics to your website. \n",
    "    - Market 2 : Your website contain ads from sponsors from which you make profit.\n",
    "    - If your site gets 1$ for 1000 visitors, you will be happy to pay 50 cents to the search engine to drive the visitors visit your site.\n",
    "    - Ad Arbitrage profit : `(revenue - cost) * traffic`\n",
    "    - Problem : Ad price is contually changing market on the both side of the arbitrage. This happens because: \n",
    "        1. content always change, \n",
    "        2. Different content = different customer sentiment, \n",
    "        3. Less visited content = less payment from sponsors for ads in your site\n",
    "    - ML Solution :  \n",
    "        1. predict right traffic for the content\n",
    "        2. predict how much sponsors want to pay for specific contents\n",
    "        3. Human decision : Choosing most profitable option in your site instead of automating it."
   ]
  },
  {
   "cell_type": "markdown",
   "metadata": {},
   "source": [
    "# What happens if there is a new product and no data available"
   ]
  },
  {
   "cell_type": "markdown",
   "metadata": {},
   "source": [
    "- New area\n",
    "- No historic data\n",
    "- Use Data-driven model: Growth model\n",
    "    - BASS Model : early adopters curve and late adopter curve combine over time for the total market. 3 inputs:\n",
    "        1. `m` : \n",
    "            - Total market capacity. \n",
    "            - Fixed assumption.\n",
    "            - `m >= p + q`\n",
    "        2. `p` : \n",
    "            - Rate of innovation. \n",
    "            - smaller portion in `p+q`\n",
    "            - people who buy the product early.\n",
    "            - Decrease over time.\n",
    "        3. `q` : \n",
    "            - Rate of imitation. \n",
    "            - larger portion in `p+q`\n",
    "            - people who buy the product late after review.\n",
    "            - Decrease over time.\n",
    "       - You look for output graph of adoption (`p+q`)     "
   ]
  },
  {
   "cell_type": "markdown",
   "metadata": {},
   "source": [
    "<center><img src=\"images/08.jpg\"  style=\"width: 400px, height: 300px;\"/></center>\n"
   ]
  }
 ],
 "metadata": {
  "kernelspec": {
   "display_name": "Python 3.8.11 ('env_py')",
   "language": "python",
   "name": "python3"
  },
  "language_info": {
   "name": "python",
   "version": "3.8.11"
  },
  "orig_nbformat": 4,
  "vscode": {
   "interpreter": {
    "hash": "1e949e87132dd83f1a7623eb88007e3532b03b66b77111be347aa4a383049722"
   }
  }
 },
 "nbformat": 4,
 "nbformat_minor": 2
}
