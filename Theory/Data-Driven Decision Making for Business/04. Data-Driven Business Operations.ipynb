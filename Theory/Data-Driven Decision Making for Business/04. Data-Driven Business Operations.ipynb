{
 "cells": [
  {
   "cell_type": "markdown",
   "metadata": {},
   "source": [
    "# Addressable market"
   ]
  },
  {
   "cell_type": "markdown",
   "metadata": {},
   "source": [
    "- 3 types:\n",
    "    - TAM (Total Addressable Market)\n",
    "    - SAM (Serviceable Available Market)\n",
    "    - SOM (Serviceable Obtainable Market)\n",
    "- To understand if new product is viable\n",
    "- If TAM is not large enough, do not pursue the idea\n",
    "- Identifies :\n",
    "    - How big is the largest possible market (TAM)\n",
    "    - How much portion you can get from the largest possible market (SAM)\n",
    "    - Proportion of market that fits you and your company and you are sure to obtain (SOM)"
   ]
  },
  {
   "cell_type": "markdown",
   "metadata": {},
   "source": [
    "# Calculating TAM"
   ]
  },
  {
   "cell_type": "markdown",
   "metadata": {},
   "source": [
    "- Inputs are the best estimates\n",
    "- Two popular methods:\n",
    "    1. Top-down :\n",
    "        - Start with large data points\n",
    "        - Then use factors like geography/income to reduce the market (Logically apply interactions per step)\n",
    "        - Example: \n",
    "\n",
    "                    ```\n",
    "                    330M US Citizens\n",
    "                    * 10.5% diabetics\n",
    "                    * .75 bars per person (normal chocolate bar consumption)\n",
    "                    * 100% margin ($1 profit on single bar that cost $1 to make)\n",
    "                    = $25.25M TAM\n",
    "                    ```\n",
    "    2. Bottom-up:\n",
    "        - Start with granular proofable data point\n",
    "        - Logically extrapolate upwards\n",
    "        Example:\n",
    "        \n",
    "                ```\n",
    "                    $8B annual revenue\n",
    "                    / 63 types of candy bars = $127m per bar type\n",
    "                    $127m * 10% of revenue is sugar free * 100% margin($1) = $12.7M TAM\n",
    "                ```"
   ]
  },
  {
   "cell_type": "markdown",
   "metadata": {},
   "source": [
    "# Demand"
   ]
  },
  {
   "cell_type": "markdown",
   "metadata": {},
   "source": [
    "- When you know the demand, you can see how much supply to produce\n",
    "- If the demand is cyclical (eg. seasonal time series), know the peaks and valleys\n",
    "    - recruit enough people for busiest times, and do maintenance at valleys\n",
    "    - good idea to visualize it (Independent feature time on X-axis, dependent feature volume on Y-axis)\n",
    "    - called arrival pattern\n",
    "- Common pitfalls:\n",
    "    - Inconsistent trend compared to business knowledge (mistakes in the model). Ask why there might be mistake.\n",
    "    - Decimal points when integers are needed (customer cannot be fraction or floating value)\n",
    "    - Negative numbers that don't apply in the real world (customer number cannot be negative)\n",
    "\n",
    "<center><img src=\"images/13.jpg\"  style=\"width: 400px, height: 300px;\"/></center>\n"
   ]
  },
  {
   "cell_type": "markdown",
   "metadata": {},
   "source": [
    "# Supply"
   ]
  },
  {
   "cell_type": "markdown",
   "metadata": {},
   "source": [
    "- works in a system where there is queue involved\n",
    "- What is the appropriate supply for the incoming demand?\n",
    "    - use Erlang-C Formula: use 4 inputs to get all the optimized dicisions:\n",
    "        1. rate of demand in time \n",
    "        2. Duration to complete 1 unit\n",
    "        3. Target waiting time\n",
    "        4. Service goal percentage"
   ]
  },
  {
   "cell_type": "markdown",
   "metadata": {},
   "source": [
    "# Example: Supply of Customer care call center:\n",
    "    "
   ]
  },
  {
   "cell_type": "markdown",
   "metadata": {},
   "source": [
    "<center><img src=\"images/14.jpg\"  style=\"width: 400px, height: 300px;\"/></center>\n"
   ]
  },
  {
   "cell_type": "markdown",
   "metadata": {},
   "source": [
    "# Improvements"
   ]
  },
  {
   "cell_type": "markdown",
   "metadata": {},
   "source": [
    "- online reviews,\n",
    "- transactional data\n",
    "- From customers gather questions Q1, Q2, Q3 etc. through qualitative interviews \n",
    "- Creating model from survey inputs (satisfaction level 1 to 5),\n",
    "- Logistic regression model : `f (overall satisfaction) = β1 ∗ Q2 + β2 ∗ Q3 + β3 ∗ Q4`\n",
    "- Understand impact of each questions from sum of betas: `β1 /(β1 + β2 + β3)` is the impact of `β1` that reflects the importance of `Q2`\n",
    "- Add frequency of high score in fraction for each question as operational context: `total count of highest no of same choice in 1 question / total participants in the review`\n"
   ]
  },
  {
   "cell_type": "markdown",
   "metadata": {},
   "source": [
    "# Visualize what customer cares about"
   ]
  },
  {
   "cell_type": "markdown",
   "metadata": {},
   "source": [
    "<center><img src=\"images/15.jpg\"  style=\"width: 400px, height: 300px;\"/></center>\n",
    "<center><img src=\"images/16.jpg\"  style=\"width: 400px, height: 300px;\"/></center>\n"
   ]
  },
  {
   "cell_type": "markdown",
   "metadata": {},
   "source": [
    "- red dotted lines are averages of each axis\n",
    "- scatter points are each question.\n",
    "- It shows which prospects are more important in whole model"
   ]
  }
 ],
 "metadata": {
  "kernelspec": {
   "display_name": "Python 3.8.11 ('env_py')",
   "language": "python",
   "name": "python3"
  },
  "language_info": {
   "name": "python",
   "version": "3.8.11"
  },
  "orig_nbformat": 4,
  "vscode": {
   "interpreter": {
    "hash": "1e949e87132dd83f1a7623eb88007e3532b03b66b77111be347aa4a383049722"
   }
  }
 },
 "nbformat": 4,
 "nbformat_minor": 2
}
