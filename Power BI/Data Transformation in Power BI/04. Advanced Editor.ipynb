{
 "cells": [
  {
   "attachments": {},
   "cell_type": "markdown",
   "metadata": {},
   "source": [
    "# Advanced Editor"
   ]
  },
  {
   "attachments": {},
   "cell_type": "markdown",
   "metadata": {},
   "source": [
    "- The advanced editor allows you to view and edit the underlying source code of your query\n",
    "- Any transformation you make to your data is translated into M code (also referred to as M Language) - the language of Power Query\n",
    "- Different languages\n",
    "    - DAX code = analyze data, \n",
    "    - M code = transform and load data"
   ]
  },
  {
   "attachments": {},
   "cell_type": "markdown",
   "metadata": {},
   "source": [
    "# M Code"
   ]
  },
  {
   "attachments": {},
   "cell_type": "markdown",
   "metadata": {},
   "source": [
    "- Any transformation you make is automatically converted to the appropriate M code, and vice versa\n",
    "- M code and Power Query transformations share a 1:1 relationship\n",
    "- Stores variables for use in the query\n",
    "- Implement custom functions\n",
    "- Make advanced transformations\n",
    "- Add comments with `//`\n",
    "- Value types in M language:\n",
    "- Number \n",
    "    - numeric\n",
    "    - `123`\n",
    "- Text \n",
    "    - Strings\n",
    "    - `\"DataCamp\"`\n",
    "- Logical \n",
    "    - Boolean values\n",
    "    - `true`\n",
    "- Date \n",
    "    - `1/20/2022`\n",
    "- List \n",
    "    - Similar to python list\n",
    "    - `{123, \"DataCamp\", true}`\n",
    "- Table \n",
    "    - Contains column-names in first argument and list of values for each row second argument\n",
    "    - `#table( {\"Index\", \"Value\"}, {{\"A\", 123}, {\"B\", \"DataCamp\"}, {\"C\", true}})`\n",
    "\n",
    "<center><img src=\"images/04.011.jpg\"  style=\"width: 400px, height: 300px;\"/></center>\n"
   ]
  },
  {
   "attachments": {},
   "cell_type": "markdown",
   "metadata": {},
   "source": [
    "# Advanced Editor"
   ]
  },
  {
   "attachments": {},
   "cell_type": "markdown",
   "metadata": {},
   "source": [
    "- Click on `Advanced Editor` to open the advanced editor from `query editor`\n",
    "- When you transform a data the step is automatically written in M language\n",
    "- If you click `Advanced Editor` you will see the code of the `applied steps`\n",
    "- You can directly edit the code from `Advanced Editor` that will reflect change in real time\n",
    "- Each line of the `Advanced Editor` works with the variable of the previous line in `Advanced Editor`\n",
    "- You may change `Display Option` from `Advanced Editor`'s window for different options"
   ]
  },
  {
   "attachments": {},
   "cell_type": "markdown",
   "metadata": {},
   "source": [
    "<center><img src=\"images/04.041.jpg\"  style=\"width: 400px, height: 300px;\"/></center>\n",
    "<center><img src=\"images/04.042.jpg\"  style=\"width: 400px, height: 300px;\"/></center>\n",
    "<center><img src=\"images/04.043.jpg\"  style=\"width: 400px, height: 300px;\"/></center>\n",
    "<center><img src=\"images/04.044.jpg\"  style=\"width: 400px, height: 300px;\"/></center>\n"
   ]
  },
  {
   "attachments": {},
   "cell_type": "markdown",
   "metadata": {},
   "source": [
    "# Adding Comments "
   ]
  },
  {
   "attachments": {},
   "cell_type": "markdown",
   "metadata": {},
   "source": [
    "<center><img src=\"images/04.06.jpg\"  style=\"width: 400px, height: 300px;\"/></center>\n"
   ]
  },
  {
   "attachments": {},
   "cell_type": "markdown",
   "metadata": {},
   "source": [
    "# Adding List in Variables"
   ]
  },
  {
   "attachments": {},
   "cell_type": "markdown",
   "metadata": {},
   "source": [
    "<center><img src=\"images/04.07.jpg\"  style=\"width: 400px, height: 300px;\"/></center>\n"
   ]
  },
  {
   "attachments": {},
   "cell_type": "markdown",
   "metadata": {},
   "source": [
    "# Adding Custom Functions"
   ]
  },
  {
   "attachments": {},
   "cell_type": "markdown",
   "metadata": {},
   "source": [
    "### Creating Custom Function"
   ]
  },
  {
   "attachments": {},
   "cell_type": "markdown",
   "metadata": {},
   "source": [
    "<center><img src=\"images/04.08.jpg\"  style=\"width: 400px, height: 300px;\"/></center>\n"
   ]
  },
  {
   "attachments": {},
   "cell_type": "markdown",
   "metadata": {},
   "source": [
    "### Calling Custom Function\n"
   ]
  },
  {
   "attachments": {},
   "cell_type": "markdown",
   "metadata": {},
   "source": [
    "<center><img src=\"images/04.09.jpg\"  style=\"width: 400px, height: 300px;\"/></center>\n"
   ]
  },
  {
   "attachments": {},
   "cell_type": "markdown",
   "metadata": {},
   "source": [
    "# Custom Column with multiple if else"
   ]
  },
  {
   "attachments": {},
   "cell_type": "markdown",
   "metadata": {},
   "source": [
    "<center><img src=\"images/04.045.jpg\"  style=\"width: 400px, height: 300px;\"/></center>\n"
   ]
  }
 ],
 "metadata": {
  "kernelspec": {
   "display_name": "env_py",
   "language": "python",
   "name": "python3"
  },
  "language_info": {
   "name": "python",
   "version": "3.8.11 (default, Aug  6 2021, 09:57:55) [MSC v.1916 64 bit (AMD64)]"
  },
  "orig_nbformat": 4,
  "vscode": {
   "interpreter": {
    "hash": "1e949e87132dd83f1a7623eb88007e3532b03b66b77111be347aa4a383049722"
   }
  }
 },
 "nbformat": 4,
 "nbformat_minor": 2
}
