{
 "cells": [
  {
   "attachments": {},
   "cell_type": "markdown",
   "metadata": {},
   "source": [
    "# Custom columns"
   ]
  },
  {
   "attachments": {},
   "cell_type": "markdown",
   "metadata": {},
   "source": [
    "- Written in M language\n",
    "- Comes from data Mashup\n",
    "- Case-sensitive\n",
    "- Can reference several columns\n",
    "- Extend functionality of existing transformations\n",
    "- Implement advanced logic for conditional columns\n",
    "- Using `AND` `OR` `NOT`\n",
    "- Numerical only\n",
    "    - `+` `-` `*` `/` `^`\n",
    "- Text\n",
    "    - `&`\n",
    "- All columns\n",
    "    - `<` `>` `<>` `<=` `>=` `=`\n",
    "- Conditional logic\n",
    "    - `if` `then` `else`\n",
    "    - `AND` `OR` `NOT`\n",
    "- Mind your data types\n",
    "    - Mismatches will result in errors\n",
    "\n"
   ]
  },
  {
   "attachments": {},
   "cell_type": "markdown",
   "metadata": {},
   "source": [
    "<center><img src=\"images/03.011.jpg\"  style=\"width: 400px, height: 300px;\"/></center>\n"
   ]
  },
  {
   "attachments": {},
   "cell_type": "markdown",
   "metadata": {},
   "source": [
    "# Group by with custom columns\n"
   ]
  },
  {
   "attachments": {},
   "cell_type": "markdown",
   "metadata": {},
   "source": [
    "- Using the aggregation \"All Rows\"\n",
    "    - Divides data into several smaller tables\n",
    "    - Use Table M functions on a column\n",
    "- Example:\n",
    "    - Group sales data into product categories\n",
    "    - Rank each product in each category"
   ]
  },
  {
   "attachments": {},
   "cell_type": "markdown",
   "metadata": {},
   "source": [
    "# Creating Custom Column"
   ]
  },
  {
   "attachments": {},
   "cell_type": "markdown",
   "metadata": {},
   "source": [
    "- Go to `Add Column` > `Custom Column`\n",
    "- Give a name with `New Column Name`\n",
    "- Provide formula for new column\n",
    "- New custom column has `ANY` data-type by default\n",
    "    - Change data type by clicking on left of the column name\n",
    "- You can always change / edit the formula by clicking on the gear icon in `Applied Steps`"
   ]
  },
  {
   "attachments": {},
   "cell_type": "markdown",
   "metadata": {},
   "source": [
    "<center><img src=\"images/03.031.jpg\"  style=\"width: 400px, height: 300px;\"/></center>\n",
    "<center><img src=\"images/03.032.jpg\"  style=\"width: 400px, height: 300px;\"/></center>\n",
    "<center><img src=\"images/03.033.jpg\"  style=\"width: 400px, height: 300px;\"/></center>\n",
    "<center><img src=\"images/03.034.jpg\"  style=\"width: 400px, height: 300px;\"/></center>\n"
   ]
  },
  {
   "attachments": {},
   "cell_type": "markdown",
   "metadata": {},
   "source": [
    "# Creating Smaller tables as groups"
   ]
  },
  {
   "attachments": {},
   "cell_type": "markdown",
   "metadata": {},
   "source": [
    "- Go to `Transform` > Click `Group by`\n",
    "- Group by a non-aggregated column Select operation as `All Rows`\n",
    "- The new column has value as `Table`. Each `Table` is a smaller group as a table specifying that granularity"
   ]
  },
  {
   "attachments": {},
   "cell_type": "markdown",
   "metadata": {},
   "source": [
    "<center><img src=\"images/03.036.jpg\"  style=\"width: 400px, height: 300px;\"/></center>\n",
    "<center><img src=\"images/03.037.jpg\"  style=\"width: 400px, height: 300px;\"/></center>\n"
   ]
  },
  {
   "attachments": {},
   "cell_type": "markdown",
   "metadata": {},
   "source": [
    "# Ranking"
   ]
  },
  {
   "attachments": {},
   "cell_type": "markdown",
   "metadata": {},
   "source": [
    "- Sort a table by a specific order\n",
    "- Go to `Add Column` > Click on `Index Column` > `From 1`\n",
    "- Will create a new column by order. This can be used as ranking column"
   ]
  },
  {
   "attachments": {},
   "cell_type": "markdown",
   "metadata": {},
   "source": [
    "<center><img src=\"images/03.039.jpg\"  style=\"width: 400px, height: 300px;\"/></center>\n"
   ]
  },
  {
   "attachments": {},
   "cell_type": "markdown",
   "metadata": {},
   "source": [
    "# Ranking for each table group"
   ]
  },
  {
   "attachments": {},
   "cell_type": "markdown",
   "metadata": {},
   "source": [
    "- Create index for each `Table` as group value\n",
    "- Create `Custom Column`\n",
    "    - Formula : `=Table.AddIndexColumn(....sort the inside table....)`"
   ]
  },
  {
   "attachments": {},
   "cell_type": "markdown",
   "metadata": {},
   "source": [
    "<center><img src=\"images/03.038.jpg\"  style=\"width: 400px, height: 300px;\"/></center>\n"
   ]
  },
  {
   "attachments": {},
   "cell_type": "markdown",
   "metadata": {},
   "source": [
    "# `If...then...else` conditional custom column"
   ]
  },
  {
   "attachments": {},
   "cell_type": "markdown",
   "metadata": {},
   "source": [
    "- Similar to SQL `CASE WHEN ....THEN....ELSE`\n",
    "\n",
    "<center><img src=\"images/03.035.jpg\"  style=\"width: 400px, height: 300px;\"/></center>\n"
   ]
  }
 ],
 "metadata": {
  "kernelspec": {
   "display_name": "env_py",
   "language": "python",
   "name": "python3"
  },
  "language_info": {
   "name": "python",
   "version": "3.8.11 (default, Aug  6 2021, 09:57:55) [MSC v.1916 64 bit (AMD64)]"
  },
  "orig_nbformat": 4,
  "vscode": {
   "interpreter": {
    "hash": "1e949e87132dd83f1a7623eb88007e3532b03b66b77111be347aa4a383049722"
   }
  }
 },
 "nbformat": 4,
 "nbformat_minor": 2
}
