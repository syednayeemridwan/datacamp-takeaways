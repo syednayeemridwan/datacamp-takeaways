{
 "cells": [
  {
   "attachments": {},
   "cell_type": "markdown",
   "metadata": {},
   "source": [
    "# Dataset Shapes"
   ]
  },
  {
   "attachments": {},
   "cell_type": "markdown",
   "metadata": {},
   "source": [
    "- Long Data Structure\n",
    "    - Repeating values in first column\n",
    "    - Usually only one numerical column\n",
    "    - Easier for computer to interpret\n",
    "- Wide Data Structure\n",
    "    - Unique values in first column\n",
    "    - Multiple numerical columns\n",
    "    - More human-readable\n",
    "- Pivoting : \n",
    "    - To transform from long to wide, we pivot our data\n",
    "    - Allows dataset to create new columns based on a selected column's different categorical values\n",
    "    - Aggregate existing long-shaped data\n",
    "- Unpivoting : \n",
    "    - To transform from wide to long, we unpivot our data\n",
    "    - Allows dataset to create one column by flattenning multiple columns\n",
    "    - Disaggregate existing wide-shaped data\n",
    "- Transposing : changes your rows into columns and your columns into rows\n",
    "- Grouping : \n",
    "    - changes the granularity of your dataset\n",
    "    - After choosing a granularity (groups) you apply an aggregation such as:\n",
    "        - Sum\n",
    "        - Average\n",
    "        - Median\n",
    "        - Min / Max\n",
    "        - Count\n",
    "        - Custom aggregation\n",
    "- Everything happens inside power query editor\n",
    "<center><img src=\"images/01.011.jpg\"  style=\"width: 400px, height: 300px;\"/></center>\n",
    "<center><img src=\"images/01.012.jpg\"  style=\"width: 400px, height: 300px;\"/></center>\n",
    "<center><img src=\"images/01.013.jpg\"  style=\"width: 400px, height: 300px;\"/></center>\n",
    "<center><img src=\"images/01.014.jpg\"  style=\"width: 400px, height: 300px;\"/></center>\n",
    "    "
   ]
  },
  {
   "attachments": {},
   "cell_type": "markdown",
   "metadata": {},
   "source": [
    "# Transposing"
   ]
  },
  {
   "attachments": {},
   "cell_type": "markdown",
   "metadata": {},
   "source": [
    "- First demote headers into rows from existing dataset with `Use headers as first row`\n",
    "- Go to `Transform` > Click `Transpose`\n",
    "- Put the first row back to headers with `Use first row as headers`"
   ]
  },
  {
   "attachments": {},
   "cell_type": "markdown",
   "metadata": {},
   "source": [
    "<center><img src=\"images/01.031.jpg\"  style=\"width: 400px, height: 300px;\"/></center>\n",
    "<center><img src=\"images/01.032.jpg\"  style=\"width: 400px, height: 300px;\"/></center>\n",
    "<center><img src=\"images/01.033.jpg\"  style=\"width: 400px, height: 300px;\"/></center>\n"
   ]
  },
  {
   "attachments": {},
   "cell_type": "markdown",
   "metadata": {},
   "source": [
    "# Unpivoting"
   ]
  },
  {
   "attachments": {},
   "cell_type": "markdown",
   "metadata": {},
   "source": [
    "- First make sure that null values are all filled \n",
    "    - Right Click column name > `Fill` > `Down`\n",
    "- Select the columns to keep in the resultant unpivot table > Right click > `Unpivot other columns`"
   ]
  },
  {
   "attachments": {},
   "cell_type": "markdown",
   "metadata": {},
   "source": [
    "<center><img src=\"images/01.034.jpg\"  style=\"width: 400px, height: 300px;\"/></center>\n",
    "<center><img src=\"images/01.035.jpg\"  style=\"width: 400px, height: 300px;\"/></center>\n"
   ]
  },
  {
   "attachments": {},
   "cell_type": "markdown",
   "metadata": {},
   "source": [
    "# Pivot Column"
   ]
  },
  {
   "attachments": {},
   "cell_type": "markdown",
   "metadata": {},
   "source": [
    "- Select the column > Go to `Transform` > `Pivot Column`\n",
    "- From new window, select the column to be aggregated, and the function of aggregation"
   ]
  },
  {
   "attachments": {},
   "cell_type": "markdown",
   "metadata": {},
   "source": [
    "<center><img src=\"images/01.036.jpg\"  style=\"width: 400px, height: 300px;\"/></center>\n",
    "<center><img src=\"images/01.037.jpg\"  style=\"width: 400px, height: 300px;\"/></center>\n"
   ]
  },
  {
   "attachments": {},
   "cell_type": "markdown",
   "metadata": {},
   "source": [
    "# Grouping"
   ]
  },
  {
   "attachments": {},
   "cell_type": "markdown",
   "metadata": {},
   "source": [
    "- Go to `Transform ` > `Group By`\n",
    "- From new window, Select `advanced`\n",
    "- Select non-aggregated column\n",
    "- Select aggregated columns\n",
    "- Select aggregation functions for aggregated columns\n",
    "- Select column names for result aggregation"
   ]
  },
  {
   "attachments": {},
   "cell_type": "markdown",
   "metadata": {},
   "source": [
    "<center><img src=\"images/01.038.jpg\"  style=\"width: 400px, height: 300px;\"/></center>\n",
    "<center><img src=\"images/01.039.jpg\"  style=\"width: 400px, height: 300px;\"/></center>\n"
   ]
  },
  {
   "attachments": {},
   "cell_type": "markdown",
   "metadata": {},
   "source": [
    "# Filtering"
   ]
  },
  {
   "attachments": {},
   "cell_type": "markdown",
   "metadata": {},
   "source": [
    "- Enable columns statistics from power query editor `View`\n",
    "- Click on a column\n",
    "- From `column statistics` and `value distribution` right click on a bar > `Number filters` > Filter for specific criteria"
   ]
  },
  {
   "attachments": {},
   "cell_type": "markdown",
   "metadata": {},
   "source": [
    "<center><img src=\"images/01.061.jpg\"  style=\"width: 400px, height: 300px;\"/></center>\n",
    "<center><img src=\"images/01.062.jpg\"  style=\"width: 400px, height: 300px;\"/></center>\n"
   ]
  }
 ],
 "metadata": {
  "kernelspec": {
   "display_name": "env_py",
   "language": "python",
   "name": "python3"
  },
  "language_info": {
   "name": "python",
   "version": "3.8.11 (default, Aug  6 2021, 09:57:55) [MSC v.1916 64 bit (AMD64)]"
  },
  "orig_nbformat": 4,
  "vscode": {
   "interpreter": {
    "hash": "1e949e87132dd83f1a7623eb88007e3532b03b66b77111be347aa4a383049722"
   }
  }
 },
 "nbformat": 4,
 "nbformat_minor": 2
}
