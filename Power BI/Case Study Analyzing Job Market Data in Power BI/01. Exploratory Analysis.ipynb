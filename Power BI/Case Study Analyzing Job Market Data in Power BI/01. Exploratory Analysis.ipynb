{
 "cells": [
  {
   "attachments": {},
   "cell_type": "markdown",
   "metadata": {},
   "source": [
    "# Data analytics pipeline"
   ]
  },
  {
   "attachments": {},
   "cell_type": "markdown",
   "metadata": {},
   "source": [
    "<center><img src=\"images/01.011.jpg\"  style=\"width: 400px, height: 300px;\"/></center>"
   ]
  },
  {
   "attachments": {},
   "cell_type": "markdown",
   "metadata": {},
   "source": [
    "- Data Check : \n",
    "    - Perform an integrity check of the dataset\n",
    "- Explore Data:\n",
    "    - Exploratory data analysis (EDA)\n",
    "    - Apply business questions to start investigating the problem\n",
    "- Analyze And Visualize Data:\n",
    "    - Build overview tables and visualizations\n",
    "    - Perform more in-depth analytics\n",
    "- Dashboarding:\n",
    "    - Combine visualizations into a few dashboards\n",
    "    - Design with the problem and audience in mind\n",
    "- Communicate Insights:\n",
    "    - Present it to target audience"
   ]
  }
 ],
 "metadata": {
  "kernelspec": {
   "display_name": "env_py",
   "language": "python",
   "name": "python3"
  },
  "language_info": {
   "name": "python",
   "version": "3.8.11 (default, Aug  6 2021, 09:57:55) [MSC v.1916 64 bit (AMD64)]"
  },
  "orig_nbformat": 4,
  "vscode": {
   "interpreter": {
    "hash": "1e949e87132dd83f1a7623eb88007e3532b03b66b77111be347aa4a383049722"
   }
  }
 },
 "nbformat": 4,
 "nbformat_minor": 2
}
