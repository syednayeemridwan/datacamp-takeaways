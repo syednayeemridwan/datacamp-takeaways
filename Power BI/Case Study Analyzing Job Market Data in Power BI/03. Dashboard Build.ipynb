{
 "cells": [
  {
   "attachments": {},
   "cell_type": "markdown",
   "metadata": {},
   "source": [
    "# Dashboard "
   ]
  },
  {
   "attachments": {},
   "cell_type": "markdown",
   "metadata": {},
   "source": [
    "- Focus areas:\n",
    "    1. Who is the audience?\n",
    "    2. What do they need?\n",
    "    3. How can a dashboard help?\n",
    "- Things to Include:\n",
    "    - What significant visualizations to include?\n",
    "        - Too many would be distracting\n",
    "    - Is the most intuitive visual being used?\n",
    "        - Does the audience understand the visual, do you need time to explain the visual\n",
    "    - Are we sizing, positioning, & coloring visuals relative to their importance?\n",
    "        - Draw attention to key areas that solves the problem\n",
    "- Best Practices:\n",
    "    - Less is more (Do not overwhelm with little information, instead make them focused with key information)\n",
    "    - Give numbers context (good or bad)\n",
    "    - Label everything\n",
    "    - Make interactive (so that clients can explore the data)"
   ]
  }
 ],
 "metadata": {
  "kernelspec": {
   "display_name": "env_py",
   "language": "python",
   "name": "python3"
  },
  "language_info": {
   "name": "python",
   "version": "3.8.11 (default, Aug  6 2021, 09:57:55) [MSC v.1916 64 bit (AMD64)]"
  },
  "orig_nbformat": 4,
  "vscode": {
   "interpreter": {
    "hash": "1e949e87132dd83f1a7623eb88007e3532b03b66b77111be347aa4a383049722"
   }
  }
 },
 "nbformat": 4,
 "nbformat_minor": 2
}
