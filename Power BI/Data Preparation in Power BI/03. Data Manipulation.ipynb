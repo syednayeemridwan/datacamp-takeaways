{
 "cells": [
  {
   "cell_type": "markdown",
   "metadata": {},
   "source": [
    "# Clean text data"
   ]
  },
  {
   "cell_type": "markdown",
   "metadata": {},
   "source": [
    "- Free from typos\n",
    "- Consistently formatted\n",
    "    - Data points are consistently represented\n",
    "    - Uniform capitalization\n",
    "    - No leading or trailing whitespace\n",
    "    - No punctuation(!) or control characters (\\n, \\r, etc.)\n",
    "<center><img src=\"images/03.010.jpg\"  style=\"width: 400px, height: 300px;\"/></center>\n",
    "\n",
    "\n",
    "- Ideally, each column will only store one piece of information\n",
    "    - Columns are split or merged to achieve this\n",
    "- Accessed from the Transform ribbon\n",
    "<center><img src=\"images/03.011.jpg\"  style=\"width: 400px, height: 300px;\"/></center>\n",
    "\n",
    "\n",
    "- Use the Format option to change the capitalization and access Trim and Clean\n",
    "- Trim & Clean should be applied to all text columns\n",
    "    - `Trim` - removes trailing and leading whitespace\n",
    "    - `Clean` - removes control characters (new line, carriage return, etc.)\n",
    "\n",
    "- Each column in your dataset should represent one piece of information\n",
    "- It is sometimes necessary to split or combine several columns\n",
    "- When one column contains many pieces of information -> Split\n",
    "    - Address -> Building, Street, City, Country\n",
    "- When two or more columns can be combined to represent one piece of information -> Combine\n",
    "    - First Name, Last Name -> Full Name\n",
    "<center><img src=\"images/03.012.jpg\"  style=\"width: 400px, height: 300px;\"/></center>\n"
   ]
  },
  {
   "cell_type": "markdown",
   "metadata": {},
   "source": [
    "# Creating Duplicate Column from Existing column"
   ]
  },
  {
   "cell_type": "markdown",
   "metadata": {},
   "source": [
    "- Right click on column name > `Duplicate Column`"
   ]
  },
  {
   "cell_type": "markdown",
   "metadata": {},
   "source": [
    "<center><img src=\"images/03.031.jpg\"  style=\"width: 400px, height: 300px;\"/></center>\n"
   ]
  },
  {
   "cell_type": "markdown",
   "metadata": {},
   "source": [
    "# Find Length or Different Characters in a column"
   ]
  },
  {
   "cell_type": "markdown",
   "metadata": {},
   "source": [
    "- Select the column > Click `Extract`\n",
    "<center><img src=\"images/03.032.jpg\"  style=\"width: 400px, height: 300px;\"/></center>\n"
   ]
  },
  {
   "cell_type": "markdown",
   "metadata": {},
   "source": [
    "# Transforming text in upper / lower"
   ]
  },
  {
   "cell_type": "markdown",
   "metadata": {},
   "source": [
    "- Select the column > `Format` > Choose desired format"
   ]
  },
  {
   "cell_type": "markdown",
   "metadata": {},
   "source": [
    "<center><img src=\"images/03.033.jpg\"  style=\"width: 400px, height: 300px;\"/></center>\n"
   ]
  },
  {
   "cell_type": "markdown",
   "metadata": {},
   "source": [
    "# Split Column"
   ]
  },
  {
   "cell_type": "markdown",
   "metadata": {},
   "source": [
    "- Select specified column\n",
    "- Click `Split columns`\n",
    "- From new window, select delimeter as separator to split the column"
   ]
  },
  {
   "cell_type": "markdown",
   "metadata": {},
   "source": [
    "<center><img src=\"images/03.034.jpg\"  style=\"width: 400px, height: 300px;\"/></center>\n",
    "<center><img src=\"images/03.035.jpg\"  style=\"width: 400px, height: 300px;\"/></center>\n"
   ]
  },
  {
   "cell_type": "markdown",
   "metadata": {},
   "source": [
    "# Merge Columns"
   ]
  },
  {
   "cell_type": "markdown",
   "metadata": {},
   "source": [
    "- Select mmultiple columns\n",
    "- Click `Merge columns`\n",
    "- From new window, select delimeter as separator"
   ]
  },
  {
   "cell_type": "markdown",
   "metadata": {},
   "source": [
    "<center><img src=\"images/03.036.jpg\"  style=\"width: 400px, height: 300px;\"/></center>\n",
    "<center><img src=\"images/03.037.jpg\"  style=\"width: 400px, height: 300px;\"/></center>\n"
   ]
  }
 ],
 "metadata": {
  "kernelspec": {
   "display_name": "Python 3.8.11 ('env_py')",
   "language": "python",
   "name": "python3"
  },
  "language_info": {
   "name": "python",
   "version": "3.8.11"
  },
  "orig_nbformat": 4,
  "vscode": {
   "interpreter": {
    "hash": "1e949e87132dd83f1a7623eb88007e3532b03b66b77111be347aa4a383049722"
   }
  }
 },
 "nbformat": 4,
 "nbformat_minor": 2
}
