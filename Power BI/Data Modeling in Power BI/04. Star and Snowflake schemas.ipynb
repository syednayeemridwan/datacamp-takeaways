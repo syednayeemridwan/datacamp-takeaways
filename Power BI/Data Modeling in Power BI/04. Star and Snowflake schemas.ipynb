{
 "cells": [
  {
   "cell_type": "markdown",
   "metadata": {},
   "source": [
    "# Star schema\n"
   ]
  },
  {
   "cell_type": "markdown",
   "metadata": {},
   "source": [
    "- Fact table(s)\n",
    "- Surrounded by dimension tables\n",
    "- Preferred approach\n",
    "- Easy for business users to understand\n",
    "- Most BI tools optimize for this schema"
   ]
  },
  {
   "cell_type": "markdown",
   "metadata": {},
   "source": [
    "# Snowflake schema"
   ]
  },
  {
   "cell_type": "markdown",
   "metadata": {},
   "source": [
    "- Allows relationships between dimensions\n",
    "- Fact table(s) remain the same\n",
    "- Basically Normalized Star Schema\n",
    "- Used in some data warehouses\n",
    "- Less duplication\n",
    "- Updating records is more efficient\n",
    "- Hierarchy is present (Country > State > City > Postal Code)\n",
    "<center><img src=\"images/04.011.jpg\"  style=\"width: 400px, height: 300px;\"/></center>\n",
    "<center><img src=\"images/04.012.jpg\"  style=\"width: 400px, height: 300px;\"/></center>\n"
   ]
  },
  {
   "cell_type": "markdown",
   "metadata": {},
   "source": [
    "# Power BI Concerns"
   ]
  },
  {
   "cell_type": "markdown",
   "metadata": {},
   "source": [
    "- Both schemas work!\n",
    "- But Power BI prefers star schemas\n",
    "    - Easier to understand\n",
    "    - Performance is less of a concern\n",
    "    - Only joins fact with dimension tables = faster execution time\n",
    "- Built-in performance analysis\n",
    "    - Each visual has three components\n",
    "    - How long did the DAX query take?\n",
    "    - How long did the visual take to render?\n",
    "    - How long did everything else take?\n",
    "<center><img src=\"images/04.013.jpg\"  style=\"width: 400px, height: 300px;\"/></center>\n",
    "\n",
    "- Performance tuning advice\n",
    "    - DAX Query slowness\n",
    "        - Tune DAX operations\n",
    "        - Improve data loading performance\n",
    "    - Visual display slowness\n",
    "        - Use less complicated visuals\n",
    "        - Show less information on the screen\n",
    "    - Other slowness\n",
    "        - Reduce number of visuals on the page"
   ]
  },
  {
   "cell_type": "markdown",
   "metadata": {},
   "source": [
    "# Creating Snowflake Schema"
   ]
  },
  {
   "cell_type": "markdown",
   "metadata": {},
   "source": [
    "- Take dimension tables and duplicate them\n",
    "- From Duplicated tables create modular and smaller tables (Just like how you create Star Schema)\n",
    "- Connect these tables with data model via foreign key\n",
    "- Each Level of hierarchy has that level's description and next level's reference\n",
    "- Done normalization? Then the Star Schema is now Snowflake Schema\n",
    "\n"
   ]
  },
  {
   "cell_type": "markdown",
   "metadata": {},
   "source": [
    "# Creating Relationships"
   ]
  },
  {
   "cell_type": "markdown",
   "metadata": {},
   "source": [
    "- Sometimes, some relationships are not created by default by Power BI, you can create this relationship by \n",
    "1. Dragging and dropping\n",
    "2. Click `Manage Relationships` > `New` > Specify relationship between the tables\n",
    "<center><img src=\"images/04.016.jpg\"  style=\"width: 400px, height: 300px;\"/></center>\n",
    "<center><img src=\"images/04.017.jpg\"  style=\"width: 400px, height: 300px;\"/></center>\n",
    "<center><img src=\"images/04.018.jpg\"  style=\"width: 400px, height: 300px;\"/></center>\n",
    "<center><img src=\"images/04.019.jpg\"  style=\"width: 400px, height: 300px;\"/></center>\n",
    "\n",
    "- Always check if the relationships are `active`\n",
    "    - Double click on dotted relationship and click `make this relationship active`\n"
   ]
  },
  {
   "cell_type": "markdown",
   "metadata": {},
   "source": [
    "# Deleting Relationships"
   ]
  },
  {
   "cell_type": "markdown",
   "metadata": {},
   "source": [
    "- Sometimes, some relationships are created by default by Power BI, you can delete this relationship by going to `model view` > Right Click on the relationship > `Delete`\n",
    "<center><img src=\"images/04.014.jpg\"  style=\"width: 400px, height: 300px;\"/></center>\n",
    "<center><img src=\"images/04.015.jpg\"  style=\"width: 400px, height: 300px;\"/></center>\n"
   ]
  },
  {
   "cell_type": "markdown",
   "metadata": {},
   "source": [
    "# See Performance"
   ]
  },
  {
   "cell_type": "markdown",
   "metadata": {},
   "source": [
    "- Go to `View` > Click on `Performance Analyzer`\n",
    "- From the new pane > First click `Start Recording` > Then `Refresh Visuals`\n",
    "<center><img src=\"images/04.031.jpg\"  style=\"width: 400px, height: 300px;\"/></center>\n",
    "<center><img src=\"images/04.032.jpg\"  style=\"width: 400px, height: 300px;\"/></center>\n",
    "\n"
   ]
  }
 ],
 "metadata": {
  "kernelspec": {
   "display_name": "Python 3.8.11 ('env_py')",
   "language": "python",
   "name": "python3"
  },
  "language_info": {
   "name": "python",
   "version": "3.8.11"
  },
  "orig_nbformat": 4,
  "vscode": {
   "interpreter": {
    "hash": "1e949e87132dd83f1a7623eb88007e3532b03b66b77111be347aa4a383049722"
   }
  }
 },
 "nbformat": 4,
 "nbformat_minor": 2
}
