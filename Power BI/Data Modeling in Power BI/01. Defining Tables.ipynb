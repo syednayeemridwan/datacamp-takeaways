{
 "cells": [
  {
   "cell_type": "markdown",
   "metadata": {},
   "source": [
    "# Data Model"
   ]
  },
  {
   "cell_type": "markdown",
   "metadata": {},
   "source": [
    "- Conceptual view of data elements\n",
    "- Typically a visual representation\n",
    "- Data models include:\n",
    "    - Tables\n",
    "    - Columns\n",
    "    - Relationships between tables\n",
    "    - Data types\n",
    "    - Keys\n",
    "- Data Modeling : The process of creating a data model\n",
    "- Reasons for modeling data\n",
    "    - Data ≠ perfect\n",
    "    - Reshape data for analysis\n",
    "    - Compress data usage\n",
    "    - Easier to understand model\n",
    "- Data modeling: 80% in Power Query, 20% in Power BI\n",
    "- Operation\n",
    "    - Keep or remove specific columns\n",
    "    - Keep or remove specific rows\n",
    "    - Split a single column in multiple columns\n",
    "    - Summarize/group rows in a table by the contents of a column\n",
    "- Data types\n",
    "    - Choosing the right data type is essential:\n",
    "    - Constrain data to a specific shape\n",
    "    - Optimize storage\n",
    "    - Enable specific functionality\n",
    "    - Power Query infers data type on first few hundred rows\n",
    "    - You can change the data type in Power Query and Power BI, but it is best practice to do this in Power Query, so that your data is properly loaded in Power BI\n",
    "- Example operation : Rounding\n",
    "    - Power Query\n",
    "        - Actually changes the data, not just formatting\n",
    "        - Typically not the right answer\n",
    "        - Generally used for base changes\n",
    "    - Power BI\n",
    "        - Changes how the data appearance, not how it's stored\n",
    "        - Generally a better answer\n",
    "        - Generally used for fine-tuning"
   ]
  },
  {
   "cell_type": "markdown",
   "metadata": {},
   "source": [
    "# Loading Power Query Editor"
   ]
  },
  {
   "cell_type": "markdown",
   "metadata": {},
   "source": [
    "- 2 Ways open this\n",
    "1. During loading the data\n",
    "2. `Home` > `Transform Data`"
   ]
  },
  {
   "cell_type": "markdown",
   "metadata": {},
   "source": [
    "<center><img src=\"images/01.036.jpg\"  style=\"width: 400px, height: 300px;\"/></center>\n",
    "<center><img src=\"images/01.037.jpg\"  style=\"width: 400px, height: 300px;\"/></center>\n"
   ]
  },
  {
   "cell_type": "markdown",
   "metadata": {},
   "source": [
    "# Transform Format"
   ]
  },
  {
   "cell_type": "markdown",
   "metadata": {},
   "source": [
    "- Two ways to do this: (Some options vary in both approach)\n",
    "- Inside Power query editor\n",
    "1.  Right click on column name > `Transform`\n",
    "2. Go click `Format`"
   ]
  },
  {
   "cell_type": "markdown",
   "metadata": {},
   "source": [
    "<center><img src=\"images/01.034.jpg\"  style=\"width: 400px, height: 300px;\"/></center>\n",
    "<center><img src=\"images/01.035.jpg\"  style=\"width: 400px, height: 300px;\"/></center>\n"
   ]
  },
  {
   "cell_type": "markdown",
   "metadata": {},
   "source": [
    "# Changing Data Type"
   ]
  },
  {
   "cell_type": "markdown",
   "metadata": {},
   "source": [
    "- Click on the left side of the column name\n",
    "- Choose specific type\n",
    "- Choose whether the changing type will be replacing the original data or it will be taken as a transformation step and listed in `applied steps`\n"
   ]
  },
  {
   "cell_type": "markdown",
   "metadata": {},
   "source": [
    "<center><img src=\"images/01.031.jpg\"  style=\"width: 400px, height: 300px;\"/></center>\n",
    "<center><img src=\"images/01.032.jpg\"  style=\"width: 400px, height: 300px;\"/></center>\n"
   ]
  },
  {
   "cell_type": "markdown",
   "metadata": {},
   "source": [
    "# Undoing Transformation"
   ]
  },
  {
   "cell_type": "markdown",
   "metadata": {},
   "source": [
    "- Click `X` from `applied steps` to undo a transformation step"
   ]
  },
  {
   "cell_type": "markdown",
   "metadata": {},
   "source": [
    "<center><img src=\"images/01.033.jpg\"  style=\"width: 400px, height: 300px;\"/></center>\n"
   ]
  },
  {
   "cell_type": "markdown",
   "metadata": {},
   "source": [
    "# Saving transformed Dataset"
   ]
  },
  {
   "cell_type": "markdown",
   "metadata": {},
   "source": [
    "- Click `Home` > `Close & Apply`"
   ]
  },
  {
   "cell_type": "markdown",
   "metadata": {},
   "source": [
    "<center><img src=\"images/01.038.jpg\"  style=\"width: 400px, height: 300px;\"/></center>\n"
   ]
  },
  {
   "cell_type": "markdown",
   "metadata": {},
   "source": [
    "# Transformation From Power BI"
   ]
  },
  {
   "cell_type": "markdown",
   "metadata": {},
   "source": [
    "- Open up `Data View`"
   ]
  },
  {
   "cell_type": "markdown",
   "metadata": {},
   "source": [
    "<center><img src=\"images/01.039.jpg\"  style=\"width: 400px, height: 300px;\"/></center>\n"
   ]
  },
  {
   "cell_type": "markdown",
   "metadata": {},
   "source": [
    "# Transformation Imitation"
   ]
  },
  {
   "cell_type": "markdown",
   "metadata": {},
   "source": [
    "- These are imitation of transformations\n",
    "- Right click on column name from here to see available options"
   ]
  },
  {
   "cell_type": "markdown",
   "metadata": {},
   "source": [
    "# Sorting"
   ]
  },
  {
   "cell_type": "markdown",
   "metadata": {},
   "source": [
    "- 2 Ways\n",
    "1. From dropdown of column name\n",
    "2. Clicking on `Sort By Column` (Lets to sort one column by another column)"
   ]
  },
  {
   "cell_type": "markdown",
   "metadata": {},
   "source": [
    "<center><img src=\"images/01.041.jpg\"  style=\"width: 400px, height: 300px;\"/></center>\n"
   ]
  },
  {
   "cell_type": "markdown",
   "metadata": {},
   "source": [
    "# Quick Tip"
   ]
  },
  {
   "cell_type": "markdown",
   "metadata": {},
   "source": [
    "- If there is any date in `decimal` format\n",
    "    - First convert it to `text`\n",
    "    - Next convert it to `date`\n",
    "    - Directly converting from `decimal` to `date` will give wrong result"
   ]
  }
 ],
 "metadata": {
  "kernelspec": {
   "display_name": "Python 3.8.11 ('env_py')",
   "language": "python",
   "name": "python3"
  },
  "language_info": {
   "name": "python",
   "version": "3.8.11"
  },
  "orig_nbformat": 4,
  "vscode": {
   "interpreter": {
    "hash": "1e949e87132dd83f1a7623eb88007e3532b03b66b77111be347aa4a383049722"
   }
  }
 },
 "nbformat": 4,
 "nbformat_minor": 2
}
