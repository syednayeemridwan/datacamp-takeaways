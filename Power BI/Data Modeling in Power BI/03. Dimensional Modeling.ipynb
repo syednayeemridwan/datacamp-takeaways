{
 "cells": [
  {
   "cell_type": "markdown",
   "metadata": {},
   "source": [
    "# The Kimball Model"
   ]
  },
  {
   "cell_type": "markdown",
   "metadata": {},
   "source": [
    "- Key concepts\n",
    "    - Facts: \n",
    "        - metrics from a business process\n",
    "        - Provides only Measurement of business process (How much)\n",
    "        - Lots of rows\n",
    "        - Fewer columns\n",
    "    - Dimensions: \n",
    "        - context surrounding a business process (details like Who, what, when, where, why?)\n",
    "        - Contain static or \"slowly changing\" data of shared entity (person, employee, customer, vendor)\n",
    "        - Few rows\n",
    "        - Lots of columns\n",
    "        - Dimensions are used in multiple facts\n",
    "        - Dimensions do not link to other dimensions\n",
    "    - Combine to form a star schema\n",
    "    - Keys Used to establish relationships between fact and dimension tables\n",
    "    - Star schemas are used in data warehouses\n",
    "    - Power BI is optimized for star schemas\n",
    "\n",
    "<center><img src=\"images/03.011.jpg\"  style=\"width: 400px, height: 300px;\"/></center>\n",
    "<center><img src=\"images/03.012.jpg\"  style=\"width: 400px, height: 300px;\"/></center>\n",
    "\n"
   ]
  },
  {
   "cell_type": "markdown",
   "metadata": {},
   "source": [
    "# Creating Star Schema"
   ]
  },
  {
   "cell_type": "markdown",
   "metadata": {},
   "source": [
    "- First determine how many dimensions should be in the table\n",
    "- Duplicate multiple versions of original table\n",
    "- For each duplicate table, only keep the columns for specific dimension and remove the rest\n",
    "- Select the existing columns together and remove duplicates\n",
    "- Since we have everything in the dimension table, now keep only `id` column in the original table and remove all other columns that exist is dimension table\n",
    "    - We can use reference to pull data from dimension table using this `id` column\n",
    "- The original table now becomes the fact table.\n",
    "- From `Model View` create relationship between these tables with foreign keys\n",
    "- The database now has fact table and dimension tables. So this database becomes a Star Schema"
   ]
  }
 ],
 "metadata": {
  "kernelspec": {
   "display_name": "Python 3.8.11 ('env_py')",
   "language": "python",
   "name": "python3"
  },
  "language_info": {
   "name": "python",
   "version": "3.8.11"
  },
  "orig_nbformat": 4,
  "vscode": {
   "interpreter": {
    "hash": "1e949e87132dd83f1a7623eb88007e3532b03b66b77111be347aa4a383049722"
   }
  }
 },
 "nbformat": 4,
 "nbformat_minor": 2
}
