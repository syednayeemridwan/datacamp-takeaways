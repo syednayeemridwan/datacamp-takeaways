{
 "cells": [
  {
   "cell_type": "markdown",
   "metadata": {},
   "source": [
    "# Database normalization\n"
   ]
  },
  {
   "cell_type": "markdown",
   "metadata": {},
   "source": [
    "- A set of logical rules and processes to follow for data modeling\n",
    "- Organizing a database\n",
    "- Goals of normalization\n",
    "    - Remove redundant data\n",
    "    - Achieve a design which is a good representation of the real world\n",
    "    - Tables are connected through relationships in Power BI\n",
    "- Power Query includes several data shaping operations to get closer to a normalized data model.\n",
    "- Key techniques:\n",
    "    1. Column splitting\n",
    "    2. Column extraction\n",
    "    3. Query merging\n",
    "    4. Query appending\n"
   ]
  },
  {
   "cell_type": "markdown",
   "metadata": {},
   "source": [
    "# Column splitting"
   ]
  },
  {
   "cell_type": "markdown",
   "metadata": {},
   "source": [
    "- Break out one column into multiple columns\n",
    "- Split criteria\n",
    "    - Delimiter\n",
    "    - Number of characters\n",
    "    - Position in string\n",
    "    - Lower vs. upper casing\n",
    "    - Digit vs. non-digit\n",
    "<center><img src=\"images/02.011.jpg\"  style=\"width: 400px, height: 300px;\"/></center>\n",
    "\n"
   ]
  },
  {
   "cell_type": "markdown",
   "metadata": {},
   "source": [
    "# Column extraction\n"
   ]
  },
  {
   "cell_type": "markdown",
   "metadata": {},
   "source": [
    "- Take columns from one table and break them out into another table\n",
    "- Keep a key on the original table to know which values fit together\n",
    "- Result: keep distinct rows, shrinking total, data model size and reducing redundancy\n",
    "- Intermediate table to perform many to many relationship\n",
    "<center><img src=\"images/02.012.jpg\"  style=\"width: 400px, height: 300px;\"/></center>\n"
   ]
  },
  {
   "cell_type": "markdown",
   "metadata": {},
   "source": [
    "# Query appending"
   ]
  },
  {
   "cell_type": "markdown",
   "metadata": {},
   "source": [
    "- Combine contents of two or more tables into a single table (Stacking)\n",
    "- Match rows based on column names, adding `NULL` for missing columns\n",
    "- Equivalent to a `UNION ALL` statement in SQL\n",
    "<center><img src=\"images/02.013.jpg\"  style=\"width: 400px, height: 300px;\"/></center>\n"
   ]
  },
  {
   "cell_type": "markdown",
   "metadata": {},
   "source": [
    "# Query merging"
   ]
  },
  {
   "cell_type": "markdown",
   "metadata": {},
   "source": [
    "- Join together two existing tables based on values from one or more columns\n",
    "- Types of joins:\n",
    "    - Inner join\n",
    "    - Left outer join\n",
    "    - Right outer join\n",
    "    - Full outer join\n",
    "<center><img src=\"images/02.014.jpg\"  style=\"width: 400px, height: 300px;\"/></center>\n"
   ]
  },
  {
   "cell_type": "markdown",
   "metadata": {},
   "source": [
    "# Adding multiple tables For transformation"
   ]
  },
  {
   "cell_type": "markdown",
   "metadata": {},
   "source": [
    "- Click `New Source`\n",
    "- Select desired table"
   ]
  },
  {
   "cell_type": "markdown",
   "metadata": {},
   "source": [
    "<center><img src=\"images/02.031.jpg\"  style=\"width: 400px, height: 300px;\"/></center>\n",
    "<center><img src=\"images/02.032.jpg\"  style=\"width: 400px, height: 300px;\"/></center>\n"
   ]
  },
  {
   "cell_type": "markdown",
   "metadata": {},
   "source": [
    "# Appending Table"
   ]
  },
  {
   "cell_type": "markdown",
   "metadata": {},
   "source": [
    "- Click `Append Queries`\n",
    "- Select desired tables to be appended"
   ]
  },
  {
   "cell_type": "markdown",
   "metadata": {},
   "source": [
    "<center><img src=\"images/02.033.jpg\"  style=\"width: 400px, height: 300px;\"/></center>\n",
    "<center><img src=\"images/02.0333.jpg\"  style=\"width: 400px, height: 300px;\"/></center>\n"
   ]
  },
  {
   "cell_type": "markdown",
   "metadata": {},
   "source": [
    "# Renaming a table"
   ]
  },
  {
   "cell_type": "markdown",
   "metadata": {},
   "source": [
    "- Double click on the table name to rename it\n",
    "<center><img src=\"images/02.034.jpg\"  style=\"width: 400px, height: 300px;\"/></center>\n"
   ]
  },
  {
   "cell_type": "markdown",
   "metadata": {},
   "source": [
    "# Duplicating a table"
   ]
  },
  {
   "cell_type": "markdown",
   "metadata": {},
   "source": [
    "- Right click > `Duplicate` to duplicate the desired table\n",
    "<center><img src=\"images/02.035.jpg\"  style=\"width: 400px, height: 300px;\"/></center>\n"
   ]
  },
  {
   "cell_type": "markdown",
   "metadata": {},
   "source": [
    "# Creating a stand-alone table for normalization"
   ]
  },
  {
   "cell_type": "markdown",
   "metadata": {},
   "source": [
    "- Create a duplicate table\n",
    "- Rename the table\n",
    "- Remove columns that are not needed\n",
    "- Remove duplicates\n",
    "- use the new table for referencing"
   ]
  },
  {
   "cell_type": "markdown",
   "metadata": {},
   "source": [
    "<center><img src=\"images/02.036.jpg\"  style=\"width: 400px, height: 300px;\"/></center>\n",
    "<center><img src=\"images/02.037.jpg\"  style=\"width: 400px, height: 300px;\"/></center>\n"
   ]
  },
  {
   "cell_type": "markdown",
   "metadata": {},
   "source": [
    "# Extract Column"
   ]
  },
  {
   "cell_type": "markdown",
   "metadata": {},
   "source": [
    "- Based on information\n",
    "- Select desired column \n",
    "- Go to `Transform` > `Extract` > Desired operation"
   ]
  },
  {
   "cell_type": "markdown",
   "metadata": {},
   "source": [
    "<center><img src=\"images/02.038.jpg\"  style=\"width: 400px, height: 300px;\"/></center>\n",
    "<center><img src=\"images/02.039.jpg\"  style=\"width: 400px, height: 300px;\"/></center>\n"
   ]
  }
 ],
 "metadata": {
  "kernelspec": {
   "display_name": "Python 3.8.11 ('env_py')",
   "language": "python",
   "name": "python3"
  },
  "language_info": {
   "name": "python",
   "version": "3.8.11"
  },
  "orig_nbformat": 4,
  "vscode": {
   "interpreter": {
    "hash": "1e949e87132dd83f1a7623eb88007e3532b03b66b77111be347aa4a383049722"
   }
  }
 },
 "nbformat": 4,
 "nbformat_minor": 2
}
