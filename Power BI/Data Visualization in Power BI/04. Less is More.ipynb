{
 "cells": [
  {
   "cell_type": "markdown",
   "metadata": {},
   "source": [
    "# Keys to good visual design"
   ]
  },
  {
   "cell_type": "markdown",
   "metadata": {},
   "source": [
    "- Before adding something to a dashboard:\n",
    "    - Does this contribute to the story?\n",
    "        - If not, then don't add it\n",
    "    - Is this the right visual element?\n",
    "        - If not, use another\n",
    "    - Is this visual element necessary?\n",
    "        - Make sure it is not information overload / distraction\n",
    "- Promoting the story:\n",
    "    - What story am I trying to tell?\n",
    "        - One story per page at most\n",
    "    - Does this new visual align with the story?\n",
    "        - If not, then don't add it\n",
    "    - Will my audience see it that way?\n",
    "        - Taylor it according to the audience need\n",
    "- Story-telling in a world of choices:\n",
    "    - Filters and slicers give users flexibility\n",
    "    - Flexibility limits your control\n",
    "    - Understand user needs and the types of stories they can pull from the data\n",
    "- Color as an emphasis:\n",
    "    - Color is a \"pre-attentive attribute\"\n",
    "        - You focus on specific color even before paying attention to whole picture\n",
    "    - Use neutral colors for bars\n",
    "        - Similar information relayed through whole visual\n",
    "    - Pick one emphasis color\n",
    "    - Color is a garnish\n",
    "        - Too much is not good\n",
    "- Thinking of our audience\n",
    "    - Who is the persona?"
   ]
  },
  {
   "cell_type": "markdown",
   "metadata": {},
   "source": [
    "# Pie Chart"
   ]
  },
  {
   "cell_type": "markdown",
   "metadata": {},
   "source": [
    "- Put columns in `Details` and `values`\n"
   ]
  },
  {
   "cell_type": "markdown",
   "metadata": {},
   "source": [
    "<center><img src=\"images/04.031.jpg\"  style=\"width: 400px, height: 300px;\"/></center>\n"
   ]
  },
  {
   "cell_type": "markdown",
   "metadata": {},
   "source": [
    "# Treemap"
   ]
  },
  {
   "cell_type": "markdown",
   "metadata": {},
   "source": [
    "- Put columns in `Group` and `values`\n",
    "- Put multiple columns in `Group` enables hierarchy\n",
    "- Enables hierarchy by clicking on `Drill Down` \n",
    "- Enable data labels : `Visualization` > `Format` > Turn `Data Label` to `ON`"
   ]
  },
  {
   "cell_type": "markdown",
   "metadata": {},
   "source": [
    "<center><img src=\"images/04.032.jpg\"  style=\"width: 400px, height: 300px;\"/></center>\n",
    "<center><img src=\"images/04.034.jpg\"  style=\"width: 400px, height: 300px;\"/></center>\n",
    "<center><img src=\"images/04.035.jpg\"  style=\"width: 400px, height: 300px;\"/></center>\n",
    "<center><img src=\"images/04.033.jpg\"  style=\"width: 400px, height: 300px;\"/></center>\n"
   ]
  },
  {
   "cell_type": "markdown",
   "metadata": {},
   "source": [
    "# Gauge"
   ]
  },
  {
   "cell_type": "markdown",
   "metadata": {},
   "source": [
    "- Set `value` by putting value column\n",
    "- Set `Target Value` by putting a specific numeric measure\n",
    "- Set maximum limit by putting column in `Maximum Value`"
   ]
  },
  {
   "cell_type": "markdown",
   "metadata": {},
   "source": [
    "<center><img src=\"images/04.036.jpg\"  style=\"width: 400px, height: 300px;\"/></center>\n"
   ]
  },
  {
   "cell_type": "markdown",
   "metadata": {},
   "source": [
    "# Conditional Formatting on Table"
   ]
  },
  {
   "cell_type": "markdown",
   "metadata": {},
   "source": [
    "- Select Table\n",
    "- Go to `Visualizations` > `Format` > `Conditional Formatting` > Turn `Font Color` to `ON`\n",
    "- A new window will appear. Set rules for the formatting"
   ]
  },
  {
   "cell_type": "markdown",
   "metadata": {},
   "source": [
    "<center><img src=\"images/04.037.jpg\"  style=\"width: 400px, height: 300px;\"/></center>\n",
    "<center><img src=\"images/04.038.jpg\"  style=\"width: 400px, height: 300px;\"/></center>\n",
    "<center><img src=\"images/04.039.jpg\"  style=\"width: 400px, height: 300px;\"/></center>\n"
   ]
  },
  {
   "cell_type": "markdown",
   "metadata": {},
   "source": [
    "# KPI"
   ]
  },
  {
   "cell_type": "markdown",
   "metadata": {},
   "source": [
    "- Put current value column inside `indicator`\n",
    "- Set `Target Goals` by putting a specific numeric measure\n",
    "- Put a time-series or other independent variable in `Trend Axis`\n",
    "- By default, lower value means bad\n",
    "    - Change this from `Format` > `Direction` > `Low is good`"
   ]
  },
  {
   "cell_type": "markdown",
   "metadata": {},
   "source": [
    "<center><img src=\"images/04.040.jpg\"  style=\"width: 400px, height: 300px;\"/></center>\n",
    "<center><img src=\"images/04.041.jpg\"  style=\"width: 400px, height: 300px;\"/></center>\n",
    "<center><img src=\"images/04.042.jpg\"  style=\"width: 400px, height: 300px;\"/></center>\n"
   ]
  },
  {
   "cell_type": "markdown",
   "metadata": {},
   "source": [
    "# Conditional Formatting"
   ]
  },
  {
   "cell_type": "markdown",
   "metadata": {},
   "source": [
    "- This is the function button\n",
    "<center><img src=\"images/04.07.jpg\"  style=\"width: 400px, height: 300px;\"/></center>\n"
   ]
  }
 ],
 "metadata": {
  "kernelspec": {
   "display_name": "Python 3.8.11 ('env_py')",
   "language": "python",
   "name": "python3"
  },
  "language_info": {
   "name": "python",
   "version": "3.8.11"
  },
  "orig_nbformat": 4,
  "vscode": {
   "interpreter": {
    "hash": "1e949e87132dd83f1a7623eb88007e3532b03b66b77111be347aa4a383049722"
   }
  }
 },
 "nbformat": 4,
 "nbformat_minor": 2
}
