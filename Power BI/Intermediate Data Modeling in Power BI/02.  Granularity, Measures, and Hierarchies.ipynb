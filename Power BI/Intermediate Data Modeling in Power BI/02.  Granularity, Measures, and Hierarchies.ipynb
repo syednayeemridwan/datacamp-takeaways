{
 "cells": [
  {
   "attachments": {},
   "cell_type": "markdown",
   "metadata": {},
   "source": [
    "# Granularity"
   ]
  },
  {
   "attachments": {},
   "cell_type": "markdown",
   "metadata": {},
   "source": [
    "- Defines the level of details the data is stored with respect to dimensions\n",
    "- Defined granularity with \"by\" statements:\n",
    "    - E.g. by customer, by product, by day\n",
    "    - E.g. by id, by NAICS code, by establishment age, by year\n",
    "- Getting to a finer grain \n",
    "    - breaking down to most specific details \n",
    "    - not advisable\n",
    "- Getting to a coarser grain: \n",
    "    - aggregations and grouping\n",
    "    - Better query performance with fewer rows\n",
    "    - Smaller cache sizes and faster refresh time \n",
    "- `GROUP BY`\n",
    "<center><img src=\"images/02.011.jpg\"  style=\"width: 400px, height: 300px;\"/></center>\n"
   ]
  },
  {
   "attachments": {},
   "cell_type": "markdown",
   "metadata": {},
   "source": [
    "# Measures\n"
   ]
  },
  {
   "attachments": {},
   "cell_type": "markdown",
   "metadata": {},
   "source": [
    "- Fields or combinations of fields which can be aggregated or calculated\n",
    "- Comes directly from fact data\n",
    "- `New measures` can be calculated as well\n",
    "- Numeric values are automatically converted to measures and aggregated by the sum\n",
    "- Create specific types of calculations using ` Quick measures`\n",
    "    - Great for learning how to create moderately complex measures\n",
    "<center><img src=\"images/02.012.jpg\"  style=\"width: 400px, height: 300px;\"/></center>\n"
   ]
  },
  {
   "attachments": {},
   "cell_type": "markdown",
   "metadata": {},
   "source": [
    "# Hierarchies"
   ]
  },
  {
   "attachments": {},
   "cell_type": "markdown",
   "metadata": {},
   "source": [
    "- Allow users to drill down into data dimensions\n",
    "- Natural hierarchies\n",
    "    - Levels of the hierarchy exist \"in the real world\"\n",
    "    - Year -> Month -> Day\n",
    "- Artificial hierarchies\n",
    "    - Levels are created for querying purposes \n",
    "    - Intake year -> Favorite color -> Favorite sport\n",
    "- Note : A week always consists of seven days, and can therefore belong to two months, quarters, or even years. As such, it doesn't fit perfectly in a date hierarchy."
   ]
  },
  {
   "attachments": {},
   "cell_type": "markdown",
   "metadata": {},
   "source": [
    "# Creating Hierarchy"
   ]
  },
  {
   "attachments": {},
   "cell_type": "markdown",
   "metadata": {},
   "source": [
    "- Go to Data View\n",
    "- Right click on a table's Column > `Create Hierarchy`\n",
    "- The other columns can be added into the hierarchy by right click > `Add to hierarchy`\n",
    "- After creating the hierarchy, hide the columns by clicking on the `eye` symbol on the right"
   ]
  },
  {
   "attachments": {},
   "cell_type": "markdown",
   "metadata": {},
   "source": [
    "<center><img src=\"images/02.031.jpg\"  style=\"width: 400px, height: 300px;\"/></center>\n",
    "<center><img src=\"images/02.032.jpg\"  style=\"width: 400px, height: 300px;\"/></center>\n",
    "<center><img src=\"images/02.033.jpg\"  style=\"width: 400px, height: 300px;\"/></center>\n"
   ]
  },
  {
   "attachments": {},
   "cell_type": "markdown",
   "metadata": {},
   "source": [
    "# Duplicating tables"
   ]
  },
  {
   "attachments": {},
   "cell_type": "markdown",
   "metadata": {},
   "source": [
    "- The best practice before changing any table (eg: Grouping) is to duplicate the table first and then apply changes on the duplicated table\n",
    "- From `query editor` , right click on a table > `Duplicate`"
   ]
  },
  {
   "attachments": {},
   "cell_type": "markdown",
   "metadata": {},
   "source": [
    "<center><img src=\"images/02.034.jpg\"  style=\"width: 400px, height: 300px;\"/></center>\n"
   ]
  },
  {
   "attachments": {},
   "cell_type": "markdown",
   "metadata": {},
   "source": [
    "# Grouping"
   ]
  },
  {
   "attachments": {},
   "cell_type": "markdown",
   "metadata": {},
   "source": [
    "- From `query editor` > go to `Transform`\n",
    "- Click `Group by`\n",
    "- Select `Advanced`\n",
    "- From new window, specify non-aggregated columns above\n",
    "- Select the aggregated columns and aggregation functions below"
   ]
  },
  {
   "attachments": {},
   "cell_type": "markdown",
   "metadata": {},
   "source": [
    "<center><img src=\"images/02.035.jpg\"  style=\"width: 400px, height: 300px;\"/></center>\n",
    "<center><img src=\"images/02.036.jpg\"  style=\"width: 400px, height: 300px;\"/></center>\n"
   ]
  },
  {
   "attachments": {},
   "cell_type": "markdown",
   "metadata": {},
   "source": [
    "# Creating Measures"
   ]
  },
  {
   "attachments": {},
   "cell_type": "markdown",
   "metadata": {},
   "source": [
    "- Go to `Data View`\n",
    "- Click on `New Measure` or right click a table > `New Measure`\n",
    "- Write formula for measure\n",
    "- The measure is just a calculation, so it won't show up in the table as column"
   ]
  },
  {
   "attachments": {},
   "cell_type": "markdown",
   "metadata": {},
   "source": [
    "<center><img src=\"images/02.037.jpg\"  style=\"width: 400px, height: 300px;\"/></center>\n",
    "<center><img src=\"images/02.038.jpg\"  style=\"width: 400px, height: 300px;\"/></center>\n"
   ]
  },
  {
   "attachments": {},
   "cell_type": "markdown",
   "metadata": {},
   "source": [
    "# Quick Measure"
   ]
  },
  {
   "attachments": {},
   "cell_type": "markdown",
   "metadata": {},
   "source": [
    "- Go to `Data View`\n",
    "- Click `Quick Measure`\n",
    "- Select specified quick measure from list and provide the columns to perform calculations"
   ]
  },
  {
   "attachments": {},
   "cell_type": "markdown",
   "metadata": {},
   "source": [
    "<center><img src=\"images/02.039.jpg\"  style=\"width: 400px, height: 300px;\"/></center>\n",
    "<center><img src=\"images/02.040.jpg\"  style=\"width: 400px, height: 300px;\"/></center>\n"
   ]
  },
  {
   "attachments": {},
   "cell_type": "markdown",
   "metadata": {},
   "source": [
    "# Creating Visuals on Hierarchies"
   ]
  },
  {
   "attachments": {},
   "cell_type": "markdown",
   "metadata": {},
   "source": [
    "- Visuals created on hierarchies can be drilled down"
   ]
  },
  {
   "attachments": {},
   "cell_type": "markdown",
   "metadata": {},
   "source": [
    "<center><img src=\"images/02.041.jpg\"  style=\"width: 400px, height: 300px;\"/></center>\n"
   ]
  }
 ],
 "metadata": {
  "kernelspec": {
   "display_name": "env_py",
   "language": "python",
   "name": "python3"
  },
  "language_info": {
   "name": "python",
   "version": "3.8.11 (default, Aug  6 2021, 09:57:55) [MSC v.1916 64 bit (AMD64)]"
  },
  "orig_nbformat": 4,
  "vscode": {
   "interpreter": {
    "hash": "1e949e87132dd83f1a7623eb88007e3532b03b66b77111be347aa4a383049722"
   }
  }
 },
 "nbformat": 4,
 "nbformat_minor": 2
}
