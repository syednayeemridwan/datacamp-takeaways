{
 "cells": [
  {
   "attachments": {},
   "cell_type": "markdown",
   "metadata": {},
   "source": [
    "# Filter direction\n"
   ]
  },
  {
   "attachments": {},
   "cell_type": "markdown",
   "metadata": {},
   "source": [
    "- Determines the direction that filters will propagate\n",
    "- Example:\n",
    "    - Geography -> Sales \n",
    "    - Clothing Item -> Sales\n",
    "    - From Dimension table to Fact table \n",
    "<center><img src=\"images/03.011.jpg\"  style=\"width: 400px, height: 300px;\"/></center>\n",
    "\n",
    "- Clicking on a row in dimension table will filter the relevant rows in fact table \n",
    "<center><img src=\"images/03.012.jpg\"  style=\"width: 400px, height: 300px;\"/></center>\n",
    "\n",
    "<center><img src=\"images/03.013.jpg\"  style=\"width: 400px, height: 300px;\"/></center>\n",
    "\n",
    "- Clicking on a row in fact table will not filter the relevant rows in dimension table \n",
    "    - This is because it filters on only 1 direction (Allows flow of data in 1 way)\n",
    "    - If both direction is applied for filter, only then it is possible to Allows flow of data in 1 way\n",
    "    - Power BI allows bi-directional as long as it is one-way path (There is only one way you can reach from one table to another table)\n",
    "    - If a relationship causes to create multiple way for someone to reach one table to another, then Power BI will show an error\n",
    "    - example: If the highlighter purple relationship is changed to bi-directional, then there will be error.\n",
    "\n",
    "<center><img src=\"images/03.014.jpg\"  style=\"width: 400px, height: 300px;\"/></center>\n",
    "<center><img src=\"images/03.015.jpg\"  style=\"width: 400px, height: 300px;\"/></center>\n"
   ]
  },
  {
   "attachments": {},
   "cell_type": "markdown",
   "metadata": {},
   "source": [
    "# Role-playing dimensions"
   ]
  },
  {
   "attachments": {},
   "cell_type": "markdown",
   "metadata": {},
   "source": [
    "- Kimball model\n",
    "- Dimension that can filter related facts differently\n",
    "- Typically implemented as views of the Date dimension\n",
    "- Create multiple relationships on a dimension, but only one is active at a time\n",
    "    - Power BI does not allow multiple `active` relationships\n",
    "- Use `USERELATIONSHIP()` in DAX to specify which relationship to use\n",
    "<center><img src=\"images/03.016.jpg\"  style=\"width: 400px, height: 300px;\"/></center>\n",
    "<center><img src=\"images/03.017.jpg\"  style=\"width: 400px, height: 300px;\"/></center>\n"
   ]
  },
  {
   "attachments": {},
   "cell_type": "markdown",
   "metadata": {},
   "source": [
    "# Making Relationship Bi-directional"
   ]
  },
  {
   "attachments": {},
   "cell_type": "markdown",
   "metadata": {},
   "source": [
    "- Go to `Model View`\n",
    "- Double click on the specific relationship\n",
    "- From new window, make `cross filter direction` to `both`"
   ]
  },
  {
   "attachments": {},
   "cell_type": "markdown",
   "metadata": {},
   "source": [
    "<center><img src=\"images/03.031.jpg\"  style=\"width: 400px, height: 300px;\"/></center>\n",
    "<center><img src=\"images/03.032.jpg\"  style=\"width: 400px, height: 300px;\"/></center>\n",
    "<center><img src=\"images/03.033.jpg\"  style=\"width: 400px, height: 300px;\"/></center>\n"
   ]
  },
  {
   "attachments": {},
   "cell_type": "markdown",
   "metadata": {},
   "source": [
    "# Handling Multiple Relationships"
   ]
  },
  {
   "attachments": {},
   "cell_type": "markdown",
   "metadata": {},
   "source": [
    "- From `model view` see multiple relationships / create if needed\n",
    "- From `report view` click `New Measure`\n",
    "- Use the relationship for measure like :\n",
    "```\n",
    "measure_name = CALCULATE(SUM(col_from_fact_table), \n",
    "    USERELATIONSHIP (matching_col_from_dim, matching_col_from_fact))\n",
    "```"
   ]
  },
  {
   "attachments": {},
   "cell_type": "markdown",
   "metadata": {},
   "source": [
    "<center><img src=\"images/03.034.jpg\"  style=\"width: 400px, height: 300px;\"/></center>\n",
    "<center><img src=\"images/03.035.jpg\"  style=\"width: 400px, height: 300px;\"/></center>\n",
    "<center><img src=\"images/03.036.jpg\"  style=\"width: 400px, height: 300px;\"/></center>\n"
   ]
  }
 ],
 "metadata": {
  "kernelspec": {
   "display_name": "env_py",
   "language": "python",
   "name": "python3"
  },
  "language_info": {
   "name": "python",
   "version": "3.8.11 (default, Aug  6 2021, 09:57:55) [MSC v.1916 64 bit (AMD64)]"
  },
  "orig_nbformat": 4,
  "vscode": {
   "interpreter": {
    "hash": "1e949e87132dd83f1a7623eb88007e3532b03b66b77111be347aa4a383049722"
   }
  }
 },
 "nbformat": 4,
 "nbformat_minor": 2
}
