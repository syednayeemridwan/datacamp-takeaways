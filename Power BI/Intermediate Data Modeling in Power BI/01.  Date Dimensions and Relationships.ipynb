{
 "cells": [
  {
   "attachments": {},
   "cell_type": "markdown",
   "metadata": {},
   "source": [
    "# Date and time dimensions\n"
   ]
  },
  {
   "attachments": {},
   "cell_type": "markdown",
   "metadata": {},
   "source": [
    "- Date dimensions provide an in-built calendar and help minimize complex date operations\n",
    "    - e.g. match fiscal year with calendar year\n",
    "    - e.g. slice by quarter, month, week\n",
    "- Time dimensions handle times of the day:\n",
    "    - hour, minute, second\n",
    "- Time dimensions tend to be much less common than date dimensions\n",
    "<center><img src=\"images/01.016.jpg\"  style=\"width: 400px, height: 300px;\"/></center>\n",
    "\n",
    "<center><img src=\"images/01.011.jpg\"  style=\"width: 400px, height: 300px;\"/></center>\n",
    "\n",
    "- `CALENDAR()` is a built-in function to return all dates in a range\n",
    "- example:\n",
    "```\n",
    "Month_Year\n",
    "= SELECTCOLUMNS \n",
    "    (CALENDAR(DATE(1950,1,1),TODAY()),\n",
    "        \"Month\",MONTH([Date]),\n",
    "        \"Year\",YEAR([Date])\n",
    "    )\n",
    "```\n",
    "<center><img src=\"images/01.012.jpg\"  style=\"width: 400px, height: 300px;\"/></center>\n",
    "\n"
   ]
  },
  {
   "attachments": {},
   "cell_type": "markdown",
   "metadata": {},
   "source": [
    "# Defining relationships\n"
   ]
  },
  {
   "attachments": {},
   "cell_type": "markdown",
   "metadata": {},
   "source": [
    "- Relationships allow you to link tables in Power BI\n",
    "    - Propagate filters across tables\n",
    "    - Allow for cross-table calculations\n",
    "- Ways to manage relationships\n",
    "    - Autodetect based on column names\n",
    "    - Manually customization\n",
    "- Relationships are based on keys\n",
    "    - One or more columns which guarantee a row is unique\n",
    "    - Two types of keys:\n",
    "        - Natural key: existing column (e.g. email) as primary key\n",
    "        - Surrogate key: artificial column (e.g. ID) acts as primary key with increment\n",
    "    - Power BI requires single column relationships\n",
    "    - Composite key : : a key made up of at least two columns\n",
    "    - Cardinality\n",
    "        - A measure of the relationship between rows of two given tables\n",
    "        - Many-to-one/One-to-many: \n",
    "            - most commonly used\n",
    "            - Connect one row from the dimension to one or more rows in the fact table"
   ]
  },
  {
   "attachments": {},
   "cell_type": "markdown",
   "metadata": {},
   "source": [
    "<center><img src=\"images/01.013.jpg\"  style=\"width: 400px, height: 300px;\"/></center>\n",
    "<center><img src=\"images/01.014.jpg\"  style=\"width: 400px, height: 300px;\"/></center>\n",
    "<center><img src=\"images/01.015.jpg\"  style=\"width: 400px, height: 300px;\"/></center>"
   ]
  },
  {
   "attachments": {},
   "cell_type": "markdown",
   "metadata": {},
   "source": [
    "# Create New Table"
   ]
  },
  {
   "attachments": {},
   "cell_type": "markdown",
   "metadata": {},
   "source": [
    "- Go to `Data View`\n",
    "- Click `New Table`\n",
    "- For table dimension with date create table with `CALENDAR()`\n"
   ]
  },
  {
   "attachments": {},
   "cell_type": "markdown",
   "metadata": {},
   "source": [
    "<center><img src=\"images/01.031.jpg\"  style=\"width: 400px, height: 300px;\"/></center>\n",
    "<center><img src=\"images/01.032.jpg\"  style=\"width: 400px, height: 300px;\"/></center>\n"
   ]
  },
  {
   "attachments": {},
   "cell_type": "markdown",
   "metadata": {},
   "source": [
    "# Create Calculated Columns in a table"
   ]
  },
  {
   "attachments": {},
   "cell_type": "markdown",
   "metadata": {},
   "source": [
    "- Go to `Data View` > Select the table\n",
    "- Click `New Column`\n",
    "- Write calculation formula for new column"
   ]
  },
  {
   "attachments": {},
   "cell_type": "markdown",
   "metadata": {},
   "source": [
    "<center><img src=\"images/01.033.jpg\"  style=\"width: 400px, height: 300px;\"/></center>\n",
    "<center><img src=\"images/01.034.jpg\"  style=\"width: 400px, height: 300px;\"/></center>\n"
   ]
  },
  {
   "attachments": {},
   "cell_type": "markdown",
   "metadata": {},
   "source": [
    "# Creating Relationship between tables"
   ]
  },
  {
   "attachments": {},
   "cell_type": "markdown",
   "metadata": {},
   "source": [
    "- Go to `Model View`\n",
    "- Drag and drop the matching column from `dimension` table to `fact` table"
   ]
  },
  {
   "attachments": {},
   "cell_type": "markdown",
   "metadata": {},
   "source": [
    "<center><img src=\"images/01.035.jpg\"  style=\"width: 400px, height: 300px;\"/></center>\n"
   ]
  },
  {
   "attachments": {},
   "cell_type": "markdown",
   "metadata": {},
   "source": [
    "# Merging Columns"
   ]
  },
  {
   "attachments": {},
   "cell_type": "markdown",
   "metadata": {},
   "source": [
    "- Go to `Query Editor`\n",
    "- Select multiple columns\n",
    "- Right click > `Merge Columns`\n",
    "- From new window, select how to be merged "
   ]
  },
  {
   "attachments": {},
   "cell_type": "markdown",
   "metadata": {},
   "source": [
    "<center><img src=\"images/01.036.jpg\"  style=\"width: 400px, height: 300px;\"/></center>\n",
    "<center><img src=\"images/01.037.jpg\"  style=\"width: 400px, height: 300px;\"/></center>\n",
    "<center><img src=\"images/01.038.jpg\"  style=\"width: 400px, height: 300px;\"/></center>\n"
   ]
  },
  {
   "attachments": {},
   "cell_type": "markdown",
   "metadata": {},
   "source": [
    "# Investigating Relationship between Tables"
   ]
  },
  {
   "attachments": {},
   "cell_type": "markdown",
   "metadata": {},
   "source": [
    "- Go to `Model View`\n",
    "- Double click on a relationship\n",
    "- See the details from new window"
   ]
  },
  {
   "attachments": {},
   "cell_type": "markdown",
   "metadata": {},
   "source": [
    "<center><img src=\"images/01.039.jpg\"  style=\"width: 400px, height: 300px;\"/></center>\n",
    "<center><img src=\"images/01.040.jpg\"  style=\"width: 400px, height: 300px;\"/></center>\n"
   ]
  }
 ],
 "metadata": {
  "kernelspec": {
   "display_name": "env_py",
   "language": "python",
   "name": "python3"
  },
  "language_info": {
   "name": "python",
   "version": "3.8.11 (default, Aug  6 2021, 09:57:55) [MSC v.1916 64 bit (AMD64)]"
  },
  "orig_nbformat": 4,
  "vscode": {
   "interpreter": {
    "hash": "1e949e87132dd83f1a7623eb88007e3532b03b66b77111be347aa4a383049722"
   }
  }
 },
 "nbformat": 4,
 "nbformat_minor": 2
}
