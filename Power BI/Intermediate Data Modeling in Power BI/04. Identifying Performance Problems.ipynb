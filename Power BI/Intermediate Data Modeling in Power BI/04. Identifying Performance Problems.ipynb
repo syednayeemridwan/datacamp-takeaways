{
 "cells": [
  {
   "attachments": {},
   "cell_type": "markdown",
   "metadata": {},
   "source": [
    "# Performance problems"
   ]
  },
  {
   "attachments": {},
   "cell_type": "markdown",
   "metadata": {},
   "source": [
    "- Where things can go wrong:\n",
    "    - Data import\n",
    "    - Querying the database with DirectQuery\n",
    "    - Displaying visuals\n",
    "    - Calculated versus computed columns\n",
    "    - Inefficient relationships\n",
    "    - Many-to-many relationships\n",
    "    - Bi-directional cross-filtering\n",
    "- Optimizing data import\n",
    "    - Remove unnecessary rows and columns\n",
    "    - Choose correct data types\n",
    "        - Numeric data takes less space\n",
    "        - Casting and aggregating data is slower\n",
    "    - Group and summarize data\n",
    "        - Store less data on disk\n",
    "        - Get to aggregate results faster\n",
    "- Optimizing Direct Query\n",
    "    - Two ways to connect to data:\n",
    "        - Import model: stores data in Power BI\n",
    "        - Direct Query: directly queries the database from remote data source\n",
    "            - Limit parallel queries\n",
    "            - Make sure remote source is fast in response\n",
    "- Relational database advice\n",
    "    - Write efficient SQL queries\n",
    "    - Use appropriate indexes\n",
    "    - Get the right columns and rows\n",
    "- Use case for bi-directional filtering\n",
    "    - Find relevant slicer entries between dimensions (inefficient)\n",
    "    - We can create filter measures in DAX to avoid bi-directional relationships \n",
    "        - Is fact table empty for a given condition?\n",
    "        1. Create measure for filtering : `filter_fact = INT(NOT ISEMPTY(fact_table_name))`\n",
    "        2. Now use slicer in visual with `filter_fact =1`\n",
    "- Displaying optimized visuals\n",
    "    - Use restrictive filters to minimize data\n",
    "    - Show as little data as possible on visuals\n",
    "    - Limit the number of visuals on report pages\n",
    "    - Use only fast custom visuals (Usually custom visuals are slow)\n",
    "- Use computed columns over calculated columns when building custom columns\n",
    "<center><img src=\"images/04.01.jpg\"  style=\"width: 400px, height: 300px;\"/></center>\n"
   ]
  },
  {
   "attachments": {},
   "cell_type": "markdown",
   "metadata": {},
   "source": [
    "# See performance"
   ]
  },
  {
   "attachments": {},
   "cell_type": "markdown",
   "metadata": {},
   "source": [
    "- Go to `Report View`\n",
    "- Go to `View`\n",
    "- Click `Performance Analyzer`\n",
    "- From new pane, Select `Start Recording` and click `Refresh Visuals`\n",
    "- You will see how the visuals perform"
   ]
  },
  {
   "attachments": {},
   "cell_type": "markdown",
   "metadata": {},
   "source": [
    "<center><img src=\"images/04.031.jpg\"  style=\"width: 400px, height: 300px;\"/></center>\n",
    "<center><img src=\"images/04.032.jpg\"  style=\"width: 400px, height: 300px;\"/></center>\n"
   ]
  },
  {
   "attachments": {},
   "cell_type": "markdown",
   "metadata": {},
   "source": [
    "# Replacing Bi-directional Relationship with Measures"
   ]
  },
  {
   "attachments": {},
   "cell_type": "markdown",
   "metadata": {},
   "source": [
    "- From `Model View` make `both` directional relationships to `single` directional relationship between dimension table and fact table\n",
    "- Create `New Measure` for `dimension_table` holding `boolean` result in `integer` for whether any data in the table exist or not\n",
    "- formula : `dim_table_filter = INT( NOT ISEMPTY('dim_table_name'))`\n",
    "- Now add this `measure` to `Filter on this visual` pane and select `1` to return  the same result as bi-directional relationship"
   ]
  },
  {
   "attachments": {},
   "cell_type": "markdown",
   "metadata": {},
   "source": [
    "<center><img src=\"images/04.033.jpg\"  style=\"width: 400px, height: 300px;\"/></center>\n",
    "<center><img src=\"images/04.034.jpg\"  style=\"width: 400px, height: 300px;\"/></center>\n",
    "<center><img src=\"images/04.035.jpg\"  style=\"width: 400px, height: 300px;\"/></center>\n",
    "<center><img src=\"images/04.036.jpg\"  style=\"width: 400px, height: 300px;\"/></center>\n"
   ]
  }
 ],
 "metadata": {
  "kernelspec": {
   "display_name": "env_py",
   "language": "python",
   "name": "python3"
  },
  "language_info": {
   "name": "python",
   "version": "3.8.11 (default, Aug  6 2021, 09:57:55) [MSC v.1916 64 bit (AMD64)]"
  },
  "orig_nbformat": 4,
  "vscode": {
   "interpreter": {
    "hash": "1e949e87132dd83f1a7623eb88007e3532b03b66b77111be347aa4a383049722"
   }
  }
 },
 "nbformat": 4,
 "nbformat_minor": 2
}
