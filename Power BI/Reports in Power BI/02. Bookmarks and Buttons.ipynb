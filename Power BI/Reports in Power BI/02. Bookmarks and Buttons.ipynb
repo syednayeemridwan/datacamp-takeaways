{
 "cells": [
  {
   "attachments": {},
   "cell_type": "markdown",
   "metadata": {},
   "source": [
    "# Navigation "
   ]
  },
  {
   "attachments": {},
   "cell_type": "markdown",
   "metadata": {},
   "source": [
    "- Add structure to the story through step by step process\n",
    "- Structured navigation helps tell the story for reports"
   ]
  },
  {
   "attachments": {},
   "cell_type": "markdown",
   "metadata": {},
   "source": [
    "# Bookmarks\n"
   ]
  },
  {
   "attachments": {},
   "cell_type": "markdown",
   "metadata": {},
   "source": [
    "- A way of capturing pre-defined state in Power BI\n",
    "- Similar to browser bookmarks, \n",
    "    - but not the same as browser bookmarks\n",
    "- Tracks Currently selected page\n",
    "- Tracks Filter settings\n",
    "- Tracks Slicer selections\n",
    "- Tracks Visual selection state\n",
    "- Tracks Sort order\n",
    "- Tracks Drill location\n",
    "- Tracks Visibility of objects"
   ]
  },
  {
   "attachments": {},
   "cell_type": "markdown",
   "metadata": {},
   "source": [
    "# Buttons\n"
   ]
  },
  {
   "attachments": {},
   "cell_type": "markdown",
   "metadata": {},
   "source": [
    "- Perform actions on pages\n",
    "- Drill through to a new page\n",
    "- Navigate to a specific page\n",
    "- Select a bookmark\n",
    "- Navigate to a web URL"
   ]
  },
  {
   "attachments": {},
   "cell_type": "markdown",
   "metadata": {},
   "source": [
    "# Creating Bookmarks"
   ]
  },
  {
   "attachments": {},
   "cell_type": "markdown",
   "metadata": {},
   "source": [
    "- From `Report view` Go to `view`\n",
    "- Click `Bookmarks`\n",
    "- A `Bookmarks` pane will appear\n",
    "- Click on `Add` to add the current state in the bookmarks\n",
    "- You can rename the bookmark by clicking on `...` > `Rename`\n",
    "- You can click on any visual and make specific states and add them to the bookmark (For example, drilldown)\n",
    "- To view all the bookmarks from `Bookmarks` pane click `View`\n",
    "- Slides of bookmark will appear and you can view them one by one from the bottom of the page\n",
    "- To exit, from `Bookmarks` pane click `Exit`  "
   ]
  },
  {
   "attachments": {},
   "cell_type": "markdown",
   "metadata": {},
   "source": [
    "<center><img src=\"images/02.031.jpg\"  style=\"width: 400px, height: 300px;\"/></center>\n",
    "<center><img src=\"images/02.032.jpg\"  style=\"width: 400px, height: 300px;\"/></center>\n",
    "<center><img src=\"images/02.033.jpg\"  style=\"width: 400px, height: 300px;\"/></center>\n",
    "<center><img src=\"images/02.034.jpg\"  style=\"width: 400px, height: 300px;\"/></center>\n",
    "<center><img src=\"images/02.035.jpg\"  style=\"width: 400px, height: 300px;\"/></center>\n",
    "<center><img src=\"images/02.036.jpg\"  style=\"width: 400px, height: 300px;\"/></center>\n",
    "<center><img src=\"images/02.037.jpg\"  style=\"width: 400px, height: 300px;\"/></center>\n",
    "<center><img src=\"images/02.038.jpg\"  style=\"width: 400px, height: 300px;\"/></center>\n",
    "<center><img src=\"images/02.039.jpg\"  style=\"width: 400px, height: 300px;\"/></center>\n"
   ]
  },
  {
   "attachments": {},
   "cell_type": "markdown",
   "metadata": {},
   "source": [
    "# Creating Buttons"
   ]
  },
  {
   "attachments": {},
   "cell_type": "markdown",
   "metadata": {},
   "source": [
    "- From `Report view` Go to `Insert`\n",
    "- Click `Buttons`\n",
    "- A list of buttons will appear\n",
    "- Choose specific buttons\n",
    "- A `Format Button` pane will appear\n",
    "- You can customize the button and appearance from here\n",
    "- To specify the action of button click `action`\n",
    "- From `type` dropdown, select action type\n",
    "- From `Destination` dropdown, select specific page to go to\n",
    "- Now `Ctrl` + Click will redirect the button to that specific page"
   ]
  },
  {
   "attachments": {},
   "cell_type": "markdown",
   "metadata": {},
   "source": [
    "\n",
    "<center><img src=\"images/02.040.jpg\"  style=\"width: 400px, height: 300px;\"/></center>\n",
    "<center><img src=\"images/02.041.jpg\"  style=\"width: 400px, height: 300px;\"/></center>\n",
    "<center><img src=\"images/02.042.jpg\"  style=\"width: 400px, height: 300px;\"/></center>\n",
    "<center><img src=\"images/02.043.jpg\"  style=\"width: 400px, height: 300px;\"/></center>\n"
   ]
  }
 ],
 "metadata": {
  "kernelspec": {
   "display_name": "env_py",
   "language": "python",
   "name": "python3"
  },
  "language_info": {
   "name": "python",
   "version": "3.8.11 (default, Aug  6 2021, 09:57:55) [MSC v.1916 64 bit (AMD64)]"
  },
  "orig_nbformat": 4,
  "vscode": {
   "interpreter": {
    "hash": "1e949e87132dd83f1a7623eb88007e3532b03b66b77111be347aa4a383049722"
   }
  }
 },
 "nbformat": 4,
 "nbformat_minor": 2
}
