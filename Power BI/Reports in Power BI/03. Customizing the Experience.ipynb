{
 "cells": [
  {
   "attachments": {},
   "cell_type": "markdown",
   "metadata": {},
   "source": [
    "# Button States and Styles"
   ]
  },
  {
   "attachments": {},
   "cell_type": "markdown",
   "metadata": {},
   "source": [
    "- Four states for buttons\n",
    "    - default\n",
    "    - on hover\n",
    "    - on press\n",
    "    - disabled\n",
    "- Can style \n",
    "    - button text\n",
    "    - icon\n",
    "    - outline\n",
    "    - fill based on state\n",
    "- Things cannot be changed for elements like\n",
    "    - visual header\n",
    "    - action\n",
    "    - shadow\n",
    "    - border\n",
    "- Custom tooltips\n",
    "    - Power BI page which appears on mouse-over\n",
    "    - Two types: \n",
    "        - tooltip on item \n",
    "        - visual header tooltip\n",
    "    - NOT interactive\n",
    "- Unicode symbols and emoji\n",
    "- Conditional formatting on tables\n",
    "    - Background color\n",
    "    - Font color\n",
    "    - Data bars\n",
    "    - Icons\n",
    "    - Web URL\n",
    "- Edit interactions\n",
    "    - Enable or disable cross-filtering between specific visuals (Changing the visual result because of selecting other visual dependency)\n",
    "    - Filter or highlight certain visuals\n",
    "    - Allow a treemap to drill down for the entire page or just its own visual\n",
    "    - example : Prevent \"totals\" cards from updating as a result of slicers or cross-filters\n",
    "- Highlighting selection"
   ]
  },
  {
   "attachments": {},
   "cell_type": "markdown",
   "metadata": {},
   "source": [
    "# Changing Button Interaction"
   ]
  },
  {
   "attachments": {},
   "cell_type": "markdown",
   "metadata": {},
   "source": [
    "### Icon Interaction"
   ]
  },
  {
   "attachments": {},
   "cell_type": "markdown",
   "metadata": {},
   "source": [
    "- Select the button\n",
    "- From `format button` pane, click `Icon`\n",
    "- Select `Disabled`\n",
    "- Select what will show when disabled"
   ]
  },
  {
   "attachments": {},
   "cell_type": "markdown",
   "metadata": {},
   "source": [
    "<center><img src=\"images/03.031.jpg\"  style=\"width: 400px, height: 300px;\"/></center>\n"
   ]
  },
  {
   "attachments": {},
   "cell_type": "markdown",
   "metadata": {},
   "source": [
    "### Button Text Interaction"
   ]
  },
  {
   "attachments": {},
   "cell_type": "markdown",
   "metadata": {},
   "source": [
    "- Select the button\n",
    "- From `format button` pane, click `Button Text`\n",
    "- Select `Disabled`\n",
    "- Select what will happen when disabled\n"
   ]
  },
  {
   "attachments": {},
   "cell_type": "markdown",
   "metadata": {},
   "source": [
    "<center><img src=\"images/03.032.jpg\"  style=\"width: 400px, height: 300px;\"/></center>\n"
   ]
  },
  {
   "attachments": {},
   "cell_type": "markdown",
   "metadata": {},
   "source": [
    "### Button Text Border\n"
   ]
  },
  {
   "attachments": {},
   "cell_type": "markdown",
   "metadata": {},
   "source": [
    "- Select the button\n",
    "- From `format button` pane, click `Outline`\n",
    "- Select `On hover`\n",
    "- Select `outline weight ` as how bold will the border be  when button is selected\n"
   ]
  },
  {
   "attachments": {},
   "cell_type": "markdown",
   "metadata": {},
   "source": [
    "<center><img src=\"images/03.033.jpg\"  style=\"width: 400px, height: 300px;\"/></center>\n",
    "<center><img src=\"images/03.034.jpg\"  style=\"width: 400px, height: 300px;\"/></center>\n"
   ]
  },
  {
   "attachments": {},
   "cell_type": "markdown",
   "metadata": {},
   "source": [
    "# Creating Hover Tooltip page "
   ]
  },
  {
   "attachments": {},
   "cell_type": "markdown",
   "metadata": {},
   "source": [
    "- Create a new page\n",
    "- Right click > `Hide Page` \n",
    "- From `visualizations` pane > Go to `Format` tab > turn on `Tooltip` \n",
    "- Make `page size`  as `tooltip`\n",
    "- Create a visual on this page\n",
    "- Now you can use this tooltip page in 2 ways\n",
    "    1. As a hover on data\n",
    "    2. As a hover on header\n",
    "1. Hover on Data\n",
    "    - Select the visual\n",
    "    -  From `visualizations` pane > Go to `Format` tab > turn on `Tooltip` \n",
    "    - For `Type` choose `Report page`\n",
    "    - For `Page` choose the created tooltip page\n",
    "    - Now hovering over any data in visual will show tooltip related to that data\n",
    "2. Hover on header  \n",
    "    - Select the visual\n",
    "    -  From `visualizations` pane > Go to `Format` tab > turn on `Visual header Tooltip` \n",
    "    - For `Type` choose `Report page`\n",
    "    - For `Report page` choose the created tooltip page\n",
    "    - Now hovering over the header of the visual will show tooltip related to that visual\n"
   ]
  },
  {
   "attachments": {},
   "cell_type": "markdown",
   "metadata": {},
   "source": [
    "<center><img src=\"images/03.035.jpg\"  style=\"width: 400px, height: 300px;\"/></center>\n",
    "<center><img src=\"images/03.036.jpg\"  style=\"width: 400px, height: 300px;\"/></center>\n",
    "<center><img src=\"images/03.037.jpg\"  style=\"width: 400px, height: 300px;\"/></center>\n",
    "<center><img src=\"images/03.038.jpg\"  style=\"width: 400px, height: 300px;\"/></center>\n",
    "<center><img src=\"images/03.039.jpg\"  style=\"width: 400px, height: 300px;\"/></center>\n",
    "<center><img src=\"images/03.040.jpg\"  style=\"width: 400px, height: 300px;\"/></center>\n",
    "<center><img src=\"images/03.041.jpg\"  style=\"width: 400px, height: 300px;\"/></center>\n",
    "<center><img src=\"images/03.042.jpg\"  style=\"width: 400px, height: 300px;\"/></center>\n"
   ]
  },
  {
   "attachments": {},
   "cell_type": "markdown",
   "metadata": {},
   "source": [
    "# Creating emoji"
   ]
  },
  {
   "attachments": {},
   "cell_type": "markdown",
   "metadata": {},
   "source": [
    "- Create a new column\n",
    "- Put emojis as conditions with `Switch`\n",
    "- Add the column in table"
   ]
  },
  {
   "attachments": {},
   "cell_type": "markdown",
   "metadata": {},
   "source": [
    "<center><img src=\"images/03.043.jpg\"  style=\"width: 400px, height: 300px;\"/></center>\n",
    "<center><img src=\"images/03.044.jpg\"  style=\"width: 400px, height: 300px;\"/></center>\n"
   ]
  },
  {
   "attachments": {},
   "cell_type": "markdown",
   "metadata": {},
   "source": [
    "# Conditional Formatting"
   ]
  },
  {
   "attachments": {},
   "cell_type": "markdown",
   "metadata": {},
   "source": [
    "- Select a visual\n",
    "- From `visualizations` pane > from list of variable click the dropdown\n",
    "- go to `Conditional Formatting` > select specified formatting\n",
    "- Customize the formatting "
   ]
  },
  {
   "attachments": {},
   "cell_type": "markdown",
   "metadata": {},
   "source": [
    "<center><img src=\"images/03.045.jpg\"  style=\"width: 400px, height: 300px;\"/></center>\n",
    "<center><img src=\"images/03.046.jpg\"  style=\"width: 400px, height: 300px;\"/></center>\n",
    "<center><img src=\"images/03.047.jpg\"  style=\"width: 400px, height: 300px;\"/></center>\n",
    "<center><img src=\"images/03.048.jpg\"  style=\"width: 400px, height: 300px;\"/></center>\n",
    "<center><img src=\"images/03.049.jpg\"  style=\"width: 400px, height: 300px;\"/></center>\n",
    "<center><img src=\"images/03.050.jpg\"  style=\"width: 400px, height: 300px;\"/></center>\n",
    "<center><img src=\"images/03.051.jpg\"  style=\"width: 400px, height: 300px;\"/></center>\n"
   ]
  },
  {
   "attachments": {},
   "cell_type": "markdown",
   "metadata": {},
   "source": [
    "# Customizing Visual interaction with each-others"
   ]
  },
  {
   "attachments": {},
   "cell_type": "markdown",
   "metadata": {},
   "source": [
    "- From `report page` > go to `Format`\n",
    "- Click `Edit Interactions`\n",
    "- Select a visual\n",
    "- You can choose to close or highlight other visual based on that visual\n",
    "    - This  will change how other visuals will behave based on the selected visual\n",
    "- Click `Edit Interactions` again to save and close the settings"
   ]
  },
  {
   "attachments": {},
   "cell_type": "markdown",
   "metadata": {},
   "source": [
    "<center><img src=\"images/03.052.jpg\"  style=\"width: 400px, height: 300px;\"/></center>\n",
    "<center><img src=\"images/03.053.jpg\"  style=\"width: 400px, height: 300px;\"/></center>\n",
    "<center><img src=\"images/03.054.jpg\"  style=\"width: 400px, height: 300px;\"/></center>\n"
   ]
  }
 ],
 "metadata": {
  "kernelspec": {
   "display_name": "env_py",
   "language": "python",
   "name": "python3"
  },
  "language_info": {
   "name": "python",
   "version": "3.8.11 (default, Aug  6 2021, 09:57:55) [MSC v.1916 64 bit (AMD64)]"
  },
  "orig_nbformat": 4,
  "vscode": {
   "interpreter": {
    "hash": "1e949e87132dd83f1a7623eb88007e3532b03b66b77111be347aa4a383049722"
   }
  }
 },
 "nbformat": 4,
 "nbformat_minor": 2
}
