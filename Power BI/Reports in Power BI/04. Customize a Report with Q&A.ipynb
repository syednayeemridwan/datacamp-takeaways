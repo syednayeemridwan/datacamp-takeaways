{
 "cells": [
  {
   "attachments": {},
   "cell_type": "markdown",
   "metadata": {},
   "source": [
    "# Q&A Visuals"
   ]
  },
  {
   "attachments": {},
   "cell_type": "markdown",
   "metadata": {},
   "source": [
    "- Natural language queries (English) : Input questions as queries and View resulting data\n",
    "- Auto-complete : \n",
    "- Spelling corrections\n",
    "- Preview answers\n",
    "- Lmitations : See words Q&A doesn't understand \n",
    "- Limited control over the visual!\n",
    "- How it works:\n",
    "    - Ask for a column or measure by name\n",
    "    - Filtering and grouping with prepositions like `for` , `by` , `grouped by` , and `where`\n",
    "    - Example query: `col1` by `col2` grouped by `col3` as `ribbon chart`\n",
    "    - Natural language processing reads the query and decides on the proper visual\n",
    "    - Fune-tuning: Can convert from Q&A to the actual visual\n",
    "- Synonyms:\n",
    "    - Multiple terms for the same column\n",
    "    - Use suggested values or define your own\n",
    "    - Treat these like actual column names\n",
    "    - Warning: don't overlap synonyms!\n",
    "    - Nouns: Fields / column names\n",
    "    - Adjectives: filters for data\n",
    "    - Verbs : Do not work well (Recommended to not use)\n",
    "- Best Practices\n",
    "    - Make Q&A work better\n",
    "    - Name columns and measures in a business-friendly manner: `Actual Amount` versus `amt_act`\n",
    "    - Create terms and synonyms as needed\n",
    "    - Provide sample questions for your data (using the Power BI Online service)"
   ]
  },
  {
   "attachments": {},
   "cell_type": "markdown",
   "metadata": {},
   "source": [
    "# Creating Q&A Visuals"
   ]
  },
  {
   "attachments": {},
   "cell_type": "markdown",
   "metadata": {},
   "source": [
    "- From `report view` click Q&A visual\n",
    "- Search like `col1 by col2` to see what type of chart it makes\n",
    "- To make the specific chart search like `col1 by col2 as line chart`\n",
    "- For date use like : `col1 by col2 by date monday as line chart`\n",
    "- You can turn this into standard visual by clicking on the left option from top-right corner\n",
    "- You can create synonyms for column or teach it specific keywords by clicking on the right option from top-right corner\n",
    "    - `Find Synonyms`\n",
    "    - `Teach Q&A` etc"
   ]
  },
  {
   "attachments": {},
   "cell_type": "markdown",
   "metadata": {},
   "source": [
    "<center><img src=\"images/04.031.jpg\"  style=\"width: 400px, height: 300px;\"/></center>\n",
    "<center><img src=\"images/04.032.jpg\"  style=\"width: 400px, height: 300px;\"/></center>\n",
    "<center><img src=\"images/04.033.jpg\"  style=\"width: 400px, height: 300px;\"/></center>\n",
    "<center><img src=\"images/04.034.jpg\"  style=\"width: 400px, height: 300px;\"/></center>\n",
    "<center><img src=\"images/04.035.jpg\"  style=\"width: 400px, height: 300px;\"/></center>\n",
    "<center><img src=\"images/04.036.jpg\"  style=\"width: 400px, height: 300px;\"/></center>\n"
   ]
  },
  {
   "attachments": {},
   "cell_type": "markdown",
   "metadata": {},
   "source": [
    "### Field Synonyms"
   ]
  },
  {
   "attachments": {},
   "cell_type": "markdown",
   "metadata": {},
   "source": [
    "- To use them as replacement of column name in search\n",
    "- From new window, select `Field Synonyms`\n",
    "- Click specific table\n",
    "- There are `suggested terms` available\n",
    "    - click on `+` to add them as synonyms\n",
    "- To make your own synonyms, From `Terms` click `Add` and give it a name"
   ]
  },
  {
   "attachments": {},
   "cell_type": "markdown",
   "metadata": {},
   "source": [
    "<center><img src=\"images/04.037.jpg\"  style=\"width: 400px, height: 300px;\"/></center>\n"
   ]
  },
  {
   "attachments": {},
   "cell_type": "markdown",
   "metadata": {},
   "source": [
    "### Teach Q&A"
   ]
  },
  {
   "attachments": {},
   "cell_type": "markdown",
   "metadata": {},
   "source": [
    "- Sometimes Q&A visual do not understand a question\n",
    "- Open `Teach Q&A`\n",
    "- Enter specific question\n",
    "- There are suggestions available on what you mean by the term that Q&A does not understand\n",
    "    - You can select the term that match the specified criteria\n",
    "    - You can also see preview for the outcome\n",
    "    - After specifying everythin, you can `save`\n",
    "- Now the Q&A visual will understand that specified terms related questions"
   ]
  },
  {
   "attachments": {},
   "cell_type": "markdown",
   "metadata": {},
   "source": [
    "<center><img src=\"images/04.038.jpg\"  style=\"width: 400px, height: 300px;\"/></center>\n",
    "<center><img src=\"images/04.039.jpg\"  style=\"width: 400px, height: 300px;\"/></center>\n"
   ]
  }
 ],
 "metadata": {
  "kernelspec": {
   "display_name": "env_py",
   "language": "python",
   "name": "python3"
  },
  "language_info": {
   "name": "python",
   "version": "3.8.11 (default, Aug  6 2021, 09:57:55) [MSC v.1916 64 bit (AMD64)]"
  },
  "orig_nbformat": 4,
  "vscode": {
   "interpreter": {
    "hash": "1e949e87132dd83f1a7623eb88007e3532b03b66b77111be347aa4a383049722"
   }
  }
 },
 "nbformat": 4,
 "nbformat_minor": 2
}
