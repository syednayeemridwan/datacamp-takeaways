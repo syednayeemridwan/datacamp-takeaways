{
 "cells": [
  {
   "attachments": {},
   "cell_type": "markdown",
   "metadata": {},
   "source": [
    "# key influencers"
   ]
  },
  {
   "attachments": {},
   "cell_type": "markdown",
   "metadata": {},
   "source": [
    "- How much Explanatory variables explains the vairability of the outcome \n",
    "- cause a significant change in the characteristic of a target variable.\n",
    "- Levereges regression model behind the scene to identify important variables\n",
    "- Sometimes key influencers won't be found at all\n",
    "    - explanatory fields have too many categories\n",
    "        - transform into a new categorical variable with consolidated categories\n",
    "    - there aren't enough observations to derive patterns\n",
    "        - increase the sample size or find new data\n",
    "    - There are simply no key influencers due to the visualization not catching the pattern because it is too generalized\n",
    "        - explore other explanatory variables\n",
    "- Use Cases\n",
    "    - Determine major drivers of a metric\n",
    "    - Compare the relative importance of variables\n",
    "    - Explore relationships between a target and another variable"
   ]
  },
  {
   "attachments": {},
   "cell_type": "markdown",
   "metadata": {},
   "source": [
    "# Creating Chart for Key Influencers"
   ]
  },
  {
   "attachments": {},
   "cell_type": "markdown",
   "metadata": {},
   "source": [
    "- From `Report View` choose `key influencers` visualization\n",
    "- Put target variable in `Analyze` and put other variables in `Explain by` in the visualization pane\n",
    "- It will show key influencers in term of `increase` and `decrease` in `key influencers` tab\n",
    "- clicking on any key influencer will show details about that influencer\n",
    "- In `Top segments` tab it will show available clusters\n",
    "- Clicking on a cluster will show detail information about that cluster\n",
    "- You can also see other cluster from `low` or `high` options"
   ]
  },
  {
   "attachments": {},
   "cell_type": "markdown",
   "metadata": {},
   "source": [
    "<center><img src=\"images/04.031.jpg\"  style=\"width: 400px, height: 300px;\"/></center>\n",
    "<center><img src=\"images/04.032.jpg\"  style=\"width: 400px, height: 300px;\"/></center>\n",
    "<center><img src=\"images/04.033.jpg\"  style=\"width: 400px, height: 300px;\"/></center>\n",
    "<center><img src=\"images/04.034.jpg\"  style=\"width: 400px, height: 300px;\"/></center>\n",
    "<center><img src=\"images/04.035.jpg\"  style=\"width: 400px, height: 300px;\"/></center>\n",
    "<center><img src=\"images/04.036.jpg\"  style=\"width: 400px, height: 300px;\"/></center>\n"
   ]
  }
 ],
 "metadata": {
  "kernelspec": {
   "display_name": "env_py",
   "language": "python",
   "name": "python3"
  },
  "language_info": {
   "name": "python",
   "version": "3.8.11 (default, Aug  6 2021, 09:57:55) [MSC v.1916 64 bit (AMD64)]"
  },
  "orig_nbformat": 4,
  "vscode": {
   "interpreter": {
    "hash": "1e949e87132dd83f1a7623eb88007e3532b03b66b77111be347aa4a383049722"
   }
  }
 },
 "nbformat": 4,
 "nbformat_minor": 2
}
