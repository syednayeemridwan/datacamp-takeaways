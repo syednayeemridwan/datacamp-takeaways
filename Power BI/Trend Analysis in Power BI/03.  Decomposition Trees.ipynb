{
 "cells": [
  {
   "attachments": {},
   "cell_type": "markdown",
   "metadata": {},
   "source": [
    "# Decomposition Tree"
   ]
  },
  {
   "attachments": {},
   "cell_type": "markdown",
   "metadata": {},
   "source": [
    "- A method for breaking down a target variable by multiple dimensions or variables to determine resulting influence\n",
    "- Provides insights how each variable influences the value of the target variable\n",
    "- Use Cases:\n",
    "    - Ad hoc exploration\n",
    "    - Root cause analysis\n",
    "    - Identifying influential variables"
   ]
  },
  {
   "attachments": {},
   "cell_type": "markdown",
   "metadata": {},
   "source": [
    "# Structure"
   ]
  },
  {
   "attachments": {},
   "cell_type": "markdown",
   "metadata": {},
   "source": [
    "<center><img src=\"images/03.011.jpg\"  style=\"width: 400px, height: 300px;\"/></center>\n",
    "<center><img src=\"images/03.012.jpg\"  style=\"width: 400px, height: 300px;\"/></center>\n"
   ]
  },
  {
   "attachments": {},
   "cell_type": "markdown",
   "metadata": {},
   "source": [
    "- One root node\n",
    "- Analyzed / Explained by : \n",
    "    - Multiple variables. \n",
    "    - One variable = one label\n",
    "- Each label has multiple child nodes\n",
    "    - Each node is a value of that variable / label\n",
    "- The rightmost nodes are leaf nodes\n",
    "- The connection from root to leaf node is a path\n",
    "    - Path shows how a variable changes in each label that results in the root node because of a leaf node (Like decision tree)\n",
    "- Fill of each bar is determined by the max child nodes  value in a label\n"
   ]
  },
  {
   "attachments": {},
   "cell_type": "markdown",
   "metadata": {},
   "source": [
    "# Creating Decomposition Trees"
   ]
  },
  {
   "attachments": {},
   "cell_type": "markdown",
   "metadata": {},
   "source": [
    "- Create a measure with `New Measure`\n",
    "- The measure should be in percentage and with `CALCULATE` function\n",
    "- From `Report View` Choose `Decomposition Tree` visual\n",
    "- Drag the `measure` to `Analyze` in `visualizations` pane\n",
    "- Drag the columns to `Explain By` in `visualizations` pane\n",
    "- You can lock a visual\n",
    "    - Locking first label and removing others will create decomposition hierarchy that you can extend\n",
    "- Clicking on the `+` icon of the visual will show the columns as variables to investigate the path\n",
    "- Clicking on a node will show the path that goes through that node\n",
    "- `High value` and `Low value` from the `+` icon of the visual will show the path with highest and lowest ratio choices of nodes in the columns / variables"
   ]
  },
  {
   "attachments": {},
   "cell_type": "markdown",
   "metadata": {},
   "source": [
    "<center><img src=\"images/03.031.jpg\"  style=\"width: 400px, height: 300px;\"/></center>\n",
    "<center><img src=\"images/03.032.jpg\"  style=\"width: 400px, height: 300px;\"/></center>\n",
    "<center><img src=\"images/03.033.jpg\"  style=\"width: 400px, height: 300px;\"/></center>\n",
    "<center><img src=\"images/03.034.jpg\"  style=\"width: 400px, height: 300px;\"/></center>\n",
    "<center><img src=\"images/03.035.jpg\"  style=\"width: 400px, height: 300px;\"/></center>\n",
    "<center><img src=\"images/03.036.jpg\"  style=\"width: 400px, height: 300px;\"/></center>\n",
    "<center><img src=\"images/03.037.jpg\"  style=\"width: 400px, height: 300px;\"/></center>\n"
   ]
  }
 ],
 "metadata": {
  "kernelspec": {
   "display_name": "env_py",
   "language": "python",
   "name": "python3"
  },
  "language_info": {
   "name": "python",
   "version": "3.8.11 (default, Aug  6 2021, 09:57:55) [MSC v.1916 64 bit (AMD64)]"
  },
  "orig_nbformat": 4,
  "vscode": {
   "interpreter": {
    "hash": "1e949e87132dd83f1a7623eb88007e3532b03b66b77111be347aa4a383049722"
   }
  }
 },
 "nbformat": 4,
 "nbformat_minor": 2
}
