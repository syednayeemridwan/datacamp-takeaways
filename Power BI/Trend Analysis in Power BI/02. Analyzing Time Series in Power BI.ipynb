{
 "cells": [
  {
   "attachments": {},
   "cell_type": "markdown",
   "metadata": {},
   "source": [
    "# Run Chart"
   ]
  },
  {
   "attachments": {},
   "cell_type": "markdown",
   "metadata": {},
   "source": [
    "- Line chart\n",
    "- Data is shown in time sequence\n"
   ]
  },
  {
   "attachments": {},
   "cell_type": "markdown",
   "metadata": {},
   "source": [
    "# Patterns in a time series"
   ]
  },
  {
   "attachments": {},
   "cell_type": "markdown",
   "metadata": {},
   "source": [
    "- Cyclical Pattern\n",
    "    - Rise and fall pattern\n",
    "    - No fixed time period\n",
    "    - Pattern typically longer than a year in length\n",
    "    - Less predictable\n",
    "- Seasonality\n",
    "    - Pattern is influenced by the season (ex. holiday spending)\n",
    "    - Fixed time periods\n",
    "    - Pattern typically occurs over less than a year\n",
    "<center><img src=\"images/02.011.jpg\"  style=\"width: 400px, height: 300px;\"/></center>\n",
    "<center><img src=\"images/02.012.jpg\"  style=\"width: 400px, height: 300px;\"/></center>\n"
   ]
  },
  {
   "attachments": {},
   "cell_type": "markdown",
   "metadata": {},
   "source": [
    "# Underlying Trend"
   ]
  },
  {
   "attachments": {},
   "cell_type": "markdown",
   "metadata": {},
   "source": [
    "- Simple Trend Line\n",
    "    - shows simple direction\n",
    "- Rolling / Moving Average\n",
    "    - Average values withing a specific time window\n",
    "    - Also known as smoothing\n",
    "    - Removes random variations in data\n",
    "<center><img src=\"images/02.013.jpg\"  style=\"width: 400px, height: 300px;\"/></center>\n",
    "<center><img src=\"images/02.014.jpg\"  style=\"width: 400px, height: 300px;\"/></center>\n",
    "    "
   ]
  },
  {
   "attachments": {},
   "cell_type": "markdown",
   "metadata": {},
   "source": [
    "# Anomalies in a time series"
   ]
  },
  {
   "attachments": {},
   "cell_type": "markdown",
   "metadata": {},
   "source": [
    "- A point in time series that falls outside of expected trend\n",
    "<center><img src=\"images/02.015.jpg\"  style=\"width: 400px, height: 300px;\"/></center>\n"
   ]
  },
  {
   "attachments": {},
   "cell_type": "markdown",
   "metadata": {},
   "source": [
    "# Creating Run Chart"
   ]
  },
  {
   "attachments": {},
   "cell_type": "markdown",
   "metadata": {},
   "source": [
    "- From `Report View` choose `line chart`\n",
    "- Add specified columns in line chart. keep date on X axis\n",
    "- Go to `Visualizations` pane > `Analytics` > `Trendline` to create trendline for the chart"
   ]
  },
  {
   "attachments": {},
   "cell_type": "markdown",
   "metadata": {},
   "source": [
    "<center><img src=\"images/02.031.jpg\"  style=\"width: 400px, height: 300px;\"/></center>\n",
    "<center><img src=\"images/02.032.jpg\"  style=\"width: 400px, height: 300px;\"/></center>\n",
    "<center><img src=\"images/02.033.jpg\"  style=\"width: 400px, height: 300px;\"/></center>\n"
   ]
  },
  {
   "attachments": {},
   "cell_type": "markdown",
   "metadata": {},
   "source": [
    "# Creating Rolling Average Trend"
   ]
  },
  {
   "attachments": {},
   "cell_type": "markdown",
   "metadata": {},
   "source": [
    "- Click on `quick measure`\n",
    "- Select `Rolling Average`\n",
    "- Select specified fields\n",
    "- Drag the measure to the run chart to create the line as new trendline"
   ]
  },
  {
   "attachments": {},
   "cell_type": "markdown",
   "metadata": {},
   "source": [
    "<center><img src=\"images/02.033.jpg\"  style=\"width: 400px, height: 300px;\"/></center>\n",
    "\n",
    "<center><img src=\"images/02.034.jpg\"  style=\"width: 400px, height: 300px;\"/></center>\n",
    "<center><img src=\"images/02.035.jpg\"  style=\"width: 400px, height: 300px;\"/></center>\n"
   ]
  },
  {
   "attachments": {},
   "cell_type": "markdown",
   "metadata": {},
   "source": [
    "# Finding Anomaly"
   ]
  },
  {
   "attachments": {},
   "cell_type": "markdown",
   "metadata": {},
   "source": [
    "- If there are multiple lines then Power BI cannot show anomaly \n",
    "- Keep only one line in the chart\n",
    "- Go to `Visualizations` pane > `Analytics` > `Find Anomalies` > `Add` > select sensitivity to find anomaly for the line chart (98% normally)\n",
    "- Higher sensitivity  = more abnormal datapoints\n",
    "- The points will show the anomaly datapoints\n",
    "- Drag new fields in `Explain By` to see relationship of the field with anomaly."
   ]
  },
  {
   "attachments": {},
   "cell_type": "markdown",
   "metadata": {},
   "source": [
    "<center><img src=\"images/02.036.jpg\"  style=\"width: 400px, height: 300px;\"/></center>\n",
    "<center><img src=\"images/02.037.jpg\"  style=\"width: 400px, height: 300px;\"/></center>\n",
    "<center><img src=\"images/02.038.jpg\"  style=\"width: 400px, height: 300px;\"/></center>\n",
    "<center><img src=\"images/02.039.jpg\"  style=\"width: 400px, height: 300px;\"/></center>\n",
    "<center><img src=\"images/02.040.jpg\"  style=\"width: 400px, height: 300px;\"/></center>\n",
    "<center><img src=\"images/02.041.jpg\"  style=\"width: 400px, height: 300px;\"/></center>\n"
   ]
  }
 ],
 "metadata": {
  "kernelspec": {
   "display_name": "env_py",
   "language": "python",
   "name": "python3"
  },
  "language_info": {
   "name": "python",
   "version": "3.8.11 (default, Aug  6 2021, 09:57:55) [MSC v.1916 64 bit (AMD64)]"
  },
  "orig_nbformat": 4,
  "vscode": {
   "interpreter": {
    "hash": "1e949e87132dd83f1a7623eb88007e3532b03b66b77111be347aa4a383049722"
   }
  }
 },
 "nbformat": 4,
 "nbformat_minor": 2
}
