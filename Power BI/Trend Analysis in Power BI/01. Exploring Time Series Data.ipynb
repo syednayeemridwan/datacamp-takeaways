{
 "cells": [
  {
   "attachments": {},
   "cell_type": "markdown",
   "metadata": {},
   "source": [
    "# Time Series"
   ]
  },
  {
   "attachments": {},
   "cell_type": "markdown",
   "metadata": {},
   "source": [
    "- A series of data points graphed in chronological order.\n",
    "- it is a sequence taken at successive equally spaced points in time.\n",
    "- Use Cases:\n",
    "    - Understand Patterns (e.g. cyclical) in a variable\n",
    "    - Season-specific trends\n",
    "    - Systemic challenges\n",
    "    - Relationships with a target outcome\n",
    "    - Informing a forecasting model\n",
    "    - Measuring the change over a period of time (period over period change)\n",
    "        - `(current_period - previous_period) / previous_period`\n",
    "- Examples:\n",
    "    - Weather\n",
    "    - Heart rate monitoring\n",
    "    - Quarterly sales\n",
    "    - Interest rates\n",
    "- Can be decomposed into different grains or individual parts:\n",
    "    - From a `date-time` data-type to\n",
    "    - year\n",
    "    - month\n",
    "    - day\n",
    "    - day of week\n",
    "    - hour \n",
    "    - minute\n",
    "    - second "
   ]
  },
  {
   "attachments": {},
   "cell_type": "markdown",
   "metadata": {},
   "source": [
    "# DAX functions for dates\n"
   ]
  },
  {
   "attachments": {},
   "cell_type": "markdown",
   "metadata": {},
   "source": [
    "- `DATE(some_col)` : constructs a date value from parts (e.g. year, month, and day)\n",
    "- `LEFT(some_col,2)` : extracts a given number of characters from a set of characters, starting from the left side.\n",
    "- `RIGHT(some_col,2)` : extracts a given number of characters from a set of characters, starting from the right side\n",
    "- `MID(some_col,start_index,2)` : extracts a given number of characters from a set of characters, starting from a defined place in the set.\n",
    "- `WEEKDAY(date_col)` : returns the day of the week as a number; default is to use the number 1 for Sunday."
   ]
  },
  {
   "attachments": {},
   "cell_type": "markdown",
   "metadata": {},
   "source": [
    "# Create New Date column from Text column"
   ]
  },
  {
   "attachments": {},
   "cell_type": "markdown",
   "metadata": {},
   "source": [
    "- Go to `Data View` \n",
    "- Click `New Column`\n",
    "- Formula : `date_col = DATE(year_text_col, month_text_col, day_text_col)`\n",
    "- If date is a hierarchy, you can drill down and see the whole sequence of pattern of different hierarchy level by clicking on `Expand all down on one level in hierarchy`"
   ]
  },
  {
   "attachments": {},
   "cell_type": "markdown",
   "metadata": {},
   "source": [
    "<center><img src=\"images/01.031.jpg\"  style=\"width: 400px, height: 300px;\"/></center>\n",
    "<center><img src=\"images/01.032.jpg\"  style=\"width: 400px, height: 300px;\"/></center>\n",
    "<center><img src=\"images/01.033.jpg\"  style=\"width: 400px, height: 300px;\"/></center>\n",
    "<center><img src=\"images/01.034.jpg\"  style=\"width: 400px, height: 300px;\"/></center>\n"
   ]
  },
  {
   "attachments": {},
   "cell_type": "markdown",
   "metadata": {},
   "source": [
    "# Creating Weekday column"
   ]
  },
  {
   "attachments": {},
   "cell_type": "markdown",
   "metadata": {},
   "source": [
    "- Click `New column`\n",
    "- Formula : `weekday_col = WEEKDAY(date_col)`"
   ]
  },
  {
   "attachments": {},
   "cell_type": "markdown",
   "metadata": {},
   "source": [
    "<center><img src=\"images/01.035.jpg\"  style=\"width: 400px, height: 300px;\"/></center>\n",
    "<center><img src=\"images/01.036.jpg\"  style=\"width: 400px, height: 300px;\"/></center>"
   ]
  },
  {
   "attachments": {},
   "cell_type": "markdown",
   "metadata": {},
   "source": [
    "# Creating Quick Measures"
   ]
  },
  {
   "attachments": {},
   "cell_type": "markdown",
   "metadata": {},
   "source": [
    "- Go to `Report View`\n",
    "- Click `Quick Measure`\n",
    "- Create specific measure for period over period change with specified columns"
   ]
  },
  {
   "attachments": {},
   "cell_type": "markdown",
   "metadata": {},
   "source": [
    "<center><img src=\"images/01.037.jpg\"  style=\"width: 400px, height: 300px;\"/></center>\n",
    "<center><img src=\"images/01.038.jpg\"  style=\"width: 400px, height: 300px;\"/></center>\n"
   ]
  }
 ],
 "metadata": {
  "kernelspec": {
   "display_name": "env_py",
   "language": "python",
   "name": "python3"
  },
  "language_info": {
   "name": "python",
   "version": "3.8.11 (default, Aug  6 2021, 09:57:55) [MSC v.1916 64 bit (AMD64)]"
  },
  "orig_nbformat": 4,
  "vscode": {
   "interpreter": {
    "hash": "1e949e87132dd83f1a7623eb88007e3532b03b66b77111be347aa4a383049722"
   }
  }
 },
 "nbformat": 4,
 "nbformat_minor": 2
}
