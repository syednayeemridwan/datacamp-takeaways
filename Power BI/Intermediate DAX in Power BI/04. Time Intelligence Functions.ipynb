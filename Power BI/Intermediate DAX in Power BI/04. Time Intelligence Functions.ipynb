{
 "cells": [
  {
   "attachments": {},
   "cell_type": "markdown",
   "metadata": {},
   "source": [
    "# Time intelligence functions"
   ]
  },
  {
   "attachments": {},
   "cell_type": "markdown",
   "metadata": {},
   "source": [
    "- Manipulate and compare data using time periods\n",
    "- Compare current period with previous period\n",
    "- Estimate monthly/quarterly/yearly goals\n",
    "- `NEXTDAY(date_col)`\n",
    "    - Returns the next day\n",
    "- `SAMEPERIODLASTYEAR(date_col)`\n",
    "    - Returns the same day in the previous year\n",
    "    - SQL `LAG` on year column\n",
    "- `DATESBETWEEN(date_col, start_date_val,end_date_val)`\n",
    "    - Returns dates between start and enddate\n",
    "<center><img src=\"images/04.012.jpg\"  style=\"width: 400px, height: 300px;\"/></center>\n",
    "\n",
    "\n",
    "- Calculate Running Totals till today\n",
    "    - `TOTALYTD(SUM(table1[col]), table2[date_col])`\n",
    "        - Returns the year to date value of the specified column or expression.\n",
    "    - `TOTALQTD(SUM(table1[col]), table2[date_col])`\n",
    "        - Returns the quarter to date value of the specified column or expression.\n",
    "    - `TOTALMTD(SUM(table1[col]), table2[date_col])`\n",
    "        - Returns the month to date value of the specified column or expression.\n",
    "<center><img src=\"images/04.013.jpg\"  style=\"width: 400px, height: 300px;\"/></center>\n",
    "\n",
    "- Note:\n",
    "    - A date column in the fact table could contain missing dates!\n",
    "        - Create a dimension table as `dim_date` with `CALENDAR()` function\n",
    "        - Use that separate date dimension table\n",
    "        - Mark that as date table (Power BI will create date hierarchy for you)\n",
    "<center><img src=\"images/04.011.jpg\"  style=\"width: 400px, height: 300px;\"/></center>\n",
    "<center><img src=\"images/04.031.jpg\"  style=\"width: 400px, height: 300px;\"/></center>\n",
    "<center><img src=\"images/04.032.jpg\"  style=\"width: 400px, height: 300px;\"/></center>\n",
    "<center><img src=\"images/04.033.jpg\"  style=\"width: 400px, height: 300px;\"/></center>\n",
    "    "
   ]
  },
  {
   "attachments": {},
   "cell_type": "markdown",
   "metadata": {},
   "source": [
    "# Example With CALCULATE"
   ]
  },
  {
   "attachments": {},
   "cell_type": "markdown",
   "metadata": {},
   "source": [
    "```\n",
    "total_within_date =\n",
    "    CALCULATE(some_measure,\n",
    "    DATESBETWEEN(table_name[date_col], DATE(2014, 10, 04), DATE(2014, 10, 26)))\n",
    "```"
   ]
  },
  {
   "attachments": {},
   "cell_type": "markdown",
   "metadata": {},
   "source": [
    "<center><img src=\"images/04.035.jpg\"  style=\"width: 400px, height: 300px;\"/></center>\n"
   ]
  },
  {
   "attachments": {},
   "cell_type": "markdown",
   "metadata": {},
   "source": [
    "# Using Q&A\n"
   ]
  },
  {
   "attachments": {},
   "cell_type": "markdown",
   "metadata": {},
   "source": [
    "- Click on `Q&A` visualization box\n",
    "- A new window will appear\n",
    "- Write the visualization you want in natural language\n",
    "- Limitation: write according to the existing measures, tables or column names for it to work\n",
    "- Learn more : https://learn.microsoft.com/en-us/training/modules/ai-visuals-power-bi/2-visual?ns-enrollment-type=LearningPath&ns-enrollment-id=learn-bizapps.data-analysis-power-bi"
   ]
  },
  {
   "attachments": {},
   "cell_type": "markdown",
   "metadata": {},
   "source": [
    "<center><img src=\"images/04.036.jpg\"  style=\"width: 400px, height: 300px;\"/></center>\n",
    "<center><img src=\"images/04.037.jpg\"  style=\"width: 400px, height: 300px;\"/></center>\n",
    "<center><img src=\"images/04.038.jpg\"  style=\"width: 400px, height: 300px;\"/></center>\n"
   ]
  },
  {
   "attachments": {},
   "cell_type": "markdown",
   "metadata": {},
   "source": [
    "# TIP"
   ]
  },
  {
   "attachments": {},
   "cell_type": "markdown",
   "metadata": {},
   "source": [
    "- YOU CAN EXCHANGE `EXPRESSION` WITH A `MEASURE`"
   ]
  }
 ],
 "metadata": {
  "kernelspec": {
   "display_name": "env_py",
   "language": "python",
   "name": "python3"
  },
  "language_info": {
   "name": "python",
   "version": "3.8.11 (default, Aug  6 2021, 09:57:55) [MSC v.1916 64 bit (AMD64)]"
  },
  "orig_nbformat": 4,
  "vscode": {
   "interpreter": {
    "hash": "1e949e87132dd83f1a7623eb88007e3532b03b66b77111be347aa4a383049722"
   }
  }
 },
 "nbformat": 4,
 "nbformat_minor": 2
}
