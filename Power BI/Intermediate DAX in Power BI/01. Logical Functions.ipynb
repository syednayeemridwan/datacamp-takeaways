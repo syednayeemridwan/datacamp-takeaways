{
 "cells": [
  {
   "attachments": {},
   "cell_type": "markdown",
   "metadata": {},
   "source": [
    "# Logical Functions"
   ]
  },
  {
   "attachments": {},
   "cell_type": "markdown",
   "metadata": {},
   "source": [
    "- `IF()`\n",
    "    - Returns first expression if condition is `TRUE`, second expression otherwise if `FALSE`\n",
    "    - `new_col = IF([some_col] >= 50 000, \"This is True\", \"This is False\")`\n",
    "\n",
    "- `AND()`\n",
    "    - Returns `TRUE` if both conditions are `TRUE`\n",
    "    - `new_col = AND(5 < 4, 5 < 6)` , this will be `FALSE`\n",
    "    - `AND` can be replaced by `&&`\n",
    "    - `(5 < 4) && (5 < 6)`\n",
    "\n",
    "- `OR()`\n",
    "    - Returns `TRUE` if at least one condition is `TRUE`\n",
    "    - `new_col = OR(5 < 4, 5 < 6)` , this will be `TRUE`\n",
    "    - `OR` can be replaced by `||`\n",
    "    - `(5 < 4) || (5 < 6)`\n",
    "\n",
    "- `NOT()`\n",
    "    - Changes `TRUE` to `FALSE` and vice versa\n",
    "    - `new_col = NOT(TRUE)` , this will be `FALSE`\n",
    "\n",
    "- `SWITCH()`\n",
    "    - Evaluates an expression against a list of values and returns one of multiple possible result expressions.\n",
    "    - preferred over nested `IF()` functions\n",
    "    - SQL `WHEN...THEN`\n",
    "    - Used for bucketing\n",
    "    - example1:\n",
    "    ```\n",
    "    new_col = SWITCH(some_conditional_expression,\n",
    "    [col] < 25 000, \"Poor\",\n",
    "    [col] < 50 000, \"Below expectations\",\n",
    "    [col] < 75 000, \"Above expectations\",\n",
    "    \"Default Val\")\n",
    "    ```\n",
    "    - example2:\n",
    "    ```\n",
    "    new_col = SWITCH([col],\n",
    "    \"val1\", \"new_val1\",\n",
    "    \"val2\", \"new_val2)\n",
    "    ```"
   ]
  },
  {
   "attachments": {},
   "cell_type": "markdown",
   "metadata": {},
   "source": [
    "# Some Common DAX Functions"
   ]
  },
  {
   "attachments": {},
   "cell_type": "markdown",
   "metadata": {},
   "source": [
    "- `HASONEVALUE()`\n",
    "    - Checks if it has only one value\n",
    "    - `TRUE` if there is only one value, `FALSE` otherwise\n",
    "    - `new_col = HASONEVALUE(table_name[col_name])`\n",
    "    "
   ]
  },
  {
   "attachments": {},
   "cell_type": "markdown",
   "metadata": {},
   "source": [
    "# Tips with IF"
   ]
  },
  {
   "attachments": {},
   "cell_type": "markdown",
   "metadata": {},
   "source": [
    "- Sometimes, some calculations do not make sense\n",
    "- Make these types of calculations disappear with `IF()` and `BLANK()`"
   ]
  },
  {
   "attachments": {},
   "cell_type": "markdown",
   "metadata": {},
   "source": [
    "<center><img src=\"images/01.031.jpg\"  style=\"width: 400px, height: 300px;\"/></center>\n",
    "<center><img src=\"images/01.032.jpg\"  style=\"width: 400px, height: 300px;\"/></center>\n",
    "<center><img src=\"images/01.033.jpg\"  style=\"width: 400px, height: 300px;\"/></center>\n"
   ]
  },
  {
   "attachments": {},
   "cell_type": "markdown",
   "metadata": {},
   "source": [
    "# Bucketing with SWITCH"
   ]
  },
  {
   "attachments": {},
   "cell_type": "markdown",
   "metadata": {},
   "source": [
    "- Create Multiple bins with conditions on certain column\n",
    "- make the logical expression `TRUE`\n",
    "- make default condition another bin name or `BLANK()`"
   ]
  },
  {
   "attachments": {},
   "cell_type": "markdown",
   "metadata": {},
   "source": [
    "<center><img src=\"images/01.034.jpg\"  style=\"width: 400px, height: 300px;\"/></center>\n",
    "<center><img src=\"images/01.035.jpg\"  style=\"width: 400px, height: 300px;\"/></center>\n"
   ]
  }
 ],
 "metadata": {
  "kernelspec": {
   "display_name": "env_py",
   "language": "python",
   "name": "python3"
  },
  "language_info": {
   "name": "python",
   "version": "3.8.11 (default, Aug  6 2021, 09:57:55) [MSC v.1916 64 bit (AMD64)]"
  },
  "orig_nbformat": 4,
  "vscode": {
   "interpreter": {
    "hash": "1e949e87132dd83f1a7623eb88007e3532b03b66b77111be347aa4a383049722"
   }
  }
 },
 "nbformat": 4,
 "nbformat_minor": 2
}
