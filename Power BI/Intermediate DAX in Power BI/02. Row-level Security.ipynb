{
 "cells": [
  {
   "attachments": {},
   "cell_type": "markdown",
   "metadata": {},
   "source": [
    "# Row-level security"
   ]
  },
  {
   "attachments": {},
   "cell_type": "markdown",
   "metadata": {},
   "source": [
    "- Row-level security (RLS) in Power BI can be used to restrict data access for given users:\n",
    "    - Way to restrict data access for the logged in user\n",
    "    - You can define roles and rules with Power BI desktop\n",
    "    - A dashboard could look completely different depending on the person accessing it\n",
    "- Row-Level Security (RLS) uses filters to restrict data at the row level\n",
    "    - User access requirements based on role (such as sales)\n",
    "    - Restricting access requirements for a specific user or group of users\n",
    "    - User wants specific/filtered data presented (such as a customer)\n",
    "- Row-level security utilizes DAX to:\n",
    "    - Provide filtered values at a row level\n",
    "    - Filter on fact or dimension tables\n",
    "    - Example: `[Is Salesperson] = True` will allow only salesperson to see it\n",
    "- Dynamic row-level security :\n",
    "    - Ensures users only see the information appropriate for their roles\n",
    "- `USERPRINCIPALNAME()`\n",
    "    - Returns the user principal name (UPN), which is equal to the email address\n",
    "    - Gives the same result in Power BI Desktop and Power BI Service\n",
    "    - Preferred method\n",
    "- `USERNAME()`\n",
    "    - Alternative method to enable RLS with its own use cases\n",
    "- You can use these functions to create personalized dashboards!\n",
    "- Like SQL `user and access control privileges`"
   ]
  },
  {
   "attachments": {},
   "cell_type": "markdown",
   "metadata": {},
   "source": [
    "# Creating Roles"
   ]
  },
  {
   "attachments": {},
   "cell_type": "markdown",
   "metadata": {},
   "source": [
    "- Go to `Model View`\n",
    "- Click `Manage Roles`\n",
    "- From new window click `Create` > Give Name to the role > Add filter from table\n",
    "- Replace the `value` with `USERPRINCIPALNAME()` of the selected filter\n",
    "- Now people identified with only that field can access the dashboard "
   ]
  },
  {
   "attachments": {},
   "cell_type": "markdown",
   "metadata": {},
   "source": [
    "<center><img src=\"images/02.031.jpg\"  style=\"width: 400px, height: 300px;\"/></center>\n",
    "<center><img src=\"images/02.032.jpg\"  style=\"width: 400px, height: 300px;\"/></center>\n",
    "<center><img src=\"images/02.033.jpg\"  style=\"width: 400px, height: 300px;\"/></center>\n",
    "<center><img src=\"images/02.034.jpg\"  style=\"width: 400px, height: 300px;\"/></center>\n",
    "<center><img src=\"images/02.035.jpg\"  style=\"width: 400px, height: 300px;\"/></center>\n"
   ]
  },
  {
   "attachments": {},
   "cell_type": "markdown",
   "metadata": {},
   "source": [
    "# Viewing as a role"
   ]
  },
  {
   "attachments": {},
   "cell_type": "markdown",
   "metadata": {},
   "source": [
    "- Go to `Modeling` pane\n",
    "- Click `View As`\n",
    "- put specific fields and values (You can select multiples with `&&`)\n",
    "- Make sure if there is `CROSSFILTER` in `model view`, then that has `APPLY SECURITY FILTER IN BOTH DIRECTION` selected so that information flows clorrectly in both directions"
   ]
  },
  {
   "attachments": {},
   "cell_type": "markdown",
   "metadata": {},
   "source": [
    "<center><img src=\"images/02.036.jpg\"  style=\"width: 400px, height: 300px;\"/></center>\n",
    "<center><img src=\"images/02.037.jpg\"  style=\"width: 400px, height: 300px;\"/></center>\n",
    "<center><img src=\"images/02.038.jpg\"  style=\"width: 400px, height: 300px;\"/></center>\n"
   ]
  }
 ],
 "metadata": {
  "kernelspec": {
   "display_name": "env_py",
   "language": "python",
   "name": "python3"
  },
  "language_info": {
   "name": "python",
   "version": "3.8.11 (default, Aug  6 2021, 09:57:55) [MSC v.1916 64 bit (AMD64)]"
  },
  "orig_nbformat": 4,
  "vscode": {
   "interpreter": {
    "hash": "1e949e87132dd83f1a7623eb88007e3532b03b66b77111be347aa4a383049722"
   }
  }
 },
 "nbformat": 4,
 "nbformat_minor": 2
}
