{
 "cells": [
  {
   "attachments": {},
   "cell_type": "markdown",
   "metadata": {},
   "source": [
    "# Common Functions"
   ]
  },
  {
   "attachments": {},
   "cell_type": "markdown",
   "metadata": {},
   "source": [
    "- `DISTINCT()`\n",
    "    - Removes Duplicates\n",
    "- `SELECTCOLUMNS()`\n",
    "    - Returns the selected columns from another table as a new table\n",
    "    - SQL `SELECT` statement\n",
    "    - `SELECTCOLUMNS(table_name, \"alias_name\", col1 - col2)`\n",
    "- `ADDCOLUMNS()`\n",
    "    - Appends a calculated column to a table and returns the whole table\n",
    "    - Similar to creating new column in python `dataframe` or SQL `ALTER TABLE ADD COLUMN`\n",
    "    - `ADDCOLUMNS(table_name, \"new_col_name\", col1 - col2)`\n",
    "- `SUMMARIZE()`\n",
    "    - Returns a summary table for the requested totals over a set of groups\n",
    "    - SQL `GROUP BY`\n",
    "    - example:\n",
    "    ```\n",
    "    SUMMARIZE(table_name, \n",
    "            nonagg_col1, nonagg_col2 \n",
    "            \"agg_col_name\", AGG_FUNC(agg_col))\n",
    "    ```\n",
    "- See slides for example"
   ]
  },
  {
   "attachments": {},
   "cell_type": "markdown",
   "metadata": {},
   "source": [
    "# Creating New Table With SUMMARIZE()"
   ]
  },
  {
   "attachments": {},
   "cell_type": "markdown",
   "metadata": {},
   "source": [
    "- Go to `model view`\n",
    "- Click `New Table`\n",
    "- Specify the SQL `GROUP BY` syntax with `SUMMARIZE()`\n",
    "- syntax:\n",
    "    ```\n",
    "    SUMMARIZE(table_name, \n",
    "            nonagg_col1, nonagg_col2 \n",
    "            \"agg_col_name\", AGG_FUNC(agg_col))\n",
    "    ```"
   ]
  },
  {
   "attachments": {},
   "cell_type": "markdown",
   "metadata": {},
   "source": [
    "<center><img src=\"images/03.031.jpg\"  style=\"width: 400px, height: 300px;\"/></center>\n",
    "<center><img src=\"images/03.032.jpg\"  style=\"width: 400px, height: 300px;\"/></center>\n"
   ]
  },
  {
   "attachments": {},
   "cell_type": "markdown",
   "metadata": {},
   "source": [
    "# Creating New column in a Table With `ADDCOLUMNS`\n"
   ]
  },
  {
   "attachments": {},
   "cell_type": "markdown",
   "metadata": {},
   "source": [
    "- You can add measures with `ADDCOLUMNS` if the measures are normally row-wise calculated.\n",
    "    - eg: `AVERAGEX` , `SUMX` etc\n",
    "- syntax:\n",
    "    - `table_name = ADDCOLUMNS(old_table, \"col_name\", measureX_or_col_or_condition)`"
   ]
  },
  {
   "attachments": {},
   "cell_type": "markdown",
   "metadata": {},
   "source": [
    "<center><img src=\"images/03.033.jpg\"  style=\"width: 400px, height: 300px;\"/></center>\n"
   ]
  },
  {
   "attachments": {},
   "cell_type": "markdown",
   "metadata": {},
   "source": [
    "# Ribbon Chart"
   ]
  },
  {
   "attachments": {},
   "cell_type": "markdown",
   "metadata": {},
   "source": [
    "- Separate areas into ribbons"
   ]
  },
  {
   "attachments": {},
   "cell_type": "markdown",
   "metadata": {},
   "source": [
    "<center><img src=\"images/03.034.jpg\"  style=\"width: 400px, height: 300px;\"/></center>\n"
   ]
  },
  {
   "attachments": {},
   "cell_type": "markdown",
   "metadata": {},
   "source": [
    "# Best Practices"
   ]
  },
  {
   "attachments": {},
   "cell_type": "markdown",
   "metadata": {},
   "source": [
    "- `SUMMARIZE()` will always result in a TABLE with columns, not measures. \n",
    "- A new column should be created using `ADDCOLUMNS()` instead of `SUMMARIZE()`"
   ]
  }
 ],
 "metadata": {
  "kernelspec": {
   "display_name": "env_py",
   "language": "python",
   "name": "python3"
  },
  "language_info": {
   "name": "python",
   "version": "3.8.11 (default, Aug  6 2021, 09:57:55) [MSC v.1916 64 bit (AMD64)]"
  },
  "orig_nbformat": 4,
  "vscode": {
   "interpreter": {
    "hash": "1e949e87132dd83f1a7623eb88007e3532b03b66b77111be347aa4a383049722"
   }
  }
 },
 "nbformat": 4,
 "nbformat_minor": 2
}
