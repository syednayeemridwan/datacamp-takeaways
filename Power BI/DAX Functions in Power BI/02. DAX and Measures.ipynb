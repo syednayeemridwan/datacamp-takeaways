{
 "cells": [
  {
   "attachments": {},
   "cell_type": "markdown",
   "metadata": {},
   "source": [
    "# Measures"
   ]
  },
  {
   "attachments": {},
   "cell_type": "markdown",
   "metadata": {},
   "source": [
    "- Reduces confusion of what a measure is or does\n",
    "- Reusable within other measures\n",
    "- Can be given a custom name to explain its functionality\n",
    "- Makes maintenance of complex models more sustainable\n",
    "\n",
    "<center><img src=\"images/02.011.jpg\"  style=\"width: 400px, height: 300px;\"/></center>\n",
    "\n",
    "- Implicit Measure using slicer\n",
    "<center><img src=\"images/02.031.jpg\"  style=\"width: 400px, height: 300px;\"/></center>\n",
    "\n",
    "- Explicit Measure using formula\n",
    "<center><img src=\"images/02.032.jpg\"  style=\"width: 400px, height: 300px;\"/></center>"
   ]
  },
  {
   "attachments": {},
   "cell_type": "markdown",
   "metadata": {},
   "source": [
    "# Best practices"
   ]
  },
  {
   "attachments": {},
   "cell_type": "markdown",
   "metadata": {},
   "source": [
    "- Keep DAX measures grouped together:\n",
    "    - Measures are free to move to any table\n",
    "    - This is in contrast with calculated columns, which belong to a specific table\n",
    "    - Keep all measures inside a table named `_Measures`\n",
    "- Format and comment with DAX:\n",
    "    - Use indentations to increase understanding\n",
    "    - `Shift + Enter` to start a new line\n",
    "    - `Tab` to indent\n",
    "    - Add comments with `//`"
   ]
  },
  {
   "attachments": {},
   "cell_type": "markdown",
   "metadata": {},
   "source": [
    "# Variables"
   ]
  },
  {
   "attachments": {},
   "cell_type": "markdown",
   "metadata": {},
   "source": [
    "- Stores the result of an expression as a named variable\n",
    "- Can be used as an argument to other measure expressions\n",
    "- Four main advantages:\n",
    "    - Improve performance\n",
    "    - Improve readability\n",
    "    - Simplify debugging\n",
    "    - Reduce complexity\n",
    "- Works like an ES6 function that returns value \n",
    "- example:\n",
    "```\n",
    "new_measure =\n",
    "    VAR some_var = some_calculations\n",
    "\n",
    "RETURN some_other_measure - some_var\n",
    "```"
   ]
  },
  {
   "attachments": {},
   "cell_type": "markdown",
   "metadata": {},
   "source": [
    "# Quick Measure"
   ]
  },
  {
   "attachments": {},
   "cell_type": "markdown",
   "metadata": {},
   "source": [
    "- Helps to generate code for advanced calculations faster without writing them \n",
    "- Click on `Quick Measure`\n",
    "- Set specific calculation from specific tables\n",
    "- Review auto-generated code"
   ]
  },
  {
   "attachments": {},
   "cell_type": "markdown",
   "metadata": {},
   "source": [
    "<center><img src=\"images/02.033.jpg\"  style=\"width: 400px, height: 300px;\"/></center>\n",
    "<center><img src=\"images/02.034.jpg\"  style=\"width: 400px, height: 300px;\"/></center>\n",
    "<center><img src=\"images/02.035.jpg\"  style=\"width: 400px, height: 300px;\"/></center>\n"
   ]
  }
 ],
 "metadata": {
  "kernelspec": {
   "display_name": "env_py",
   "language": "python",
   "name": "python3"
  },
  "language_info": {
   "name": "python",
   "version": "3.8.11 (default, Aug  6 2021, 09:57:55) [MSC v.1916 64 bit (AMD64)]"
  },
  "orig_nbformat": 4,
  "vscode": {
   "interpreter": {
    "hash": "1e949e87132dd83f1a7623eb88007e3532b03b66b77111be347aa4a383049722"
   }
  }
 },
 "nbformat": 4,
 "nbformat_minor": 2
}
