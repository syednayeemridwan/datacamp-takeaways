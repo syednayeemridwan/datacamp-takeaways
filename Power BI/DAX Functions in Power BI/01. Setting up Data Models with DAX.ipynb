{
 "cells": [
  {
   "attachments": {},
   "cell_type": "markdown",
   "metadata": {},
   "source": [
    "# DAX"
   ]
  },
  {
   "attachments": {},
   "cell_type": "markdown",
   "metadata": {},
   "source": [
    "- DAX is a formula expression language used in multiple Microsoft analytics tools\n",
    "- DAX formulas include functions, operators and values to perform advanced calculations\n",
    "- DAX formulas are used in:\n",
    "    - Measures\n",
    "    - Calculated columns\n",
    "    - Calculated tables\n",
    "    - Row-level security\n",
    "- It opens up new capabilities:\n",
    "    - Joins, \n",
    "    - filters, \n",
    "    - measures \n",
    "    - calculated fields \n",
    "- DAX + Power Query = a powerful data analysis tool:\n",
    "- Dive deeper into the data and extract key insights\n",
    "- Use DAX for rapid prototyping\n",
    "<center><img src=\"images/01.01.jpg\"  style=\"width: 400px, height: 300px;\"/></center>"
   ]
  },
  {
   "attachments": {},
   "cell_type": "markdown",
   "metadata": {},
   "source": [
    "### Calculated Columns\n"
   ]
  },
  {
   "attachments": {},
   "cell_type": "markdown",
   "metadata": {},
   "source": [
    "- Calculated on data import\n",
    "- Visible in data & report Pane\n",
    "- example : `new_col = table_name[col1] - table_name[col2]`\n"
   ]
  },
  {
   "attachments": {},
   "cell_type": "markdown",
   "metadata": {},
   "source": [
    "### Measures\n"
   ]
  },
  {
   "attachments": {},
   "cell_type": "markdown",
   "metadata": {},
   "source": [
    "- Calculated at query run-time\n",
    "- Visible only in report pane\n",
    "- Generally a single value as aggregated result\n",
    "- example : `Total val = SUM(table_name[col])`"
   ]
  },
  {
   "attachments": {},
   "cell_type": "markdown",
   "metadata": {},
   "source": [
    "### Context"
   ]
  },
  {
   "attachments": {},
   "cell_type": "markdown",
   "metadata": {},
   "source": [
    "- allows you to perform dynamic analysis\n",
    "1. Row context\n",
    "    - \"The current row\"\n",
    "    - DAX `calculated columns`\n",
    "    - `new_col = table_name[col1] - table_name[col2]`\n",
    "2. Query context\n",
    "    - Refers to the subset of data that is implicitly retrieved for a formula\n",
    "    - Controlled by `slicers`, `page filters`, `table columns` and `row headers`\n",
    "    - Controlled by chart/`visual filters`\n",
    "    - Applies after row context\n",
    "3. Filter Context\n",
    "    - The set of values allowed in each column, or in the values retrieved from a related table\n",
    "    - By using `arguments to a formula` or by using `report filters` on row and column headings\n",
    "    - Applies after query context\n",
    "    - Generally used with `CALCULATE` function for SQL `WHERE`\n",
    "    - `Total Costs East = CALCULATE(table_name, table_name[col] = 'some_val')`"
   ]
  },
  {
   "attachments": {},
   "cell_type": "markdown",
   "metadata": {},
   "source": [
    "# Creating New Calendar Table"
   ]
  },
  {
   "attachments": {},
   "cell_type": "markdown",
   "metadata": {},
   "source": [
    "- Go to Data View > Click `New Table`\n",
    "- Write Formula: `new_table_name = CALENDAR(starting_date, ending_date)`"
   ]
  },
  {
   "attachments": {},
   "cell_type": "markdown",
   "metadata": {},
   "source": [
    "<center><img src=\"images/01.031.jpg\"  style=\"width: 400px, height: 300px;\"/></center>\n",
    "<center><img src=\"images/01.032.jpg\"  style=\"width: 400px, height: 300px;\"/></center>\n"
   ]
  },
  {
   "attachments": {},
   "cell_type": "markdown",
   "metadata": {},
   "source": [
    "# Creating New Column"
   ]
  },
  {
   "attachments": {},
   "cell_type": "markdown",
   "metadata": {},
   "source": [
    "- Go to Data View > Click `New Column`\n",
    "- Write Formula: `new_col_name = DAX_FUNC(existing_cols)`\n"
   ]
  },
  {
   "attachments": {},
   "cell_type": "markdown",
   "metadata": {},
   "source": [
    "<center><img src=\"images/01.034.jpg\"  style=\"width: 400px, height: 300px;\"/></center>\n",
    "<center><img src=\"images/01.035.jpg\"  style=\"width: 400px, height: 300px;\"/></center>\n",
    "<center><img src=\"images/01.036.jpg\"  style=\"width: 400px, height: 300px;\"/></center>\n"
   ]
  },
  {
   "attachments": {},
   "cell_type": "markdown",
   "metadata": {},
   "source": [
    "# Bringing column from other table"
   ]
  },
  {
   "attachments": {},
   "cell_type": "markdown",
   "metadata": {},
   "source": [
    "- First join the tables from `Model View` by drag and drop\n",
    "- Go to `Data View` > Click `New Column`\n",
    "- Write Formula: `new_col_name = RELATED(other_table_name[col_name])`\n"
   ]
  },
  {
   "attachments": {},
   "cell_type": "markdown",
   "metadata": {},
   "source": [
    "<center><img src=\"images/01.033.jpg\"  style=\"width: 400px, height: 300px;\"/></center>\n",
    "<center><img src=\"images/01.037.jpg\"  style=\"width: 400px, height: 300px;\"/></center>\n",
    "<center><img src=\"images/01.038.jpg\"  style=\"width: 400px, height: 300px;\"/></center>\n",
    "<center><img src=\"images/01.039.jpg\"  style=\"width: 400px, height: 300px;\"/></center>\n"
   ]
  }
 ],
 "metadata": {
  "kernelspec": {
   "display_name": "env_py",
   "language": "python",
   "name": "python3"
  },
  "language_info": {
   "name": "python",
   "version": "3.8.11 (default, Aug  6 2021, 09:57:55) [MSC v.1916 64 bit (AMD64)]"
  },
  "orig_nbformat": 4,
  "vscode": {
   "interpreter": {
    "hash": "1e949e87132dd83f1a7623eb88007e3532b03b66b77111be347aa4a383049722"
   }
  }
 },
 "nbformat": 4,
 "nbformat_minor": 2
}
