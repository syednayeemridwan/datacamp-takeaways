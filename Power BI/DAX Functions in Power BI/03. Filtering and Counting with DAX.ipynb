{
 "cells": [
  {
   "attachments": {},
   "cell_type": "markdown",
   "metadata": {},
   "source": [
    "# Filter functions\n"
   ]
  },
  {
   "attachments": {},
   "cell_type": "markdown",
   "metadata": {},
   "source": [
    "- Filters are applied on the filter context\n",
    "- Filters take precedence over any visual or slicers\n",
    "- Great for situations where you need visuals that are not affected by the query context or any selection on the reporting page\n",
    "- Improves performance\n",
    "- Filter out unnecessary data\n",
    "- Define specific relationships between tables\n",
    "- Reusability : Refer to other calculated measures\n",
    "- More complex computations Concise syntax\n",
    "- Highest level of producing result that are not affected by any clicking / other methods\n",
    "    - Use `CALCULATE()`\n",
    "    - Used with intermediate functions in the second argument\n",
    "    - The second argument evaluates to a table on which the operations mentioned in first argument occurs\n",
    "    - Sometimes Used along with `ALL()` that Ignores other filters that might have been applied\n",
    "- Some Intermediate functions:\n",
    "    - `ALL(table_name)`\n",
    "    - `FILTER(table_name, filter_condition)`\n",
    "    - `CROSSFILTER(col_from_table1, col_from_table2, BOTH)`\n",
    "- used like : `measure_name = CALCULATE(AGG_FUNC(table_name[col_name]) , inter_FUNC(table_name) )`\n",
    "        "
   ]
  },
  {
   "attachments": {},
   "cell_type": "markdown",
   "metadata": {},
   "source": [
    "# `ALL(table_name)`"
   ]
  },
  {
   "attachments": {},
   "cell_type": "markdown",
   "metadata": {},
   "source": [
    "- Ignores other filters that might have been applied\n",
    "- Clears out existing filters on a table when creating new filters\n",
    "- Used along with `CALCULATE()`\n",
    "- `total = CALCULATE(SUM(table_name[col_name]) , ALL(table_name) )`\n",
    "\n",
    "<center><img src=\"images/03.031.jpg\"  style=\"width: 400px, height: 300px;\"/></center>\n"
   ]
  },
  {
   "attachments": {},
   "cell_type": "markdown",
   "metadata": {},
   "source": [
    "# `FILTER(table_name, filter_condition)`"
   ]
  },
  {
   "attachments": {},
   "cell_type": "markdown",
   "metadata": {},
   "source": [
    "- Filters values of table according to specific conditions\n",
    "- Use multiple measures along with `FILTER` and `CALCULATE` to create complex fixed measures that won't change with selection changes\n",
    "<center><img src=\"images/03.037.jpg\"  style=\"width: 400px, height: 300px;\"/></center>\n"
   ]
  },
  {
   "attachments": {},
   "cell_type": "markdown",
   "metadata": {},
   "source": [
    "# `CROSSFILTER`\n"
   ]
  },
  {
   "attachments": {},
   "cell_type": "markdown",
   "metadata": {},
   "source": [
    "- `CROSSFILTER(col_from_table1, col_from_table2, BOTH_or_other_direction)`\n",
    "- Specifies the cross-filtering direction between two columns\n",
    "- Normally we do left or right join with `RELATED()` function\n",
    "- We can make this join by overriding relationship direction of data model with `CROSSFILTER`\n",
    "- Used when SQL `GROUP BY` becomes necessary in join\n",
    "\n",
    "- Before Filter\n",
    "<center><img src=\"images/03.032.jpg\"  style=\"width: 400px, height: 300px;\"/></center>\n",
    "<center><img src=\"images/03.035.jpg\"  style=\"width: 400px, height: 300px;\"/></center>\n",
    "\n",
    "- Filtering\n",
    "<center><img src=\"images/03.034.jpg\"  style=\"width: 400px, height: 300px;\"/></center>\n",
    "\n",
    "- After Filter\n",
    "<center><img src=\"images/03.036.jpg\"  style=\"width: 400px, height: 300px;\"/></center>\n"
   ]
  },
  {
   "attachments": {},
   "cell_type": "markdown",
   "metadata": {},
   "source": [
    "# Some DAX Functions"
   ]
  },
  {
   "attachments": {},
   "cell_type": "markdown",
   "metadata": {},
   "source": [
    "- `COUNT(col_name)`\n",
    "    - Returns the amount of rows with numbers, dates, or strings in a column\n",
    "- `COUNTA(col_name)`\n",
    "    - Also counts booleans in a column\n",
    "- `COUNTBLANKS(col_name)`\n",
    "    - Returns the amount of blank rows\n",
    "- `DISTINCTCOUNT(col_name)`\n",
    "    - Returns the amount of distinct values in a column\n",
    "- `COUNTROWS(table_name)`\n",
    "    - Returns the amount of rows with numbers, dates, and strings in a table"
   ]
  },
  {
   "attachments": {},
   "cell_type": "markdown",
   "metadata": {},
   "source": [
    "# Things to note (`CROSSFILTER` alternative)"
   ]
  },
  {
   "attachments": {},
   "cell_type": "markdown",
   "metadata": {},
   "source": [
    "- We can simply change the relation-ship between tables from `model view`\n",
    "- We can click on the relation ship and then change the directiont to `Both`\n",
    "- However, by doing so, performance issue occurs\n",
    "- That is why we use `CROSSFILTER` instead."
   ]
  },
  {
   "attachments": {},
   "cell_type": "markdown",
   "metadata": {},
   "source": [
    "<center><img src=\"images/03.032.jpg\"  style=\"width: 400px, height: 300px;\"/></center>\n",
    "<center><img src=\"images/03.033.jpg\"  style=\"width: 400px, height: 300px;\"/></center>\n"
   ]
  }
 ],
 "metadata": {
  "kernelspec": {
   "display_name": "env_py",
   "language": "python",
   "name": "python3"
  },
  "language_info": {
   "name": "python",
   "version": "3.8.11 (default, Aug  6 2021, 09:57:55) [MSC v.1916 64 bit (AMD64)]"
  },
  "orig_nbformat": 4,
  "vscode": {
   "interpreter": {
    "hash": "1e949e87132dd83f1a7623eb88007e3532b03b66b77111be347aa4a383049722"
   }
  }
 },
 "nbformat": 4,
 "nbformat_minor": 2
}
