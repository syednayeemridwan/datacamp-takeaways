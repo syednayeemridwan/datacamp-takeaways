{
 "cells": [
  {
   "attachments": {},
   "cell_type": "markdown",
   "metadata": {},
   "source": [
    "# Iterating functions"
   ]
  },
  {
   "attachments": {},
   "cell_type": "markdown",
   "metadata": {},
   "source": [
    "- Iterate over each row of a given table to perform an expression\n",
    "    - `SUMX`, `AVERAGEX`\n",
    "- `X` stands for eXpression\n",
    "- Allow for advanced calculations specified at each row (Some row calculation can be skipped with conditioning, see picture below)\n",
    "- Can also be used along with filters like `FILTER` or `ALL`.\n",
    "- example with `SUMX`:\n",
    "    - `sumx_col = SUMX(FILTER(table_name,table_name[col] = \"val\"), col1 - col2)`\n",
    "\n",
    "- example with `RANKX`:\n",
    "    - `rankx_col = RANKX( ALL(table_or_column), some_measure)`\n",
    "\n",
    "<center><img src=\"images/04.012.jpg\"  style=\"width: 400px, height: 300px;\"/></center>\n",
    "<center><img src=\"images/04.013.jpg\"  style=\"width: 400px, height: 300px;\"/></center>\n"
   ]
  },
  {
   "attachments": {},
   "cell_type": "markdown",
   "metadata": {},
   "source": [
    "# Operators"
   ]
  },
  {
   "attachments": {},
   "cell_type": "markdown",
   "metadata": {},
   "source": [
    "<center><img src=\"images/04.011.jpg\"  style=\"width: 400px, height: 300px;\"/></center>\n"
   ]
  },
  {
   "attachments": {},
   "cell_type": "markdown",
   "metadata": {},
   "source": [
    "# Managing Measures"
   ]
  },
  {
   "attachments": {},
   "cell_type": "markdown",
   "metadata": {},
   "source": [
    "- Go to `Model View`\n",
    "- Click on specific measure > On `Display Folder` pane, give a name\n",
    "- The measure will now be put inside the new folder\n",
    "- You can now drag other measures inside that folder as well"
   ]
  },
  {
   "attachments": {},
   "cell_type": "markdown",
   "metadata": {},
   "source": [
    "<center><img src=\"images/04.031.jpg\"  style=\"width: 400px, height: 300px;\"/></center>\n",
    "<center><img src=\"images/04.032.jpg\"  style=\"width: 400px, height: 300px;\"/></center>\n",
    "<center><img src=\"images/04.033.jpg\"  style=\"width: 400px, height: 300px;\"/></center>\n",
    "<center><img src=\"images/04.034.jpg\"  style=\"width: 400px, height: 300px;\"/></center>\n"
   ]
  },
  {
   "attachments": {},
   "cell_type": "markdown",
   "metadata": {},
   "source": [
    "# Creating a group-by table"
   ]
  },
  {
   "attachments": {},
   "cell_type": "markdown",
   "metadata": {},
   "source": [
    "- Create a measure using row-wise function `AGGX` (like `SUMX`, `AVERAGEX` etc)\n",
    "    - `agged_measure = AGGX(FILTERed_table,col_to_group_by)`\n",
    "- Create a `table` visual\n",
    "- Drag the `agged_measure` in the `table`\n",
    "- Drag the other `non-agg` column to create final group by table"
   ]
  },
  {
   "attachments": {},
   "cell_type": "markdown",
   "metadata": {},
   "source": [
    "<center><img src=\"images/04.035.jpg\"  style=\"width: 400px, height: 300px;\"/></center>\n",
    "<center><img src=\"images/04.036.jpg\"  style=\"width: 400px, height: 300px;\"/></center>\n"
   ]
  },
  {
   "attachments": {},
   "cell_type": "markdown",
   "metadata": {},
   "source": [
    "# Ranking"
   ]
  },
  {
   "attachments": {},
   "cell_type": "markdown",
   "metadata": {},
   "source": [
    "- Similar to Group by `AGGX` function. Use `RANKX`\n",
    "- By default it ranks by query context (Ranking by individual name) to produce same rank for different name. (SQL `RANK`)\n",
    "- It treats different name as different entity\n",
    "- However we want to treat all of them as a single entity\n",
    "- Use `ALL` with the table (SQL `DENSE RANK`)\n",
    "    - `agged_measure = AGGX(ALL(FILTERed_table_or_col),col_to_group_by)`\n",
    "- Now we have different rank for them"
   ]
  },
  {
   "attachments": {},
   "cell_type": "markdown",
   "metadata": {},
   "source": [
    "<center><img src=\"images/04.037.jpg\"  style=\"width: 400px, height: 300px;\"/></center>\n",
    "<center><img src=\"images/04.038.jpg\"  style=\"width: 400px, height: 300px;\"/></center>\n"
   ]
  }
 ],
 "metadata": {
  "kernelspec": {
   "display_name": "env_py",
   "language": "python",
   "name": "python3"
  },
  "language_info": {
   "name": "python",
   "version": "3.8.11 (default, Aug  6 2021, 09:57:55) [MSC v.1916 64 bit (AMD64)]"
  },
  "orig_nbformat": 4,
  "vscode": {
   "interpreter": {
    "hash": "1e949e87132dd83f1a7623eb88007e3532b03b66b77111be347aa4a383049722"
   }
  }
 },
 "nbformat": 4,
 "nbformat_minor": 2
}
