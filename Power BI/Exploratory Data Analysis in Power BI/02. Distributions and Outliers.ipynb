{
 "cells": [
  {
   "attachments": {},
   "cell_type": "markdown",
   "metadata": {},
   "source": [
    "# Distribution"
   ]
  },
  {
   "attachments": {},
   "cell_type": "markdown",
   "metadata": {},
   "source": [
    "- set of all possible values of the variable and the associated frequencies.\n",
    "- Number of times values occur in a variable in the dataset \n",
    "- Histogram is used to show distribution of variables\n",
    "    - Looks like bar chart\n",
    "    - Values on X-axis\n",
    "    - Frequencies or number of occurance on Y-axis\n",
    "    - Bins : \n",
    "        - Bars / Intervals\n",
    "        - Determines level of details of a histogram \n",
    "        - Different bin size = different distribution\n",
    "    - Gives a sense of central tendency (Mean, Median, skewness)\n",
    "    - Gives spread of dataset / variability in a dataset\n",
    "        - larger standard deviation = largger variability\n",
    "- Percentile in a distribution :\n",
    "    - Percentage of observations that fall at or below \n",
    "    - 50-th percentile = Median = 50% of the observations fall below median\n",
    "- Interquartile range :\n",
    "    - Difference between 75th and 25th percentile\n",
    "\n",
    "<center><img src=\"images/02.011.jpg\"  style=\"width: 400px, height: 300px;\"/></center>\n",
    "<center><img src=\"images/02.012.jpg\"  style=\"width: 400px, height: 300px;\"/></center>\n",
    "<center><img src=\"images/02.013.jpg\"  style=\"width: 400px, height: 300px;\"/></center>\n"
   ]
  },
  {
   "attachments": {},
   "cell_type": "markdown",
   "metadata": {},
   "source": [
    "### 4. Identifying outliers"
   ]
  },
  {
   "attachments": {},
   "cell_type": "markdown",
   "metadata": {},
   "source": [
    "- Datapoints that lie outside of the pattern of distribution\n",
    "- Though histograms may reveal possible outliers, it's always best to use a quantitative approach to confirm.\n",
    "- Finding outliers:\n",
    "    1. Using standard deviation\n",
    "        - lower than  `−3 ∗ Standard_Deviation`\n",
    "        - upper than  `3 ∗ Standard_Deviation`\n",
    "        - For normal distribution only\n",
    "    2. Interquartile Range (IQR)\n",
    "        - lower than `25percentile − (1.5 ∗ IQR)`\n",
    "        - upper than `75percentile + (1.5 ∗ IQR)`\n",
    "        - For any distribution \n",
    "- Handling Outliers\n",
    "    1. Remove observations\n",
    "    2. Imputation \n",
    "        - Winsorizing\n",
    "            - `IF (col < 5th_percentile , 5th_percentile, col)`\n",
    "            - `IF (col > 95th_percentile , 95th_percentile, col)`"
   ]
  },
  {
   "attachments": {},
   "cell_type": "markdown",
   "metadata": {},
   "source": [
    "# Creating Histogram"
   ]
  },
  {
   "attachments": {},
   "cell_type": "markdown",
   "metadata": {},
   "source": [
    "- From `Report View` create `Clustered Column Chart`\n",
    "- Put a variable on X- axis\n",
    "- Put `Count` aggregation of `id` on y-axis"
   ]
  },
  {
   "attachments": {},
   "cell_type": "markdown",
   "metadata": {},
   "source": [
    "<center><img src=\"images/02.031.jpg\"  style=\"width: 400px, height: 300px;\"/></center>\n"
   ]
  },
  {
   "attachments": {},
   "cell_type": "markdown",
   "metadata": {},
   "source": [
    "# Change Bin Size"
   ]
  },
  {
   "attachments": {},
   "cell_type": "markdown",
   "metadata": {},
   "source": [
    "- If the distribution is too granular, we need to do manual binning\n",
    "- Right click on the specified column > Click `New Group`\n",
    "- From new window, Specify `Bin Type` of `Number of Bins` and `Bin Size`\n",
    "- A new group will be created\n",
    "- Drag the new group to `clustered column chart` to create customized binned distribution"
   ]
  },
  {
   "attachments": {},
   "cell_type": "markdown",
   "metadata": {},
   "source": [
    "<center><img src=\"images/02.032.jpg\"  style=\"width: 400px, height: 300px;\"/></center>\n",
    "<center><img src=\"images/02.033.jpg\"  style=\"width: 400px, height: 300px;\"/></center>\n",
    "<center><img src=\"images/02.034.jpg\"  style=\"width: 400px, height: 300px;\"/></center>\n",
    "<center><img src=\"images/02.035.jpg\"  style=\"width: 400px, height: 300px;\"/></center>\n"
   ]
  },
  {
   "attachments": {},
   "cell_type": "markdown",
   "metadata": {},
   "source": [
    "# Create Columns based on Percentile"
   ]
  },
  {
   "attachments": {},
   "cell_type": "markdown",
   "metadata": {},
   "source": [
    "- For Determining Outlier datapoints\n",
    "- Replacing outliers\n",
    "- Finding IQR\n",
    "- Creating:\n",
    "    - Create `New Column`\n",
    "    - Formula: `new_col = PERCENTILE.INC(col, 0.25)`"
   ]
  },
  {
   "attachments": {},
   "cell_type": "markdown",
   "metadata": {},
   "source": [
    "<center><img src=\"images/02.036.jpg\"  style=\"width: 400px, height: 300px;\"/></center>\n",
    "<center><img src=\"images/02.037.jpg\"  style=\"width: 400px, height: 300px;\"/></center>\n"
   ]
  },
  {
   "attachments": {},
   "cell_type": "markdown",
   "metadata": {},
   "source": [
    "# Visualizing Outliers"
   ]
  },
  {
   "attachments": {},
   "cell_type": "markdown",
   "metadata": {},
   "source": [
    "- Create `New Column` with lower and upper percentiles\n",
    "- Click histogram visualization\n",
    "- From `visualizations` pane create on `Analytics` tab\n",
    "- Click `constant line` > `X-axis constant line` > `Add`\n",
    "- From new window, specify the lower percentile column as `field`, `average` as `summarization`\n",
    "- Do this for upper percentile as well"
   ]
  },
  {
   "attachments": {},
   "cell_type": "markdown",
   "metadata": {},
   "source": [
    "<center><img src=\"images/02.038.jpg\"  style=\"width: 400px, height: 300px;\"/></center>\n",
    "<center><img src=\"images/02.039.jpg\"  style=\"width: 400px, height: 300px;\"/></center>\n",
    "<center><img src=\"images/02.040.jpg\"  style=\"width: 400px, height: 300px;\"/></center>\n",
    "<center><img src=\"images/02.041.jpg\"  style=\"width: 400px, height: 300px;\"/></center>\n"
   ]
  }
 ],
 "metadata": {
  "kernelspec": {
   "display_name": "env_py",
   "language": "python",
   "name": "python3"
  },
  "language_info": {
   "name": "python",
   "version": "3.8.11 (default, Aug  6 2021, 09:57:55) [MSC v.1916 64 bit (AMD64)]"
  },
  "orig_nbformat": 4,
  "vscode": {
   "interpreter": {
    "hash": "1e949e87132dd83f1a7623eb88007e3532b03b66b77111be347aa4a383049722"
   }
  }
 },
 "nbformat": 4,
 "nbformat_minor": 2
}
