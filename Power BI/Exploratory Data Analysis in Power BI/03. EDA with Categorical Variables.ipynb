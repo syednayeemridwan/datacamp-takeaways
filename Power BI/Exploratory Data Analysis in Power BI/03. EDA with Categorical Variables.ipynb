{
 "cells": [
  {
   "attachments": {},
   "cell_type": "markdown",
   "metadata": {},
   "source": [
    "# EDA for Categorical Variables"
   ]
  },
  {
   "attachments": {},
   "cell_type": "markdown",
   "metadata": {},
   "source": [
    "- Bar chart\n",
    "    - Category on X-axis\n",
    "    - Frequency of observations on Y-axis\n",
    "    - Not much intuition about outliers\n",
    "<center><img src=\"images/03.011.jpg\"  style=\"width: 400px, height: 300px;\"/></center>\n",
    "\n",
    "- Pie Chart\n",
    "    - See relative percentage of observation in different categories\n",
    "<center><img src=\"images/03.012.jpg\"  style=\"width: 400px, height: 300px;\"/></center>\n",
    "\n",
    "- Box plot\n",
    "    - Shows distribution of continuous variables\n",
    "    - Use categories on X-axis, Continuous variable on Y-axis\n",
    "<center><img src=\"images/03.013.jpg\"  style=\"width: 400px, height: 300px;\"/></center>\n"
   ]
  },
  {
   "attachments": {},
   "cell_type": "markdown",
   "metadata": {},
   "source": [
    "# Creating New Columns for EDA"
   ]
  },
  {
   "attachments": {},
   "cell_type": "markdown",
   "metadata": {},
   "source": [
    "- Known as data transformation\n",
    "- Also known as mutation\n",
    "- Artificial binning process for categories\n",
    "<center><img src=\"images/03.014.jpg\"  style=\"width: 400px, height: 300px;\"/></center>\n"
   ]
  },
  {
   "attachments": {},
   "cell_type": "markdown",
   "metadata": {},
   "source": [
    "# Creating Bar Chart"
   ]
  },
  {
   "attachments": {},
   "cell_type": "markdown",
   "metadata": {},
   "source": [
    "- From `Report View` click `Bar chart` / `Stacked Bar chart`\n",
    "- Put categorical variable on X-axis\n",
    "- Put `COUNT` of `id` variable on Y-axis\n",
    "- For `Stacked Bar chart` You can put other categorical variable on `Legend`"
   ]
  },
  {
   "attachments": {},
   "cell_type": "markdown",
   "metadata": {},
   "source": [
    "<center><img src=\"images/03.031.jpg\"  style=\"width: 400px, height: 300px;\"/></center>\n",
    "<center><img src=\"images/03.032.jpg\"  style=\"width: 400px, height: 300px;\"/></center>\n"
   ]
  },
  {
   "attachments": {},
   "cell_type": "markdown",
   "metadata": {},
   "source": [
    "# Creating Boxplot"
   ]
  },
  {
   "attachments": {},
   "cell_type": "markdown",
   "metadata": {},
   "source": [
    "- By default, boxplot is not available\n",
    "- Click `...` from Visualizations pane > Click `Get more visuals`\n",
    "- Import boxplot from there\n",
    "- Put numeric variable in `value`\n",
    "- put `id` in `Axis`\n",
    "- For faceting, put categorical variable in `Axis Category I`\n",
    "- Due to invalid data, sometimes they may show negative values for percentage\n",
    "- From `Visualizations` pane > `Format` > `Y-axis`\n",
    "    - Set `start` to 0 (0 percent)\n",
    "    - Set `end` to 1 (100 percent)"
   ]
  },
  {
   "attachments": {},
   "cell_type": "markdown",
   "metadata": {},
   "source": [
    "<center><img src=\"images/03.033.jpg\"  style=\"width: 400px, height: 300px;\"/></center>\n",
    "<center><img src=\"images/03.034.jpg\"  style=\"width: 400px, height: 300px;\"/></center>\n",
    "<center><img src=\"images/03.035.jpg\"  style=\"width: 400px, height: 300px;\"/></center>\n",
    "<center><img src=\"images/03.036.jpg\"  style=\"width: 400px, height: 300px;\"/></center>\n"
   ]
  }
 ],
 "metadata": {
  "kernelspec": {
   "display_name": "env_py",
   "language": "python",
   "name": "python3"
  },
  "language_info": {
   "name": "python",
   "version": "3.8.11 (default, Aug  6 2021, 09:57:55) [MSC v.1916 64 bit (AMD64)]"
  },
  "orig_nbformat": 4,
  "vscode": {
   "interpreter": {
    "hash": "1e949e87132dd83f1a7623eb88007e3532b03b66b77111be347aa4a383049722"
   }
  }
 },
 "nbformat": 4,
 "nbformat_minor": 2
}
