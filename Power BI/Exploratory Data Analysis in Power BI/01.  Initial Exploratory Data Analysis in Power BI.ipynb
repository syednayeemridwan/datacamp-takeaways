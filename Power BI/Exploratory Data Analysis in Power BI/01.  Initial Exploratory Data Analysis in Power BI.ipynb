{
 "cells": [
  {
   "attachments": {},
   "cell_type": "markdown",
   "metadata": {},
   "source": [
    "# Exploratory data analysis"
   ]
  },
  {
   "attachments": {},
   "cell_type": "markdown",
   "metadata": {},
   "source": [
    "- Analyzing and summarizing data through visualization\n",
    "- Steps of EDA:\n",
    "    1. Understanding the data structure\n",
    "    2. Identifying missing data\n",
    "    3. Describing the data with descriptive statistics & distributions\n",
    "    4. Identifying outliers\n",
    "    5. Examining and quantifying relationships between variables\n",
    "    6. Forming hypothesis"
   ]
  },
  {
   "attachments": {},
   "cell_type": "markdown",
   "metadata": {},
   "source": [
    "### 1. Understanding the data structure"
   ]
  },
  {
   "attachments": {},
   "cell_type": "markdown",
   "metadata": {},
   "source": [
    "- Continuous :\n",
    "    - Numerical variables with fractions\n",
    "    - example: Distance between two cities\n",
    "- Categorical :\n",
    "    - Discrete or Non-numerical variables\n",
    "    - example: City\n",
    "- To see what data type this column has:\n",
    "    - go to `Data View` \n",
    "    - Click on a column\n",
    "    - See data-type of that column"
   ]
  },
  {
   "attachments": {},
   "cell_type": "markdown",
   "metadata": {},
   "source": [
    "<center><img src=\"images/01.031.jpg\"  style=\"width: 400px, height: 300px;\"/></center>\n"
   ]
  },
  {
   "attachments": {},
   "cell_type": "markdown",
   "metadata": {},
   "source": [
    "### 2. Identifying missing data"
   ]
  },
  {
   "attachments": {},
   "cell_type": "markdown",
   "metadata": {},
   "source": [
    "- Missing at random\n",
    "    - Purely random data is missing, no pattern is detected behind missingness\n",
    "- Missing not at random\n",
    "    - There is some pattern behind missing data\n",
    "- Handling:\n",
    "    - Remove records (May cause too many rows to be removed)\n",
    "    - Imputation (Replacing missing values with some computed values like mean, median etc)\n",
    "\n",
    "<center><img src=\"images/01.011.jpg\"  style=\"width: 400px, height: 300px;\"/></center>\n",
    "\n",
    "- To see missing data:\n",
    "    - Go to `Report View`\n",
    "    - Create `Card` visual with fields / columns with aggregations like `Count`, `Distinct Count`\n",
    "    - `Filter` for page where fields / columns have `Blank` values\n",
    "- To impute missing data:\n",
    "    - Create `New Column`\n",
    "    - Formula: `new_col = IF(ISBLANK(col), specified_val, col)`"
   ]
  },
  {
   "attachments": {},
   "cell_type": "markdown",
   "metadata": {},
   "source": [
    "<center><img src=\"images/01.032.jpg\"  style=\"width: 400px, height: 300px;\"/></center>\n",
    "<center><img src=\"images/01.033.jpg\"  style=\"width: 400px, height: 300px;\"/></center>\n",
    "<center><img src=\"images/01.034.jpg\"  style=\"width: 400px, height: 300px;\"/></center>\n",
    "<center><img src=\"images/01.035.jpg\"  style=\"width: 400px, height: 300px;\"/></center>\n",
    "<center><img src=\"images/01.036.jpg\"  style=\"width: 400px, height: 300px;\"/></center>\n"
   ]
  },
  {
   "attachments": {},
   "cell_type": "markdown",
   "metadata": {},
   "source": [
    "### 3. Describing the data with descriptive statistics & distributions"
   ]
  },
  {
   "attachments": {},
   "cell_type": "markdown",
   "metadata": {},
   "source": [
    "- Minimum\n",
    "- Maximum\n",
    "- Mean: sum of all values divided by the number of observations\n",
    "- Median: the value in the center of a range of values\n",
    "- Standard Deviation: average amount of difference from the mean of a variable observed across all data points\n",
    "- Skewness of distribution (normalness)\n",
    "\n",
    "<center><img src=\"images/01.012.jpg\"  style=\"width: 400px, height: 300px;\"/></center>\n",
    "<center><img src=\"images/01.013.jpg\"  style=\"width: 400px, height: 300px;\"/></center>\n"
   ]
  },
  {
   "attachments": {},
   "cell_type": "markdown",
   "metadata": {},
   "source": [
    "- To understand the distribution create a `table` visual with different aggregations on the column\n",
    "<center><img src=\"images/01.037.jpg\"  style=\"width: 400px, height: 300px;\"/></center>\n"
   ]
  }
 ],
 "metadata": {
  "kernelspec": {
   "display_name": "env_py",
   "language": "python",
   "name": "python3"
  },
  "language_info": {
   "name": "python",
   "version": "3.8.11 (default, Aug  6 2021, 09:57:55) [MSC v.1916 64 bit (AMD64)]"
  },
  "orig_nbformat": 4,
  "vscode": {
   "interpreter": {
    "hash": "1e949e87132dd83f1a7623eb88007e3532b03b66b77111be347aa4a383049722"
   }
  }
 },
 "nbformat": 4,
 "nbformat_minor": 2
}
