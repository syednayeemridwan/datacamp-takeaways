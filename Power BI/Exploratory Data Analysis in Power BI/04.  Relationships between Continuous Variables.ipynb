{
 "cells": [
  {
   "attachments": {},
   "cell_type": "markdown",
   "metadata": {},
   "source": [
    "# Seeking Relationship between continuous variables"
   ]
  },
  {
   "attachments": {},
   "cell_type": "markdown",
   "metadata": {},
   "source": [
    "- Scatterplot\n",
    "- 1 continuous variable in X-axis\n",
    "- 1 continuous variable in Y-axis\n",
    "- each dot represents a data-points\n",
    "- It is possible to draw trendline to know the slope of the line\n",
    "    - the higher the slope, the more relationship the 2 variables have with each-other\n",
    "- Correlation coefficient\n",
    "    - quantifies the slope of the variables\n",
    "    - Used to quantify the relationship\n",
    "    - Represented by the letter, r\n",
    "        - `r = -1` Strong-negative\n",
    "        - `r = 0` No relationship\n",
    "        - `r = 1` Strong-positive\n",
    "    - Adding contexts:\n",
    "        - Other dimension representing color, size etc\n",
    "        - the color bar/size indicates the value (higher color = higher value)"
   ]
  },
  {
   "attachments": {},
   "cell_type": "markdown",
   "metadata": {},
   "source": [
    "<center><img src=\"images/04.011.jpg\"  style=\"width: 400px, height: 300px;\"/></center>\n",
    "<center><img src=\"images/04.012.jpg\"  style=\"width: 400px, height: 300px;\"/></center>\n"
   ]
  },
  {
   "attachments": {},
   "cell_type": "markdown",
   "metadata": {},
   "source": [
    "# Creating Scatter"
   ]
  },
  {
   "attachments": {},
   "cell_type": "markdown",
   "metadata": {},
   "source": [
    "- Put a variable in `X axis`\n",
    "- Put another variable in `Y axis`\n",
    "- By default, they show a point\n",
    "    - Click on those variables and make them `Don't Summarize`\n",
    "- For faceting, put other categorical variable in `Legend`\n",
    "- To see the whole plot or specify the range of X or Y axis go to `Visualizations` pane > `Format` tab \n",
    "    - Specify `start`\n",
    "    - Specify `end`\n",
    "- To add trendline on the plot go to `Visualizations` pane > `Analytics tab` tab \n",
    "    - Specify `trend line`    \n"
   ]
  },
  {
   "attachments": {},
   "cell_type": "markdown",
   "metadata": {},
   "source": [
    "<center><img src=\"images/04.031.jpg\"  style=\"width: 400px, height: 300px;\"/></center>\n",
    "<center><img src=\"images/04.032.jpg\"  style=\"width: 400px, height: 300px;\"/></center>\n",
    "<center><img src=\"images/04.033.jpg\"  style=\"width: 400px, height: 300px;\"/></center>\n",
    "<center><img src=\"images/04.034.jpg\"  style=\"width: 400px, height: 300px;\"/></center>\n",
    "<center><img src=\"images/04.035.jpg\"  style=\"width: 400px, height: 300px;\"/></center>\n",
    "<center><img src=\"images/04.036.jpg\"  style=\"width: 400px, height: 300px;\"/></center>\n"
   ]
  },
  {
   "attachments": {},
   "cell_type": "markdown",
   "metadata": {},
   "source": [
    "# See Correlation"
   ]
  },
  {
   "attachments": {},
   "cell_type": "markdown",
   "metadata": {},
   "source": [
    "- Right click on table\n",
    "- Click `New Quick measure`\n",
    "- From new window, select `Correlation co-efficient`\n",
    "- Put specified columns in X and Y\n",
    "- Put `id` in `Category`\n",
    "- You can now drag the correlation in the card to visualize them "
   ]
  },
  {
   "attachments": {},
   "cell_type": "markdown",
   "metadata": {},
   "source": [
    "<center><img src=\"images/04.037.jpg\"  style=\"width: 400px, height: 300px;\"/></center>\n",
    "<center><img src=\"images/04.038.jpg\"  style=\"width: 400px, height: 300px;\"/></center>\n",
    "<center><img src=\"images/04.039.jpg\"  style=\"width: 400px, height: 300px;\"/></center>\n"
   ]
  }
 ],
 "metadata": {
  "kernelspec": {
   "display_name": "env_py",
   "language": "python",
   "name": "python3"
  },
  "language_info": {
   "name": "python",
   "version": "3.8.11 (default, Aug  6 2021, 09:57:55) [MSC v.1916 64 bit (AMD64)]"
  },
  "orig_nbformat": 4,
  "vscode": {
   "interpreter": {
    "hash": "1e949e87132dd83f1a7623eb88007e3532b03b66b77111be347aa4a383049722"
   }
  }
 },
 "nbformat": 4,
 "nbformat_minor": 2
}
