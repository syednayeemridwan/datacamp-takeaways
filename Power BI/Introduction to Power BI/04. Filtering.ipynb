{
 "cells": [
  {
   "cell_type": "markdown",
   "metadata": {},
   "source": [
    "# Drilling down"
   ]
  },
  {
   "cell_type": "markdown",
   "metadata": {},
   "source": [
    "- Look for additional details\n",
    "- Show data at a high level\n",
    "- Hierarchies = Levels in drilling down \n",
    "- Option to show a more detailed level\n",
    "<center><img src=\"images/04.011.jpg\"  style=\"width: 400px, height: 300px;\"/></center>\n",
    "\n",
    "- Drilling Down by 1 level after each click in the Hierarchy\n",
    "<center><img src=\"images/04.012.jpg\"  style=\"width: 400px, height: 300px;\"/></center>\n",
    "<center><img src=\"images/04.013.jpg\"  style=\"width: 400px, height: 300px;\"/></center>\n",
    "<center><img src=\"images/04.014.jpg\"  style=\"width: 400px, height: 300px;\"/></center>\n",
    "\n",
    "- Drilling Down with expansion by 1 level after each click in the Hierarchy\n",
    "<center><img src=\"images/04.015.jpg\"  style=\"width: 400px, height: 300px;\"/></center>\n",
    "<center><img src=\"images/04.016.jpg\"  style=\"width: 400px, height: 300px;\"/></center>\n",
    "<center><img src=\"images/04.017.jpg\"  style=\"width: 400px, height: 300px;\"/></center>\n"
   ]
  },
  {
   "cell_type": "markdown",
   "metadata": {},
   "source": [
    "# Filtering"
   ]
  },
  {
   "cell_type": "markdown",
   "metadata": {},
   "source": [
    "- Selective subsetting\n",
    "- Display data based on some selected criteria\n",
    "- Examples:\n",
    "    - Filter on one year or one customer\n",
    "    - Show the top 5 regions\n",
    "- Types of filters in Power BI:\n",
    "    - Visual-level filters : On individual visuals\n",
    "    - Page-level filters : Certain filter On selected page\n",
    "    - Report-level filters : Filter on entire report\n",
    "- Turning off filtering : Don't allow the end-user of your report to change the filters\n",
    "- In Power BI: turning off interactions Visual will not change when another field is selected"
   ]
  },
  {
   "cell_type": "markdown",
   "metadata": {},
   "source": [
    "# See data from Visuals"
   ]
  },
  {
   "cell_type": "markdown",
   "metadata": {},
   "source": [
    "- See the data in table from a visual\n",
    "- Click on the 3 dots `...` on the top-right corner from a visual\n",
    "<center><img src=\"images/04.031.jpg\"  style=\"width: 400px, height: 300px;\"/></center>\n",
    "<center><img src=\"images/04.032.jpg\"  style=\"width: 400px, height: 300px;\"/></center>\n"
   ]
  },
  {
   "cell_type": "markdown",
   "metadata": {},
   "source": [
    "# Export data from Visuals\n"
   ]
  },
  {
   "cell_type": "markdown",
   "metadata": {},
   "source": [
    "- Export the data in table from a visual\n",
    "- Click on the 3 dots `...` on the top-right corner from a visual\n",
    "<center><img src=\"images/04.033.jpg\"  style=\"width: 400px, height: 300px;\"/></center>\n",
    "<center><img src=\"images/04.034.jpg\"  style=\"width: 400px, height: 300px;\"/></center>\n"
   ]
  },
  {
   "cell_type": "markdown",
   "metadata": {},
   "source": [
    "# Creating Hierarchy"
   ]
  },
  {
   "cell_type": "markdown",
   "metadata": {},
   "source": [
    "- You need to go to Data View\n",
    "- Drag one field on top of another to create hierarchy\n",
    "<center><img src=\"images/04.035.jpg\"  style=\"width: 400px, height: 300px;\"/></center>\n",
    "\n",
    "- Double Click to rename hierarchy\n",
    "<center><img src=\"images/04.036.jpg\"  style=\"width: 400px, height: 300px;\"/></center>\n",
    "\n",
    "- Add new field to the existing hierarchy\n",
    "<center><img src=\"images/04.037.jpg\"  style=\"width: 400px, height: 300px;\"/></center>\n",
    "\n",
    "- Order the hierarchy level\n",
    "<center><img src=\"images/04.038.jpg\"  style=\"width: 400px, height: 300px;\"/></center>\n",
    "\n",
    "- Drag created hierarchy to `axis` in visualization\n",
    "<center><img src=\"images/04.039.jpg\"  style=\"width: 400px, height: 300px;\"/></center>\n",
    "\n",
    "- Remove previous `axis` field\n",
    "<center><img src=\"images/04.040.jpg\"  style=\"width: 400px, height: 300px;\"/></center>\n",
    "\n",
    "- Enable hierarchy in the visual\n",
    "<center><img src=\"images/04.041.jpg\"  style=\"width: 400px, height: 300px;\"/></center>\n"
   ]
  },
  {
   "cell_type": "markdown",
   "metadata": {},
   "source": [
    "# Filter top values"
   ]
  },
  {
   "cell_type": "markdown",
   "metadata": {},
   "source": [
    "- Select a visual and then filter for top values\n",
    "- Specify the number of top values to return\n",
    "- Drag field to specify the value of specific columns in `by value`\n",
    "- `Apply Filter`\n",
    "<center><img src=\"images/04.071.jpg\"  style=\"width: 400px, height: 300px;\"/></center>\n",
    "<center><img src=\"images/04.072.jpg\"  style=\"width: 400px, height: 300px;\"/></center>\n"
   ]
  },
  {
   "cell_type": "markdown",
   "metadata": {},
   "source": [
    "# Specify Filtering Scope"
   ]
  },
  {
   "cell_type": "markdown",
   "metadata": {},
   "source": [
    "- How the filtering will work\n",
    "    - All pages?\n",
    "    - Only single page?\n",
    "- Drag and drop field to set rules\n",
    "<center><img src=\"images/04.073.jpg\"  style=\"width: 400px, height: 300px;\"/></center>\n",
    "<center><img src=\"images/04.074.jpg\"  style=\"width: 400px, height: 300px;\"/></center>\n"
   ]
  },
  {
   "cell_type": "markdown",
   "metadata": {},
   "source": [
    "# Disable Visual Interaction"
   ]
  },
  {
   "cell_type": "markdown",
   "metadata": {},
   "source": [
    "- By default, interaction is enabled for all visuals\n",
    "- Go to `Format` > `Edit Interaction` > \n",
    "- Select `None` to turn off interaction with certain visuals for the selected visual\n",
    "<center><img src=\"images/04.075.jpg\"  style=\"width: 400px, height: 300px;\"/></center>\n"
   ]
  }
 ],
 "metadata": {
  "kernelspec": {
   "display_name": "Python 3.8.11 ('env_py')",
   "language": "python",
   "name": "python3"
  },
  "language_info": {
   "name": "python",
   "version": "3.8.11"
  },
  "orig_nbformat": 4,
  "vscode": {
   "interpreter": {
    "hash": "1e949e87132dd83f1a7623eb88007e3532b03b66b77111be347aa4a383049722"
   }
  }
 },
 "nbformat": 4,
 "nbformat_minor": 2
}
