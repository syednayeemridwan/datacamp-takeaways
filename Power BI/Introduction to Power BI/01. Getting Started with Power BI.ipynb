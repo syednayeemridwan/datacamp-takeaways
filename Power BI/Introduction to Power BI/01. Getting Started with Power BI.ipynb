{
 "cells": [
  {
   "cell_type": "markdown",
   "metadata": {},
   "source": [
    "# Power BI"
   ]
  },
  {
   "cell_type": "markdown",
   "metadata": {},
   "source": [
    "- Power BI Desktop\n",
    "    - Desktop version\n",
    "    - Data analysis and report creation tool\n",
    "    - Includes the Power Query Editor\n",
    "    - 100% free\n",
    "- Power BI service\n",
    "    - Cloud-based version\n",
    "    - Light report editing\n",
    "    - Share and distribute reports (Main purpose)\n",
    "    - Publish and share across the Power BI cloud platform\n",
    "    - Mobile app\n",
    "    - Collaborate with other Power BI users\n",
    "- Works in Star schema\n",
    "    - Fact Table : Contains events or transactions\n",
    "    - Dimension Table : Holds detailed information about each transaction\n",
    "    <center><img src=\"images/01.011.jpg\"  style=\"width: 400px, height: 300px;\"/></center>"
   ]
  },
  {
   "cell_type": "markdown",
   "metadata": {},
   "source": [
    "# Views"
   ]
  },
  {
   "cell_type": "markdown",
   "metadata": {},
   "source": [
    "- There are 3 views\n",
    "    1. Report View\n",
    "    2. Data View\n",
    "    3. Model View\n",
    "\n",
    "<center><img src=\"images/01.012.jpg\"  style=\"width: 400px, height: 300px;\"/></center>\n"
   ]
  },
  {
   "cell_type": "markdown",
   "metadata": {},
   "source": [
    "# 01. Report View"
   ]
  },
  {
   "cell_type": "markdown",
   "metadata": {},
   "source": [
    "- The default view\n",
    "- Create Report and Visuals\n",
    "- Contains Following items:\n",
    "    - Canvas \n",
    "        - Where visualizations are created\n",
    "    - Filters Pane \n",
    "        - Filter data visualization\n",
    "        - Anything done here is about filtering the dataset\n",
    "    - Visualizations Pane \n",
    "        - Add, Change or Customize visualizations\n",
    "        - Anything done here is about visualization property in the canvas\n",
    "    - Fields Pane \n",
    "        - Shows available fields \n",
    "        - Anything selected here is ready to work in filtering, visualizing etc that can be done through the other panes.\n",
    "        - Draggable to other items\n",
    "\n",
    "<center><img src=\"images/01.013.jpg\"  style=\"width: 400px, height: 300px;\"/></center>\n"
   ]
  },
  {
   "cell_type": "markdown",
   "metadata": {},
   "source": [
    "<center><img src=\"images/01.016.jpg\"  style=\"width: 400px, height: 300px;\"/></center>\n",
    "<center><img src=\"images/01.017.jpg\"  style=\"width: 400px, height: 300px;\"/></center>\n",
    "<center><img src=\"images/01.018.jpg\"  style=\"width: 400px, height: 300px;\"/></center>\n",
    "<center><img src=\"images/01.019.jpg\"  style=\"width: 400px, height: 300px;\"/></center>\n"
   ]
  },
  {
   "cell_type": "markdown",
   "metadata": {},
   "source": [
    "# 02. Data View\n"
   ]
  },
  {
   "cell_type": "markdown",
   "metadata": {},
   "source": [
    "- See the data used in the data model\n",
    "- See the data associated in the report\n",
    "\n",
    "<center><img src=\"images/01.014.jpg\"  style=\"width: 400px, height: 300px;\"/></center>\n"
   ]
  },
  {
   "cell_type": "markdown",
   "metadata": {},
   "source": [
    "# 03. Model View\n"
   ]
  },
  {
   "cell_type": "markdown",
   "metadata": {},
   "source": [
    "- See the model of the dataset\n",
    "- Manage the relationships among tables\n",
    "<center><img src=\"images/01.015.jpg\"  style=\"width: 400px, height: 300px;\"/></center>\n"
   ]
  },
  {
   "cell_type": "markdown",
   "metadata": {},
   "source": [
    "# Getting Data"
   ]
  },
  {
   "cell_type": "markdown",
   "metadata": {},
   "source": [
    "- Import your dataset\n",
    "- You can import multiple datasets\n",
    "<center><img src=\"images/01.041.jpg\"  style=\"width: 400px, height: 300px;\"/></center>\n",
    "<center><img src=\"images/01.042.jpg\"  style=\"width: 400px, height: 300px;\"/></center>\n"
   ]
  },
  {
   "cell_type": "markdown",
   "metadata": {},
   "source": [
    "# Creating Relationships between multiple data"
   ]
  },
  {
   "cell_type": "markdown",
   "metadata": {},
   "source": [
    "- After loading multiple dataset, you go go to Model View\n",
    "- From Model View, you can drag and drop fields from one table to another by joining them\n",
    "<center><img src=\"images/01.043.jpg\"  style=\"width: 400px, height: 300px;\"/></center>\n",
    "<center><img src=\"images/01.044.jpg\"  style=\"width: 400px, height: 300px;\"/></center>\n"
   ]
  },
  {
   "cell_type": "markdown",
   "metadata": {},
   "source": [
    "# Different Visualizations"
   ]
  },
  {
   "cell_type": "markdown",
   "metadata": {},
   "source": [
    "- Card From Visualizations: One numeric value\n",
    "- Selecting any column from Fields : Default is bar-chart\n",
    "- Slicer : Filter Choice  \n",
    "    - You can make it list or dropdown (Select option from arrow on top-right of the slicer)\n",
    "        - To enable this, make sure that the `Slice Header` is turned `ON`\n",
    "        <center><img src=\"images/03.064.jpg\"  style=\"width: 400px, height: 300px;\"/></center>\n",
    "        <center><img src=\"images/03.065.jpg\"  style=\"width: 400px, height: 300px;\"/></center>\n",
    "    - Click on eraser to clear selections\n",
    "\n",
    "- Table : Shows data from dataset\n",
    "- TextBox : Your customized Text\n",
    "<center><img src=\"images/01.046.jpg\"  style=\"width: 400px, height: 300px;\"/></center>\n"
   ]
  },
  {
   "cell_type": "markdown",
   "metadata": {},
   "source": [
    "# Opening Reports"
   ]
  },
  {
   "cell_type": "markdown",
   "metadata": {},
   "source": [
    "- `File` > `Open Report` > `Browse..`\n",
    "<center><img src=\"images/01.045.jpg\"  style=\"width: 400px, height: 300px;\"/></center>\n",
    "\n"
   ]
  }
 ],
 "metadata": {
  "kernelspec": {
   "display_name": "Python 3.8.11 ('env_py')",
   "language": "python",
   "name": "python3"
  },
  "language_info": {
   "name": "python",
   "version": "3.8.11"
  },
  "orig_nbformat": 4,
  "vscode": {
   "interpreter": {
    "hash": "1e949e87132dd83f1a7623eb88007e3532b03b66b77111be347aa4a383049722"
   }
  }
 },
 "nbformat": 4,
 "nbformat_minor": 2
}
