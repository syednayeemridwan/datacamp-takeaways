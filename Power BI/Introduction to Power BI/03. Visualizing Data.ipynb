{
 "cells": [
  {
   "cell_type": "markdown",
   "metadata": {},
   "source": [
    "# Different Visualizations"
   ]
  },
  {
   "cell_type": "markdown",
   "metadata": {},
   "source": [
    "- Bar chart:\n",
    "    - Helps to look specific values in different categories\n",
    "    - Horizontal rectangles\n",
    "- Column chart:\n",
    "    - Helps to look specific values in different categories\n",
    "    - Vertical rectangles\n",
    "- Stacked Bar/Column\n",
    "    - Multiple elements in one bar\n",
    "- Clustered Bar/Column\n",
    "    - Multiple elements in multiple bars next to each-other\n",
    "- 100% Stacked Bar/Column\n",
    "    - Relative percentage of stacked bar in a series\n",
    "    - Each stack represents 100%\n",
    "- Combo Chart\n",
    "    - Combines column chart + line chart\n",
    "- Line Chart\n",
    "    - Shows multiple lines in one chart\n",
    "- Area Chart\n",
    "    - Shows multiple lines in one chart\n",
    "    - The area under the line is filled in\n",
    "- Pie Chart\n",
    "    - Shows relative amount in parts to a whole\n",
    "- Donut Chart\n",
    "    - Shows relative amount in parts to a whole\n",
    "    - Pie chart with a hole\n",
    "- Tree maps\n",
    "    - Shows relative amount in parts to a whole\n",
    "    - Coloured rentangles.\n",
    "    - Size of colours represent proportion of values\n",
    "- Slicer\n",
    "    - Allows multiple checkbox or dropdown for filtering\n",
    "- Card \n",
    "    - Shows One Value\n",
    "- Multi-row Card \n",
    "    - Shows Multiple Values\n",
    "- Gauge\n",
    "    - Shows Actual data compared to budgeted data\n",
    "- KPI\n",
    "    - Shows Actual data compared to budgeted data\n",
    "- Table\n",
    "    - Grid of data in rows and columns\n",
    "- Matrix\n",
    "    - Similar to table\n",
    "    - But Can be expanded in rows or columns\n",
    "    "
   ]
  },
  {
   "cell_type": "markdown",
   "metadata": {},
   "source": [
    "# Editing visualizations"
   ]
  },
  {
   "cell_type": "markdown",
   "metadata": {},
   "source": [
    "- Click format icon for editing visualizations\n",
    "<center><img src=\"images/03.011.jpg\"  style=\"width: 400px, height: 300px;\"/></center>\n",
    "<center><img src=\"images/03.031.jpg\"  style=\"width: 400px, height: 300px;\"/></center>"
   ]
  },
  {
   "cell_type": "markdown",
   "metadata": {},
   "source": [
    "# Sorting Inside a Visualization"
   ]
  },
  {
   "cell_type": "markdown",
   "metadata": {},
   "source": [
    "- Click The 3 dots `...` to see the options\n",
    "<center><img src=\"images/03.062.jpg\"  style=\"width: 400px, height: 300px;\"/></center>\n",
    "<center><img src=\"images/03.061.jpg\"  style=\"width: 400px, height: 300px;\"/></center>\n",
    " "
   ]
  },
  {
   "cell_type": "markdown",
   "metadata": {},
   "source": [
    "# Modify Data Property for sorting"
   ]
  },
  {
   "cell_type": "markdown",
   "metadata": {},
   "source": [
    "- If sorting from visualization does not work, you need to sort the format\n",
    "- To sort according to format / data property, use data view\n",
    "<center><img src=\"images/03.063.jpg\"  style=\"width: 400px, height: 300px;\"/></center>\n"
   ]
  },
  {
   "cell_type": "markdown",
   "metadata": {},
   "source": [
    "# Change Theme"
   ]
  },
  {
   "cell_type": "markdown",
   "metadata": {},
   "source": [
    "- From `View`\n",
    "\n",
    "<center><img src=\"images/03.066.jpg\"  style=\"width: 400px, height: 300px;\"/></center>\n"
   ]
  }
 ],
 "metadata": {
  "kernelspec": {
   "display_name": "Python 3.8.11 ('env_py')",
   "language": "python",
   "name": "python3"
  },
  "language_info": {
   "name": "python",
   "version": "3.8.11"
  },
  "orig_nbformat": 4,
  "vscode": {
   "interpreter": {
    "hash": "1e949e87132dd83f1a7623eb88007e3532b03b66b77111be347aa4a383049722"
   }
  }
 },
 "nbformat": 4,
 "nbformat_minor": 2
}
