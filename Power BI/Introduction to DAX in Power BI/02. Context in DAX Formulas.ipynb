{
 "cells": [
  {
   "cell_type": "markdown",
   "metadata": {},
   "source": [
    "# Context"
   ]
  },
  {
   "cell_type": "markdown",
   "metadata": {},
   "source": [
    "- Enables dynamic analysis \n",
    "- Results of a formula change to reflect the selected data\n",
    "- There are 3 types of context: \n",
    "    - row\n",
    "        - \"The current row\"\n",
    "        - Calculated Column\n",
    "        - Includes values from all columns within the current row\n",
    "        - Can be used in measures only when using iterator functions that perform calculations row by row\n",
    "        - Iterator functions can be identified by an `X` after the function name i.e `SUMX()`\n",
    "        - `SUMX(table_name, table_name[Price] + (table_name[Price] * table_name[Tax]))`\n",
    "    - filter \n",
    "        - A set of filters that have been applied before the calculation is carried out.\n",
    "        - Attributes in a row/column\n",
    "        - Via a slicer\n",
    "        - Through the ,lter pane\n",
    "        - In a calculated measure\n",
    "        - `CALCULATE` allows to evaluate expression based on multiple filter conditions\n",
    "        - `CALCULATE()` filters will always override filters from the visualization\n",
    "        - `CALCULATE(SUM(Sales), Sales[Region]=\"EMEA\")`\n",
    "    - query"
   ]
  },
  {
   "cell_type": "markdown",
   "metadata": {},
   "source": [
    "# Iterator Functions"
   ]
  },
  {
   "cell_type": "markdown",
   "metadata": {},
   "source": [
    "- Ends with `X`\n",
    "- `new_col = FunctionX(table_name, table_name[col_name])`"
   ]
  },
  {
   "cell_type": "markdown",
   "metadata": {},
   "source": [
    "# CALCULATE"
   ]
  },
  {
   "cell_type": "markdown",
   "metadata": {},
   "source": [
    "- Perform calculations\n",
    "- Optional Multiple filters\n",
    "- `CALCULATE(SUM(table_name), FILTER( table_name,table_name[col_name]=\"some_val\") )`\n"
   ]
  },
  {
   "cell_type": "markdown",
   "metadata": {},
   "source": [
    "# Creating Variables"
   ]
  },
  {
   "cell_type": "markdown",
   "metadata": {},
   "source": [
    "- When creating measure, use `VAR` and return with `RETURN`\n",
    "- example:\n",
    "```\n",
    "new_measure = \n",
    "    VAR some_var =  FunctionX(table_name, table_name[col_name])\n",
    "\n",
    "RETURN some_var\n",
    "```\n",
    "\n",
    "<center><img src=\"images/02.031.jpg\"  style=\"width: 400px, height: 300px;\"/></center>\n"
   ]
  },
  {
   "cell_type": "markdown",
   "metadata": {},
   "source": [
    "- See examples inside exercises\n"
   ]
  }
 ],
 "metadata": {
  "kernelspec": {
   "display_name": "Python 3.8.11 ('env_py')",
   "language": "python",
   "name": "python3"
  },
  "language_info": {
   "name": "python",
   "version": "3.8.11"
  },
  "orig_nbformat": 4,
  "vscode": {
   "interpreter": {
    "hash": "1e949e87132dd83f1a7623eb88007e3532b03b66b77111be347aa4a383049722"
   }
  }
 },
 "nbformat": 4,
 "nbformat_minor": 2
}
