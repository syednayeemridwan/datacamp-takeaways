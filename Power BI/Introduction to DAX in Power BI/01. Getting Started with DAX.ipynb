{
 "cells": [
  {
   "cell_type": "markdown",
   "metadata": {},
   "source": [
    "# DAX"
   ]
  },
  {
   "cell_type": "markdown",
   "metadata": {},
   "source": [
    "- Data Analysis eXpressions\n",
    "- Formula language to create calculations\n",
    "    - Columns, tables, measures\n",
    "    - Based on Excel formulas and functions\n",
    "    - e.g., SUM()\n",
    "- Used in other Microsoft tools\n",
    "    - Power Pivot and Analysis Services"
   ]
  },
  {
   "cell_type": "markdown",
   "metadata": {},
   "source": [
    "# DAX functions"
   ]
  },
  {
   "cell_type": "markdown",
   "metadata": {},
   "source": [
    "- Predefined formulas that perform calculations on speci,c values called arguments\n",
    "- Function syntax indicates the order of arguments expected\n",
    "- Function categories\n",
    "    - Aggregation - `SUM()` , `AVERAGE()` , `COUNT()`\n",
    "    - Date and Time - `TODAY()` , `MONTH()` , `YEAR()`\n",
    "    - Logical - `IF()` , `AND()` , `OR()`\n",
    "    - Text - `CONCATENATE()` , `UPPER()` , `LEFT()`\n",
    "    - etc.\n",
    "- https://learn.microsoft.com/en-us/dax/dax-function-reference"
   ]
  },
  {
   "cell_type": "markdown",
   "metadata": {},
   "source": [
    "# Calculated Columns"
   ]
  },
  {
   "cell_type": "markdown",
   "metadata": {},
   "source": [
    "- Expands our existing datasets without editing the source data\n",
    "- Evaluates at a row level and adds a new column to an existing table\n",
    "- Calculated at data load or when the data is refreshed\n",
    "- example : `Price_w_tax = Price + ( Price * Tax)`"
   ]
  },
  {
   "cell_type": "markdown",
   "metadata": {},
   "source": [
    "# Calculated Measures"
   ]
  },
  {
   "cell_type": "markdown",
   "metadata": {},
   "source": [
    "- Enables complex calculations\n",
    "- Aggregates multiple rows and adds a new field that can be added to visualizations\n",
    "- Calculated at query time as you interact and filter\n",
    "- More efficient because the calculation is not run every time the table is accessed\n",
    "- Two ways to create a measure\n",
    "    - Write a measure from scratch\n",
    "    - Use the built-in Quick Measure tool\n",
    "- example : `Price_w_tax_total = SUM( Price_w_tax)`\n"
   ]
  },
  {
   "cell_type": "markdown",
   "metadata": {},
   "source": [
    "<center><img src=\"images/01.01.jpg\"  style=\"width: 400px, height: 300px;\"/></center>"
   ]
  },
  {
   "cell_type": "markdown",
   "metadata": {},
   "source": [
    "# Create Calculated Column"
   ]
  },
  {
   "cell_type": "markdown",
   "metadata": {},
   "source": [
    "1. Click one a table from `fields` pane\n",
    "2. Go to `Table tools` and click `New column`\n",
    "3. Write formula and then click the tick"
   ]
  },
  {
   "cell_type": "markdown",
   "metadata": {},
   "source": [
    "<center><img src=\"images/01.031.jpg\"  style=\"width: 400px, height: 300px;\"/></center>\n",
    "<center><img src=\"images/01.032.jpg\"  style=\"width: 400px, height: 300px;\"/></center>\n",
    "<center><img src=\"images/01.033.jpg\"  style=\"width: 400px, height: 300px;\"/></center>\n"
   ]
  },
  {
   "cell_type": "markdown",
   "metadata": {},
   "source": [
    "# Create Calculated Measure\n"
   ]
  },
  {
   "cell_type": "markdown",
   "metadata": {},
   "source": [
    "1. Create a table to store the calculated measure with `_`\n",
    "2. Click the new table from `fields` pane\n",
    "3. Go to `Table tools` and click `New Measure`\n",
    "4. Write formula and then click the tick\n"
   ]
  },
  {
   "cell_type": "markdown",
   "metadata": {},
   "source": [
    "<center><img src=\"images/01.034.jpg\"  style=\"width: 400px, height: 300px;\"/></center>\n",
    "<center><img src=\"images/01.035.jpg\"  style=\"width: 400px, height: 300px;\"/></center>\n"
   ]
  },
  {
   "cell_type": "markdown",
   "metadata": {},
   "source": [
    "- See examples inside exercises\n"
   ]
  }
 ],
 "metadata": {
  "kernelspec": {
   "display_name": "Python 3.8.11 ('env_py')",
   "language": "python",
   "name": "python3"
  },
  "language_info": {
   "name": "python",
   "version": "3.8.11"
  },
  "orig_nbformat": 4,
  "vscode": {
   "interpreter": {
    "hash": "1e949e87132dd83f1a7623eb88007e3532b03b66b77111be347aa4a383049722"
   }
  }
 },
 "nbformat": 4,
 "nbformat_minor": 2
}
