{
 "cells": [
  {
   "cell_type": "markdown",
   "metadata": {},
   "source": [
    "# Working with dates"
   ]
  },
  {
   "cell_type": "markdown",
   "metadata": {},
   "source": [
    "- Date: 2020/09/20 12:52\n",
    "\n",
    "- `YEAR(date_col)` > 2020\n",
    "- `QUARTER(date_col)` > 3\n",
    "- `MONTH(date_col)` > 9\n",
    "- Weekday: `FORMAT(date_col, <\"dddd\">)` > Friday\n",
    "- Time: `FORMAT(date_col, <\"h:nn:ss\">)` > \"12:52:00\"\n",
    "- `LASTDATE()`\n",
    "- `DATESBETWEEN()`\n",
    "- `DATEADD()`\n",
    "\n",
    "- Out of the box features:\n",
    "    - 20+ Date and Time Functions\n",
    "    - 30+ Time Intelligence Functions\n",
    "    - Automatically enabled date hierarchies\n",
    "    - Drill-able to year, quarter, month and day\n",
    "- https://learn.microsoft.com/en-us/dax/date-and-time-functions-dax\n",
    "- https://dax.guide/format/\n",
    "- See Power BI dax functions for date and time in documentation"
   ]
  },
  {
   "cell_type": "markdown",
   "metadata": {},
   "source": [
    "# The importance of a date table"
   ]
  },
  {
   "cell_type": "markdown",
   "metadata": {},
   "source": [
    "- Issues of relying on only dates from transactional tables:\n",
    "    - Gaps in dates i.e no sales made on 20th September\n",
    "    - Returns wrong results when using time-intelligence functions\n",
    "        - No error, wrong result\n",
    "        - Difficult to troubleshoot\n",
    "- A dedicated date table is highly recommended for accurate reporting using time intelligence functions.\n",
    "- Benefits:\n",
    "    - Filter by multiple date attributes such as Year and Month\n",
    "    - Custom calendar view/de,nitions such as fiscal dates\n",
    "    - Use of time-intelligence features to select a time horizon (e.g Today, Yesterday, Last 30 days)\n"
   ]
  },
  {
   "cell_type": "markdown",
   "metadata": {},
   "source": [
    "# Creating a Date table"
   ]
  },
  {
   "cell_type": "markdown",
   "metadata": {},
   "source": [
    "- `CALENDAR()`\n",
    "    - Syntax: `CALENDAR(<start_date>, <end_date>)`\n",
    "    - Returns a table with a single column 'date' that contains a continuous set of dates inclusive of the specified dates\n",
    "    - Example: `CALENDAR('2020-01-01', '2020-12-31')`\n",
    "\n",
    "- `CALENDARAUTO()`\n",
    "    - Syntax: `CALENDARAUTO(<fiscal_year_end_month>)`\n",
    "    - Returns a table with a single column 'date' that automatically takes the earliest and latest date in the model and internally calls `CALENDAR()` .\n",
    "    - Example: `CALENDARAUTO(12)`"
   ]
  },
  {
   "cell_type": "markdown",
   "metadata": {},
   "source": [
    "# Create New Date Table"
   ]
  },
  {
   "cell_type": "markdown",
   "metadata": {},
   "source": [
    "- Create a table from `Modeling` > `New table`\n",
    "- Use `CALENDARAUTO()` or `CALENDAR()` to create a calendar\n",
    "- Go to `Model` View to see if the table is created"
   ]
  },
  {
   "cell_type": "markdown",
   "metadata": {},
   "source": [
    "<center><img src=\"images/03.031.jpg\"  style=\"width: 400px, height: 300px;\"/></center>\n",
    "<center><img src=\"images/03.032.jpg\"  style=\"width: 400px, height: 300px;\"/></center>\n",
    "<center><img src=\"images/03.033.jpg\"  style=\"width: 400px, height: 300px;\"/></center>\n"
   ]
  },
  {
   "cell_type": "markdown",
   "metadata": {},
   "source": [
    "# Quick Measures"
   ]
  },
  {
   "cell_type": "markdown",
   "metadata": {},
   "source": [
    "- Allows to create complex DAX functions with drag and drop interface\n",
    "- Click on `Quick Measure`\n",
    "- Select what you want to `calculate` from certain `fields`"
   ]
  },
  {
   "cell_type": "markdown",
   "metadata": {},
   "source": [
    "<center><img src=\"images/03.034.jpg\"  style=\"width: 400px, height: 300px;\"/></center>\n",
    "<center><img src=\"images/03.035.jpg\"  style=\"width: 400px, height: 300px;\"/></center>\n",
    "<center><img src=\"images/03.036.jpg\"  style=\"width: 400px, height: 300px;\"/></center>\n",
    "<center><img src=\"images/03.037.jpg\"  style=\"width: 400px, height: 300px;\"/></center>\n"
   ]
  },
  {
   "cell_type": "markdown",
   "metadata": {},
   "source": [
    "# Visualizing From Date Table"
   ]
  },
  {
   "cell_type": "markdown",
   "metadata": {},
   "source": [
    "- When visualizing with your date table to compare different columns, make sure to put the `date` in `Shared Axis`"
   ]
  },
  {
   "cell_type": "markdown",
   "metadata": {},
   "source": [
    "<center><img src=\"images/03.038.jpg\"  style=\"width: 400px, height: 300px;\"/></center>\n"
   ]
  },
  {
   "cell_type": "markdown",
   "metadata": {},
   "source": [
    "- See examples inside exercises\n"
   ]
  }
 ],
 "metadata": {
  "kernelspec": {
   "display_name": "Python 3.8.11 ('env_py')",
   "language": "python",
   "name": "python3"
  },
  "language_info": {
   "name": "python",
   "version": "3.8.11"
  },
  "orig_nbformat": 4,
  "vscode": {
   "interpreter": {
    "hash": "1e949e87132dd83f1a7623eb88007e3532b03b66b77111be347aa4a383049722"
   }
  }
 },
 "nbformat": 4,
 "nbformat_minor": 2
}
